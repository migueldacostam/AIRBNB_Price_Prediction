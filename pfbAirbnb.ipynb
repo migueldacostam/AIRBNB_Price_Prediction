{
 "cells": [
  {
   "cell_type": "code",
   "execution_count": null,
   "id": "e28f80cd-5e4a-4295-a853-19cbcdee7ff4",
   "metadata": {
    "tags": []
   },
   "outputs": [],
   "source": [
    "import pandas as pd\n",
    "import numpy as np\n",
    "import warnings\n",
    "warnings.simplefilter(action='ignore', category=FutureWarning)"
   ]
  },
  {
   "cell_type": "markdown",
   "id": "f4dd58a3-9e8c-49e1-b22a-73be8948c338",
   "metadata": {},
   "source": [
    "# Leer CSV"
   ]
  },
  {
   "cell_type": "code",
   "execution_count": null,
   "id": "3c2836dd-1143-44ed-aa39-f42865fe5cd4",
   "metadata": {
    "tags": []
   },
   "outputs": [
    {
     "data": {
      "text/html": [
       "<div>\n",
       "<style scoped>\n",
       "    .dataframe tbody tr th:only-of-type {\n",
       "        vertical-align: middle;\n",
       "    }\n",
       "\n",
       "    .dataframe tbody tr th {\n",
       "        vertical-align: top;\n",
       "    }\n",
       "\n",
       "    .dataframe thead th {\n",
       "        text-align: right;\n",
       "    }\n",
       "</style>\n",
       "<table border=\"1\" class=\"dataframe\">\n",
       "  <thead>\n",
       "    <tr style=\"text-align: right;\">\n",
       "      <th></th>\n",
       "      <th>id</th>\n",
       "      <th>listing_url</th>\n",
       "      <th>scrape_id</th>\n",
       "      <th>last_scraped</th>\n",
       "      <th>source</th>\n",
       "      <th>name</th>\n",
       "      <th>description</th>\n",
       "      <th>neighborhood_overview</th>\n",
       "      <th>picture_url</th>\n",
       "      <th>host_id</th>\n",
       "      <th>...</th>\n",
       "      <th>review_scores_communication</th>\n",
       "      <th>review_scores_location</th>\n",
       "      <th>review_scores_value</th>\n",
       "      <th>license</th>\n",
       "      <th>instant_bookable</th>\n",
       "      <th>calculated_host_listings_count</th>\n",
       "      <th>calculated_host_listings_count_entire_homes</th>\n",
       "      <th>calculated_host_listings_count_private_rooms</th>\n",
       "      <th>calculated_host_listings_count_shared_rooms</th>\n",
       "      <th>reviews_per_month</th>\n",
       "    </tr>\n",
       "  </thead>\n",
       "  <tbody>\n",
       "    <tr>\n",
       "      <th>0</th>\n",
       "      <td>269467</td>\n",
       "      <td>https://www.airbnb.com/rooms/269467</td>\n",
       "      <td>20240615011618</td>\n",
       "      <td>2024-06-15</td>\n",
       "      <td>city scrape</td>\n",
       "      <td>Sunny and quiet Loft next to Sagrada Familia</td>\n",
       "      <td>The apartment is a cosy open space with 65 m2....</td>\n",
       "      <td>NaN</td>\n",
       "      <td>https://a0.muscache.com/pictures/a6445a90-94eb...</td>\n",
       "      <td>1411775</td>\n",
       "      <td>...</td>\n",
       "      <td>4.79</td>\n",
       "      <td>4.81</td>\n",
       "      <td>4.67</td>\n",
       "      <td>HUTB-001129</td>\n",
       "      <td>t</td>\n",
       "      <td>3</td>\n",
       "      <td>3</td>\n",
       "      <td>0</td>\n",
       "      <td>0</td>\n",
       "      <td>1.15</td>\n",
       "    </tr>\n",
       "  </tbody>\n",
       "</table>\n",
       "<p>1 rows × 75 columns</p>\n",
       "</div>"
      ],
      "text/plain": [
       "       id                          listing_url       scrape_id last_scraped  \\\n",
       "0  269467  https://www.airbnb.com/rooms/269467  20240615011618   2024-06-15   \n",
       "\n",
       "        source                                          name  \\\n",
       "0  city scrape  Sunny and quiet Loft next to Sagrada Familia   \n",
       "\n",
       "                                         description neighborhood_overview  \\\n",
       "0  The apartment is a cosy open space with 65 m2....                   NaN   \n",
       "\n",
       "                                         picture_url  host_id  ...  \\\n",
       "0  https://a0.muscache.com/pictures/a6445a90-94eb...  1411775  ...   \n",
       "\n",
       "  review_scores_communication review_scores_location review_scores_value  \\\n",
       "0                        4.79                   4.81                4.67   \n",
       "\n",
       "       license instant_bookable calculated_host_listings_count  \\\n",
       "0  HUTB-001129                t                              3   \n",
       "\n",
       "  calculated_host_listings_count_entire_homes  \\\n",
       "0                                           3   \n",
       "\n",
       "  calculated_host_listings_count_private_rooms  \\\n",
       "0                                            0   \n",
       "\n",
       "  calculated_host_listings_count_shared_rooms reviews_per_month  \n",
       "0                                           0              1.15  \n",
       "\n",
       "[1 rows x 75 columns]"
      ]
     },
     "execution_count": 4,
     "metadata": {},
     "output_type": "execute_result"
    }
   ],
   "source": [
    "listings = pd.read_csv(\"listings.csv\")\n",
    "listings.head(1)"
   ]
  },
  {
   "cell_type": "markdown",
   "id": "606cc871-997d-41de-9f40-ffaba7b9b936",
   "metadata": {},
   "source": [
    "### Shape"
   ]
  },
  {
   "cell_type": "code",
   "execution_count": null,
   "id": "df45ee78-1bfe-48ba-9dea-930994996082",
   "metadata": {
    "tags": []
   },
   "outputs": [
    {
     "data": {
      "text/plain": [
       "(18925, 75)"
      ]
     },
     "execution_count": 6,
     "metadata": {},
     "output_type": "execute_result"
    }
   ],
   "source": [
    "listings.shape"
   ]
  },
  {
   "cell_type": "markdown",
   "id": "f81367bb-6ee7-4504-8219-e88297309682",
   "metadata": {},
   "source": [
    "### Columns"
   ]
  },
  {
   "cell_type": "code",
   "execution_count": null,
   "id": "6e579773-7f9f-47e1-b1d3-2dc7edbd9f6f",
   "metadata": {
    "tags": []
   },
   "outputs": [
    {
     "data": {
      "text/plain": [
       "['id',\n",
       " 'listing_url',\n",
       " 'scrape_id',\n",
       " 'last_scraped',\n",
       " 'source',\n",
       " 'name',\n",
       " 'description',\n",
       " 'neighborhood_overview',\n",
       " 'picture_url',\n",
       " 'host_id',\n",
       " 'host_url',\n",
       " 'host_name',\n",
       " 'host_since',\n",
       " 'host_location',\n",
       " 'host_about',\n",
       " 'host_response_time',\n",
       " 'host_response_rate',\n",
       " 'host_acceptance_rate',\n",
       " 'host_is_superhost',\n",
       " 'host_thumbnail_url',\n",
       " 'host_picture_url',\n",
       " 'host_neighbourhood',\n",
       " 'host_listings_count',\n",
       " 'host_total_listings_count',\n",
       " 'host_verifications',\n",
       " 'host_has_profile_pic',\n",
       " 'host_identity_verified',\n",
       " 'neighbourhood',\n",
       " 'neighbourhood_cleansed',\n",
       " 'neighbourhood_group_cleansed',\n",
       " 'latitude',\n",
       " 'longitude',\n",
       " 'property_type',\n",
       " 'room_type',\n",
       " 'accommodates',\n",
       " 'bathrooms',\n",
       " 'bathrooms_text',\n",
       " 'bedrooms',\n",
       " 'beds',\n",
       " 'amenities',\n",
       " 'price',\n",
       " 'minimum_nights',\n",
       " 'maximum_nights',\n",
       " 'minimum_minimum_nights',\n",
       " 'maximum_minimum_nights',\n",
       " 'minimum_maximum_nights',\n",
       " 'maximum_maximum_nights',\n",
       " 'minimum_nights_avg_ntm',\n",
       " 'maximum_nights_avg_ntm',\n",
       " 'calendar_updated',\n",
       " 'has_availability',\n",
       " 'availability_30',\n",
       " 'availability_60',\n",
       " 'availability_90',\n",
       " 'availability_365',\n",
       " 'calendar_last_scraped',\n",
       " 'number_of_reviews',\n",
       " 'number_of_reviews_ltm',\n",
       " 'number_of_reviews_l30d',\n",
       " 'first_review',\n",
       " 'last_review',\n",
       " 'review_scores_rating',\n",
       " 'review_scores_accuracy',\n",
       " 'review_scores_cleanliness',\n",
       " 'review_scores_checkin',\n",
       " 'review_scores_communication',\n",
       " 'review_scores_location',\n",
       " 'review_scores_value',\n",
       " 'license',\n",
       " 'instant_bookable',\n",
       " 'calculated_host_listings_count',\n",
       " 'calculated_host_listings_count_entire_homes',\n",
       " 'calculated_host_listings_count_private_rooms',\n",
       " 'calculated_host_listings_count_shared_rooms',\n",
       " 'reviews_per_month']"
      ]
     },
     "execution_count": 8,
     "metadata": {},
     "output_type": "execute_result"
    }
   ],
   "source": [
    "list(listings.columns)"
   ]
  },
  {
   "cell_type": "markdown",
   "id": "9e79e91e-b73b-4063-ab63-038de77ad3d4",
   "metadata": {},
   "source": [
    "### Sample"
   ]
  },
  {
   "cell_type": "code",
   "execution_count": null,
   "id": "0fa560bc-eb7c-41ff-b670-1c9665c2c1a9",
   "metadata": {
    "tags": []
   },
   "outputs": [
    {
     "data": {
      "text/html": [
       "<div>\n",
       "<style scoped>\n",
       "    .dataframe tbody tr th:only-of-type {\n",
       "        vertical-align: middle;\n",
       "    }\n",
       "\n",
       "    .dataframe tbody tr th {\n",
       "        vertical-align: top;\n",
       "    }\n",
       "\n",
       "    .dataframe thead th {\n",
       "        text-align: right;\n",
       "    }\n",
       "</style>\n",
       "<table border=\"1\" class=\"dataframe\">\n",
       "  <thead>\n",
       "    <tr style=\"text-align: right;\">\n",
       "      <th></th>\n",
       "      <th>id</th>\n",
       "      <th>listing_url</th>\n",
       "      <th>scrape_id</th>\n",
       "      <th>last_scraped</th>\n",
       "      <th>source</th>\n",
       "      <th>name</th>\n",
       "      <th>description</th>\n",
       "      <th>neighborhood_overview</th>\n",
       "      <th>picture_url</th>\n",
       "      <th>host_id</th>\n",
       "      <th>...</th>\n",
       "      <th>review_scores_communication</th>\n",
       "      <th>review_scores_location</th>\n",
       "      <th>review_scores_value</th>\n",
       "      <th>license</th>\n",
       "      <th>instant_bookable</th>\n",
       "      <th>calculated_host_listings_count</th>\n",
       "      <th>calculated_host_listings_count_entire_homes</th>\n",
       "      <th>calculated_host_listings_count_private_rooms</th>\n",
       "      <th>calculated_host_listings_count_shared_rooms</th>\n",
       "      <th>reviews_per_month</th>\n",
       "    </tr>\n",
       "  </thead>\n",
       "  <tbody>\n",
       "    <tr>\n",
       "      <th>13466</th>\n",
       "      <td>877483571159475574</td>\n",
       "      <td>https://www.airbnb.com/rooms/877483571159475574</td>\n",
       "      <td>20240615011618</td>\n",
       "      <td>2024-06-15</td>\n",
       "      <td>city scrape</td>\n",
       "      <td>SweetGaudìHome</td>\n",
       "      <td>My cozy appartament is the perfect choice for ...</td>\n",
       "      <td>NaN</td>\n",
       "      <td>https://a0.muscache.com/pictures/ae65c412-27d3...</td>\n",
       "      <td>213758720</td>\n",
       "      <td>...</td>\n",
       "      <td>3.33</td>\n",
       "      <td>4.0</td>\n",
       "      <td>3.0</td>\n",
       "      <td>HUTB-005729</td>\n",
       "      <td>f</td>\n",
       "      <td>1</td>\n",
       "      <td>1</td>\n",
       "      <td>0</td>\n",
       "      <td>0</td>\n",
       "      <td>0.32</td>\n",
       "    </tr>\n",
       "  </tbody>\n",
       "</table>\n",
       "<p>1 rows × 75 columns</p>\n",
       "</div>"
      ],
      "text/plain": [
       "                       id                                      listing_url  \\\n",
       "13466  877483571159475574  https://www.airbnb.com/rooms/877483571159475574   \n",
       "\n",
       "            scrape_id last_scraped       source            name  \\\n",
       "13466  20240615011618   2024-06-15  city scrape  SweetGaudìHome   \n",
       "\n",
       "                                             description  \\\n",
       "13466  My cozy appartament is the perfect choice for ...   \n",
       "\n",
       "      neighborhood_overview  \\\n",
       "13466                   NaN   \n",
       "\n",
       "                                             picture_url    host_id  ...  \\\n",
       "13466  https://a0.muscache.com/pictures/ae65c412-27d3...  213758720  ...   \n",
       "\n",
       "      review_scores_communication review_scores_location review_scores_value  \\\n",
       "13466                        3.33                    4.0                 3.0   \n",
       "\n",
       "           license instant_bookable calculated_host_listings_count  \\\n",
       "13466  HUTB-005729                f                              1   \n",
       "\n",
       "      calculated_host_listings_count_entire_homes  \\\n",
       "13466                                           1   \n",
       "\n",
       "      calculated_host_listings_count_private_rooms  \\\n",
       "13466                                            0   \n",
       "\n",
       "      calculated_host_listings_count_shared_rooms reviews_per_month  \n",
       "13466                                           0              0.32  \n",
       "\n",
       "[1 rows x 75 columns]"
      ]
     },
     "execution_count": 10,
     "metadata": {},
     "output_type": "execute_result"
    }
   ],
   "source": [
    "listings.sample()"
   ]
  },
  {
   "cell_type": "markdown",
   "id": "88ad0474-dbe1-429e-bae8-496ab9777874",
   "metadata": {},
   "source": [
    "# Columnas a eliminar "
   ]
  },
  {
   "cell_type": "markdown",
   "id": "639b3084-7458-4229-bba4-9c70f903c282",
   "metadata": {},
   "source": [
    "columnas_a_eliminar = ['id', 'listing_url', 'scrape_id', 'last_scraped', 'source','neighborhood_overview','picture_url','host_id', 'host_url', 'host_name','host_about', 'host_response_time', 'host_response_rate', 'host_acceptance_rate', 'host_thumbnail_url', 'host_neighbourhood', 'host_listings_count', 'host_total_listings_count', 'host_verifications', 'neighbourhood', 'neighbourhood_cleansed', 'minimum_minimum_nights','maximum_minimum_nights', 'minimum_maximum_nights', 'maximum_maximum_nights', 'minimum_nights_avg_ntm','maximum_nights_avg_ntm', 'calendar_updated', 'availability_90', 'availability_365', 'calendar_last_scraped', 'number_of_reviews','number_of_reviews_ltm', 'number_of_reviews_l30d', 'first_review', 'last_review', 'review_scores_accuracy', 'calculated_host_listings_count', 'calculated_host_listings_count_entire_homes', 'calculated_host_listings_count_private_rooms','calculated_host_listings_count_shared_rooms']"
   ]
  },
  {
   "cell_type": "code",
   "execution_count": null,
   "id": "1cdf280f-3082-4df1-a62d-c90a8934fffc",
   "metadata": {
    "tags": []
   },
   "outputs": [],
   "source": [
    "columnas_a_eliminar = [0,1,2,3,4,7,8,9,10,11,14,15,16,17,19,20,21,22,23,24,27,28,43,44,45,46,47,48,49,53,54,55,57,58,59,62,70,71,72,73]\n",
    "listings_clean = listings.drop(listings.columns[columnas_a_eliminar], axis=1)"
   ]
  },
  {
   "cell_type": "markdown",
   "id": "4b1e0fd0-2ad5-41a3-9af0-4078f97937ab",
   "metadata": {},
   "source": [
    "### Shape"
   ]
  },
  {
   "cell_type": "code",
   "execution_count": null,
   "id": "6c599770-09f7-48e4-a7d7-b3fed09fab6d",
   "metadata": {
    "tags": []
   },
   "outputs": [
    {
     "data": {
      "text/plain": [
       "(18925, 35)"
      ]
     },
     "execution_count": 15,
     "metadata": {},
     "output_type": "execute_result"
    }
   ],
   "source": [
    "listings_clean.shape"
   ]
  },
  {
   "cell_type": "markdown",
   "id": "d5d2d2fd-dd75-4d31-9825-84796e3cd315",
   "metadata": {},
   "source": [
    "### info"
   ]
  },
  {
   "cell_type": "code",
   "execution_count": null,
   "id": "5ce04663-bf50-44d5-b1df-89bc78d45d20",
   "metadata": {
    "tags": []
   },
   "outputs": [
    {
     "name": "stdout",
     "output_type": "stream",
     "text": [
      "<class 'pandas.core.frame.DataFrame'>\n",
      "RangeIndex: 18925 entries, 0 to 18924\n",
      "Data columns (total 35 columns):\n",
      " #   Column                        Non-Null Count  Dtype  \n",
      "---  ------                        --------------  -----  \n",
      " 0   name                          18925 non-null  object \n",
      " 1   description                   18242 non-null  object \n",
      " 2   host_since                    18923 non-null  object \n",
      " 3   host_location                 14497 non-null  object \n",
      " 4   host_is_superhost             18801 non-null  object \n",
      " 5   host_has_profile_pic          18923 non-null  object \n",
      " 6   host_identity_verified        18923 non-null  object \n",
      " 7   neighbourhood_group_cleansed  18925 non-null  object \n",
      " 8   latitude                      18925 non-null  float64\n",
      " 9   longitude                     18925 non-null  float64\n",
      " 10  property_type                 18925 non-null  object \n",
      " 11  room_type                     18925 non-null  object \n",
      " 12  accommodates                  18925 non-null  int64  \n",
      " 13  bathrooms                     15182 non-null  float64\n",
      " 14  bathrooms_text                18902 non-null  object \n",
      " 15  bedrooms                      17043 non-null  float64\n",
      " 16  beds                          15087 non-null  float64\n",
      " 17  amenities                     18925 non-null  object \n",
      " 18  price                         15189 non-null  object \n",
      " 19  minimum_nights                18925 non-null  int64  \n",
      " 20  maximum_nights                18925 non-null  int64  \n",
      " 21  has_availability              17875 non-null  object \n",
      " 22  availability_30               18925 non-null  int64  \n",
      " 23  availability_60               18925 non-null  int64  \n",
      " 24  number_of_reviews             18925 non-null  int64  \n",
      " 25  last_review                   14138 non-null  object \n",
      " 26  review_scores_rating          14138 non-null  float64\n",
      " 27  review_scores_cleanliness     14117 non-null  float64\n",
      " 28  review_scores_checkin         14115 non-null  float64\n",
      " 29  review_scores_communication   14118 non-null  float64\n",
      " 30  review_scores_location        14115 non-null  float64\n",
      " 31  review_scores_value           14116 non-null  float64\n",
      " 32  license                       12787 non-null  object \n",
      " 33  instant_bookable              18925 non-null  object \n",
      " 34  reviews_per_month             14138 non-null  float64\n",
      "dtypes: float64(12), int64(6), object(17)\n",
      "memory usage: 5.1+ MB\n"
     ]
    }
   ],
   "source": [
    "listings_clean.info()"
   ]
  },
  {
   "cell_type": "markdown",
   "id": "ea0d8cf6-b966-470f-a448-51f1c57f5b5d",
   "metadata": {},
   "source": [
    "### Nulos"
   ]
  },
  {
   "cell_type": "code",
   "execution_count": null,
   "id": "6bbef3c7-6478-4d6e-9252-bac21de9ab9e",
   "metadata": {
    "tags": []
   },
   "outputs": [
    {
     "data": {
      "text/plain": [
       "name                               0\n",
       "description                      683\n",
       "host_since                         2\n",
       "host_location                   4428\n",
       "host_is_superhost                124\n",
       "host_has_profile_pic               2\n",
       "host_identity_verified             2\n",
       "neighbourhood_group_cleansed       0\n",
       "latitude                           0\n",
       "longitude                          0\n",
       "property_type                      0\n",
       "room_type                          0\n",
       "accommodates                       0\n",
       "bathrooms                       3743\n",
       "bathrooms_text                    23\n",
       "bedrooms                        1882\n",
       "beds                            3838\n",
       "amenities                          0\n",
       "price                           3736\n",
       "minimum_nights                     0\n",
       "maximum_nights                     0\n",
       "has_availability                1050\n",
       "availability_30                    0\n",
       "availability_60                    0\n",
       "number_of_reviews                  0\n",
       "last_review                     4787\n",
       "review_scores_rating            4787\n",
       "review_scores_cleanliness       4808\n",
       "review_scores_checkin           4810\n",
       "review_scores_communication     4807\n",
       "review_scores_location          4810\n",
       "review_scores_value             4809\n",
       "license                         6138\n",
       "instant_bookable                   0\n",
       "reviews_per_month               4787\n",
       "dtype: int64"
      ]
     },
     "execution_count": 19,
     "metadata": {},
     "output_type": "execute_result"
    }
   ],
   "source": [
    "listings_clean.isnull().sum()"
   ]
  },
  {
   "cell_type": "code",
   "execution_count": null,
   "id": "183541d2-5c77-4cc3-ae31-44a62888dea8",
   "metadata": {
    "tags": []
   },
   "outputs": [
    {
     "data": {
      "text/plain": [
       "name                             0.000000\n",
       "description                      3.608983\n",
       "host_since                       0.010568\n",
       "host_location                   23.397622\n",
       "host_is_superhost                0.655218\n",
       "host_has_profile_pic             0.010568\n",
       "host_identity_verified           0.010568\n",
       "neighbourhood_group_cleansed     0.000000\n",
       "latitude                         0.000000\n",
       "longitude                        0.000000\n",
       "property_type                    0.000000\n",
       "room_type                        0.000000\n",
       "accommodates                     0.000000\n",
       "bathrooms                       19.778071\n",
       "bathrooms_text                   0.121532\n",
       "bedrooms                         9.944518\n",
       "beds                            20.280053\n",
       "amenities                        0.000000\n",
       "price                           19.741083\n",
       "minimum_nights                   0.000000\n",
       "maximum_nights                   0.000000\n",
       "has_availability                 5.548217\n",
       "availability_30                  0.000000\n",
       "availability_60                  0.000000\n",
       "number_of_reviews                0.000000\n",
       "last_review                     25.294584\n",
       "review_scores_rating            25.294584\n",
       "review_scores_cleanliness       25.405548\n",
       "review_scores_checkin           25.416116\n",
       "review_scores_communication     25.400264\n",
       "review_scores_location          25.416116\n",
       "review_scores_value             25.410832\n",
       "license                         32.433289\n",
       "instant_bookable                 0.000000\n",
       "reviews_per_month               25.294584\n",
       "dtype: float64"
      ]
     },
     "execution_count": 20,
     "metadata": {},
     "output_type": "execute_result"
    }
   ],
   "source": [
    "listings_clean.isnull().mean() * 100"
   ]
  },
  {
   "cell_type": "markdown",
   "id": "ddc1485e-2b64-4164-9c90-52f147016cd3",
   "metadata": {},
   "source": [
    "# Mis Columnas"
   ]
  },
  {
   "cell_type": "markdown",
   "id": "960ba4a6-d296-4304-894f-dff7c08983ff",
   "metadata": {},
   "source": [
    "'has_availability', 'availability_30', 'availability_60', 'number_of_reviews', 'last_review', 'review_scores_rating', 'review_scores_cleanliness'"
   ]
  },
  {
   "cell_type": "code",
   "execution_count": null,
   "id": "eb99707a-eeb8-44af-98b9-225561d70f87",
   "metadata": {
    "tags": []
   },
   "outputs": [
    {
     "data": {
      "text/plain": [
       "1050"
      ]
     },
     "execution_count": 23,
     "metadata": {},
     "output_type": "execute_result"
    }
   ],
   "source": [
    "listings_clean[\"has_availability\"].isnull().sum()"
   ]
  },
  {
   "cell_type": "code",
   "execution_count": null,
   "id": "2019b764-39c7-4403-a6e9-b41b0f0e8892",
   "metadata": {
    "tags": []
   },
   "outputs": [
    {
     "data": {
      "text/plain": [
       "0"
      ]
     },
     "execution_count": 24,
     "metadata": {},
     "output_type": "execute_result"
    }
   ],
   "source": [
    "listings_clean[\"availability_30\"].isnull().sum()"
   ]
  },
  {
   "cell_type": "code",
   "execution_count": null,
   "id": "e7079d1e-d812-4934-993e-973cf9fd5bb4",
   "metadata": {
    "tags": []
   },
   "outputs": [
    {
     "data": {
      "text/plain": [
       "0"
      ]
     },
     "execution_count": 25,
     "metadata": {},
     "output_type": "execute_result"
    }
   ],
   "source": [
    "listings_clean[\"availability_60\"].isnull().sum()"
   ]
  },
  {
   "cell_type": "code",
   "execution_count": null,
   "id": "691bee9e-bbcb-4643-85bf-7e4fa98626da",
   "metadata": {
    "tags": []
   },
   "outputs": [
    {
     "data": {
      "text/plain": [
       "0"
      ]
     },
     "execution_count": 26,
     "metadata": {},
     "output_type": "execute_result"
    }
   ],
   "source": [
    "listings_clean[\"number_of_reviews\"].isnull().sum()"
   ]
  },
  {
   "cell_type": "code",
   "execution_count": null,
   "id": "2898e54a-ef38-4a3d-ac93-6d5dc90ca938",
   "metadata": {
    "tags": []
   },
   "outputs": [
    {
     "data": {
      "text/plain": [
       "4787"
      ]
     },
     "execution_count": 27,
     "metadata": {},
     "output_type": "execute_result"
    }
   ],
   "source": [
    "listings_clean[\"last_review\"].isnull().sum()"
   ]
  },
  {
   "cell_type": "code",
   "execution_count": null,
   "id": "692e2cbe-220c-4ef8-b533-865841eac3d0",
   "metadata": {
    "tags": []
   },
   "outputs": [
    {
     "data": {
      "text/plain": [
       "4787"
      ]
     },
     "execution_count": 28,
     "metadata": {},
     "output_type": "execute_result"
    }
   ],
   "source": [
    "listings_clean[\"review_scores_rating\"].isnull().sum()"
   ]
  },
  {
   "cell_type": "code",
   "execution_count": null,
   "id": "c343d150-143e-4e7e-9639-e875bfbce3ac",
   "metadata": {
    "tags": []
   },
   "outputs": [
    {
     "data": {
      "text/plain": [
       "4808"
      ]
     },
     "execution_count": 29,
     "metadata": {},
     "output_type": "execute_result"
    }
   ],
   "source": [
    "listings_clean[\"review_scores_cleanliness\"].isnull().sum()"
   ]
  },
  {
   "cell_type": "markdown",
   "id": "9d6fa258-9492-4d1a-92b0-a64d6b7dcb54",
   "metadata": {},
   "source": [
    "### Columna \"price\"\n",
    "\n",
    "eliminar los valores nulos de la columna \"price\""
   ]
  },
  {
   "cell_type": "code",
   "execution_count": null,
   "id": "23bb26af-c0b0-423f-a957-943f401ca73e",
   "metadata": {
    "tags": []
   },
   "outputs": [
    {
     "data": {
      "text/plain": [
       "3736"
      ]
     },
     "execution_count": 31,
     "metadata": {},
     "output_type": "execute_result"
    }
   ],
   "source": [
    "listings_clean[\"price\"].isnull().sum()"
   ]
  },
  {
   "cell_type": "code",
   "execution_count": null,
   "id": "b2e090f9-49c1-4886-9c59-b516e461b566",
   "metadata": {
    "tags": []
   },
   "outputs": [],
   "source": [
    "listings_clean = listings_clean.dropna(subset=[\"price\"])"
   ]
  },
  {
   "cell_type": "code",
   "execution_count": null,
   "id": "b66432e0-d6f8-421c-a7d1-76cda8f8f02a",
   "metadata": {
    "tags": []
   },
   "outputs": [],
   "source": [
    "listings_clean['price'] = listings_clean['price'].str.replace('[\\$,]', '', regex=True).astype(float)"
   ]
  },
  {
   "cell_type": "code",
   "execution_count": null,
   "id": "2ff74b7b-119a-4948-a327-c906350eb754",
   "metadata": {
    "tags": []
   },
   "outputs": [
    {
     "data": {
      "text/plain": [
       "0"
      ]
     },
     "execution_count": 34,
     "metadata": {},
     "output_type": "execute_result"
    }
   ],
   "source": [
    "listings_clean[\"price\"].isnull().sum()"
   ]
  },
  {
   "cell_type": "code",
   "execution_count": null,
   "id": "e39063bd-b884-4086-9ee5-10efc6ba8bbd",
   "metadata": {
    "tags": []
   },
   "outputs": [
    {
     "data": {
      "text/plain": [
       "(15189, 35)"
      ]
     },
     "execution_count": 35,
     "metadata": {},
     "output_type": "execute_result"
    }
   ],
   "source": [
    "listings_clean.shape"
   ]
  },
  {
   "cell_type": "code",
   "execution_count": null,
   "id": "dda99331-e8cb-4a92-9a45-eef91328fb13",
   "metadata": {
    "tags": []
   },
   "outputs": [
    {
     "data": {
      "text/plain": [
       "count    15189.000000\n",
       "mean       196.379419\n",
       "std        327.988747\n",
       "min         10.000000\n",
       "25%         70.000000\n",
       "50%        136.000000\n",
       "75%        248.000000\n",
       "max      13714.000000\n",
       "Name: price, dtype: float64"
      ]
     },
     "execution_count": 36,
     "metadata": {},
     "output_type": "execute_result"
    }
   ],
   "source": [
    "listings_clean[\"price\"].describe()"
   ]
  },
  {
   "cell_type": "markdown",
   "id": "42977c7d-5b18-4371-9f5a-f6c8e13626de",
   "metadata": {},
   "source": [
    "### Columna \"has_availability\""
   ]
  },
  {
   "cell_type": "code",
   "execution_count": null,
   "id": "74fe1173-ddf8-46bc-9103-a8d67d6a1384",
   "metadata": {
    "tags": []
   },
   "outputs": [
    {
     "data": {
      "text/plain": [
       "count     15100\n",
       "unique        2\n",
       "top           t\n",
       "freq      15079\n",
       "Name: has_availability, dtype: object"
      ]
     },
     "execution_count": 38,
     "metadata": {},
     "output_type": "execute_result"
    }
   ],
   "source": [
    "listings_clean['has_availability'].describe()"
   ]
  },
  {
   "cell_type": "code",
   "execution_count": null,
   "id": "2e100fdf-c731-4e6f-8395-f8a83fea2f57",
   "metadata": {
    "tags": []
   },
   "outputs": [],
   "source": [
    "# Llena celdas vacias con False\n",
    "listings_clean['has_availability'] = listings_clean['has_availability'].map({'t': True, 'no': False}).fillna(False) "
   ]
  },
  {
   "cell_type": "code",
   "execution_count": null,
   "id": "cfca385a-8352-4d8f-bf98-3d037f5ea191",
   "metadata": {
    "tags": []
   },
   "outputs": [
    {
     "data": {
      "text/plain": [
       "0"
      ]
     },
     "execution_count": 40,
     "metadata": {},
     "output_type": "execute_result"
    }
   ],
   "source": [
    "listings_clean[\"has_availability\"].isnull().sum()"
   ]
  },
  {
   "cell_type": "code",
   "execution_count": null,
   "id": "ddc292d6-3747-428e-9fab-c0f29dcbf3da",
   "metadata": {
    "tags": []
   },
   "outputs": [
    {
     "data": {
      "text/plain": [
       "array([ True, False])"
      ]
     },
     "execution_count": 41,
     "metadata": {},
     "output_type": "execute_result"
    }
   ],
   "source": [
    "listings_clean['has_availability'].unique()"
   ]
  },
  {
   "cell_type": "markdown",
   "id": "178d17d1-c6e4-4d10-9fd0-195693dfc153",
   "metadata": {},
   "source": [
    "### Columna \"review_scores_rating\""
   ]
  },
  {
   "cell_type": "code",
   "execution_count": null,
   "id": "3f6283ca-b1d8-4627-9927-48b155d5e681",
   "metadata": {
    "tags": []
   },
   "outputs": [
    {
     "data": {
      "text/plain": [
       "count    11872.000000\n",
       "mean         4.591732\n",
       "std          0.480347\n",
       "min          1.000000\n",
       "25%          4.460000\n",
       "50%          4.700000\n",
       "75%          4.890000\n",
       "max          5.000000\n",
       "Name: review_scores_rating, dtype: float64"
      ]
     },
     "execution_count": 43,
     "metadata": {},
     "output_type": "execute_result"
    }
   ],
   "source": [
    "listings_clean['review_scores_rating'].describe()"
   ]
  },
  {
   "cell_type": "code",
   "execution_count": null,
   "id": "00a7f608-8933-4f84-a971-c23a2a2f0860",
   "metadata": {
    "tags": []
   },
   "outputs": [],
   "source": [
    "listings_clean['review_scores_rating'].fillna(listings_clean['review_scores_rating'].mean(), inplace=True)"
   ]
  },
  {
   "cell_type": "code",
   "execution_count": null,
   "id": "e0aa38f4-4e91-4735-b8a9-e4b56d695f24",
   "metadata": {
    "tags": []
   },
   "outputs": [
    {
     "data": {
      "text/plain": [
       "0"
      ]
     },
     "execution_count": 45,
     "metadata": {},
     "output_type": "execute_result"
    }
   ],
   "source": [
    "listings_clean[\"review_scores_rating\"].isnull().sum()"
   ]
  },
  {
   "cell_type": "markdown",
   "id": "39ac5eae-5935-40e0-96d7-ca45f7978556",
   "metadata": {},
   "source": [
    "### Columna \"review_scores_cleanliness\""
   ]
  },
  {
   "cell_type": "code",
   "execution_count": 47,
   "id": "71f01268-2ee9-4cfe-ba58-c14f0f0b23e4",
   "metadata": {
    "tags": []
   },
   "outputs": [
    {
     "data": {
      "text/plain": [
       "count    11854.000000\n",
       "mean         4.618333\n",
       "std          0.461061\n",
       "min          1.000000\n",
       "25%          4.500000\n",
       "50%          4.740000\n",
       "75%          4.910000\n",
       "max          5.000000\n",
       "Name: review_scores_cleanliness, dtype: float64"
      ]
     },
     "execution_count": 47,
     "metadata": {},
     "output_type": "execute_result"
    }
   ],
   "source": [
    "listings_clean[\"review_scores_cleanliness\"].describe()"
   ]
  },
  {
   "cell_type": "code",
   "execution_count": 48,
   "id": "ac9b8736-3219-4dd1-94cf-e5128a113b79",
   "metadata": {
    "tags": []
   },
   "outputs": [],
   "source": [
    "listings_clean['review_scores_cleanliness'].fillna(listings_clean['review_scores_cleanliness'].mean(), inplace=True)"
   ]
  },
  {
   "cell_type": "code",
   "execution_count": 49,
   "id": "86c333e9-553a-41c0-bb34-6314f6db0c04",
   "metadata": {
    "tags": []
   },
   "outputs": [
    {
     "data": {
      "text/plain": [
       "0"
      ]
     },
     "execution_count": 49,
     "metadata": {},
     "output_type": "execute_result"
    }
   ],
   "source": [
    "listings_clean[\"review_scores_cleanliness\"].isnull().sum()"
   ]
  },
  {
   "cell_type": "markdown",
   "id": "60f16d21-303f-49a8-8796-13aa6b9dcdbd",
   "metadata": {},
   "source": [
    "### Columna \"last_review\""
   ]
  },
  {
   "cell_type": "code",
   "execution_count": 135,
   "id": "57d3c7f4-8afd-4b7a-bcc7-7464f0d6b9a5",
   "metadata": {
    "tags": []
   },
   "outputs": [
    {
     "data": {
      "text/plain": [
       "count    15189.000000\n",
       "mean       193.116240\n",
       "std        304.678562\n",
       "min         52.000000\n",
       "25%         66.000000\n",
       "50%         96.000000\n",
       "75%        193.116240\n",
       "max       4792.000000\n",
       "Name: last_review, dtype: float64"
      ]
     },
     "execution_count": 135,
     "metadata": {},
     "output_type": "execute_result"
    }
   ],
   "source": [
    "listings_clean[\"last_review\"].describe()"
   ]
  },
  {
   "cell_type": "code",
   "execution_count": 51,
   "id": "cb251aa8-6f0b-44bc-920b-37a6b8676776",
   "metadata": {
    "tags": []
   },
   "outputs": [
    {
     "data": {
      "text/plain": [
       "3317"
      ]
     },
     "execution_count": 51,
     "metadata": {},
     "output_type": "execute_result"
    }
   ],
   "source": [
    "listings_clean[\"last_review\"].isnull().sum()"
   ]
  },
  {
   "cell_type": "code",
   "execution_count": 123,
   "id": "2b1c602d-3c29-46c9-897d-22fde771b440",
   "metadata": {
    "tags": []
   },
   "outputs": [],
   "source": [
    "listings_clean['last_review'] = pd.to_datetime(listings_clean['last_review'])\n",
    "fecha_especifica = pd.Timestamp('2024-08-05')\n",
    "listings_clean['last_review'] = (fecha_especifica - listings_clean['last_review']).dt.days"
   ]
  },
  {
   "cell_type": "code",
   "execution_count": 125,
   "id": "1df1abbb-bf3a-4e70-bd05-a25f502bbae8",
   "metadata": {
    "tags": []
   },
   "outputs": [
    {
     "data": {
      "text/plain": [
       "count    11872.000000\n",
       "mean       193.116240\n",
       "std        344.626397\n",
       "min         52.000000\n",
       "25%         63.000000\n",
       "50%         75.000000\n",
       "75%        156.000000\n",
       "max       4792.000000\n",
       "Name: last_review, dtype: float64"
      ]
     },
     "execution_count": 125,
     "metadata": {},
     "output_type": "execute_result"
    }
   ],
   "source": [
    "listings_clean['last_review'].describe()"
   ]
  },
  {
   "cell_type": "code",
   "execution_count": 133,
   "id": "276f92b2-1400-43c0-899d-f38868b31c9b",
   "metadata": {
    "tags": []
   },
   "outputs": [],
   "source": [
    "promedio_dias = listings_clean['last_review'].mean()\n",
    "\n",
    "listings_clean['last_review'].fillna(promedio_dias, inplace=True)"
   ]
  },
  {
   "cell_type": "code",
   "execution_count": 131,
   "id": "9d3aa38c-e422-42ff-a90b-10a7fadba2b1",
   "metadata": {
    "tags": []
   },
   "outputs": [
    {
     "data": {
      "text/plain": [
       "0"
      ]
     },
     "execution_count": 131,
     "metadata": {},
     "output_type": "execute_result"
    }
   ],
   "source": [
    "listings_clean[\"last_review\"].isnull().sum()"
   ]
  },
  {
   "cell_type": "markdown",
   "id": "4a8b1dac-71cb-48a4-a5b2-52a847304193",
   "metadata": {},
   "source": [
    "### Columna \"availability_30\""
   ]
  },
  {
   "cell_type": "code",
   "execution_count": 54,
   "id": "b76004d5-d82d-4fb4-be93-f94f4af09161",
   "metadata": {
    "tags": []
   },
   "outputs": [
    {
     "data": {
      "text/plain": [
       "array([ 0, 10,  4,  2, 30,  6,  1,  7,  8,  9, 29, 16, 21, 12, 14,  5, 23,\n",
       "       15, 11, 13, 22,  3, 27, 26, 28, 20, 18, 19, 24, 17, 25])"
      ]
     },
     "execution_count": 54,
     "metadata": {},
     "output_type": "execute_result"
    }
   ],
   "source": [
    "listings_clean[\"availability_30\"].unique()"
   ]
  },
  {
   "cell_type": "markdown",
   "id": "6ffdf172-5051-4fb9-ada4-edd62dd83e0f",
   "metadata": {},
   "source": [
    "### Columna \"availability_60\""
   ]
  },
  {
   "cell_type": "code",
   "execution_count": 56,
   "id": "fcd2a707-35f6-485d-a955-3a92c87f6cfc",
   "metadata": {
    "tags": []
   },
   "outputs": [
    {
     "data": {
      "text/plain": [
       "array([ 0, 36, 20,  6,  4, 40, 13, 60, 17,  7,  1, 15, 29,  3, 21, 59, 37,\n",
       "       32, 18, 50, 42, 44, 11, 24,  2, 27,  8, 31, 14, 25, 16, 52, 34, 35,\n",
       "       23, 57, 41, 53,  9,  5, 22, 56, 58, 48, 45, 12, 28, 19, 55, 10, 43,\n",
       "       26, 51, 30, 33, 39, 38, 54, 47, 49, 46])"
      ]
     },
     "execution_count": 56,
     "metadata": {},
     "output_type": "execute_result"
    }
   ],
   "source": [
    "listings_clean[\"availability_60\"].unique()"
   ]
  },
  {
   "cell_type": "markdown",
   "id": "6f01d899-88bb-462d-b6e5-300f0d667782",
   "metadata": {},
   "source": [
    "### Columna \"number_of_reviews\""
   ]
  },
  {
   "cell_type": "code",
   "execution_count": 58,
   "id": "5e7a44a2-4a27-4e8d-ab64-b76316f5dcc2",
   "metadata": {
    "collapsed": true,
    "jupyter": {
     "outputs_hidden": true
    },
    "tags": []
   },
   "outputs": [
    {
     "data": {
      "text/plain": [
       "array([  90,    2,   41,   78,  121,  174,   13,  295,  234,  138,  319,\n",
       "         85,   83,  108,  593,  323,  383,   92,   19,    0,    8,    1,\n",
       "         82,  260,   10,   61,  822,    7,   71,   46,   54,   98,   17,\n",
       "        126,  268,   25,  375,  615,  256,  282,   67,  281,  125,  114,\n",
       "         52,   60,   65,  423,  133,    4,    3,  135,  131,   37,   22,\n",
       "         38,   68,  110,   28,   32,   58,   29,  120,  417,  147,   89,\n",
       "        116,  233,  264,  151,  356,  192,  434,  100,   95,  491,  413,\n",
       "        136,   26,  137,  246,  606,  163,    9,   73,  229,   70,  273,\n",
       "        296,  441,   31,   11,   30,  290,  566,   87,  109,   88,  186,\n",
       "        191,   94,  420,   86,  284,  156,  380,   49,   36,  190,  361,\n",
       "         40,  231,  101,  212,  152,   45,  604,  342,  178,  337,  309,\n",
       "        157,   96,  145,   74,  762,  202,  179,  588,  533,  391,   27,\n",
       "        140,  402,  787,  293,  245,  219,   50,  244,  122,  373,  501,\n",
       "        228,  134,  159,  422,  393,  297,  578,  431,   39,  144,  210,\n",
       "         99,  429,   24,  105,  353,  222,    6,   16,  106,  513,  354,\n",
       "        327,  254,   79,  286,  450,  294,  262,  235,  470,   48,   64,\n",
       "        251,  204,  478,  118,   63,   18,  597,   33,    5,  103,  528,\n",
       "        312,  189,  164,  216,  211,   53,   77,  358,  170,  311,  461,\n",
       "        168,  258,  195,  389,  414,  225,  180,  269,   80,  291,  158,\n",
       "        207,  443,  307,  259,  217,  555,   66,  349,   42,  408,  132,\n",
       "        142,  292,  471,  111,  230,  411,  365,  378,  166,   97,  213,\n",
       "         76,   72,  252,  183,  321,  502,  394,  236,  395,  208,  300,\n",
       "        671,  182,  768,  935,  303,  340,  279,  545,   44,  283,  221,\n",
       "        331,  187,  247,  240,   20,  565,  751,  127,  119,  503,  362,\n",
       "        601,  177,  352,  139,  438,  289,  363,  169,  162,  130,   56,\n",
       "        497, 1218,   14,  950,  242,  285,  489,  253,  372,  548,   84,\n",
       "        351,  185,  173,  332,   51,  329,  306,   69,  201,  148,  153,\n",
       "         75,  454,  107,  149,  552,  102,  397,  407,  117,  263,  248,\n",
       "        196,  347,  490,   23,   43,  400,   57,  527,  405,  370,  335,\n",
       "        418,  536,   91,  274,  278,  160,  415,  540,  574,  368,   35,\n",
       "        288,  104,   12,  449,  341,   15,  214,  485,  384,   55,  172,\n",
       "        531,  560,  237,  184,  739,  218,  367,  506,  299,  165,  223,\n",
       "        463,  745,  143,  568,  238,  198,  316,  457,  369,   47,  575,\n",
       "        385,  572,  205,  276,   59,  582,  215,  721,  499,  322,  563,\n",
       "        628,  267,  526,  194,   62,  146,  416,  467,  302,  124,  360,\n",
       "        514,  444,  464,  480,  113,  448,  541,  176,  250,  387,  542,\n",
       "        115,  544,  571,  704,  811,  638,  197,  206,  437,  427,  129,\n",
       "        622,  350,  530,  419,  328,  731,  220,  310,  359,  585,  313,\n",
       "        227,  386,  357,  559,  167,  364,  265,  345,  344,  456,   34,\n",
       "        455,  612,  308,  436,  562,  304,  320,  484,  277,  607,  403,\n",
       "        797,  305,  161,  272,  549,  155,  188,  573,  193,  271,  596,\n",
       "        426,  232,  255,  469,  346,  315,  355,  301,  388,  239,  430,\n",
       "        589,  446,  421,  382,  171,  338,  783,  679,   81,   93,  794,\n",
       "        409,  226,  181,  298,  314,  442,  371,  257,  481,  583,  577,\n",
       "        336,  432,  398,  150,  209,  452,  203,  175,  401,  647,  318,\n",
       "        510,  325,  112,  224,  390,  243,  339,  412,  790,  275,  404,\n",
       "        324,  261,  487,  270,  287,  141,  123,  579,  424,  200,  439,\n",
       "        326,  410,  635,  433,  154,  348,  280,  399,  374,  460,   21,\n",
       "        496,  619,  569,  586,  876,  128,  899,  333,  504,  249,  592,\n",
       "        709,  500,  742,  199,  453,  771, 1153, 1212,  241,  451,  584,\n",
       "        343,  931,  624,  806, 1247,  685,  915,  611,  963, 2078,  836,\n",
       "        392,  775,  396,  425,  791,  376, 1129,  539,  266, 1179,  435,\n",
       "        678, 2121,  535,  691,  706,  546,  702])"
      ]
     },
     "execution_count": 58,
     "metadata": {},
     "output_type": "execute_result"
    }
   ],
   "source": [
    "listings_clean[\"number_of_reviews\"].unique()"
   ]
  },
  {
   "cell_type": "code",
   "execution_count": 137,
   "id": "3fd92bb2-8c6c-410b-809c-4be24460702b",
   "metadata": {
    "collapsed": true,
    "jupyter": {
     "outputs_hidden": true
    },
    "tags": []
   },
   "outputs": [
    {
     "data": {
      "text/plain": [
       "name                               0\n",
       "description                      487\n",
       "host_since                         0\n",
       "host_location                   3232\n",
       "host_is_superhost                119\n",
       "host_has_profile_pic               0\n",
       "host_identity_verified             0\n",
       "neighbourhood_group_cleansed       0\n",
       "latitude                           0\n",
       "longitude                          0\n",
       "property_type                      0\n",
       "room_type                          0\n",
       "accommodates                       0\n",
       "bathrooms                          7\n",
       "bathrooms_text                    22\n",
       "bedrooms                          10\n",
       "beds                             102\n",
       "amenities                          0\n",
       "price                              0\n",
       "minimum_nights                     0\n",
       "maximum_nights                     0\n",
       "has_availability                   0\n",
       "availability_30                    0\n",
       "availability_60                    0\n",
       "number_of_reviews                  0\n",
       "last_review                        0\n",
       "review_scores_rating               0\n",
       "review_scores_cleanliness          0\n",
       "review_scores_checkin           3335\n",
       "review_scores_communication     3334\n",
       "review_scores_location          3335\n",
       "review_scores_value             3334\n",
       "license                         4163\n",
       "instant_bookable                   0\n",
       "reviews_per_month               3317\n",
       "dtype: int64"
      ]
     },
     "execution_count": 137,
     "metadata": {},
     "output_type": "execute_result"
    }
   ],
   "source": [
    "listings_clean.isnull().sum()"
   ]
  },
  {
   "cell_type": "code",
   "execution_count": 59,
   "id": "6dc05e93-f091-4489-af4b-18a0919abade",
   "metadata": {
    "tags": []
   },
   "outputs": [],
   "source": [
    "import seaborn as sns\n",
    "import matplotlib.pyplot as plt"
   ]
  },
  {
   "cell_type": "markdown",
   "id": "7671fbbd-8cc2-4a49-b5cb-79c51d7da155",
   "metadata": {},
   "source": [
    "# Analisis Exploratorio (EDA)"
   ]
  },
  {
   "cell_type": "markdown",
   "id": "75be374e-aebe-46ef-a6a4-873af273daf7",
   "metadata": {},
   "source": [
    "### visualizacion \"has_availability\""
   ]
  },
  {
   "cell_type": "code",
   "execution_count": 62,
   "id": "62d8026c-de8b-4943-8d39-abb81d571f36",
   "metadata": {
    "tags": []
   },
   "outputs": [
    {
     "name": "stderr",
     "output_type": "stream",
     "text": [
      "/opt/anaconda3/lib/python3.11/site-packages/seaborn/_stats/counting.py:137: RuntimeWarning: Converting input from bool to <class 'numpy.uint8'> for compatibility.\n",
      "  bin_edges = np.histogram_bin_edges(vals, bins, binrange, weight)\n",
      "/opt/anaconda3/lib/python3.11/site-packages/seaborn/_stats/counting.py:176: RuntimeWarning: Converting input from bool to <class 'numpy.uint8'> for compatibility.\n",
      "  hist, edges = np.histogram(vals, **bin_kws, weights=weights, density=density)\n"
     ]
    },
    {
     "data": {
      "image/png": "[encoded data removed]",
      "text/plain": [
       "<Figure size 640x480 with 1 Axes>"
      ]
     },
     "metadata": {},
     "output_type": "display_data"
    }
   ],
   "source": [
    "sns.histplot(data = listings_clean, x='has_availability')\n",
    "plt.show()"
   ]
  },
  {
   "cell_type": "markdown",
   "id": "3bb93e85-0eee-430d-9528-571e3b812762",
   "metadata": {
    "tags": []
   },
   "source": [
    "### visualizacion \"availability_30\""
   ]
  },
  {
   "cell_type": "code",
   "execution_count": 64,
   "id": "c2be7c7c-9b79-42d7-afc9-d08f9addfadb",
   "metadata": {
    "tags": []
   },
   "outputs": [
    {
     "data": {
      "image/png": "[encoded data removed]",
      "text/plain": [
       "<Figure size 640x480 with 1 Axes>"
      ]
     },
     "metadata": {},
     "output_type": "display_data"
    }
   ],
   "source": [
    "listings_clean.plot(kind='scatter', x='availability_30', y='price', color='darkblue', alpha=0.5)\n",
    "\n",
    "plt.xlabel('Disponibilidad en 30 días')\n",
    "plt.ylabel('Precio')\n",
    "plt.title('Variación del Precio según Disponibilidad en 30 dias')\n",
    "plt.show()"
   ]
  },
  {
   "cell_type": "code",
   "execution_count": 65,
   "id": "c309b3d7-dc63-45e5-b1d9-380fcfa3e58a",
   "metadata": {
    "tags": []
   },
   "outputs": [
    {
     "data": {
      "image/png": "[encoded data removed]",
      "text/plain": [
       "<Figure size 640x480 with 1 Axes>"
      ]
     },
     "metadata": {},
     "output_type": "display_data"
    }
   ],
   "source": [
    "sns.histplot(data = listings_clean, x='availability_30')\n",
    "plt.show()"
   ]
  },
  {
   "cell_type": "markdown",
   "id": "3f722e55-1663-432f-b7f2-5f20d5f4a303",
   "metadata": {},
   "source": [
    "### visualizacion \"availability_60\""
   ]
  },
  {
   "cell_type": "code",
   "execution_count": 67,
   "id": "e1a9958d-e870-4b9b-873d-49253b5779b1",
   "metadata": {
    "tags": []
   },
   "outputs": [
    {
     "data": {
      "image/png": "[encoded data removed]",
      "text/plain": [
       "<Figure size 640x480 with 1 Axes>"
      ]
     },
     "metadata": {},
     "output_type": "display_data"
    }
   ],
   "source": [
    "listings_clean.plot(kind='scatter', x='availability_60', y='price', color='darkblue', alpha=0.5)\n",
    "\n",
    "plt.xlabel('Disponibilidad en 60 días')\n",
    "plt.ylabel('Precio')\n",
    "plt.title('Variación del Precio según Disponibilidad en 60 dias')\n",
    "plt.show()"
   ]
  },
  {
   "cell_type": "code",
   "execution_count": 68,
   "id": "11a7c3bb-865b-47b8-a5d7-8bced9ab1eea",
   "metadata": {
    "tags": []
   },
   "outputs": [
    {
     "data": {
      "image/png": "[encoded data removed]",
      "text/plain": [
       "<Figure size 640x480 with 1 Axes>"
      ]
     },
     "metadata": {},
     "output_type": "display_data"
    }
   ],
   "source": [
    "sns.histplot(data = listings_clean, x='availability_60')\n",
    "plt.show()"
   ]
  },
  {
   "cell_type": "markdown",
   "id": "6ba01231-f61c-4dc5-b92d-264309f45bb1",
   "metadata": {},
   "source": [
    "### visualizacion \"number_of_reviews\""
   ]
  },
  {
   "cell_type": "code",
   "execution_count": 70,
   "id": "f5673cd4-dac7-4953-b356-9bce755d660c",
   "metadata": {
    "tags": []
   },
   "outputs": [
    {
     "data": {
      "image/png": "[encoded data removed]",
      "text/plain": [
       "<Figure size 640x480 with 1 Axes>"
      ]
     },
     "metadata": {},
     "output_type": "display_data"
    }
   ],
   "source": [
    "sns.histplot(data = listings_clean, x='number_of_reviews')\n",
    "plt.show()"
   ]
  },
  {
   "cell_type": "markdown",
   "id": "e9edfee3-3378-44bc-a09f-0115e9a08ee1",
   "metadata": {},
   "source": [
    "### visualizacion \"review_scores_rating\""
   ]
  },
  {
   "cell_type": "code",
   "execution_count": 72,
   "id": "d879c1f0-eb1f-4ff9-bec8-e82090fd9b42",
   "metadata": {
    "tags": []
   },
   "outputs": [
    {
     "data": {
      "image/png": "[encoded data removed]",
      "text/plain": [
       "<Figure size 640x480 with 1 Axes>"
      ]
     },
     "metadata": {},
     "output_type": "display_data"
    }
   ],
   "source": [
    "sns.histplot(data = listings_clean, x='review_scores_rating')\n",
    "plt.show()"
   ]
  },
  {
   "cell_type": "markdown",
   "id": "acfa9422-162d-4838-914f-6d5009829dd7",
   "metadata": {},
   "source": [
    "### visualizacion \"review_scores_cleanliness\""
   ]
  },
  {
   "cell_type": "code",
   "execution_count": 74,
   "id": "c6f2ee2b-216b-4e00-82af-7f6b026c21c6",
   "metadata": {
    "tags": []
   },
   "outputs": [
    {
     "data": {
      "image/png": "[encoded data removed]",
      "text/plain": [
       "<Figure size 640x480 with 1 Axes>"
      ]
     },
     "metadata": {},
     "output_type": "display_data"
    }
   ],
   "source": [
    "sns.histplot(data = listings_clean, x='review_scores_cleanliness')\n",
    "plt.show()"
   ]
  }
 ],
 "metadata": {
  "kernelspec": {
   "display_name": "Python 3 (ipykernel)",
   "language": "python",
   "name": "python3"
  },
  "language_info": {
   "codemirror_mode": {
    "name": "ipython",
    "version": 3
   },
   "file_extension": ".py",
   "mimetype": "text/x-python",
   "name": "python",
   "nbconvert_exporter": "python",
   "pygments_lexer": "ipython3",
   "version": "3.11.7"
  }
 },
 "nbformat": 4,
 "nbformat_minor": 5
}
