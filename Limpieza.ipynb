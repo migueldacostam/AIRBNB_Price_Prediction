{
 "cells": [
  {
   "cell_type": "code",
   "execution_count": 1,
   "id": "edafc380-decd-4b8d-acd6-67b82cab7316",
   "metadata": {
    "tags": []
   },
   "outputs": [],
   "source": [
    "import pandas as pd"
   ]
  },
  {
   "cell_type": "code",
   "execution_count": 2,
   "id": "3240979a-94eb-469e-8b28-843b14c48a9a",
   "metadata": {
    "tags": []
   },
   "outputs": [
    {
     "data": {
      "text/html": [
       "<div>\n",
       "<style scoped>\n",
       "    .dataframe tbody tr th:only-of-type {\n",
       "        vertical-align: middle;\n",
       "    }\n",
       "\n",
       "    .dataframe tbody tr th {\n",
       "        vertical-align: top;\n",
       "    }\n",
       "\n",
       "    .dataframe thead th {\n",
       "        text-align: right;\n",
       "    }\n",
       "</style>\n",
       "<table border=\"1\" class=\"dataframe\">\n",
       "  <thead>\n",
       "    <tr style=\"text-align: right;\">\n",
       "      <th></th>\n",
       "      <th>id</th>\n",
       "      <th>listing_url</th>\n",
       "      <th>scrape_id</th>\n",
       "      <th>last_scraped</th>\n",
       "      <th>source</th>\n",
       "      <th>name</th>\n",
       "      <th>description</th>\n",
       "      <th>neighborhood_overview</th>\n",
       "      <th>picture_url</th>\n",
       "      <th>host_id</th>\n",
       "      <th>...</th>\n",
       "      <th>review_scores_communication</th>\n",
       "      <th>review_scores_location</th>\n",
       "      <th>review_scores_value</th>\n",
       "      <th>license</th>\n",
       "      <th>instant_bookable</th>\n",
       "      <th>calculated_host_listings_count</th>\n",
       "      <th>calculated_host_listings_count_entire_homes</th>\n",
       "      <th>calculated_host_listings_count_private_rooms</th>\n",
       "      <th>calculated_host_listings_count_shared_rooms</th>\n",
       "      <th>reviews_per_month</th>\n",
       "    </tr>\n",
       "  </thead>\n",
       "  <tbody>\n",
       "    <tr>\n",
       "      <th>0</th>\n",
       "      <td>269467</td>\n",
       "      <td>https://www.airbnb.com/rooms/269467</td>\n",
       "      <td>20240615011618</td>\n",
       "      <td>2024-06-15</td>\n",
       "      <td>city scrape</td>\n",
       "      <td>Sunny and quiet Loft next to Sagrada Familia</td>\n",
       "      <td>The apartment is a cosy open space with 65 m2....</td>\n",
       "      <td>NaN</td>\n",
       "      <td>https://a0.muscache.com/pictures/a6445a90-94eb...</td>\n",
       "      <td>1411775</td>\n",
       "      <td>...</td>\n",
       "      <td>4.79</td>\n",
       "      <td>4.81</td>\n",
       "      <td>4.67</td>\n",
       "      <td>HUTB-001129</td>\n",
       "      <td>t</td>\n",
       "      <td>3</td>\n",
       "      <td>3</td>\n",
       "      <td>0</td>\n",
       "      <td>0</td>\n",
       "      <td>1.15</td>\n",
       "    </tr>\n",
       "    <tr>\n",
       "      <th>1</th>\n",
       "      <td>270197</td>\n",
       "      <td>https://www.airbnb.com/rooms/270197</td>\n",
       "      <td>20240615011618</td>\n",
       "      <td>2024-06-15</td>\n",
       "      <td>city scrape</td>\n",
       "      <td>*monthly stays* 4 Bedroom Apartment near Rambla</td>\n",
       "      <td>Rented only for monthly periods. 4 bedroom apa...</td>\n",
       "      <td>NaN</td>\n",
       "      <td>https://a0.muscache.com/pictures/69907440-d8df...</td>\n",
       "      <td>1414702</td>\n",
       "      <td>...</td>\n",
       "      <td>5.00</td>\n",
       "      <td>5.00</td>\n",
       "      <td>4.50</td>\n",
       "      <td>N/A SOLO ESTANCIAS MENSUALES</td>\n",
       "      <td>f</td>\n",
       "      <td>27</td>\n",
       "      <td>27</td>\n",
       "      <td>0</td>\n",
       "      <td>0</td>\n",
       "      <td>0.02</td>\n",
       "    </tr>\n",
       "    <tr>\n",
       "      <th>2</th>\n",
       "      <td>18674</td>\n",
       "      <td>https://www.airbnb.com/rooms/18674</td>\n",
       "      <td>20240615011618</td>\n",
       "      <td>2024-06-15</td>\n",
       "      <td>city scrape</td>\n",
       "      <td>Huge flat for 8 people close to Sagrada Familia</td>\n",
       "      <td>110m2 apartment to rent in Barcelona. Located ...</td>\n",
       "      <td>Apartment in Barcelona located in the heart of...</td>\n",
       "      <td>https://a0.muscache.com/pictures/13031453/413c...</td>\n",
       "      <td>71615</td>\n",
       "      <td>...</td>\n",
       "      <td>4.68</td>\n",
       "      <td>4.78</td>\n",
       "      <td>4.30</td>\n",
       "      <td>HUTB-002062</td>\n",
       "      <td>t</td>\n",
       "      <td>27</td>\n",
       "      <td>27</td>\n",
       "      <td>0</td>\n",
       "      <td>0</td>\n",
       "      <td>0.30</td>\n",
       "    </tr>\n",
       "    <tr>\n",
       "      <th>3</th>\n",
       "      <td>272282</td>\n",
       "      <td>https://www.airbnb.com/rooms/272282</td>\n",
       "      <td>20240615011618</td>\n",
       "      <td>2024-06-15</td>\n",
       "      <td>previous scrape</td>\n",
       "      <td>CHARMING, VERY SPACIOUS &amp; BEST LOCATED</td>\n",
       "      <td>Very spacious apartment located in a modernist...</td>\n",
       "      <td>Eixample is famous for being home to the major...</td>\n",
       "      <td>https://a0.muscache.com/pictures/monet/Select-...</td>\n",
       "      <td>1425070</td>\n",
       "      <td>...</td>\n",
       "      <td>4.96</td>\n",
       "      <td>4.84</td>\n",
       "      <td>4.80</td>\n",
       "      <td>HUTB003208</td>\n",
       "      <td>f</td>\n",
       "      <td>1</td>\n",
       "      <td>1</td>\n",
       "      <td>0</td>\n",
       "      <td>0</td>\n",
       "      <td>2.84</td>\n",
       "    </tr>\n",
       "    <tr>\n",
       "      <th>4</th>\n",
       "      <td>23197</td>\n",
       "      <td>https://www.airbnb.com/rooms/23197</td>\n",
       "      <td>20240615011618</td>\n",
       "      <td>2024-06-15</td>\n",
       "      <td>city scrape</td>\n",
       "      <td>Forum CCIB DeLuxe, Spacious, Large Balcony, relax</td>\n",
       "      <td>Beautiful spacious apartment, large terrace, 5...</td>\n",
       "      <td>Strategically located in the Parc del Fòrum, a...</td>\n",
       "      <td>https://a0.muscache.com/pictures/miso/Hosting-...</td>\n",
       "      <td>90417</td>\n",
       "      <td>...</td>\n",
       "      <td>4.99</td>\n",
       "      <td>4.62</td>\n",
       "      <td>4.64</td>\n",
       "      <td>HUTB005057</td>\n",
       "      <td>f</td>\n",
       "      <td>1</td>\n",
       "      <td>1</td>\n",
       "      <td>0</td>\n",
       "      <td>0</td>\n",
       "      <td>0.48</td>\n",
       "    </tr>\n",
       "  </tbody>\n",
       "</table>\n",
       "<p>5 rows × 75 columns</p>\n",
       "</div>"
      ],
      "text/plain": [
       "       id                          listing_url       scrape_id last_scraped  \\\n",
       "0  269467  https://www.airbnb.com/rooms/269467  20240615011618   2024-06-15   \n",
       "1  270197  https://www.airbnb.com/rooms/270197  20240615011618   2024-06-15   \n",
       "2   18674   https://www.airbnb.com/rooms/18674  20240615011618   2024-06-15   \n",
       "3  272282  https://www.airbnb.com/rooms/272282  20240615011618   2024-06-15   \n",
       "4   23197   https://www.airbnb.com/rooms/23197  20240615011618   2024-06-15   \n",
       "\n",
       "            source                                               name  \\\n",
       "0      city scrape       Sunny and quiet Loft next to Sagrada Familia   \n",
       "1      city scrape    *monthly stays* 4 Bedroom Apartment near Rambla   \n",
       "2      city scrape    Huge flat for 8 people close to Sagrada Familia   \n",
       "3  previous scrape             CHARMING, VERY SPACIOUS & BEST LOCATED   \n",
       "4      city scrape  Forum CCIB DeLuxe, Spacious, Large Balcony, relax   \n",
       "\n",
       "                                         description  \\\n",
       "0  The apartment is a cosy open space with 65 m2....   \n",
       "1  Rented only for monthly periods. 4 bedroom apa...   \n",
       "2  110m2 apartment to rent in Barcelona. Located ...   \n",
       "3  Very spacious apartment located in a modernist...   \n",
       "4  Beautiful spacious apartment, large terrace, 5...   \n",
       "\n",
       "                               neighborhood_overview  \\\n",
       "0                                                NaN   \n",
       "1                                                NaN   \n",
       "2  Apartment in Barcelona located in the heart of...   \n",
       "3  Eixample is famous for being home to the major...   \n",
       "4  Strategically located in the Parc del Fòrum, a...   \n",
       "\n",
       "                                         picture_url  host_id  ...  \\\n",
       "0  https://a0.muscache.com/pictures/a6445a90-94eb...  1411775  ...   \n",
       "1  https://a0.muscache.com/pictures/69907440-d8df...  1414702  ...   \n",
       "2  https://a0.muscache.com/pictures/13031453/413c...    71615  ...   \n",
       "3  https://a0.muscache.com/pictures/monet/Select-...  1425070  ...   \n",
       "4  https://a0.muscache.com/pictures/miso/Hosting-...    90417  ...   \n",
       "\n",
       "  review_scores_communication review_scores_location review_scores_value  \\\n",
       "0                        4.79                   4.81                4.67   \n",
       "1                        5.00                   5.00                4.50   \n",
       "2                        4.68                   4.78                4.30   \n",
       "3                        4.96                   4.84                4.80   \n",
       "4                        4.99                   4.62                4.64   \n",
       "\n",
       "                        license instant_bookable  \\\n",
       "0                   HUTB-001129                t   \n",
       "1  N/A SOLO ESTANCIAS MENSUALES                f   \n",
       "2                   HUTB-002062                t   \n",
       "3                    HUTB003208                f   \n",
       "4                    HUTB005057                f   \n",
       "\n",
       "  calculated_host_listings_count calculated_host_listings_count_entire_homes  \\\n",
       "0                              3                                           3   \n",
       "1                             27                                          27   \n",
       "2                             27                                          27   \n",
       "3                              1                                           1   \n",
       "4                              1                                           1   \n",
       "\n",
       "  calculated_host_listings_count_private_rooms  \\\n",
       "0                                            0   \n",
       "1                                            0   \n",
       "2                                            0   \n",
       "3                                            0   \n",
       "4                                            0   \n",
       "\n",
       "  calculated_host_listings_count_shared_rooms reviews_per_month  \n",
       "0                                           0              1.15  \n",
       "1                                           0              0.02  \n",
       "2                                           0              0.30  \n",
       "3                                           0              2.84  \n",
       "4                                           0              0.48  \n",
       "\n",
       "[5 rows x 75 columns]"
      ]
     },
     "execution_count": 2,
     "metadata": {},
     "output_type": "execute_result"
    }
   ],
   "source": [
    "listings = pd.read_csv(\"listings.csv\")\n",
    "listings.head()"
   ]
  },
  {
   "cell_type": "code",
   "execution_count": 3,
   "id": "909aecf7-291b-4b6c-974e-32fd2d1a1399",
   "metadata": {
    "tags": []
   },
   "outputs": [
    {
     "data": {
      "text/plain": [
       "(18925, 75)"
      ]
     },
     "execution_count": 3,
     "metadata": {},
     "output_type": "execute_result"
    }
   ],
   "source": [
    "listings.shape"
   ]
  },
  {
   "cell_type": "code",
   "execution_count": 4,
   "id": "4d5267b1-ea47-4058-8176-8caec673e7af",
   "metadata": {
    "tags": []
   },
   "outputs": [
    {
     "data": {
      "text/plain": [
       "['id',\n",
       " 'listing_url',\n",
       " 'scrape_id',\n",
       " 'last_scraped',\n",
       " 'source',\n",
       " 'name',\n",
       " 'description',\n",
       " 'neighborhood_overview',\n",
       " 'picture_url',\n",
       " 'host_id',\n",
       " 'host_url',\n",
       " 'host_name',\n",
       " 'host_since',\n",
       " 'host_location',\n",
       " 'host_about',\n",
       " 'host_response_time',\n",
       " 'host_response_rate',\n",
       " 'host_acceptance_rate',\n",
       " 'host_is_superhost',\n",
       " 'host_thumbnail_url',\n",
       " 'host_picture_url',\n",
       " 'host_neighbourhood',\n",
       " 'host_listings_count',\n",
       " 'host_total_listings_count',\n",
       " 'host_verifications',\n",
       " 'host_has_profile_pic',\n",
       " 'host_identity_verified',\n",
       " 'neighbourhood',\n",
       " 'neighbourhood_cleansed',\n",
       " 'neighbourhood_group_cleansed',\n",
       " 'latitude',\n",
       " 'longitude',\n",
       " 'property_type',\n",
       " 'room_type',\n",
       " 'accommodates',\n",
       " 'bathrooms',\n",
       " 'bathrooms_text',\n",
       " 'bedrooms',\n",
       " 'beds',\n",
       " 'amenities',\n",
       " 'price',\n",
       " 'minimum_nights',\n",
       " 'maximum_nights',\n",
       " 'minimum_minimum_nights',\n",
       " 'maximum_minimum_nights',\n",
       " 'minimum_maximum_nights',\n",
       " 'maximum_maximum_nights',\n",
       " 'minimum_nights_avg_ntm',\n",
       " 'maximum_nights_avg_ntm',\n",
       " 'calendar_updated',\n",
       " 'has_availability',\n",
       " 'availability_30',\n",
       " 'availability_60',\n",
       " 'availability_90',\n",
       " 'availability_365',\n",
       " 'calendar_last_scraped',\n",
       " 'number_of_reviews',\n",
       " 'number_of_reviews_ltm',\n",
       " 'number_of_reviews_l30d',\n",
       " 'first_review',\n",
       " 'last_review',\n",
       " 'review_scores_rating',\n",
       " 'review_scores_accuracy',\n",
       " 'review_scores_cleanliness',\n",
       " 'review_scores_checkin',\n",
       " 'review_scores_communication',\n",
       " 'review_scores_location',\n",
       " 'review_scores_value',\n",
       " 'license',\n",
       " 'instant_bookable',\n",
       " 'calculated_host_listings_count',\n",
       " 'calculated_host_listings_count_entire_homes',\n",
       " 'calculated_host_listings_count_private_rooms',\n",
       " 'calculated_host_listings_count_shared_rooms',\n",
       " 'reviews_per_month']"
      ]
     },
     "execution_count": 4,
     "metadata": {},
     "output_type": "execute_result"
    }
   ],
   "source": [
    "list(listings.columns)"
   ]
  },
  {
   "cell_type": "code",
   "execution_count": 5,
   "id": "323eae32-cad0-487d-b954-217bf2c99766",
   "metadata": {
    "tags": []
   },
   "outputs": [
    {
     "data": {
      "text/plain": [
       "(36,)"
      ]
     },
     "execution_count": 5,
     "metadata": {},
     "output_type": "execute_result"
    }
   ],
   "source": [
    "listings['bathrooms_text'].unique().shape"
   ]
  },
  {
   "cell_type": "code",
   "execution_count": 6,
   "id": "ab45585c-ed6b-445a-905a-0ac0f7ffdbc6",
   "metadata": {
    "tags": []
   },
   "outputs": [
    {
     "name": "stdout",
     "output_type": "stream",
     "text": [
      "<class 'pandas.core.frame.DataFrame'>\n",
      "RangeIndex: 18925 entries, 0 to 18924\n",
      "Data columns (total 75 columns):\n",
      " #   Column                                        Non-Null Count  Dtype  \n",
      "---  ------                                        --------------  -----  \n",
      " 0   id                                            18925 non-null  int64  \n",
      " 1   listing_url                                   18925 non-null  object \n",
      " 2   scrape_id                                     18925 non-null  int64  \n",
      " 3   last_scraped                                  18925 non-null  object \n",
      " 4   source                                        18925 non-null  object \n",
      " 5   name                                          18925 non-null  object \n",
      " 6   description                                   18242 non-null  object \n",
      " 7   neighborhood_overview                         10163 non-null  object \n",
      " 8   picture_url                                   18925 non-null  object \n",
      " 9   host_id                                       18925 non-null  int64  \n",
      " 10  host_url                                      18925 non-null  object \n",
      " 11  host_name                                     18923 non-null  object \n",
      " 12  host_since                                    18923 non-null  object \n",
      " 13  host_location                                 14497 non-null  object \n",
      " 14  host_about                                    11844 non-null  object \n",
      " 15  host_response_time                            16030 non-null  object \n",
      " 16  host_response_rate                            16030 non-null  object \n",
      " 17  host_acceptance_rate                          16183 non-null  object \n",
      " 18  host_is_superhost                             18801 non-null  object \n",
      " 19  host_thumbnail_url                            18923 non-null  object \n",
      " 20  host_picture_url                              18923 non-null  object \n",
      " 21  host_neighbourhood                            9566 non-null   object \n",
      " 22  host_listings_count                           18923 non-null  float64\n",
      " 23  host_total_listings_count                     18923 non-null  float64\n",
      " 24  host_verifications                            18923 non-null  object \n",
      " 25  host_has_profile_pic                          18923 non-null  object \n",
      " 26  host_identity_verified                        18923 non-null  object \n",
      " 27  neighbourhood                                 10163 non-null  object \n",
      " 28  neighbourhood_cleansed                        18925 non-null  object \n",
      " 29  neighbourhood_group_cleansed                  18925 non-null  object \n",
      " 30  latitude                                      18925 non-null  float64\n",
      " 31  longitude                                     18925 non-null  float64\n",
      " 32  property_type                                 18925 non-null  object \n",
      " 33  room_type                                     18925 non-null  object \n",
      " 34  accommodates                                  18925 non-null  int64  \n",
      " 35  bathrooms                                     15182 non-null  float64\n",
      " 36  bathrooms_text                                18902 non-null  object \n",
      " 37  bedrooms                                      17043 non-null  float64\n",
      " 38  beds                                          15087 non-null  float64\n",
      " 39  amenities                                     18925 non-null  object \n",
      " 40  price                                         15189 non-null  object \n",
      " 41  minimum_nights                                18925 non-null  int64  \n",
      " 42  maximum_nights                                18925 non-null  int64  \n",
      " 43  minimum_minimum_nights                        18925 non-null  int64  \n",
      " 44  maximum_minimum_nights                        18925 non-null  int64  \n",
      " 45  minimum_maximum_nights                        18925 non-null  int64  \n",
      " 46  maximum_maximum_nights                        18925 non-null  int64  \n",
      " 47  minimum_nights_avg_ntm                        18925 non-null  float64\n",
      " 48  maximum_nights_avg_ntm                        18925 non-null  float64\n",
      " 49  calendar_updated                              0 non-null      float64\n",
      " 50  has_availability                              17875 non-null  object \n",
      " 51  availability_30                               18925 non-null  int64  \n",
      " 52  availability_60                               18925 non-null  int64  \n",
      " 53  availability_90                               18925 non-null  int64  \n",
      " 54  availability_365                              18925 non-null  int64  \n",
      " 55  calendar_last_scraped                         18925 non-null  object \n",
      " 56  number_of_reviews                             18925 non-null  int64  \n",
      " 57  number_of_reviews_ltm                         18925 non-null  int64  \n",
      " 58  number_of_reviews_l30d                        18925 non-null  int64  \n",
      " 59  first_review                                  14138 non-null  object \n",
      " 60  last_review                                   14138 non-null  object \n",
      " 61  review_scores_rating                          14138 non-null  float64\n",
      " 62  review_scores_accuracy                        14116 non-null  float64\n",
      " 63  review_scores_cleanliness                     14117 non-null  float64\n",
      " 64  review_scores_checkin                         14115 non-null  float64\n",
      " 65  review_scores_communication                   14118 non-null  float64\n",
      " 66  review_scores_location                        14115 non-null  float64\n",
      " 67  review_scores_value                           14116 non-null  float64\n",
      " 68  license                                       12787 non-null  object \n",
      " 69  instant_bookable                              18925 non-null  object \n",
      " 70  calculated_host_listings_count                18925 non-null  int64  \n",
      " 71  calculated_host_listings_count_entire_homes   18925 non-null  int64  \n",
      " 72  calculated_host_listings_count_private_rooms  18925 non-null  int64  \n",
      " 73  calculated_host_listings_count_shared_rooms   18925 non-null  int64  \n",
      " 74  reviews_per_month                             14138 non-null  float64\n",
      "dtypes: float64(18), int64(21), object(36)\n",
      "memory usage: 10.8+ MB\n"
     ]
    }
   ],
   "source": [
    "listings.info()"
   ]
  },
  {
   "cell_type": "code",
   "execution_count": 7,
   "id": "b738d23a-f593-4591-a4e5-8217d39a5a55",
   "metadata": {
    "tags": []
   },
   "outputs": [
    {
     "data": {
      "text/plain": [
       "[0,\n",
       " 0,\n",
       " 0,\n",
       " 0,\n",
       " 0,\n",
       " 0,\n",
       " 683,\n",
       " 8762,\n",
       " 0,\n",
       " 0,\n",
       " 0,\n",
       " 2,\n",
       " 2,\n",
       " 4428,\n",
       " 7081,\n",
       " 2895,\n",
       " 2895,\n",
       " 2742,\n",
       " 124,\n",
       " 2,\n",
       " 2,\n",
       " 9359,\n",
       " 2,\n",
       " 2,\n",
       " 2,\n",
       " 2,\n",
       " 2,\n",
       " 8762,\n",
       " 0,\n",
       " 0,\n",
       " 0,\n",
       " 0,\n",
       " 0,\n",
       " 0,\n",
       " 0,\n",
       " 3743,\n",
       " 23,\n",
       " 1882,\n",
       " 3838,\n",
       " 0,\n",
       " 3736,\n",
       " 0,\n",
       " 0,\n",
       " 0,\n",
       " 0,\n",
       " 0,\n",
       " 0,\n",
       " 0,\n",
       " 0,\n",
       " 18925,\n",
       " 1050,\n",
       " 0,\n",
       " 0,\n",
       " 0,\n",
       " 0,\n",
       " 0,\n",
       " 0,\n",
       " 0,\n",
       " 0,\n",
       " 4787,\n",
       " 4787,\n",
       " 4787,\n",
       " 4809,\n",
       " 4808,\n",
       " 4810,\n",
       " 4807,\n",
       " 4810,\n",
       " 4809,\n",
       " 6138,\n",
       " 0,\n",
       " 0,\n",
       " 0,\n",
       " 0,\n",
       " 0,\n",
       " 4787]"
      ]
     },
     "execution_count": 7,
     "metadata": {},
     "output_type": "execute_result"
    }
   ],
   "source": [
    "list(listings.isnull().sum())"
   ]
  },
  {
   "cell_type": "code",
   "execution_count": 8,
   "id": "d03f493b-fb1c-458e-9801-c981a00070dc",
   "metadata": {
    "tags": []
   },
   "outputs": [
    {
     "data": {
      "text/plain": [
       "49.45310435931308"
      ]
     },
     "execution_count": 8,
     "metadata": {},
     "output_type": "execute_result"
    }
   ],
   "source": [
    "listings.host_neighbourhood.isnull().mean() * 100"
   ]
  },
  {
   "cell_type": "code",
   "execution_count": 9,
   "id": "1f0e00b2-bd06-4389-8d24-6c7ae637631b",
   "metadata": {
    "tags": []
   },
   "outputs": [
    {
     "name": "stdout",
     "output_type": "stream",
     "text": [
      "Columna id: Total nulos = 0, Porcentaje = 0.00%\n",
      "Columna listing_url: Total nulos = 0, Porcentaje = 0.00%\n",
      "Columna scrape_id: Total nulos = 0, Porcentaje = 0.00%\n",
      "Columna last_scraped: Total nulos = 0, Porcentaje = 0.00%\n",
      "Columna source: Total nulos = 0, Porcentaje = 0.00%\n",
      "Columna name: Total nulos = 0, Porcentaje = 0.00%\n",
      "Columna description: Total nulos = 683, Porcentaje = 3.61%\n",
      "Columna neighborhood_overview: Total nulos = 8762, Porcentaje = 46.30%\n",
      "Columna picture_url: Total nulos = 0, Porcentaje = 0.00%\n",
      "Columna host_id: Total nulos = 0, Porcentaje = 0.00%\n",
      "Columna host_url: Total nulos = 0, Porcentaje = 0.00%\n",
      "Columna host_name: Total nulos = 2, Porcentaje = 0.01%\n",
      "Columna host_since: Total nulos = 2, Porcentaje = 0.01%\n",
      "Columna host_location: Total nulos = 4428, Porcentaje = 23.40%\n",
      "Columna host_about: Total nulos = 7081, Porcentaje = 37.42%\n",
      "Columna host_response_time: Total nulos = 2895, Porcentaje = 15.30%\n",
      "Columna host_response_rate: Total nulos = 2895, Porcentaje = 15.30%\n",
      "Columna host_acceptance_rate: Total nulos = 2742, Porcentaje = 14.49%\n",
      "Columna host_is_superhost: Total nulos = 124, Porcentaje = 0.66%\n",
      "Columna host_thumbnail_url: Total nulos = 2, Porcentaje = 0.01%\n",
      "Columna host_picture_url: Total nulos = 2, Porcentaje = 0.01%\n",
      "Columna host_neighbourhood: Total nulos = 9359, Porcentaje = 49.45%\n",
      "Columna host_listings_count: Total nulos = 2, Porcentaje = 0.01%\n",
      "Columna host_total_listings_count: Total nulos = 2, Porcentaje = 0.01%\n",
      "Columna host_verifications: Total nulos = 2, Porcentaje = 0.01%\n",
      "Columna host_has_profile_pic: Total nulos = 2, Porcentaje = 0.01%\n",
      "Columna host_identity_verified: Total nulos = 2, Porcentaje = 0.01%\n",
      "Columna neighbourhood: Total nulos = 8762, Porcentaje = 46.30%\n",
      "Columna neighbourhood_cleansed: Total nulos = 0, Porcentaje = 0.00%\n",
      "Columna neighbourhood_group_cleansed: Total nulos = 0, Porcentaje = 0.00%\n",
      "Columna latitude: Total nulos = 0, Porcentaje = 0.00%\n",
      "Columna longitude: Total nulos = 0, Porcentaje = 0.00%\n",
      "Columna property_type: Total nulos = 0, Porcentaje = 0.00%\n",
      "Columna room_type: Total nulos = 0, Porcentaje = 0.00%\n",
      "Columna accommodates: Total nulos = 0, Porcentaje = 0.00%\n",
      "Columna bathrooms: Total nulos = 3743, Porcentaje = 19.78%\n",
      "Columna bathrooms_text: Total nulos = 23, Porcentaje = 0.12%\n",
      "Columna bedrooms: Total nulos = 1882, Porcentaje = 9.94%\n",
      "Columna beds: Total nulos = 3838, Porcentaje = 20.28%\n",
      "Columna amenities: Total nulos = 0, Porcentaje = 0.00%\n",
      "Columna price: Total nulos = 3736, Porcentaje = 19.74%\n",
      "Columna minimum_nights: Total nulos = 0, Porcentaje = 0.00%\n",
      "Columna maximum_nights: Total nulos = 0, Porcentaje = 0.00%\n",
      "Columna minimum_minimum_nights: Total nulos = 0, Porcentaje = 0.00%\n",
      "Columna maximum_minimum_nights: Total nulos = 0, Porcentaje = 0.00%\n",
      "Columna minimum_maximum_nights: Total nulos = 0, Porcentaje = 0.00%\n",
      "Columna maximum_maximum_nights: Total nulos = 0, Porcentaje = 0.00%\n",
      "Columna minimum_nights_avg_ntm: Total nulos = 0, Porcentaje = 0.00%\n",
      "Columna maximum_nights_avg_ntm: Total nulos = 0, Porcentaje = 0.00%\n",
      "Columna calendar_updated: Total nulos = 18925, Porcentaje = 100.00%\n",
      "Columna has_availability: Total nulos = 1050, Porcentaje = 5.55%\n",
      "Columna availability_30: Total nulos = 0, Porcentaje = 0.00%\n",
      "Columna availability_60: Total nulos = 0, Porcentaje = 0.00%\n",
      "Columna availability_90: Total nulos = 0, Porcentaje = 0.00%\n",
      "Columna availability_365: Total nulos = 0, Porcentaje = 0.00%\n",
      "Columna calendar_last_scraped: Total nulos = 0, Porcentaje = 0.00%\n",
      "Columna number_of_reviews: Total nulos = 0, Porcentaje = 0.00%\n",
      "Columna number_of_reviews_ltm: Total nulos = 0, Porcentaje = 0.00%\n",
      "Columna number_of_reviews_l30d: Total nulos = 0, Porcentaje = 0.00%\n",
      "Columna first_review: Total nulos = 4787, Porcentaje = 25.29%\n",
      "Columna last_review: Total nulos = 4787, Porcentaje = 25.29%\n",
      "Columna review_scores_rating: Total nulos = 4787, Porcentaje = 25.29%\n",
      "Columna review_scores_accuracy: Total nulos = 4809, Porcentaje = 25.41%\n",
      "Columna review_scores_cleanliness: Total nulos = 4808, Porcentaje = 25.41%\n",
      "Columna review_scores_checkin: Total nulos = 4810, Porcentaje = 25.42%\n",
      "Columna review_scores_communication: Total nulos = 4807, Porcentaje = 25.40%\n",
      "Columna review_scores_location: Total nulos = 4810, Porcentaje = 25.42%\n",
      "Columna review_scores_value: Total nulos = 4809, Porcentaje = 25.41%\n",
      "Columna license: Total nulos = 6138, Porcentaje = 32.43%\n",
      "Columna instant_bookable: Total nulos = 0, Porcentaje = 0.00%\n",
      "Columna calculated_host_listings_count: Total nulos = 0, Porcentaje = 0.00%\n",
      "Columna calculated_host_listings_count_entire_homes: Total nulos = 0, Porcentaje = 0.00%\n",
      "Columna calculated_host_listings_count_private_rooms: Total nulos = 0, Porcentaje = 0.00%\n",
      "Columna calculated_host_listings_count_shared_rooms: Total nulos = 0, Porcentaje = 0.00%\n",
      "Columna reviews_per_month: Total nulos = 4787, Porcentaje = 25.29%\n"
     ]
    }
   ],
   "source": [
    "# Inicializar una lista para almacenar los resultados\n",
    "null_info = []\n",
    "\n",
    "# Recorrer todas las columnas del DataFrame\n",
    "for column in listings.columns:\n",
    "    total_nulos = listings[column].isnull().sum()\n",
    "    porcentaje_nulos = (total_nulos / len(listings)) * 100\n",
    "    null_info.append((column, total_nulos, porcentaje_nulos))\n",
    "\n",
    "# Imprimir los resultados\n",
    "for column, total_nulos, porcentaje_nulos in null_info:\n",
    "    print(f\"Columna {column}: Total nulos = {total_nulos}, Porcentaje = {porcentaje_nulos:.2f}%\")"
   ]
  },
  {
   "cell_type": "code",
   "execution_count": 10,
   "id": "051772c1-8200-41e6-a1b2-cac438ac37e2",
   "metadata": {
    "tags": []
   },
   "outputs": [],
   "source": [
    "columnas_a_eliminar = [0,1,2,3,4,5,8,9,10,11,19,20,36,43,44,45,46,47,48,49,53,54,55]\n",
    "listings_clean1 = listings.drop(listings.columns[columnas_a_eliminar], axis=1)"
   ]
  },
  {
   "cell_type": "code",
   "execution_count": 11,
   "id": "e7cba982-f4cd-4d70-b8f2-42b11e21271b",
   "metadata": {
    "tags": []
   },
   "outputs": [
    {
     "data": {
      "text/plain": [
       "(18925, 52)"
      ]
     },
     "execution_count": 11,
     "metadata": {},
     "output_type": "execute_result"
    }
   ],
   "source": [
    "listings_clean1.shape"
   ]
  },
  {
   "cell_type": "code",
   "execution_count": 30,
   "id": "7a67a140-2286-490f-8a05-8f910e786e9d",
   "metadata": {
    "tags": []
   },
   "outputs": [
    {
     "data": {
      "text/plain": [
       "Index(['description', 'neighborhood_overview', 'host_since', 'host_location',\n",
       "       'host_about', 'host_response_time', 'host_response_rate',\n",
       "       'host_acceptance_rate', 'host_is_superhost', 'host_neighbourhood',\n",
       "       'host_listings_count', 'host_total_listings_count',\n",
       "       'host_verifications', 'host_has_profile_pic', 'host_identity_verified',\n",
       "       'neighbourhood', 'neighbourhood_cleansed',\n",
       "       'neighbourhood_group_cleansed', 'latitude', 'longitude',\n",
       "       'property_type', 'room_type', 'accommodates', 'bathrooms', 'bedrooms',\n",
       "       'beds', 'amenities', 'price', 'minimum_nights', 'maximum_nights',\n",
       "       'has_availability', 'availability_30', 'availability_60',\n",
       "       'number_of_reviews', 'number_of_reviews_ltm', 'number_of_reviews_l30d',\n",
       "       'first_review', 'last_review', 'review_scores_rating',\n",
       "       'review_scores_accuracy', 'review_scores_cleanliness',\n",
       "       'review_scores_checkin', 'review_scores_communication',\n",
       "       'review_scores_location', 'review_scores_value', 'license',\n",
       "       'instant_bookable', 'calculated_host_listings_count',\n",
       "       'calculated_host_listings_count_entire_homes',\n",
       "       'calculated_host_listings_count_private_rooms',\n",
       "       'calculated_host_listings_count_shared_rooms', 'reviews_per_month'],\n",
       "      dtype='object')"
      ]
     },
     "execution_count": 30,
     "metadata": {},
     "output_type": "execute_result"
    }
   ],
   "source": [
    "listings_clean1.columns"
   ]
  },
  {
   "cell_type": "code",
   "execution_count": 33,
   "id": "6558246b-c848-4bc4-8054-4575a1de0c84",
   "metadata": {
    "tags": []
   },
   "outputs": [
    {
     "data": {
      "text/plain": [
       "0.46298546895640685"
      ]
     },
     "execution_count": 33,
     "metadata": {},
     "output_type": "execute_result"
    }
   ],
   "source": [
    " listings_clean1.neighborhood_overview.isnull().sum()/len(listings_clean1.neighborhood_overview)"
   ]
  },
  {
   "cell_type": "code",
   "execution_count": 14,
   "id": "fab2e4ec-b8b2-4d64-b3f2-2a106324156f",
   "metadata": {
    "tags": []
   },
   "outputs": [
    {
     "data": {
      "text/plain": [
       "0                                                      NaN\n",
       "1                                                      NaN\n",
       "2        Apartment in Barcelona located in the heart of...\n",
       "3        Eixample is famous for being home to the major...\n",
       "4        Strategically located in the Parc del Fòrum, a...\n",
       "                               ...                        \n",
       "18920                                                  NaN\n",
       "18921    Eixample Dreta is characterized by its impress...\n",
       "18922                                                  NaN\n",
       "18923                                                  NaN\n",
       "18924                                                  NaN\n",
       "Name: neighborhood_overview, Length: 18925, dtype: object"
      ]
     },
     "execution_count": 14,
     "metadata": {},
     "output_type": "execute_result"
    }
   ],
   "source": [
    "listings_clean1.neighborhood_overview"
   ]
  },
  {
   "cell_type": "code",
   "execution_count": null,
   "id": "4d5f8479-dc99-42da-9e9f-89759239416a",
   "metadata": {},
   "outputs": [],
   "source": [
    "listings_clean = listings_clean.dropna(subset=['last_review']) "
   ]
  }
 ],
 "metadata": {
  "kernelspec": {
   "display_name": "Python 3 (ipykernel)",
   "language": "python",
   "name": "python3"
  },
  "language_info": {
   "codemirror_mode": {
    "name": "ipython",
    "version": 3
   },
   "file_extension": ".py",
   "mimetype": "text/x-python",
   "name": "python",
   "nbconvert_exporter": "python",
   "pygments_lexer": "ipython3",
   "version": "3.11.7"
  }
 },
 "nbformat": 4,
 "nbformat_minor": 5
}
