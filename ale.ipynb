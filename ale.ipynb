{
 "cells": [
  {
   "cell_type": "markdown",
   "id": "aebf5f49-099f-4175-91c9-79b3bd0a915a",
   "metadata": {},
   "source": [
    "# LIBRERIAS"
   ]
  },
  {
   "cell_type": "code",
   "execution_count": 3,
   "id": "c903e88c-5e7b-4f83-865e-f26a4f6464d6",
   "metadata": {},
   "outputs": [],
   "source": [
    "import pandas as pd"
   ]
  },
  {
   "cell_type": "markdown",
   "id": "fd05fc95-2ba1-4b5b-8cc5-5eb288e338c1",
   "metadata": {},
   "source": [
    "# ARCHIVO CSV"
   ]
  },
  {
   "cell_type": "code",
   "execution_count": 5,
   "id": "c6a3bca0-abe8-47d9-8489-7fb31c233f38",
   "metadata": {},
   "outputs": [],
   "source": [
    "tabla = pd.read_csv(\"listings.csv\")"
   ]
  },
  {
   "cell_type": "code",
   "execution_count": 6,
   "id": "9c23c65e-1fe4-472a-8981-60d6e851be6a",
   "metadata": {},
   "outputs": [
    {
     "data": {
      "text/html": [
       "<div>\n",
       "<style scoped>\n",
       "    .dataframe tbody tr th:only-of-type {\n",
       "        vertical-align: middle;\n",
       "    }\n",
       "\n",
       "    .dataframe tbody tr th {\n",
       "        vertical-align: top;\n",
       "    }\n",
       "\n",
       "    .dataframe thead th {\n",
       "        text-align: right;\n",
       "    }\n",
       "</style>\n",
       "<table border=\"1\" class=\"dataframe\">\n",
       "  <thead>\n",
       "    <tr style=\"text-align: right;\">\n",
       "      <th></th>\n",
       "      <th>id</th>\n",
       "      <th>listing_url</th>\n",
       "      <th>scrape_id</th>\n",
       "      <th>last_scraped</th>\n",
       "      <th>source</th>\n",
       "      <th>name</th>\n",
       "      <th>description</th>\n",
       "      <th>neighborhood_overview</th>\n",
       "      <th>picture_url</th>\n",
       "      <th>host_id</th>\n",
       "      <th>...</th>\n",
       "      <th>review_scores_communication</th>\n",
       "      <th>review_scores_location</th>\n",
       "      <th>review_scores_value</th>\n",
       "      <th>license</th>\n",
       "      <th>instant_bookable</th>\n",
       "      <th>calculated_host_listings_count</th>\n",
       "      <th>calculated_host_listings_count_entire_homes</th>\n",
       "      <th>calculated_host_listings_count_private_rooms</th>\n",
       "      <th>calculated_host_listings_count_shared_rooms</th>\n",
       "      <th>reviews_per_month</th>\n",
       "    </tr>\n",
       "  </thead>\n",
       "  <tbody>\n",
       "    <tr>\n",
       "      <th>0</th>\n",
       "      <td>269467</td>\n",
       "      <td>https://www.airbnb.com/rooms/269467</td>\n",
       "      <td>20240615011618</td>\n",
       "      <td>2024-06-15</td>\n",
       "      <td>city scrape</td>\n",
       "      <td>Sunny and quiet Loft next to Sagrada Familia</td>\n",
       "      <td>The apartment is a cosy open space with 65 m2....</td>\n",
       "      <td>NaN</td>\n",
       "      <td>https://a0.muscache.com/pictures/a6445a90-94eb...</td>\n",
       "      <td>1411775</td>\n",
       "      <td>...</td>\n",
       "      <td>4.79</td>\n",
       "      <td>4.81</td>\n",
       "      <td>4.67</td>\n",
       "      <td>HUTB-001129</td>\n",
       "      <td>t</td>\n",
       "      <td>3</td>\n",
       "      <td>3</td>\n",
       "      <td>0</td>\n",
       "      <td>0</td>\n",
       "      <td>1.15</td>\n",
       "    </tr>\n",
       "    <tr>\n",
       "      <th>1</th>\n",
       "      <td>270197</td>\n",
       "      <td>https://www.airbnb.com/rooms/270197</td>\n",
       "      <td>20240615011618</td>\n",
       "      <td>2024-06-15</td>\n",
       "      <td>city scrape</td>\n",
       "      <td>*monthly stays* 4 Bedroom Apartment near Rambla</td>\n",
       "      <td>Rented only for monthly periods. 4 bedroom apa...</td>\n",
       "      <td>NaN</td>\n",
       "      <td>https://a0.muscache.com/pictures/69907440-d8df...</td>\n",
       "      <td>1414702</td>\n",
       "      <td>...</td>\n",
       "      <td>5.00</td>\n",
       "      <td>5.00</td>\n",
       "      <td>4.50</td>\n",
       "      <td>N/A SOLO ESTANCIAS MENSUALES</td>\n",
       "      <td>f</td>\n",
       "      <td>27</td>\n",
       "      <td>27</td>\n",
       "      <td>0</td>\n",
       "      <td>0</td>\n",
       "      <td>0.02</td>\n",
       "    </tr>\n",
       "  </tbody>\n",
       "</table>\n",
       "<p>2 rows × 75 columns</p>\n",
       "</div>"
      ],
      "text/plain": [
       "       id                          listing_url       scrape_id last_scraped  \\\n",
       "0  269467  https://www.airbnb.com/rooms/269467  20240615011618   2024-06-15   \n",
       "1  270197  https://www.airbnb.com/rooms/270197  20240615011618   2024-06-15   \n",
       "\n",
       "        source                                             name  \\\n",
       "0  city scrape     Sunny and quiet Loft next to Sagrada Familia   \n",
       "1  city scrape  *monthly stays* 4 Bedroom Apartment near Rambla   \n",
       "\n",
       "                                         description neighborhood_overview  \\\n",
       "0  The apartment is a cosy open space with 65 m2....                   NaN   \n",
       "1  Rented only for monthly periods. 4 bedroom apa...                   NaN   \n",
       "\n",
       "                                         picture_url  host_id  ...  \\\n",
       "0  https://a0.muscache.com/pictures/a6445a90-94eb...  1411775  ...   \n",
       "1  https://a0.muscache.com/pictures/69907440-d8df...  1414702  ...   \n",
       "\n",
       "  review_scores_communication review_scores_location review_scores_value  \\\n",
       "0                        4.79                   4.81                4.67   \n",
       "1                        5.00                   5.00                4.50   \n",
       "\n",
       "                        license instant_bookable  \\\n",
       "0                   HUTB-001129                t   \n",
       "1  N/A SOLO ESTANCIAS MENSUALES                f   \n",
       "\n",
       "  calculated_host_listings_count calculated_host_listings_count_entire_homes  \\\n",
       "0                              3                                           3   \n",
       "1                             27                                          27   \n",
       "\n",
       "  calculated_host_listings_count_private_rooms  \\\n",
       "0                                            0   \n",
       "1                                            0   \n",
       "\n",
       "  calculated_host_listings_count_shared_rooms reviews_per_month  \n",
       "0                                           0              1.15  \n",
       "1                                           0              0.02  \n",
       "\n",
       "[2 rows x 75 columns]"
      ]
     },
     "execution_count": 6,
     "metadata": {},
     "output_type": "execute_result"
    }
   ],
   "source": [
    "tabla.head(2)"
   ]
  },
  {
   "cell_type": "markdown",
   "id": "7d39e7b3-0cb7-4c46-8f20-1097e596a860",
   "metadata": {},
   "source": [
    "## DIMENSIONES"
   ]
  },
  {
   "cell_type": "code",
   "execution_count": 8,
   "id": "24610bab-58b5-4134-b538-0fcff9b135db",
   "metadata": {},
   "outputs": [
    {
     "data": {
      "text/plain": [
       "(18925, 75)"
      ]
     },
     "execution_count": 8,
     "metadata": {},
     "output_type": "execute_result"
    }
   ],
   "source": [
    "tabla.shape"
   ]
  },
  {
   "cell_type": "markdown",
   "id": "a6b677bb-25d3-457a-adff-23ed0e957fea",
   "metadata": {},
   "source": [
    "## COLUMNAS"
   ]
  },
  {
   "cell_type": "code",
   "execution_count": 10,
   "id": "7031a76b-4173-4f6b-8655-0bb723f60470",
   "metadata": {},
   "outputs": [
    {
     "data": {
      "text/plain": [
       "Index(['id', 'listing_url', 'scrape_id', 'last_scraped', 'source', 'name',\n",
       "       'description', 'neighborhood_overview', 'picture_url', 'host_id',\n",
       "       'host_url', 'host_name', 'host_since', 'host_location', 'host_about',\n",
       "       'host_response_time', 'host_response_rate', 'host_acceptance_rate',\n",
       "       'host_is_superhost', 'host_thumbnail_url', 'host_picture_url',\n",
       "       'host_neighbourhood', 'host_listings_count',\n",
       "       'host_total_listings_count', 'host_verifications',\n",
       "       'host_has_profile_pic', 'host_identity_verified', 'neighbourhood',\n",
       "       'neighbourhood_cleansed', 'neighbourhood_group_cleansed', 'latitude',\n",
       "       'longitude', 'property_type', 'room_type', 'accommodates', 'bathrooms',\n",
       "       'bathrooms_text', 'bedrooms', 'beds', 'amenities', 'price',\n",
       "       'minimum_nights', 'maximum_nights', 'minimum_minimum_nights',\n",
       "       'maximum_minimum_nights', 'minimum_maximum_nights',\n",
       "       'maximum_maximum_nights', 'minimum_nights_avg_ntm',\n",
       "       'maximum_nights_avg_ntm', 'calendar_updated', 'has_availability',\n",
       "       'availability_30', 'availability_60', 'availability_90',\n",
       "       'availability_365', 'calendar_last_scraped', 'number_of_reviews',\n",
       "       'number_of_reviews_ltm', 'number_of_reviews_l30d', 'first_review',\n",
       "       'last_review', 'review_scores_rating', 'review_scores_accuracy',\n",
       "       'review_scores_cleanliness', 'review_scores_checkin',\n",
       "       'review_scores_communication', 'review_scores_location',\n",
       "       'review_scores_value', 'license', 'instant_bookable',\n",
       "       'calculated_host_listings_count',\n",
       "       'calculated_host_listings_count_entire_homes',\n",
       "       'calculated_host_listings_count_private_rooms',\n",
       "       'calculated_host_listings_count_shared_rooms', 'reviews_per_month'],\n",
       "      dtype='object')"
      ]
     },
     "execution_count": 10,
     "metadata": {},
     "output_type": "execute_result"
    }
   ],
   "source": [
    "tabla.columns"
   ]
  },
  {
   "cell_type": "markdown",
   "id": "dfd67a20-1eef-4163-b733-5a67df82b191",
   "metadata": {},
   "source": [
    "## FILTRADO COLUMNAS"
   ]
  },
  {
   "cell_type": "code",
   "execution_count": 12,
   "id": "98fdb8b1-9a97-4dde-a1d0-b158c20c0d80",
   "metadata": {},
   "outputs": [],
   "source": [
    "columnas_filtradas = [\n",
    "    \"description\",\n",
    "    \"name\",\n",
    "    \"host_since\",\n",
    "    \"host_location\",\n",
    "    \"host_is_superhost\",\n",
    "    \"host_identity_verified\",\n",
    "    \"host_has_profile_pic\",\n",
    "    \"neighbourhood_group_cleansed\",\n",
    "    \"latitude\",\n",
    "    \"longitude\",\n",
    "    \"property_type\",\n",
    "    \"room_type\",\n",
    "    \"accommodates\",\n",
    "    \"bathrooms\",\n",
    "    \"bedrooms\",\n",
    "    \"beds\",\n",
    "    \"amenities\",\n",
    "    \"price\",\n",
    "    \"minimum_nights\",\n",
    "    \"maximum_nights\",\n",
    "    \"has_availability\",\n",
    "    \"availability_30\",\n",
    "    \"availability_60\",\n",
    "    \"number_of_reviews\",\n",
    "    \"last_review\",\n",
    "    \"review_scores_rating\",\n",
    "    \"review_scores_cleanliness\",\n",
    "    \"review_scores_checkin\",\n",
    "    \"review_scores_communication\",\n",
    "    \"review_scores_location\",\n",
    "    \"review_scores_value\",\n",
    "    \"reviews_per_month\",\n",
    "    \"license\",\n",
    "    \"instant_bookable\",\n",
    "    \"listing_url\"\n",
    "]"
   ]
  },
  {
   "cell_type": "code",
   "execution_count": 13,
   "id": "76fc504b-119f-41c0-84e8-5841d98fdd55",
   "metadata": {},
   "outputs": [],
   "source": [
    "tabla_filtrada = tabla[columnas_filtradas]"
   ]
  },
  {
   "cell_type": "code",
   "execution_count": 14,
   "id": "d541a56c-d119-49a7-8073-10b6f72acef7",
   "metadata": {},
   "outputs": [
    {
     "data": {
      "text/plain": [
       "(18925, 35)"
      ]
     },
     "execution_count": 14,
     "metadata": {},
     "output_type": "execute_result"
    }
   ],
   "source": [
    "tabla_filtrada.shape"
   ]
  },
  {
   "cell_type": "code",
   "execution_count": 15,
   "id": "e8ea5b11-34fc-4561-9c19-5172836b5c72",
   "metadata": {},
   "outputs": [
    {
     "data": {
      "text/plain": [
       "description                      683\n",
       "name                               0\n",
       "host_since                         2\n",
       "host_location                   4428\n",
       "host_is_superhost                124\n",
       "host_identity_verified             2\n",
       "host_has_profile_pic               2\n",
       "neighbourhood_group_cleansed       0\n",
       "latitude                           0\n",
       "longitude                          0\n",
       "property_type                      0\n",
       "room_type                          0\n",
       "accommodates                       0\n",
       "bathrooms                       3743\n",
       "bedrooms                        1882\n",
       "beds                            3838\n",
       "amenities                          0\n",
       "price                           3736\n",
       "minimum_nights                     0\n",
       "maximum_nights                     0\n",
       "has_availability                1050\n",
       "availability_30                    0\n",
       "availability_60                    0\n",
       "number_of_reviews                  0\n",
       "last_review                     4787\n",
       "review_scores_rating            4787\n",
       "review_scores_cleanliness       4808\n",
       "review_scores_checkin           4810\n",
       "review_scores_communication     4807\n",
       "review_scores_location          4810\n",
       "review_scores_value             4809\n",
       "reviews_per_month               4787\n",
       "license                         6138\n",
       "instant_bookable                   0\n",
       "listing_url                        0\n",
       "dtype: int64"
      ]
     },
     "execution_count": 15,
     "metadata": {},
     "output_type": "execute_result"
    }
   ],
   "source": [
    "tabla_filtrada.isnull().sum()"
   ]
  },
  {
   "cell_type": "markdown",
   "id": "e3192958-d1d9-49ee-8251-a850b0a91d4f",
   "metadata": {},
   "source": [
    "# MIS COLUMNAS"
   ]
  },
  {
   "cell_type": "code",
   "execution_count": 17,
   "id": "903799a8-28f8-496f-8766-e1d9c6c8d88e",
   "metadata": {},
   "outputs": [],
   "source": [
    "my_colums = ['description', 'name', 'host_since', 'host_location', 'host_is_superhost', 'host_identity_verified', 'host_has_profile_pic', 'price']"
   ]
  },
  {
   "cell_type": "code",
   "execution_count": 18,
   "id": "32887d84-de49-4003-88e2-f1e12a54bb27",
   "metadata": {},
   "outputs": [],
   "source": [
    "my_table = tabla_filtrada[my_colums]"
   ]
  },
  {
   "cell_type": "markdown",
   "id": "e68b5001-ddee-420b-b6e9-33b8ff3ff1cc",
   "metadata": {},
   "source": [
    "### NULOS"
   ]
  },
  {
   "cell_type": "code",
   "execution_count": 20,
   "id": "ad9ce1fb-ebdf-462f-95c4-3ee48bcb6bc0",
   "metadata": {},
   "outputs": [
    {
     "data": {
      "text/plain": [
       "description                683\n",
       "name                         0\n",
       "host_since                   2\n",
       "host_location             4428\n",
       "host_is_superhost          124\n",
       "host_identity_verified       2\n",
       "host_has_profile_pic         2\n",
       "price                     3736\n",
       "dtype: int64"
      ]
     },
     "execution_count": 20,
     "metadata": {},
     "output_type": "execute_result"
    }
   ],
   "source": [
    "my_table.isnull().sum()"
   ]
  },
  {
   "cell_type": "markdown",
   "id": "4603d19f-6e5a-49ee-8078-1434688973c7",
   "metadata": {},
   "source": [
    "### VALORES UNICOS DE CADA COLUMNA"
   ]
  },
  {
   "cell_type": "code",
   "execution_count": 22,
   "id": "acf3642f-5959-4be8-86d0-9ba230ae6031",
   "metadata": {},
   "outputs": [
    {
     "data": {
      "text/plain": [
       "description               15377\n",
       "name                      18205\n",
       "host_since                 3476\n",
       "host_location               415\n",
       "host_is_superhost             2\n",
       "host_identity_verified        2\n",
       "host_has_profile_pic          2\n",
       "price                       828\n",
       "dtype: int64"
      ]
     },
     "execution_count": 22,
     "metadata": {},
     "output_type": "execute_result"
    }
   ],
   "source": [
    "my_table.nunique()"
   ]
  },
  {
   "cell_type": "markdown",
   "id": "27859f74-52db-472e-a633-84f88e2f96d4",
   "metadata": {},
   "source": [
    "## COLUMNA 'PRICE'"
   ]
  },
  {
   "cell_type": "markdown",
   "id": "02847a7e-8ac7-4d29-b870-9f48701e78d7",
   "metadata": {},
   "source": [
    "### ELIMINAR NULOS DE 'PRICE'"
   ]
  },
  {
   "cell_type": "code",
   "execution_count": 25,
   "id": "a8130901-1ff5-4a5a-8443-2230fb8403b5",
   "metadata": {},
   "outputs": [],
   "source": [
    "my_table = my_table.dropna(subset=['price'])"
   ]
  },
  {
   "cell_type": "code",
   "execution_count": 26,
   "id": "93b9b2e8-b1a8-42df-a0f6-0a97a1999609",
   "metadata": {},
   "outputs": [
    {
     "data": {
      "text/plain": [
       "description                487\n",
       "name                         0\n",
       "host_since                   0\n",
       "host_location             3232\n",
       "host_is_superhost          119\n",
       "host_identity_verified       0\n",
       "host_has_profile_pic         0\n",
       "price                        0\n",
       "dtype: int64"
      ]
     },
     "execution_count": 26,
     "metadata": {},
     "output_type": "execute_result"
    }
   ],
   "source": [
    "my_table.isnull().sum()"
   ]
  },
  {
   "cell_type": "markdown",
   "id": "fa73db4c-2685-4138-ba5c-8f2fed753379",
   "metadata": {},
   "source": [
    "### CAMBIAR TIPO DE VALOR Y QUITAR SIMBOLO $ EN 'PRICE'"
   ]
  },
  {
   "cell_type": "code",
   "execution_count": 28,
   "id": "acafb36b-4e10-479b-b112-1b338e72c14e",
   "metadata": {},
   "outputs": [
    {
     "name": "stderr",
     "output_type": "stream",
     "text": [
      "<>:1: SyntaxWarning: invalid escape sequence '\\$'\n",
      "<>:1: SyntaxWarning: invalid escape sequence '\\$'\n",
      "C:\\Users\\Alejandro\\AppData\\Local\\Temp\\ipykernel_12888\\2406339868.py:1: SyntaxWarning: invalid escape sequence '\\$'\n",
      "  my_table['price'] = my_table['price'].str.replace('[\\$,]', '', regex=True).astype(float)\n"
     ]
    }
   ],
   "source": [
    "my_table['price'] = my_table['price'].str.replace('[\\$,]', '', regex=True).astype(float)"
   ]
  },
  {
   "cell_type": "code",
   "execution_count": 29,
   "id": "141739f6-7572-4c0d-b813-29d222b24d6a",
   "metadata": {},
   "outputs": [
    {
     "data": {
      "text/html": [
       "<div>\n",
       "<style scoped>\n",
       "    .dataframe tbody tr th:only-of-type {\n",
       "        vertical-align: middle;\n",
       "    }\n",
       "\n",
       "    .dataframe tbody tr th {\n",
       "        vertical-align: top;\n",
       "    }\n",
       "\n",
       "    .dataframe thead th {\n",
       "        text-align: right;\n",
       "    }\n",
       "</style>\n",
       "<table border=\"1\" class=\"dataframe\">\n",
       "  <thead>\n",
       "    <tr style=\"text-align: right;\">\n",
       "      <th></th>\n",
       "      <th>description</th>\n",
       "      <th>name</th>\n",
       "      <th>host_since</th>\n",
       "      <th>host_location</th>\n",
       "      <th>host_is_superhost</th>\n",
       "      <th>host_identity_verified</th>\n",
       "      <th>host_has_profile_pic</th>\n",
       "      <th>price</th>\n",
       "    </tr>\n",
       "  </thead>\n",
       "  <tbody>\n",
       "    <tr>\n",
       "      <th>0</th>\n",
       "      <td>The apartment is a cosy open space with 65 m2....</td>\n",
       "      <td>Sunny and quiet Loft next to Sagrada Familia</td>\n",
       "      <td>2011-11-16</td>\n",
       "      <td>Barcelona, Spain</td>\n",
       "      <td>f</td>\n",
       "      <td>t</td>\n",
       "      <td>t</td>\n",
       "      <td>176.0</td>\n",
       "    </tr>\n",
       "    <tr>\n",
       "      <th>1</th>\n",
       "      <td>Rented only for monthly periods. 4 bedroom apa...</td>\n",
       "      <td>*monthly stays* 4 Bedroom Apartment near Rambla</td>\n",
       "      <td>2011-11-16</td>\n",
       "      <td>Barcelona, Spain</td>\n",
       "      <td>f</td>\n",
       "      <td>t</td>\n",
       "      <td>t</td>\n",
       "      <td>74.0</td>\n",
       "    </tr>\n",
       "  </tbody>\n",
       "</table>\n",
       "</div>"
      ],
      "text/plain": [
       "                                         description  \\\n",
       "0  The apartment is a cosy open space with 65 m2....   \n",
       "1  Rented only for monthly periods. 4 bedroom apa...   \n",
       "\n",
       "                                              name  host_since  \\\n",
       "0     Sunny and quiet Loft next to Sagrada Familia  2011-11-16   \n",
       "1  *monthly stays* 4 Bedroom Apartment near Rambla  2011-11-16   \n",
       "\n",
       "      host_location host_is_superhost host_identity_verified  \\\n",
       "0  Barcelona, Spain                 f                      t   \n",
       "1  Barcelona, Spain                 f                      t   \n",
       "\n",
       "  host_has_profile_pic  price  \n",
       "0                    t  176.0  \n",
       "1                    t   74.0  "
      ]
     },
     "execution_count": 29,
     "metadata": {},
     "output_type": "execute_result"
    }
   ],
   "source": [
    "my_table.head(2)"
   ]
  },
  {
   "cell_type": "markdown",
   "id": "9a758de5-1156-4922-b272-7574d50a7e21",
   "metadata": {},
   "source": [
    "## COLUMNA 'HOST_IS_SUPERHOST'"
   ]
  },
  {
   "cell_type": "markdown",
   "id": "2bbbf575-79d3-4ce2-b816-f746adad55d2",
   "metadata": {},
   "source": [
    "### CAMBIAR TIPO DE DATO A BOOLEANO"
   ]
  },
  {
   "cell_type": "code",
   "execution_count": 32,
   "id": "b68683d7-07b9-4cbe-afe0-a79171e82202",
   "metadata": {},
   "outputs": [],
   "source": [
    "my_table['host_is_superhost'] = my_table['host_is_superhost'].map({'t': True, 'f': False})"
   ]
  },
  {
   "cell_type": "code",
   "execution_count": 33,
   "id": "04244725-eb78-4e4a-83fc-ee544b27b86a",
   "metadata": {},
   "outputs": [
    {
     "data": {
      "text/html": [
       "<div>\n",
       "<style scoped>\n",
       "    .dataframe tbody tr th:only-of-type {\n",
       "        vertical-align: middle;\n",
       "    }\n",
       "\n",
       "    .dataframe tbody tr th {\n",
       "        vertical-align: top;\n",
       "    }\n",
       "\n",
       "    .dataframe thead th {\n",
       "        text-align: right;\n",
       "    }\n",
       "</style>\n",
       "<table border=\"1\" class=\"dataframe\">\n",
       "  <thead>\n",
       "    <tr style=\"text-align: right;\">\n",
       "      <th></th>\n",
       "      <th>description</th>\n",
       "      <th>name</th>\n",
       "      <th>host_since</th>\n",
       "      <th>host_location</th>\n",
       "      <th>host_is_superhost</th>\n",
       "      <th>host_identity_verified</th>\n",
       "      <th>host_has_profile_pic</th>\n",
       "      <th>price</th>\n",
       "    </tr>\n",
       "  </thead>\n",
       "  <tbody>\n",
       "    <tr>\n",
       "      <th>0</th>\n",
       "      <td>The apartment is a cosy open space with 65 m2....</td>\n",
       "      <td>Sunny and quiet Loft next to Sagrada Familia</td>\n",
       "      <td>2011-11-16</td>\n",
       "      <td>Barcelona, Spain</td>\n",
       "      <td>False</td>\n",
       "      <td>t</td>\n",
       "      <td>t</td>\n",
       "      <td>176.0</td>\n",
       "    </tr>\n",
       "    <tr>\n",
       "      <th>1</th>\n",
       "      <td>Rented only for monthly periods. 4 bedroom apa...</td>\n",
       "      <td>*monthly stays* 4 Bedroom Apartment near Rambla</td>\n",
       "      <td>2011-11-16</td>\n",
       "      <td>Barcelona, Spain</td>\n",
       "      <td>False</td>\n",
       "      <td>t</td>\n",
       "      <td>t</td>\n",
       "      <td>74.0</td>\n",
       "    </tr>\n",
       "    <tr>\n",
       "      <th>2</th>\n",
       "      <td>110m2 apartment to rent in Barcelona. Located ...</td>\n",
       "      <td>Huge flat for 8 people close to Sagrada Familia</td>\n",
       "      <td>2010-01-19</td>\n",
       "      <td>Barcelona, Spain</td>\n",
       "      <td>False</td>\n",
       "      <td>t</td>\n",
       "      <td>t</td>\n",
       "      <td>257.0</td>\n",
       "    </tr>\n",
       "    <tr>\n",
       "      <th>4</th>\n",
       "      <td>Beautiful spacious apartment, large terrace, 5...</td>\n",
       "      <td>Forum CCIB DeLuxe, Spacious, Large Balcony, relax</td>\n",
       "      <td>2010-03-09</td>\n",
       "      <td>Catalonia, Spain</td>\n",
       "      <td>False</td>\n",
       "      <td>t</td>\n",
       "      <td>t</td>\n",
       "      <td>249.0</td>\n",
       "    </tr>\n",
       "    <tr>\n",
       "      <th>5</th>\n",
       "      <td>A lovely two bedroom apartment only 250 m from...</td>\n",
       "      <td>Sagrada Familia area - Còrsega 1</td>\n",
       "      <td>2010-05-31</td>\n",
       "      <td>Barcelona, Spain</td>\n",
       "      <td>False</td>\n",
       "      <td>t</td>\n",
       "      <td>t</td>\n",
       "      <td>240.0</td>\n",
       "    </tr>\n",
       "  </tbody>\n",
       "</table>\n",
       "</div>"
      ],
      "text/plain": [
       "                                         description  \\\n",
       "0  The apartment is a cosy open space with 65 m2....   \n",
       "1  Rented only for monthly periods. 4 bedroom apa...   \n",
       "2  110m2 apartment to rent in Barcelona. Located ...   \n",
       "4  Beautiful spacious apartment, large terrace, 5...   \n",
       "5  A lovely two bedroom apartment only 250 m from...   \n",
       "\n",
       "                                                name  host_since  \\\n",
       "0       Sunny and quiet Loft next to Sagrada Familia  2011-11-16   \n",
       "1    *monthly stays* 4 Bedroom Apartment near Rambla  2011-11-16   \n",
       "2    Huge flat for 8 people close to Sagrada Familia  2010-01-19   \n",
       "4  Forum CCIB DeLuxe, Spacious, Large Balcony, relax  2010-03-09   \n",
       "5                   Sagrada Familia area - Còrsega 1  2010-05-31   \n",
       "\n",
       "      host_location host_is_superhost host_identity_verified  \\\n",
       "0  Barcelona, Spain             False                      t   \n",
       "1  Barcelona, Spain             False                      t   \n",
       "2  Barcelona, Spain             False                      t   \n",
       "4  Catalonia, Spain             False                      t   \n",
       "5  Barcelona, Spain             False                      t   \n",
       "\n",
       "  host_has_profile_pic  price  \n",
       "0                    t  176.0  \n",
       "1                    t   74.0  \n",
       "2                    t  257.0  \n",
       "4                    t  249.0  \n",
       "5                    t  240.0  "
      ]
     },
     "execution_count": 33,
     "metadata": {},
     "output_type": "execute_result"
    }
   ],
   "source": [
    "my_table.head()"
   ]
  },
  {
   "cell_type": "code",
   "execution_count": 34,
   "id": "c9583e4f-f0d7-48cc-98b6-25555ae53fa0",
   "metadata": {},
   "outputs": [
    {
     "data": {
      "text/plain": [
       "array([False, True, nan], dtype=object)"
      ]
     },
     "execution_count": 34,
     "metadata": {},
     "output_type": "execute_result"
    }
   ],
   "source": [
    "my_table['host_is_superhost'].unique()"
   ]
  },
  {
   "cell_type": "code",
   "execution_count": 35,
   "id": "560be909-d973-4c03-a693-5c2ebcf4c9f2",
   "metadata": {},
   "outputs": [
    {
     "data": {
      "text/plain": [
       "count     15070\n",
       "unique        2\n",
       "top       False\n",
       "freq      11579\n",
       "Name: host_is_superhost, dtype: object"
      ]
     },
     "execution_count": 35,
     "metadata": {},
     "output_type": "execute_result"
    }
   ],
   "source": [
    "my_table['host_is_superhost'].describe()"
   ]
  },
  {
   "cell_type": "markdown",
   "id": "798fc0b3-7cbc-4a7f-b0d4-e2d6263f1ab5",
   "metadata": {},
   "source": [
    "### RELLENAR LOS NULOS DE 'HOST_IS_SUPERHOST' CON FALSE"
   ]
  },
  {
   "cell_type": "code",
   "execution_count": 37,
   "id": "8a2dc1da-a19f-4c78-a0b8-0dd4c9a5161f",
   "metadata": {},
   "outputs": [
    {
     "name": "stderr",
     "output_type": "stream",
     "text": [
      "C:\\Users\\Alejandro\\AppData\\Local\\Temp\\ipykernel_12888\\2064531406.py:1: FutureWarning: Downcasting object dtype arrays on .fillna, .ffill, .bfill is deprecated and will change in a future version. Call result.infer_objects(copy=False) instead. To opt-in to the future behavior, set `pd.set_option('future.no_silent_downcasting', True)`\n",
      "  my_table['host_is_superhost'] = my_table['host_is_superhost'].fillna(False)\n"
     ]
    }
   ],
   "source": [
    "my_table['host_is_superhost'] = my_table['host_is_superhost'].fillna(False)"
   ]
  },
  {
   "cell_type": "code",
   "execution_count": 38,
   "id": "0867dce5-9e55-44d3-bbb1-407b7ccba8ab",
   "metadata": {},
   "outputs": [
    {
     "data": {
      "text/plain": [
       "description                487\n",
       "name                         0\n",
       "host_since                   0\n",
       "host_location             3232\n",
       "host_is_superhost            0\n",
       "host_identity_verified       0\n",
       "host_has_profile_pic         0\n",
       "price                        0\n",
       "dtype: int64"
      ]
     },
     "execution_count": 38,
     "metadata": {},
     "output_type": "execute_result"
    }
   ],
   "source": [
    "my_table.isnull().sum()"
   ]
  },
  {
   "cell_type": "code",
   "execution_count": 39,
   "id": "5f35e95d-1ced-4621-9c2b-a6e4f68b3e46",
   "metadata": {},
   "outputs": [
    {
     "data": {
      "text/plain": [
       "count     15189\n",
       "unique        2\n",
       "top       False\n",
       "freq      11698\n",
       "Name: host_is_superhost, dtype: object"
      ]
     },
     "execution_count": 39,
     "metadata": {},
     "output_type": "execute_result"
    }
   ],
   "source": [
    "my_table['host_is_superhost'].describe()"
   ]
  },
  {
   "cell_type": "markdown",
   "id": "dec3e106-270b-4a25-bcad-c4c47dc3d0da",
   "metadata": {},
   "source": [
    "## COLUMNA 'HOST_IDENTITY_VERIFIED'"
   ]
  },
  {
   "cell_type": "markdown",
   "id": "70b8cde5-66ed-4a2c-84e7-10bb4e8728e3",
   "metadata": {},
   "source": [
    "### CAMBIAR TIPO DE DATO A BOOLEANO"
   ]
  },
  {
   "cell_type": "code",
   "execution_count": 42,
   "id": "daa6b520-25eb-4a19-a95a-647628b2a057",
   "metadata": {},
   "outputs": [],
   "source": [
    "my_table['host_identity_verified'] = my_table['host_identity_verified'].map({'t': True, 'f': False})"
   ]
  },
  {
   "cell_type": "code",
   "execution_count": 43,
   "id": "25cf76b9-99af-49b8-93b0-0f264ca45701",
   "metadata": {},
   "outputs": [
    {
     "data": {
      "text/html": [
       "<div>\n",
       "<style scoped>\n",
       "    .dataframe tbody tr th:only-of-type {\n",
       "        vertical-align: middle;\n",
       "    }\n",
       "\n",
       "    .dataframe tbody tr th {\n",
       "        vertical-align: top;\n",
       "    }\n",
       "\n",
       "    .dataframe thead th {\n",
       "        text-align: right;\n",
       "    }\n",
       "</style>\n",
       "<table border=\"1\" class=\"dataframe\">\n",
       "  <thead>\n",
       "    <tr style=\"text-align: right;\">\n",
       "      <th></th>\n",
       "      <th>description</th>\n",
       "      <th>name</th>\n",
       "      <th>host_since</th>\n",
       "      <th>host_location</th>\n",
       "      <th>host_is_superhost</th>\n",
       "      <th>host_identity_verified</th>\n",
       "      <th>host_has_profile_pic</th>\n",
       "      <th>price</th>\n",
       "    </tr>\n",
       "  </thead>\n",
       "  <tbody>\n",
       "    <tr>\n",
       "      <th>0</th>\n",
       "      <td>The apartment is a cosy open space with 65 m2....</td>\n",
       "      <td>Sunny and quiet Loft next to Sagrada Familia</td>\n",
       "      <td>2011-11-16</td>\n",
       "      <td>Barcelona, Spain</td>\n",
       "      <td>False</td>\n",
       "      <td>True</td>\n",
       "      <td>t</td>\n",
       "      <td>176.0</td>\n",
       "    </tr>\n",
       "    <tr>\n",
       "      <th>1</th>\n",
       "      <td>Rented only for monthly periods. 4 bedroom apa...</td>\n",
       "      <td>*monthly stays* 4 Bedroom Apartment near Rambla</td>\n",
       "      <td>2011-11-16</td>\n",
       "      <td>Barcelona, Spain</td>\n",
       "      <td>False</td>\n",
       "      <td>True</td>\n",
       "      <td>t</td>\n",
       "      <td>74.0</td>\n",
       "    </tr>\n",
       "    <tr>\n",
       "      <th>2</th>\n",
       "      <td>110m2 apartment to rent in Barcelona. Located ...</td>\n",
       "      <td>Huge flat for 8 people close to Sagrada Familia</td>\n",
       "      <td>2010-01-19</td>\n",
       "      <td>Barcelona, Spain</td>\n",
       "      <td>False</td>\n",
       "      <td>True</td>\n",
       "      <td>t</td>\n",
       "      <td>257.0</td>\n",
       "    </tr>\n",
       "    <tr>\n",
       "      <th>4</th>\n",
       "      <td>Beautiful spacious apartment, large terrace, 5...</td>\n",
       "      <td>Forum CCIB DeLuxe, Spacious, Large Balcony, relax</td>\n",
       "      <td>2010-03-09</td>\n",
       "      <td>Catalonia, Spain</td>\n",
       "      <td>False</td>\n",
       "      <td>True</td>\n",
       "      <td>t</td>\n",
       "      <td>249.0</td>\n",
       "    </tr>\n",
       "    <tr>\n",
       "      <th>5</th>\n",
       "      <td>A lovely two bedroom apartment only 250 m from...</td>\n",
       "      <td>Sagrada Familia area - Còrsega 1</td>\n",
       "      <td>2010-05-31</td>\n",
       "      <td>Barcelona, Spain</td>\n",
       "      <td>False</td>\n",
       "      <td>True</td>\n",
       "      <td>t</td>\n",
       "      <td>240.0</td>\n",
       "    </tr>\n",
       "  </tbody>\n",
       "</table>\n",
       "</div>"
      ],
      "text/plain": [
       "                                         description  \\\n",
       "0  The apartment is a cosy open space with 65 m2....   \n",
       "1  Rented only for monthly periods. 4 bedroom apa...   \n",
       "2  110m2 apartment to rent in Barcelona. Located ...   \n",
       "4  Beautiful spacious apartment, large terrace, 5...   \n",
       "5  A lovely two bedroom apartment only 250 m from...   \n",
       "\n",
       "                                                name  host_since  \\\n",
       "0       Sunny and quiet Loft next to Sagrada Familia  2011-11-16   \n",
       "1    *monthly stays* 4 Bedroom Apartment near Rambla  2011-11-16   \n",
       "2    Huge flat for 8 people close to Sagrada Familia  2010-01-19   \n",
       "4  Forum CCIB DeLuxe, Spacious, Large Balcony, relax  2010-03-09   \n",
       "5                   Sagrada Familia area - Còrsega 1  2010-05-31   \n",
       "\n",
       "      host_location  host_is_superhost  host_identity_verified  \\\n",
       "0  Barcelona, Spain              False                    True   \n",
       "1  Barcelona, Spain              False                    True   \n",
       "2  Barcelona, Spain              False                    True   \n",
       "4  Catalonia, Spain              False                    True   \n",
       "5  Barcelona, Spain              False                    True   \n",
       "\n",
       "  host_has_profile_pic  price  \n",
       "0                    t  176.0  \n",
       "1                    t   74.0  \n",
       "2                    t  257.0  \n",
       "4                    t  249.0  \n",
       "5                    t  240.0  "
      ]
     },
     "execution_count": 43,
     "metadata": {},
     "output_type": "execute_result"
    }
   ],
   "source": [
    "my_table.head()"
   ]
  },
  {
   "cell_type": "code",
   "execution_count": 44,
   "id": "dba11cbd-e45d-4333-b59e-eefc14b0bba8",
   "metadata": {},
   "outputs": [
    {
     "data": {
      "text/plain": [
       "array([ True, False])"
      ]
     },
     "execution_count": 44,
     "metadata": {},
     "output_type": "execute_result"
    }
   ],
   "source": [
    "my_table['host_identity_verified'].unique()"
   ]
  },
  {
   "cell_type": "code",
   "execution_count": 45,
   "id": "6f676aef-9920-429d-ae04-617f200625d7",
   "metadata": {},
   "outputs": [
    {
     "data": {
      "text/plain": [
       "count     15189\n",
       "unique        2\n",
       "top        True\n",
       "freq      14667\n",
       "Name: host_identity_verified, dtype: object"
      ]
     },
     "execution_count": 45,
     "metadata": {},
     "output_type": "execute_result"
    }
   ],
   "source": [
    "my_table['host_identity_verified'].describe()"
   ]
  },
  {
   "cell_type": "markdown",
   "id": "e20f5ed6-ce6d-44c4-a058-edd0ff6ba295",
   "metadata": {},
   "source": [
    "## COLUMNA 'HOST_HAS_PROFILE_PIC'"
   ]
  },
  {
   "cell_type": "markdown",
   "id": "c11ac179-dc21-4b66-86a5-0a47f800fa87",
   "metadata": {},
   "source": [
    "### CAMBIAR TIPO DE DATO A BOOLEANO"
   ]
  },
  {
   "cell_type": "code",
   "execution_count": 48,
   "id": "ea2d45f7-990c-46c6-b61b-a69b390c0bc9",
   "metadata": {},
   "outputs": [],
   "source": [
    "my_table['host_has_profile_pic'] = my_table['host_has_profile_pic'].map({'t': True, 'f': False})"
   ]
  },
  {
   "cell_type": "code",
   "execution_count": 49,
   "id": "55ae72d4-63c9-4bf7-83da-65dabc4d86a2",
   "metadata": {},
   "outputs": [
    {
     "data": {
      "text/html": [
       "<div>\n",
       "<style scoped>\n",
       "    .dataframe tbody tr th:only-of-type {\n",
       "        vertical-align: middle;\n",
       "    }\n",
       "\n",
       "    .dataframe tbody tr th {\n",
       "        vertical-align: top;\n",
       "    }\n",
       "\n",
       "    .dataframe thead th {\n",
       "        text-align: right;\n",
       "    }\n",
       "</style>\n",
       "<table border=\"1\" class=\"dataframe\">\n",
       "  <thead>\n",
       "    <tr style=\"text-align: right;\">\n",
       "      <th></th>\n",
       "      <th>description</th>\n",
       "      <th>name</th>\n",
       "      <th>host_since</th>\n",
       "      <th>host_location</th>\n",
       "      <th>host_is_superhost</th>\n",
       "      <th>host_identity_verified</th>\n",
       "      <th>host_has_profile_pic</th>\n",
       "      <th>price</th>\n",
       "    </tr>\n",
       "  </thead>\n",
       "  <tbody>\n",
       "    <tr>\n",
       "      <th>0</th>\n",
       "      <td>The apartment is a cosy open space with 65 m2....</td>\n",
       "      <td>Sunny and quiet Loft next to Sagrada Familia</td>\n",
       "      <td>2011-11-16</td>\n",
       "      <td>Barcelona, Spain</td>\n",
       "      <td>False</td>\n",
       "      <td>True</td>\n",
       "      <td>True</td>\n",
       "      <td>176.0</td>\n",
       "    </tr>\n",
       "    <tr>\n",
       "      <th>1</th>\n",
       "      <td>Rented only for monthly periods. 4 bedroom apa...</td>\n",
       "      <td>*monthly stays* 4 Bedroom Apartment near Rambla</td>\n",
       "      <td>2011-11-16</td>\n",
       "      <td>Barcelona, Spain</td>\n",
       "      <td>False</td>\n",
       "      <td>True</td>\n",
       "      <td>True</td>\n",
       "      <td>74.0</td>\n",
       "    </tr>\n",
       "    <tr>\n",
       "      <th>2</th>\n",
       "      <td>110m2 apartment to rent in Barcelona. Located ...</td>\n",
       "      <td>Huge flat for 8 people close to Sagrada Familia</td>\n",
       "      <td>2010-01-19</td>\n",
       "      <td>Barcelona, Spain</td>\n",
       "      <td>False</td>\n",
       "      <td>True</td>\n",
       "      <td>True</td>\n",
       "      <td>257.0</td>\n",
       "    </tr>\n",
       "    <tr>\n",
       "      <th>4</th>\n",
       "      <td>Beautiful spacious apartment, large terrace, 5...</td>\n",
       "      <td>Forum CCIB DeLuxe, Spacious, Large Balcony, relax</td>\n",
       "      <td>2010-03-09</td>\n",
       "      <td>Catalonia, Spain</td>\n",
       "      <td>False</td>\n",
       "      <td>True</td>\n",
       "      <td>True</td>\n",
       "      <td>249.0</td>\n",
       "    </tr>\n",
       "    <tr>\n",
       "      <th>5</th>\n",
       "      <td>A lovely two bedroom apartment only 250 m from...</td>\n",
       "      <td>Sagrada Familia area - Còrsega 1</td>\n",
       "      <td>2010-05-31</td>\n",
       "      <td>Barcelona, Spain</td>\n",
       "      <td>False</td>\n",
       "      <td>True</td>\n",
       "      <td>True</td>\n",
       "      <td>240.0</td>\n",
       "    </tr>\n",
       "  </tbody>\n",
       "</table>\n",
       "</div>"
      ],
      "text/plain": [
       "                                         description  \\\n",
       "0  The apartment is a cosy open space with 65 m2....   \n",
       "1  Rented only for monthly periods. 4 bedroom apa...   \n",
       "2  110m2 apartment to rent in Barcelona. Located ...   \n",
       "4  Beautiful spacious apartment, large terrace, 5...   \n",
       "5  A lovely two bedroom apartment only 250 m from...   \n",
       "\n",
       "                                                name  host_since  \\\n",
       "0       Sunny and quiet Loft next to Sagrada Familia  2011-11-16   \n",
       "1    *monthly stays* 4 Bedroom Apartment near Rambla  2011-11-16   \n",
       "2    Huge flat for 8 people close to Sagrada Familia  2010-01-19   \n",
       "4  Forum CCIB DeLuxe, Spacious, Large Balcony, relax  2010-03-09   \n",
       "5                   Sagrada Familia area - Còrsega 1  2010-05-31   \n",
       "\n",
       "      host_location  host_is_superhost  host_identity_verified  \\\n",
       "0  Barcelona, Spain              False                    True   \n",
       "1  Barcelona, Spain              False                    True   \n",
       "2  Barcelona, Spain              False                    True   \n",
       "4  Catalonia, Spain              False                    True   \n",
       "5  Barcelona, Spain              False                    True   \n",
       "\n",
       "   host_has_profile_pic  price  \n",
       "0                  True  176.0  \n",
       "1                  True   74.0  \n",
       "2                  True  257.0  \n",
       "4                  True  249.0  \n",
       "5                  True  240.0  "
      ]
     },
     "execution_count": 49,
     "metadata": {},
     "output_type": "execute_result"
    }
   ],
   "source": [
    "my_table.head()"
   ]
  },
  {
   "cell_type": "code",
   "execution_count": 50,
   "id": "29c2c866-c290-4fc2-8c75-a9fce5719b68",
   "metadata": {},
   "outputs": [
    {
     "data": {
      "text/plain": [
       "array([ True, False])"
      ]
     },
     "execution_count": 50,
     "metadata": {},
     "output_type": "execute_result"
    }
   ],
   "source": [
    "my_table['host_identity_verified'].unique()"
   ]
  },
  {
   "cell_type": "code",
   "execution_count": 51,
   "id": "62c459ec-a80e-4e3c-8b34-fd425bf761b1",
   "metadata": {},
   "outputs": [
    {
     "data": {
      "text/plain": [
       "count     15189\n",
       "unique        2\n",
       "top        True\n",
       "freq      14667\n",
       "Name: host_identity_verified, dtype: object"
      ]
     },
     "execution_count": 51,
     "metadata": {},
     "output_type": "execute_result"
    }
   ],
   "source": [
    "my_table['host_identity_verified'].describe()"
   ]
  },
  {
   "cell_type": "code",
   "execution_count": 52,
   "id": "b480916e-c5b7-469e-86b1-0f3f5fc91267",
   "metadata": {},
   "outputs": [
    {
     "data": {
      "text/plain": [
       "description                487\n",
       "name                         0\n",
       "host_since                   0\n",
       "host_location             3232\n",
       "host_is_superhost            0\n",
       "host_identity_verified       0\n",
       "host_has_profile_pic         0\n",
       "price                        0\n",
       "dtype: int64"
      ]
     },
     "execution_count": 52,
     "metadata": {},
     "output_type": "execute_result"
    }
   ],
   "source": [
    "my_table.isnull().sum()"
   ]
  },
  {
   "cell_type": "markdown",
   "id": "08df80f7-d717-41c9-87e1-fcb63ccbf0ae",
   "metadata": {},
   "source": [
    "## COLUMNA 'HOST_SINCE'"
   ]
  },
  {
   "cell_type": "markdown",
   "id": "b19b8779-2881-4b4d-92ad-bd70651f9601",
   "metadata": {},
   "source": [
    "### CAMBIAR TIPO DE DATO A FECHA"
   ]
  },
  {
   "cell_type": "code",
   "execution_count": 55,
   "id": "09247137-9af7-4b27-b552-a7f16c8244c3",
   "metadata": {},
   "outputs": [],
   "source": [
    "my_table['host_since'] = pd.to_datetime(my_table['host_since'])"
   ]
  },
  {
   "cell_type": "markdown",
   "id": "0ebbd08c-77bd-4d69-af76-29930748a426",
   "metadata": {},
   "source": [
    "## COLUMNA 'HOST_LOCATION'"
   ]
  },
  {
   "cell_type": "markdown",
   "id": "a95a6902-420b-42f6-8833-45668e00658f",
   "metadata": {},
   "source": [
    "### CONVERTIR LOS NULOS EN VALOR 'SIN RELLENAR'"
   ]
  },
  {
   "cell_type": "code",
   "execution_count": 58,
   "id": "8180e566-815e-44d4-9ad7-cb9fe40cf1e6",
   "metadata": {},
   "outputs": [],
   "source": [
    "my_table['host_location'] = my_table['host_location'].fillna('sin rellenar')"
   ]
  },
  {
   "cell_type": "markdown",
   "id": "49494b5e-7506-44f9-9ce8-239270d5c5e7",
   "metadata": {},
   "source": [
    "### TRANSFORMAR EL FORMATO A TIPO STRING"
   ]
  },
  {
   "cell_type": "code",
   "execution_count": 60,
   "id": "6c82fe41-85f0-47aa-80d8-651609e4f090",
   "metadata": {},
   "outputs": [],
   "source": [
    "my_table['host_location'] = my_table['host_location'].astype(str)"
   ]
  },
  {
   "cell_type": "markdown",
   "id": "faf960d4-1d39-4dcd-aab8-d3727da90ae7",
   "metadata": {},
   "source": [
    "### CREAR LISTA CON LOS VALORES QUE CONTIENEN 'SPAIN'"
   ]
  },
  {
   "cell_type": "code",
   "execution_count": 62,
   "id": "7e4ad3fc-691e-470e-8bad-3fc8e6b2f546",
   "metadata": {},
   "outputs": [],
   "source": [
    "list_spain = my_table[my_table['host_location'].apply(lambda x: 'spain' in x.lower())]['host_location'].unique()"
   ]
  },
  {
   "cell_type": "markdown",
   "id": "649924d5-b61a-4441-bef6-4dbc4c7310ad",
   "metadata": {},
   "source": [
    "### CREAR UNA LISTA CON LOS VALORES A BORRAR, LOS QUE NO TIENEN 'SPAIN' Y 'SIN RELLENAR'"
   ]
  },
  {
   "cell_type": "code",
   "execution_count": 64,
   "id": "69d179c2-8c7b-4cd2-a3f8-23d55b098e2a",
   "metadata": {},
   "outputs": [],
   "source": [
    "list_drop = my_table[my_table['host_location'].apply(lambda x: 'spain' not in x.lower() and 'sin rellenar' not in x.lower())]['host_location'].unique()"
   ]
  },
  {
   "cell_type": "markdown",
   "id": "d2d921c5-8eb1-4cf8-912f-250fe2989e2c",
   "metadata": {},
   "source": [
    "### BORRAR VALORES"
   ]
  },
  {
   "cell_type": "code",
   "execution_count": 66,
   "id": "efee7f40-1bfd-44f9-8784-f28eef4668d0",
   "metadata": {},
   "outputs": [],
   "source": [
    "my_table = my_table[~my_table['host_location'].isin(list_drop)]"
   ]
  },
  {
   "cell_type": "markdown",
   "id": "8556e5aa-6132-412d-a111-ae64fcf186ef",
   "metadata": {},
   "source": [
    "### REEMPLAR TODOS LOS VALORES DE LIST_SPAIN A SPAIN"
   ]
  },
  {
   "cell_type": "code",
   "execution_count": 68,
   "id": "dba14fd9-c37e-4c6a-80b5-cd58d25e87ab",
   "metadata": {},
   "outputs": [],
   "source": [
    "my_table['host_location'] = my_table['host_location'].replace(list_spain, 'spain')"
   ]
  },
  {
   "cell_type": "markdown",
   "id": "ca2d4b37-e09e-44bd-83ac-0f548f4ded38",
   "metadata": {},
   "source": [
    "# COMPROVACION"
   ]
  },
  {
   "cell_type": "code",
   "execution_count": 70,
   "id": "ec4f03c8-8817-4944-9ffd-714e095b3053",
   "metadata": {},
   "outputs": [
    {
     "data": {
      "text/plain": [
       "array(['spain', 'sin rellenar'], dtype=object)"
      ]
     },
     "execution_count": 70,
     "metadata": {},
     "output_type": "execute_result"
    }
   ],
   "source": [
    "my_table['host_location'].unique()"
   ]
  },
  {
   "cell_type": "code",
   "execution_count": 71,
   "id": "c8e09d82-4492-4ca9-9f91-a8b1a5bcfbd8",
   "metadata": {},
   "outputs": [
    {
     "data": {
      "text/plain": [
       "description               471\n",
       "name                        0\n",
       "host_since                  0\n",
       "host_location               0\n",
       "host_is_superhost           0\n",
       "host_identity_verified      0\n",
       "host_has_profile_pic        0\n",
       "price                       0\n",
       "dtype: int64"
      ]
     },
     "execution_count": 71,
     "metadata": {},
     "output_type": "execute_result"
    }
   ],
   "source": [
    "my_table.isnull().sum()"
   ]
  },
  {
   "cell_type": "code",
   "execution_count": 72,
   "id": "4c8eabb7-c1da-4cfe-893f-1cd28dab1d6f",
   "metadata": {},
   "outputs": [
    {
     "data": {
      "text/plain": [
       "description                       object\n",
       "name                              object\n",
       "host_since                datetime64[ns]\n",
       "host_location                     object\n",
       "host_is_superhost                   bool\n",
       "host_identity_verified              bool\n",
       "host_has_profile_pic                bool\n",
       "price                            float64\n",
       "dtype: object"
      ]
     },
     "execution_count": 72,
     "metadata": {},
     "output_type": "execute_result"
    }
   ],
   "source": [
    "my_table.dtypes"
   ]
  },
  {
   "cell_type": "code",
   "execution_count": 73,
   "id": "bb7cd102-658d-4339-b3c7-d8dab848e7e6",
   "metadata": {},
   "outputs": [
    {
     "data": {
      "text/html": [
       "<div>\n",
       "<style scoped>\n",
       "    .dataframe tbody tr th:only-of-type {\n",
       "        vertical-align: middle;\n",
       "    }\n",
       "\n",
       "    .dataframe tbody tr th {\n",
       "        vertical-align: top;\n",
       "    }\n",
       "\n",
       "    .dataframe thead th {\n",
       "        text-align: right;\n",
       "    }\n",
       "</style>\n",
       "<table border=\"1\" class=\"dataframe\">\n",
       "  <thead>\n",
       "    <tr style=\"text-align: right;\">\n",
       "      <th></th>\n",
       "      <th>description</th>\n",
       "      <th>name</th>\n",
       "      <th>host_since</th>\n",
       "      <th>host_location</th>\n",
       "      <th>host_is_superhost</th>\n",
       "      <th>host_identity_verified</th>\n",
       "      <th>host_has_profile_pic</th>\n",
       "      <th>price</th>\n",
       "    </tr>\n",
       "  </thead>\n",
       "  <tbody>\n",
       "    <tr>\n",
       "      <th>0</th>\n",
       "      <td>The apartment is a cosy open space with 65 m2....</td>\n",
       "      <td>Sunny and quiet Loft next to Sagrada Familia</td>\n",
       "      <td>2011-11-16</td>\n",
       "      <td>spain</td>\n",
       "      <td>False</td>\n",
       "      <td>True</td>\n",
       "      <td>True</td>\n",
       "      <td>176.0</td>\n",
       "    </tr>\n",
       "    <tr>\n",
       "      <th>1</th>\n",
       "      <td>Rented only for monthly periods. 4 bedroom apa...</td>\n",
       "      <td>*monthly stays* 4 Bedroom Apartment near Rambla</td>\n",
       "      <td>2011-11-16</td>\n",
       "      <td>spain</td>\n",
       "      <td>False</td>\n",
       "      <td>True</td>\n",
       "      <td>True</td>\n",
       "      <td>74.0</td>\n",
       "    </tr>\n",
       "    <tr>\n",
       "      <th>2</th>\n",
       "      <td>110m2 apartment to rent in Barcelona. Located ...</td>\n",
       "      <td>Huge flat for 8 people close to Sagrada Familia</td>\n",
       "      <td>2010-01-19</td>\n",
       "      <td>spain</td>\n",
       "      <td>False</td>\n",
       "      <td>True</td>\n",
       "      <td>True</td>\n",
       "      <td>257.0</td>\n",
       "    </tr>\n",
       "    <tr>\n",
       "      <th>4</th>\n",
       "      <td>Beautiful spacious apartment, large terrace, 5...</td>\n",
       "      <td>Forum CCIB DeLuxe, Spacious, Large Balcony, relax</td>\n",
       "      <td>2010-03-09</td>\n",
       "      <td>spain</td>\n",
       "      <td>False</td>\n",
       "      <td>True</td>\n",
       "      <td>True</td>\n",
       "      <td>249.0</td>\n",
       "    </tr>\n",
       "    <tr>\n",
       "      <th>5</th>\n",
       "      <td>A lovely two bedroom apartment only 250 m from...</td>\n",
       "      <td>Sagrada Familia area - Còrsega 1</td>\n",
       "      <td>2010-05-31</td>\n",
       "      <td>spain</td>\n",
       "      <td>False</td>\n",
       "      <td>True</td>\n",
       "      <td>True</td>\n",
       "      <td>240.0</td>\n",
       "    </tr>\n",
       "  </tbody>\n",
       "</table>\n",
       "</div>"
      ],
      "text/plain": [
       "                                         description  \\\n",
       "0  The apartment is a cosy open space with 65 m2....   \n",
       "1  Rented only for monthly periods. 4 bedroom apa...   \n",
       "2  110m2 apartment to rent in Barcelona. Located ...   \n",
       "4  Beautiful spacious apartment, large terrace, 5...   \n",
       "5  A lovely two bedroom apartment only 250 m from...   \n",
       "\n",
       "                                                name host_since host_location  \\\n",
       "0       Sunny and quiet Loft next to Sagrada Familia 2011-11-16         spain   \n",
       "1    *monthly stays* 4 Bedroom Apartment near Rambla 2011-11-16         spain   \n",
       "2    Huge flat for 8 people close to Sagrada Familia 2010-01-19         spain   \n",
       "4  Forum CCIB DeLuxe, Spacious, Large Balcony, relax 2010-03-09         spain   \n",
       "5                   Sagrada Familia area - Còrsega 1 2010-05-31         spain   \n",
       "\n",
       "   host_is_superhost  host_identity_verified  host_has_profile_pic  price  \n",
       "0              False                    True                  True  176.0  \n",
       "1              False                    True                  True   74.0  \n",
       "2              False                    True                  True  257.0  \n",
       "4              False                    True                  True  249.0  \n",
       "5              False                    True                  True  240.0  "
      ]
     },
     "execution_count": 73,
     "metadata": {},
     "output_type": "execute_result"
    }
   ],
   "source": [
    "my_table.head()"
   ]
  }
 ],
 "metadata": {
  "kernelspec": {
   "display_name": "Python 3 (ipykernel)",
   "language": "python",
   "name": "python3"
  },
  "language_info": {
   "codemirror_mode": {
    "name": "ipython",
    "version": 3
   },
   "file_extension": ".py",
   "mimetype": "text/x-python",
   "name": "python",
   "nbconvert_exporter": "python",
   "pygments_lexer": "ipython3",
   "version": "3.11.7"
  }
 },
 "nbformat": 4,
 "nbformat_minor": 5
}
