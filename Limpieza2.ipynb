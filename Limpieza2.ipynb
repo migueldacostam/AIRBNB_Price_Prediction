{
 "cells": [
  {
   "cell_type": "code",
   "execution_count": 1,
   "id": "c202eec7-679b-4c03-81bf-06f2326de772",
   "metadata": {
    "tags": []
   },
   "outputs": [],
   "source": [
    "import pandas as pd"
   ]
  },
  {
   "cell_type": "code",
   "execution_count": 2,
   "id": "bdbec001-4743-40d9-9afd-0bbb540eb2bf",
   "metadata": {
    "tags": []
   },
   "outputs": [],
   "source": [
    "import warnings\n",
    "warnings.simplefilter(action='ignore', category=FutureWarning)"
   ]
  },
  {
   "cell_type": "code",
   "execution_count": 3,
   "id": "0497d07b-4063-43d5-8112-f6e7b8328966",
   "metadata": {
    "tags": []
   },
   "outputs": [
    {
     "data": {
      "text/html": [
       "<div>\n",
       "<style scoped>\n",
       "    .dataframe tbody tr th:only-of-type {\n",
       "        vertical-align: middle;\n",
       "    }\n",
       "\n",
       "    .dataframe tbody tr th {\n",
       "        vertical-align: top;\n",
       "    }\n",
       "\n",
       "    .dataframe thead th {\n",
       "        text-align: right;\n",
       "    }\n",
       "</style>\n",
       "<table border=\"1\" class=\"dataframe\">\n",
       "  <thead>\n",
       "    <tr style=\"text-align: right;\">\n",
       "      <th></th>\n",
       "      <th>id</th>\n",
       "      <th>listing_url</th>\n",
       "      <th>scrape_id</th>\n",
       "      <th>last_scraped</th>\n",
       "      <th>source</th>\n",
       "      <th>name</th>\n",
       "      <th>description</th>\n",
       "      <th>neighborhood_overview</th>\n",
       "      <th>picture_url</th>\n",
       "      <th>host_id</th>\n",
       "      <th>...</th>\n",
       "      <th>review_scores_communication</th>\n",
       "      <th>review_scores_location</th>\n",
       "      <th>review_scores_value</th>\n",
       "      <th>license</th>\n",
       "      <th>instant_bookable</th>\n",
       "      <th>calculated_host_listings_count</th>\n",
       "      <th>calculated_host_listings_count_entire_homes</th>\n",
       "      <th>calculated_host_listings_count_private_rooms</th>\n",
       "      <th>calculated_host_listings_count_shared_rooms</th>\n",
       "      <th>reviews_per_month</th>\n",
       "    </tr>\n",
       "  </thead>\n",
       "  <tbody>\n",
       "    <tr>\n",
       "      <th>0</th>\n",
       "      <td>269467</td>\n",
       "      <td>https://www.airbnb.com/rooms/269467</td>\n",
       "      <td>20240615011618</td>\n",
       "      <td>2024-06-15</td>\n",
       "      <td>city scrape</td>\n",
       "      <td>Sunny and quiet Loft next to Sagrada Familia</td>\n",
       "      <td>The apartment is a cosy open space with 65 m2....</td>\n",
       "      <td>NaN</td>\n",
       "      <td>https://a0.muscache.com/pictures/a6445a90-94eb...</td>\n",
       "      <td>1411775</td>\n",
       "      <td>...</td>\n",
       "      <td>4.79</td>\n",
       "      <td>4.81</td>\n",
       "      <td>4.67</td>\n",
       "      <td>HUTB-001129</td>\n",
       "      <td>t</td>\n",
       "      <td>3</td>\n",
       "      <td>3</td>\n",
       "      <td>0</td>\n",
       "      <td>0</td>\n",
       "      <td>1.15</td>\n",
       "    </tr>\n",
       "  </tbody>\n",
       "</table>\n",
       "<p>1 rows × 75 columns</p>\n",
       "</div>"
      ],
      "text/plain": [
       "       id                          listing_url       scrape_id last_scraped  \\\n",
       "0  269467  https://www.airbnb.com/rooms/269467  20240615011618   2024-06-15   \n",
       "\n",
       "        source                                          name  \\\n",
       "0  city scrape  Sunny and quiet Loft next to Sagrada Familia   \n",
       "\n",
       "                                         description neighborhood_overview  \\\n",
       "0  The apartment is a cosy open space with 65 m2....                   NaN   \n",
       "\n",
       "                                         picture_url  host_id  ...  \\\n",
       "0  https://a0.muscache.com/pictures/a6445a90-94eb...  1411775  ...   \n",
       "\n",
       "  review_scores_communication review_scores_location review_scores_value  \\\n",
       "0                        4.79                   4.81                4.67   \n",
       "\n",
       "       license instant_bookable calculated_host_listings_count  \\\n",
       "0  HUTB-001129                t                              3   \n",
       "\n",
       "  calculated_host_listings_count_entire_homes  \\\n",
       "0                                           3   \n",
       "\n",
       "  calculated_host_listings_count_private_rooms  \\\n",
       "0                                            0   \n",
       "\n",
       "  calculated_host_listings_count_shared_rooms reviews_per_month  \n",
       "0                                           0              1.15  \n",
       "\n",
       "[1 rows x 75 columns]"
      ]
     },
     "execution_count": 3,
     "metadata": {},
     "output_type": "execute_result"
    }
   ],
   "source": [
    "listings = pd.read_csv(\"listings.csv\")\n",
    "listings.head(1)"
   ]
  },
  {
   "cell_type": "code",
   "execution_count": 4,
   "id": "4f60c06d-d259-4f1e-9934-ee7b592a11b3",
   "metadata": {
    "tags": []
   },
   "outputs": [
    {
     "data": {
      "text/plain": [
       "['id',\n",
       " 'listing_url',\n",
       " 'scrape_id',\n",
       " 'last_scraped',\n",
       " 'source',\n",
       " 'name',\n",
       " 'description',\n",
       " 'neighborhood_overview',\n",
       " 'picture_url',\n",
       " 'host_id',\n",
       " 'host_url',\n",
       " 'host_name',\n",
       " 'host_since',\n",
       " 'host_location',\n",
       " 'host_about',\n",
       " 'host_response_time',\n",
       " 'host_response_rate',\n",
       " 'host_acceptance_rate',\n",
       " 'host_is_superhost',\n",
       " 'host_thumbnail_url',\n",
       " 'host_picture_url',\n",
       " 'host_neighbourhood',\n",
       " 'host_listings_count',\n",
       " 'host_total_listings_count',\n",
       " 'host_verifications',\n",
       " 'host_has_profile_pic',\n",
       " 'host_identity_verified',\n",
       " 'neighbourhood',\n",
       " 'neighbourhood_cleansed',\n",
       " 'neighbourhood_group_cleansed',\n",
       " 'latitude',\n",
       " 'longitude',\n",
       " 'property_type',\n",
       " 'room_type',\n",
       " 'accommodates',\n",
       " 'bathrooms',\n",
       " 'bathrooms_text',\n",
       " 'bedrooms',\n",
       " 'beds',\n",
       " 'amenities',\n",
       " 'price',\n",
       " 'minimum_nights',\n",
       " 'maximum_nights',\n",
       " 'minimum_minimum_nights',\n",
       " 'maximum_minimum_nights',\n",
       " 'minimum_maximum_nights',\n",
       " 'maximum_maximum_nights',\n",
       " 'minimum_nights_avg_ntm',\n",
       " 'maximum_nights_avg_ntm',\n",
       " 'calendar_updated',\n",
       " 'has_availability',\n",
       " 'availability_30',\n",
       " 'availability_60',\n",
       " 'availability_90',\n",
       " 'availability_365',\n",
       " 'calendar_last_scraped',\n",
       " 'number_of_reviews',\n",
       " 'number_of_reviews_ltm',\n",
       " 'number_of_reviews_l30d',\n",
       " 'first_review',\n",
       " 'last_review',\n",
       " 'review_scores_rating',\n",
       " 'review_scores_accuracy',\n",
       " 'review_scores_cleanliness',\n",
       " 'review_scores_checkin',\n",
       " 'review_scores_communication',\n",
       " 'review_scores_location',\n",
       " 'review_scores_value',\n",
       " 'license',\n",
       " 'instant_bookable',\n",
       " 'calculated_host_listings_count',\n",
       " 'calculated_host_listings_count_entire_homes',\n",
       " 'calculated_host_listings_count_private_rooms',\n",
       " 'calculated_host_listings_count_shared_rooms',\n",
       " 'reviews_per_month']"
      ]
     },
     "execution_count": 4,
     "metadata": {},
     "output_type": "execute_result"
    }
   ],
   "source": [
    "list(listings.columns)"
   ]
  },
  {
   "cell_type": "markdown",
   "id": "453f3962-2545-4122-a977-7775d75b717b",
   "metadata": {
    "tags": []
   },
   "source": [
    "columnas_a_eliminar = ['id', 'listing_url', 'scrape_id', 'last_scraped', 'source','neighborhood_overview','picture_url','host_id',\n",
    "'host_url', 'host_name','host_about', 'host_response_time', 'host_response_rate', 'host_acceptance_rate',\n",
    "'host_thumbnail_url', 'host_neighbourhood', 'host_listings_count', 'host_total_listings_count', 'host_verifications',\n",
    "'neighbourhood', 'neighbourhood_cleansed', 'minimum_minimum_nights','maximum_minimum_nights', 'minimum_maximum_nights',\n",
    "'maximum_maximum_nights', 'minimum_nights_avg_ntm','maximum_nights_avg_ntm', 'calendar_updated', 'availability_90',\n",
    "'availability_365', 'calendar_last_scraped',  'number_of_reviews','number_of_reviews_ltm', 'number_of_reviews_l30d', 'first_review',\n",
    "'last_review', 'review_scores_accuracy', 'calculated_host_listings_count', 'calculated_host_listings_count_entire_homes',\n",
    "'calculated_host_listings_count_private_rooms','calculated_host_listings_count_shared_rooms']"
   ]
  },
  {
   "cell_type": "code",
   "execution_count": 6,
   "id": "7a1622ca-b20b-4a11-9b9e-2348f1f45a59",
   "metadata": {
    "tags": []
   },
   "outputs": [],
   "source": [
    "columnas_a_eliminar = [0,1,2,3,4,7,8,9,10,11,14,15,16,17,19,20,21,22,23,24,27,28,43,44,45,46,47,48,49,53,54,55,57,58,59,62,70,71,72,73]\n",
    "listings_clean = listings.drop(listings.columns[columnas_a_eliminar], axis=1)"
   ]
  },
  {
   "cell_type": "code",
   "execution_count": 7,
   "id": "9083c48d-51e8-48a8-bb0f-f5cfd7d4d317",
   "metadata": {
    "tags": []
   },
   "outputs": [
    {
     "data": {
      "text/plain": [
       "(18925, 35)"
      ]
     },
     "execution_count": 7,
     "metadata": {},
     "output_type": "execute_result"
    }
   ],
   "source": [
    "listings_clean.shape"
   ]
  },
  {
   "cell_type": "code",
   "execution_count": 8,
   "id": "1ac04ecb-0074-41cc-a37a-60e667750c3c",
   "metadata": {
    "tags": []
   },
   "outputs": [
    {
     "data": {
      "text/plain": [
       "['name',\n",
       " 'description',\n",
       " 'host_since',\n",
       " 'host_location',\n",
       " 'host_is_superhost',\n",
       " 'host_has_profile_pic',\n",
       " 'host_identity_verified',\n",
       " 'neighbourhood_group_cleansed',\n",
       " 'latitude',\n",
       " 'longitude',\n",
       " 'property_type',\n",
       " 'room_type',\n",
       " 'accommodates',\n",
       " 'bathrooms',\n",
       " 'bathrooms_text',\n",
       " 'bedrooms',\n",
       " 'beds',\n",
       " 'amenities',\n",
       " 'price',\n",
       " 'minimum_nights',\n",
       " 'maximum_nights',\n",
       " 'has_availability',\n",
       " 'availability_30',\n",
       " 'availability_60',\n",
       " 'number_of_reviews',\n",
       " 'last_review',\n",
       " 'review_scores_rating',\n",
       " 'review_scores_cleanliness',\n",
       " 'review_scores_checkin',\n",
       " 'review_scores_communication',\n",
       " 'review_scores_location',\n",
       " 'review_scores_value',\n",
       " 'license',\n",
       " 'instant_bookable',\n",
       " 'reviews_per_month']"
      ]
     },
     "execution_count": 8,
     "metadata": {},
     "output_type": "execute_result"
    }
   ],
   "source": [
    "list(listings_clean.columns)"
   ]
  },
  {
   "cell_type": "code",
   "execution_count": 9,
   "id": "d1867614-1b04-4094-846b-3cd4fb376c33",
   "metadata": {
    "tags": []
   },
   "outputs": [
    {
     "data": {
      "text/plain": [
       "name                               0\n",
       "description                      683\n",
       "host_since                         2\n",
       "host_location                   4428\n",
       "host_is_superhost                124\n",
       "host_has_profile_pic               2\n",
       "host_identity_verified             2\n",
       "neighbourhood_group_cleansed       0\n",
       "latitude                           0\n",
       "longitude                          0\n",
       "property_type                      0\n",
       "room_type                          0\n",
       "accommodates                       0\n",
       "bathrooms                       3743\n",
       "bathrooms_text                    23\n",
       "bedrooms                        1882\n",
       "beds                            3838\n",
       "amenities                          0\n",
       "price                           3736\n",
       "minimum_nights                     0\n",
       "maximum_nights                     0\n",
       "has_availability                1050\n",
       "availability_30                    0\n",
       "availability_60                    0\n",
       "number_of_reviews                  0\n",
       "last_review                     4787\n",
       "review_scores_rating            4787\n",
       "review_scores_cleanliness       4808\n",
       "review_scores_checkin           4810\n",
       "review_scores_communication     4807\n",
       "review_scores_location          4810\n",
       "review_scores_value             4809\n",
       "license                         6138\n",
       "instant_bookable                   0\n",
       "reviews_per_month               4787\n",
       "dtype: int64"
      ]
     },
     "execution_count": 9,
     "metadata": {},
     "output_type": "execute_result"
    }
   ],
   "source": [
    "listings_clean.isnull().sum()"
   ]
  },
  {
   "cell_type": "code",
   "execution_count": 10,
   "id": "9f5aff60-d863-4c13-a0fc-25706f9090c2",
   "metadata": {
    "tags": []
   },
   "outputs": [
    {
     "data": {
      "text/plain": [
       "(18925, 35)"
      ]
     },
     "execution_count": 10,
     "metadata": {},
     "output_type": "execute_result"
    }
   ],
   "source": [
    "listings_clean.shape"
   ]
  },
  {
   "cell_type": "markdown",
   "id": "3431baa2-4fc3-4199-bc16-9580cea3c111",
   "metadata": {},
   "source": [
    "'has_availability','availability_30', 'availability_60', 'number_of_reviews',\n",
    "'last_review', 'review_scores_rating', 'review_scores_cleanliness'"
   ]
  },
  {
   "cell_type": "markdown",
   "id": "5e5bf79b-805c-4771-813b-6a4f85f14841",
   "metadata": {},
   "source": [
    "# Tratamiento Nulos"
   ]
  },
  {
   "cell_type": "code",
   "execution_count": 13,
   "id": "4e94c68a-3e6d-4b5b-8cc9-b7b3fbd1cc61",
   "metadata": {
    "tags": []
   },
   "outputs": [
    {
     "data": {
      "text/plain": [
       "1050"
      ]
     },
     "execution_count": 13,
     "metadata": {},
     "output_type": "execute_result"
    }
   ],
   "source": [
    "listings_clean[\"has_availability\"].isnull().sum()"
   ]
  },
  {
   "cell_type": "code",
   "execution_count": 14,
   "id": "bc466fdb-6bc0-44c9-9c62-e095c10c3d76",
   "metadata": {
    "tags": []
   },
   "outputs": [
    {
     "data": {
      "text/plain": [
       "2"
      ]
     },
     "execution_count": 14,
     "metadata": {},
     "output_type": "execute_result"
    }
   ],
   "source": [
    "listings_clean[\"has_availability\"].nunique()"
   ]
  },
  {
   "cell_type": "code",
   "execution_count": 15,
   "id": "75388db7-d31b-4ce7-a194-72d71d6d2350",
   "metadata": {
    "tags": []
   },
   "outputs": [
    {
     "data": {
      "text/plain": [
       "0"
      ]
     },
     "execution_count": 15,
     "metadata": {},
     "output_type": "execute_result"
    }
   ],
   "source": [
    "listings_clean[\"availability_30\"].isnull().sum()"
   ]
  },
  {
   "cell_type": "code",
   "execution_count": 16,
   "id": "c69ef17c-f383-493f-a40f-d05179773a32",
   "metadata": {
    "tags": []
   },
   "outputs": [
    {
     "data": {
      "text/plain": [
       "0"
      ]
     },
     "execution_count": 16,
     "metadata": {},
     "output_type": "execute_result"
    }
   ],
   "source": [
    "listings_clean[\"availability_60\"].isnull().sum()"
   ]
  },
  {
   "cell_type": "code",
   "execution_count": 17,
   "id": "fbe54c91-a4ea-4a04-853f-685c34307f0d",
   "metadata": {
    "tags": []
   },
   "outputs": [
    {
     "data": {
      "text/plain": [
       "0"
      ]
     },
     "execution_count": 17,
     "metadata": {},
     "output_type": "execute_result"
    }
   ],
   "source": [
    "listings_clean[\"number_of_reviews\"].isnull().sum()"
   ]
  },
  {
   "cell_type": "code",
   "execution_count": 18,
   "id": "44903f99-5939-4466-b22f-725ba1b79aa5",
   "metadata": {
    "tags": []
   },
   "outputs": [
    {
     "data": {
      "text/plain": [
       "4787"
      ]
     },
     "execution_count": 18,
     "metadata": {},
     "output_type": "execute_result"
    }
   ],
   "source": [
    "listings_clean[\"last_review\"].isnull().sum()"
   ]
  },
  {
   "cell_type": "code",
   "execution_count": 19,
   "id": "2a888aaa-5b3d-4175-a0cb-916c28e61771",
   "metadata": {
    "tags": []
   },
   "outputs": [
    {
     "data": {
      "text/plain": [
       "4787"
      ]
     },
     "execution_count": 19,
     "metadata": {},
     "output_type": "execute_result"
    }
   ],
   "source": [
    "listings_clean[\"review_scores_rating\"].isnull().sum()"
   ]
  },
  {
   "cell_type": "code",
   "execution_count": 20,
   "id": "f25680ab-e282-4aa8-90e9-989fd88266bb",
   "metadata": {
    "tags": []
   },
   "outputs": [
    {
     "data": {
      "text/plain": [
       "4808"
      ]
     },
     "execution_count": 20,
     "metadata": {},
     "output_type": "execute_result"
    }
   ],
   "source": [
    "listings_clean[\"review_scores_cleanliness\"].isnull().sum()"
   ]
  },
  {
   "cell_type": "markdown",
   "id": "105ede43-c999-438e-99c0-cc54628fb3d0",
   "metadata": {},
   "source": [
    "## Columna 'price' \n",
    "\n",
    "eliminar los valores nulos de la columna 'price'"
   ]
  },
  {
   "cell_type": "code",
   "execution_count": 22,
   "id": "652356f5-3a6b-4bf1-9ee8-34a2140898b3",
   "metadata": {
    "tags": []
   },
   "outputs": [
    {
     "data": {
      "text/plain": [
       "3736"
      ]
     },
     "execution_count": 22,
     "metadata": {},
     "output_type": "execute_result"
    }
   ],
   "source": [
    "listings_clean[\"price\"].isnull().sum()"
   ]
  },
  {
   "cell_type": "code",
   "execution_count": 23,
   "id": "e396175e-fd76-4593-9f0d-15f73e36b804",
   "metadata": {
    "tags": []
   },
   "outputs": [],
   "source": [
    "listings_clean = listings_clean.dropna(subset=[\"price\"])"
   ]
  },
  {
   "cell_type": "code",
   "execution_count": 24,
   "id": "e909ba19-26a1-4433-a159-6f353ebbc0ff",
   "metadata": {
    "tags": []
   },
   "outputs": [
    {
     "data": {
      "text/plain": [
       "0"
      ]
     },
     "execution_count": 24,
     "metadata": {},
     "output_type": "execute_result"
    }
   ],
   "source": [
    "listings_clean[\"price\"].isnull().sum()"
   ]
  },
  {
   "cell_type": "code",
   "execution_count": 25,
   "id": "f9c7e912-8b58-40d6-9f74-aa912e56798e",
   "metadata": {
    "tags": []
   },
   "outputs": [
    {
     "data": {
      "text/plain": [
       "(15189, 35)"
      ]
     },
     "execution_count": 25,
     "metadata": {},
     "output_type": "execute_result"
    }
   ],
   "source": [
    "listings_clean.shape"
   ]
  },
  {
   "cell_type": "markdown",
   "id": "4b3f1781-6c86-4d11-8764-421cbe266f2a",
   "metadata": {},
   "source": [
    "## Columna \"has_availability\""
   ]
  },
  {
   "cell_type": "code",
   "execution_count": 27,
   "id": "1768a371-00e7-4471-b468-e6f4be778f69",
   "metadata": {
    "tags": []
   },
   "outputs": [],
   "source": [
    "# Convertir con manejo de valores no reconocidos o nulos\n",
    "listings_clean['has_availability'] = listings_clean['has_availability'].map({'t': True, 'no': False}).fillna(False) # Llena celdas vacias con False"
   ]
  },
  {
   "cell_type": "code",
   "execution_count": 28,
   "id": "b9ba8331-f4c6-4ebc-8bad-c651a67b3286",
   "metadata": {
    "tags": []
   },
   "outputs": [
    {
     "data": {
      "text/plain": [
       "0"
      ]
     },
     "execution_count": 28,
     "metadata": {},
     "output_type": "execute_result"
    }
   ],
   "source": [
    "listings_clean[\"has_availability\"].isnull().sum()"
   ]
  },
  {
   "cell_type": "markdown",
   "id": "e506d263-da70-48f7-9a5c-bbe04903db55",
   "metadata": {},
   "source": [
    "## Columna 'last_review'"
   ]
  },
  {
   "cell_type": "code",
   "execution_count": 30,
   "id": "4d5c6567-d21b-4dc7-873d-ddbd5aaaa53e",
   "metadata": {
    "tags": []
   },
   "outputs": [
    {
     "data": {
      "text/plain": [
       "3317"
      ]
     },
     "execution_count": 30,
     "metadata": {},
     "output_type": "execute_result"
    }
   ],
   "source": [
    "listings_clean[\"last_review\"].isnull().sum()"
   ]
  },
  {
   "cell_type": "code",
   "execution_count": 119,
   "id": "eb738d8c-8b23-4965-948a-b9d69c2daf47",
   "metadata": {
    "tags": []
   },
   "outputs": [
    {
     "data": {
      "text/plain": [
       "count                            11872\n",
       "mean     2024-01-24 21:12:36.873315328\n",
       "min                2011-06-23 00:00:00\n",
       "25%                2024-03-02 00:00:00\n",
       "50%                2024-05-22 00:00:00\n",
       "75%                2024-06-03 00:00:00\n",
       "max                2024-06-14 00:00:00\n",
       "Name: last_review, dtype: object"
      ]
     },
     "execution_count": 119,
     "metadata": {},
     "output_type": "execute_result"
    }
   ],
   "source": [
    "listings_clean[\"last_review\"].describe()"
   ]
  },
  {
   "cell_type": "code",
   "execution_count": 123,
   "id": "15b49661-35e7-47b6-b7b9-bd2b437fd963",
   "metadata": {
    "tags": []
   },
   "outputs": [
    {
     "data": {
      "text/plain": [
       "1023"
      ]
     },
     "execution_count": 123,
     "metadata": {},
     "output_type": "execute_result"
    }
   ],
   "source": [
    "listings_clean[\"last_review\"].nunique()"
   ]
  },
  {
   "cell_type": "code",
   "execution_count": 113,
   "id": "1341a3f4-8002-4215-99f1-51418de83a17",
   "metadata": {
    "tags": []
   },
   "outputs": [],
   "source": [
    "listings_clean['last_review'] = pd.to_datetime(listings_clean['last_review'])"
   ]
  },
  {
   "cell_type": "code",
   "execution_count": 115,
   "id": "eabd72fa-8b15-414a-9d5a-173cb8747e50",
   "metadata": {
    "tags": []
   },
   "outputs": [
    {
     "data": {
      "text/plain": [
       "0       2024-05-22\n",
       "1       2016-08-13\n",
       "2       2024-05-02\n",
       "4       2024-05-20\n",
       "5       2024-06-05\n",
       "           ...    \n",
       "18920          NaT\n",
       "18921          NaT\n",
       "18922          NaT\n",
       "18923          NaT\n",
       "18924          NaT\n",
       "Name: last_review, Length: 15189, dtype: datetime64[ns]"
      ]
     },
     "execution_count": 115,
     "metadata": {},
     "output_type": "execute_result"
    }
   ],
   "source": [
    "listings_clean[\"last_review\"]"
   ]
  },
  {
   "cell_type": "code",
   "execution_count": 117,
   "id": "6a4e3566-3d00-4213-861e-361ac793f035",
   "metadata": {
    "tags": []
   },
   "outputs": [
    {
     "data": {
      "text/plain": [
       "3317"
      ]
     },
     "execution_count": 117,
     "metadata": {},
     "output_type": "execute_result"
    }
   ],
   "source": [
    "listings_clean[\"last_review\"].isnull().sum()"
   ]
  },
  {
   "cell_type": "code",
   "execution_count": 33,
   "id": "f7e6ffd7-901b-4027-8da8-dc362109d388",
   "metadata": {
    "tags": []
   },
   "outputs": [
    {
     "data": {
      "text/plain": [
       "(15189, 35)"
      ]
     },
     "execution_count": 33,
     "metadata": {},
     "output_type": "execute_result"
    }
   ],
   "source": [
    "listings_clean.shape"
   ]
  },
  {
   "cell_type": "markdown",
   "id": "e1beb827-2a25-4bcb-8eba-5f61e9391853",
   "metadata": {
    "tags": []
   },
   "source": [
    "## Columna 'review_scores_rating'"
   ]
  },
  {
   "cell_type": "code",
   "execution_count": 35,
   "id": "e0927621-0693-4a67-ab58-10ba0d7cf8bb",
   "metadata": {
    "tags": []
   },
   "outputs": [
    {
     "data": {
      "text/plain": [
       "count    11872.000000\n",
       "mean         4.591732\n",
       "std          0.480347\n",
       "min          1.000000\n",
       "25%          4.460000\n",
       "50%          4.700000\n",
       "75%          4.890000\n",
       "max          5.000000\n",
       "Name: review_scores_rating, dtype: float64"
      ]
     },
     "execution_count": 35,
     "metadata": {},
     "output_type": "execute_result"
    }
   ],
   "source": [
    "listings_clean[\"review_scores_rating\"].describe()"
   ]
  },
  {
   "cell_type": "code",
   "execution_count": 36,
   "id": "97590d20-5fa4-43e6-9dc9-0718f1081f7d",
   "metadata": {
    "tags": []
   },
   "outputs": [
    {
     "data": {
      "text/plain": [
       "3317"
      ]
     },
     "execution_count": 36,
     "metadata": {},
     "output_type": "execute_result"
    }
   ],
   "source": [
    "listings_clean[\"review_scores_rating\"].isnull().sum()"
   ]
  },
  {
   "cell_type": "code",
   "execution_count": 105,
   "id": "be1a557f-0c5d-4b8c-aa38-e13a29a49cc6",
   "metadata": {
    "tags": []
   },
   "outputs": [],
   "source": [
    "listings_clean['review_scores_rating'].fillna(listings_clean['review_scores_rating'].mean(), inplace=True)"
   ]
  },
  {
   "cell_type": "code",
   "execution_count": 107,
   "id": "a077559c-a17c-42bc-93db-7928182915f5",
   "metadata": {
    "tags": []
   },
   "outputs": [
    {
     "data": {
      "text/plain": [
       "0"
      ]
     },
     "execution_count": 107,
     "metadata": {},
     "output_type": "execute_result"
    }
   ],
   "source": [
    "listings_clean[\"review_scores_rating\"].isnull().sum()"
   ]
  },
  {
   "cell_type": "code",
   "execution_count": 37,
   "id": "e0ba3d19-5be2-4e99-afd2-35938edde3d3",
   "metadata": {
    "tags": []
   },
   "outputs": [
    {
     "data": {
      "text/plain": [
       "0        4.74\n",
       "1        4.00\n",
       "2        4.35\n",
       "4        4.79\n",
       "5        4.46\n",
       "         ... \n",
       "18920     NaN\n",
       "18921     NaN\n",
       "18922     NaN\n",
       "18923     NaN\n",
       "18924     NaN\n",
       "Name: review_scores_rating, Length: 15189, dtype: float64"
      ]
     },
     "execution_count": 37,
     "metadata": {},
     "output_type": "execute_result"
    }
   ],
   "source": [
    "listings_clean[\"review_scores_rating\"]"
   ]
  },
  {
   "cell_type": "markdown",
   "id": "bcb7fe79-a804-474b-a5e1-d18c3964b723",
   "metadata": {},
   "source": [
    "## Columna 'review_scores_cleanliness'"
   ]
  },
  {
   "cell_type": "code",
   "execution_count": 39,
   "id": "9653805e-6a64-45ef-82b1-c53bd4c68142",
   "metadata": {
    "tags": []
   },
   "outputs": [
    {
     "data": {
      "text/plain": [
       "count    11854.000000\n",
       "mean         4.618333\n",
       "std          0.461061\n",
       "min          1.000000\n",
       "25%          4.500000\n",
       "50%          4.740000\n",
       "75%          4.910000\n",
       "max          5.000000\n",
       "Name: review_scores_cleanliness, dtype: float64"
      ]
     },
     "execution_count": 39,
     "metadata": {},
     "output_type": "execute_result"
    }
   ],
   "source": [
    "listings_clean[\"review_scores_cleanliness\"].describe()"
   ]
  },
  {
   "cell_type": "code",
   "execution_count": 40,
   "id": "60d66f51-a19c-46ab-b838-05b0dca77939",
   "metadata": {
    "tags": []
   },
   "outputs": [
    {
     "data": {
      "text/plain": [
       "3335"
      ]
     },
     "execution_count": 40,
     "metadata": {},
     "output_type": "execute_result"
    }
   ],
   "source": [
    "listings_clean[\"review_scores_cleanliness\"].isnull().sum()"
   ]
  },
  {
   "cell_type": "code",
   "execution_count": 41,
   "id": "41c37e10-3088-4152-8c6d-007826ee7dcd",
   "metadata": {
    "tags": []
   },
   "outputs": [],
   "source": [
    "listings_clean['review_scores_cleanliness'].fillna(listings_clean['review_scores_cleanliness'].mean(), inplace=True)"
   ]
  },
  {
   "cell_type": "code",
   "execution_count": 42,
   "id": "ee96a0f2-49bc-4da9-b8a1-ad9e5d9e9c73",
   "metadata": {
    "tags": []
   },
   "outputs": [
    {
     "data": {
      "text/plain": [
       "0"
      ]
     },
     "execution_count": 42,
     "metadata": {},
     "output_type": "execute_result"
    }
   ],
   "source": [
    "listings_clean[\"review_scores_cleanliness\"].isnull().sum()"
   ]
  },
  {
   "cell_type": "code",
   "execution_count": 109,
   "id": "5b85fb6c-58e0-4168-9dea-150367d1c9cc",
   "metadata": {
    "tags": []
   },
   "outputs": [
    {
     "data": {
      "text/plain": [
       "name                               0\n",
       "description                      487\n",
       "host_since                         0\n",
       "host_location                   3232\n",
       "host_is_superhost                119\n",
       "host_has_profile_pic               0\n",
       "host_identity_verified             0\n",
       "neighbourhood_group_cleansed       0\n",
       "latitude                           0\n",
       "longitude                          0\n",
       "property_type                      0\n",
       "room_type                          0\n",
       "accommodates                       0\n",
       "bathrooms                          7\n",
       "bathrooms_text                    22\n",
       "bedrooms                          10\n",
       "beds                             102\n",
       "amenities                          0\n",
       "price                              0\n",
       "minimum_nights                     0\n",
       "maximum_nights                     0\n",
       "has_availability                   0\n",
       "availability_30                    0\n",
       "availability_60                    0\n",
       "number_of_reviews                  0\n",
       "last_review                     3317\n",
       "review_scores_rating               0\n",
       "review_scores_cleanliness          0\n",
       "review_scores_checkin           3335\n",
       "review_scores_communication     3334\n",
       "review_scores_location          3335\n",
       "review_scores_value             3334\n",
       "license                         4163\n",
       "instant_bookable                   0\n",
       "reviews_per_month               3317\n",
       "dtype: int64"
      ]
     },
     "execution_count": 109,
     "metadata": {},
     "output_type": "execute_result"
    }
   ],
   "source": [
    "listings_clean.isnull().sum()"
   ]
  },
  {
   "cell_type": "markdown",
   "id": "3fd0db90-48fa-4251-9345-4e2aec8e36c1",
   "metadata": {},
   "source": [
    "# Analisis Exploratorio (EDA)"
   ]
  },
  {
   "cell_type": "code",
   "execution_count": 44,
   "id": "23b00a5b-68bf-4f7c-85fd-e80bb7edba6a",
   "metadata": {
    "tags": []
   },
   "outputs": [],
   "source": [
    "import seaborn as sns\n",
    "import matplotlib.pyplot as plt"
   ]
  },
  {
   "cell_type": "markdown",
   "id": "7340e1cb-bbb8-4431-84df-2a1652253573",
   "metadata": {},
   "source": [
    "## histplot has_availability"
   ]
  },
  {
   "cell_type": "code",
   "execution_count": 46,
   "id": "e06f8e2a-67b7-4539-b49e-d44e333d37c2",
   "metadata": {
    "tags": []
   },
   "outputs": [
    {
     "name": "stderr",
     "output_type": "stream",
     "text": [
      "/opt/anaconda3/lib/python3.11/site-packages/seaborn/_stats/counting.py:137: RuntimeWarning: Converting input from bool to <class 'numpy.uint8'> for compatibility.\n",
      "  bin_edges = np.histogram_bin_edges(vals, bins, binrange, weight)\n",
      "/opt/anaconda3/lib/python3.11/site-packages/seaborn/_stats/counting.py:176: RuntimeWarning: Converting input from bool to <class 'numpy.uint8'> for compatibility.\n",
      "  hist, edges = np.histogram(vals, **bin_kws, weights=weights, density=density)\n"
     ]
    },
    {
     "data": {
      "image/png": "[encoded data removed]",
      "text/plain": [
       "<Figure size 640x480 with 1 Axes>"
      ]
     },
     "metadata": {},
     "output_type": "display_data"
    }
   ],
   "source": [
    "sns.histplot(data = listings_clean, x='has_availability')\n",
    "plt.show()"
   ]
  },
  {
   "cell_type": "markdown",
   "id": "5b9c7605-2f9b-4df6-a7db-bd9b81734c7b",
   "metadata": {},
   "source": [
    "## histplot availability_30"
   ]
  },
  {
   "cell_type": "code",
   "execution_count": 48,
   "id": "f252bfb2-e08d-4efd-bbb5-5211794d1f06",
   "metadata": {
    "tags": []
   },
   "outputs": [
    {
     "data": {
      "image/png": "[encoded data removed]",
      "text/plain": [
       "<Figure size 640x480 with 1 Axes>"
      ]
     },
     "metadata": {},
     "output_type": "display_data"
    }
   ],
   "source": [
    "sns.histplot(data = listings_clean, x='availability_30')\n",
    "plt.show()"
   ]
  },
  {
   "cell_type": "markdown",
   "id": "cae1f339-a90e-4485-b3e8-99f580ab520a",
   "metadata": {},
   "source": [
    "## histplot availability_60"
   ]
  },
  {
   "cell_type": "code",
   "execution_count": 50,
   "id": "18ffcbbc-bcbc-4b11-9cf1-5c291c612162",
   "metadata": {
    "tags": []
   },
   "outputs": [
    {
     "data": {
      "image/png": "[encoded data removed]",
      "text/plain": [
       "<Figure size 640x480 with 1 Axes>"
      ]
     },
     "metadata": {},
     "output_type": "display_data"
    }
   ],
   "source": [
    "sns.histplot(data = listings_clean, x='availability_60')\n",
    "plt.show()"
   ]
  },
  {
   "cell_type": "markdown",
   "id": "746e2e27-ebb9-4809-9a32-689501d13295",
   "metadata": {},
   "source": [
    "## histplot number_of_reviews"
   ]
  },
  {
   "cell_type": "code",
   "execution_count": 52,
   "id": "652c4d30-49de-4919-b304-74ca8837a7a5",
   "metadata": {
    "tags": []
   },
   "outputs": [
    {
     "data": {
      "image/png": "[encoded data removed]",
      "text/plain": [
       "<Figure size 640x480 with 1 Axes>"
      ]
     },
     "metadata": {},
     "output_type": "display_data"
    }
   ],
   "source": [
    "sns.histplot(data = listings_clean, x='number_of_reviews')\n",
    "plt.show()"
   ]
  },
  {
   "cell_type": "markdown",
   "id": "28920f3e-c68f-4b75-bd55-ed0d5cbe994f",
   "metadata": {},
   "source": [
    "## histplot number_of_reviews"
   ]
  },
  {
   "cell_type": "code",
   "execution_count": 54,
   "id": "872ee274-83bb-457a-a015-ddbaf73a1d4b",
   "metadata": {
    "tags": []
   },
   "outputs": [
    {
     "data": {
      "image/png": "[encoded data removed]",
      "text/plain": [
       "<Figure size 640x480 with 1 Axes>"
      ]
     },
     "metadata": {},
     "output_type": "display_data"
    }
   ],
   "source": [
    "sns.histplot(data = listings_clean, x='last_review')\n",
    "plt.show()"
   ]
  },
  {
   "cell_type": "markdown",
   "id": "35384054-f39b-4ab9-8dad-522472388876",
   "metadata": {},
   "source": [
    "## histplot review_scores_rating"
   ]
  },
  {
   "cell_type": "code",
   "execution_count": 56,
   "id": "32e55533-5d73-4e69-bfb2-fbb6046387bf",
   "metadata": {
    "tags": []
   },
   "outputs": [
    {
     "data": {
      "image/png": "[encoded data removed]",
      "text/plain": [
       "<Figure size 640x480 with 1 Axes>"
      ]
     },
     "metadata": {},
     "output_type": "display_data"
    }
   ],
   "source": [
    "sns.histplot(data = listings_clean, x='review_scores_rating')\n",
    "plt.show()"
   ]
  },
  {
   "cell_type": "markdown",
   "id": "a1fcd5db-55b6-454a-9fac-a33ba024361c",
   "metadata": {},
   "source": [
    "## histplot review_scores_cleanliness"
   ]
  },
  {
   "cell_type": "code",
   "execution_count": 58,
   "id": "6ccb042f-af22-40be-b37c-4394392dfcac",
   "metadata": {
    "tags": []
   },
   "outputs": [
    {
     "data": {
      "text/plain": [
       "4.618333052134301"
      ]
     },
     "execution_count": 58,
     "metadata": {},
     "output_type": "execute_result"
    }
   ],
   "source": [
    "listings_clean.review_scores_cleanliness.mean()"
   ]
  },
  {
   "cell_type": "code",
   "execution_count": 59,
   "id": "c3ca9290-45b0-493c-bfa0-c4324dac5c0d",
   "metadata": {
    "tags": []
   },
   "outputs": [
    {
     "data": {
      "image/png": "[encoded data removed]",
      "text/plain": [
       "<Figure size 640x480 with 1 Axes>"
      ]
     },
     "metadata": {},
     "output_type": "display_data"
    }
   ],
   "source": [
    "sns.histplot(data = listings_clean, x='review_scores_cleanliness')\n",
    "plt.show()"
   ]
  },
  {
   "cell_type": "code",
   "execution_count": 60,
   "id": "f4678053-5381-44e2-b3ca-b6c398dacb94",
   "metadata": {
    "collapsed": true,
    "jupyter": {
     "outputs_hidden": true
    },
    "tags": []
   },
   "outputs": [
    {
     "data": {
      "text/plain": [
       "name                               0\n",
       "description                      487\n",
       "host_since                         0\n",
       "host_location                   3232\n",
       "host_is_superhost                119\n",
       "host_has_profile_pic               0\n",
       "host_identity_verified             0\n",
       "neighbourhood_group_cleansed       0\n",
       "latitude                           0\n",
       "longitude                          0\n",
       "property_type                      0\n",
       "room_type                          0\n",
       "accommodates                       0\n",
       "bathrooms                          7\n",
       "bathrooms_text                    22\n",
       "bedrooms                          10\n",
       "beds                             102\n",
       "amenities                          0\n",
       "price                              0\n",
       "minimum_nights                     0\n",
       "maximum_nights                     0\n",
       "has_availability                   0\n",
       "availability_30                    0\n",
       "availability_60                    0\n",
       "number_of_reviews                  0\n",
       "last_review                     3317\n",
       "review_scores_rating            3317\n",
       "review_scores_cleanliness          0\n",
       "review_scores_checkin           3335\n",
       "review_scores_communication     3334\n",
       "review_scores_location          3335\n",
       "review_scores_value             3334\n",
       "license                         4163\n",
       "instant_bookable                   0\n",
       "reviews_per_month               3317\n",
       "dtype: int64"
      ]
     },
     "execution_count": 60,
     "metadata": {},
     "output_type": "execute_result"
    }
   ],
   "source": [
    "listings_clean.isnull().sum()"
   ]
  },
  {
   "cell_type": "code",
   "execution_count": 176,
   "id": "7efbf339-e5f4-42f0-9e51-e2af79e9913d",
   "metadata": {
    "tags": []
   },
   "outputs": [
    {
     "data": {
      "text/plain": [
       "0       2024-05-22\n",
       "1       2016-08-13\n",
       "2       2024-05-02\n",
       "4       2024-05-20\n",
       "5       2024-06-05\n",
       "           ...    \n",
       "18920          NaT\n",
       "18921          NaT\n",
       "18922          NaT\n",
       "18923          NaT\n",
       "18924          NaT\n",
       "Name: last_review, Length: 15189, dtype: datetime64[ns]"
      ]
     },
     "execution_count": 176,
     "metadata": {},
     "output_type": "execute_result"
    }
   ],
   "source": [
    "listings_clean[\"last_review\"]"
   ]
  },
  {
   "cell_type": "code",
   "execution_count": 183,
   "id": "6bb33689-c0a9-47b6-8f3f-a292875a2a8c",
   "metadata": {
    "tags": []
   },
   "outputs": [
    {
     "name": "stderr",
     "output_type": "stream",
     "text": [
      "[nltk_data] Downloading package stopwords to\n",
      "[nltk_data]     /Users/migueldacostam/nltk_data...\n",
      "[nltk_data]   Package stopwords is already up-to-date!\n"
     ]
    },
    {
     "name": "stdout",
     "output_type": "stream",
     "text": [
      "[('hot', 18355), ('water', 18324), ('kitchen', 17740), ('wifi', 17704), ('dryer', 15833), ('apartment', 15286), ('allowed', 14483), ('bed', 14009), ('coffee', 13539), ('washer', 12908)]\n"
     ]
    }
   ],
   "source": [
    "import pandas as pd\n",
    "from collections import Counter\n",
    "import re\n",
    "import nltk\n",
    "from nltk.corpus import stopwords\n",
    "# Descargar lista de stopwords\n",
    "nltk.download('stopwords')\n",
    "# Cargar stopwords en inglés\n",
    "stop_words = set(stopwords.words('english'))\n",
    "# Suponiendo que tienes un DataFrame llamado df con las columnas 'name', 'description' y 'amenities'\n",
    "# Concatenar todos los textos de las columnas 'name', 'description' y 'amenities' en un solo string\n",
    "textos_combinados = listings_clean[['name', 'description', 'amenities']].fillna('').apply(lambda x: ' '.join(x), axis=1).str.cat(sep=' ')\n",
    "# Convertir a minúsculas\n",
    "textos_combinados = textos_combinados.lower()\n",
    "# Eliminar puntuación y caracteres especiales usando una expresión regular\n",
    "textos_combinados = re.sub(r'[^\\w\\s]', '', textos_combinados)\n",
    "# Dividir el texto en palabras individuales\n",
    "palabras = textos_combinados.split()\n",
    "# Eliminar stopwords\n",
    "palabras_filtradas = [palabra for palabra in palabras if palabra not in stop_words]\n",
    "# Contar la frecuencia de cada palabra\n",
    "contador_palabras_filtradas = Counter(palabras_filtradas)\n",
    "# Mostrar las 10 palabras más comunes\n",
    "palabras_comunes_filtradas = contador_palabras_filtradas.most_common(10)\n",
    "print(palabras_comunes_filtradas)"
   ]
  },
  {
   "cell_type": "code",
   "execution_count": 189,
   "id": "f43efaf7-2bb8-4bb1-a046-4b8c2fec2f1b",
   "metadata": {
    "tags": []
   },
   "outputs": [],
   "source": [
    "import re\n",
    "\n",
    "def limpiar_texto(texto):\n",
    "    if pd.isna(texto):\n",
    "        return ''\n",
    "    texto = texto.lower()  # Convertir a minúsculas\n",
    "    texto = re.sub(r'[^a-z\\s]', '', texto)  # Eliminar símbolos no alfanuméricos\n",
    "    return texto\n",
    "\n",
    "# Aplicar la función a cada columna\n",
    "listings_clean['name'] = listings_clean['name'].apply(limpiar_texto)\n",
    "listings_clean['description'] = listings_clean['description'].apply(limpiar_texto)\n",
    "listings_clean['amenities'] = listings_clean['amenities'].apply(limpiar_texto)\n",
    "\n",
    "# Concatenar las columnas con un espacio\n",
    "listings_clean['texto_completo'] = listings_clean['name'] + ' ' + listings_clean['description'] + ' ' + listings_clean['amenities']"
   ]
  },
  {
   "cell_type": "code",
   "execution_count": 197,
   "id": "1617d6e0-ded8-4b0e-befa-4603adbab8e9",
   "metadata": {
    "collapsed": true,
    "jupyter": {
     "outputs_hidden": true
    },
    "tags": []
   },
   "outputs": [
    {
     "data": {
      "text/plain": [
       "array(['sunny and quiet loft next to sagrada familia the apartment is a cosy open space with  m the living room and a bedroom areas look onto the quite balcony facing to south a lot of sun the loft has also a dinning area with a big table and a good desk area with books about barcelona there is a high quality internet service and a single folding bed the bedroom area has a double bed and wardrobe the living area has a sofa tv and hifi there is a separate kitchen kitchen patio or balcony host greets you hair dryer coffee maker essentials cooking basics washer refrigerator hangers dishwasher iron dishes and silverware wifi heating stove central air conditioning dedicated workspace hot water oven microwave tv',\n",
       "       'monthly stays  bedroom apartment near rambla rented only for monthly periods  bedroom apartment located in the heart of barcelona next to la rambla and liceu thater one of the most active areas in barcelona a great place to live and enjoy the city please consider it is a second floor and there is no elevator there are  rooms and one bed in each room so it would be ideal for  people kitchen washer smoking allowed wifi tv',\n",
       "       'huge flat for  people close to sagrada familia m apartment to rent in barcelona located in the eixample district near the sagrada familia it has a small balcony where you can see the temple of gaudi capacity for  people br br licence number hutb pack un playtravel crib free street parking kitchen host greets you city skyline view elevator crib hair dryer ac  split type ductless system coffee maker essentials private patio or balcony refrigerator shampoo paid parking on premises hangers free washer u in unit iron dishes and silverware  inch tv wifi heating hot water',\n",
       "       ...,\n",
       "       'semuc   bedrooms office and balcony in eixample dreta  cleaning products kitchen dryer first aid kit patio or balcony elevator hair dryer air conditioning long term stays allowed coffee maker essentials hot water kettle cooking basics toaster washer blender record player refrigerator freezer drying rack for clothing hangers dishwasher iron dishes and silverware bed linens wifi heating stove dedicated workspace hot water oven smoke alarm microwave tv pets allowed',\n",
       "       ' room in the center gotico enjoy easy access to everything from this perfectly located home wifi lock on bedroom door',\n",
       "       'lovely room for couple the room is located in a quiet residential area of barcelona there are many green parks shops and establishments nearby any transport option the apartment is newly renovated has a living room kitchen hot water kettle kitchen cooking basics host greets you smoke alarm first aid kit fire extinguisher carbon monoxide alarm dishes and silverware shower gel bed linens tv wifi refrigerator essentials hot water lock on bedroom door'],\n",
       "      dtype=object)"
      ]
     },
     "execution_count": 197,
     "metadata": {},
     "output_type": "execute_result"
    }
   ],
   "source": [
    "listings_clean['texto_completo'].unique()"
   ]
  },
  {
   "cell_type": "code",
   "execution_count": 201,
   "id": "93ac02f0-9503-45cb-b0c1-80fbd4824165",
   "metadata": {
    "tags": []
   },
   "outputs": [],
   "source": [
    "palabras_clave = [\n",
    "    'wifi', 'Wireless Internet', 'Wireless Connection', 'Internet Access',\n",
    "    'Air Conditioning', 'AC (Air Conditioning)', 'Climate Control',\n",
    "    'Kitchen', 'Cooking Area', 'Culinary Space',\n",
    "    'Balcony', 'Terrace', 'Veranda',\n",
    "    'Public Transport', 'Public Transit', 'Mass Transit',\n",
    "    'Pet-Friendly', 'Pets Allowed', 'Pet Accommodation']\n",
    "\n",
    "# Función para verificar si alguna de las palabras clave está en el texto\n",
    "def contiene_palabra_clave(texto_completo):\n",
    "    if pd.isna(texto_completo):\n",
    "        return False\n",
    "    texto_completo = texto_completo.lower()  # Convertir a minúsculas para una búsqueda insensible a mayúsculas\n",
    "    return any(palabra.lower() in texto_completo for palabra in palabras_clave)\n",
    "\n",
    "# Crear la nueva columna booleana 'contiene_palabra_clave'\n",
    "listings_clean['contiene_palabra_clave'] = listings_clean['texto_completo'].apply(contiene_palabra_clave)"
   ]
  },
  {
   "cell_type": "code",
   "execution_count": 227,
   "id": "6d06c90f-1974-419c-8d3c-7da6c4db8821",
   "metadata": {
    "tags": []
   },
   "outputs": [
    {
     "name": "stdout",
     "output_type": "stream",
     "text": [
      "contiene_palabra_clave\n",
      "True     15150\n",
      "False       39\n",
      "Name: count, dtype: int64\n"
     ]
    }
   ],
   "source": [
    "# Contar cuántos valores True y False hay en la columna 'contiene_palabra_clave'\n",
    "conteo = listings_clean['contiene_palabra_clave'].value_counts()\n",
    "\n",
    "print(conteo)"
   ]
  },
  {
   "cell_type": "code",
   "execution_count": null,
   "id": "593b29cf-5bb3-461b-8fc2-285ce5d1d139",
   "metadata": {},
   "outputs": [],
   "source": []
  }
 ],
 "metadata": {
  "kernelspec": {
   "display_name": "Python 3 (ipykernel)",
   "language": "python",
   "name": "python3"
  },
  "language_info": {
   "codemirror_mode": {
    "name": "ipython",
    "version": 3
   },
   "file_extension": ".py",
   "mimetype": "text/x-python",
   "name": "python",
   "nbconvert_exporter": "python",
   "pygments_lexer": "ipython3",
   "version": "3.11.7"
  }
 },
 "nbformat": 4,
 "nbformat_minor": 5
}
