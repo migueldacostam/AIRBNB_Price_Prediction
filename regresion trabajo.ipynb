{
 "cells": [
  {
   "cell_type": "code",
   "execution_count": 264,
   "id": "f4eb961e-ddc3-410e-b9e6-e7b2e477c67f",
   "metadata": {},
   "outputs": [],
   "source": [
    "import numpy as np\n",
    "import pandas as pd\n",
    "import matplotlib.pyplot as plt\n",
    "import seaborn as sns\n",
    "import os as os\n",
    "import statsmodels.formula.api as smf\n",
    "from sklearn.preprocessing import OneHotEncoder, LabelEncoder\n",
    "from sklearn.linear_model import LinearRegression"
   ]
  },
  {
   "cell_type": "code",
   "execution_count": 78,
   "id": "2ef9bd58-af27-4c69-b7e3-f18203a60a96",
   "metadata": {},
   "outputs": [],
   "source": [
    "tabla1 = pd.read_csv(\"ProjectClean2.csv\")"
   ]
  },
  {
   "cell_type": "code",
   "execution_count": 80,
   "id": "6ab7e25c-dd7a-4c1c-8e2c-cb05c7e38bff",
   "metadata": {},
   "outputs": [],
   "source": [
    "df = tabla1"
   ]
  },
  {
   "cell_type": "code",
   "execution_count": 100,
   "id": "96b88656-4126-47b1-ab93-349846ae73d6",
   "metadata": {},
   "outputs": [
    {
     "data": {
      "text/plain": [
       "Index(['host_since', 'host_location', 'host_is_superhost',\n",
       "       'host_identity_verified', 'host_has_profile_pic', 'neighbourhood',\n",
       "       'latitude', 'longitude', 'room_type', 'accommodates', 'bathrooms',\n",
       "       'bedrooms', 'beds', 'price', 'minimum_nights', 'maximum_nights',\n",
       "       'has_availability', 'availability_30', 'availability_60',\n",
       "       'number_of_reviews', 'last_review', 'review_scores_rating',\n",
       "       'review_scores_cleanliness', 'review_scores_checkin',\n",
       "       'review_scores_communication', 'review_scores_location',\n",
       "       'review_scores_value', 'reviews_per_month', 'instant_bookable',\n",
       "       'bathroom_type', 'has_license', 'has_terrace', 'has_wifi',\n",
       "       'pet_allowed', 'has_AC', 'has_kitchen'],\n",
       "      dtype='object')"
      ]
     },
     "execution_count": 100,
     "metadata": {},
     "output_type": "execute_result"
    }
   ],
   "source": [
    "df.columns"
   ]
  },
  {
   "cell_type": "code",
   "execution_count": 82,
   "id": "ea2843a0-d95e-4748-bac6-dac6eb6b6e8d",
   "metadata": {},
   "outputs": [
    {
     "data": {
      "text/html": [
       "<div>\n",
       "<style scoped>\n",
       "    .dataframe tbody tr th:only-of-type {\n",
       "        vertical-align: middle;\n",
       "    }\n",
       "\n",
       "    .dataframe tbody tr th {\n",
       "        vertical-align: top;\n",
       "    }\n",
       "\n",
       "    .dataframe thead th {\n",
       "        text-align: right;\n",
       "    }\n",
       "</style>\n",
       "<table border=\"1\" class=\"dataframe\">\n",
       "  <thead>\n",
       "    <tr style=\"text-align: right;\">\n",
       "      <th></th>\n",
       "      <th>host_since</th>\n",
       "      <th>host_location</th>\n",
       "      <th>host_is_superhost</th>\n",
       "      <th>host_identity_verified</th>\n",
       "      <th>host_has_profile_pic</th>\n",
       "      <th>neighbourhood</th>\n",
       "      <th>latitude</th>\n",
       "      <th>longitude</th>\n",
       "      <th>room_type</th>\n",
       "      <th>accommodates</th>\n",
       "      <th>...</th>\n",
       "      <th>review_scores_value</th>\n",
       "      <th>reviews_per_month</th>\n",
       "      <th>instant_bookable</th>\n",
       "      <th>bathroom_type</th>\n",
       "      <th>has_license</th>\n",
       "      <th>has_terrace</th>\n",
       "      <th>has_wifi</th>\n",
       "      <th>pet_allowed</th>\n",
       "      <th>has_AC</th>\n",
       "      <th>has_kitchen</th>\n",
       "    </tr>\n",
       "  </thead>\n",
       "  <tbody>\n",
       "    <tr>\n",
       "      <th>0</th>\n",
       "      <td>4646</td>\n",
       "      <td>spain</td>\n",
       "      <td>False</td>\n",
       "      <td>True</td>\n",
       "      <td>True</td>\n",
       "      <td>eixample</td>\n",
       "      <td>41.401810</td>\n",
       "      <td>2.17610</td>\n",
       "      <td>entire_home_apt</td>\n",
       "      <td>2</td>\n",
       "      <td>...</td>\n",
       "      <td>4.67</td>\n",
       "      <td>1.15</td>\n",
       "      <td>True</td>\n",
       "      <td>1</td>\n",
       "      <td>True</td>\n",
       "      <td>True</td>\n",
       "      <td>True</td>\n",
       "      <td>False</td>\n",
       "      <td>True</td>\n",
       "      <td>True</td>\n",
       "    </tr>\n",
       "    <tr>\n",
       "      <th>1</th>\n",
       "      <td>4646</td>\n",
       "      <td>spain</td>\n",
       "      <td>False</td>\n",
       "      <td>True</td>\n",
       "      <td>True</td>\n",
       "      <td>ciutat_vella</td>\n",
       "      <td>41.379360</td>\n",
       "      <td>2.17376</td>\n",
       "      <td>entire_home_apt</td>\n",
       "      <td>6</td>\n",
       "      <td>...</td>\n",
       "      <td>4.50</td>\n",
       "      <td>0.02</td>\n",
       "      <td>False</td>\n",
       "      <td>1</td>\n",
       "      <td>True</td>\n",
       "      <td>False</td>\n",
       "      <td>True</td>\n",
       "      <td>False</td>\n",
       "      <td>False</td>\n",
       "      <td>True</td>\n",
       "    </tr>\n",
       "    <tr>\n",
       "      <th>2</th>\n",
       "      <td>5312</td>\n",
       "      <td>spain</td>\n",
       "      <td>False</td>\n",
       "      <td>True</td>\n",
       "      <td>True</td>\n",
       "      <td>eixample</td>\n",
       "      <td>41.405560</td>\n",
       "      <td>2.17262</td>\n",
       "      <td>entire_home_apt</td>\n",
       "      <td>8</td>\n",
       "      <td>...</td>\n",
       "      <td>4.30</td>\n",
       "      <td>0.30</td>\n",
       "      <td>True</td>\n",
       "      <td>1</td>\n",
       "      <td>True</td>\n",
       "      <td>True</td>\n",
       "      <td>True</td>\n",
       "      <td>False</td>\n",
       "      <td>True</td>\n",
       "      <td>True</td>\n",
       "    </tr>\n",
       "    <tr>\n",
       "      <th>3</th>\n",
       "      <td>5263</td>\n",
       "      <td>spain</td>\n",
       "      <td>False</td>\n",
       "      <td>True</td>\n",
       "      <td>True</td>\n",
       "      <td>sant_marti</td>\n",
       "      <td>41.412432</td>\n",
       "      <td>2.21975</td>\n",
       "      <td>entire_home_apt</td>\n",
       "      <td>5</td>\n",
       "      <td>...</td>\n",
       "      <td>4.64</td>\n",
       "      <td>0.48</td>\n",
       "      <td>False</td>\n",
       "      <td>1</td>\n",
       "      <td>True</td>\n",
       "      <td>True</td>\n",
       "      <td>True</td>\n",
       "      <td>False</td>\n",
       "      <td>True</td>\n",
       "      <td>True</td>\n",
       "    </tr>\n",
       "    <tr>\n",
       "      <th>4</th>\n",
       "      <td>5180</td>\n",
       "      <td>spain</td>\n",
       "      <td>False</td>\n",
       "      <td>True</td>\n",
       "      <td>True</td>\n",
       "      <td>gracia</td>\n",
       "      <td>41.405660</td>\n",
       "      <td>2.17015</td>\n",
       "      <td>entire_home_apt</td>\n",
       "      <td>6</td>\n",
       "      <td>...</td>\n",
       "      <td>4.50</td>\n",
       "      <td>0.77</td>\n",
       "      <td>False</td>\n",
       "      <td>1</td>\n",
       "      <td>True</td>\n",
       "      <td>True</td>\n",
       "      <td>True</td>\n",
       "      <td>False</td>\n",
       "      <td>True</td>\n",
       "      <td>True</td>\n",
       "    </tr>\n",
       "  </tbody>\n",
       "</table>\n",
       "<p>5 rows × 36 columns</p>\n",
       "</div>"
      ],
      "text/plain": [
       "   host_since host_location  host_is_superhost  host_identity_verified  \\\n",
       "0        4646         spain              False                    True   \n",
       "1        4646         spain              False                    True   \n",
       "2        5312         spain              False                    True   \n",
       "3        5263         spain              False                    True   \n",
       "4        5180         spain              False                    True   \n",
       "\n",
       "   host_has_profile_pic neighbourhood   latitude  longitude        room_type  \\\n",
       "0                  True      eixample  41.401810    2.17610  entire_home_apt   \n",
       "1                  True  ciutat_vella  41.379360    2.17376  entire_home_apt   \n",
       "2                  True      eixample  41.405560    2.17262  entire_home_apt   \n",
       "3                  True    sant_marti  41.412432    2.21975  entire_home_apt   \n",
       "4                  True        gracia  41.405660    2.17015  entire_home_apt   \n",
       "\n",
       "   accommodates  ...  review_scores_value  reviews_per_month  \\\n",
       "0             2  ...                 4.67               1.15   \n",
       "1             6  ...                 4.50               0.02   \n",
       "2             8  ...                 4.30               0.30   \n",
       "3             5  ...                 4.64               0.48   \n",
       "4             6  ...                 4.50               0.77   \n",
       "\n",
       "   instant_bookable  bathroom_type  has_license  has_terrace  has_wifi  \\\n",
       "0              True              1         True         True      True   \n",
       "1             False              1         True        False      True   \n",
       "2              True              1         True         True      True   \n",
       "3             False              1         True         True      True   \n",
       "4             False              1         True         True      True   \n",
       "\n",
       "   pet_allowed  has_AC  has_kitchen  \n",
       "0        False    True         True  \n",
       "1        False   False         True  \n",
       "2        False    True         True  \n",
       "3        False    True         True  \n",
       "4        False    True         True  \n",
       "\n",
       "[5 rows x 36 columns]"
      ]
     },
     "execution_count": 82,
     "metadata": {},
     "output_type": "execute_result"
    }
   ],
   "source": [
    "df.head()\n"
   ]
  },
  {
   "cell_type": "code",
   "execution_count": 108,
   "id": "171a5922-a608-4683-8abf-1fffc4f12b49",
   "metadata": {},
   "outputs": [],
   "source": [
    "independent_vars = [\n",
    "    'host_since', 'host_location', 'host_is_superhost',\n",
    "    'host_identity_verified', 'host_has_profile_pic', 'neighbourhood',\n",
    "    'latitude', 'longitude', 'room_type', 'accommodates', 'bathrooms',\n",
    "    'bedrooms', 'beds', 'minimum_nights', 'maximum_nights',\n",
    "    'has_availability', 'availability_30', 'availability_60',\n",
    "    'number_of_reviews', 'last_review', 'review_scores_rating',\n",
    "    'review_scores_cleanliness', 'review_scores_checkin',\n",
    "    'review_scores_communication', 'review_scores_location',\n",
    "    'review_scores_value', 'reviews_per_month', 'instant_bookable',\n",
    "    'bathroom_type', 'has_license', 'has_terrace', 'has_wifi',\n",
    "    'pet_allowed', 'has_AC', 'has_kitchen'\n",
    "]"
   ]
  },
  {
   "cell_type": "code",
   "execution_count": 21,
   "id": "da4f84a5-09f4-4b55-ac6f-63e2b12318c2",
   "metadata": {
    "tags": []
   },
   "outputs": [
    {
     "data": {
      "text/plain": [
       "host_location[T.other]                  True\n",
       "host_location[T.spain]                  True\n",
       "neighbourhood[T.les_corts]              True\n",
       "neighbourhood[T.sarria_sant_gervasi]    True\n",
       "room_type[T.private_room]               True\n",
       "room_type[T.shared_room]                True\n",
       "instant_bookable[T.True]                True\n",
       "has_license[T.True]                     True\n",
       "pet_allowed[T.True]                     True\n",
       "has_AC[T.True]                          True\n",
       "has_kitchen[T.True]                     True\n",
       "accommodates                            True\n",
       "bathrooms                               True\n",
       "minimum_nights                          True\n",
       "availability_30                         True\n",
       "availability_60                         True\n",
       "last_review                             True\n",
       "review_scores_cleanliness               True\n",
       "dtype: bool"
      ]
     },
     "execution_count": 21,
     "metadata": {},
     "output_type": "execute_result"
    }
   ],
   "source": [
    "#Creo el modelo\n",
    "modelo = smf.ols(\n",
    "    formula = 'price ~ ' + ' + '.join(independent_vars),\n",
    "    data = df\n",
    ").fit()\n",
    "\n",
    "p_valores = modelo.pvalues\n",
    "variables_significativas = p_valores<0.05\n",
    "variables_significativas[p_valores<0.05]"
   ]
  },
  {
   "cell_type": "code",
   "execution_count": 129,
   "id": "f9760fa0-5955-4950-9a39-0b7c2113a9cc",
   "metadata": {},
   "outputs": [
    {
     "data": {
      "text/plain": [
       "Intercept                          0.566743\n",
       "host_is_superhost[T.True]          0.085574\n",
       "host_identity_verified[T.True]     0.963546\n",
       "host_has_profile_pic[T.True]       0.317894\n",
       "neighbourhood[T.eixample]          0.573628\n",
       "neighbourhood[T.gracia]            0.460608\n",
       "neighbourhood[T.horta_guinardo]    0.165703\n",
       "neighbourhood[T.nou_barris]        0.675584\n",
       "neighbourhood[T.sant_andreu]       0.057549\n",
       "neighbourhood[T.sant_marti]        0.513527\n",
       "neighbourhood[T.sants_montjuic]    0.457040\n",
       "room_type[T.hotel_room]            0.430494\n",
       "has_availability[T.True]           0.774538\n",
       "has_terrace[T.True]                0.189566\n",
       "has_wifi[T.True]                   0.145048\n",
       "host_since                         0.431035\n",
       "latitude                           0.570562\n",
       "longitude                          0.655288\n",
       "bedrooms                           0.158573\n",
       "beds                               0.607199\n",
       "maximum_nights                     0.574249\n",
       "number_of_reviews                  0.172822\n",
       "review_scores_rating               0.686227\n",
       "review_scores_checkin              0.695795\n",
       "review_scores_communication        0.957160\n",
       "review_scores_location             0.108926\n",
       "review_scores_value                0.762391\n",
       "reviews_per_month                  0.350640\n",
       "bathroom_type                      0.077537\n",
       "dtype: float64"
      ]
     },
     "execution_count": 129,
     "metadata": {},
     "output_type": "execute_result"
    }
   ],
   "source": [
    "variables_no_significativas = p_valores[p_valores >= 0.05]\n",
    "variables_no_significativas"
   ]
  },
  {
   "cell_type": "code",
   "execution_count": 148,
   "id": "59dd5ae8-4e42-4def-a876-d18491c60e14",
   "metadata": {},
   "outputs": [],
   "source": [
    "variable_names = [\n",
    "    'host_is_superhost',\n",
    "    'host_identity_verified',\n",
    "    'host_has_profile_pic',\n",
    "    'room_type',\n",
    "    'has_availability',\n",
    "    'has_terrace',\n",
    "    'has_wifi',\n",
    "    'host_since',\n",
    "    'latitude',\n",
    "    'longitude',\n",
    "    'bedrooms',\n",
    "    'beds',\n",
    "    'maximum_nights',\n",
    "    'number_of_reviews',\n",
    "    'review_scores_rating',\n",
    "    'review_scores_checkin',\n",
    "    'review_scores_communication',\n",
    "    'review_scores_location',\n",
    "    'review_scores_value',\n",
    "    'reviews_per_month',\n",
    "    'bathroom_type'\n",
    "]"
   ]
  },
  {
   "cell_type": "code",
   "execution_count": 150,
   "id": "ca480acd-88e5-4eb3-bfc6-9bf65efe97bf",
   "metadata": {},
   "outputs": [],
   "source": [
    "df_filtrado = df.drop(columns=variable_names)"
   ]
  },
  {
   "cell_type": "code",
   "execution_count": 152,
   "id": "fcbd7e46-855c-4e38-9f64-d211e258b0c1",
   "metadata": {},
   "outputs": [
    {
     "data": {
      "text/html": [
       "<div>\n",
       "<style scoped>\n",
       "    .dataframe tbody tr th:only-of-type {\n",
       "        vertical-align: middle;\n",
       "    }\n",
       "\n",
       "    .dataframe tbody tr th {\n",
       "        vertical-align: top;\n",
       "    }\n",
       "\n",
       "    .dataframe thead th {\n",
       "        text-align: right;\n",
       "    }\n",
       "</style>\n",
       "<table border=\"1\" class=\"dataframe\">\n",
       "  <thead>\n",
       "    <tr style=\"text-align: right;\">\n",
       "      <th></th>\n",
       "      <th>host_location</th>\n",
       "      <th>neighbourhood</th>\n",
       "      <th>accommodates</th>\n",
       "      <th>bathrooms</th>\n",
       "      <th>price</th>\n",
       "      <th>minimum_nights</th>\n",
       "      <th>availability_30</th>\n",
       "      <th>availability_60</th>\n",
       "      <th>last_review</th>\n",
       "      <th>review_scores_cleanliness</th>\n",
       "      <th>instant_bookable</th>\n",
       "      <th>has_license</th>\n",
       "      <th>pet_allowed</th>\n",
       "      <th>has_AC</th>\n",
       "      <th>has_kitchen</th>\n",
       "    </tr>\n",
       "  </thead>\n",
       "  <tbody>\n",
       "    <tr>\n",
       "      <th>0</th>\n",
       "      <td>spain</td>\n",
       "      <td>eixample</td>\n",
       "      <td>2</td>\n",
       "      <td>1.0</td>\n",
       "      <td>176.0</td>\n",
       "      <td>7.0</td>\n",
       "      <td>0</td>\n",
       "      <td>0</td>\n",
       "      <td>75.0</td>\n",
       "      <td>4.59</td>\n",
       "      <td>True</td>\n",
       "      <td>True</td>\n",
       "      <td>False</td>\n",
       "      <td>True</td>\n",
       "      <td>True</td>\n",
       "    </tr>\n",
       "    <tr>\n",
       "      <th>1</th>\n",
       "      <td>spain</td>\n",
       "      <td>ciutat_vella</td>\n",
       "      <td>6</td>\n",
       "      <td>1.5</td>\n",
       "      <td>74.0</td>\n",
       "      <td>32.0</td>\n",
       "      <td>0</td>\n",
       "      <td>0</td>\n",
       "      <td>2914.0</td>\n",
       "      <td>4.50</td>\n",
       "      <td>False</td>\n",
       "      <td>True</td>\n",
       "      <td>False</td>\n",
       "      <td>False</td>\n",
       "      <td>True</td>\n",
       "    </tr>\n",
       "    <tr>\n",
       "      <th>2</th>\n",
       "      <td>spain</td>\n",
       "      <td>eixample</td>\n",
       "      <td>8</td>\n",
       "      <td>2.0</td>\n",
       "      <td>257.0</td>\n",
       "      <td>1.0</td>\n",
       "      <td>10</td>\n",
       "      <td>36</td>\n",
       "      <td>95.0</td>\n",
       "      <td>4.63</td>\n",
       "      <td>True</td>\n",
       "      <td>True</td>\n",
       "      <td>False</td>\n",
       "      <td>True</td>\n",
       "      <td>True</td>\n",
       "    </tr>\n",
       "    <tr>\n",
       "      <th>3</th>\n",
       "      <td>spain</td>\n",
       "      <td>sant_marti</td>\n",
       "      <td>5</td>\n",
       "      <td>2.0</td>\n",
       "      <td>249.0</td>\n",
       "      <td>3.0</td>\n",
       "      <td>10</td>\n",
       "      <td>20</td>\n",
       "      <td>77.0</td>\n",
       "      <td>4.89</td>\n",
       "      <td>False</td>\n",
       "      <td>True</td>\n",
       "      <td>False</td>\n",
       "      <td>True</td>\n",
       "      <td>True</td>\n",
       "    </tr>\n",
       "    <tr>\n",
       "      <th>4</th>\n",
       "      <td>spain</td>\n",
       "      <td>gracia</td>\n",
       "      <td>6</td>\n",
       "      <td>1.5</td>\n",
       "      <td>240.0</td>\n",
       "      <td>1.0</td>\n",
       "      <td>4</td>\n",
       "      <td>6</td>\n",
       "      <td>61.0</td>\n",
       "      <td>4.39</td>\n",
       "      <td>False</td>\n",
       "      <td>True</td>\n",
       "      <td>False</td>\n",
       "      <td>True</td>\n",
       "      <td>True</td>\n",
       "    </tr>\n",
       "  </tbody>\n",
       "</table>\n",
       "</div>"
      ],
      "text/plain": [
       "  host_location neighbourhood  accommodates  bathrooms  price  minimum_nights  \\\n",
       "0         spain      eixample             2        1.0  176.0             7.0   \n",
       "1         spain  ciutat_vella             6        1.5   74.0            32.0   \n",
       "2         spain      eixample             8        2.0  257.0             1.0   \n",
       "3         spain    sant_marti             5        2.0  249.0             3.0   \n",
       "4         spain        gracia             6        1.5  240.0             1.0   \n",
       "\n",
       "   availability_30  availability_60  last_review  review_scores_cleanliness  \\\n",
       "0                0                0         75.0                       4.59   \n",
       "1                0                0       2914.0                       4.50   \n",
       "2               10               36         95.0                       4.63   \n",
       "3               10               20         77.0                       4.89   \n",
       "4                4                6         61.0                       4.39   \n",
       "\n",
       "   instant_bookable  has_license  pet_allowed  has_AC  has_kitchen  \n",
       "0              True         True        False    True         True  \n",
       "1             False         True        False   False         True  \n",
       "2              True         True        False    True         True  \n",
       "3             False         True        False    True         True  \n",
       "4             False         True        False    True         True  "
      ]
     },
     "execution_count": 152,
     "metadata": {},
     "output_type": "execute_result"
    }
   ],
   "source": [
    "df_filtrado.head()"
   ]
  },
  {
   "cell_type": "code",
   "execution_count": null,
   "id": "0f414e24-8ebd-40ae-ac61-7685c19e5feb",
   "metadata": {},
   "outputs": [],
   "source": [
    "#Convertir las categoricas a dummies"
   ]
  },
  {
   "cell_type": "code",
   "execution_count": 229,
   "id": "ea1ea909-22e4-42af-854d-4b6ed31e0234",
   "metadata": {},
   "outputs": [],
   "source": [
    "df_transformada = pd.get_dummies(df_filtrado, columns=['host_location', 'neighbourhood'])"
   ]
  },
  {
   "cell_type": "code",
   "execution_count": 231,
   "id": "5c5920bc-0c78-45f1-ace6-21185f4a11f6",
   "metadata": {},
   "outputs": [
    {
     "data": {
      "text/html": [
       "<div>\n",
       "<style scoped>\n",
       "    .dataframe tbody tr th:only-of-type {\n",
       "        vertical-align: middle;\n",
       "    }\n",
       "\n",
       "    .dataframe tbody tr th {\n",
       "        vertical-align: top;\n",
       "    }\n",
       "\n",
       "    .dataframe thead th {\n",
       "        text-align: right;\n",
       "    }\n",
       "</style>\n",
       "<table border=\"1\" class=\"dataframe\">\n",
       "  <thead>\n",
       "    <tr style=\"text-align: right;\">\n",
       "      <th></th>\n",
       "      <th>accommodates</th>\n",
       "      <th>bathrooms</th>\n",
       "      <th>price</th>\n",
       "      <th>minimum_nights</th>\n",
       "      <th>availability_30</th>\n",
       "      <th>availability_60</th>\n",
       "      <th>last_review</th>\n",
       "      <th>review_scores_cleanliness</th>\n",
       "      <th>instant_bookable</th>\n",
       "      <th>has_license</th>\n",
       "      <th>...</th>\n",
       "      <th>neighbourhood_ciutat_vella</th>\n",
       "      <th>neighbourhood_eixample</th>\n",
       "      <th>neighbourhood_gracia</th>\n",
       "      <th>neighbourhood_horta_guinardo</th>\n",
       "      <th>neighbourhood_les_corts</th>\n",
       "      <th>neighbourhood_nou_barris</th>\n",
       "      <th>neighbourhood_sant_andreu</th>\n",
       "      <th>neighbourhood_sant_marti</th>\n",
       "      <th>neighbourhood_sants_montjuic</th>\n",
       "      <th>neighbourhood_sarria_sant_gervasi</th>\n",
       "    </tr>\n",
       "  </thead>\n",
       "  <tbody>\n",
       "    <tr>\n",
       "      <th>0</th>\n",
       "      <td>2</td>\n",
       "      <td>1.0</td>\n",
       "      <td>176.0</td>\n",
       "      <td>7.0</td>\n",
       "      <td>0</td>\n",
       "      <td>0</td>\n",
       "      <td>75.0</td>\n",
       "      <td>4.59</td>\n",
       "      <td>True</td>\n",
       "      <td>True</td>\n",
       "      <td>...</td>\n",
       "      <td>False</td>\n",
       "      <td>True</td>\n",
       "      <td>False</td>\n",
       "      <td>False</td>\n",
       "      <td>False</td>\n",
       "      <td>False</td>\n",
       "      <td>False</td>\n",
       "      <td>False</td>\n",
       "      <td>False</td>\n",
       "      <td>False</td>\n",
       "    </tr>\n",
       "    <tr>\n",
       "      <th>1</th>\n",
       "      <td>6</td>\n",
       "      <td>1.5</td>\n",
       "      <td>74.0</td>\n",
       "      <td>32.0</td>\n",
       "      <td>0</td>\n",
       "      <td>0</td>\n",
       "      <td>2914.0</td>\n",
       "      <td>4.50</td>\n",
       "      <td>False</td>\n",
       "      <td>True</td>\n",
       "      <td>...</td>\n",
       "      <td>True</td>\n",
       "      <td>False</td>\n",
       "      <td>False</td>\n",
       "      <td>False</td>\n",
       "      <td>False</td>\n",
       "      <td>False</td>\n",
       "      <td>False</td>\n",
       "      <td>False</td>\n",
       "      <td>False</td>\n",
       "      <td>False</td>\n",
       "    </tr>\n",
       "    <tr>\n",
       "      <th>2</th>\n",
       "      <td>8</td>\n",
       "      <td>2.0</td>\n",
       "      <td>257.0</td>\n",
       "      <td>1.0</td>\n",
       "      <td>10</td>\n",
       "      <td>36</td>\n",
       "      <td>95.0</td>\n",
       "      <td>4.63</td>\n",
       "      <td>True</td>\n",
       "      <td>True</td>\n",
       "      <td>...</td>\n",
       "      <td>False</td>\n",
       "      <td>True</td>\n",
       "      <td>False</td>\n",
       "      <td>False</td>\n",
       "      <td>False</td>\n",
       "      <td>False</td>\n",
       "      <td>False</td>\n",
       "      <td>False</td>\n",
       "      <td>False</td>\n",
       "      <td>False</td>\n",
       "    </tr>\n",
       "    <tr>\n",
       "      <th>3</th>\n",
       "      <td>5</td>\n",
       "      <td>2.0</td>\n",
       "      <td>249.0</td>\n",
       "      <td>3.0</td>\n",
       "      <td>10</td>\n",
       "      <td>20</td>\n",
       "      <td>77.0</td>\n",
       "      <td>4.89</td>\n",
       "      <td>False</td>\n",
       "      <td>True</td>\n",
       "      <td>...</td>\n",
       "      <td>False</td>\n",
       "      <td>False</td>\n",
       "      <td>False</td>\n",
       "      <td>False</td>\n",
       "      <td>False</td>\n",
       "      <td>False</td>\n",
       "      <td>False</td>\n",
       "      <td>True</td>\n",
       "      <td>False</td>\n",
       "      <td>False</td>\n",
       "    </tr>\n",
       "    <tr>\n",
       "      <th>4</th>\n",
       "      <td>6</td>\n",
       "      <td>1.5</td>\n",
       "      <td>240.0</td>\n",
       "      <td>1.0</td>\n",
       "      <td>4</td>\n",
       "      <td>6</td>\n",
       "      <td>61.0</td>\n",
       "      <td>4.39</td>\n",
       "      <td>False</td>\n",
       "      <td>True</td>\n",
       "      <td>...</td>\n",
       "      <td>False</td>\n",
       "      <td>False</td>\n",
       "      <td>True</td>\n",
       "      <td>False</td>\n",
       "      <td>False</td>\n",
       "      <td>False</td>\n",
       "      <td>False</td>\n",
       "      <td>False</td>\n",
       "      <td>False</td>\n",
       "      <td>False</td>\n",
       "    </tr>\n",
       "  </tbody>\n",
       "</table>\n",
       "<p>5 rows × 26 columns</p>\n",
       "</div>"
      ],
      "text/plain": [
       "   accommodates  bathrooms  price  minimum_nights  availability_30  \\\n",
       "0             2        1.0  176.0             7.0                0   \n",
       "1             6        1.5   74.0            32.0                0   \n",
       "2             8        2.0  257.0             1.0               10   \n",
       "3             5        2.0  249.0             3.0               10   \n",
       "4             6        1.5  240.0             1.0                4   \n",
       "\n",
       "   availability_60  last_review  review_scores_cleanliness  instant_bookable  \\\n",
       "0                0         75.0                       4.59              True   \n",
       "1                0       2914.0                       4.50             False   \n",
       "2               36         95.0                       4.63              True   \n",
       "3               20         77.0                       4.89             False   \n",
       "4                6         61.0                       4.39             False   \n",
       "\n",
       "   has_license  ...  neighbourhood_ciutat_vella  neighbourhood_eixample  \\\n",
       "0         True  ...                       False                    True   \n",
       "1         True  ...                        True                   False   \n",
       "2         True  ...                       False                    True   \n",
       "3         True  ...                       False                   False   \n",
       "4         True  ...                       False                   False   \n",
       "\n",
       "   neighbourhood_gracia  neighbourhood_horta_guinardo  \\\n",
       "0                 False                         False   \n",
       "1                 False                         False   \n",
       "2                 False                         False   \n",
       "3                 False                         False   \n",
       "4                  True                         False   \n",
       "\n",
       "   neighbourhood_les_corts  neighbourhood_nou_barris  \\\n",
       "0                    False                     False   \n",
       "1                    False                     False   \n",
       "2                    False                     False   \n",
       "3                    False                     False   \n",
       "4                    False                     False   \n",
       "\n",
       "   neighbourhood_sant_andreu  neighbourhood_sant_marti  \\\n",
       "0                      False                     False   \n",
       "1                      False                     False   \n",
       "2                      False                     False   \n",
       "3                      False                      True   \n",
       "4                      False                     False   \n",
       "\n",
       "   neighbourhood_sants_montjuic  neighbourhood_sarria_sant_gervasi  \n",
       "0                         False                              False  \n",
       "1                         False                              False  \n",
       "2                         False                              False  \n",
       "3                         False                              False  \n",
       "4                         False                              False  \n",
       "\n",
       "[5 rows x 26 columns]"
      ]
     },
     "execution_count": 231,
     "metadata": {},
     "output_type": "execute_result"
    }
   ],
   "source": [
    "df_transformada.head()"
   ]
  },
  {
   "cell_type": "code",
   "execution_count": 235,
   "id": "a6f1131f-7075-4f5f-abfc-a03eba1b2bba",
   "metadata": {},
   "outputs": [],
   "source": [
    "#Dividir los datos en testing y training\n",
    "from sklearn.model_selection import train_test_split\n",
    "\n",
    "X = df_transformada.loc[:, df_transformada.columns != \"price\"]\n",
    "y = df_transformada.loc[:, \"price\"]"
   ]
  },
  {
   "cell_type": "code",
   "execution_count": 237,
   "id": "99fc8d7d-c2ca-49fd-9a7d-a974d26d3338",
   "metadata": {},
   "outputs": [],
   "source": [
    "X_train, X_test, y_train, y_test = train_test_split(\n",
    "    X, y,\n",
    "    train_size = 0.75,\n",
    "    test_size = 0.25\n",
    ")"
   ]
  },
  {
   "cell_type": "code",
   "execution_count": 239,
   "id": "dffa44be-a224-4cfb-8b18-1b9eb429dcd6",
   "metadata": {},
   "outputs": [
    {
     "data": {
      "text/plain": [
       "(11391, 25)"
      ]
     },
     "execution_count": 239,
     "metadata": {},
     "output_type": "execute_result"
    }
   ],
   "source": [
    "X_train.shape"
   ]
  },
  {
   "cell_type": "code",
   "execution_count": 241,
   "id": "81e7ae11-319e-4c46-ab99-b4c2cac7791f",
   "metadata": {},
   "outputs": [
    {
     "data": {
      "text/plain": [
       "(3798, 25)"
      ]
     },
     "execution_count": 241,
     "metadata": {},
     "output_type": "execute_result"
    }
   ],
   "source": [
    "X_test.shape"
   ]
  },
  {
   "cell_type": "code",
   "execution_count": 243,
   "id": "35a938ab-94f1-4b42-8885-fdc8be263ca1",
   "metadata": {},
   "outputs": [
    {
     "data": {
      "text/plain": [
       "((3798,), (11391,))"
      ]
     },
     "execution_count": 243,
     "metadata": {},
     "output_type": "execute_result"
    }
   ],
   "source": [
    "y_test.shape, y_train.shape"
   ]
  },
  {
   "cell_type": "code",
   "execution_count": null,
   "id": "e7c1695b-34b4-4cab-a4ab-d900d94dc0ba",
   "metadata": {},
   "outputs": [],
   "source": [
    "#Calcular el determinante"
   ]
  },
  {
   "cell_type": "code",
   "execution_count": 255,
   "id": "8f6193c6-6c34-422b-9078-fac929994bd0",
   "metadata": {},
   "outputs": [
    {
     "data": {
      "text/plain": [
       "-5.449069429311982e-31"
      ]
     },
     "execution_count": 255,
     "metadata": {},
     "output_type": "execute_result"
    }
   ],
   "source": [
    "np.linalg.det(X_train.corr())"
   ]
  },
  {
   "cell_type": "code",
   "execution_count": 258,
   "id": "7e95122b-24a1-49bd-b9ff-aee0ee9e9c78",
   "metadata": {},
   "outputs": [
    {
     "data": {
      "text/plain": [
       "-4.994862434307197e-31"
      ]
     },
     "execution_count": 258,
     "metadata": {},
     "output_type": "execute_result"
    }
   ],
   "source": [
    "np.linalg.det(X_test.corr())"
   ]
  },
  {
   "cell_type": "code",
   "execution_count": 261,
   "id": "1dff7c79-43ef-46b1-8dc9-a438cd9cf05d",
   "metadata": {},
   "outputs": [],
   "source": [
    "#Analizar VIF de variables relevantes"
   ]
  },
  {
   "cell_type": "code",
   "execution_count": 269,
   "id": "c55e169c-8efc-4ae8-9d6e-ffb085f91203",
   "metadata": {},
   "outputs": [
    {
     "name": "stdout",
     "output_type": "stream",
     "text": [
      "Index(['accommodates', 'bathrooms', 'price', 'minimum_nights',\n",
      "       'availability_30', 'availability_60', 'last_review',\n",
      "       'review_scores_cleanliness', 'instant_bookable', 'has_license',\n",
      "       'pet_allowed', 'has_AC', 'has_kitchen', 'host_location_no_info',\n",
      "       'host_location_other', 'host_location_spain',\n",
      "       'neighbourhood_ciutat_vella', 'neighbourhood_eixample',\n",
      "       'neighbourhood_gracia', 'neighbourhood_horta_guinardo',\n",
      "       'neighbourhood_les_corts', 'neighbourhood_nou_barris',\n",
      "       'neighbourhood_sant_andreu', 'neighbourhood_sant_marti',\n",
      "       'neighbourhood_sants_montjuic', 'neighbourhood_sarria_sant_gervasi'],\n",
      "      dtype='object')\n"
     ]
    }
   ],
   "source": [
    "columnas = df_transformada.columns\n",
    "print(columnas)"
   ]
  },
  {
   "cell_type": "code",
   "execution_count": 293,
   "id": "d0c59a32-720a-4f18-be6d-344e812dc958",
   "metadata": {},
   "outputs": [
    {
     "name": "stdout",
     "output_type": "stream",
     "text": [
      "Index(['accommodates', 'bathrooms', 'minimum_nights', 'availability_30',\n",
      "       'availability_60', 'last_review', 'review_scores_cleanliness',\n",
      "       'instant_bookable', 'has_license', 'pet_allowed', 'has_AC',\n",
      "       'has_kitchen', 'host_location_no_info', 'host_location_other',\n",
      "       'host_location_spain', 'neighbourhood_ciutat_vella',\n",
      "       'neighbourhood_eixample', 'neighbourhood_gracia',\n",
      "       'neighbourhood_horta_guinardo', 'neighbourhood_les_corts',\n",
      "       'neighbourhood_nou_barris', 'neighbourhood_sant_andreu',\n",
      "       'neighbourhood_sant_marti', 'neighbourhood_sants_montjuic',\n",
      "       'neighbourhood_sarria_sant_gervasi'],\n",
      "      dtype='object')\n"
     ]
    }
   ],
   "source": [
    "columnas1 = columnas.drop('price')\n",
    "print(columnas1)"
   ]
  },
  {
   "cell_type": "code",
   "execution_count": 295,
   "id": "ebeac1ff-4b8a-4777-851d-c9b60d5118d8",
   "metadata": {},
   "outputs": [
    {
     "name": "stderr",
     "output_type": "stream",
     "text": [
      "C:\\Users\\user\\AppData\\Local\\Temp\\ipykernel_2572\\3735500187.py:12: RuntimeWarning: divide by zero encountered in scalar divide\n",
      "  vif = (1/(1-r2))\n",
      "C:\\Users\\user\\AppData\\Local\\Temp\\ipykernel_2572\\3735500187.py:12: RuntimeWarning: divide by zero encountered in scalar divide\n",
      "  vif = (1/(1-r2))\n",
      "C:\\Users\\user\\AppData\\Local\\Temp\\ipykernel_2572\\3735500187.py:12: RuntimeWarning: divide by zero encountered in scalar divide\n",
      "  vif = (1/(1-r2))\n",
      "C:\\Users\\user\\AppData\\Local\\Temp\\ipykernel_2572\\3735500187.py:12: RuntimeWarning: divide by zero encountered in scalar divide\n",
      "  vif = (1/(1-r2))\n",
      "C:\\Users\\user\\AppData\\Local\\Temp\\ipykernel_2572\\3735500187.py:12: RuntimeWarning: divide by zero encountered in scalar divide\n",
      "  vif = (1/(1-r2))\n",
      "C:\\Users\\user\\AppData\\Local\\Temp\\ipykernel_2572\\3735500187.py:12: RuntimeWarning: divide by zero encountered in scalar divide\n",
      "  vif = (1/(1-r2))\n",
      "C:\\Users\\user\\AppData\\Local\\Temp\\ipykernel_2572\\3735500187.py:12: RuntimeWarning: divide by zero encountered in scalar divide\n",
      "  vif = (1/(1-r2))\n",
      "C:\\Users\\user\\AppData\\Local\\Temp\\ipykernel_2572\\3735500187.py:12: RuntimeWarning: divide by zero encountered in scalar divide\n",
      "  vif = (1/(1-r2))\n",
      "C:\\Users\\user\\AppData\\Local\\Temp\\ipykernel_2572\\3735500187.py:12: RuntimeWarning: divide by zero encountered in scalar divide\n",
      "  vif = (1/(1-r2))\n",
      "C:\\Users\\user\\AppData\\Local\\Temp\\ipykernel_2572\\3735500187.py:12: RuntimeWarning: divide by zero encountered in scalar divide\n",
      "  vif = (1/(1-r2))\n",
      "C:\\Users\\user\\AppData\\Local\\Temp\\ipykernel_2572\\3735500187.py:12: RuntimeWarning: divide by zero encountered in scalar divide\n",
      "  vif = (1/(1-r2))\n",
      "C:\\Users\\user\\AppData\\Local\\Temp\\ipykernel_2572\\3735500187.py:12: RuntimeWarning: divide by zero encountered in scalar divide\n",
      "  vif = (1/(1-r2))\n",
      "C:\\Users\\user\\AppData\\Local\\Temp\\ipykernel_2572\\3735500187.py:12: RuntimeWarning: divide by zero encountered in scalar divide\n",
      "  vif = (1/(1-r2))\n"
     ]
    },
    {
     "data": {
      "text/plain": [
       "{'accommodates': 1.4343091708033144,\n",
       " 'bathrooms': 1.2239598991103235,\n",
       " 'minimum_nights': 1.5256915722947286,\n",
       " 'availability_30': 5.309211534259051,\n",
       " 'availability_60': 5.264186601917745,\n",
       " 'last_review': 1.0826025851077874,\n",
       " 'review_scores_cleanliness': 1.0275611735480958,\n",
       " 'instant_bookable': 1.136884991738729,\n",
       " 'has_license': 1.5277802894127512,\n",
       " 'pet_allowed': 1.0556343900164253,\n",
       " 'has_AC': 1.1132990576724255,\n",
       " 'has_kitchen': 1.0918006982199844,\n",
       " 'host_location_no_info': inf,\n",
       " 'host_location_other': inf,\n",
       " 'host_location_spain': inf,\n",
       " 'neighbourhood_ciutat_vella': inf,\n",
       " 'neighbourhood_eixample': inf,\n",
       " 'neighbourhood_gracia': inf,\n",
       " 'neighbourhood_horta_guinardo': inf,\n",
       " 'neighbourhood_les_corts': inf,\n",
       " 'neighbourhood_nou_barris': inf,\n",
       " 'neighbourhood_sant_andreu': inf,\n",
       " 'neighbourhood_sant_marti': inf,\n",
       " 'neighbourhood_sants_montjuic': inf,\n",
       " 'neighbourhood_sarria_sant_gervasi': inf}"
      ]
     },
     "execution_count": 295,
     "metadata": {},
     "output_type": "execute_result"
    }
   ],
   "source": [
    "vif_acum = {}\n",
    "\n",
    "for i in columnas1:\n",
    "\n",
    "    x = X_train.loc[:,X_train.columns != i]\n",
    "    y = X_train.loc[:,i]\n",
    "\n",
    "    lm = LinearRegression()\n",
    "    lm.fit(x, y)\n",
    "    r2 = lm.score(x, y)\n",
    "\n",
    "    vif = (1/(1-r2))\n",
    "    vif_acum[i] = vif\n",
    "\n",
    "vif_acum"
   ]
  },
  {
   "cell_type": "code",
   "execution_count": 305,
   "id": "3e3f6bb7-1b3c-4802-ba73-b9dd8b629418",
   "metadata": {},
   "outputs": [
    {
     "name": "stdout",
     "output_type": "stream",
     "text": [
      "Index(['accommodates', 'bathrooms', 'minimum_nights', 'availability_30',\n",
      "       'availability_60', 'last_review', 'review_scores_cleanliness',\n",
      "       'instant_bookable', 'has_license', 'pet_allowed', 'has_AC',\n",
      "       'has_kitchen', 'host_location_other', 'host_location_spain',\n",
      "       'neighbourhood_ciutat_vella', 'neighbourhood_eixample',\n",
      "       'neighbourhood_gracia', 'neighbourhood_horta_guinardo',\n",
      "       'neighbourhood_les_corts', 'neighbourhood_nou_barris',\n",
      "       'neighbourhood_sant_andreu', 'neighbourhood_sant_marti',\n",
      "       'neighbourhood_sants_montjuic', 'neighbourhood_sarria_sant_gervasi'],\n",
      "      dtype='object')\n"
     ]
    }
   ],
   "source": [
    "columnas2 = columnas1.drop('host_location_no_info', 'neighbourhood_sant_andreu')\n",
    "print(columnas2)"
   ]
  },
  {
   "cell_type": "code",
   "execution_count": 307,
   "id": "303ab953-9a32-414d-9353-b90bc6a936a6",
   "metadata": {},
   "outputs": [
    {
     "name": "stderr",
     "output_type": "stream",
     "text": [
      "C:\\Users\\user\\AppData\\Local\\Temp\\ipykernel_2572\\3144989656.py:12: RuntimeWarning: divide by zero encountered in scalar divide\n",
      "  vif = (1/(1-r2))\n",
      "C:\\Users\\user\\AppData\\Local\\Temp\\ipykernel_2572\\3144989656.py:12: RuntimeWarning: divide by zero encountered in scalar divide\n",
      "  vif = (1/(1-r2))\n",
      "C:\\Users\\user\\AppData\\Local\\Temp\\ipykernel_2572\\3144989656.py:12: RuntimeWarning: divide by zero encountered in scalar divide\n",
      "  vif = (1/(1-r2))\n",
      "C:\\Users\\user\\AppData\\Local\\Temp\\ipykernel_2572\\3144989656.py:12: RuntimeWarning: divide by zero encountered in scalar divide\n",
      "  vif = (1/(1-r2))\n",
      "C:\\Users\\user\\AppData\\Local\\Temp\\ipykernel_2572\\3144989656.py:12: RuntimeWarning: divide by zero encountered in scalar divide\n",
      "  vif = (1/(1-r2))\n",
      "C:\\Users\\user\\AppData\\Local\\Temp\\ipykernel_2572\\3144989656.py:12: RuntimeWarning: divide by zero encountered in scalar divide\n",
      "  vif = (1/(1-r2))\n",
      "C:\\Users\\user\\AppData\\Local\\Temp\\ipykernel_2572\\3144989656.py:12: RuntimeWarning: divide by zero encountered in scalar divide\n",
      "  vif = (1/(1-r2))\n",
      "C:\\Users\\user\\AppData\\Local\\Temp\\ipykernel_2572\\3144989656.py:12: RuntimeWarning: divide by zero encountered in scalar divide\n",
      "  vif = (1/(1-r2))\n",
      "C:\\Users\\user\\AppData\\Local\\Temp\\ipykernel_2572\\3144989656.py:12: RuntimeWarning: divide by zero encountered in scalar divide\n",
      "  vif = (1/(1-r2))\n",
      "C:\\Users\\user\\AppData\\Local\\Temp\\ipykernel_2572\\3144989656.py:12: RuntimeWarning: divide by zero encountered in scalar divide\n",
      "  vif = (1/(1-r2))\n",
      "C:\\Users\\user\\AppData\\Local\\Temp\\ipykernel_2572\\3144989656.py:12: RuntimeWarning: divide by zero encountered in scalar divide\n",
      "  vif = (1/(1-r2))\n",
      "C:\\Users\\user\\AppData\\Local\\Temp\\ipykernel_2572\\3144989656.py:12: RuntimeWarning: divide by zero encountered in scalar divide\n",
      "  vif = (1/(1-r2))\n"
     ]
    },
    {
     "data": {
      "text/plain": [
       "{'accommodates': 1.4343091708033144,\n",
       " 'bathrooms': 1.2239598991103235,\n",
       " 'minimum_nights': 1.5256915722947286,\n",
       " 'availability_30': 5.309211534259051,\n",
       " 'availability_60': 5.264186601917745,\n",
       " 'last_review': 1.0826025851077874,\n",
       " 'review_scores_cleanliness': 1.0275611735480958,\n",
       " 'instant_bookable': 1.136884991738729,\n",
       " 'has_license': 1.5277802894127512,\n",
       " 'pet_allowed': 1.0556343900164253,\n",
       " 'has_AC': 1.1132990576724255,\n",
       " 'has_kitchen': 1.0918006982199844,\n",
       " 'host_location_other': inf,\n",
       " 'host_location_spain': inf,\n",
       " 'neighbourhood_ciutat_vella': inf,\n",
       " 'neighbourhood_eixample': inf,\n",
       " 'neighbourhood_gracia': inf,\n",
       " 'neighbourhood_horta_guinardo': inf,\n",
       " 'neighbourhood_les_corts': inf,\n",
       " 'neighbourhood_nou_barris': inf,\n",
       " 'neighbourhood_sant_andreu': inf,\n",
       " 'neighbourhood_sant_marti': inf,\n",
       " 'neighbourhood_sants_montjuic': inf,\n",
       " 'neighbourhood_sarria_sant_gervasi': inf}"
      ]
     },
     "execution_count": 307,
     "metadata": {},
     "output_type": "execute_result"
    }
   ],
   "source": [
    "vif_acum = {}\n",
    "\n",
    "for i in columnas2:\n",
    "\n",
    "    x = X_train.loc[:,X_train.columns != i]\n",
    "    y = X_train.loc[:,i]\n",
    "\n",
    "    lm = LinearRegression()\n",
    "    lm.fit(x, y)\n",
    "    r2 = lm.score(x, y)\n",
    "\n",
    "    vif = (1/(1-r2))\n",
    "    vif_acum[i] = vif\n",
    "\n",
    "vif_acum"
   ]
  },
  {
   "cell_type": "code",
   "execution_count": 246,
   "id": "67a7488b-10f8-4cd4-b2a7-1389d923be17",
   "metadata": {},
   "outputs": [],
   "source": [
    "from sklearn.feature_selection import RFE\n",
    "from sklearn.svm import SVR\n",
    "\n",
    "estimator = SVR(kernel=\"linear\")\n",
    "selector = RFE(estimator, n_features_to_select=6) # backward selection (recursivo)\n",
    "selector = selector.fit(X_train,y_train)"
   ]
  },
  {
   "cell_type": "code",
   "execution_count": 248,
   "id": "c031f490-6f21-453e-9961-3753c13946e8",
   "metadata": {},
   "outputs": [
    {
     "name": "stdout",
     "output_type": "stream",
     "text": [
      "Index(['accommodates', 'instant_bookable', 'has_license', 'has_kitchen',\n",
      "       'neighbourhood_eixample', 'neighbourhood_sant_andreu'],\n",
      "      dtype='object')\n"
     ]
    },
    {
     "ename": "NameError",
     "evalue": "name 'LinearRegression' is not defined",
     "output_type": "error",
     "traceback": [
      "\u001b[1;31m---------------------------------------------------------------------------\u001b[0m",
      "\u001b[1;31mNameError\u001b[0m                                 Traceback (most recent call last)",
      "Cell \u001b[1;32mIn[248], line 4\u001b[0m\n\u001b[0;32m      2\u001b[0m X_train_final \u001b[38;5;241m=\u001b[39m X_train\u001b[38;5;241m.\u001b[39mloc[:,selector\u001b[38;5;241m.\u001b[39msupport_]\n\u001b[0;32m      3\u001b[0m \u001b[38;5;28mprint\u001b[39m(X_train_final\u001b[38;5;241m.\u001b[39mcolumns)\n\u001b[1;32m----> 4\u001b[0m lm \u001b[38;5;241m=\u001b[39m LinearRegression()\n\u001b[0;32m      5\u001b[0m lm\u001b[38;5;241m.\u001b[39mfit(X_train_final, y_train)\n\u001b[0;32m      6\u001b[0m lm\u001b[38;5;241m.\u001b[39mscore(X_test\u001b[38;5;241m.\u001b[39mloc[:,X_train_final\u001b[38;5;241m.\u001b[39mcolumns], y_test)\n",
      "\u001b[1;31mNameError\u001b[0m: name 'LinearRegression' is not defined"
     ]
    }
   ],
   "source": [
    "selector.support_\n",
    "X_train_final = X_train.loc[:,selector.support_]\n",
    "print(X_train_final.columns)\n",
    "lm = LinearRegression()\n",
    "lm.fit(X_train_final, y_train)\n",
    "lm.score(X_test.loc[:,X_train_final.columns], y_test)"
   ]
  },
  {
   "cell_type": "code",
   "execution_count": 328,
   "id": "89800a68-e28f-4882-8886-70c18993f869",
   "metadata": {},
   "outputs": [
    {
     "name": "stdout",
     "output_type": "stream",
     "text": [
      "Index(['accommodates', 'instant_bookable', 'has_license', 'has_kitchen',\n",
      "       'neighbourhood_eixample', 'neighbourhood_sant_andreu'],\n",
      "      dtype='object')\n"
     ]
    },
    {
     "data": {
      "text/plain": [
       "0.1815171525031818"
      ]
     },
     "execution_count": 328,
     "metadata": {},
     "output_type": "execute_result"
    }
   ],
   "source": [
    "#Modelo con las variables seleccionadas con la tecnica RFE\n",
    "X_train_final = X_train.loc[:,['accommodates', 'instant_bookable', 'has_license', 'has_kitchen',\n",
    "       'neighbourhood_eixample', 'neighbourhood_sant_andreu']]\n",
    "print(X_train_final.columns)\n",
    "lm = LinearRegression()\n",
    "lm.fit(X_train_final, y_train)\n",
    "lm.score(X_test.loc[:,X_train_final.columns], y_test)"
   ]
  },
  {
   "cell_type": "code",
   "execution_count": 334,
   "id": "56f855b8-df2c-4bd3-8792-24c542aa42bb",
   "metadata": {},
   "outputs": [
    {
     "data": {
      "text/plain": [
       "0.1979471251605215"
      ]
     },
     "execution_count": 334,
     "metadata": {},
     "output_type": "execute_result"
    }
   ],
   "source": [
    "#Modelo con las variables seleccionadas con el p-valor bajo \n",
    "lm = LinearRegression()\n",
    "lm.fit(X_train, y_train)\n",
    "lm.score(X_test.loc[:,X_train.columns], y_test)"
   ]
  },
  {
   "cell_type": "code",
   "execution_count": 341,
   "id": "03315f58-d910-44aa-bdc0-acdf52cfe161",
   "metadata": {},
   "outputs": [
    {
     "name": "stdout",
     "output_type": "stream",
     "text": [
      "Index(['accommodates', 'bathrooms', 'minimum_nights', 'availability_30',\n",
      "       'availability_60', 'last_review', 'review_scores_cleanliness',\n",
      "       'instant_bookable', 'has_license', 'pet_allowed', 'has_AC',\n",
      "       'has_kitchen'],\n",
      "      dtype='object')\n"
     ]
    },
    {
     "data": {
      "text/plain": [
       "0.19592536564905394"
      ]
     },
     "execution_count": 341,
     "metadata": {},
     "output_type": "execute_result"
    }
   ],
   "source": [
    "#Modelo con las variables con p-valor bajo y sin multicolinealidad\n",
    "X_train_final = X_train.loc[:,['accommodates', 'bathrooms', 'minimum_nights', 'availability_30', 'availability_60', \n",
    "                               'last_review', 'review_scores_cleanliness', 'instant_bookable', 'has_license', 'pet_allowed', \n",
    "                               'has_AC', 'has_kitchen']]\n",
    "print(X_train_final.columns)\n",
    "lm = LinearRegression()\n",
    "lm.fit(X_train_final, y_train)\n",
    "lm.score(X_test.loc[:,X_train_final.columns], y_test)"
   ]
  }
 ],
 "metadata": {
  "kernelspec": {
   "display_name": "Python 3 (ipykernel)",
   "language": "python",
   "name": "python3"
  },
  "language_info": {
   "codemirror_mode": {
    "name": "ipython",
    "version": 3
   },
   "file_extension": ".py",
   "mimetype": "text/x-python",
   "name": "python",
   "nbconvert_exporter": "python",
   "pygments_lexer": "ipython3",
   "version": "3.11.7"
  }
 },
 "nbformat": 4,
 "nbformat_minor": 5
}
