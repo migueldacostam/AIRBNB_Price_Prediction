{
 "cells": [
  {
   "cell_type": "code",
   "execution_count": 2610,
   "id": "e6f430c9-fd07-4ae9-a03c-b49f37dc7c82",
   "metadata": {},
   "outputs": [],
   "source": [
    "import pandas as pd\n",
    "from sklearn.model_selection import train_test_split\n",
    "from sklearn.ensemble import RandomForestRegressor\n",
    "from sklearn.metrics import mean_squared_error\n",
    "import numpy as np\n",
    "import seaborn as sns\n",
    "import matplotlib.pyplot as plt\n",
    "import re"
   ]
  },
  {
   "cell_type": "markdown",
   "id": "933b2a30-db47-432a-95cf-8c816b359b13",
   "metadata": {},
   "source": [
    "# 0. VARIABLES CREADAS"
   ]
  },
  {
   "cell_type": "code",
   "execution_count": 2612,
   "id": "15405219-a73a-430b-a4f3-19f7bf263d6b",
   "metadata": {},
   "outputs": [],
   "source": [
    "# df = data frame original\n",
    "# df2 = copia de df con las columnas seleccionadas"
   ]
  },
  {
   "cell_type": "markdown",
   "id": "adab7f5a-728c-41ba-b080-1b9a979e816b",
   "metadata": {},
   "source": [
    "# 1. DATAFRAME ORIGINAL (DF)"
   ]
  },
  {
   "cell_type": "code",
   "execution_count": 2614,
   "id": "d4335f11-1aee-4e51-9c61-a4947e20de61",
   "metadata": {},
   "outputs": [],
   "source": [
    "df = pd.read_csv(\"listings.csv\")"
   ]
  },
  {
   "cell_type": "code",
   "execution_count": 2615,
   "id": "d7c854c8-10dc-483d-8b93-2d7190e9154d",
   "metadata": {
    "scrolled": true
   },
   "outputs": [
    {
     "data": {
      "text/html": [
       "<div>\n",
       "<style scoped>\n",
       "    .dataframe tbody tr th:only-of-type {\n",
       "        vertical-align: middle;\n",
       "    }\n",
       "\n",
       "    .dataframe tbody tr th {\n",
       "        vertical-align: top;\n",
       "    }\n",
       "\n",
       "    .dataframe thead th {\n",
       "        text-align: right;\n",
       "    }\n",
       "</style>\n",
       "<table border=\"1\" class=\"dataframe\">\n",
       "  <thead>\n",
       "    <tr style=\"text-align: right;\">\n",
       "      <th></th>\n",
       "      <th>id</th>\n",
       "      <th>listing_url</th>\n",
       "      <th>scrape_id</th>\n",
       "      <th>last_scraped</th>\n",
       "      <th>source</th>\n",
       "      <th>name</th>\n",
       "      <th>description</th>\n",
       "      <th>neighborhood_overview</th>\n",
       "      <th>picture_url</th>\n",
       "      <th>host_id</th>\n",
       "      <th>...</th>\n",
       "      <th>review_scores_communication</th>\n",
       "      <th>review_scores_location</th>\n",
       "      <th>review_scores_value</th>\n",
       "      <th>license</th>\n",
       "      <th>instant_bookable</th>\n",
       "      <th>calculated_host_listings_count</th>\n",
       "      <th>calculated_host_listings_count_entire_homes</th>\n",
       "      <th>calculated_host_listings_count_private_rooms</th>\n",
       "      <th>calculated_host_listings_count_shared_rooms</th>\n",
       "      <th>reviews_per_month</th>\n",
       "    </tr>\n",
       "  </thead>\n",
       "  <tbody>\n",
       "    <tr>\n",
       "      <th>0</th>\n",
       "      <td>269467</td>\n",
       "      <td>https://www.airbnb.com/rooms/269467</td>\n",
       "      <td>20240615011618</td>\n",
       "      <td>2024-06-15</td>\n",
       "      <td>city scrape</td>\n",
       "      <td>Sunny and quiet Loft next to Sagrada Familia</td>\n",
       "      <td>The apartment is a cosy open space with 65 m2....</td>\n",
       "      <td>NaN</td>\n",
       "      <td>https://a0.muscache.com/pictures/a6445a90-94eb...</td>\n",
       "      <td>1411775</td>\n",
       "      <td>...</td>\n",
       "      <td>4.79</td>\n",
       "      <td>4.81</td>\n",
       "      <td>4.67</td>\n",
       "      <td>HUTB-001129</td>\n",
       "      <td>t</td>\n",
       "      <td>3</td>\n",
       "      <td>3</td>\n",
       "      <td>0</td>\n",
       "      <td>0</td>\n",
       "      <td>1.15</td>\n",
       "    </tr>\n",
       "    <tr>\n",
       "      <th>1</th>\n",
       "      <td>270197</td>\n",
       "      <td>https://www.airbnb.com/rooms/270197</td>\n",
       "      <td>20240615011618</td>\n",
       "      <td>2024-06-15</td>\n",
       "      <td>city scrape</td>\n",
       "      <td>*monthly stays* 4 Bedroom Apartment near Rambla</td>\n",
       "      <td>Rented only for monthly periods. 4 bedroom apa...</td>\n",
       "      <td>NaN</td>\n",
       "      <td>https://a0.muscache.com/pictures/69907440-d8df...</td>\n",
       "      <td>1414702</td>\n",
       "      <td>...</td>\n",
       "      <td>5.00</td>\n",
       "      <td>5.00</td>\n",
       "      <td>4.50</td>\n",
       "      <td>N/A SOLO ESTANCIAS MENSUALES</td>\n",
       "      <td>f</td>\n",
       "      <td>27</td>\n",
       "      <td>27</td>\n",
       "      <td>0</td>\n",
       "      <td>0</td>\n",
       "      <td>0.02</td>\n",
       "    </tr>\n",
       "    <tr>\n",
       "      <th>2</th>\n",
       "      <td>18674</td>\n",
       "      <td>https://www.airbnb.com/rooms/18674</td>\n",
       "      <td>20240615011618</td>\n",
       "      <td>2024-06-15</td>\n",
       "      <td>city scrape</td>\n",
       "      <td>Huge flat for 8 people close to Sagrada Familia</td>\n",
       "      <td>110m2 apartment to rent in Barcelona. Located ...</td>\n",
       "      <td>Apartment in Barcelona located in the heart of...</td>\n",
       "      <td>https://a0.muscache.com/pictures/13031453/413c...</td>\n",
       "      <td>71615</td>\n",
       "      <td>...</td>\n",
       "      <td>4.68</td>\n",
       "      <td>4.78</td>\n",
       "      <td>4.30</td>\n",
       "      <td>HUTB-002062</td>\n",
       "      <td>t</td>\n",
       "      <td>27</td>\n",
       "      <td>27</td>\n",
       "      <td>0</td>\n",
       "      <td>0</td>\n",
       "      <td>0.30</td>\n",
       "    </tr>\n",
       "    <tr>\n",
       "      <th>3</th>\n",
       "      <td>272282</td>\n",
       "      <td>https://www.airbnb.com/rooms/272282</td>\n",
       "      <td>20240615011618</td>\n",
       "      <td>2024-06-15</td>\n",
       "      <td>previous scrape</td>\n",
       "      <td>CHARMING, VERY SPACIOUS &amp; BEST LOCATED</td>\n",
       "      <td>Very spacious apartment located in a modernist...</td>\n",
       "      <td>Eixample is famous for being home to the major...</td>\n",
       "      <td>https://a0.muscache.com/pictures/monet/Select-...</td>\n",
       "      <td>1425070</td>\n",
       "      <td>...</td>\n",
       "      <td>4.96</td>\n",
       "      <td>4.84</td>\n",
       "      <td>4.80</td>\n",
       "      <td>HUTB003208</td>\n",
       "      <td>f</td>\n",
       "      <td>1</td>\n",
       "      <td>1</td>\n",
       "      <td>0</td>\n",
       "      <td>0</td>\n",
       "      <td>2.84</td>\n",
       "    </tr>\n",
       "    <tr>\n",
       "      <th>4</th>\n",
       "      <td>23197</td>\n",
       "      <td>https://www.airbnb.com/rooms/23197</td>\n",
       "      <td>20240615011618</td>\n",
       "      <td>2024-06-15</td>\n",
       "      <td>city scrape</td>\n",
       "      <td>Forum CCIB DeLuxe, Spacious, Large Balcony, relax</td>\n",
       "      <td>Beautiful spacious apartment, large terrace, 5...</td>\n",
       "      <td>Strategically located in the Parc del Fòrum, a...</td>\n",
       "      <td>https://a0.muscache.com/pictures/miso/Hosting-...</td>\n",
       "      <td>90417</td>\n",
       "      <td>...</td>\n",
       "      <td>4.99</td>\n",
       "      <td>4.62</td>\n",
       "      <td>4.64</td>\n",
       "      <td>HUTB005057</td>\n",
       "      <td>f</td>\n",
       "      <td>1</td>\n",
       "      <td>1</td>\n",
       "      <td>0</td>\n",
       "      <td>0</td>\n",
       "      <td>0.48</td>\n",
       "    </tr>\n",
       "  </tbody>\n",
       "</table>\n",
       "<p>5 rows × 75 columns</p>\n",
       "</div>"
      ],
      "text/plain": [
       "       id                          listing_url       scrape_id last_scraped  \\\n",
       "0  269467  https://www.airbnb.com/rooms/269467  20240615011618   2024-06-15   \n",
       "1  270197  https://www.airbnb.com/rooms/270197  20240615011618   2024-06-15   \n",
       "2   18674   https://www.airbnb.com/rooms/18674  20240615011618   2024-06-15   \n",
       "3  272282  https://www.airbnb.com/rooms/272282  20240615011618   2024-06-15   \n",
       "4   23197   https://www.airbnb.com/rooms/23197  20240615011618   2024-06-15   \n",
       "\n",
       "            source                                               name  \\\n",
       "0      city scrape       Sunny and quiet Loft next to Sagrada Familia   \n",
       "1      city scrape    *monthly stays* 4 Bedroom Apartment near Rambla   \n",
       "2      city scrape    Huge flat for 8 people close to Sagrada Familia   \n",
       "3  previous scrape             CHARMING, VERY SPACIOUS & BEST LOCATED   \n",
       "4      city scrape  Forum CCIB DeLuxe, Spacious, Large Balcony, relax   \n",
       "\n",
       "                                         description  \\\n",
       "0  The apartment is a cosy open space with 65 m2....   \n",
       "1  Rented only for monthly periods. 4 bedroom apa...   \n",
       "2  110m2 apartment to rent in Barcelona. Located ...   \n",
       "3  Very spacious apartment located in a modernist...   \n",
       "4  Beautiful spacious apartment, large terrace, 5...   \n",
       "\n",
       "                               neighborhood_overview  \\\n",
       "0                                                NaN   \n",
       "1                                                NaN   \n",
       "2  Apartment in Barcelona located in the heart of...   \n",
       "3  Eixample is famous for being home to the major...   \n",
       "4  Strategically located in the Parc del Fòrum, a...   \n",
       "\n",
       "                                         picture_url  host_id  ...  \\\n",
       "0  https://a0.muscache.com/pictures/a6445a90-94eb...  1411775  ...   \n",
       "1  https://a0.muscache.com/pictures/69907440-d8df...  1414702  ...   \n",
       "2  https://a0.muscache.com/pictures/13031453/413c...    71615  ...   \n",
       "3  https://a0.muscache.com/pictures/monet/Select-...  1425070  ...   \n",
       "4  https://a0.muscache.com/pictures/miso/Hosting-...    90417  ...   \n",
       "\n",
       "  review_scores_communication review_scores_location review_scores_value  \\\n",
       "0                        4.79                   4.81                4.67   \n",
       "1                        5.00                   5.00                4.50   \n",
       "2                        4.68                   4.78                4.30   \n",
       "3                        4.96                   4.84                4.80   \n",
       "4                        4.99                   4.62                4.64   \n",
       "\n",
       "                        license instant_bookable  \\\n",
       "0                   HUTB-001129                t   \n",
       "1  N/A SOLO ESTANCIAS MENSUALES                f   \n",
       "2                   HUTB-002062                t   \n",
       "3                    HUTB003208                f   \n",
       "4                    HUTB005057                f   \n",
       "\n",
       "  calculated_host_listings_count calculated_host_listings_count_entire_homes  \\\n",
       "0                              3                                           3   \n",
       "1                             27                                          27   \n",
       "2                             27                                          27   \n",
       "3                              1                                           1   \n",
       "4                              1                                           1   \n",
       "\n",
       "  calculated_host_listings_count_private_rooms  \\\n",
       "0                                            0   \n",
       "1                                            0   \n",
       "2                                            0   \n",
       "3                                            0   \n",
       "4                                            0   \n",
       "\n",
       "  calculated_host_listings_count_shared_rooms reviews_per_month  \n",
       "0                                           0              1.15  \n",
       "1                                           0              0.02  \n",
       "2                                           0              0.30  \n",
       "3                                           0              2.84  \n",
       "4                                           0              0.48  \n",
       "\n",
       "[5 rows x 75 columns]"
      ]
     },
     "execution_count": 2615,
     "metadata": {},
     "output_type": "execute_result"
    }
   ],
   "source": [
    "df.head()"
   ]
  },
  {
   "cell_type": "markdown",
   "id": "887e1d64-563a-4018-b826-bd3953985f56",
   "metadata": {},
   "source": [
    "### 1.1 Shape"
   ]
  },
  {
   "cell_type": "code",
   "execution_count": 2617,
   "id": "14ea1e07-e438-4ffd-9a6c-e87df1c72341",
   "metadata": {},
   "outputs": [
    {
     "data": {
      "text/plain": [
       "(18925, 75)"
      ]
     },
     "execution_count": 2617,
     "metadata": {},
     "output_type": "execute_result"
    }
   ],
   "source": [
    "df.shape"
   ]
  },
  {
   "cell_type": "markdown",
   "id": "e211ba22-2adb-43e9-bc64-3b7b8969c369",
   "metadata": {},
   "source": [
    "### 1.2 Columnas"
   ]
  },
  {
   "cell_type": "code",
   "execution_count": 2619,
   "id": "a63f5ea8-1428-4711-9213-dbeabb342bd8",
   "metadata": {
    "scrolled": true
   },
   "outputs": [
    {
     "data": {
      "text/plain": [
       "[(0, 'id'),\n",
       " (1, 'listing_url'),\n",
       " (2, 'scrape_id'),\n",
       " (3, 'last_scraped'),\n",
       " (4, 'source'),\n",
       " (5, 'name'),\n",
       " (6, 'description'),\n",
       " (7, 'neighborhood_overview'),\n",
       " (8, 'picture_url'),\n",
       " (9, 'host_id'),\n",
       " (10, 'host_url'),\n",
       " (11, 'host_name'),\n",
       " (12, 'host_since'),\n",
       " (13, 'host_location'),\n",
       " (14, 'host_about'),\n",
       " (15, 'host_response_time'),\n",
       " (16, 'host_response_rate'),\n",
       " (17, 'host_acceptance_rate'),\n",
       " (18, 'host_is_superhost'),\n",
       " (19, 'host_thumbnail_url'),\n",
       " (20, 'host_picture_url'),\n",
       " (21, 'host_neighbourhood'),\n",
       " (22, 'host_listings_count'),\n",
       " (23, 'host_total_listings_count'),\n",
       " (24, 'host_verifications'),\n",
       " (25, 'host_has_profile_pic'),\n",
       " (26, 'host_identity_verified'),\n",
       " (27, 'neighbourhood'),\n",
       " (28, 'neighbourhood_cleansed'),\n",
       " (29, 'neighbourhood_group_cleansed'),\n",
       " (30, 'latitude'),\n",
       " (31, 'longitude'),\n",
       " (32, 'property_type'),\n",
       " (33, 'room_type'),\n",
       " (34, 'accommodates'),\n",
       " (35, 'bathrooms'),\n",
       " (36, 'bathrooms_text'),\n",
       " (37, 'bedrooms'),\n",
       " (38, 'beds'),\n",
       " (39, 'amenities'),\n",
       " (40, 'price'),\n",
       " (41, 'minimum_nights'),\n",
       " (42, 'maximum_nights'),\n",
       " (43, 'minimum_minimum_nights'),\n",
       " (44, 'maximum_minimum_nights'),\n",
       " (45, 'minimum_maximum_nights'),\n",
       " (46, 'maximum_maximum_nights'),\n",
       " (47, 'minimum_nights_avg_ntm'),\n",
       " (48, 'maximum_nights_avg_ntm'),\n",
       " (49, 'calendar_updated'),\n",
       " (50, 'has_availability'),\n",
       " (51, 'availability_30'),\n",
       " (52, 'availability_60'),\n",
       " (53, 'availability_90'),\n",
       " (54, 'availability_365'),\n",
       " (55, 'calendar_last_scraped'),\n",
       " (56, 'number_of_reviews'),\n",
       " (57, 'number_of_reviews_ltm'),\n",
       " (58, 'number_of_reviews_l30d'),\n",
       " (59, 'first_review'),\n",
       " (60, 'last_review'),\n",
       " (61, 'review_scores_rating'),\n",
       " (62, 'review_scores_accuracy'),\n",
       " (63, 'review_scores_cleanliness'),\n",
       " (64, 'review_scores_checkin'),\n",
       " (65, 'review_scores_communication'),\n",
       " (66, 'review_scores_location'),\n",
       " (67, 'review_scores_value'),\n",
       " (68, 'license'),\n",
       " (69, 'instant_bookable'),\n",
       " (70, 'calculated_host_listings_count'),\n",
       " (71, 'calculated_host_listings_count_entire_homes'),\n",
       " (72, 'calculated_host_listings_count_private_rooms'),\n",
       " (73, 'calculated_host_listings_count_shared_rooms'),\n",
       " (74, 'reviews_per_month')]"
      ]
     },
     "execution_count": 2619,
     "metadata": {},
     "output_type": "execute_result"
    }
   ],
   "source": [
    "list(enumerate(df.columns))"
   ]
  },
  {
   "cell_type": "markdown",
   "id": "f04051b5-5e82-45f9-8d83-80619a0439e6",
   "metadata": {},
   "source": [
    "# 2. SELECCIÓN DE COLUMNAS & COPIA DE DF (DF2)"
   ]
  },
  {
   "cell_type": "markdown",
   "id": "9bbddd5e-aa09-4f8c-ab43-5f6e8bd08f9c",
   "metadata": {},
   "source": [
    "### 2.1 Columnas seleccionadas\n"
   ]
  },
  {
   "cell_type": "code",
   "execution_count": 2622,
   "id": "b76bd8b0-85ee-49c1-a4b0-c11d145f6507",
   "metadata": {},
   "outputs": [],
   "source": [
    "columnas_seleccionadas = [\n",
    "    \"description\",\n",
    "    \"name\",\n",
    "    \"host_since\",\n",
    "    \"host_location\",\n",
    "    \"host_is_superhost\",\n",
    "    \"host_identity_verified\",\n",
    "    \"host_has_profile_pic\",\n",
    "    \"neighbourhood_group_cleansed\",\n",
    "    \"latitude\",\n",
    "    \"longitude\",\n",
    "    \"property_type\",\n",
    "    \"room_type\",\n",
    "    \"accommodates\",\n",
    "    \"bathrooms\",\n",
    "    \"bedrooms\",\n",
    "    \"beds\",\n",
    "    \"amenities\",\n",
    "    \"price\",\n",
    "    \"minimum_nights\",\n",
    "    \"maximum_nights\",\n",
    "    \"has_availability\",\n",
    "    \"availability_30\",\n",
    "    \"availability_60\",\n",
    "    \"number_of_reviews\",\n",
    "    \"last_review\",\n",
    "    \"review_scores_rating\",\n",
    "    \"review_scores_cleanliness\",\n",
    "    \"review_scores_checkin\",\n",
    "    \"review_scores_communication\",\n",
    "    \"review_scores_location\",\n",
    "    \"review_scores_value\",\n",
    "    \"reviews_per_month\",\n",
    "    \"license\",\n",
    "    \"instant_bookable\",\n",
    "    \"listing_url\",\n",
    "    \"bathrooms_text\"\n",
    "]"
   ]
  },
  {
   "cell_type": "markdown",
   "id": "67165bd1-1a75-4cdb-9493-d2db7fbfef18",
   "metadata": {},
   "source": [
    "### 2.2 Creación nuevo dataframe (df2)"
   ]
  },
  {
   "cell_type": "code",
   "execution_count": 2624,
   "id": "0c08befb-ddfc-4fbf-a996-6dac9d7b3bc9",
   "metadata": {},
   "outputs": [],
   "source": [
    "df2 = df[columnas_seleccionadas].copy()"
   ]
  },
  {
   "cell_type": "code",
   "execution_count": 2625,
   "id": "a2894cbc-d5dc-420e-acfa-2fbbbd7addaa",
   "metadata": {
    "scrolled": true
   },
   "outputs": [
    {
     "data": {
      "text/html": [
       "<div>\n",
       "<style scoped>\n",
       "    .dataframe tbody tr th:only-of-type {\n",
       "        vertical-align: middle;\n",
       "    }\n",
       "\n",
       "    .dataframe tbody tr th {\n",
       "        vertical-align: top;\n",
       "    }\n",
       "\n",
       "    .dataframe thead th {\n",
       "        text-align: right;\n",
       "    }\n",
       "</style>\n",
       "<table border=\"1\" class=\"dataframe\">\n",
       "  <thead>\n",
       "    <tr style=\"text-align: right;\">\n",
       "      <th></th>\n",
       "      <th>description</th>\n",
       "      <th>name</th>\n",
       "      <th>host_since</th>\n",
       "      <th>host_location</th>\n",
       "      <th>host_is_superhost</th>\n",
       "      <th>host_identity_verified</th>\n",
       "      <th>host_has_profile_pic</th>\n",
       "      <th>neighbourhood_group_cleansed</th>\n",
       "      <th>latitude</th>\n",
       "      <th>longitude</th>\n",
       "      <th>...</th>\n",
       "      <th>review_scores_cleanliness</th>\n",
       "      <th>review_scores_checkin</th>\n",
       "      <th>review_scores_communication</th>\n",
       "      <th>review_scores_location</th>\n",
       "      <th>review_scores_value</th>\n",
       "      <th>reviews_per_month</th>\n",
       "      <th>license</th>\n",
       "      <th>instant_bookable</th>\n",
       "      <th>listing_url</th>\n",
       "      <th>bathrooms_text</th>\n",
       "    </tr>\n",
       "  </thead>\n",
       "  <tbody>\n",
       "    <tr>\n",
       "      <th>0</th>\n",
       "      <td>The apartment is a cosy open space with 65 m2....</td>\n",
       "      <td>Sunny and quiet Loft next to Sagrada Familia</td>\n",
       "      <td>2011-11-16</td>\n",
       "      <td>Barcelona, Spain</td>\n",
       "      <td>f</td>\n",
       "      <td>t</td>\n",
       "      <td>t</td>\n",
       "      <td>Eixample</td>\n",
       "      <td>41.401810</td>\n",
       "      <td>2.17610</td>\n",
       "      <td>...</td>\n",
       "      <td>4.59</td>\n",
       "      <td>4.83</td>\n",
       "      <td>4.79</td>\n",
       "      <td>4.81</td>\n",
       "      <td>4.67</td>\n",
       "      <td>1.15</td>\n",
       "      <td>HUTB-001129</td>\n",
       "      <td>t</td>\n",
       "      <td>https://www.airbnb.com/rooms/269467</td>\n",
       "      <td>1 bath</td>\n",
       "    </tr>\n",
       "    <tr>\n",
       "      <th>1</th>\n",
       "      <td>Rented only for monthly periods. 4 bedroom apa...</td>\n",
       "      <td>*monthly stays* 4 Bedroom Apartment near Rambla</td>\n",
       "      <td>2011-11-16</td>\n",
       "      <td>Barcelona, Spain</td>\n",
       "      <td>f</td>\n",
       "      <td>t</td>\n",
       "      <td>t</td>\n",
       "      <td>Ciutat Vella</td>\n",
       "      <td>41.379360</td>\n",
       "      <td>2.17376</td>\n",
       "      <td>...</td>\n",
       "      <td>4.50</td>\n",
       "      <td>5.00</td>\n",
       "      <td>5.00</td>\n",
       "      <td>5.00</td>\n",
       "      <td>4.50</td>\n",
       "      <td>0.02</td>\n",
       "      <td>N/A SOLO ESTANCIAS MENSUALES</td>\n",
       "      <td>f</td>\n",
       "      <td>https://www.airbnb.com/rooms/270197</td>\n",
       "      <td>1.5 baths</td>\n",
       "    </tr>\n",
       "    <tr>\n",
       "      <th>2</th>\n",
       "      <td>110m2 apartment to rent in Barcelona. Located ...</td>\n",
       "      <td>Huge flat for 8 people close to Sagrada Familia</td>\n",
       "      <td>2010-01-19</td>\n",
       "      <td>Barcelona, Spain</td>\n",
       "      <td>f</td>\n",
       "      <td>t</td>\n",
       "      <td>t</td>\n",
       "      <td>Eixample</td>\n",
       "      <td>41.405560</td>\n",
       "      <td>2.17262</td>\n",
       "      <td>...</td>\n",
       "      <td>4.63</td>\n",
       "      <td>4.75</td>\n",
       "      <td>4.68</td>\n",
       "      <td>4.78</td>\n",
       "      <td>4.30</td>\n",
       "      <td>0.30</td>\n",
       "      <td>HUTB-002062</td>\n",
       "      <td>t</td>\n",
       "      <td>https://www.airbnb.com/rooms/18674</td>\n",
       "      <td>2 baths</td>\n",
       "    </tr>\n",
       "    <tr>\n",
       "      <th>3</th>\n",
       "      <td>Very spacious apartment located in a modernist...</td>\n",
       "      <td>CHARMING, VERY SPACIOUS &amp; BEST LOCATED</td>\n",
       "      <td>2011-11-20</td>\n",
       "      <td>Barcelona, Spain</td>\n",
       "      <td>t</td>\n",
       "      <td>t</td>\n",
       "      <td>t</td>\n",
       "      <td>Eixample</td>\n",
       "      <td>41.383470</td>\n",
       "      <td>2.15802</td>\n",
       "      <td>...</td>\n",
       "      <td>4.97</td>\n",
       "      <td>4.94</td>\n",
       "      <td>4.96</td>\n",
       "      <td>4.84</td>\n",
       "      <td>4.80</td>\n",
       "      <td>2.84</td>\n",
       "      <td>HUTB003208</td>\n",
       "      <td>f</td>\n",
       "      <td>https://www.airbnb.com/rooms/272282</td>\n",
       "      <td>2 baths</td>\n",
       "    </tr>\n",
       "    <tr>\n",
       "      <th>4</th>\n",
       "      <td>Beautiful spacious apartment, large terrace, 5...</td>\n",
       "      <td>Forum CCIB DeLuxe, Spacious, Large Balcony, relax</td>\n",
       "      <td>2010-03-09</td>\n",
       "      <td>Catalonia, Spain</td>\n",
       "      <td>f</td>\n",
       "      <td>t</td>\n",
       "      <td>t</td>\n",
       "      <td>Sant Martí</td>\n",
       "      <td>41.412432</td>\n",
       "      <td>2.21975</td>\n",
       "      <td>...</td>\n",
       "      <td>4.89</td>\n",
       "      <td>4.95</td>\n",
       "      <td>4.99</td>\n",
       "      <td>4.62</td>\n",
       "      <td>4.64</td>\n",
       "      <td>0.48</td>\n",
       "      <td>HUTB005057</td>\n",
       "      <td>f</td>\n",
       "      <td>https://www.airbnb.com/rooms/23197</td>\n",
       "      <td>2 baths</td>\n",
       "    </tr>\n",
       "  </tbody>\n",
       "</table>\n",
       "<p>5 rows × 36 columns</p>\n",
       "</div>"
      ],
      "text/plain": [
       "                                         description  \\\n",
       "0  The apartment is a cosy open space with 65 m2....   \n",
       "1  Rented only for monthly periods. 4 bedroom apa...   \n",
       "2  110m2 apartment to rent in Barcelona. Located ...   \n",
       "3  Very spacious apartment located in a modernist...   \n",
       "4  Beautiful spacious apartment, large terrace, 5...   \n",
       "\n",
       "                                                name  host_since  \\\n",
       "0       Sunny and quiet Loft next to Sagrada Familia  2011-11-16   \n",
       "1    *monthly stays* 4 Bedroom Apartment near Rambla  2011-11-16   \n",
       "2    Huge flat for 8 people close to Sagrada Familia  2010-01-19   \n",
       "3             CHARMING, VERY SPACIOUS & BEST LOCATED  2011-11-20   \n",
       "4  Forum CCIB DeLuxe, Spacious, Large Balcony, relax  2010-03-09   \n",
       "\n",
       "      host_location host_is_superhost host_identity_verified  \\\n",
       "0  Barcelona, Spain                 f                      t   \n",
       "1  Barcelona, Spain                 f                      t   \n",
       "2  Barcelona, Spain                 f                      t   \n",
       "3  Barcelona, Spain                 t                      t   \n",
       "4  Catalonia, Spain                 f                      t   \n",
       "\n",
       "  host_has_profile_pic neighbourhood_group_cleansed   latitude  longitude  \\\n",
       "0                    t                     Eixample  41.401810    2.17610   \n",
       "1                    t                 Ciutat Vella  41.379360    2.17376   \n",
       "2                    t                     Eixample  41.405560    2.17262   \n",
       "3                    t                     Eixample  41.383470    2.15802   \n",
       "4                    t                   Sant Martí  41.412432    2.21975   \n",
       "\n",
       "   ... review_scores_cleanliness review_scores_checkin  \\\n",
       "0  ...                      4.59                  4.83   \n",
       "1  ...                      4.50                  5.00   \n",
       "2  ...                      4.63                  4.75   \n",
       "3  ...                      4.97                  4.94   \n",
       "4  ...                      4.89                  4.95   \n",
       "\n",
       "   review_scores_communication  review_scores_location  review_scores_value  \\\n",
       "0                         4.79                    4.81                 4.67   \n",
       "1                         5.00                    5.00                 4.50   \n",
       "2                         4.68                    4.78                 4.30   \n",
       "3                         4.96                    4.84                 4.80   \n",
       "4                         4.99                    4.62                 4.64   \n",
       "\n",
       "   reviews_per_month                       license instant_bookable  \\\n",
       "0               1.15                   HUTB-001129                t   \n",
       "1               0.02  N/A SOLO ESTANCIAS MENSUALES                f   \n",
       "2               0.30                   HUTB-002062                t   \n",
       "3               2.84                    HUTB003208                f   \n",
       "4               0.48                    HUTB005057                f   \n",
       "\n",
       "                           listing_url  bathrooms_text  \n",
       "0  https://www.airbnb.com/rooms/269467          1 bath  \n",
       "1  https://www.airbnb.com/rooms/270197       1.5 baths  \n",
       "2   https://www.airbnb.com/rooms/18674         2 baths  \n",
       "3  https://www.airbnb.com/rooms/272282         2 baths  \n",
       "4   https://www.airbnb.com/rooms/23197         2 baths  \n",
       "\n",
       "[5 rows x 36 columns]"
      ]
     },
     "execution_count": 2625,
     "metadata": {},
     "output_type": "execute_result"
    }
   ],
   "source": [
    "df2.head()"
   ]
  },
  {
   "cell_type": "markdown",
   "id": "8af3310b-ac68-4068-b2eb-2de991372604",
   "metadata": {},
   "source": [
    "### 2.3 Shape"
   ]
  },
  {
   "cell_type": "code",
   "execution_count": 2627,
   "id": "3e5c468b-abe2-4acb-b6cc-8c2a201818a8",
   "metadata": {},
   "outputs": [
    {
     "data": {
      "text/plain": [
       "(18925, 36)"
      ]
     },
     "execution_count": 2627,
     "metadata": {},
     "output_type": "execute_result"
    }
   ],
   "source": [
    "df2.shape"
   ]
  },
  {
   "cell_type": "markdown",
   "id": "f9544a65-120b-4a0b-9712-6cfb2704035b",
   "metadata": {},
   "source": [
    "### 2.4 Información "
   ]
  },
  {
   "cell_type": "code",
   "execution_count": 2629,
   "id": "29e404dc-9862-4b97-976e-c4009f33c101",
   "metadata": {},
   "outputs": [
    {
     "name": "stdout",
     "output_type": "stream",
     "text": [
      "<class 'pandas.core.frame.DataFrame'>\n",
      "RangeIndex: 18925 entries, 0 to 18924\n",
      "Data columns (total 36 columns):\n",
      " #   Column                        Non-Null Count  Dtype  \n",
      "---  ------                        --------------  -----  \n",
      " 0   description                   18242 non-null  object \n",
      " 1   name                          18925 non-null  object \n",
      " 2   host_since                    18923 non-null  object \n",
      " 3   host_location                 14497 non-null  object \n",
      " 4   host_is_superhost             18801 non-null  object \n",
      " 5   host_identity_verified        18923 non-null  object \n",
      " 6   host_has_profile_pic          18923 non-null  object \n",
      " 7   neighbourhood_group_cleansed  18925 non-null  object \n",
      " 8   latitude                      18925 non-null  float64\n",
      " 9   longitude                     18925 non-null  float64\n",
      " 10  property_type                 18925 non-null  object \n",
      " 11  room_type                     18925 non-null  object \n",
      " 12  accommodates                  18925 non-null  int64  \n",
      " 13  bathrooms                     15182 non-null  float64\n",
      " 14  bedrooms                      17043 non-null  float64\n",
      " 15  beds                          15087 non-null  float64\n",
      " 16  amenities                     18925 non-null  object \n",
      " 17  price                         15189 non-null  object \n",
      " 18  minimum_nights                18925 non-null  int64  \n",
      " 19  maximum_nights                18925 non-null  int64  \n",
      " 20  has_availability              17875 non-null  object \n",
      " 21  availability_30               18925 non-null  int64  \n",
      " 22  availability_60               18925 non-null  int64  \n",
      " 23  number_of_reviews             18925 non-null  int64  \n",
      " 24  last_review                   14138 non-null  object \n",
      " 25  review_scores_rating          14138 non-null  float64\n",
      " 26  review_scores_cleanliness     14117 non-null  float64\n",
      " 27  review_scores_checkin         14115 non-null  float64\n",
      " 28  review_scores_communication   14118 non-null  float64\n",
      " 29  review_scores_location        14115 non-null  float64\n",
      " 30  review_scores_value           14116 non-null  float64\n",
      " 31  reviews_per_month             14138 non-null  float64\n",
      " 32  license                       12787 non-null  object \n",
      " 33  instant_bookable              18925 non-null  object \n",
      " 34  listing_url                   18925 non-null  object \n",
      " 35  bathrooms_text                18902 non-null  object \n",
      "dtypes: float64(12), int64(6), object(18)\n",
      "memory usage: 5.2+ MB\n"
     ]
    }
   ],
   "source": [
    "df2.info()"
   ]
  },
  {
   "cell_type": "markdown",
   "id": "e2913b6e-a158-4914-8afd-457b6fa9323e",
   "metadata": {},
   "source": [
    "### 2.5 Valores nulos"
   ]
  },
  {
   "cell_type": "code",
   "execution_count": 2631,
   "id": "e452f30f-ca65-479a-bf96-7cb432937a3d",
   "metadata": {},
   "outputs": [
    {
     "data": {
      "text/plain": [
       "description                      683\n",
       "name                               0\n",
       "host_since                         2\n",
       "host_location                   4428\n",
       "host_is_superhost                124\n",
       "host_identity_verified             2\n",
       "host_has_profile_pic               2\n",
       "neighbourhood_group_cleansed       0\n",
       "latitude                           0\n",
       "longitude                          0\n",
       "property_type                      0\n",
       "room_type                          0\n",
       "accommodates                       0\n",
       "bathrooms                       3743\n",
       "bedrooms                        1882\n",
       "beds                            3838\n",
       "amenities                          0\n",
       "price                           3736\n",
       "minimum_nights                     0\n",
       "maximum_nights                     0\n",
       "has_availability                1050\n",
       "availability_30                    0\n",
       "availability_60                    0\n",
       "number_of_reviews                  0\n",
       "last_review                     4787\n",
       "review_scores_rating            4787\n",
       "review_scores_cleanliness       4808\n",
       "review_scores_checkin           4810\n",
       "review_scores_communication     4807\n",
       "review_scores_location          4810\n",
       "review_scores_value             4809\n",
       "reviews_per_month               4787\n",
       "license                         6138\n",
       "instant_bookable                   0\n",
       "listing_url                        0\n",
       "bathrooms_text                    23\n",
       "dtype: int64"
      ]
     },
     "execution_count": 2631,
     "metadata": {},
     "output_type": "execute_result"
    }
   ],
   "source": [
    "df2.isnull().sum()"
   ]
  },
  {
   "cell_type": "markdown",
   "id": "f3fe51fd-3b19-4248-adcc-d6902c2ea02a",
   "metadata": {},
   "source": [
    "### 2.6 Valores estadísticos"
   ]
  },
  {
   "cell_type": "code",
   "execution_count": 2633,
   "id": "1ee8edd1-e09c-431f-a52c-b8146e633804",
   "metadata": {},
   "outputs": [
    {
     "data": {
      "text/html": [
       "<div>\n",
       "<style scoped>\n",
       "    .dataframe tbody tr th:only-of-type {\n",
       "        vertical-align: middle;\n",
       "    }\n",
       "\n",
       "    .dataframe tbody tr th {\n",
       "        vertical-align: top;\n",
       "    }\n",
       "\n",
       "    .dataframe thead th {\n",
       "        text-align: right;\n",
       "    }\n",
       "</style>\n",
       "<table border=\"1\" class=\"dataframe\">\n",
       "  <thead>\n",
       "    <tr style=\"text-align: right;\">\n",
       "      <th></th>\n",
       "      <th>latitude</th>\n",
       "      <th>longitude</th>\n",
       "      <th>accommodates</th>\n",
       "      <th>bathrooms</th>\n",
       "      <th>bedrooms</th>\n",
       "      <th>beds</th>\n",
       "      <th>minimum_nights</th>\n",
       "      <th>maximum_nights</th>\n",
       "      <th>availability_30</th>\n",
       "      <th>availability_60</th>\n",
       "      <th>number_of_reviews</th>\n",
       "      <th>review_scores_rating</th>\n",
       "      <th>review_scores_cleanliness</th>\n",
       "      <th>review_scores_checkin</th>\n",
       "      <th>review_scores_communication</th>\n",
       "      <th>review_scores_location</th>\n",
       "      <th>review_scores_value</th>\n",
       "      <th>reviews_per_month</th>\n",
       "    </tr>\n",
       "  </thead>\n",
       "  <tbody>\n",
       "    <tr>\n",
       "      <th>count</th>\n",
       "      <td>18925.000000</td>\n",
       "      <td>18925.000000</td>\n",
       "      <td>18925.000000</td>\n",
       "      <td>15182.000000</td>\n",
       "      <td>17043.000000</td>\n",
       "      <td>15087.000000</td>\n",
       "      <td>18925.000000</td>\n",
       "      <td>18925.000000</td>\n",
       "      <td>18925.000000</td>\n",
       "      <td>18925.000000</td>\n",
       "      <td>18925.000000</td>\n",
       "      <td>14138.000000</td>\n",
       "      <td>14117.000000</td>\n",
       "      <td>14115.000000</td>\n",
       "      <td>14118.000000</td>\n",
       "      <td>14115.000000</td>\n",
       "      <td>14116.000000</td>\n",
       "      <td>14138.000000</td>\n",
       "    </tr>\n",
       "    <tr>\n",
       "      <th>mean</th>\n",
       "      <td>41.392151</td>\n",
       "      <td>2.167022</td>\n",
       "      <td>3.335324</td>\n",
       "      <td>1.402681</td>\n",
       "      <td>1.797160</td>\n",
       "      <td>2.299596</td>\n",
       "      <td>15.582985</td>\n",
       "      <td>542.361744</td>\n",
       "      <td>7.737173</td>\n",
       "      <td>20.228269</td>\n",
       "      <td>46.618917</td>\n",
       "      <td>4.594931</td>\n",
       "      <td>4.614694</td>\n",
       "      <td>4.725212</td>\n",
       "      <td>4.726785</td>\n",
       "      <td>4.751971</td>\n",
       "      <td>4.467296</td>\n",
       "      <td>1.523345</td>\n",
       "    </tr>\n",
       "    <tr>\n",
       "      <th>std</th>\n",
       "      <td>0.014240</td>\n",
       "      <td>0.017629</td>\n",
       "      <td>2.161128</td>\n",
       "      <td>0.830705</td>\n",
       "      <td>1.225817</td>\n",
       "      <td>2.234019</td>\n",
       "      <td>32.654123</td>\n",
       "      <td>424.071843</td>\n",
       "      <td>9.230064</td>\n",
       "      <td>19.771069</td>\n",
       "      <td>96.716517</td>\n",
       "      <td>0.489164</td>\n",
       "      <td>0.482940</td>\n",
       "      <td>0.447504</td>\n",
       "      <td>0.451375</td>\n",
       "      <td>0.362439</td>\n",
       "      <td>0.536958</td>\n",
       "      <td>2.026505</td>\n",
       "    </tr>\n",
       "    <tr>\n",
       "      <th>min</th>\n",
       "      <td>41.350673</td>\n",
       "      <td>2.085593</td>\n",
       "      <td>1.000000</td>\n",
       "      <td>0.000000</td>\n",
       "      <td>0.000000</td>\n",
       "      <td>0.000000</td>\n",
       "      <td>1.000000</td>\n",
       "      <td>1.000000</td>\n",
       "      <td>0.000000</td>\n",
       "      <td>0.000000</td>\n",
       "      <td>0.000000</td>\n",
       "      <td>1.000000</td>\n",
       "      <td>0.000000</td>\n",
       "      <td>0.000000</td>\n",
       "      <td>0.000000</td>\n",
       "      <td>0.000000</td>\n",
       "      <td>0.000000</td>\n",
       "      <td>0.010000</td>\n",
       "    </tr>\n",
       "    <tr>\n",
       "      <th>25%</th>\n",
       "      <td>41.380968</td>\n",
       "      <td>2.156540</td>\n",
       "      <td>2.000000</td>\n",
       "      <td>1.000000</td>\n",
       "      <td>1.000000</td>\n",
       "      <td>1.000000</td>\n",
       "      <td>1.000000</td>\n",
       "      <td>315.000000</td>\n",
       "      <td>0.000000</td>\n",
       "      <td>1.000000</td>\n",
       "      <td>0.000000</td>\n",
       "      <td>4.460000</td>\n",
       "      <td>4.500000</td>\n",
       "      <td>4.670000</td>\n",
       "      <td>4.670000</td>\n",
       "      <td>4.670000</td>\n",
       "      <td>4.320000</td>\n",
       "      <td>0.230000</td>\n",
       "    </tr>\n",
       "    <tr>\n",
       "      <th>50%</th>\n",
       "      <td>41.389758</td>\n",
       "      <td>2.167993</td>\n",
       "      <td>3.000000</td>\n",
       "      <td>1.000000</td>\n",
       "      <td>1.000000</td>\n",
       "      <td>2.000000</td>\n",
       "      <td>3.000000</td>\n",
       "      <td>365.000000</td>\n",
       "      <td>4.000000</td>\n",
       "      <td>14.000000</td>\n",
       "      <td>7.000000</td>\n",
       "      <td>4.710000</td>\n",
       "      <td>4.750000</td>\n",
       "      <td>4.860000</td>\n",
       "      <td>4.860000</td>\n",
       "      <td>4.850000</td>\n",
       "      <td>4.580000</td>\n",
       "      <td>0.880000</td>\n",
       "    </tr>\n",
       "    <tr>\n",
       "      <th>75%</th>\n",
       "      <td>41.401690</td>\n",
       "      <td>2.177690</td>\n",
       "      <td>4.000000</td>\n",
       "      <td>2.000000</td>\n",
       "      <td>2.000000</td>\n",
       "      <td>3.000000</td>\n",
       "      <td>31.000000</td>\n",
       "      <td>1125.000000</td>\n",
       "      <td>13.000000</td>\n",
       "      <td>37.000000</td>\n",
       "      <td>48.000000</td>\n",
       "      <td>4.910000</td>\n",
       "      <td>4.930000</td>\n",
       "      <td>5.000000</td>\n",
       "      <td>5.000000</td>\n",
       "      <td>5.000000</td>\n",
       "      <td>4.780000</td>\n",
       "      <td>2.270000</td>\n",
       "    </tr>\n",
       "    <tr>\n",
       "      <th>max</th>\n",
       "      <td>41.458092</td>\n",
       "      <td>2.227710</td>\n",
       "      <td>16.000000</td>\n",
       "      <td>50.000000</td>\n",
       "      <td>50.000000</td>\n",
       "      <td>127.000000</td>\n",
       "      <td>1124.000000</td>\n",
       "      <td>3000.000000</td>\n",
       "      <td>30.000000</td>\n",
       "      <td>60.000000</td>\n",
       "      <td>2121.000000</td>\n",
       "      <td>5.000000</td>\n",
       "      <td>5.000000</td>\n",
       "      <td>5.000000</td>\n",
       "      <td>5.000000</td>\n",
       "      <td>5.000000</td>\n",
       "      <td>5.000000</td>\n",
       "      <td>70.470000</td>\n",
       "    </tr>\n",
       "  </tbody>\n",
       "</table>\n",
       "</div>"
      ],
      "text/plain": [
       "           latitude     longitude  accommodates     bathrooms      bedrooms  \\\n",
       "count  18925.000000  18925.000000  18925.000000  15182.000000  17043.000000   \n",
       "mean      41.392151      2.167022      3.335324      1.402681      1.797160   \n",
       "std        0.014240      0.017629      2.161128      0.830705      1.225817   \n",
       "min       41.350673      2.085593      1.000000      0.000000      0.000000   \n",
       "25%       41.380968      2.156540      2.000000      1.000000      1.000000   \n",
       "50%       41.389758      2.167993      3.000000      1.000000      1.000000   \n",
       "75%       41.401690      2.177690      4.000000      2.000000      2.000000   \n",
       "max       41.458092      2.227710     16.000000     50.000000     50.000000   \n",
       "\n",
       "               beds  minimum_nights  maximum_nights  availability_30  \\\n",
       "count  15087.000000    18925.000000    18925.000000     18925.000000   \n",
       "mean       2.299596       15.582985      542.361744         7.737173   \n",
       "std        2.234019       32.654123      424.071843         9.230064   \n",
       "min        0.000000        1.000000        1.000000         0.000000   \n",
       "25%        1.000000        1.000000      315.000000         0.000000   \n",
       "50%        2.000000        3.000000      365.000000         4.000000   \n",
       "75%        3.000000       31.000000     1125.000000        13.000000   \n",
       "max      127.000000     1124.000000     3000.000000        30.000000   \n",
       "\n",
       "       availability_60  number_of_reviews  review_scores_rating  \\\n",
       "count     18925.000000       18925.000000          14138.000000   \n",
       "mean         20.228269          46.618917              4.594931   \n",
       "std          19.771069          96.716517              0.489164   \n",
       "min           0.000000           0.000000              1.000000   \n",
       "25%           1.000000           0.000000              4.460000   \n",
       "50%          14.000000           7.000000              4.710000   \n",
       "75%          37.000000          48.000000              4.910000   \n",
       "max          60.000000        2121.000000              5.000000   \n",
       "\n",
       "       review_scores_cleanliness  review_scores_checkin  \\\n",
       "count               14117.000000           14115.000000   \n",
       "mean                    4.614694               4.725212   \n",
       "std                     0.482940               0.447504   \n",
       "min                     0.000000               0.000000   \n",
       "25%                     4.500000               4.670000   \n",
       "50%                     4.750000               4.860000   \n",
       "75%                     4.930000               5.000000   \n",
       "max                     5.000000               5.000000   \n",
       "\n",
       "       review_scores_communication  review_scores_location  \\\n",
       "count                 14118.000000            14115.000000   \n",
       "mean                      4.726785                4.751971   \n",
       "std                       0.451375                0.362439   \n",
       "min                       0.000000                0.000000   \n",
       "25%                       4.670000                4.670000   \n",
       "50%                       4.860000                4.850000   \n",
       "75%                       5.000000                5.000000   \n",
       "max                       5.000000                5.000000   \n",
       "\n",
       "       review_scores_value  reviews_per_month  \n",
       "count         14116.000000       14138.000000  \n",
       "mean              4.467296           1.523345  \n",
       "std               0.536958           2.026505  \n",
       "min               0.000000           0.010000  \n",
       "25%               4.320000           0.230000  \n",
       "50%               4.580000           0.880000  \n",
       "75%               4.780000           2.270000  \n",
       "max               5.000000          70.470000  "
      ]
     },
     "execution_count": 2633,
     "metadata": {},
     "output_type": "execute_result"
    }
   ],
   "source": [
    "df2.describe()"
   ]
  },
  {
   "cell_type": "markdown",
   "id": "320477e0-9b6d-41a3-b7c0-c7c90f23b35c",
   "metadata": {},
   "source": [
    "### 2.7 Valores únicos de todas las columnas de df2"
   ]
  },
  {
   "cell_type": "code",
   "execution_count": 2635,
   "id": "8d5d4b56-d3fc-4e5f-87b5-c89f65cf3c9c",
   "metadata": {
    "scrolled": true
   },
   "outputs": [
    {
     "name": "stdout",
     "output_type": "stream",
     "text": [
      "Valores únicos en la columna 'description':\n",
      "['The apartment is a cosy open space with 65 m2. The living room and a bedroom areas look onto the quite balcony facing to south (a lot of sun). The loft has also a dinning area with a big table and a good desk area with books about Barcelona. There is a high quality internet service and a single folding bed. The bedroom area has a double bed and wardrobe, the living area has a sofa, TV and Hi-Fi. There is a separate kitchen-'\n",
      " 'Rented only for monthly periods. 4 bedroom apartment located in the heart of Barcelona next to la Rambla and Liceu thater one of the most active areas in Barcelona a great place to live and enjoy the city. Please consider it is a second floor and there is no elevator. There are 4 rooms and one bed in each room so it would be ideal for 4 people'\n",
      " '110m2 apartment to rent in Barcelona. Located in the Eixample district, near the Sagrada Familia. It has a small balcony where you can see the temple of Gaudi. Capacity for 8 people. <br /><br />Licence number: HUTB-002062'\n",
      " ...\n",
      " 'Fully equipped and  flooded with natural light.<br />The estate has a gym, communal swimming pool and 24 hour security service.<br />It consists of 3 double rooms with ensuite bathrooms and two fully equipped single rooms. One full bathroom and a fully equipped self-catered kitchen.<br />The very bright dining room with terrace where you can enjoy views of the park.<br />It offers access to amenities, shops, restaurants and recreational areas. Parking spot.'\n",
      " 'The room is located in a quiet, residential area of \\u200b\\u200bBarcelona. There are many green parks, shops, and establishments nearby. Any transport option. The apartment is newly renovated, has a living room, kitchen.'\n",
      " 'Nice and friendly apartment near the port and beach of Barcelona<br />The apartment has 33 m2, 1 bedroom and 1 bathroom.']\n",
      "--------------------------------------------------\n",
      "Valores únicos en la columna 'name':\n",
      "['Sunny and quiet Loft next to Sagrada Familia'\n",
      " '*monthly stays* 4 Bedroom Apartment near Rambla'\n",
      " 'Huge flat for 8 people close to Sagrada Familia' ...\n",
      " 'Semuc - 2 bedrooms, office and balcony in Eixample Dreta'\n",
      " '4* room in the center gotico' 'Lovely room for couple']\n",
      "--------------------------------------------------\n",
      "Valores únicos en la columna 'host_since':\n",
      "['2011-11-16' '2010-01-19' '2011-11-20' ... '2016-11-30' '2021-04-20'\n",
      " '2024-06-07']\n",
      "--------------------------------------------------\n",
      "Valores únicos en la columna 'host_location':\n",
      "['Barcelona, Spain' 'Catalonia, Spain' nan 'Colon, Panama'\n",
      " 'Callao Salvaje, Spain' \"L'Hospitalet de l'Infant, Spain\" 'Knoxville, TN'\n",
      " 'Spain' 'Tossa de Mar, Spain' 'Amsterdam, Netherlands' 'Madrid, Spain'\n",
      " 'Sabadell, Spain' 'Paiporta, Spain' 'Vilanova i la Geltrú, Spain'\n",
      " 'France' 'Linyola, Spain' 'Premià de Mar, Spain' 'Hamburg, Germany'\n",
      " 'Teià, Spain' 'La Garriga, Spain' 'Premià de Dalt, Spain'\n",
      " 'Cabrils, Spain' 'Castelldefels, Spain' 'Viladecans, Spain'\n",
      " 'Tarragona, Spain' 'Sitges, Spain' 'London, United Kingdom'\n",
      " 'Porto, Portugal' 'Badalona, Spain' 'Hospitalet de Llobregat, Spain'\n",
      " 'Rome, Italy' 'Montesson, France' 'Sant Celoni, Spain'\n",
      " 'Stockholm, Sweden' 'Caldes de Montbui, Spain' 'San Francisco, CA'\n",
      " 'Arenys de Mar, Spain' 'Altafulla, Spain' 'Terrassa, Spain'\n",
      " 'Sant Andreu de Llavaneres, Spain' 'Sant Vicenç de Montalt, Spain'\n",
      " 'Stuttgart, Germany' 'Santiago, Chile' 'Sant Boi de Llobregat, Spain'\n",
      " 'Genoa, Italy' 'Corbera de Llobregat, Spain'\n",
      " 'Calella de Palafrugell, Spain' 'Berkeley, CA'\n",
      " 'El Prat de Llobregat, Spain' 'Berlin, Germany' 'Cataluña, Spain'\n",
      " 'Paris, France' 'Munich, Germany' 'Encamp, Andorra' 'Italy'\n",
      " 'Milan, Italy' 'Oslo, Norway' 'Tiana, Catalonia, Spain'\n",
      " 'Canary Islands, Spain' 'Harrogate, United Kingdom'\n",
      " 'Balearic Islands, Spain' 'Bologna, Italy' 'El Papiol, Spain'\n",
      " 'Vienna, Austria' 'El Masnou, Spain' 'Reus, Spain' 'Lisbon, Portugal'\n",
      " 'Palau-solità i Plegamans, Spain' 'Valencia, Spain' 'Lyon, France'\n",
      " 'Steinkjer, Norway' 'Edinburgh, United Kingdom' 'Cairo, Egypt'\n",
      " \"L'Ametlla del Vallès, Spain\" 'Salamanca, Spain' 'Freiburg, Germany'\n",
      " 'Bogota, Colombia' 'Penn, United Kingdom' 'Montgat, Spain'\n",
      " 'Labruguière, France' 'Sant Antoni de Portmany, Spain'\n",
      " 'Lima District, Peru' 'Girona, Spain' 'Salou, Spain' 'Vacarisses, Spain'\n",
      " 'Ripollet, Spain' 'Buenos Aires, Argentina' 'Mendiolaza, Argentina'\n",
      " 'Manila, Philippines' 'Steinerberg, Switzerland' 'Cádiz, Spain'\n",
      " 'Sant Julià de Vilatorta, Spain' 'Toulouse, France' 'Netherlands'\n",
      " 'Torrebusqueta, Spain' 'Ortigueira, Spain' 'Brazil' 'Warsaw, Poland'\n",
      " 'Miami, FL' 'Manresa, Spain' 'San Fernando, Spain'\n",
      " 'Santo Domingo, Dominican Republic' 'Minsk, Belarus'\n",
      " 'Sant Aniol de Finestres, Spain' 'Falun, Sweden'\n",
      " 'Brighton, United Kingdom' 'Argentina' 'Maspalomas, Spain'\n",
      " 'Cologne, Germany' 'Alicante, Spain' 'Lauf an der Pegnitz, Germany'\n",
      " 'Notre-Dame-de-Bondeville, France' 'Vilafranca del Penedès, Spain'\n",
      " 'Anseong-si, South Korea' 'Utrecht, Netherlands' 'Mexico City, Mexico'\n",
      " 'Moorhead, MN' 'Navarre, Spain' 'Tromsø, Norway' 'New York, NY'\n",
      " 'Bordeaux, France' 'Guatemala City, Guatemala' 'Prague, Czechia'\n",
      " 'Brasília, Brazil' 'Taiwan' 'Pineda de Mar, Spain'\n",
      " 'Leicester, United Kingdom' 'Lehavim, Israel'\n",
      " 'Santa Maria degli Angeli, Italy' 'Bogotá, Colombia' 'Mexico'\n",
      " 'Amman, Jordan' 'Andalusia, Spain' 'Barranquilla, Colombia'\n",
      " 'Sant Adrià de Besòs, Spain' 'Sant Cugat del Vallès, Spain'\n",
      " 'Lille, France' 'Ourense, Spain' 'Gaildorf, Germany'\n",
      " 'Santa Maria de Palautordera, Spain' 'Eugene, OR' 'Olot, Spain'\n",
      " 'Byron Bay, Australia' 'Veneto, Italy' 'Monterrey, Mexico'\n",
      " 'Poitiers, France' 'Vilassar de Mar, Spain' 'Venaria, Italy' 'Germany'\n",
      " 'Lima, Peru' 'Avinyó, Spain' 'Mollet del Vallès, Spain' 'Alhendín, Spain'\n",
      " 'Granollers, Spain' 'Igualada, Spain' 'Seville, Spain' 'Hong Kong'\n",
      " 'Portugal' 'Tel Aviv-Yafo, Israel' 'Effretikon, Switzerland'\n",
      " 'Boulogne-Billancourt, France' 'Málaga, Spain'\n",
      " 'Sant Quirze del Vallès, Spain' 'Manuel, Spain' 'La Plata, Argentina'\n",
      " 'Ravensburg, Germany' 'Dolgoprudny, Russia' 'Bulgaria' 'Palma, Spain'\n",
      " 'Rubí, Spain' 'Palma de Mallorca, Spain' 'New York, United States'\n",
      " 'Quito, Ecuador' 'Al Ain, United Arab Emirates' 'Monaco'\n",
      " 'Syracuse, Italy' 'Boston, MA' 'Brussels, Belgium'\n",
      " 'Nogent-sur-Oise, France' 'Valladolid, Spain' 'Timișoara, Romania'\n",
      " 'Panama' 'Turin, Italy' 'Albacete, Spain' 'Würzburg, Germany'\n",
      " 'Udine, Italy' 'Catalunya, Spain' 'La Ciotat, France' 'Betanzos, Spain'\n",
      " 'Baillargues, France' 'Antofagasta, Chile' 'Hanoi, Vietnam'\n",
      " 'Boecillo, Spain' 'Córdoba, Spain' 'Palermo, Italy' 'Pärnu, Estonia'\n",
      " 'Lleida, Spain' 'Sofia, Bulgaria' 'Argentona, Spain' 'United Kingdom'\n",
      " 'Marquartstein, Germany' 'Gavà, Spain' 'Rosario, Argentina'\n",
      " 'Drunen, Netherlands' 'England, United Kingdom' 'Gijón, Spain'\n",
      " 'Dubai, United Arab Emirates' 'Isla Mujeres, Mexico'\n",
      " 'Annecy-le-Vieux, France' 'Wardenburg, Germany' 'Rennes, France'\n",
      " 'Bayreuth, Germany' 'Narbonne, France' 'Canet de Mar, Spain'\n",
      " \"L'Hospitalet de Llobregat, Spain\" 'A Coruña, Spain' 'La Sénia, Spain'\n",
      " 'Oto, Spain' 'Castro Urdiales, Spain' 'Amposta, Spain'\n",
      " 'Riells i Viabrea, Spain' 'Frankfurt, Germany' 'Périgueux, France'\n",
      " 'Singapore' 'Paris, TX' 'Ostrow Wielkopolski, Poland'\n",
      " 'Capital District, Venezuela' 'Brunswick, Australia' 'Meaux, France'\n",
      " 'Andorra, Spain' 'Oviedo, Spain' 'San Juan, Puerto Rico'\n",
      " 'Sant Joan Despí, Spain' 'Castellvell del Camp, Spain'\n",
      " 'Malgrat de Mar, Spain' 'Sant Andreu de la Barca, Spain'\n",
      " 'Dublin, Ireland' 'Cerdanyola del Vallès, Spain'\n",
      " 'Faro District, Portugal' 'Helsinki, Finland' 'Parque Holandés, Spain'\n",
      " 'Gandía, Spain' 'Casselberry, FL' 'Los Angeles, CA' 'Andorra' 'Israel'\n",
      " 'Lüdenscheid, Germany' 'Besalú, Spain' 'Cornellà de Llobregat, Spain'\n",
      " 'Majadahonda, Spain' 'Merida, Venezuela' 'Navarcles, Spain'\n",
      " 'Bruges, Belgium' 'Turkey' 'Küsnacht, Switzerland' 'Lasne, Belgium'\n",
      " 'Tulsa, OK' 'Valldoreix, Spain' 'Granada, Spain'\n",
      " 'Minnesota, United States' 'Centelles, Spain' 'Malaga, Spain'\n",
      " 'Rio de Janeiro, Brazil' 'İstanbul, Turkey' 'Venables, France'\n",
      " 'Zürich, Switzerland' 'China' 'Monturque, Spain' 'Fortaleza, Brazil'\n",
      " 'Pittsburgh, PA' 'Tbilisi, Georgia' 'Lausanne, Switzerland'\n",
      " 'Santa Perpètua de Mogoda, Spain' 'Vladimir, Russia'\n",
      " 'Red Sea Governorate, Egypt' 'Mengwi, Indonesia' 'Tordera, Spain'\n",
      " 'Farum, Denmark' 'Toronto, Canada' 'Sant Just Desvern, Spain'\n",
      " 'São Paulo, Brazil' 'Moscow, Russia' 'Oakland, CA'\n",
      " 'Rueil-Malmaison, France' 'Istanbul, Turkey' 'Anaco, Venezuela'\n",
      " 'Esplugues de Llobregat, Spain' 'Vitoria-Gasteiz, Spain' 'Rocklin, CA'\n",
      " 'Santa Coloma de Gramenet, Spain' 'Vigo, Spain' 'Graz, Austria'\n",
      " 'Tours, France' 'Valencia, Venezuela' 'Düsseldorf, Germany'\n",
      " 'Le Vésinet, France' 'Beirut, Lebanon' 'Poboleda, Spain'\n",
      " 'Costa del Silencio, Spain' 'Vielha, Spain' 'Mechelen, Belgium'\n",
      " 'Lanús, Argentina' 'New Hampshire, United States' 'Kuta Utara, Indonesia'\n",
      " 'Puebla, Mexico' 'Rabat, Morocco' 'Bilbao, Spain'\n",
      " 'Playa del Carmen, Mexico' \"Platja d'Aro, Spain\" 'Zurich, Switzerland'\n",
      " 'Cambrils, Spain' 'Mooresville, NC' 'Charlottenlund, Denmark'\n",
      " 'Marganell, Spain' 'Kiel, Germany' 'Calafell, Spain'\n",
      " 'Lloret de Mar, Spain' 'Santa Cruz, CA' 'Galicia, Spain' 'Sonoma, CA'\n",
      " 'Brno, Czechia' 'Escalon, CA' 'Marbella, Spain' 'Sevilla, Spain'\n",
      " 'Montpellier, France' 'Guayaquil, Ecuador' 'Marseille, France'\n",
      " 'United States' 'Comporta, Portugal' 'Washington, DC' 'Palamós, Spain'\n",
      " 'Pitești, Romania' 'Herzliyya, Israel' 'Kyiv, Ukraine' 'Hanover, Germany'\n",
      " 'Kingston upon Thames, United Kingdom' 'Whistler, Canada' 'Poblet, Spain'\n",
      " 'Mataró, Spain' 'Denpasar, Indonesia' 'Castellbisbal, Spain'\n",
      " 'Bergen, Netherlands' 'Treasure Island, FL' 'Barsingerhorn, Netherlands'\n",
      " 'Shenley, United Kingdom' 'Salvador, Brazil' 'La Vilavella, Spain'\n",
      " 'Mali Losinj, Croatia' 'Sant Feliu de Llobregat, Spain' 'Ghent, Belgium'\n",
      " 'Navàs, Spain' 'Binz, Germany' 'Blanes, Spain' 'Gelsenkirchen, Germany'\n",
      " 'Bremen, Germany' 'Puducherry, India' 'Castellote, Spain'\n",
      " 'Montevideo, Uruguay' 'Ravenna, Italy' 'Jaén, Spain' 'Montnegre, Spain'\n",
      " 'Oxford, United Kingdom' 'Sant Feliu de Guíxols, Spain'\n",
      " 'Rosh Haayin, Israel' 'Budapest, Hungary' 'Gibraltar'\n",
      " 'Harpenden, United Kingdom' 'Geneva, Switzerland' 'Arrós, Spain'\n",
      " 'Kilcar, Ireland' 'Auckland, New Zealand' 'Meudon, France'\n",
      " 'Vancouver, Canada' 'Laguna Beach, CA' 'Castellar del Vallès, Spain'\n",
      " 'Torres Torres, Spain' 'Palisades, NY' 'Viña del Mar, Chile'\n",
      " 'Igny, France' 'Ribeirao Preto, Brazil' 'Valldemossa, Spain'\n",
      " 'Ordino, Andorra' 'The Hague, Netherlands' 'Bolsward, Netherlands'\n",
      " 'Venezuela, Venezuela' 'Radazul, Spain' 'San Ramon, CA' 'Peru'\n",
      " 'Zug, Switzerland' 'Montreal, Canada' 'Naples, Italy'\n",
      " 'Andorra la Vella, Andorra' 'Getafe, Spain' 'Salerno, Italy'\n",
      " 'Klaipeda, Lithuania' 'Pacific Grove, CA' 'Lorgues, France' 'Houston, TX'\n",
      " 'Ibiza, Spain' 'Lugo, Spain' 'Pallejà, Spain' 'Copenhagen, Denmark'\n",
      " 'Helmdange, Luxembourg' 'East Hanover, NJ' 'Garrotxa, Spain'\n",
      " 'Miami Beach, FL' 'Buenos Aires Province, Argentina' 'Sydney, Australia'\n",
      " 'Egg, Switzerland' 'Newport Beach, CA' 'Trémery, France'\n",
      " 'Brasilito, Costa Rica' 'Yesa, Spain' 'Arbúcies, Spain'\n",
      " 'State of Pernambuco, Brazil' 'Begues, Spain']\n",
      "--------------------------------------------------\n",
      "Valores únicos en la columna 'host_is_superhost':\n",
      "['f' 't' nan]\n",
      "--------------------------------------------------\n",
      "Valores únicos en la columna 'host_identity_verified':\n",
      "['t' 'f' nan]\n",
      "--------------------------------------------------\n",
      "Valores únicos en la columna 'host_has_profile_pic':\n",
      "['t' nan 'f']\n",
      "--------------------------------------------------\n",
      "Valores únicos en la columna 'neighbourhood_group_cleansed':\n",
      "['Eixample' 'Ciutat Vella' 'Sant Martí' 'Gràcia' 'Sarrià-Sant Gervasi'\n",
      " 'Sants-Montjuïc' 'Les Corts' 'Horta-Guinardó' 'Sant Andreu' 'Nou Barris']\n",
      "--------------------------------------------------\n",
      "Valores únicos en la columna 'latitude':\n",
      "[41.40181    41.37936    41.40556    ... 41.37759841 41.38947967\n",
      " 41.37972424]\n",
      "--------------------------------------------------\n",
      "Valores únicos en la columna 'longitude':\n",
      "[2.1761     2.17376    2.17262    ... 2.17700595 2.17862121 2.12564   ]\n",
      "--------------------------------------------------\n",
      "Valores únicos en la columna 'property_type':\n",
      "['Entire loft' 'Entire rental unit' 'Entire condo'\n",
      " 'Private room in rental unit' 'Entire vacation home' 'Entire home'\n",
      " 'Entire serviced apartment' 'Boat' 'Private room in loft'\n",
      " 'Entire townhouse' 'Private room in condo' 'Private room in floor'\n",
      " 'Private room in bed and breakfast' 'Private room in home'\n",
      " 'Entire guest suite' 'Private room in casa particular'\n",
      " 'Private room in serviced apartment' 'Room in serviced apartment'\n",
      " 'Entire villa' 'Private room in guesthouse' 'Tiny home'\n",
      " 'Shared room in rental unit' 'Shared room in bed and breakfast'\n",
      " 'Private room in guest suite' 'Room in aparthotel'\n",
      " 'Shared room in hostel' 'Private room' 'Room in boutique hotel'\n",
      " 'Shared room in home' 'Entire guesthouse' 'Shared room in loft'\n",
      " 'Private room in hostel' 'Entire cabin' 'Barn' 'Private room in chalet'\n",
      " 'Shared room in floor' 'Private room in villa'\n",
      " 'Private room in townhouse' 'Entire place' 'Private room in boat'\n",
      " 'Shared room in guest suite' 'Room in hostel' 'Room in hotel'\n",
      " 'Room in bed and breakfast' 'Entire chalet' 'Casa particular' 'Camper/RV'\n",
      " 'Private room in dome' 'Private room in tiny home' 'Shared room in hotel'\n",
      " 'Earthen home' 'Shared room in condo' 'Shared room in serviced apartment'\n",
      " 'Shared room in boutique hotel' 'Private room in vacation home'\n",
      " 'Shared room in villa' 'Private room in cottage' 'Yurt'\n",
      " 'Shared room in guesthouse']\n",
      "--------------------------------------------------\n",
      "Valores únicos en la columna 'room_type':\n",
      "['Entire home/apt' 'Private room' 'Hotel room' 'Shared room']\n",
      "--------------------------------------------------\n",
      "Valores únicos en la columna 'accommodates':\n",
      "[ 2  6  8  5  4  9  1  3  7 10 11 16 12 13 14 15]\n",
      "--------------------------------------------------\n",
      "Valores únicos en la columna 'bathrooms':\n",
      "[ 1.   1.5  2.   nan  3.   3.5  2.5  4.   0.5  0.   5.5  7.5  6.   4.5\n",
      "  5.   8.  50.  10.  13.  15. ]\n",
      "--------------------------------------------------\n",
      "Valores únicos en la columna 'bedrooms':\n",
      "[ 1.  4.  3.  2. nan  5.  7.  0.  6.  8.  9. 12. 11. 10. 50. 18.]\n",
      "--------------------------------------------------\n",
      "Valores únicos en la columna 'beds':\n",
      "[  1.   5.   6.  nan   4.   3.   2.   0.   7.   9.   8.  15.  10.  11.\n",
      "  16.  13.  14.  18.  12.  29.  50.  20.  26. 127.]\n",
      "--------------------------------------------------\n",
      "Valores únicos en la columna 'amenities':\n",
      "['[\"Kitchen\", \"Patio or balcony\", \"Host greets you\", \"Hair dryer\", \"Coffee maker\", \"Essentials\", \"Cooking basics\", \"Washer\", \"Refrigerator\", \"Hangers\", \"Dishwasher\", \"Iron\", \"Dishes and silverware\", \"Wifi\", \"Heating\", \"Stove\", \"Central air conditioning\", \"Dedicated workspace\", \"Hot water\", \"Oven\", \"Microwave\", \"TV\"]'\n",
      " '[\"Kitchen\", \"Washer\", \"Smoking allowed\", \"Wifi\", \"TV\"]'\n",
      " '[\"Pack \\\\u2019n play/Travel crib\", \"Free street parking\", \"Kitchen\", \"Host greets you\", \"City skyline view\", \"Elevator\", \"Crib\", \"Hair dryer\", \"AC - split type ductless system\", \"Coffee maker\", \"Essentials\", \"Private patio or balcony\", \"Refrigerator\", \"Shampoo\", \"Paid parking on premises\", \"Hangers\", \"Free washer \\\\u2013 In unit\", \"Iron\", \"Dishes and silverware\", \"30 inch TV\", \"Wifi\", \"Heating\", \"Hot water\"]'\n",
      " ...\n",
      " '[\"Kitchen\", \"Free parking on premises\", \"Pool\", \"Washer\", \"Air conditioning\", \"Dedicated workspace\"]'\n",
      " '[\"Hot water kettle\", \"Kitchen\", \"Cooking basics\", \"Host greets you\", \"Smoke alarm\", \"First aid kit\", \"Private living room\", \"Fire extinguisher\", \"Carbon monoxide alarm\", \"Dishes and silverware\", \"Shower gel\", \"Bed linens\", \"Microwave\", \"Wifi\", \"Refrigerator\", \"Clothing storage\", \"Essentials\", \"Hot water\", \"Lock on bedroom door\"]'\n",
      " '[\"Hot water kettle\", \"Kitchen\", \"Cooking basics\", \"Host greets you\", \"Smoke alarm\", \"First aid kit\", \"Fire extinguisher\", \"Carbon monoxide alarm\", \"Dishes and silverware\", \"Shower gel\", \"Bed linens\", \"TV\", \"Wifi\", \"Refrigerator\", \"Essentials\", \"Hot water\", \"Lock on bedroom door\"]']\n",
      "--------------------------------------------------\n",
      "Valores únicos en la columna 'price':\n",
      "['$176.00' '$74.00' '$257.00' nan '$249.00' '$240.00' '$126.00' '$229.00'\n",
      " '$281.00' '$393.00' '$450.00' '$193.00' '$175.00' '$177.00' '$386.00'\n",
      " '$160.00' '$150.00' '$145.00' '$140.00' '$105.00' '$380.00' '$350.00'\n",
      " '$320.00' '$186.00' '$201.00' '$70.00' '$142.00' '$371.00' '$139.00'\n",
      " '$94.00' '$21.00' '$182.00' '$220.00' '$93.00' '$370.00' '$194.00'\n",
      " '$251.00' '$90.00' '$41.00' '$47.00' '$63.00' '$588.00' '$516.00'\n",
      " '$534.00' '$117.00' '$196.00' '$120.00' '$250.00' '$219.00' '$45.00'\n",
      " '$483.00' '$18.00' '$60.00' '$238.00' '$490.00' '$236.00' '$314.00'\n",
      " '$433.00' '$411.00' '$200.00' '$671.00' '$239.00' '$431.00' '$133.00'\n",
      " '$198.00' '$155.00' '$223.00' '$246.00' '$478.00' '$225.00' '$159.00'\n",
      " '$192.00' '$43.00' '$283.00' '$28.00' '$73.00' '$253.00' '$86.00'\n",
      " '$95.00' '$536.00' '$234.00' '$800.00' '$612.00' '$627.00' '$499.00'\n",
      " '$81.00' '$152.00' '$179.00' '$292.00' '$50.00' '$419.00' '$26.00'\n",
      " '$260.00' '$227.00' '$299.00' '$80.00' '$110.00' '$241.00' '$37.00'\n",
      " '$421.00' '$205.00' '$368.00' '$294.00' '$19.00' '$360.00' '$35.00'\n",
      " '$242.00' '$230.00' '$156.00' '$400.00' '$209.00' '$331.00' '$210.00'\n",
      " '$61.00' '$341.00' '$165.00' '$40.00' '$288.00' '$642.00' '$271.00'\n",
      " '$535.00' '$180.00' '$284.00' '$92.00' '$51.00' '$215.00' '$191.00'\n",
      " '$564.00' '$273.00' '$100.00' '$119.00' '$85.00' '$62.00' '$169.00'\n",
      " '$189.00' '$39.00' '$699.00' '$30.00' '$529.00' '$265.00' '$255.00'\n",
      " '$326.00' '$33.00' '$25.00' '$144.00' '$130.00' '$254.00' '$56.00'\n",
      " '$151.00' '$174.00' '$75.00' '$252.00' '$59.00' '$364.00' '$286.00'\n",
      " '$500.00' '$511.00' '$199.00' '$173.00' '$318.00' '$109.00' '$282.00'\n",
      " '$359.00' '$335.00' '$269.00' '$166.00' '$302.00' '$237.00' '$78.00'\n",
      " '$444.00' '$161.00' '$137.00' '$216.00' '$157.00' '$52.00' '$96.00'\n",
      " '$79.00' '$247.00' '$340.00' '$351.00' '$355.00' '$313.00' '$289.00'\n",
      " '$57.00' '$342.00' '$650.00' '$206.00' '$131.00' '$20.00' '$168.00'\n",
      " '$290.00' '$274.00' '$357.00' '$214.00' '$121.00' '$197.00' '$125.00'\n",
      " '$233.00' '$116.00' '$384.00' '$184.00' '$550.00' '$183.00' '$279.00'\n",
      " '$268.00' '$267.00' '$204.00' '$132.00' '$181.00' '$543.00' '$124.00'\n",
      " '$645.00' '$190.00' '$224.00' '$434.00' '$317.00' '$363.00' '$84.00'\n",
      " '$187.00' '$291.00' '$89.00' '$362.00' '$164.00' '$261.00' '$146.00'\n",
      " '$76.00' '$77.00' '$256.00' '$1,152.00' '$49.00' '$277.00' '$327.00'\n",
      " '$520.00' '$228.00' '$32.00' '$280.00' '$714.00' '$99.00' '$136.00'\n",
      " '$285.00' '$270.00' '$402.00' '$167.00' '$602.00' '$212.00' '$507.00'\n",
      " '$207.00' '$293.00' '$403.00' '$106.00' '$66.00' '$1,221.00' '$154.00'\n",
      " '$38.00' '$352.00' '$869.00' '$276.00' '$171.00' '$127.00' '$87.00'\n",
      " '$244.00' '$13,714.00' '$460.00' '$264.00' '$533.00' '$275.00' '$395.00'\n",
      " '$315.00' '$128.00' '$321.00' '$377.00' '$555.00' '$622.00' '$107.00'\n",
      " '$365.00' '$476.00' '$599.00' '$542.00' '$297.00' '$579.00' '$349.00'\n",
      " '$259.00' '$385.00' '$287.00' '$158.00' '$17.00' '$67.00' '$29.00'\n",
      " '$307.00' '$301.00' '$147.00' '$148.00' '$232.00' '$172.00' '$430.00'\n",
      " '$300.00' '$141.00' '$323.00' '$149.00' '$153.00' '$129.00' '$65.00'\n",
      " '$170.00' '$356.00' '$218.00' '$68.00' '$392.00' '$211.00' '$135.00'\n",
      " '$143.00' '$162.00' '$399.00' '$272.00' '$195.00' '$221.00' '$188.00'\n",
      " '$532.00' '$451.00' '$208.00' '$336.00' '$416.00' '$58.00' '$48.00'\n",
      " '$515.00' '$913.00' '$405.00' '$55.00' '$53.00' '$367.00' '$309.00'\n",
      " '$231.00' '$528.00' '$372.00' '$22.00' '$104.00' '$716.00' '$322.00'\n",
      " '$123.00' '$766.00' '$258.00' '$353.00' '$303.00' '$262.00' '$414.00'\n",
      " '$101.00' '$217.00' '$263.00' '$319.00' '$348.00' '$111.00' '$185.00'\n",
      " '$103.00' '$329.00' '$388.00' '$42.00' '$347.00' '$491.00' '$226.00'\n",
      " '$134.00' '$387.00' '$118.00' '$474.00' '$557.00' '$540.00' '$663.00'\n",
      " '$202.00' '$71.00' '$844.00' '$404.00' '$608.00' '$295.00' '$586.00'\n",
      " '$44.00' '$31.00' '$484.00' '$867.00' '$510.00' '$27.00' '$369.00'\n",
      " '$495.00' '$435.00' '$486.00' '$112.00' '$98.00' '$248.00' '$455.00'\n",
      " '$306.00' '$310.00' '$178.00' '$379.00' '$203.00' '$330.00' '$163.00'\n",
      " '$64.00' '$531.00' '$235.00' '$378.00' '$409.00' '$426.00' '$36.00'\n",
      " '$266.00' '$83.00' '$82.00' '$324.00' '$222.00' '$1,051.00' '$561.00'\n",
      " '$23.00' '$354.00' '$339.00' '$375.00' '$298.00' '$424.00' '$502.00'\n",
      " '$437.00' '$412.00' '$401.00' '$514.00' '$346.00' '$338.00' '$138.00'\n",
      " '$1,185.00' '$382.00' '$452.00' '$573.00' '$504.00' '$466.00' '$463.00'\n",
      " '$410.00' '$560.00' '$328.00' '$448.00' '$517.00' '$464.00' '$397.00'\n",
      " '$213.00' '$554.00' '$308.00' '$325.00' '$712.00' '$413.00' '$88.00'\n",
      " '$296.00' '$243.00' '$113.00' '$802.00' '$115.00' '$750.00' '$312.00'\n",
      " '$15.00' '$1,089.00' '$837.00' '$1,047.00' '$316.00' '$311.00' '$408.00'\n",
      " '$114.00' '$1,763.00' '$1,929.00' '$964.00' '$345.00' '$983.00' '$358.00'\n",
      " '$705.00' '$374.00' '$556.00' '$1,500.00' '$2,600.00' '$2,000.00'\n",
      " '$850.00' '$2,500.00' '$72.00' '$509.00' '$69.00' '$619.00' '$305.00'\n",
      " '$334.00' '$1,175.00' '$333.00' '$278.00' '$807.00' '$614.00' '$537.00'\n",
      " '$539.00' '$611.00' '$406.00' '$519.00' '$91.00' '$304.00' '$789.00'\n",
      " '$985.00' '$34.00' '$567.00' '$54.00' '$553.00' '$786.00' '$634.00'\n",
      " '$376.00' '$697.00' '$551.00' '$457.00' '$1,286.00' '$598.00' '$459.00'\n",
      " '$643.00' '$972.00' '$343.00' '$2,286.00' '$361.00' '$629.00' '$332.00'\n",
      " '$648.00' '$597.00' '$245.00' '$572.00' '$398.00' '$46.00' '$549.00'\n",
      " '$493.00' '$1,150.00' '$1,114.00' '$454.00' '$734.00' '$465.00' '$102.00'\n",
      " '$582.00' '$725.00' '$24.00' '$518.00' '$669.00' '$381.00' '$1,785.00'\n",
      " '$647.00' '$488.00' '$587.00' '$391.00' '$422.00' '$373.00' '$559.00'\n",
      " '$428.00' '$432.00' '$13.00' '$566.00' '$508.00' '$524.00' '$594.00'\n",
      " '$544.00' '$548.00' '$415.00' '$9,000.00' '$396.00' '$1,076.00' '$473.00'\n",
      " '$481.00' '$487.00' '$429.00' '$475.00' '$530.00' '$581.00' '$590.00'\n",
      " '$576.00' '$461.00' '$453.00' '$479.00' '$1,580.00' '$929.00' '$1,493.00'\n",
      " '$394.00' '$470.00' '$423.00' '$1,679.00' '$996.00' '$97.00' '$449.00'\n",
      " '$498.00' '$506.00' '$636.00' '$755.00' '$574.00' '$390.00' '$439.00'\n",
      " '$585.00' '$595.00' '$541.00' '$778.00' '$1,057.00' '$801.00' '$600.00'\n",
      " '$2,857.00' '$992.00' '$485.00' '$684.00' '$675.00' '$108.00' '$638.00'\n",
      " '$682.00' '$366.00' '$603.00' '$583.00' '$633.00' '$733.00' '$653.00'\n",
      " '$503.00' '$389.00' '$1,000.00' '$950.00' '$418.00' '$467.00' '$721.00'\n",
      " '$751.00' '$469.00' '$523.00' '$616.00' '$646.00' '$122.00' '$447.00'\n",
      " '$768.00' '$420.00' '$589.00' '$604.00' '$512.00' '$914.00' '$660.00'\n",
      " '$480.00' '$458.00' '$799.00' '$943.00' '$436.00' '$670.00' '$607.00'\n",
      " '$442.00' '$1,091.00' '$698.00' '$828.00' '$620.00' '$704.00' '$805.00'\n",
      " '$1,156.00' '$683.00' '$2,109.00' '$489.00' '$337.00' '$976.00' '$707.00'\n",
      " '$462.00' '$456.00' '$16.00' '$691.00' '$906.00' '$631.00' '$425.00'\n",
      " '$1,295.00' '$1,310.00' '$417.00' '$790.00' '$1,421.00' '$2,582.00'\n",
      " '$1,607.00' '$2,143.00' '$1,071.00' '$900.00' '$1,123.00' '$610.00'\n",
      " '$501.00' '$438.00' '$443.00' '$521.00' '$505.00' '$593.00' '$711.00'\n",
      " '$826.00' '$665.00' '$1,149.00' '$680.00' '$2,289.00' '$692.00'\n",
      " '$1,213.00' '$999.00' '$779.00' '$407.00' '$440.00' '$956.00' '$1,852.00'\n",
      " '$609.00' '$1,100.00' '$916.00' '$601.00' '$727.00' '$3,528.00'\n",
      " '$1,060.00' '$632.00' '$344.00' '$621.00' '$617.00' '$441.00' '$625.00'\n",
      " '$700.00' '$497.00' '$1,143.00' '$568.00' '$1,207.00' '$575.00' '$946.00'\n",
      " '$538.00' '$383.00' '$686.00' '$651.00' '$1,082.00' '$12.00' '$649.00'\n",
      " '$547.00' '$618.00' '$886.00' '$570.00' '$773.00' '$896.00' '$902.00'\n",
      " '$477.00' '$468.00' '$471.00' '$562.00' '$708.00' '$626.00' '$446.00'\n",
      " '$624.00' '$742.00' '$808.00' '$14.00' '$693.00' '$1,625.00' '$635.00'\n",
      " '$973.00' '$715.00' '$907.00' '$10.00' '$667.00' '$552.00' '$728.00'\n",
      " '$978.00' '$724.00' '$1,700.00' '$815.00' '$1,083.00' '$11,999.00'\n",
      " '$745.00' '$967.00' '$1,136.00' '$9,999.00' '$482.00' '$613.00'\n",
      " '$1,086.00' '$764.00' '$1,157.00' '$1,164.00' '$1,323.00' '$831.00'\n",
      " '$1,002.00' '$558.00' '$1,314.00' '$945.00' '$659.00' '$526.00' '$513.00'\n",
      " '$852.00' '$757.00' '$1,274.00' '$784.00' '$1,302.00' '$1,200.00'\n",
      " '$840.00' '$744.00' '$1,536.00' '$951.00' '$1,949.00' '$525.00'\n",
      " '$1,179.00' '$2,006.00' '$580.00' '$1,369.00' '$2,786.00' '$737.00'\n",
      " '$5,014.00' '$743.00' '$9,059.00' '$889.00' '$672.00' '$1,628.00'\n",
      " '$1,099.00' '$1,478.00' '$1,600.00' '$1,292.00' '$1,916.00' '$664.00'\n",
      " '$774.00' '$666.00' '$1,674.00' '$825.00' '$706.00' '$630.00' '$1,890.00'\n",
      " '$689.00' '$2,324.00' '$1,127.00' '$1,230.00' '$522.00' '$775.00'\n",
      " '$2,935.00' '$427.00' '$2,014.00' '$1,749.00' '$2,223.00' '$1,373.00'\n",
      " '$984.00' '$842.00' '$876.00' '$2,121.00' '$1,771.00' '$5,000.00'\n",
      " '$1,751.00' '$783.00' '$770.00' '$927.00' '$1,039.00' '$1,190.00'\n",
      " '$1,187.00' '$820.00' '$1,202.00' '$4,000.00' '$1,719.00']\n",
      "--------------------------------------------------\n",
      "Valores únicos en la columna 'minimum_nights':\n",
      "[   7   32    1    4    3    5   31    2   10   30   28    6  120  300\n",
      "  180   90   14   12   21   26   60    8   20   40   13   15   45   50\n",
      "   29   33  364  179   35 1124  100   75   55  360  865  900    9   44\n",
      "  150   61   70   80  210   76   25   42  365   18   36  500   62   66\n",
      "  183  310  250   64   38 1000   91   16  333   58   39   63   34  200\n",
      "   92  330   56   99  122  177   27   22   17]\n",
      "--------------------------------------------------\n",
      "Valores únicos en la columna 'maximum_nights':\n",
      "[ 760 1125   32   31  120  365   65  364   90  730   28  150 1000 3000\n",
      "   30  330    6   60   66   75  300  210   15   27  180  110   10  130\n",
      "  320  350  400   45   40  333   14  360   18  160   91  600 1124   62\n",
      "   17    3  100   35   50   93  450   20   29  124  500  341  200   21\n",
      "   33   92    7 1121 1122  340  186   70  630   12    5  125  128  250\n",
      "   95 1111  190  199  270  700 1100   25   36    4   64    8 1123  355\n",
      "  331  999    9  366 1120  280   13  334   11  335   84   39   80   26\n",
      "   99  240  230   89  145  307    2   78   22  158   38  176  599  184\n",
      "  390  370  380  260   58  315   23   49  175  352  310  299    1  720\n",
      "   16   34 1095   63   96  329  183  140  900  112  325  371   41   44\n",
      "  799  499  660   42  369  399  229   81 1110  368   43  170   46  151\n",
      "  388  304  105  735  122  345   37  290  168  204  181  356  416  465\n",
      "  363  182   47  606  555  195  359  328  179  255   61  220  126   77\n",
      "   67  185  332   48   97  192  344  336  398  327   51  165  367  540\n",
      "  226  564   55  265   98  196  131  225  101  129]\n",
      "--------------------------------------------------\n",
      "Valores únicos en la columna 'has_availability':\n",
      "['t' nan 'f']\n",
      "--------------------------------------------------\n",
      "Valores únicos en la columna 'availability_30':\n",
      "[ 0 10  4  2 30  6  1  7  8  9 29 16 21 12 14  5 23 15 11 13 22  3 27 26\n",
      " 28 20 18 19 24 17 25]\n",
      "--------------------------------------------------\n",
      "Valores únicos en la columna 'availability_60':\n",
      "[ 0 36 20  6  4 40 13 60 17  7  1 15 29  3 21 59 37 32 18 50 42 44 11 24\n",
      "  2  8 27 31 14 25 16 52 34 35 23 57 41 53  9  5 22 56 58 48 45 12 28 19\n",
      " 55 10 43 26 51 30 33 39 38 54 47 49 46]\n",
      "--------------------------------------------------\n",
      "Valores únicos en la columna 'number_of_reviews':\n",
      "[  90    2   41  414   78  121  174   13  295  234  109  138  319   85\n",
      "   83  108  593  323  383   92   19    0    8    1   82  260   10   61\n",
      "  822    7   71   21   46   54   98  184   17  126  268   25  375  615\n",
      "  256  282   67  281  125  114   52   60   65  423  133    4    3  135\n",
      "  131   37   22   38   95   68  110   28   32   58   29  120  417  147\n",
      "   89  116  233  264  151  356  192  434  100  491  413  136   26  137\n",
      "  246  606  163    9   73   35  229   70  273  296  441   31   11   30\n",
      "  290  566   87  150   88  186  191   94  420   86  284  156  380   49\n",
      "   36  190  361   40  231  101  212  152   45  153  604  342  178  337\n",
      "  309  157   96  145   74  762  202  179  588   44  533  391   27  140\n",
      "  402  450  787  293  245  219   50  244  122  373  501  228  134  159\n",
      "  422  393  297  578  431   39  144  210   51   99  429   24  105   79\n",
      "   18   55  353  222    6   16  106  513  354  327  254  286  294  262\n",
      "  235  470   48   64  251  204  478  118   63  597   33    5  103  528\n",
      "  312  189  164  216  211   53   77  358  390  170  311  461  168  258\n",
      "  195  389  225  180  269   80  291  158  207  443  307  259  217  555\n",
      "   66  349   42  408  132  142  292  471  111  230  411  365  378  166\n",
      "   97  213   76   72  252  183   81  321  502  394  236  395  208  300\n",
      "  671  182  768  935  303  340  279  545  283  221  331  187  247  240\n",
      "   20  565  751  127  119  503  362  601  177  352  139  438  289  363\n",
      "  169  162  130   56  497 1218   14  950  242  374  285  489  253  372\n",
      "  548   84  351  185  173  332  329  306   69  201  148   75  454  107\n",
      "  149  552  102  397  407  117  263  248  196  347  490   23   43  400\n",
      "   57  527  405  370  335  418  536   91  274  278  160  415  540  574\n",
      "  368  288  104   12  449  341   15  214  485  384  172  531  560  237\n",
      "  739  218  367  506  299  165  223  463  745  143  568  238  198  316\n",
      "  457  369   47  575  385  572  205  276   59  582  215  721  499  344\n",
      "  322  563  628  267  526  194   62  146  416  467  302  124  360  514\n",
      "  444  464  480  113  448  541  176  250  387  542  271  115  544  571\n",
      "  704  811  638  197  206  437  427  129  622  350  530  419  328  731\n",
      "  220  310  359  585  313  227  386  357  559  167  364  265  345  456\n",
      "   34  455  612  308  436  562  304  320  484  277  607  403  797  305\n",
      "  161  272  549  155  188  573  193  596  426  232  255  469  346  315\n",
      "  355  301  388  239  430  589  379  446  421  382  171  338  783  679\n",
      "   93  794  409  226  181  298  314  442  371  257  481  583  577  336\n",
      "  432  398  209  452  203  175  401  647  318  510  325  112  224  317\n",
      "  243  339  412  790  275  404  324  261  487  270  287  141  123  579\n",
      "  424  200  439  326  410  635  433  154  348  280  399  460  496  619\n",
      "  569  586  876  128  899  333  504  249  366  592  709  500  742  199\n",
      "  453  771 1153 1212  241  451  584  343  931  624  806 1247  685  915\n",
      "  611  963 2078  836  392  775  396  425  791  376 1129  539  266 1179\n",
      "  435  678 2121  556  535  691  706  546  702]\n",
      "--------------------------------------------------\n",
      "Valores únicos en la columna 'last_review':\n",
      "['2024-05-22' '2016-08-13' '2024-05-02' ... '2023-03-08' '2023-03-02'\n",
      " '2023-06-28']\n",
      "--------------------------------------------------\n",
      "Valores únicos en la columna 'review_scores_rating':\n",
      "[4.74 4.   4.35 4.92 4.79 4.46 4.65 4.2  4.71 4.18 4.53 4.68 4.45 4.32\n",
      " 4.76 4.64 4.59 4.93 4.48  nan 4.88 5.   4.23 4.7  3.88 4.84 4.73 4.33\n",
      " 4.56 4.16 4.52 4.44 4.62 4.39 4.72 4.77 4.75 4.81 4.15 4.41 4.17 4.58\n",
      " 4.6  4.63 4.85 4.66 4.9  4.61 4.25 4.55 4.86 4.51 4.49 4.67 4.69 4.83\n",
      " 4.38 4.95 4.89 4.57 4.13 4.5  4.36 4.54 3.75 4.47 4.97 4.29 4.96 4.91\n",
      " 4.8  4.82 4.78 4.94 4.87 4.26 4.04 4.3  4.37 4.22 4.98 3.67 4.34 4.99\n",
      " 4.24 4.42 4.43 3.86 4.4  3.93 4.27 4.14 3.92 3.94 3.95 4.1  4.28 3.43\n",
      " 4.06 4.12 4.05 3.7  4.19 4.21 4.09 4.31 3.6  3.64 3.   3.83 4.11 3.17\n",
      " 3.98 3.97 1.   3.87 3.69 3.4  3.5  3.8  3.44 4.02 3.2  3.79 3.9  3.71\n",
      " 3.89 3.56 3.78 4.07 3.14 4.03 4.08 2.5  3.91 2.   3.81 3.33 3.85 3.68\n",
      " 2.75 3.82 2.67 2.25 3.57 3.96 2.71 2.6  3.38 3.13 3.25 2.83 3.27 3.18\n",
      " 3.77 3.76 3.62 2.91 2.93 3.72 3.09 3.61 2.63 2.17 3.99 2.45 3.73 3.65\n",
      " 2.88 1.25 3.63 1.5  2.8  3.22 3.74 2.33 1.67 3.29 2.86]\n",
      "--------------------------------------------------\n",
      "Valores únicos en la columna 'review_scores_cleanliness':\n",
      "[4.59 4.5  4.63 4.97 4.89 4.39 4.74 4.4  4.7  4.55 4.64 4.82 4.48 4.23\n",
      " 4.75 4.6  4.9  4.44 4.3  4.79  nan 5.   4.47 4.72 3.43 4.92 4.77 4.\n",
      " 4.24 4.33 4.69 4.35 4.76 4.85 4.52 4.86 4.21 4.54 3.96 4.34 4.94 4.87\n",
      " 4.67 4.53 4.18 4.51 4.68 4.83 4.56 4.45 4.91 4.61 4.57 4.8  4.84 4.65\n",
      " 4.08 4.58 4.62 4.16 4.12 4.38 4.49 4.98 4.95 4.73 4.25 4.36 4.81 4.88\n",
      " 4.78 4.71 3.75 4.93 4.31 4.96 4.43 4.46 4.2  3.33 4.66 4.99 4.28 4.41\n",
      " 4.06 3.91 4.37 3.8  4.27 3.93 4.26 4.11 4.04 4.32 4.14 3.71 4.17 4.29\n",
      " 3.35 4.13 4.42 4.1  3.6  3.85 3.5  3.84 3.83 4.22 3.89 3.94 3.55 4.15\n",
      " 3.   3.98 3.67 3.86 3.9  0.   1.   2.8  4.03 3.38 3.92 4.19 4.09 3.78\n",
      " 3.46 3.95 4.01 3.56 3.97 2.   3.82 3.79 3.57 3.45 3.29 3.17 4.05 4.07\n",
      " 2.5  3.73 3.25 3.87 2.67 3.44 3.88 3.54 3.68 3.58 3.2  3.64 2.75 3.63\n",
      " 3.61 4.02 1.5  2.33 2.64 2.25 3.7  3.36 3.77 2.73 3.72 3.65 2.2  3.81\n",
      " 3.14 3.13 3.4  1.67 3.11 3.42 3.1  3.59 2.86 3.22 2.43]\n",
      "--------------------------------------------------\n",
      "Valores únicos en la columna 'review_scores_checkin':\n",
      "[4.83 5.   4.75 4.94 4.95 4.88 4.76 4.3  4.78 4.82 4.67 4.93 4.86 4.81\n",
      " 4.52 4.92 4.65 4.74  nan 4.45 4.62 4.   4.84 4.9  3.96 4.49 4.98 4.91\n",
      " 4.13 4.6  4.63 4.8  4.69 4.33 4.73 4.89 4.87 4.99 2.67 4.77 4.97 4.43\n",
      " 4.48 4.72 4.54 4.79 4.85 4.61 4.64 4.96 4.47 4.71 4.57 4.7  4.5  4.68\n",
      " 4.58 3.33 4.25 4.56 4.51 3.7  3.69 4.38 4.55 4.32 4.66 4.42 4.12 4.05\n",
      " 4.59 4.28 3.86 4.46 4.53 4.17 4.37 3.5  4.4  3.78 4.14 4.1  4.2  4.39\n",
      " 4.35 4.44 3.44 3.4  4.18 4.11 4.08 3.68 3.83 4.29 3.91 4.36 4.34 4.23\n",
      " 4.31 4.21 2.5  3.89 3.   0.   4.41 3.8  2.   4.19 3.92 4.27 1.   3.67\n",
      " 3.75 3.98 4.09 3.58 4.22 4.26 3.71 4.16 3.79 4.24 3.6  3.25 4.02 3.95\n",
      " 3.94 3.88 2.75 3.14 3.49 4.03 4.15 4.01 3.97 3.77 3.81 3.82 4.04 3.17\n",
      " 3.74 3.57 3.46 3.2  3.27 3.76 2.8  3.56 3.73 3.63 4.06 3.59 3.36 2.53\n",
      " 2.25 3.29 3.85 3.93 3.84 3.24 2.33 3.38 3.99 3.45 3.43 4.07 3.9  1.5 ]\n",
      "--------------------------------------------------\n",
      "Valores únicos en la columna 'review_scores_communication':\n",
      "[4.79 5.   4.68 4.96 4.99 4.88 4.81 4.7  4.91 4.92 4.83 4.82 4.49 4.94\n",
      " 4.86 4.77 4.93 4.95  nan 4.63 4.61 4.74 3.86 4.89 4.14 4.67 4.56 4.62\n",
      " 4.72 4.85 4.38 4.6  4.65 4.9  4.98 4.8  4.75 4.53 4.78 4.97 4.59 3.67\n",
      " 4.87 4.48 4.   4.25 4.69 4.73 4.64 4.76 4.71 4.84 4.5  4.66 4.33 4.55\n",
      " 4.58 4.47 4.45 4.57 4.54 4.43 4.3  4.2  4.21 4.24 4.18 4.27 4.44 4.52\n",
      " 4.36 3.71 4.51 4.28 4.31 4.17 4.41 4.42 4.09 4.4  4.35 3.89 4.39 3.84\n",
      " 4.23 3.82 4.12 4.15 3.   3.75 4.46 4.32 4.34 4.13 1.   4.22 4.07 4.1\n",
      " 3.92 3.2  0.   3.33 4.29 3.5  4.19 3.78 2.67 3.63 2.   4.37 3.58 3.6\n",
      " 3.4  3.22 4.05 3.17 1.5  4.02 4.11 4.08 2.5  3.87 3.97 3.95 3.79 3.91\n",
      " 2.75 2.8  3.85 4.26 4.16 3.57 3.88 3.94 3.8  3.83 2.6  3.25 3.56 4.06\n",
      " 4.03 2.33 3.93 3.73 3.13 3.96 2.64 3.38 3.77 3.43 2.4  4.04 3.9  3.29]\n",
      "--------------------------------------------------\n",
      "Valores únicos en la columna 'review_scores_location':\n",
      "[4.81 5.   4.78 4.84 4.62 4.87 4.6  4.89 4.73 4.68 4.92 4.79 4.88 4.7\n",
      " 4.46 4.94 4.35 4.63  nan 4.   4.67 4.56 4.14 4.93 4.48 4.8  4.52 4.77\n",
      " 4.72 4.83 4.98 4.82 4.45 4.66 4.41 4.86 4.9  4.75 4.33 4.91 4.58 4.95\n",
      " 4.97 4.76 4.74 4.96 4.71 4.54 4.44 4.69 4.25 4.39 4.85 4.5  4.51 4.59\n",
      " 4.99 4.64 4.53 4.42 4.28 4.55 4.65 4.19 3.59 4.61 4.57 4.4  3.63 4.37\n",
      " 4.32 4.43 4.38 3.83 4.34 4.21 4.36 4.47 4.11 4.22 4.08 4.18 4.29 4.49\n",
      " 3.84 3.97 4.01 4.24 4.2  4.27 4.13 3.   2.   4.16 4.17 4.31 0.   4.05\n",
      " 3.5  4.3  3.88 3.67 4.23 4.15 3.57 3.96 4.03 3.89 3.6  4.1  4.12 4.26\n",
      " 3.92 3.14 1.   3.25 3.33 3.4  3.8  3.71 3.94 4.04 3.86 3.75 4.06 4.09\n",
      " 3.85 3.91 3.2  3.9  3.17 2.5  3.93 3.38 3.81 2.67 3.09 3.78 3.47 3.77\n",
      " 3.82 3.44 2.33 3.79 2.8  3.73 3.36 3.22 3.62 3.95 3.56 3.3 ]\n",
      "--------------------------------------------------\n",
      "Valores únicos en la columna 'review_scores_value':\n",
      "[4.67 4.5  4.3  4.8  4.64 4.56 4.   4.63 4.09 4.43 4.82 4.6  4.44 4.25\n",
      " 4.53 4.59 4.57 4.79 4.68  nan 4.88 5.   4.83 4.14 4.62 4.51 3.83 4.66\n",
      " 4.24 4.32 4.47 4.31 4.72 4.71 4.08 4.38 4.55 4.81 4.58 4.33 4.52 4.37\n",
      " 4.86 4.34 4.7  4.9  4.36 4.75 4.76 4.41 4.15 4.74 4.69 4.13 3.5  4.12\n",
      " 4.87 4.61 3.75 4.92 4.48 4.39 4.18 4.73 4.84 4.04 4.27 4.65 4.77 3.71\n",
      " 4.49 4.28 4.54 4.85 3.   4.78 4.16 4.91 4.1  4.4  4.17 4.22 4.11 4.2\n",
      " 4.35 4.46 4.93 4.45 4.42 4.89 4.05 4.29 3.82 4.96 3.86 4.95 4.23 3.73\n",
      " 3.92 3.88 3.79 4.26 4.07 4.19 4.94 3.43 4.21 4.03 3.17 3.96 4.02 3.64\n",
      " 4.06 3.67 3.95 3.22 3.6  3.7  2.5  3.4  3.68 3.98 2.   1.   3.47 3.46\n",
      " 0.   3.99 3.57 3.94 3.81 3.8  3.93 3.9  4.98 3.2  3.58 3.72 3.33 3.44\n",
      " 4.01 3.87 3.74 3.69 3.56 4.97 3.78 3.91 3.89 3.84 1.5  3.85 3.25 3.53\n",
      " 3.62 3.63 2.75 1.33 2.67 3.29 3.97 3.55 2.2  3.21 2.63 3.77 3.18 2.6\n",
      " 3.36 3.54 2.64 3.61 3.39 3.45 2.33 2.38 3.65 3.76 2.25 3.38 2.8  2.09\n",
      " 3.3  3.27 2.88 1.25 3.13 3.59 3.06 3.1  2.89 3.14 2.71 2.86 1.67]\n",
      "--------------------------------------------------\n",
      "Valores únicos en la columna 'reviews_per_month':\n",
      "[1.150e+00 2.000e-02 3.000e-01 2.840e+00 4.800e-01 7.700e-01 1.180e+00\n",
      " 8.000e-02 1.960e+00 9.000e-02 1.400e+00 7.000e-01 9.600e-01 2.020e+00\n",
      " 5.800e-01 5.700e-01 6.900e-01 3.940e+00 2.150e+00 2.380e+00 1.300e-01\n",
      "       nan 5.000e-02 1.000e-02 5.100e-01 1.720e+00 6.000e-02 4.100e-01\n",
      " 6.870e+00 4.700e-01 1.400e-01 2.900e-01 3.700e-01 6.500e-01 1.160e+00\n",
      " 1.100e-01 7.900e-01 1.810e+00 1.800e-01 2.440e+00 4.110e+00 1.600e+00\n",
      " 1.900e+00 4.400e-01 1.920e+00 4.200e-01 7.800e-01 3.300e-01 3.900e-01\n",
      " 5.300e-01 2.720e+00 8.600e-01 4.000e-02 8.700e-01 8.000e-01 3.400e-01\n",
      " 3.600e-01 3.100e-01 6.100e-01 4.600e-01 8.100e-01 1.900e-01 2.200e-01\n",
      " 8.200e-01 2.700e-01 1.200e-01 2.690e+00 9.500e-01 6.700e-01 1.860e+00\n",
      " 1.730e+00 9.800e-01 2.550e+00 1.550e+00 4.000e-01 2.980e+00 1.170e+00\n",
      " 3.360e+00 2.770e+00 9.100e-01 1.500e-01 1.700e-01 1.670e+00 3.000e-02\n",
      " 4.100e+00 9.300e-01 1.120e+00 5.000e-01 2.400e-01 1.830e+00 1.330e+00\n",
      " 3.020e+00 1.020e+00 1.060e+00 2.100e-01 7.000e-02 2.000e-01 2.010e+00\n",
      " 3.820e+00 9.000e-01 1.300e+00 1.530e+00 1.750e+00 2.880e+00 1.930e+00\n",
      " 1.070e+00 2.600e+00 2.500e-01 1.310e+00 2.520e+00 1.570e+00 6.200e-01\n",
      " 1.450e+00 1.050e+00 2.800e-01 1.280e+00 4.520e+00 2.360e+00 1.360e+00\n",
      " 2.320e+00 2.140e+00 1.770e+00 9.400e-01 1.140e+00 6.600e-01 5.220e+00\n",
      " 1.520e+00 1.260e+00 3.700e+00 2.730e+00 1.630e+00 9.700e-01 1.680e+00\n",
      " 3.210e+00 3.170e+00 1.940e+00 5.530e+00 5.500e-01 7.300e-01 2.060e+00\n",
      " 1.780e+00 7.400e-01 3.500e-01 5.400e-01 2.620e+00 3.450e+00 1.370e+00\n",
      " 2.920e+00 4.900e-01 2.860e+00 2.670e+00 3.990e+00 1.620e+00 3.130e+00\n",
      " 1.460e+00 8.800e-01 3.070e+00 3.060e+00 5.200e-01 2.200e+00 7.500e-01\n",
      " 1.560e+00 2.560e+00 1.000e-01 1.290e+00 3.680e+00 2.570e+00 1.600e-01\n",
      " 1.500e+00 1.820e+00 5.900e-01 2.180e+00 1.710e+00 2.120e+00 3.420e+00\n",
      " 2.330e+00 2.870e+00 3.430e+00 8.400e-01 3.200e-01 4.220e+00 2.300e-01\n",
      " 3.840e+00 1.380e+00 1.190e+00 5.600e-01 1.240e+00 2.270e+00 3.330e+00\n",
      " 1.440e+00 1.880e+00 1.410e+00 2.830e+00 2.960e+00 1.650e+00 6.000e-01\n",
      " 1.640e+00 1.990e+00 2.160e+00 6.300e-01 3.220e+00 2.230e+00 1.390e+00\n",
      " 1.890e+00 1.080e+00 2.000e+00 1.590e+00 4.040e+00 2.630e+00 1.270e+00\n",
      " 2.590e+00 3.460e+00 8.500e-01 2.240e+00 9.900e-01 6.400e-01 2.990e+00\n",
      " 3.050e+00 7.100e-01 1.870e+00 1.350e+00 6.800e-01 2.400e+00 3.760e+00\n",
      " 2.350e+00 2.910e+00 2.940e+00 1.540e+00 2.210e+00 3.480e+00 4.860e+00\n",
      " 1.320e+00 5.730e+00 6.850e+00 2.470e+00 2.070e+00 4.050e+00 2.340e+00\n",
      " 2.280e+00 1.840e+00 1.790e+00 4.500e+00 3.710e+00 3.310e+00 4.300e-01\n",
      " 5.080e+00 2.760e+00 1.030e+00 3.560e+00 2.490e+00 4.280e+00 2.190e+00\n",
      " 2.750e+00 1.250e+00 3.040e+00 8.940e+00 3.290e+00 7.030e+00 3.230e+00\n",
      " 1.430e+00 2.300e+00 3.650e+00 4.070e+00 1.090e+00 3.400e+00 2.610e+00\n",
      " 2.640e+00 4.500e-01 1.760e+00 3.740e+00 3.270e+00 3.620e+00 1.110e+00\n",
      " 4.570e+00 7.600e-01 7.200e-01 1.970e+00 5.040e+00 2.650e+00 3.660e+00\n",
      " 1.690e+00 3.930e+00 2.790e+00 2.530e+00 1.490e+00 2.090e+00 3.140e+00\n",
      " 4.310e+00 4.300e+00 2.170e+00 3.910e+00 3.120e+00 2.430e+00 8.300e-01\n",
      " 1.610e+00 4.030e+00 4.270e+00 2.850e+00 1.420e+00 5.640e+00 3.110e+00\n",
      " 2.220e+00 2.780e+00 3.810e+00 2.290e+00 3.490e+00 2.710e+00 5.700e+00\n",
      " 2.130e+00 2.080e+00 1.210e+00 4.530e+00 2.450e+00 3.610e+00 3.240e+00\n",
      " 1.850e+00 3.800e-01 4.390e+00 3.030e+00 4.540e+00 3.530e+00 1.660e+00\n",
      " 2.410e+00 5.540e+00 4.900e+00 2.600e-01 2.480e+00 2.970e+00 1.100e+00\n",
      " 1.470e+00 4.420e+00 3.500e+00 4.170e+00 3.260e+00 2.950e+00 3.950e+00\n",
      " 2.100e+00 3.780e+00 1.040e+00 4.250e+00 2.890e+00 3.000e+00 4.230e+00\n",
      " 2.700e+00 4.780e+00 6.550e+00 5.090e+00 3.790e+00 2.510e+00 1.910e+00\n",
      " 3.470e+00 1.510e+00 1.740e+00 4.930e+00 3.600e+00 4.290e+00 3.390e+00\n",
      " 2.110e+00 9.200e-01 1.950e+00 1.700e+00 5.890e+00 3.520e+00 4.650e+00\n",
      " 2.540e+00 3.080e+00 1.230e+00 2.040e+00 2.050e+00 2.030e+00 2.800e+00\n",
      " 2.660e+00 3.190e+00 3.300e+00 1.200e+00 3.690e+00 2.460e+00 3.100e+00\n",
      " 4.620e+00 3.410e+00 3.960e+00 1.480e+00 4.960e+00 4.640e+00 6.560e+00\n",
      " 2.810e+00 1.580e+00 1.010e+00 2.250e+00 4.550e+00 2.500e+00 4.740e+00\n",
      " 3.800e+00 8.900e-01 4.890e+00 3.890e+00 2.930e+00 3.010e+00 3.570e+00\n",
      " 3.180e+00 3.320e+00 6.540e+00 3.280e+00 4.750e+00 2.310e+00 3.200e+00\n",
      " 4.190e+00 6.700e+00 1.000e+00 4.560e+00 5.120e+00 4.850e+00 4.000e+00\n",
      " 1.980e+00 4.940e+00 3.730e+00 3.970e+00 1.800e+00 2.820e+00 5.680e+00\n",
      " 5.190e+00 4.510e+00 3.550e+00 1.130e+00 3.770e+00 7.050e+00 3.510e+00\n",
      " 3.590e+00 1.220e+00 2.580e+00 4.410e+00 4.450e+00 1.340e+00 5.230e+00\n",
      " 2.260e+00 3.160e+00 3.640e+00 3.150e+00 4.200e+00 2.370e+00 4.010e+00\n",
      " 3.880e+00 3.830e+00 6.020e+00 3.580e+00 2.740e+00 3.980e+00 4.240e+00\n",
      " 2.420e+00 4.160e+00 3.540e+00 3.720e+00 4.400e+00 4.980e+00 5.130e+00\n",
      " 2.390e+00 4.840e+00 6.470e+00 6.170e+00 2.680e+00 4.580e+00 5.650e+00\n",
      " 6.360e+00 9.730e+00 6.820e+00 3.670e+00 4.710e+00 3.870e+00 1.044e+01\n",
      " 5.240e+00 5.960e+00 3.090e+00 4.590e+00 7.520e+00 2.900e+00 4.690e+00\n",
      " 4.770e+00 6.480e+00 3.850e+00 3.350e+00 9.570e+00 7.130e+00 5.820e+00\n",
      " 3.340e+00 4.320e+00 3.440e+00 5.380e+00 6.030e+00 4.920e+00 4.330e+00\n",
      " 1.046e+01 6.380e+00 1.570e+01 1.677e+01 4.430e+00 5.500e+00 4.180e+00\n",
      " 5.760e+00 5.330e+00 4.440e+00 3.380e+00 9.660e+00 5.410e+00 4.910e+00\n",
      " 6.640e+00 8.110e+00 4.120e+00 3.250e+00 3.370e+00 4.060e+00 4.140e+00\n",
      " 4.150e+00 2.102e+01 4.730e+00 3.630e+00 6.190e+00 1.225e+01 4.090e+00\n",
      " 1.908e+01 5.470e+00 5.350e+00 1.080e+01 6.600e+00 1.481e+01 4.700e+00\n",
      " 9.290e+00 7.210e+00 6.720e+00 5.810e+00 3.900e+00 3.920e+00 6.660e+00\n",
      " 6.220e+00 1.582e+01 8.130e+00 3.394e+01 5.450e+00 4.830e+00 1.391e+01\n",
      " 3.860e+00 6.790e+00 6.000e+00 5.430e+00 5.000e+00 1.114e+01 4.460e+00\n",
      " 5.010e+00 6.680e+00 1.378e+01 7.950e+00 5.710e+00 7.070e+00 1.009e+01\n",
      " 7.610e+00 4.670e+00 1.176e+01 9.470e+00 8.000e+00 7.720e+00 4.720e+00\n",
      " 5.290e+00 5.600e+00 4.660e+00 1.346e+01 1.648e+01 1.133e+01 4.340e+00\n",
      " 4.630e+00 6.250e+00 8.390e+00 6.800e+00 5.560e+00 5.590e+00 4.470e+00\n",
      " 9.210e+00 4.360e+00 8.470e+00 1.244e+01 2.945e+01 4.800e+00 6.980e+00\n",
      " 1.425e+01 5.140e+00 5.270e+00 9.670e+00 5.280e+00 7.350e+00 9.440e+00\n",
      " 4.790e+00 6.270e+00 1.156e+01 1.209e+01 9.590e+00 6.080e+00 8.630e+00\n",
      " 3.743e+01 6.770e+00 1.436e+01 1.519e+01 6.620e+00 1.300e+01 1.374e+01\n",
      " 7.670e+00 7.970e+00 1.324e+01 4.350e+00 7.300e+00 1.301e+01 4.950e+00\n",
      " 5.170e+00 2.168e+01 7.920e+00 7.047e+01 1.136e+01 4.370e+00 6.370e+00\n",
      " 1.690e+01 7.870e+00 1.588e+01 1.058e+01 1.898e+01 4.600e+00 1.153e+01\n",
      " 7.160e+00 1.632e+01 7.080e+00 5.520e+00 1.864e+01 3.750e+00 2.427e+01\n",
      " 2.480e+01 1.095e+01 1.135e+01 2.005e+01 6.320e+00 7.590e+00 6.400e+00\n",
      " 7.550e+00 4.480e+00 5.340e+00 8.490e+00 5.670e+00 5.250e+00 5.950e+00\n",
      " 6.340e+00 4.260e+00 6.460e+00 7.390e+00 5.460e+00 4.810e+00 7.260e+00\n",
      " 5.210e+00 4.990e+00 5.390e+00 5.400e+00 5.860e+00 4.490e+00 4.880e+00\n",
      " 8.880e+00 1.630e+01 2.316e+01 5.260e+00 4.210e+00 6.900e+00 6.070e+00\n",
      " 7.830e+00 6.580e+00 5.370e+00 5.790e+00 6.610e+00 6.300e+00 5.060e+00\n",
      " 4.020e+00 5.480e+00 5.440e+00 6.100e+00 5.740e+00 6.060e+00 8.010e+00\n",
      " 5.870e+00 9.320e+00 8.330e+00 9.790e+00 1.067e+01 6.750e+00 4.870e+00\n",
      " 7.240e+00 9.580e+00 7.200e+00 1.026e+01 7.120e+00 5.630e+00 5.930e+00\n",
      " 6.050e+00 5.180e+00 6.890e+00 5.265e+01 4.080e+00 1.525e+01 9.520e+00\n",
      " 5.020e+00 5.580e+00 6.490e+00 1.088e+01 7.890e+00 1.369e+01 1.085e+01\n",
      " 9.090e+00 5.990e+00 5.050e+00 6.930e+00 5.490e+00 7.630e+00 5.610e+00\n",
      " 8.200e+00 8.300e+00 6.920e+00 1.319e+01 7.540e+00 7.320e+00 4.760e+00\n",
      " 8.570e+00 5.030e+00 7.810e+00 7.980e+00 4.820e+00 7.780e+00 7.480e+00\n",
      " 1.698e+01 8.530e+00 6.280e+00 5.660e+00 6.350e+00 5.620e+00 8.830e+00\n",
      " 8.180e+00 6.450e+00 1.045e+01 1.468e+01 8.350e+00 9.840e+00 5.110e+00\n",
      " 6.410e+00 6.110e+00 9.830e+00 6.630e+00 6.290e+00 5.570e+00 6.500e+00\n",
      " 5.070e+00 5.360e+00 8.100e+00 8.500e+00 5.720e+00 8.040e+00 8.610e+00\n",
      " 5.770e+00 7.190e+00 6.210e+00 6.430e+00 6.810e+00 6.650e+00 7.770e+00\n",
      " 6.670e+00 9.410e+00 8.510e+00 6.760e+00 2.464e+01 6.440e+00 1.678e+01\n",
      " 7.650e+00 7.500e+00 5.310e+00 4.130e+00 8.090e+00 7.000e+00 5.510e+00\n",
      " 9.680e+00 6.120e+00 7.060e+00 5.840e+00 6.940e+00 6.840e+00 8.760e+00\n",
      " 1.057e+01 7.020e+00 9.000e+00 7.860e+00 9.740e+00 1.015e+01 8.440e+00\n",
      " 8.820e+00 5.780e+00 6.730e+00 8.910e+00 8.850e+00 5.920e+00 7.740e+00\n",
      " 6.950e+00 9.340e+00 4.380e+00 1.888e+01 4.680e+00 6.180e+00 7.140e+00\n",
      " 1.125e+01 8.140e+00 1.119e+01 6.960e+00 9.550e+00 9.690e+00 1.167e+01\n",
      " 5.320e+00 1.235e+01 6.860e+00 8.860e+00 5.850e+00]\n",
      "--------------------------------------------------\n",
      "Valores únicos en la columna 'license':\n",
      "['HUTB-001129' 'N/A SOLO ESTANCIAS MENSUALES' 'HUTB-002062' ...\n",
      " 'HUTB-003224' 'HUTB-736926' 'HUTS-736927']\n",
      "--------------------------------------------------\n",
      "Valores únicos en la columna 'instant_bookable':\n",
      "['t' 'f']\n",
      "--------------------------------------------------\n",
      "Valores únicos en la columna 'listing_url':\n",
      "['https://www.airbnb.com/rooms/269467'\n",
      " 'https://www.airbnb.com/rooms/270197'\n",
      " 'https://www.airbnb.com/rooms/18674' ...\n",
      " 'https://www.airbnb.com/rooms/1178910876458935142'\n",
      " 'https://www.airbnb.com/rooms/1173984319228839137'\n",
      " 'https://www.airbnb.com/rooms/1174000036524843870']\n",
      "--------------------------------------------------\n",
      "Valores únicos en la columna 'bathrooms_text':\n",
      "['1 bath' '1.5 baths' '2 baths' '3 baths' '1 shared bath' '3.5 baths'\n",
      " '1.5 shared baths' '2.5 baths' '1 private bath' '4 baths'\n",
      " 'Shared half-bath' '2 shared baths' '0 baths' '5.5 baths' '7.5 baths' nan\n",
      " '6 baths' '4.5 baths' '0 shared baths' 'Private half-bath'\n",
      " '2.5 shared baths' 'Half-bath' '5 baths' '8 baths' '3 shared baths'\n",
      " '8 shared baths' '4 shared baths' '50 baths' '3.5 shared baths'\n",
      " '6 shared baths' '5.5 shared baths' '5 shared baths' '10 baths'\n",
      " '4.5 shared baths' '13 baths' '15 baths']\n",
      "--------------------------------------------------\n"
     ]
    }
   ],
   "source": [
    "for column in df2.columns:\n",
    "    unique_values = df2[column].unique()\n",
    "    print(f\"Valores únicos en la columna '{column}':\")\n",
    "    print(unique_values)\n",
    "    print(\"-\" * 50)"
   ]
  },
  {
   "cell_type": "markdown",
   "id": "1b5d667c-3cd3-4776-b157-7dd07b90789c",
   "metadata": {},
   "source": [
    "# 3. TRATAMIENTO & MODIFICACIÓN DE COLUMNAS"
   ]
  },
  {
   "cell_type": "code",
   "execution_count": 2637,
   "id": "b42e44d8-770d-4e29-9d47-bdb926deef18",
   "metadata": {},
   "outputs": [
    {
     "data": {
      "text/html": [
       "<div>\n",
       "<style scoped>\n",
       "    .dataframe tbody tr th:only-of-type {\n",
       "        vertical-align: middle;\n",
       "    }\n",
       "\n",
       "    .dataframe tbody tr th {\n",
       "        vertical-align: top;\n",
       "    }\n",
       "\n",
       "    .dataframe thead th {\n",
       "        text-align: right;\n",
       "    }\n",
       "</style>\n",
       "<table border=\"1\" class=\"dataframe\">\n",
       "  <thead>\n",
       "    <tr style=\"text-align: right;\">\n",
       "      <th></th>\n",
       "      <th>description</th>\n",
       "      <th>name</th>\n",
       "      <th>host_since</th>\n",
       "      <th>host_location</th>\n",
       "      <th>host_is_superhost</th>\n",
       "      <th>host_identity_verified</th>\n",
       "      <th>host_has_profile_pic</th>\n",
       "      <th>neighbourhood_group_cleansed</th>\n",
       "      <th>latitude</th>\n",
       "      <th>longitude</th>\n",
       "      <th>...</th>\n",
       "      <th>review_scores_cleanliness</th>\n",
       "      <th>review_scores_checkin</th>\n",
       "      <th>review_scores_communication</th>\n",
       "      <th>review_scores_location</th>\n",
       "      <th>review_scores_value</th>\n",
       "      <th>reviews_per_month</th>\n",
       "      <th>license</th>\n",
       "      <th>instant_bookable</th>\n",
       "      <th>listing_url</th>\n",
       "      <th>bathrooms_text</th>\n",
       "    </tr>\n",
       "  </thead>\n",
       "  <tbody>\n",
       "    <tr>\n",
       "      <th>0</th>\n",
       "      <td>The apartment is a cosy open space with 65 m2....</td>\n",
       "      <td>Sunny and quiet Loft next to Sagrada Familia</td>\n",
       "      <td>2011-11-16</td>\n",
       "      <td>Barcelona, Spain</td>\n",
       "      <td>f</td>\n",
       "      <td>t</td>\n",
       "      <td>t</td>\n",
       "      <td>Eixample</td>\n",
       "      <td>41.40181</td>\n",
       "      <td>2.17610</td>\n",
       "      <td>...</td>\n",
       "      <td>4.59</td>\n",
       "      <td>4.83</td>\n",
       "      <td>4.79</td>\n",
       "      <td>4.81</td>\n",
       "      <td>4.67</td>\n",
       "      <td>1.15</td>\n",
       "      <td>HUTB-001129</td>\n",
       "      <td>t</td>\n",
       "      <td>https://www.airbnb.com/rooms/269467</td>\n",
       "      <td>1 bath</td>\n",
       "    </tr>\n",
       "    <tr>\n",
       "      <th>1</th>\n",
       "      <td>Rented only for monthly periods. 4 bedroom apa...</td>\n",
       "      <td>*monthly stays* 4 Bedroom Apartment near Rambla</td>\n",
       "      <td>2011-11-16</td>\n",
       "      <td>Barcelona, Spain</td>\n",
       "      <td>f</td>\n",
       "      <td>t</td>\n",
       "      <td>t</td>\n",
       "      <td>Ciutat Vella</td>\n",
       "      <td>41.37936</td>\n",
       "      <td>2.17376</td>\n",
       "      <td>...</td>\n",
       "      <td>4.50</td>\n",
       "      <td>5.00</td>\n",
       "      <td>5.00</td>\n",
       "      <td>5.00</td>\n",
       "      <td>4.50</td>\n",
       "      <td>0.02</td>\n",
       "      <td>N/A SOLO ESTANCIAS MENSUALES</td>\n",
       "      <td>f</td>\n",
       "      <td>https://www.airbnb.com/rooms/270197</td>\n",
       "      <td>1.5 baths</td>\n",
       "    </tr>\n",
       "    <tr>\n",
       "      <th>2</th>\n",
       "      <td>110m2 apartment to rent in Barcelona. Located ...</td>\n",
       "      <td>Huge flat for 8 people close to Sagrada Familia</td>\n",
       "      <td>2010-01-19</td>\n",
       "      <td>Barcelona, Spain</td>\n",
       "      <td>f</td>\n",
       "      <td>t</td>\n",
       "      <td>t</td>\n",
       "      <td>Eixample</td>\n",
       "      <td>41.40556</td>\n",
       "      <td>2.17262</td>\n",
       "      <td>...</td>\n",
       "      <td>4.63</td>\n",
       "      <td>4.75</td>\n",
       "      <td>4.68</td>\n",
       "      <td>4.78</td>\n",
       "      <td>4.30</td>\n",
       "      <td>0.30</td>\n",
       "      <td>HUTB-002062</td>\n",
       "      <td>t</td>\n",
       "      <td>https://www.airbnb.com/rooms/18674</td>\n",
       "      <td>2 baths</td>\n",
       "    </tr>\n",
       "  </tbody>\n",
       "</table>\n",
       "<p>3 rows × 36 columns</p>\n",
       "</div>"
      ],
      "text/plain": [
       "                                         description  \\\n",
       "0  The apartment is a cosy open space with 65 m2....   \n",
       "1  Rented only for monthly periods. 4 bedroom apa...   \n",
       "2  110m2 apartment to rent in Barcelona. Located ...   \n",
       "\n",
       "                                              name  host_since  \\\n",
       "0     Sunny and quiet Loft next to Sagrada Familia  2011-11-16   \n",
       "1  *monthly stays* 4 Bedroom Apartment near Rambla  2011-11-16   \n",
       "2  Huge flat for 8 people close to Sagrada Familia  2010-01-19   \n",
       "\n",
       "      host_location host_is_superhost host_identity_verified  \\\n",
       "0  Barcelona, Spain                 f                      t   \n",
       "1  Barcelona, Spain                 f                      t   \n",
       "2  Barcelona, Spain                 f                      t   \n",
       "\n",
       "  host_has_profile_pic neighbourhood_group_cleansed  latitude  longitude  ...  \\\n",
       "0                    t                     Eixample  41.40181    2.17610  ...   \n",
       "1                    t                 Ciutat Vella  41.37936    2.17376  ...   \n",
       "2                    t                     Eixample  41.40556    2.17262  ...   \n",
       "\n",
       "  review_scores_cleanliness review_scores_checkin  \\\n",
       "0                      4.59                  4.83   \n",
       "1                      4.50                  5.00   \n",
       "2                      4.63                  4.75   \n",
       "\n",
       "   review_scores_communication  review_scores_location  review_scores_value  \\\n",
       "0                         4.79                    4.81                 4.67   \n",
       "1                         5.00                    5.00                 4.50   \n",
       "2                         4.68                    4.78                 4.30   \n",
       "\n",
       "   reviews_per_month                       license instant_bookable  \\\n",
       "0               1.15                   HUTB-001129                t   \n",
       "1               0.02  N/A SOLO ESTANCIAS MENSUALES                f   \n",
       "2               0.30                   HUTB-002062                t   \n",
       "\n",
       "                           listing_url  bathrooms_text  \n",
       "0  https://www.airbnb.com/rooms/269467          1 bath  \n",
       "1  https://www.airbnb.com/rooms/270197       1.5 baths  \n",
       "2   https://www.airbnb.com/rooms/18674         2 baths  \n",
       "\n",
       "[3 rows x 36 columns]"
      ]
     },
     "execution_count": 2637,
     "metadata": {},
     "output_type": "execute_result"
    }
   ],
   "source": [
    "df2.head(3)"
   ]
  },
  {
   "cell_type": "markdown",
   "id": "ed187754-03f8-4951-8020-8bba0f3f2ad6",
   "metadata": {},
   "source": [
    "### 3.1 price"
   ]
  },
  {
   "cell_type": "code",
   "execution_count": 2639,
   "id": "469e44b1-ccf5-43c0-bfe8-17ddd27a9423",
   "metadata": {},
   "outputs": [],
   "source": [
    "# Eliminación filas df2 donde \"price\"= nulos"
   ]
  },
  {
   "cell_type": "code",
   "execution_count": 2640,
   "id": "2693f2e0-c2d9-49e0-9d11-f886b0130eb8",
   "metadata": {},
   "outputs": [],
   "source": [
    "df2 = df2.dropna(subset=['price'])"
   ]
  },
  {
   "cell_type": "code",
   "execution_count": 2641,
   "id": "ab9659ba-1dfc-4b64-ace4-004d7bb5db10",
   "metadata": {},
   "outputs": [
    {
     "data": {
      "text/plain": [
       "0"
      ]
     },
     "execution_count": 2641,
     "metadata": {},
     "output_type": "execute_result"
    }
   ],
   "source": [
    "# Comprobación nulos \"price\"\n",
    "df2['price'].isnull().sum()"
   ]
  },
  {
   "cell_type": "code",
   "execution_count": 2642,
   "id": "016ab460-636d-4dc1-827d-25e17dff126a",
   "metadata": {},
   "outputs": [
    {
     "data": {
      "text/plain": [
       "(15189, 36)"
      ]
     },
     "execution_count": 2642,
     "metadata": {},
     "output_type": "execute_result"
    }
   ],
   "source": [
    "# Comprobación reducción filas df2\n",
    "df2.shape"
   ]
  },
  {
   "cell_type": "code",
   "execution_count": 2643,
   "id": "49d7e200-1290-4d61-a5bf-6081c3e99dc1",
   "metadata": {},
   "outputs": [],
   "source": [
    "# Eliminar símbolos como el dólar de la columna 'price'\n",
    "df2.loc[:, 'price'] = df2['price'].replace(r'[\\$,]', '', regex=True)"
   ]
  },
  {
   "cell_type": "code",
   "execution_count": 2644,
   "id": "2d377830-601a-49e8-9533-90faa3a96819",
   "metadata": {},
   "outputs": [],
   "source": [
    "# Convertir la columna 'price' a tipo numérico\n",
    "df2.loc[:, 'price'] = pd.to_numeric(df2['price'], errors='coerce')"
   ]
  },
  {
   "cell_type": "code",
   "execution_count": 2645,
   "id": "71614cb8-5323-49c0-85bd-9c70d7ce730a",
   "metadata": {},
   "outputs": [
    {
     "data": {
      "text/plain": [
       "0    176.0\n",
       "1     74.0\n",
       "2    257.0\n",
       "4    249.0\n",
       "5    240.0\n",
       "Name: price, dtype: object"
      ]
     },
     "execution_count": 2645,
     "metadata": {},
     "output_type": "execute_result"
    }
   ],
   "source": [
    "df2['price'].head()"
   ]
  },
  {
   "cell_type": "markdown",
   "id": "e5e21102-3fb0-462e-ac4c-68ce81584314",
   "metadata": {},
   "source": [
    "### 3.2 host_since"
   ]
  },
  {
   "cell_type": "code",
   "execution_count": 2647,
   "id": "8b93ab2c-fbae-49e2-be2b-83128d8d104c",
   "metadata": {},
   "outputs": [
    {
     "data": {
      "text/plain": [
       "array(['2011-11-16', '2010-01-19', '2010-03-09', ..., '2017-01-14',\n",
       "       '2021-04-20', '2024-06-07'], dtype=object)"
      ]
     },
     "execution_count": 2647,
     "metadata": {},
     "output_type": "execute_result"
    }
   ],
   "source": [
    "# Comprobación valores únicos\n",
    "df2[\"host_since\"].unique()"
   ]
  },
  {
   "cell_type": "code",
   "execution_count": 2648,
   "id": "b151b02a-49ac-495a-8de5-8c2de2da4a09",
   "metadata": {},
   "outputs": [
    {
     "data": {
      "text/plain": [
       "0"
      ]
     },
     "execution_count": 2648,
     "metadata": {},
     "output_type": "execute_result"
    }
   ],
   "source": [
    "# Comprobación valores nulos\n",
    "df2[\"host_since\"].isnull().sum()"
   ]
  },
  {
   "cell_type": "code",
   "execution_count": 2649,
   "id": "3a677fe4-d243-4210-b517-97015231430a",
   "metadata": {},
   "outputs": [],
   "source": [
    "# Cambiar tipo de dato a fecha \n",
    "df2['host_since'] = pd.to_datetime(df2['host_since'])"
   ]
  },
  {
   "cell_type": "code",
   "execution_count": 2650,
   "id": "b79107f2-80b5-42c9-bd86-539e3be7f08a",
   "metadata": {},
   "outputs": [],
   "source": [
    "# Crear un objeto Timestamp específico\n",
    "fecha_especifica = pd.Timestamp('2024-08-05')"
   ]
  },
  {
   "cell_type": "code",
   "execution_count": 2651,
   "id": "5d1383d7-207c-41c6-bb73-6214e0e96b02",
   "metadata": {},
   "outputs": [],
   "source": [
    "# Calcular la diferencia en días entre fecha_especifica y host_since\n",
    "df2['host_since'] = (fecha_especifica - df2['host_since']).dt.days"
   ]
  },
  {
   "cell_type": "code",
   "execution_count": 2652,
   "id": "4f9732f0-052c-474e-8cd6-8ec0b937a515",
   "metadata": {},
   "outputs": [
    {
     "data": {
      "text/plain": [
       "array([4646, 5312, 5263, ..., 2760, 1203,   59], dtype=int64)"
      ]
     },
     "execution_count": 2652,
     "metadata": {},
     "output_type": "execute_result"
    }
   ],
   "source": [
    "# Comprobación valores únicos\n",
    "df2[\"host_since\"].unique()"
   ]
  },
  {
   "cell_type": "markdown",
   "id": "775ba902-1ffb-479b-9dc9-e76de3d2b0f1",
   "metadata": {},
   "source": [
    "### 3.3 host_location"
   ]
  },
  {
   "cell_type": "code",
   "execution_count": 2654,
   "id": "c87fc73d-9b91-4ca6-b025-5be37f089d69",
   "metadata": {
    "scrolled": true
   },
   "outputs": [
    {
     "data": {
      "text/plain": [
       "array(['Barcelona, Spain', 'Catalonia, Spain', nan, 'Colon, Panama',\n",
       "       'Callao Salvaje, Spain', \"L'Hospitalet de l'Infant, Spain\",\n",
       "       'Spain', 'Tossa de Mar, Spain', 'Amsterdam, Netherlands',\n",
       "       'Madrid, Spain', 'Sabadell, Spain', 'Paiporta, Spain', 'France',\n",
       "       'Linyola, Spain', 'Hamburg, Germany', 'Teià, Spain',\n",
       "       'Vilanova i la Geltrú, Spain', 'La Garriga, Spain',\n",
       "       'Premià de Dalt, Spain', 'Cabrils, Spain', 'Castelldefels, Spain',\n",
       "       'Viladecans, Spain', 'Tarragona, Spain', 'Sitges, Spain',\n",
       "       'London, United Kingdom', 'Badalona, Spain',\n",
       "       'Hospitalet de Llobregat, Spain', 'Rome, Italy',\n",
       "       'Montesson, France', 'Sant Celoni, Spain', 'Stockholm, Sweden',\n",
       "       'Caldes de Montbui, Spain', 'San Francisco, CA',\n",
       "       'Arenys de Mar, Spain', 'Altafulla, Spain', 'Terrassa, Spain',\n",
       "       'Sant Andreu de Llavaneres, Spain',\n",
       "       'Sant Vicenç de Montalt, Spain', 'Stuttgart, Germany',\n",
       "       'Santiago, Chile', 'Sant Boi de Llobregat, Spain', 'Genoa, Italy',\n",
       "       'Corbera de Llobregat, Spain', 'Calella de Palafrugell, Spain',\n",
       "       'Berkeley, CA', 'El Prat de Llobregat, Spain', 'Berlin, Germany',\n",
       "       'Paris, France', 'Encamp, Andorra', 'Italy', 'Oslo, Norway',\n",
       "       'Tiana, Catalonia, Spain', 'Canary Islands, Spain',\n",
       "       'Balearic Islands, Spain', 'Bologna, Italy', 'El Papiol, Spain',\n",
       "       'El Masnou, Spain', 'Premià de Mar, Spain', 'Cairo, Egypt',\n",
       "       \"L'Ametlla del Vallès, Spain\", 'Montgat, Spain', 'Girona, Spain',\n",
       "       'Salou, Spain', 'Vacarisses, Spain', 'Manila, Philippines',\n",
       "       'Sant Julià de Vilatorta, Spain', 'Torrebusqueta, Spain',\n",
       "       'Miami, FL', 'Manresa, Spain', 'Maspalomas, Spain',\n",
       "       'Vilafranca del Penedès, Spain', 'Navarre, Spain', 'New York, NY',\n",
       "       'Pineda de Mar, Spain', 'Cologne, Germany', 'Lehavim, Israel',\n",
       "       'Andalusia, Spain', 'Sant Cugat del Vallès, Spain',\n",
       "       'Ourense, Spain', 'Eugene, OR', 'Olot, Spain', 'Veneto, Italy',\n",
       "       'Vilassar de Mar, Spain', 'Germany', 'Lima, Peru',\n",
       "       'Mollet del Vallès, Spain', 'Alhendín, Spain', 'Igualada, Spain',\n",
       "       'Tel Aviv-Yafo, Israel', 'Effretikon, Switzerland',\n",
       "       'Boulogne-Billancourt, France', 'Rubí, Spain',\n",
       "       'New York, United States', 'Monaco', 'Boston, MA',\n",
       "       'Valladolid, Spain', 'Timișoara, Romania', 'Panama',\n",
       "       'Turin, Italy', 'La Ciotat, France', 'Palermo, Italy',\n",
       "       'Pärnu, Estonia', 'Argentona, Spain', 'Isla Mujeres, Mexico',\n",
       "       'Oto, Spain', 'Frankfurt, Germany', 'Argentina', 'Andorra, Spain',\n",
       "       'Sant Andreu de la Barca, Spain',\n",
       "       \"L'Hospitalet de Llobregat, Spain\", 'Buenos Aires, Argentina',\n",
       "       'Cerdanyola del Vallès, Spain', 'Milan, Italy', 'Andorra',\n",
       "       'Sant Joan Despí, Spain', 'Besalú, Spain',\n",
       "       'Cornellà de Llobregat, Spain', 'Navarcles, Spain',\n",
       "       'Bruges, Belgium', 'Küsnacht, Switzerland', 'Tulsa, OK',\n",
       "       'Valldoreix, Spain', 'Centelles, Spain', 'Malaga, Spain',\n",
       "       'Rio de Janeiro, Brazil', 'İstanbul, Turkey',\n",
       "       'Zürich, Switzerland', 'China', 'Valencia, Spain',\n",
       "       'Lausanne, Switzerland', 'Santa Perpètua de Mogoda, Spain',\n",
       "       'Farum, Denmark', 'Toronto, Canada', 'Sant Just Desvern, Spain',\n",
       "       'Oakland, CA', 'Istanbul, Turkey', 'Esplugues de Llobregat, Spain',\n",
       "       'Rocklin, CA', 'Palma, Spain', 'Graz, Austria', 'Beirut, Lebanon',\n",
       "       'Bordeaux, France', 'Vielha, Spain', 'Munich, Germany',\n",
       "       'Mechelen, Belgium', 'New Hampshire, United States',\n",
       "       'Kuta Utara, Indonesia', 'Granada, Spain',\n",
       "       'England, United Kingdom', 'Bilbao, Spain',\n",
       "       'Playa del Carmen, Mexico', 'Reus, Spain', \"Platja d'Aro, Spain\",\n",
       "       'Zurich, Switzerland', 'Cambrils, Spain', 'Mooresville, NC',\n",
       "       'Lisbon, Portugal', 'Marganell, Spain', 'Kiel, Germany',\n",
       "       'Calafell, Spain', 'Lloret de Mar, Spain', 'Santa Cruz, CA',\n",
       "       'Galicia, Spain', 'Sonoma, CA', 'Brno, Czechia', 'Escalon, CA',\n",
       "       'Marbella, Spain', 'Sevilla, Spain', 'Guayaquil, Ecuador',\n",
       "       'Marseille, France', 'United States', 'Comporta, Portugal',\n",
       "       'Bogotá, Colombia', 'Washington, DC', 'Palamós, Spain',\n",
       "       'Rosario, Argentina', 'Pitești, Romania', 'Oviedo, Spain',\n",
       "       'Brussels, Belgium', 'Herzliyya, Israel', 'Kyiv, Ukraine',\n",
       "       'Hanover, Germany', 'Kingston upon Thames, United Kingdom',\n",
       "       'Helsinki, Finland', 'Whistler, Canada', 'Poblet, Spain',\n",
       "       'Mataró, Spain', 'Denpasar, Indonesia', 'Montpellier, France',\n",
       "       'Castellbisbal, Spain', 'Bergen, Netherlands',\n",
       "       'Treasure Island, FL', 'Shenley, United Kingdom',\n",
       "       'Bogota, Colombia', 'Santa Coloma de Gramenet, Spain',\n",
       "       'Netherlands', 'Mexico City, Mexico', 'La Vilavella, Spain',\n",
       "       'Mali Losinj, Croatia', 'Sant Feliu de Llobregat, Spain',\n",
       "       'Ghent, Belgium', 'Binz, Germany', 'Blanes, Spain',\n",
       "       'Gelsenkirchen, Germany', 'Bremen, Germany', 'Castellote, Spain',\n",
       "       'Hong Kong', 'Singapore', 'Montevideo, Uruguay', 'Ravenna, Italy',\n",
       "       'Jaén, Spain', 'Montnegre, Spain', 'Oxford, United Kingdom',\n",
       "       'Sant Feliu de Guíxols, Spain', 'Rosh Haayin, Israel',\n",
       "       'United Kingdom', 'Budapest, Hungary', 'Gibraltar',\n",
       "       'Harpenden, United Kingdom', 'A Coruña, Spain', 'Arrós, Spain',\n",
       "       'Kilcar, Ireland', 'Auckland, New Zealand', 'Meudon, France',\n",
       "       'Vancouver, Canada', 'Castellar del Vallès, Spain',\n",
       "       'Salvador, Brazil', 'Ripollet, Spain', 'Torres Torres, Spain',\n",
       "       'Palisades, NY', 'Viña del Mar, Chile', 'Igny, France',\n",
       "       'Ribeirao Preto, Brazil', 'Valldemossa, Spain', 'Ordino, Andorra',\n",
       "       'The Hague, Netherlands', 'Bolsward, Netherlands',\n",
       "       'Venezuela, Venezuela', 'Lleida, Spain', 'Radazul, Spain',\n",
       "       'San Ramon, CA', 'Peru', 'Zug, Switzerland', 'Montreal, Canada',\n",
       "       'Los Angeles, CA', 'Naples, Italy', 'Edinburgh, United Kingdom',\n",
       "       'Andorra la Vella, Andorra', 'Getafe, Spain', 'Salerno, Italy',\n",
       "       'Klaipeda, Lithuania', 'Pacific Grove, CA', 'Houston, TX',\n",
       "       'Vienna, Austria', 'Ibiza, Spain', 'Lugo, Spain', 'Pallejà, Spain',\n",
       "       'Copenhagen, Denmark', 'Helmdange, Luxembourg', 'East Hanover, NJ',\n",
       "       'Garrotxa, Spain', 'Brazil', 'Miami Beach, FL',\n",
       "       'Buenos Aires Province, Argentina', 'Sydney, Australia',\n",
       "       'Egg, Switzerland', 'Newport Beach, CA', 'Trémery, France',\n",
       "       'Brasilito, Costa Rica', 'Yesa, Spain', 'Arbúcies, Spain',\n",
       "       'State of Pernambuco, Brazil', 'Begues, Spain'], dtype=object)"
      ]
     },
     "execution_count": 2654,
     "metadata": {},
     "output_type": "execute_result"
    }
   ],
   "source": [
    "# Comrpobación valores únicos\n",
    "df2[\"host_location\"].unique()"
   ]
  },
  {
   "cell_type": "code",
   "execution_count": 2655,
   "id": "3da0c9e2-21fb-421f-a884-58e4401a6bde",
   "metadata": {},
   "outputs": [
    {
     "data": {
      "text/plain": [
       "3232"
      ]
     },
     "execution_count": 2655,
     "metadata": {},
     "output_type": "execute_result"
    }
   ],
   "source": [
    "# Comprobación valores nulos\n",
    "df2[\"host_location\"].isnull().sum()"
   ]
  },
  {
   "cell_type": "code",
   "execution_count": 2656,
   "id": "fd31968e-621d-4d49-ab70-282563290f9e",
   "metadata": {},
   "outputs": [],
   "source": [
    "# Transformar el formato a tipo string\n",
    "df2['host_location'] = df2['host_location'].astype('string')"
   ]
  },
  {
   "cell_type": "code",
   "execution_count": 2657,
   "id": "efe01ee1-65b3-45eb-8ea7-87decccb435a",
   "metadata": {},
   "outputs": [],
   "source": [
    "# Crear lista con los valores de 'spain'\n",
    "def contains_spain(x):\n",
    "    if pd.isna(x):\n",
    "        return False\n",
    "    return 'spain' in x.lower()"
   ]
  },
  {
   "cell_type": "code",
   "execution_count": 2658,
   "id": "907efda6-c2c0-4d7b-8006-1b7ee6123bc0",
   "metadata": {},
   "outputs": [],
   "source": [
    "# Filtrar el DataFrame y obtener los valores únicos de 'host_location' que contienen 'spain'\n",
    "list_spain = df2[df2['host_location'].apply(contains_spain)]['host_location'].unique()"
   ]
  },
  {
   "cell_type": "code",
   "execution_count": 2659,
   "id": "e647dcc6-b3a0-4e17-b5e3-beca5d3b07f1",
   "metadata": {},
   "outputs": [],
   "source": [
    "# Reemplazar todos los valores en list_spain por 'spain'\n",
    "df2['host_location'] = df2['host_location'].apply(lambda x: 'spain' if x in list_spain else x)"
   ]
  },
  {
   "cell_type": "code",
   "execution_count": 2660,
   "id": "4b22e00b-19d0-4cbe-b5d5-6d900fcd1066",
   "metadata": {},
   "outputs": [],
   "source": [
    "# Reemplazar todo lo que no sea 'Spain' por 'no_spain'\n",
    "df2['host_location'] = df2['host_location'].apply(lambda x: 'no_spain' if pd.notna(x) and x != 'spain' else x)"
   ]
  },
  {
   "cell_type": "code",
   "execution_count": 2661,
   "id": "f4e905a9-f162-4962-9cc5-6f32327e57ae",
   "metadata": {},
   "outputs": [],
   "source": [
    "# Completar todos los valores nulos con 'no_info'\n",
    "df2['host_location'] = df2['host_location'].fillna('no_info')"
   ]
  },
  {
   "cell_type": "code",
   "execution_count": 2662,
   "id": "2ff020f5-9d84-41f0-ab5c-2d298e57daee",
   "metadata": {},
   "outputs": [
    {
     "data": {
      "text/plain": [
       "array(['spain', 'no_info', 'no_spain'], dtype=object)"
      ]
     },
     "execution_count": 2662,
     "metadata": {},
     "output_type": "execute_result"
    }
   ],
   "source": [
    "# Comprobación valores únicos \n",
    "df2[\"host_location\"].unique()"
   ]
  },
  {
   "cell_type": "code",
   "execution_count": 2663,
   "id": "e750c8a9-1924-482f-b5fc-70dded83203b",
   "metadata": {},
   "outputs": [
    {
     "data": {
      "text/plain": [
       "0"
      ]
     },
     "execution_count": 2663,
     "metadata": {},
     "output_type": "execute_result"
    }
   ],
   "source": [
    "# Comprobación valores nulos\n",
    "df2[\"host_location\"].isnull().sum()"
   ]
  },
  {
   "cell_type": "markdown",
   "id": "735d44b9-f072-4464-8dad-fada99c08946",
   "metadata": {},
   "source": [
    "### 3.4 host_is_superhost"
   ]
  },
  {
   "cell_type": "code",
   "execution_count": 2665,
   "id": "30dd8a0f-c812-4f72-b8c4-948149e4971a",
   "metadata": {},
   "outputs": [
    {
     "data": {
      "text/plain": [
       "array(['f', 't', nan], dtype=object)"
      ]
     },
     "execution_count": 2665,
     "metadata": {},
     "output_type": "execute_result"
    }
   ],
   "source": [
    "# Comrpobación valores únicos\n",
    "df2[\"host_is_superhost\"].unique()"
   ]
  },
  {
   "cell_type": "code",
   "execution_count": 2666,
   "id": "f961db4a-76c0-419a-a35f-e31f32f9ae31",
   "metadata": {},
   "outputs": [
    {
     "data": {
      "text/plain": [
       "119"
      ]
     },
     "execution_count": 2666,
     "metadata": {},
     "output_type": "execute_result"
    }
   ],
   "source": [
    "# Comprobación valores nulos\n",
    "df2[\"host_is_superhost\"].isnull().sum()"
   ]
  },
  {
   "cell_type": "code",
   "execution_count": 2667,
   "id": "92fb6138-18df-4a51-b20c-fc96fcd5358a",
   "metadata": {},
   "outputs": [
    {
     "name": "stderr",
     "output_type": "stream",
     "text": [
      "C:\\Users\\fatima\\AppData\\Local\\Temp\\ipykernel_14976\\2808873153.py:3: FutureWarning: Downcasting object dtype arrays on .fillna, .ffill, .bfill is deprecated and will change in a future version. Call result.infer_objects(copy=False) instead. To opt-in to the future behavior, set `pd.set_option('future.no_silent_downcasting', True)`\n",
      "  df2['host_is_superhost'] = df2['host_is_superhost'].fillna(False)\n"
     ]
    }
   ],
   "source": [
    "# Completar todos los valores nulos con 'false'\n",
    "df2['host_is_superhost'] = df2['host_is_superhost'].map({'t': True, 'f': False})\n",
    "df2['host_is_superhost'] = df2['host_is_superhost'].fillna(False)"
   ]
  },
  {
   "cell_type": "code",
   "execution_count": 3055,
   "id": "858d9a60-06c9-4da0-b6a5-281ce2452846",
   "metadata": {},
   "outputs": [
    {
     "data": {
      "text/plain": [
       "array([False,  True])"
      ]
     },
     "execution_count": 3055,
     "metadata": {},
     "output_type": "execute_result"
    }
   ],
   "source": [
    "# Comprobación valores únicos\n",
    "df2['host_is_superhost'].unique()"
   ]
  },
  {
   "cell_type": "code",
   "execution_count": 2669,
   "id": "49dcf500-7c95-4d96-a719-233822d75d29",
   "metadata": {},
   "outputs": [
    {
     "data": {
      "text/plain": [
       "0"
      ]
     },
     "execution_count": 2669,
     "metadata": {},
     "output_type": "execute_result"
    }
   ],
   "source": [
    "# Comprobación valores nulos\n",
    "df2['host_is_superhost'].isnull().sum()"
   ]
  },
  {
   "cell_type": "code",
   "execution_count": 3057,
   "id": "d496f047-64ed-4797-a6ac-da7c0f47285f",
   "metadata": {},
   "outputs": [
    {
     "name": "stdout",
     "output_type": "stream",
     "text": [
      "bool\n"
     ]
    }
   ],
   "source": [
    "# Cambiar a tipo booleano\n",
    "df2['host_is_superhost'] = df2['host_is_superhost'].astype(bool)\n",
    "print(df2['host_is_superhost'].dtype)"
   ]
  },
  {
   "cell_type": "markdown",
   "id": "7e1d6f8c-1652-47e4-9785-1900c3ab0c47",
   "metadata": {},
   "source": [
    "### 3.5 host_identity_verified"
   ]
  },
  {
   "cell_type": "code",
   "execution_count": 3061,
   "id": "2fd186d1-6245-4f85-9399-4596066cbb32",
   "metadata": {},
   "outputs": [
    {
     "data": {
      "text/plain": [
       "array([ True, False])"
      ]
     },
     "execution_count": 3061,
     "metadata": {},
     "output_type": "execute_result"
    }
   ],
   "source": [
    "# Comrpobación valores únicos\n",
    "df2[\"host_identity_verified\"].unique()"
   ]
  },
  {
   "cell_type": "code",
   "execution_count": 3059,
   "id": "56454d61-678c-4a09-8da0-bd0e6eea340b",
   "metadata": {},
   "outputs": [
    {
     "data": {
      "text/plain": [
       "0"
      ]
     },
     "execution_count": 3059,
     "metadata": {},
     "output_type": "execute_result"
    }
   ],
   "source": [
    "# Comrpobación valores nulos\n",
    "df2[\"host_identity_verified\"].isnull().sum()"
   ]
  },
  {
   "cell_type": "code",
   "execution_count": 2675,
   "id": "3c6793a8-63a3-47b0-8f60-29d0b591ca35",
   "metadata": {},
   "outputs": [],
   "source": [
    "# Cambiar tipo de dato a booleano\n",
    "df2['host_identity_verified'] = df2['host_identity_verified'].map({'t': True, 'f': False})\n",
    "df2['host_identity_verified'] = df2['host_identity_verified'].astype(bool)"
   ]
  },
  {
   "cell_type": "code",
   "execution_count": 2676,
   "id": "7e1d9a8f-1364-4fde-a628-9fe389f82aa5",
   "metadata": {},
   "outputs": [
    {
     "name": "stdout",
     "output_type": "stream",
     "text": [
      "bool\n",
      "[ True False]\n"
     ]
    }
   ],
   "source": [
    "# Comprobación del cambio \n",
    "print(df2['host_identity_verified'].dtype)\n",
    "print(df2['host_identity_verified'].unique())"
   ]
  },
  {
   "cell_type": "markdown",
   "id": "b6d03b53-f2ea-41e7-9081-8797254334a4",
   "metadata": {},
   "source": [
    "### 3.6 host_has_profile pic"
   ]
  },
  {
   "cell_type": "code",
   "execution_count": 2678,
   "id": "364e2691-5918-481c-bdf0-e87333f8a4d7",
   "metadata": {},
   "outputs": [
    {
     "data": {
      "text/plain": [
       "array(['t', 'f'], dtype=object)"
      ]
     },
     "execution_count": 2678,
     "metadata": {},
     "output_type": "execute_result"
    }
   ],
   "source": [
    "# Comrpobación valores únicos\n",
    "df2[\"host_has_profile_pic\"].unique()"
   ]
  },
  {
   "cell_type": "code",
   "execution_count": 2679,
   "id": "0b74988f-a2f7-40e4-a66e-3c26e0d2a381",
   "metadata": {},
   "outputs": [
    {
     "data": {
      "text/plain": [
       "0"
      ]
     },
     "execution_count": 2679,
     "metadata": {},
     "output_type": "execute_result"
    }
   ],
   "source": [
    "# Comprobación valores nulos\n",
    "df2['host_has_profile_pic'].isnull().sum()"
   ]
  },
  {
   "cell_type": "code",
   "execution_count": 2680,
   "id": "df673bc9-f084-4a08-b946-c3d74c49c280",
   "metadata": {},
   "outputs": [],
   "source": [
    "# Cambiar tipo de dato a booleano\n",
    "df2['host_has_profile_pic'] = df2['host_has_profile_pic'].map({'t': True, 'f': False})\n",
    "df2['host_has_profile_pic'] = df2['host_has_profile_pic'].astype(bool)"
   ]
  },
  {
   "cell_type": "code",
   "execution_count": 2681,
   "id": "b2a34dec-d121-442b-87ee-ebda6ba40563",
   "metadata": {},
   "outputs": [
    {
     "name": "stdout",
     "output_type": "stream",
     "text": [
      "bool\n",
      "[ True False]\n"
     ]
    }
   ],
   "source": [
    "# Comprobación del cambio \n",
    "print(df2['host_identity_verified'].dtype)\n",
    "print(df2['host_identity_verified'].unique())"
   ]
  },
  {
   "cell_type": "markdown",
   "id": "77f48dd2-3947-438c-b61c-452c4d7a8d34",
   "metadata": {},
   "source": [
    "### 3.7 bathrooms"
   ]
  },
  {
   "cell_type": "code",
   "execution_count": 2683,
   "id": "27e69cb1-ba0d-4e05-b9f6-ac9a7498b03e",
   "metadata": {},
   "outputs": [
    {
     "data": {
      "text/plain": [
       "7"
      ]
     },
     "execution_count": 2683,
     "metadata": {},
     "output_type": "execute_result"
    }
   ],
   "source": [
    "# Comprobación valores nulos \n",
    "df2['bathrooms'].isnull().sum()"
   ]
  },
  {
   "cell_type": "code",
   "execution_count": 2684,
   "id": "68b48d6f-a3e6-465c-bb6b-a2d18aa6adc7",
   "metadata": {},
   "outputs": [
    {
     "name": "stdout",
     "output_type": "stream",
     "text": [
      "       bathrooms                                       listing_url\n",
      "14617        NaN   https://www.airbnb.com/rooms/939973318879363498\n",
      "14949        NaN   https://www.airbnb.com/rooms/964339945010102928\n",
      "15580        NaN  https://www.airbnb.com/rooms/1013268024586260166\n",
      "15904        NaN  https://www.airbnb.com/rooms/1031002061578844729\n",
      "17106        NaN  https://www.airbnb.com/rooms/1101999350577324560\n",
      "18388        NaN  https://www.airbnb.com/rooms/1151404135945744837\n",
      "18601        NaN  https://www.airbnb.com/rooms/1160842594736431325\n"
     ]
    }
   ],
   "source": [
    "# Localización valores nulos de'bathroom' U 'listing_url' en la df original\n",
    "url_bathrooms = df2.loc[df2['bathrooms'].isna(), ['bathrooms', 'listing_url']]\n",
    "\n",
    "print(url_bathrooms)"
   ]
  },
  {
   "cell_type": "code",
   "execution_count": 2685,
   "id": "50cf0a24-0399-4dad-941f-41da8ee6b64f",
   "metadata": {},
   "outputs": [],
   "source": [
    "# Completar con 1 toda la columna de nulos en bathrooms\n",
    "df2['bathrooms'] = df2['bathrooms'].fillna(1)"
   ]
  },
  {
   "cell_type": "code",
   "execution_count": 2686,
   "id": "ea741dc4-0e7f-445c-8358-38b133d27a64",
   "metadata": {},
   "outputs": [
    {
     "data": {
      "text/plain": [
       "0"
      ]
     },
     "execution_count": 2686,
     "metadata": {},
     "output_type": "execute_result"
    }
   ],
   "source": [
    "# Comprobación valores nulos 'bathrooms'\n",
    "df2['bathrooms'].isna().sum()"
   ]
  },
  {
   "cell_type": "markdown",
   "id": "8f2c119e-74ea-4083-87dd-33a3d4693ea0",
   "metadata": {},
   "source": [
    "### 3.8 bathrooms_text"
   ]
  },
  {
   "cell_type": "code",
   "execution_count": 2688,
   "id": "07180fdd-696b-4700-8c31-3fe3abd7f344",
   "metadata": {},
   "outputs": [
    {
     "data": {
      "text/plain": [
       "0           1 bath\n",
       "1        1.5 baths\n",
       "2          2 baths\n",
       "4          2 baths\n",
       "5        1.5 baths\n",
       "           ...    \n",
       "18920       1 bath\n",
       "18921      2 baths\n",
       "18922      2 baths\n",
       "18923       1 bath\n",
       "18924       1 bath\n",
       "Name: bathrooms_text, Length: 15189, dtype: object"
      ]
     },
     "execution_count": 2688,
     "metadata": {},
     "output_type": "execute_result"
    }
   ],
   "source": [
    "df2['bathrooms_text']"
   ]
  },
  {
   "cell_type": "code",
   "execution_count": 2689,
   "id": "531f7e04-0449-47f6-bb80-2fcfaf1139d1",
   "metadata": {},
   "outputs": [
    {
     "data": {
      "text/plain": [
       "array(['1 bath', '1.5 baths', '2 baths', '3 baths', '3.5 baths',\n",
       "       '1 shared bath', '1.5 shared baths', '2.5 baths', '1 private bath',\n",
       "       '4 baths', 'Shared half-bath', '2 shared baths', '0 baths',\n",
       "       '5.5 baths', '7.5 baths', nan, '6 baths', '4.5 baths',\n",
       "       '0 shared baths', '2.5 shared baths', 'Half-bath', '5 baths',\n",
       "       '8 baths', '3 shared baths', '8 shared baths', 'Private half-bath',\n",
       "       '4 shared baths', '50 baths', '3.5 shared baths', '6 shared baths',\n",
       "       '5 shared baths', '10 baths', '4.5 shared baths', '13 baths',\n",
       "       '15 baths'], dtype=object)"
      ]
     },
     "execution_count": 2689,
     "metadata": {},
     "output_type": "execute_result"
    }
   ],
   "source": [
    "# Comprobación valores únicos\n",
    "df2[\"bathrooms_text\"].unique()"
   ]
  },
  {
   "cell_type": "code",
   "execution_count": 2690,
   "id": "38fdbb06-f2a1-4332-b927-4cd6f68faca1",
   "metadata": {},
   "outputs": [],
   "source": [
    "# Creación de nueva columna llamada 'type_bathroom' que refleje en función de la columna 'bathrooms_texted' si es shared o private\n",
    "df2['type_bathroom'] = df2['bathrooms_text'].apply(lambda x: 'shared' if 'shared' in str(x).lower() else 'private')"
   ]
  },
  {
   "cell_type": "code",
   "execution_count": 2691,
   "id": "4bc0c247-85ef-4e90-b808-a25c279b93a8",
   "metadata": {},
   "outputs": [
    {
     "data": {
      "text/plain": [
       "array(['private', 'shared'], dtype=object)"
      ]
     },
     "execution_count": 2691,
     "metadata": {},
     "output_type": "execute_result"
    }
   ],
   "source": [
    "# Comrpobación de la nueva columna type_bathroom\n",
    "df2[\"type_bathroom\"].unique()"
   ]
  },
  {
   "cell_type": "code",
   "execution_count": 2692,
   "id": "80de44d0-3fb8-41e8-9115-c029dcf05b34",
   "metadata": {},
   "outputs": [],
   "source": [
    "#Eliminación de la columna bathroom_text\n",
    "df2.drop('bathrooms_text', axis=1, inplace=True)"
   ]
  },
  {
   "cell_type": "markdown",
   "id": "c7301f1b-936e-40f7-ae61-e1442de2a8df",
   "metadata": {},
   "source": [
    "### 3.9 neighbourhood_group_cleansed\t"
   ]
  },
  {
   "cell_type": "code",
   "execution_count": 2694,
   "id": "0d02ab19-af74-446c-9b1e-1d16ac0cc125",
   "metadata": {},
   "outputs": [],
   "source": [
    "# Cambio nombre columna por neighbourhood\n",
    "df2.rename(columns={'neighbourhood_group_cleansed': 'neighbourhood'}, inplace=True)"
   ]
  },
  {
   "cell_type": "code",
   "execution_count": 2695,
   "id": "b49de2bd-249f-4409-8dfe-0016abec13ea",
   "metadata": {},
   "outputs": [],
   "source": [
    "# Transformación de los datos (minúsculas, sin acentos, _....etc)\n",
    "df2['neighbourhood'] = df2['neighbourhood'] \\\n",
    "    .str.lower() \\\n",
    "    .str.replace(' ', '_', regex=False) \\\n",
    "    .str.replace('-', '_', regex=False) \\\n",
    "    .str.normalize('NFKD') \\\n",
    "    .str.encode('ascii', errors='ignore') \\\n",
    "    .str.decode('ascii')\n"
   ]
  },
  {
   "cell_type": "code",
   "execution_count": 2696,
   "id": "0f816bff-9ce9-45a1-98d0-b8ef74bc09a0",
   "metadata": {},
   "outputs": [
    {
     "data": {
      "text/plain": [
       "array(['eixample', 'ciutat_vella', 'sant_marti', 'gracia',\n",
       "       'sarria_sant_gervasi', 'sants_montjuic', 'les_corts',\n",
       "       'horta_guinardo', 'sant_andreu', 'nou_barris'], dtype=object)"
      ]
     },
     "execution_count": 2696,
     "metadata": {},
     "output_type": "execute_result"
    }
   ],
   "source": [
    "# Comprobación valores únicos\n",
    "df2['neighbourhood'].unique()"
   ]
  },
  {
   "cell_type": "markdown",
   "id": "ac9f2506-9430-4ea8-a0ca-72d76e3c986b",
   "metadata": {},
   "source": [
    "### 3.10 property_type"
   ]
  },
  {
   "cell_type": "code",
   "execution_count": 2698,
   "id": "54f122b3-7b7c-4f6f-87e5-d55d03e870e2",
   "metadata": {},
   "outputs": [],
   "source": [
    "# Transformación de los datos (minúsculas, sin acentos, _....etc)\n",
    "df2['property_type'] = df2['property_type'] \\\n",
    "    .str.lower() \\\n",
    "    .str.replace(' ', '_', regex=False) \\\n",
    "    .str.replace('-', '_', regex=False) \\\n",
    "    .str.normalize('NFKD') \\\n",
    "    .str.encode('ascii', errors='ignore') \\\n",
    "    .str.decode('ascii')"
   ]
  },
  {
   "cell_type": "code",
   "execution_count": 2699,
   "id": "6b66b200-81aa-4119-ae62-58df6c130307",
   "metadata": {},
   "outputs": [
    {
     "data": {
      "text/plain": [
       "array(['entire_loft', 'entire_rental_unit', 'entire_condo',\n",
       "       'entire_vacation_home', 'entire_home', 'entire_serviced_apartment',\n",
       "       'private_room_in_rental_unit', 'entire_townhouse',\n",
       "       'private_room_in_condo', 'private_room_in_home',\n",
       "       'entire_guest_suite', 'private_room_in_casa_particular',\n",
       "       'private_room_in_serviced_apartment', 'room_in_serviced_apartment',\n",
       "       'private_room_in_bed_and_breakfast', 'entire_villa',\n",
       "       'private_room_in_guesthouse', 'tiny_home',\n",
       "       'shared_room_in_rental_unit', 'shared_room_in_bed_and_breakfast',\n",
       "       'room_in_aparthotel', 'private_room_in_loft',\n",
       "       'shared_room_in_hostel', 'private_room', 'room_in_boutique_hotel',\n",
       "       'entire_guesthouse', 'private_room_in_guest_suite', 'barn',\n",
       "       'shared_room_in_floor', 'private_room_in_villa',\n",
       "       'private_room_in_townhouse', 'entire_place', 'boat',\n",
       "       'shared_room_in_home', 'private_room_in_hostel', 'room_in_hostel',\n",
       "       'room_in_hotel', 'entire_chalet', 'casa_particular', 'camper/rv',\n",
       "       'private_room_in_dome', 'shared_room_in_hotel', 'earthen_home',\n",
       "       'shared_room_in_serviced_apartment',\n",
       "       'shared_room_in_boutique_hotel', 'private_room_in_vacation_home',\n",
       "       'shared_room_in_condo', 'private_room_in_cottage', 'yurt',\n",
       "       'private_room_in_boat', 'shared_room_in_guesthouse',\n",
       "       'entire_cabin'], dtype=object)"
      ]
     },
     "execution_count": 2699,
     "metadata": {},
     "output_type": "execute_result"
    }
   ],
   "source": [
    "# Comprobación valores únicos\n",
    "df2['property_type'].unique()"
   ]
  },
  {
   "cell_type": "markdown",
   "id": "5e086631-eeb8-41f0-9da0-5d19e040165a",
   "metadata": {},
   "source": [
    "### 3.11 room_type"
   ]
  },
  {
   "cell_type": "code",
   "execution_count": 2701,
   "id": "58f88abb-d62f-4ece-9522-36c2733e5161",
   "metadata": {},
   "outputs": [],
   "source": [
    "# Transformación de los datos (minúsculas, sin acentos, _....etc)\n",
    "df2['room_type'] = df2['room_type'] \\\n",
    "    .str.lower() \\\n",
    "    .str.replace(' ', '_', regex=False) \\\n",
    "    .str.replace('-', '_', regex=False) \\\n",
    "    .str.replace('/', '_', regex=False) \\\n",
    "    .str.normalize('NFKD') \\\n",
    "    .str.encode('ascii', errors='ignore') \\\n",
    "    .str.decode('ascii')"
   ]
  },
  {
   "cell_type": "code",
   "execution_count": 2702,
   "id": "1767a0f5-d8df-4d0b-a165-047fc1505015",
   "metadata": {},
   "outputs": [
    {
     "data": {
      "text/plain": [
       "array(['entire_home_apt', 'private_room', 'hotel_room', 'shared_room'],\n",
       "      dtype=object)"
      ]
     },
     "execution_count": 2702,
     "metadata": {},
     "output_type": "execute_result"
    }
   ],
   "source": [
    "# Comprobación valores únicos\n",
    "df2['room_type'].unique()"
   ]
  },
  {
   "cell_type": "markdown",
   "id": "94ff990e-582e-4b08-b4a8-779fd288ce33",
   "metadata": {},
   "source": [
    "### 3.12 has_availability"
   ]
  },
  {
   "cell_type": "code",
   "execution_count": 2704,
   "id": "4f1baec8-c3ae-40b0-ad96-357dccabe601",
   "metadata": {},
   "outputs": [
    {
     "data": {
      "text/plain": [
       "count     15100\n",
       "unique        2\n",
       "top           t\n",
       "freq      15079\n",
       "Name: has_availability, dtype: object"
      ]
     },
     "execution_count": 2704,
     "metadata": {},
     "output_type": "execute_result"
    }
   ],
   "source": [
    "df2['has_availability'].describe()"
   ]
  },
  {
   "cell_type": "code",
   "execution_count": 2705,
   "id": "04e5750f-62b3-41c6-98dc-589f37ade1f7",
   "metadata": {},
   "outputs": [
    {
     "data": {
      "image/png": "[encoded data removed]",
      "text/plain": [
       "<Figure size 640x480 with 1 Axes>"
      ]
     },
     "metadata": {},
     "output_type": "display_data"
    }
   ],
   "source": [
    "sns.histplot(data = df2, x='has_availability')\n",
    "plt.show()"
   ]
  },
  {
   "cell_type": "code",
   "execution_count": 2706,
   "id": "259f8bc7-0622-4d92-9c3b-a26e11dba585",
   "metadata": {},
   "outputs": [
    {
     "data": {
      "text/plain": [
       "89"
      ]
     },
     "execution_count": 2706,
     "metadata": {},
     "output_type": "execute_result"
    }
   ],
   "source": [
    "# Comprobación valores nulos \n",
    "df2[\"has_availability\"].isnull().sum()"
   ]
  },
  {
   "cell_type": "code",
   "execution_count": 2707,
   "id": "8c29af70-8d90-4d5c-8649-016ff2a4374f",
   "metadata": {},
   "outputs": [
    {
     "name": "stderr",
     "output_type": "stream",
     "text": [
      "C:\\Users\\fatima\\AppData\\Local\\Temp\\ipykernel_14976\\436405065.py:2: FutureWarning: Downcasting object dtype arrays on .fillna, .ffill, .bfill is deprecated and will change in a future version. Call result.infer_objects(copy=False) instead. To opt-in to the future behavior, set `pd.set_option('future.no_silent_downcasting', True)`\n",
      "  df2['has_availability'] = df2['has_availability'].map({'t': True, 'no': False}).fillna(False)\n"
     ]
    }
   ],
   "source": [
    "# Completar celdas vacias con False\n",
    "df2['has_availability'] = df2['has_availability'].map({'t': True, 'no': False}).fillna(False) "
   ]
  },
  {
   "cell_type": "code",
   "execution_count": 2708,
   "id": "ee2e7a61-8839-4346-9b59-fd717361b3f4",
   "metadata": {},
   "outputs": [],
   "source": [
    "# Convertir columna a tipo booleano\n",
    "df2['has_availability'] = df2['has_availability'].astype(bool)"
   ]
  },
  {
   "cell_type": "code",
   "execution_count": 2709,
   "id": "22c8acc0-0d05-480e-8901-da908f9d3b53",
   "metadata": {},
   "outputs": [
    {
     "data": {
      "text/plain": [
       "0"
      ]
     },
     "execution_count": 2709,
     "metadata": {},
     "output_type": "execute_result"
    }
   ],
   "source": [
    "# Comprobación valores nulos\n",
    "df2[\"has_availability\"].isnull().sum()"
   ]
  },
  {
   "cell_type": "code",
   "execution_count": 2710,
   "id": "e6b76970-94ee-4bc9-b307-6555a1f783f2",
   "metadata": {},
   "outputs": [
    {
     "data": {
      "text/plain": [
       "array([ True, False])"
      ]
     },
     "execution_count": 2710,
     "metadata": {},
     "output_type": "execute_result"
    }
   ],
   "source": [
    "# Comprobación valores únicos\n",
    "df2['has_availability'].unique()"
   ]
  },
  {
   "cell_type": "markdown",
   "id": "0330e7f1-340f-4041-8d66-c82cca2e574f",
   "metadata": {},
   "source": [
    "### 3.13 review_scores_rating"
   ]
  },
  {
   "cell_type": "code",
   "execution_count": 2712,
   "id": "e8a6886f-305e-4758-8fc6-95bcbc15614a",
   "metadata": {},
   "outputs": [
    {
     "data": {
      "text/plain": [
       "count    11872.000000\n",
       "mean         4.591732\n",
       "std          0.480347\n",
       "min          1.000000\n",
       "25%          4.460000\n",
       "50%          4.700000\n",
       "75%          4.890000\n",
       "max          5.000000\n",
       "Name: review_scores_rating, dtype: float64"
      ]
     },
     "execution_count": 2712,
     "metadata": {},
     "output_type": "execute_result"
    }
   ],
   "source": [
    "df2['review_scores_rating'].describe()"
   ]
  },
  {
   "cell_type": "code",
   "execution_count": 2713,
   "id": "66e50e99-783c-4f2e-a392-bea3beb56bd0",
   "metadata": {},
   "outputs": [
    {
     "data": {
      "image/png": "[encoded data removed]",
      "text/plain": [
       "<Figure size 640x480 with 1 Axes>"
      ]
     },
     "metadata": {},
     "output_type": "display_data"
    }
   ],
   "source": [
    "sns.histplot(data = df2, x='review_scores_rating')\n",
    "plt.show()"
   ]
  },
  {
   "cell_type": "code",
   "execution_count": 2714,
   "id": "83304616-24f0-45c3-a2a6-e0adaafc10cc",
   "metadata": {},
   "outputs": [],
   "source": [
    "# Reemplazar valores faltantes por media\n",
    "df2['review_scores_rating'] = df2['review_scores_rating'].fillna(df2['review_scores_rating'].mean())"
   ]
  },
  {
   "cell_type": "code",
   "execution_count": 2715,
   "id": "695331ce-1a66-4922-9554-59b8afa00acc",
   "metadata": {},
   "outputs": [
    {
     "data": {
      "text/plain": [
       "0"
      ]
     },
     "execution_count": 2715,
     "metadata": {},
     "output_type": "execute_result"
    }
   ],
   "source": [
    "# Comprobación valores nulos \n",
    "df2[\"review_scores_rating\"].isnull().sum()"
   ]
  },
  {
   "cell_type": "markdown",
   "id": "bce29683-01d5-41f0-a0ec-ce1ad54c328b",
   "metadata": {},
   "source": [
    "### 3.14 review_scores_cleanliness"
   ]
  },
  {
   "cell_type": "code",
   "execution_count": 2717,
   "id": "ae8b5ad3-8643-478e-a270-891fc74112cc",
   "metadata": {},
   "outputs": [
    {
     "data": {
      "text/plain": [
       "count    11854.000000\n",
       "mean         4.618333\n",
       "std          0.461061\n",
       "min          1.000000\n",
       "25%          4.500000\n",
       "50%          4.740000\n",
       "75%          4.910000\n",
       "max          5.000000\n",
       "Name: review_scores_cleanliness, dtype: float64"
      ]
     },
     "execution_count": 2717,
     "metadata": {},
     "output_type": "execute_result"
    }
   ],
   "source": [
    "df2[\"review_scores_cleanliness\"].describe()"
   ]
  },
  {
   "cell_type": "code",
   "execution_count": 2718,
   "id": "a2dac8f2-fccc-4802-9c47-27a03b7a689b",
   "metadata": {},
   "outputs": [
    {
     "data": {
      "image/png": "[encoded data removed]",
      "text/plain": [
       "<Figure size 640x480 with 1 Axes>"
      ]
     },
     "metadata": {},
     "output_type": "display_data"
    }
   ],
   "source": [
    "sns.histplot(data = df2, x='review_scores_cleanliness')\n",
    "plt.show()"
   ]
  },
  {
   "cell_type": "code",
   "execution_count": 2719,
   "id": "acf9f1ef-cf84-4f48-a2cc-c4197435de13",
   "metadata": {},
   "outputs": [],
   "source": [
    "# Reemplazar valores faltantes por media\n",
    "df2['review_scores_cleanliness'] = df2['review_scores_cleanliness'].fillna(df2['review_scores_cleanliness'].mean())"
   ]
  },
  {
   "cell_type": "code",
   "execution_count": 2720,
   "id": "411333ec-4537-4c66-a08e-c8631a11a4e5",
   "metadata": {},
   "outputs": [
    {
     "data": {
      "text/plain": [
       "0"
      ]
     },
     "execution_count": 2720,
     "metadata": {},
     "output_type": "execute_result"
    }
   ],
   "source": [
    "# Comprobación valores nulos \n",
    "df2[\"review_scores_cleanliness\"].isnull().sum()"
   ]
  },
  {
   "cell_type": "markdown",
   "id": "9c178333-a582-4a61-b0cf-4c1a5056c461",
   "metadata": {},
   "source": [
    "### 3.15 last_review"
   ]
  },
  {
   "cell_type": "code",
   "execution_count": 2722,
   "id": "89c7dfb4-6151-4a29-8a5d-a075231000a3",
   "metadata": {},
   "outputs": [
    {
     "data": {
      "text/plain": [
       "count          11872\n",
       "unique          1023\n",
       "top       2024-06-09\n",
       "freq             393\n",
       "Name: last_review, dtype: object"
      ]
     },
     "execution_count": 2722,
     "metadata": {},
     "output_type": "execute_result"
    }
   ],
   "source": [
    "df2[\"last_review\"].describe()"
   ]
  },
  {
   "cell_type": "code",
   "execution_count": 2723,
   "id": "bfd2e419-9b8e-4ef3-89b0-1a9b62b121e2",
   "metadata": {},
   "outputs": [
    {
     "data": {
      "text/plain": [
       "3317"
      ]
     },
     "execution_count": 2723,
     "metadata": {},
     "output_type": "execute_result"
    }
   ],
   "source": [
    "# Comprobación nulos \n",
    "df2[\"last_review\"].isnull().sum()"
   ]
  },
  {
   "cell_type": "code",
   "execution_count": 2724,
   "id": "220836bf-d9b6-47dd-aa36-2c4cff52299e",
   "metadata": {},
   "outputs": [],
   "source": [
    "# Convertir la columna last_review a formato datetime\n",
    "df2['last_review'] = pd.to_datetime(df2['last_review'])"
   ]
  },
  {
   "cell_type": "code",
   "execution_count": 2725,
   "id": "8dde1326-380f-4b02-a449-dfe74e1bb143",
   "metadata": {},
   "outputs": [],
   "source": [
    "# Crear un objeto Timestamp específico\n",
    "fecha_especifica = pd.Timestamp('2024-08-05')"
   ]
  },
  {
   "cell_type": "code",
   "execution_count": 2726,
   "id": "2df79347-bbd5-400f-8e79-8cd281a3e297",
   "metadata": {},
   "outputs": [],
   "source": [
    "# Calcular la diferencia en días entre fecha_especifica y last_review\n",
    "df2['last_review'] = (fecha_especifica - df2['last_review']).dt.days"
   ]
  },
  {
   "cell_type": "code",
   "execution_count": 2727,
   "id": "b62dbfa2-3a01-46bc-9af3-581faac2acb7",
   "metadata": {},
   "outputs": [
    {
     "data": {
      "text/plain": [
       "count    11872.000000\n",
       "mean       193.116240\n",
       "std        344.626397\n",
       "min         52.000000\n",
       "25%         63.000000\n",
       "50%         75.000000\n",
       "75%        156.000000\n",
       "max       4792.000000\n",
       "Name: last_review, dtype: float64"
      ]
     },
     "execution_count": 2727,
     "metadata": {},
     "output_type": "execute_result"
    }
   ],
   "source": [
    "df2['last_review'].describe()"
   ]
  },
  {
   "cell_type": "code",
   "execution_count": 2728,
   "id": "a671cf5b-850e-4a36-8513-e827cb0092e8",
   "metadata": {},
   "outputs": [],
   "source": [
    "# Calcular el promedio de los días en la columna 'last_review' del DataFrame df2\n",
    "promedio_dias = df2['last_review'].mean()"
   ]
  },
  {
   "cell_type": "code",
   "execution_count": 2729,
   "id": "ad2e0270-f44e-4b52-bf3f-3c51343ad934",
   "metadata": {},
   "outputs": [],
   "source": [
    "# Reemplazar valores NaN en 'last_review' con el promedio calculado\n",
    "df2['last_review'] = df2['last_review'].fillna(promedio_dias)"
   ]
  },
  {
   "cell_type": "code",
   "execution_count": 2730,
   "id": "5e2e5d8b-7924-4e8d-aac5-c4269c067ed4",
   "metadata": {},
   "outputs": [
    {
     "data": {
      "text/plain": [
       "0"
      ]
     },
     "execution_count": 2730,
     "metadata": {},
     "output_type": "execute_result"
    }
   ],
   "source": [
    "# Comprobación valores nulos \n",
    "df2[\"last_review\"].isnull().sum()"
   ]
  },
  {
   "cell_type": "markdown",
   "id": "325cca56-ca6a-4f4d-a1de-f01836740f74",
   "metadata": {},
   "source": [
    "### 3.16 bedrooms"
   ]
  },
  {
   "cell_type": "code",
   "execution_count": 2732,
   "id": "179e99e6-a0bd-4a93-baff-6538a80b7fda",
   "metadata": {},
   "outputs": [
    {
     "data": {
      "text/plain": [
       "10"
      ]
     },
     "execution_count": 2732,
     "metadata": {},
     "output_type": "execute_result"
    }
   ],
   "source": [
    "# Comprobación valores nulos\n",
    "df2['bedrooms'].isnull().sum()"
   ]
  },
  {
   "cell_type": "code",
   "execution_count": 2733,
   "id": "bb1829d4-7759-42ae-94c4-74e5914b3f99",
   "metadata": {},
   "outputs": [
    {
     "data": {
      "image/png": "[encoded data removed]",
      "text/plain": [
       "<Figure size 500x300 with 1 Axes>"
      ]
     },
     "metadata": {},
     "output_type": "display_data"
    }
   ],
   "source": [
    "plt.figure(figsize = (5,3))\n",
    "sns.countplot(data = df2, x = \"bedrooms\")\n",
    "plt.xticks(rotation = 90)\n",
    "plt.show()"
   ]
  },
  {
   "cell_type": "code",
   "execution_count": 2734,
   "id": "c33fca1b-66b0-4be5-bd93-c0402841299e",
   "metadata": {},
   "outputs": [],
   "source": [
    "# Convertir los valores mayores a 12 en NaN\n",
    "df2.loc[df2['bedrooms'] > 12, 'bedrooms'] = np.nan"
   ]
  },
  {
   "cell_type": "code",
   "execution_count": 2735,
   "id": "9e651f58-35d3-40d3-9c95-40a6fe0044f5",
   "metadata": {},
   "outputs": [],
   "source": [
    "#Crear matriz de correlacion entre bedrooms i price \n",
    "df_subset = df2[['price', 'bedrooms']]"
   ]
  },
  {
   "cell_type": "code",
   "execution_count": 2736,
   "id": "b248b722-91b1-48b1-a3d6-171ea42c88cb",
   "metadata": {},
   "outputs": [
    {
     "data": {
      "text/plain": [
       "<Axes: >"
      ]
     },
     "execution_count": 2736,
     "metadata": {},
     "output_type": "execute_result"
    },
    {
     "data": {
      "image/png": "[encoded data removed]",
      "text/plain": [
       "<Figure size 640x480 with 2 Axes>"
      ]
     },
     "metadata": {},
     "output_type": "display_data"
    }
   ],
   "source": [
    "sns.heatmap(\n",
    "    df_subset.corr(),\n",
    "    annot = True,\n",
    "    cmap = \"coolwarm\"\n",
    ")"
   ]
  },
  {
   "cell_type": "code",
   "execution_count": 2737,
   "id": "5d02653f-c5af-4210-b54d-778cfbcc133a",
   "metadata": {},
   "outputs": [],
   "source": [
    "# La relación entre 'bedrooms' y 'price' es demasiado baja para justificar el uso de una regresión lineal. \n",
    "# Se usará la media para reemplazar los valores faltantes."
   ]
  },
  {
   "cell_type": "code",
   "execution_count": 2738,
   "id": "8ec8b71c-da7e-4a99-b3b5-b49cc7fad1d9",
   "metadata": {},
   "outputs": [],
   "source": [
    "# Calcular la media de la columna 'bedrooms'\n",
    "mean_value = df2['bedrooms'].mean()"
   ]
  },
  {
   "cell_type": "code",
   "execution_count": 2739,
   "id": "92a0aee9-27c4-4a48-8270-3f0a95c3b7cb",
   "metadata": {},
   "outputs": [],
   "source": [
    "# Sustituir los valores nulos por la media\n",
    "df2['bedrooms'] = df2['bedrooms'].fillna(mean_value)"
   ]
  },
  {
   "cell_type": "code",
   "execution_count": 2740,
   "id": "a9bf9f36-689b-4aaa-a1e5-ff88191c5297",
   "metadata": {},
   "outputs": [
    {
     "data": {
      "text/plain": [
       "0"
      ]
     },
     "execution_count": 2740,
     "metadata": {},
     "output_type": "execute_result"
    }
   ],
   "source": [
    "# Comprobación valores nulos \n",
    "df2['bedrooms'].isnull().sum()"
   ]
  },
  {
   "cell_type": "markdown",
   "id": "2f766e99-ab4c-4014-8a59-d3820d741b26",
   "metadata": {},
   "source": [
    "### 3.17 beds"
   ]
  },
  {
   "cell_type": "code",
   "execution_count": 2742,
   "id": "a0208c20-f1db-41f8-abef-807a7fa1790d",
   "metadata": {},
   "outputs": [
    {
     "data": {
      "image/png": "[encoded data removed]",
      "text/plain": [
       "<Figure size 500x300 with 1 Axes>"
      ]
     },
     "metadata": {},
     "output_type": "display_data"
    }
   ],
   "source": [
    "plt.figure(figsize = (5,3))\n",
    "sns.countplot(data = df2, x = \"beds\")\n",
    "plt.xticks(rotation = 90)\n",
    "plt.show()"
   ]
  },
  {
   "cell_type": "code",
   "execution_count": 2743,
   "id": "a9c0201a-4391-4b0c-b80f-4586c8f1370c",
   "metadata": {},
   "outputs": [
    {
     "data": {
      "text/plain": [
       "102"
      ]
     },
     "execution_count": 2743,
     "metadata": {},
     "output_type": "execute_result"
    }
   ],
   "source": [
    "# Comprobación valores nulos \n",
    "df2['beds'].isnull().sum()"
   ]
  },
  {
   "cell_type": "code",
   "execution_count": 2744,
   "id": "ef0e512b-d875-422f-9e52-350974f30e0e",
   "metadata": {},
   "outputs": [],
   "source": [
    "# Crear matriz de correlacion entre 'beds' y 'price' \n",
    "df_subset1 = df2[['price', 'beds']]"
   ]
  },
  {
   "cell_type": "code",
   "execution_count": 2745,
   "id": "85c19e77-d126-40c3-9551-ee7e11f78f3d",
   "metadata": {},
   "outputs": [
    {
     "data": {
      "text/plain": [
       "<Axes: >"
      ]
     },
     "execution_count": 2745,
     "metadata": {},
     "output_type": "execute_result"
    },
    {
     "data": {
      "image/png": "[encoded data removed]",
      "text/plain": [
       "<Figure size 640x480 with 2 Axes>"
      ]
     },
     "metadata": {},
     "output_type": "display_data"
    }
   ],
   "source": [
    "sns.heatmap(\n",
    "    df_subset1.corr(),\n",
    "    annot = True,\n",
    "    cmap = \"coolwarm\"\n",
    ")"
   ]
  },
  {
   "cell_type": "code",
   "execution_count": 2746,
   "id": "06828371-2418-4f01-abf6-92264d63a834",
   "metadata": {},
   "outputs": [],
   "source": [
    "# Convertir los valores mayores a 20 en NaN\n",
    "df2.loc[df2['beds'] > 20, 'beds'] = np.nan"
   ]
  },
  {
   "cell_type": "code",
   "execution_count": 2747,
   "id": "f0b59fba-36a1-4ac7-8454-6a99d57791e7",
   "metadata": {},
   "outputs": [],
   "source": [
    "# Calcular la media de la columna 'beds'\n",
    "mean_value1 = df2['beds'].mean()"
   ]
  },
  {
   "cell_type": "code",
   "execution_count": 2748,
   "id": "890c9bb9-e0fc-4118-90a1-935782d7b0f6",
   "metadata": {},
   "outputs": [],
   "source": [
    "# Sustituir los valores nulos por la media\n",
    "df2['beds'] = df2['beds'].fillna(mean_value1)"
   ]
  },
  {
   "cell_type": "code",
   "execution_count": 2749,
   "id": "eb6bda7f-3f32-4bb6-b71b-b9179c3bd967",
   "metadata": {},
   "outputs": [
    {
     "data": {
      "text/plain": [
       "0"
      ]
     },
     "execution_count": 2749,
     "metadata": {},
     "output_type": "execute_result"
    }
   ],
   "source": [
    "# Comprobación valores nulos \n",
    "df2['beds'].isnull().sum()"
   ]
  },
  {
   "cell_type": "markdown",
   "id": "2d8feeca-f109-45c6-a0c6-d1eab4488587",
   "metadata": {},
   "source": [
    "### 3.18 minimum_nights"
   ]
  },
  {
   "cell_type": "code",
   "execution_count": 2751,
   "id": "bb5b83ce-af8a-4d68-ad74-90371165ea08",
   "metadata": {},
   "outputs": [
    {
     "data": {
      "text/plain": [
       "0"
      ]
     },
     "execution_count": 2751,
     "metadata": {},
     "output_type": "execute_result"
    }
   ],
   "source": [
    "# Comprobación valores nulos \n",
    "df2['minimum_nights'].isnull().sum()"
   ]
  },
  {
   "cell_type": "code",
   "execution_count": 2752,
   "id": "5f2862f8-dd2f-432f-9312-960b9ad1746f",
   "metadata": {},
   "outputs": [],
   "source": [
    "# Convertir los valores mayores a 400 en NaN\n",
    "df2.loc[df2['minimum_nights'] > 400, 'minimum_nights'] = np.nan"
   ]
  },
  {
   "cell_type": "code",
   "execution_count": 2753,
   "id": "e8f47dee-974c-43ec-9a30-9cb5bc0a5177",
   "metadata": {},
   "outputs": [
    {
     "data": {
      "image/png": "[encoded data removed]",
      "text/plain": [
       "<Figure size 640x480 with 1 Axes>"
      ]
     },
     "metadata": {},
     "output_type": "display_data"
    }
   ],
   "source": [
    "sns.boxplot(y=df['minimum_nights'], color='lightblue')\n",
    "\n",
    "# Añadir etiquetas y título\n",
    "plt.ylabel('Noches')\n",
    "plt.title('Diagrama de Caja de noches minimas')\n",
    "\n",
    "# Mostrar la gráfica\n",
    "plt.show()"
   ]
  },
  {
   "cell_type": "code",
   "execution_count": 2754,
   "id": "96df5f2d-537c-4cea-be58-9f6d158edefc",
   "metadata": {},
   "outputs": [],
   "source": [
    "# Calcular la mediana de la columna 'minimum_nights'\n",
    "median_value = df2['minimum_nights'].median()"
   ]
  },
  {
   "cell_type": "code",
   "execution_count": 2755,
   "id": "5069184c-207b-4c30-9e64-9d11fe62c737",
   "metadata": {},
   "outputs": [],
   "source": [
    "#Sustituir nulos por la mediana\n",
    "df2['minimum_nights'] = df2['minimum_nights'].fillna(median_value)"
   ]
  },
  {
   "cell_type": "markdown",
   "id": "550c63d4-ced6-4a00-b7a7-0c4326347308",
   "metadata": {},
   "source": [
    "### 3.19 maximum_nights"
   ]
  },
  {
   "cell_type": "code",
   "execution_count": 2757,
   "id": "955ee203-af64-46b1-9598-88c4c1dfbc97",
   "metadata": {},
   "outputs": [
    {
     "data": {
      "text/plain": [
       "0"
      ]
     },
     "execution_count": 2757,
     "metadata": {},
     "output_type": "execute_result"
    }
   ],
   "source": [
    "# Comprobación valores nulos \n",
    "df2['maximum_nights'].isnull().sum()"
   ]
  },
  {
   "cell_type": "code",
   "execution_count": 2758,
   "id": "d6025858-f2f6-4710-ba88-ca93b7d6345c",
   "metadata": {},
   "outputs": [
    {
     "data": {
      "image/png": "[encoded data removed]",
      "text/plain": [
       "<Figure size 640x480 with 1 Axes>"
      ]
     },
     "metadata": {},
     "output_type": "display_data"
    }
   ],
   "source": [
    "sns.boxplot(y=df['maximum_nights'], color='lightblue')\n",
    "\n",
    "# Añadir etiquetas y título\n",
    "plt.ylabel('Noches')\n",
    "plt.title('Diagrama de Caja de noches maximas')\n",
    "\n",
    "# Mostrar la gráfica\n",
    "plt.show()"
   ]
  },
  {
   "cell_type": "code",
   "execution_count": 2759,
   "id": "7ad9da49-87eb-4ebf-b66a-ae965e8bf828",
   "metadata": {},
   "outputs": [],
   "source": [
    "# Convertir los valores mayores a 400 en NaN\n",
    "df2.loc[df2['maximum_nights'] > 1500, 'maximum_nights'] = np.nan"
   ]
  },
  {
   "cell_type": "code",
   "execution_count": 2760,
   "id": "3be5db28-28fb-4d2e-83f0-8ebea1a9b1d6",
   "metadata": {},
   "outputs": [],
   "source": [
    "# Calcular la mediana de la columna 'maximum_nights'\n",
    "median_value = df2['maximum_nights'].median()"
   ]
  },
  {
   "cell_type": "code",
   "execution_count": 2761,
   "id": "e4aa0d91-65da-43ad-855d-63436a3f0e1b",
   "metadata": {},
   "outputs": [],
   "source": [
    "# Sustituir nulos por la mediana\n",
    "df2['maximum_nights'] = df2['maximum_nights'].fillna(median_value)"
   ]
  },
  {
   "cell_type": "code",
   "execution_count": 3045,
   "id": "3f15b5a2-7c5f-454c-91d3-5c39c718fa53",
   "metadata": {
    "collapsed": true,
    "jupyter": {
     "outputs_hidden": true
    }
   },
   "outputs": [
    {
     "data": {
      "text/plain": [
       "array([7.600e+02, 1.125e+03, 3.200e+01, 3.100e+01, 1.200e+02, 3.650e+02,\n",
       "       3.640e+02, 9.000e+01, 7.300e+02, 2.800e+01, 1.500e+02, 1.000e+03,\n",
       "       3.300e+02, 6.000e+00, 6.000e+01, 3.000e+01, 6.600e+01, 3.000e+02,\n",
       "       2.100e+02, 2.700e+01, 1.800e+02, 1.000e+01, 1.300e+02, 3.200e+02,\n",
       "       3.500e+02, 1.500e+01, 4.000e+02, 4.500e+01, 4.000e+01, 3.330e+02,\n",
       "       3.600e+02, 1.800e+01, 1.600e+02, 9.100e+01, 6.000e+02, 1.124e+03,\n",
       "       6.200e+01, 1.700e+01, 3.000e+00, 1.000e+02, 3.500e+01, 5.000e+01,\n",
       "       9.300e+01, 4.500e+02, 2.000e+01, 1.240e+02, 5.000e+02, 3.410e+02,\n",
       "       2.000e+02, 2.100e+01, 3.300e+01, 9.200e+01, 1.121e+03, 1.122e+03,\n",
       "       3.400e+02, 1.860e+02, 7.000e+01, 6.300e+02, 7.000e+00, 5.000e+00,\n",
       "       1.250e+02, 2.900e+01, 1.280e+02, 2.500e+02, 9.500e+01, 1.111e+03,\n",
       "       1.900e+02, 1.990e+02, 2.700e+02, 7.000e+02, 1.400e+01, 1.100e+03,\n",
       "       2.500e+01, 3.600e+01, 4.000e+00, 6.400e+01, 8.000e+00, 1.123e+03,\n",
       "       3.550e+02, 3.310e+02, 9.990e+02, 9.000e+00, 3.660e+02, 1.120e+03,\n",
       "       2.800e+02, 1.300e+01, 3.340e+02, 1.100e+01, 3.350e+02, 8.400e+01,\n",
       "       8.000e+01, 2.600e+01, 1.200e+01, 9.900e+01, 2.400e+02, 2.300e+02,\n",
       "       8.900e+01, 1.450e+02, 3.070e+02, 7.800e+01, 2.200e+01, 1.580e+02,\n",
       "       3.800e+01, 1.760e+02, 5.990e+02, 3.900e+02, 3.700e+02, 3.800e+02,\n",
       "       3.150e+02, 1.750e+02, 3.520e+02, 1.840e+02, 3.100e+02, 2.990e+02,\n",
       "       1.600e+01, 1.095e+03, 6.300e+01, 9.600e+01, 3.290e+02, 1.830e+02,\n",
       "       1.400e+02, 9.000e+02, 1.120e+02, 3.250e+02, 3.710e+02, 4.100e+01,\n",
       "       7.990e+02, 4.990e+02, 6.600e+02, 4.200e+01, 3.900e+01, 3.690e+02,\n",
       "       3.990e+02, 2.290e+02, 8.100e+01, 6.500e+01, 1.110e+03, 5.800e+01,\n",
       "       3.680e+02, 1.700e+02, 7.500e+01, 3.040e+02, 1.050e+02, 7.350e+02,\n",
       "       1.220e+02, 3.450e+02, 2.900e+02, 1.680e+02, 4.400e+01, 2.040e+02,\n",
       "       3.560e+02, 4.160e+02, 4.650e+02, 1.820e+02, 4.700e+01, 6.060e+02,\n",
       "       2.600e+02, 3.590e+02, 3.280e+02, 2.550e+02, 3.630e+02, 6.100e+01,\n",
       "       1.260e+02, 7.700e+01, 7.200e+02, 6.700e+01, 1.850e+02, 4.600e+01,\n",
       "       3.320e+02, 4.800e+01, 1.000e+00, 9.700e+01, 1.920e+02, 2.000e+00,\n",
       "       3.440e+02, 3.360e+02, 3.980e+02, 3.270e+02, 5.100e+01, 1.650e+02,\n",
       "       3.670e+02, 5.400e+02, 2.260e+02, 5.500e+01, 2.650e+02, 9.800e+01,\n",
       "       2.200e+02, 1.960e+02, 1.310e+02, 2.250e+02, 1.010e+02, 1.290e+02])"
      ]
     },
     "execution_count": 3045,
     "metadata": {},
     "output_type": "execute_result"
    }
   ],
   "source": [
    "# Comprobación valores únicos\n",
    "df2['maximum_nights'].unique()"
   ]
  },
  {
   "cell_type": "code",
   "execution_count": 3047,
   "id": "63bd1ea0-489f-4057-b9d7-12f3ae95da78",
   "metadata": {},
   "outputs": [],
   "source": [
    "# Convertir los valores de la columna 'maximum_nights' a cadenas con formato decimal\n",
    "df2['maximum_nights'] = df2['maximum_nights'].apply(lambda x: '{:.2f}'.format(x))"
   ]
  },
  {
   "cell_type": "code",
   "execution_count": 3049,
   "id": "7b33f259-aa21-4cc1-8b56-3faeb2648787",
   "metadata": {
    "collapsed": true,
    "jupyter": {
     "outputs_hidden": true
    }
   },
   "outputs": [
    {
     "data": {
      "text/plain": [
       "array(['760.00', '1125.00', '32.00', '31.00', '120.00', '365.00',\n",
       "       '364.00', '90.00', '730.00', '28.00', '150.00', '1000.00',\n",
       "       '330.00', '6.00', '60.00', '30.00', '66.00', '300.00', '210.00',\n",
       "       '27.00', '180.00', '10.00', '130.00', '320.00', '350.00', '15.00',\n",
       "       '400.00', '45.00', '40.00', '333.00', '360.00', '18.00', '160.00',\n",
       "       '91.00', '600.00', '1124.00', '62.00', '17.00', '3.00', '100.00',\n",
       "       '35.00', '50.00', '93.00', '450.00', '20.00', '124.00', '500.00',\n",
       "       '341.00', '200.00', '21.00', '33.00', '92.00', '1121.00',\n",
       "       '1122.00', '340.00', '186.00', '70.00', '630.00', '7.00', '5.00',\n",
       "       '125.00', '29.00', '128.00', '250.00', '95.00', '1111.00',\n",
       "       '190.00', '199.00', '270.00', '700.00', '14.00', '1100.00',\n",
       "       '25.00', '36.00', '4.00', '64.00', '8.00', '1123.00', '355.00',\n",
       "       '331.00', '999.00', '9.00', '366.00', '1120.00', '280.00', '13.00',\n",
       "       '334.00', '11.00', '335.00', '84.00', '80.00', '26.00', '12.00',\n",
       "       '99.00', '240.00', '230.00', '89.00', '145.00', '307.00', '78.00',\n",
       "       '22.00', '158.00', '38.00', '176.00', '599.00', '390.00', '370.00',\n",
       "       '380.00', '315.00', '175.00', '352.00', '184.00', '310.00',\n",
       "       '299.00', '16.00', '1095.00', '63.00', '96.00', '329.00', '183.00',\n",
       "       '140.00', '900.00', '112.00', '325.00', '371.00', '41.00',\n",
       "       '799.00', '499.00', '660.00', '42.00', '39.00', '369.00', '399.00',\n",
       "       '229.00', '81.00', '65.00', '1110.00', '58.00', '368.00', '170.00',\n",
       "       '75.00', '304.00', '105.00', '735.00', '122.00', '345.00',\n",
       "       '290.00', '168.00', '44.00', '204.00', '356.00', '416.00',\n",
       "       '465.00', '182.00', '47.00', '606.00', '260.00', '359.00',\n",
       "       '328.00', '255.00', '363.00', '61.00', '126.00', '77.00', '720.00',\n",
       "       '67.00', '185.00', '46.00', '332.00', '48.00', '1.00', '97.00',\n",
       "       '192.00', '2.00', '344.00', '336.00', '398.00', '327.00', '51.00',\n",
       "       '165.00', '367.00', '540.00', '226.00', '55.00', '265.00', '98.00',\n",
       "       '220.00', '196.00', '131.00', '225.00', '101.00', '129.00'],\n",
       "      dtype=object)"
      ]
     },
     "execution_count": 3049,
     "metadata": {},
     "output_type": "execute_result"
    }
   ],
   "source": [
    "# Comprobación valores únicos\n",
    "df2['maximum_nights'].unique()"
   ]
  },
  {
   "cell_type": "markdown",
   "id": "2d260c3e-4afd-4969-9fd6-d2ef5ab7a45e",
   "metadata": {},
   "source": [
    "### 3.20 review_scores_checkin"
   ]
  },
  {
   "cell_type": "code",
   "execution_count": 2763,
   "id": "6d2c48ee-c8e1-46d7-b166-95161c9aa284",
   "metadata": {},
   "outputs": [
    {
     "data": {
      "text/plain": [
       "3335"
      ]
     },
     "execution_count": 2763,
     "metadata": {},
     "output_type": "execute_result"
    }
   ],
   "source": [
    "# Comprobación valores nulos\n",
    "df2.review_scores_checkin.isnull().sum()"
   ]
  },
  {
   "cell_type": "code",
   "execution_count": 2764,
   "id": "609d0165-0819-47d0-8bdb-ebc32e79ae06",
   "metadata": {},
   "outputs": [
    {
     "data": {
      "image/png": "[encoded data removed]",
      "text/plain": [
       "<Figure size 640x480 with 1 Axes>"
      ]
     },
     "metadata": {},
     "output_type": "display_data"
    }
   ],
   "source": [
    "sns.histplot(data = df2, x='review_scores_checkin')\n",
    "plt.show()"
   ]
  },
  {
   "cell_type": "code",
   "execution_count": 2765,
   "id": "aab014df-c777-471d-8775-5ac981e90ac5",
   "metadata": {},
   "outputs": [],
   "source": [
    "# Completar valor nulos con la media\n",
    "media_checkin =  round(df2['review_scores_checkin'].mean(), 6)\n",
    "\n",
    "df2['review_scores_checkin'] = df2['review_scores_checkin'].fillna(media_checkin)"
   ]
  },
  {
   "cell_type": "code",
   "execution_count": 2766,
   "id": "a72298c6-bdc5-48a2-9efb-d735aa5681e1",
   "metadata": {},
   "outputs": [
    {
     "data": {
      "text/plain": [
       "0"
      ]
     },
     "execution_count": 2766,
     "metadata": {},
     "output_type": "execute_result"
    }
   ],
   "source": [
    "# Comprobación valores nulos\n",
    "df2.review_scores_checkin.isnull().sum()"
   ]
  },
  {
   "cell_type": "markdown",
   "id": "c450b4f7-89c6-4425-b244-14634e8ee7e5",
   "metadata": {},
   "source": [
    "### 3.21 review_scores_communication"
   ]
  },
  {
   "cell_type": "code",
   "execution_count": 2768,
   "id": "567ecfb2-0bd9-4cf9-96b3-5147105c8839",
   "metadata": {},
   "outputs": [
    {
     "data": {
      "text/plain": [
       "3334"
      ]
     },
     "execution_count": 2768,
     "metadata": {},
     "output_type": "execute_result"
    }
   ],
   "source": [
    "# Comprobación valores nulos\n",
    "df2.review_scores_communication.isnull().sum()"
   ]
  },
  {
   "cell_type": "code",
   "execution_count": 2769,
   "id": "b84e8979-da6c-4538-81ac-0f27ed90ef16",
   "metadata": {},
   "outputs": [
    {
     "data": {
      "image/png": "[encoded data removed]",
      "text/plain": [
       "<Figure size 640x480 with 1 Axes>"
      ]
     },
     "metadata": {},
     "output_type": "display_data"
    }
   ],
   "source": [
    "sns.histplot(data = df2, x='review_scores_communication')\n",
    "plt.show()"
   ]
  },
  {
   "cell_type": "code",
   "execution_count": 2770,
   "id": "fdde81d8-c9a7-47bd-b893-543c531c7f49",
   "metadata": {},
   "outputs": [],
   "source": [
    "# Completar valor nulos con la media\n",
    "media_communication = df2['review_scores_communication'].mean()\n",
    "\n",
    "df2['review_scores_communication'] = df2['review_scores_communication'].fillna(media_communication)"
   ]
  },
  {
   "cell_type": "code",
   "execution_count": 2771,
   "id": "ba40800d-081f-4d6d-9c41-9416a53761f8",
   "metadata": {},
   "outputs": [
    {
     "data": {
      "text/plain": [
       "0"
      ]
     },
     "execution_count": 2771,
     "metadata": {},
     "output_type": "execute_result"
    }
   ],
   "source": [
    "# Comprobación valores nulos\n",
    "df2.review_scores_communication.isnull().sum()"
   ]
  },
  {
   "cell_type": "markdown",
   "id": "ba98cc57-07c0-4eff-b79b-3b0e945d39c6",
   "metadata": {},
   "source": [
    "### 3.22 review_scores_location"
   ]
  },
  {
   "cell_type": "code",
   "execution_count": 2773,
   "id": "05ca3f92-b35c-4382-90cf-b0690e3f8a81",
   "metadata": {},
   "outputs": [
    {
     "data": {
      "text/plain": [
       "3335"
      ]
     },
     "execution_count": 2773,
     "metadata": {},
     "output_type": "execute_result"
    }
   ],
   "source": [
    "# Comprobación valores nulos\n",
    "df2.review_scores_location.isnull().sum()"
   ]
  },
  {
   "cell_type": "code",
   "execution_count": 2774,
   "id": "e4f05f07-2de9-4503-b91e-99560e5670f0",
   "metadata": {},
   "outputs": [
    {
     "data": {
      "image/png": "[encoded data removed]",
      "text/plain": [
       "<Figure size 640x480 with 1 Axes>"
      ]
     },
     "metadata": {},
     "output_type": "display_data"
    }
   ],
   "source": [
    "sns.histplot(data = df2, x='review_scores_location')\n",
    "plt.show()"
   ]
  },
  {
   "cell_type": "code",
   "execution_count": 2775,
   "id": "aee74ed7-d122-44c0-82c1-f6fbb150f883",
   "metadata": {},
   "outputs": [],
   "source": [
    "# Completar valor nulos con la media\n",
    "media_location = df2['review_scores_location'].mean()\n",
    "\n",
    "df2['review_scores_location'] = df2['review_scores_location'].fillna(media_location)"
   ]
  },
  {
   "cell_type": "code",
   "execution_count": 2776,
   "id": "6349d440-57d9-4402-a673-d2369723f5f5",
   "metadata": {},
   "outputs": [
    {
     "data": {
      "text/plain": [
       "0"
      ]
     },
     "execution_count": 2776,
     "metadata": {},
     "output_type": "execute_result"
    }
   ],
   "source": [
    "# Comprobación valores nulos\n",
    "df2.review_scores_location.isnull().sum()"
   ]
  },
  {
   "cell_type": "markdown",
   "id": "0042c57f-967a-46d4-841d-f09beb262982",
   "metadata": {},
   "source": [
    "### 3.23 review_scores_value"
   ]
  },
  {
   "cell_type": "code",
   "execution_count": 2778,
   "id": "9dd53770-931d-4322-afa6-e7207cecaf41",
   "metadata": {},
   "outputs": [
    {
     "data": {
      "text/plain": [
       "3334"
      ]
     },
     "execution_count": 2778,
     "metadata": {},
     "output_type": "execute_result"
    }
   ],
   "source": [
    "# Comprobación valores nulos\n",
    "df2.review_scores_value.isnull().sum()"
   ]
  },
  {
   "cell_type": "code",
   "execution_count": 2779,
   "id": "c0109db5-db68-4907-a6b7-0957a6be4a2e",
   "metadata": {},
   "outputs": [
    {
     "data": {
      "image/png": "[encoded data removed]",
      "text/plain": [
       "<Figure size 640x480 with 1 Axes>"
      ]
     },
     "metadata": {},
     "output_type": "display_data"
    }
   ],
   "source": [
    "sns.histplot(data = df2, x='review_scores_value')\n",
    "plt.show()"
   ]
  },
  {
   "cell_type": "code",
   "execution_count": 2780,
   "id": "db6fe5e3-9bfb-4a75-b625-d7c8e447018b",
   "metadata": {},
   "outputs": [],
   "source": [
    "# Completar valor nulos con la media\n",
    "media_value = df2['review_scores_value'].mean()\n",
    "\n",
    "df2['review_scores_value'] = df2['review_scores_value'].fillna(media_value)"
   ]
  },
  {
   "cell_type": "code",
   "execution_count": 2781,
   "id": "9758dc87-5ea4-4867-ad2d-b6000f41b4b9",
   "metadata": {},
   "outputs": [
    {
     "data": {
      "text/plain": [
       "0"
      ]
     },
     "execution_count": 2781,
     "metadata": {},
     "output_type": "execute_result"
    }
   ],
   "source": [
    "# Comprobación valores nulos\n",
    "df2.review_scores_value.isnull().sum()"
   ]
  },
  {
   "cell_type": "markdown",
   "id": "c117e573-a658-4166-9f3f-00354a0da650",
   "metadata": {},
   "source": [
    "### 3.24 license"
   ]
  },
  {
   "cell_type": "code",
   "execution_count": 2783,
   "id": "e347be74-2116-4540-9207-5f1a552ff637",
   "metadata": {},
   "outputs": [],
   "source": [
    "# A partir de esta columna, creamos otra llamada 'has_license' que indique True si la columna tiene info, else false\n",
    "df2['has_license'] = df2['license'].notna()"
   ]
  },
  {
   "cell_type": "code",
   "execution_count": 2784,
   "id": "15e89238-4b68-4734-8e01-4a64a62f234f",
   "metadata": {},
   "outputs": [
    {
     "data": {
      "text/html": [
       "<div>\n",
       "<style scoped>\n",
       "    .dataframe tbody tr th:only-of-type {\n",
       "        vertical-align: middle;\n",
       "    }\n",
       "\n",
       "    .dataframe tbody tr th {\n",
       "        vertical-align: top;\n",
       "    }\n",
       "\n",
       "    .dataframe thead th {\n",
       "        text-align: right;\n",
       "    }\n",
       "</style>\n",
       "<table border=\"1\" class=\"dataframe\">\n",
       "  <thead>\n",
       "    <tr style=\"text-align: right;\">\n",
       "      <th></th>\n",
       "      <th>description</th>\n",
       "      <th>name</th>\n",
       "      <th>host_since</th>\n",
       "      <th>host_location</th>\n",
       "      <th>host_is_superhost</th>\n",
       "      <th>host_identity_verified</th>\n",
       "      <th>host_has_profile_pic</th>\n",
       "      <th>neighbourhood</th>\n",
       "      <th>latitude</th>\n",
       "      <th>longitude</th>\n",
       "      <th>...</th>\n",
       "      <th>review_scores_cleanliness</th>\n",
       "      <th>review_scores_checkin</th>\n",
       "      <th>review_scores_communication</th>\n",
       "      <th>review_scores_location</th>\n",
       "      <th>review_scores_value</th>\n",
       "      <th>reviews_per_month</th>\n",
       "      <th>license</th>\n",
       "      <th>instant_bookable</th>\n",
       "      <th>listing_url</th>\n",
       "      <th>type_bathroom</th>\n",
       "    </tr>\n",
       "    <tr>\n",
       "      <th>has_license</th>\n",
       "      <th></th>\n",
       "      <th></th>\n",
       "      <th></th>\n",
       "      <th></th>\n",
       "      <th></th>\n",
       "      <th></th>\n",
       "      <th></th>\n",
       "      <th></th>\n",
       "      <th></th>\n",
       "      <th></th>\n",
       "      <th></th>\n",
       "      <th></th>\n",
       "      <th></th>\n",
       "      <th></th>\n",
       "      <th></th>\n",
       "      <th></th>\n",
       "      <th></th>\n",
       "      <th></th>\n",
       "      <th></th>\n",
       "      <th></th>\n",
       "      <th></th>\n",
       "    </tr>\n",
       "  </thead>\n",
       "  <tbody>\n",
       "    <tr>\n",
       "      <th>False</th>\n",
       "      <td>3992</td>\n",
       "      <td>4163</td>\n",
       "      <td>4163</td>\n",
       "      <td>4163</td>\n",
       "      <td>4163</td>\n",
       "      <td>4163</td>\n",
       "      <td>4163</td>\n",
       "      <td>4163</td>\n",
       "      <td>4163</td>\n",
       "      <td>4163</td>\n",
       "      <td>...</td>\n",
       "      <td>4163</td>\n",
       "      <td>4163</td>\n",
       "      <td>4163</td>\n",
       "      <td>4163</td>\n",
       "      <td>4163</td>\n",
       "      <td>2232</td>\n",
       "      <td>0</td>\n",
       "      <td>4163</td>\n",
       "      <td>4163</td>\n",
       "      <td>4163</td>\n",
       "    </tr>\n",
       "    <tr>\n",
       "      <th>True</th>\n",
       "      <td>10710</td>\n",
       "      <td>11026</td>\n",
       "      <td>11026</td>\n",
       "      <td>11026</td>\n",
       "      <td>11026</td>\n",
       "      <td>11026</td>\n",
       "      <td>11026</td>\n",
       "      <td>11026</td>\n",
       "      <td>11026</td>\n",
       "      <td>11026</td>\n",
       "      <td>...</td>\n",
       "      <td>11026</td>\n",
       "      <td>11026</td>\n",
       "      <td>11026</td>\n",
       "      <td>11026</td>\n",
       "      <td>11026</td>\n",
       "      <td>9640</td>\n",
       "      <td>11026</td>\n",
       "      <td>11026</td>\n",
       "      <td>11026</td>\n",
       "      <td>11026</td>\n",
       "    </tr>\n",
       "  </tbody>\n",
       "</table>\n",
       "<p>2 rows × 36 columns</p>\n",
       "</div>"
      ],
      "text/plain": [
       "             description   name  host_since  host_location  host_is_superhost  \\\n",
       "has_license                                                                     \n",
       "False               3992   4163        4163           4163               4163   \n",
       "True               10710  11026       11026          11026              11026   \n",
       "\n",
       "             host_identity_verified  host_has_profile_pic  neighbourhood  \\\n",
       "has_license                                                                \n",
       "False                          4163                  4163           4163   \n",
       "True                          11026                 11026          11026   \n",
       "\n",
       "             latitude  longitude  ...  review_scores_cleanliness  \\\n",
       "has_license                       ...                              \n",
       "False            4163       4163  ...                       4163   \n",
       "True            11026      11026  ...                      11026   \n",
       "\n",
       "             review_scores_checkin  review_scores_communication  \\\n",
       "has_license                                                       \n",
       "False                         4163                         4163   \n",
       "True                         11026                        11026   \n",
       "\n",
       "             review_scores_location  review_scores_value  reviews_per_month  \\\n",
       "has_license                                                                   \n",
       "False                          4163                 4163               2232   \n",
       "True                          11026                11026               9640   \n",
       "\n",
       "             license  instant_bookable  listing_url  type_bathroom  \n",
       "has_license                                                         \n",
       "False              0              4163         4163           4163  \n",
       "True           11026             11026        11026          11026  \n",
       "\n",
       "[2 rows x 36 columns]"
      ]
     },
     "execution_count": 2784,
     "metadata": {},
     "output_type": "execute_result"
    }
   ],
   "source": [
    "# Contamos los TRUE y FALSE\n",
    "df2.groupby('has_license').count()"
   ]
  },
  {
   "cell_type": "code",
   "execution_count": 2785,
   "id": "ebc2c71c-7b24-48b4-a11e-61e686f8e952",
   "metadata": {},
   "outputs": [],
   "source": [
    "# Convertir columna a tipo de dato booleano\n",
    "df2['has_license'] = df2['has_license'].astype(bool)"
   ]
  },
  {
   "cell_type": "code",
   "execution_count": 3033,
   "id": "cddfd314-42a0-40d0-a776-71ecf9e01248",
   "metadata": {},
   "outputs": [
    {
     "data": {
      "text/plain": [
       "array([ True, False])"
      ]
     },
     "execution_count": 3033,
     "metadata": {},
     "output_type": "execute_result"
    }
   ],
   "source": [
    "# Comprobación valores únicos\n",
    "df2['has_license'].unique()"
   ]
  },
  {
   "cell_type": "code",
   "execution_count": 3031,
   "id": "d0ac4a15-5a00-494d-ad7e-e3fb28ee818f",
   "metadata": {},
   "outputs": [
    {
     "data": {
      "text/plain": [
       "dtype('bool')"
      ]
     },
     "execution_count": 3031,
     "metadata": {},
     "output_type": "execute_result"
    }
   ],
   "source": [
    "# Comprobación tipo columna\n",
    "df2['has_license'].dtype"
   ]
  },
  {
   "cell_type": "code",
   "execution_count": 3025,
   "id": "c56d9946-a1c5-4a95-8070-cab88a1ee67c",
   "metadata": {},
   "outputs": [],
   "source": [
    "# Eliminación columna license\n",
    "df2.drop('license', axis=1, inplace=True)"
   ]
  },
  {
   "cell_type": "markdown",
   "id": "a7355923-189c-43f0-a174-739432ae4196",
   "metadata": {},
   "source": [
    "### 3.25 reviews_per_month"
   ]
  },
  {
   "cell_type": "code",
   "execution_count": 2789,
   "id": "7287e74a-e067-4af8-817f-9a82ad0865b4",
   "metadata": {},
   "outputs": [
    {
     "data": {
      "text/plain": [
       "3317"
      ]
     },
     "execution_count": 2789,
     "metadata": {},
     "output_type": "execute_result"
    }
   ],
   "source": [
    "# Comprobación valores nulos\n",
    "df2.reviews_per_month.isnull().sum()"
   ]
  },
  {
   "cell_type": "code",
   "execution_count": 2790,
   "id": "adf54047-e29d-4929-a700-21e61e736bb9",
   "metadata": {},
   "outputs": [
    {
     "data": {
      "image/png": "[encoded data removed]",
      "text/plain": [
       "<Figure size 640x480 with 1 Axes>"
      ]
     },
     "metadata": {},
     "output_type": "display_data"
    }
   ],
   "source": [
    "sns.histplot(data = df2, x='reviews_per_month')\n",
    "plt.show()"
   ]
  },
  {
   "cell_type": "code",
   "execution_count": 2791,
   "id": "3f70c442-78e7-4de4-a178-f27be152693a",
   "metadata": {},
   "outputs": [],
   "source": [
    "# Completar valor nulos con la media\n",
    "media_reviews_per_month = df2['reviews_per_month'].mean()\n",
    "\n",
    "df2['reviews_per_month'] = df2['reviews_per_month'].fillna(media_reviews_per_month)"
   ]
  },
  {
   "cell_type": "code",
   "execution_count": 2792,
   "id": "94056bf0-cc5d-4e7c-a3cf-d95cf65ab854",
   "metadata": {},
   "outputs": [
    {
     "data": {
      "text/plain": [
       "0"
      ]
     },
     "execution_count": 2792,
     "metadata": {},
     "output_type": "execute_result"
    }
   ],
   "source": [
    "# Comprobación nulos\n",
    "df2.reviews_per_month.isnull().sum()"
   ]
  },
  {
   "cell_type": "code",
   "execution_count": 3035,
   "id": "59365bc6-f2eb-4e7e-975e-342bbf0fa321",
   "metadata": {
    "collapsed": true,
    "jupyter": {
     "outputs_hidden": true
    }
   },
   "outputs": [
    {
     "data": {
      "text/plain": [
       "array([1.1500000e+00, 2.0000000e-02, 3.0000000e-01, 4.8000000e-01,\n",
       "       7.7000000e-01, 1.1800000e+00, 8.0000000e-02, 1.9600000e+00,\n",
       "       9.0000000e-02, 1.4000000e+00, 9.6000000e-01, 2.0200000e+00,\n",
       "       5.8000000e-01, 5.7000000e-01, 6.9000000e-01, 3.9400000e+00,\n",
       "       2.1500000e+00, 2.3800000e+00, 1.3000000e-01, 1.7136902e+00,\n",
       "       5.0000000e-02, 1.0000000e-02, 5.1000000e-01, 1.7200000e+00,\n",
       "       6.0000000e-02, 4.1000000e-01, 6.8700000e+00, 4.7000000e-01,\n",
       "       2.9000000e-01, 3.7000000e-01, 6.5000000e-01, 1.1000000e-01,\n",
       "       7.9000000e-01, 1.8100000e+00, 1.8000000e-01, 2.4400000e+00,\n",
       "       4.1100000e+00, 1.6000000e+00, 1.9000000e+00, 4.4000000e-01,\n",
       "       1.9200000e+00, 4.2000000e-01, 7.8000000e-01, 3.3000000e-01,\n",
       "       3.9000000e-01, 5.3000000e-01, 2.7200000e+00, 8.6000000e-01,\n",
       "       4.0000000e-02, 8.7000000e-01, 8.0000000e-01, 3.4000000e-01,\n",
       "       3.6000000e-01, 3.1000000e-01, 4.6000000e-01, 8.1000000e-01,\n",
       "       1.9000000e-01, 2.2000000e-01, 8.2000000e-01, 2.7000000e-01,\n",
       "       1.2000000e-01, 2.6900000e+00, 9.5000000e-01, 6.7000000e-01,\n",
       "       1.8600000e+00, 1.7300000e+00, 9.8000000e-01, 2.5500000e+00,\n",
       "       1.5500000e+00, 2.9800000e+00, 1.1700000e+00, 3.3600000e+00,\n",
       "       2.7700000e+00, 9.1000000e-01, 1.7000000e-01, 1.6700000e+00,\n",
       "       3.0000000e-02, 4.1000000e+00, 9.3000000e-01, 1.1200000e+00,\n",
       "       5.0000000e-01, 1.8300000e+00, 1.3300000e+00, 3.0200000e+00,\n",
       "       1.0200000e+00, 1.0600000e+00, 2.1000000e-01, 7.0000000e-02,\n",
       "       2.0000000e-01, 2.0100000e+00, 3.8200000e+00, 9.0000000e-01,\n",
       "       1.5300000e+00, 1.7500000e+00, 2.8800000e+00, 1.9300000e+00,\n",
       "       1.0700000e+00, 2.6000000e+00, 2.4000000e-01, 2.5000000e-01,\n",
       "       1.3100000e+00, 2.5200000e+00, 1.5700000e+00, 6.2000000e-01,\n",
       "       1.4500000e+00, 1.0500000e+00, 4.5200000e+00, 2.3600000e+00,\n",
       "       1.3600000e+00, 2.3200000e+00, 2.1400000e+00, 9.4000000e-01,\n",
       "       1.1400000e+00, 6.6000000e-01, 5.2200000e+00, 1.5200000e+00,\n",
       "       1.2600000e+00, 3.7000000e+00, 2.7300000e+00, 1.6300000e+00,\n",
       "       9.7000000e-01, 1.6800000e+00, 3.2100000e+00, 1.9400000e+00,\n",
       "       5.5300000e+00, 7.3000000e-01, 2.0600000e+00, 1.7800000e+00,\n",
       "       6.1000000e-01, 3.5000000e-01, 5.4000000e-01, 2.6200000e+00,\n",
       "       3.4500000e+00, 1.3700000e+00, 1.5000000e-01, 1.4000000e-01,\n",
       "       2.9200000e+00, 2.8600000e+00, 2.6700000e+00, 3.9900000e+00,\n",
       "       1.6200000e+00, 3.1300000e+00, 1.4600000e+00, 8.8000000e-01,\n",
       "       3.0700000e+00, 3.0600000e+00, 5.2000000e-01, 2.8000000e-01,\n",
       "       7.5000000e-01, 2.5600000e+00, 1.0000000e-01, 1.2900000e+00,\n",
       "       3.6800000e+00, 2.5700000e+00, 1.6000000e-01, 1.5000000e+00,\n",
       "       1.8200000e+00, 5.9000000e-01, 2.1800000e+00, 1.7100000e+00,\n",
       "       2.1200000e+00, 3.4200000e+00, 2.3300000e+00, 2.8700000e+00,\n",
       "       3.4300000e+00, 8.4000000e-01, 4.9000000e-01, 3.2000000e-01,\n",
       "       4.0000000e-01, 4.2200000e+00, 2.3000000e-01, 3.8400000e+00,\n",
       "       1.3800000e+00, 1.1900000e+00, 5.6000000e-01, 1.2400000e+00,\n",
       "       2.2700000e+00, 3.3300000e+00, 1.4400000e+00, 1.8800000e+00,\n",
       "       1.4100000e+00, 2.8300000e+00, 2.9600000e+00, 1.6500000e+00,\n",
       "       1.6400000e+00, 1.9900000e+00, 2.1600000e+00, 6.3000000e-01,\n",
       "       3.2200000e+00, 2.2300000e+00, 1.3900000e+00, 1.8900000e+00,\n",
       "       1.0800000e+00, 2.0000000e+00, 1.5900000e+00, 4.0400000e+00,\n",
       "       2.6300000e+00, 1.2700000e+00, 2.5900000e+00, 3.4600000e+00,\n",
       "       8.5000000e-01, 2.2400000e+00, 9.9000000e-01, 6.4000000e-01,\n",
       "       2.9900000e+00, 3.0500000e+00, 7.1000000e-01, 1.8700000e+00,\n",
       "       1.3500000e+00, 6.8000000e-01, 2.4000000e+00, 3.7600000e+00,\n",
       "       2.3500000e+00, 2.9100000e+00, 2.9400000e+00, 7.0000000e-01,\n",
       "       1.5400000e+00, 2.2100000e+00, 3.4800000e+00, 4.8600000e+00,\n",
       "       1.3200000e+00, 5.7300000e+00, 6.8500000e+00, 2.4700000e+00,\n",
       "       2.0700000e+00, 4.0500000e+00, 2.3400000e+00, 2.2800000e+00,\n",
       "       1.8400000e+00, 1.7900000e+00, 4.5000000e+00, 3.7100000e+00,\n",
       "       3.3100000e+00, 4.3000000e-01, 5.0800000e+00, 2.7600000e+00,\n",
       "       1.0300000e+00, 3.5600000e+00, 2.4900000e+00, 4.2800000e+00,\n",
       "       2.1900000e+00, 2.7500000e+00, 1.2500000e+00, 3.0400000e+00,\n",
       "       8.9400000e+00, 7.0300000e+00, 3.2300000e+00, 1.4300000e+00,\n",
       "       2.3000000e+00, 3.6500000e+00, 4.0700000e+00, 1.0900000e+00,\n",
       "       3.4000000e+00, 2.6100000e+00, 2.6400000e+00, 4.5000000e-01,\n",
       "       1.7600000e+00, 3.7400000e+00, 3.2700000e+00, 1.7700000e+00,\n",
       "       3.6200000e+00, 1.1100000e+00, 4.5700000e+00, 5.5000000e-01,\n",
       "       7.6000000e-01, 7.2000000e-01, 1.9700000e+00, 5.0400000e+00,\n",
       "       2.6500000e+00, 3.6600000e+00, 1.6900000e+00, 3.9300000e+00,\n",
       "       2.7900000e+00, 2.5300000e+00, 1.4900000e+00, 2.0900000e+00,\n",
       "       3.1400000e+00, 4.3100000e+00, 4.3000000e+00, 2.1700000e+00,\n",
       "       3.9100000e+00, 3.1200000e+00, 2.4300000e+00, 8.3000000e-01,\n",
       "       1.6100000e+00, 1.3000000e+00, 4.0300000e+00, 4.2700000e+00,\n",
       "       2.8500000e+00, 1.4200000e+00, 5.6400000e+00, 3.1100000e+00,\n",
       "       2.2200000e+00, 2.7800000e+00, 3.8100000e+00, 2.2900000e+00,\n",
       "       3.4900000e+00, 2.7100000e+00, 5.7000000e+00, 2.1300000e+00,\n",
       "       2.0800000e+00, 1.2100000e+00, 4.5300000e+00, 2.4500000e+00,\n",
       "       3.6100000e+00, 3.2400000e+00, 7.4000000e-01, 1.8500000e+00,\n",
       "       3.8000000e-01, 4.3900000e+00, 3.0300000e+00, 4.5400000e+00,\n",
       "       3.5300000e+00, 1.6600000e+00, 2.4100000e+00, 3.1700000e+00,\n",
       "       5.5400000e+00, 4.9000000e+00, 2.6000000e-01, 2.4800000e+00,\n",
       "       2.9700000e+00, 1.1000000e+00, 4.4200000e+00, 2.2000000e+00,\n",
       "       3.5000000e+00, 4.1700000e+00, 1.2800000e+00, 3.2600000e+00,\n",
       "       2.9500000e+00, 3.9500000e+00, 2.1000000e+00, 3.7800000e+00,\n",
       "       1.0400000e+00, 4.2500000e+00, 2.8900000e+00, 3.0000000e+00,\n",
       "       4.2300000e+00, 2.7000000e+00, 4.7800000e+00, 6.5500000e+00,\n",
       "       5.0900000e+00, 3.7900000e+00, 2.5100000e+00, 1.9100000e+00,\n",
       "       3.4700000e+00, 1.5100000e+00, 1.7400000e+00, 4.9300000e+00,\n",
       "       3.6000000e+00, 4.2900000e+00, 3.3900000e+00, 2.1100000e+00,\n",
       "       9.2000000e-01, 1.5600000e+00, 1.9500000e+00, 1.7000000e+00,\n",
       "       5.8900000e+00, 3.5200000e+00, 4.6500000e+00, 2.5400000e+00,\n",
       "       3.0800000e+00, 1.2300000e+00, 2.0400000e+00, 2.0500000e+00,\n",
       "       2.0300000e+00, 2.8000000e+00, 2.6600000e+00, 3.1900000e+00,\n",
       "       3.3000000e+00, 1.2000000e+00, 3.6900000e+00, 2.4600000e+00,\n",
       "       3.1000000e+00, 4.6200000e+00, 3.4100000e+00, 3.9600000e+00,\n",
       "       1.4800000e+00, 4.9600000e+00, 4.6400000e+00, 6.5600000e+00,\n",
       "       2.8100000e+00, 1.5800000e+00, 1.0100000e+00, 2.2500000e+00,\n",
       "       4.5500000e+00, 2.5000000e+00, 6.0000000e-01, 4.7400000e+00,\n",
       "       3.8000000e+00, 8.9000000e-01, 4.8900000e+00, 3.8900000e+00,\n",
       "       2.9300000e+00, 3.0100000e+00, 3.5700000e+00, 3.1800000e+00,\n",
       "       3.3200000e+00, 2.8400000e+00, 6.5400000e+00, 3.2800000e+00,\n",
       "       4.7500000e+00, 3.2000000e+00, 4.1900000e+00, 6.7000000e+00,\n",
       "       1.0000000e+00, 4.5600000e+00, 5.1200000e+00, 4.8500000e+00,\n",
       "       4.0000000e+00, 1.1600000e+00, 4.9400000e+00, 3.7300000e+00,\n",
       "       3.9700000e+00, 1.8000000e+00, 2.8200000e+00, 5.6800000e+00,\n",
       "       5.1900000e+00, 4.5100000e+00, 3.5500000e+00, 1.1300000e+00,\n",
       "       3.7700000e+00, 7.0500000e+00, 3.5100000e+00, 3.5900000e+00,\n",
       "       1.2200000e+00, 2.5800000e+00, 4.4100000e+00, 4.4500000e+00,\n",
       "       1.3400000e+00, 5.2300000e+00, 2.2600000e+00, 3.2900000e+00,\n",
       "       3.1600000e+00, 1.9800000e+00, 3.6400000e+00, 3.1500000e+00,\n",
       "       4.2000000e+00, 2.3700000e+00, 4.0100000e+00, 3.8800000e+00,\n",
       "       3.8300000e+00, 6.0200000e+00, 2.3100000e+00, 3.5800000e+00,\n",
       "       2.7400000e+00, 3.9800000e+00, 4.2400000e+00, 2.4200000e+00,\n",
       "       4.1600000e+00, 3.5400000e+00, 3.7200000e+00, 4.4000000e+00,\n",
       "       4.9800000e+00, 5.1300000e+00, 2.3900000e+00, 4.8400000e+00,\n",
       "       6.4700000e+00, 6.1700000e+00, 2.6800000e+00, 4.5800000e+00,\n",
       "       5.6500000e+00, 6.3600000e+00, 9.7300000e+00, 6.8200000e+00,\n",
       "       3.6700000e+00, 4.7100000e+00, 3.8700000e+00, 1.0440000e+01,\n",
       "       5.2400000e+00, 5.9600000e+00, 3.0900000e+00, 1.4700000e+00,\n",
       "       7.5200000e+00, 2.9000000e+00, 4.6900000e+00, 4.7700000e+00,\n",
       "       6.4800000e+00, 3.8500000e+00, 3.3500000e+00, 9.5700000e+00,\n",
       "       7.1300000e+00, 5.8200000e+00, 3.3400000e+00, 4.3200000e+00,\n",
       "       3.4400000e+00, 5.3800000e+00, 6.0300000e+00, 4.9200000e+00,\n",
       "       4.3300000e+00, 1.0460000e+01, 6.3800000e+00, 1.5700000e+01,\n",
       "       1.6770000e+01, 4.4300000e+00, 5.5000000e+00, 4.1800000e+00,\n",
       "       5.7600000e+00, 5.3300000e+00, 4.4400000e+00, 3.3800000e+00,\n",
       "       9.6600000e+00, 5.4100000e+00, 4.9100000e+00, 6.6400000e+00,\n",
       "       8.1100000e+00, 4.1200000e+00, 3.2500000e+00, 3.3700000e+00,\n",
       "       4.0600000e+00, 4.1400000e+00, 4.1500000e+00, 2.1020000e+01,\n",
       "       4.7300000e+00, 3.6300000e+00, 6.1900000e+00, 1.2250000e+01,\n",
       "       4.0900000e+00, 1.9080000e+01, 5.4700000e+00, 5.3500000e+00,\n",
       "       1.0800000e+01, 6.6000000e+00, 1.4810000e+01, 4.7000000e+00,\n",
       "       9.2900000e+00, 7.2100000e+00, 6.7200000e+00, 5.8100000e+00,\n",
       "       3.9000000e+00, 3.9200000e+00, 6.6600000e+00, 6.2200000e+00,\n",
       "       1.5820000e+01, 8.1300000e+00, 3.3940000e+01, 5.4500000e+00,\n",
       "       4.8300000e+00, 1.3910000e+01, 3.8600000e+00, 6.7900000e+00,\n",
       "       6.0000000e+00, 5.4300000e+00, 5.0000000e+00, 1.1140000e+01,\n",
       "       5.0100000e+00, 6.6800000e+00, 1.3780000e+01, 7.9500000e+00,\n",
       "       5.7100000e+00, 7.0700000e+00, 1.0090000e+01, 7.6100000e+00,\n",
       "       4.6700000e+00, 1.1760000e+01, 9.4700000e+00, 8.0000000e+00,\n",
       "       7.7200000e+00, 4.7200000e+00, 5.2900000e+00, 4.5900000e+00,\n",
       "       5.6000000e+00, 4.6600000e+00, 1.3460000e+01, 1.6480000e+01,\n",
       "       1.1330000e+01, 4.3400000e+00, 6.2500000e+00, 8.3900000e+00,\n",
       "       6.8000000e+00, 5.5600000e+00, 5.5900000e+00, 4.4700000e+00,\n",
       "       9.2100000e+00, 4.3600000e+00, 8.4700000e+00, 1.2440000e+01,\n",
       "       2.9450000e+01, 4.8000000e+00, 6.9800000e+00, 1.4250000e+01,\n",
       "       5.1400000e+00, 5.2700000e+00, 9.6700000e+00, 5.2800000e+00,\n",
       "       7.3500000e+00, 9.4400000e+00, 4.7900000e+00, 6.2700000e+00,\n",
       "       1.1560000e+01, 1.2090000e+01, 9.5900000e+00, 6.0800000e+00,\n",
       "       8.6300000e+00, 3.7430000e+01, 6.7700000e+00, 1.4360000e+01,\n",
       "       1.5190000e+01, 6.6200000e+00, 1.3000000e+01, 1.3740000e+01,\n",
       "       7.6700000e+00, 7.9700000e+00, 1.3240000e+01, 4.3500000e+00,\n",
       "       7.3000000e+00, 1.3010000e+01, 4.9500000e+00, 5.1700000e+00,\n",
       "       2.1680000e+01, 7.9200000e+00, 7.0470000e+01, 1.1360000e+01,\n",
       "       4.3700000e+00, 6.3700000e+00, 1.6900000e+01, 7.8700000e+00,\n",
       "       1.5880000e+01, 1.0580000e+01, 4.6000000e+00, 1.1530000e+01,\n",
       "       7.1600000e+00, 1.6320000e+01, 7.0800000e+00, 5.5200000e+00,\n",
       "       1.8640000e+01, 3.7500000e+00, 2.4270000e+01, 2.4800000e+01,\n",
       "       1.0950000e+01, 1.1350000e+01, 2.0050000e+01, 6.3200000e+00,\n",
       "       7.5900000e+00, 6.4000000e+00, 7.5500000e+00, 4.4800000e+00,\n",
       "       5.3400000e+00, 8.4900000e+00, 5.6700000e+00, 5.2500000e+00,\n",
       "       5.9500000e+00, 6.3400000e+00, 4.2600000e+00, 6.4600000e+00,\n",
       "       7.3900000e+00, 5.4600000e+00, 4.8100000e+00, 7.2600000e+00,\n",
       "       5.2100000e+00, 4.9900000e+00, 5.3900000e+00, 5.4000000e+00,\n",
       "       5.8600000e+00, 4.4600000e+00, 4.4900000e+00, 4.8800000e+00,\n",
       "       8.8800000e+00, 1.6300000e+01, 2.3160000e+01, 5.2600000e+00,\n",
       "       4.2100000e+00, 6.9000000e+00, 7.8300000e+00, 6.5800000e+00,\n",
       "       5.3700000e+00, 5.7900000e+00, 6.6100000e+00, 6.3000000e+00,\n",
       "       5.0600000e+00, 4.0200000e+00, 5.4800000e+00, 5.4400000e+00,\n",
       "       6.1000000e+00, 6.0600000e+00, 8.0100000e+00, 5.8700000e+00,\n",
       "       8.3300000e+00, 9.7900000e+00, 1.0670000e+01, 6.7500000e+00,\n",
       "       4.8700000e+00, 7.2400000e+00, 9.5800000e+00, 7.2000000e+00,\n",
       "       1.0260000e+01, 7.1200000e+00, 4.6300000e+00, 5.6300000e+00,\n",
       "       5.9300000e+00, 6.0500000e+00, 5.1800000e+00, 6.8900000e+00,\n",
       "       5.2650000e+01, 4.0800000e+00, 1.5250000e+01, 6.0700000e+00,\n",
       "       9.5200000e+00, 5.0200000e+00, 5.5800000e+00, 6.4900000e+00,\n",
       "       1.0880000e+01, 7.8900000e+00, 1.3690000e+01, 1.0850000e+01,\n",
       "       9.0900000e+00, 5.9900000e+00, 5.0500000e+00, 6.9300000e+00,\n",
       "       5.4900000e+00, 7.6300000e+00, 5.6100000e+00, 8.2000000e+00,\n",
       "       8.3000000e+00, 6.9200000e+00, 1.3190000e+01, 7.5400000e+00,\n",
       "       7.3200000e+00, 4.7600000e+00, 8.5700000e+00, 5.0300000e+00,\n",
       "       7.8100000e+00, 7.9800000e+00, 4.8200000e+00, 7.7800000e+00,\n",
       "       7.4800000e+00, 1.6980000e+01, 8.5300000e+00, 9.3200000e+00,\n",
       "       6.2800000e+00, 5.6600000e+00, 6.3500000e+00, 5.6200000e+00,\n",
       "       8.8300000e+00, 8.1800000e+00, 6.4500000e+00, 1.0450000e+01,\n",
       "       1.4680000e+01, 5.1100000e+00, 6.4100000e+00, 6.1100000e+00,\n",
       "       9.8300000e+00, 6.6300000e+00, 6.2900000e+00, 5.5700000e+00,\n",
       "       6.5000000e+00, 5.0700000e+00, 5.3600000e+00, 8.1000000e+00,\n",
       "       8.5000000e+00, 5.7200000e+00, 8.0400000e+00, 8.6100000e+00,\n",
       "       5.7700000e+00, 8.3500000e+00, 7.1900000e+00, 6.2100000e+00,\n",
       "       6.4300000e+00, 6.8100000e+00, 6.6500000e+00, 6.6700000e+00,\n",
       "       9.4100000e+00, 8.5100000e+00, 6.7600000e+00, 2.4640000e+01,\n",
       "       6.4400000e+00, 1.6780000e+01, 7.6500000e+00, 7.5000000e+00,\n",
       "       5.3100000e+00, 4.1300000e+00, 8.0900000e+00, 7.0000000e+00,\n",
       "       5.5100000e+00, 9.6800000e+00, 6.1200000e+00, 7.0600000e+00,\n",
       "       5.8400000e+00, 6.9400000e+00, 6.8400000e+00, 8.7600000e+00,\n",
       "       1.0570000e+01, 7.0200000e+00, 9.0000000e+00, 7.8600000e+00,\n",
       "       9.7400000e+00, 1.0150000e+01, 8.4400000e+00, 8.8200000e+00,\n",
       "       5.7800000e+00, 6.7300000e+00, 8.9100000e+00, 8.8500000e+00,\n",
       "       5.9200000e+00, 7.7400000e+00, 6.9500000e+00, 9.3400000e+00,\n",
       "       4.3800000e+00, 1.8880000e+01, 4.6800000e+00, 6.1800000e+00,\n",
       "       7.1400000e+00, 1.1250000e+01, 8.1400000e+00, 1.1190000e+01,\n",
       "       6.9600000e+00, 9.5500000e+00, 9.6900000e+00, 1.1670000e+01,\n",
       "       5.3200000e+00, 1.2350000e+01, 6.8600000e+00, 8.8600000e+00,\n",
       "       5.8500000e+00])"
      ]
     },
     "execution_count": 3035,
     "metadata": {},
     "output_type": "execute_result"
    }
   ],
   "source": [
    "# Comprobación valores únicos\n",
    "df2['reviews_per_month'].unique()"
   ]
  },
  {
   "cell_type": "code",
   "execution_count": 3037,
   "id": "93b057f2-29b2-4d70-97dc-85c4ccd06112",
   "metadata": {},
   "outputs": [],
   "source": [
    "# Convertir los valores de la columna 'reviews_per_month' a cadenas con formato decimal\n",
    "df2['reviews_per_month'] = df2['reviews_per_month'].apply(lambda x: '{:.2f}'.format(x))"
   ]
  },
  {
   "cell_type": "code",
   "execution_count": 3039,
   "id": "fd1ee948-d173-4e86-98c7-c1114eaca80e",
   "metadata": {
    "collapsed": true,
    "jupyter": {
     "outputs_hidden": true
    }
   },
   "outputs": [
    {
     "data": {
      "text/plain": [
       "array(['1.15', '0.02', '0.30', '0.48', '0.77', '1.18', '0.08', '1.96',\n",
       "       '0.09', '1.40', '0.96', '2.02', '0.58', '0.57', '0.69', '3.94',\n",
       "       '2.15', '2.38', '0.13', '1.71', '0.05', '0.01', '0.51', '1.72',\n",
       "       '0.06', '0.41', '6.87', '0.47', '0.29', '0.37', '0.65', '0.11',\n",
       "       '0.79', '1.81', '0.18', '2.44', '4.11', '1.60', '1.90', '0.44',\n",
       "       '1.92', '0.42', '0.78', '0.33', '0.39', '0.53', '2.72', '0.86',\n",
       "       '0.04', '0.87', '0.80', '0.34', '0.36', '0.31', '0.46', '0.81',\n",
       "       '0.19', '0.22', '0.82', '0.27', '0.12', '2.69', '0.95', '0.67',\n",
       "       '1.86', '1.73', '0.98', '2.55', '1.55', '2.98', '1.17', '3.36',\n",
       "       '2.77', '0.91', '0.17', '1.67', '0.03', '4.10', '0.93', '1.12',\n",
       "       '0.50', '1.83', '1.33', '3.02', '1.02', '1.06', '0.21', '0.07',\n",
       "       '0.20', '2.01', '3.82', '0.90', '1.53', '1.75', '2.88', '1.93',\n",
       "       '1.07', '2.60', '0.24', '0.25', '1.31', '2.52', '1.57', '0.62',\n",
       "       '1.45', '1.05', '4.52', '2.36', '1.36', '2.32', '2.14', '0.94',\n",
       "       '1.14', '0.66', '5.22', '1.52', '1.26', '3.70', '2.73', '1.63',\n",
       "       '0.97', '1.68', '3.21', '1.94', '5.53', '0.73', '2.06', '1.78',\n",
       "       '0.61', '0.35', '0.54', '2.62', '3.45', '1.37', '0.15', '0.14',\n",
       "       '2.92', '2.86', '2.67', '3.99', '1.62', '3.13', '1.46', '0.88',\n",
       "       '3.07', '3.06', '0.52', '0.28', '0.75', '2.56', '0.10', '1.29',\n",
       "       '3.68', '2.57', '0.16', '1.50', '1.82', '0.59', '2.18', '2.12',\n",
       "       '3.42', '2.33', '2.87', '3.43', '0.84', '0.49', '0.32', '0.40',\n",
       "       '4.22', '0.23', '3.84', '1.38', '1.19', '0.56', '1.24', '2.27',\n",
       "       '3.33', '1.44', '1.88', '1.41', '2.83', '2.96', '1.65', '1.64',\n",
       "       '1.99', '2.16', '0.63', '3.22', '2.23', '1.39', '1.89', '1.08',\n",
       "       '2.00', '1.59', '4.04', '2.63', '1.27', '2.59', '3.46', '0.85',\n",
       "       '2.24', '0.99', '0.64', '2.99', '3.05', '0.71', '1.87', '1.35',\n",
       "       '0.68', '2.40', '3.76', '2.35', '2.91', '2.94', '0.70', '1.54',\n",
       "       '2.21', '3.48', '4.86', '1.32', '5.73', '6.85', '2.47', '2.07',\n",
       "       '4.05', '2.34', '2.28', '1.84', '1.79', '4.50', '3.71', '3.31',\n",
       "       '0.43', '5.08', '2.76', '1.03', '3.56', '2.49', '4.28', '2.19',\n",
       "       '2.75', '1.25', '3.04', '8.94', '7.03', '3.23', '1.43', '2.30',\n",
       "       '3.65', '4.07', '1.09', '3.40', '2.61', '2.64', '0.45', '1.76',\n",
       "       '3.74', '3.27', '1.77', '3.62', '1.11', '4.57', '0.55', '0.76',\n",
       "       '0.72', '1.97', '5.04', '2.65', '3.66', '1.69', '3.93', '2.79',\n",
       "       '2.53', '1.49', '2.09', '3.14', '4.31', '4.30', '2.17', '3.91',\n",
       "       '3.12', '2.43', '0.83', '1.61', '1.30', '4.03', '4.27', '2.85',\n",
       "       '1.42', '5.64', '3.11', '2.22', '2.78', '3.81', '2.29', '3.49',\n",
       "       '2.71', '5.70', '2.13', '2.08', '1.21', '4.53', '2.45', '3.61',\n",
       "       '3.24', '0.74', '1.85', '0.38', '4.39', '3.03', '4.54', '3.53',\n",
       "       '1.66', '2.41', '3.17', '5.54', '4.90', '0.26', '2.48', '2.97',\n",
       "       '1.10', '4.42', '2.20', '3.50', '4.17', '1.28', '3.26', '2.95',\n",
       "       '3.95', '2.10', '3.78', '1.04', '4.25', '2.89', '3.00', '4.23',\n",
       "       '2.70', '4.78', '6.55', '5.09', '3.79', '2.51', '1.91', '3.47',\n",
       "       '1.51', '1.74', '4.93', '3.60', '4.29', '3.39', '2.11', '0.92',\n",
       "       '1.56', '1.95', '1.70', '5.89', '3.52', '4.65', '2.54', '3.08',\n",
       "       '1.23', '2.04', '2.05', '2.03', '2.80', '2.66', '3.19', '3.30',\n",
       "       '1.20', '3.69', '2.46', '3.10', '4.62', '3.41', '3.96', '1.48',\n",
       "       '4.96', '4.64', '6.56', '2.81', '1.58', '1.01', '2.25', '4.55',\n",
       "       '2.50', '0.60', '4.74', '3.80', '0.89', '4.89', '3.89', '2.93',\n",
       "       '3.01', '3.57', '3.18', '3.32', '2.84', '6.54', '3.28', '4.75',\n",
       "       '3.20', '4.19', '6.70', '1.00', '4.56', '5.12', '4.85', '4.00',\n",
       "       '1.16', '4.94', '3.73', '3.97', '1.80', '2.82', '5.68', '5.19',\n",
       "       '4.51', '3.55', '1.13', '3.77', '7.05', '3.51', '3.59', '1.22',\n",
       "       '2.58', '4.41', '4.45', '1.34', '5.23', '2.26', '3.29', '3.16',\n",
       "       '1.98', '3.64', '3.15', '4.20', '2.37', '4.01', '3.88', '3.83',\n",
       "       '6.02', '2.31', '3.58', '2.74', '3.98', '4.24', '2.42', '4.16',\n",
       "       '3.54', '3.72', '4.40', '4.98', '5.13', '2.39', '4.84', '6.47',\n",
       "       '6.17', '2.68', '4.58', '5.65', '6.36', '9.73', '6.82', '3.67',\n",
       "       '4.71', '3.87', '10.44', '5.24', '5.96', '3.09', '1.47', '7.52',\n",
       "       '2.90', '4.69', '4.77', '6.48', '3.85', '3.35', '9.57', '7.13',\n",
       "       '5.82', '3.34', '4.32', '3.44', '5.38', '6.03', '4.92', '4.33',\n",
       "       '10.46', '6.38', '15.70', '16.77', '4.43', '5.50', '4.18', '5.76',\n",
       "       '5.33', '4.44', '3.38', '9.66', '5.41', '4.91', '6.64', '8.11',\n",
       "       '4.12', '3.25', '3.37', '4.06', '4.14', '4.15', '21.02', '4.73',\n",
       "       '3.63', '6.19', '12.25', '4.09', '19.08', '5.47', '5.35', '10.80',\n",
       "       '6.60', '14.81', '4.70', '9.29', '7.21', '6.72', '5.81', '3.90',\n",
       "       '3.92', '6.66', '6.22', '15.82', '8.13', '33.94', '5.45', '4.83',\n",
       "       '13.91', '3.86', '6.79', '6.00', '5.43', '5.00', '11.14', '5.01',\n",
       "       '6.68', '13.78', '7.95', '5.71', '7.07', '10.09', '7.61', '4.67',\n",
       "       '11.76', '9.47', '8.00', '7.72', '4.72', '5.29', '4.59', '5.60',\n",
       "       '4.66', '13.46', '16.48', '11.33', '4.34', '6.25', '8.39', '6.80',\n",
       "       '5.56', '5.59', '4.47', '9.21', '4.36', '8.47', '12.44', '29.45',\n",
       "       '4.80', '6.98', '14.25', '5.14', '5.27', '9.67', '5.28', '7.35',\n",
       "       '9.44', '4.79', '6.27', '11.56', '12.09', '9.59', '6.08', '8.63',\n",
       "       '37.43', '6.77', '14.36', '15.19', '6.62', '13.00', '13.74',\n",
       "       '7.67', '7.97', '13.24', '4.35', '7.30', '13.01', '4.95', '5.17',\n",
       "       '21.68', '7.92', '70.47', '11.36', '4.37', '6.37', '16.90', '7.87',\n",
       "       '15.88', '10.58', '4.60', '11.53', '7.16', '16.32', '7.08', '5.52',\n",
       "       '18.64', '3.75', '24.27', '24.80', '10.95', '11.35', '20.05',\n",
       "       '6.32', '7.59', '6.40', '7.55', '4.48', '5.34', '8.49', '5.67',\n",
       "       '5.25', '5.95', '6.34', '4.26', '6.46', '7.39', '5.46', '4.81',\n",
       "       '7.26', '5.21', '4.99', '5.39', '5.40', '5.86', '4.46', '4.49',\n",
       "       '4.88', '8.88', '16.30', '23.16', '5.26', '4.21', '6.90', '7.83',\n",
       "       '6.58', '5.37', '5.79', '6.61', '6.30', '5.06', '4.02', '5.48',\n",
       "       '5.44', '6.10', '6.06', '8.01', '5.87', '8.33', '9.79', '10.67',\n",
       "       '6.75', '4.87', '7.24', '9.58', '7.20', '10.26', '7.12', '4.63',\n",
       "       '5.63', '5.93', '6.05', '5.18', '6.89', '52.65', '4.08', '15.25',\n",
       "       '6.07', '9.52', '5.02', '5.58', '6.49', '10.88', '7.89', '13.69',\n",
       "       '10.85', '9.09', '5.99', '5.05', '6.93', '5.49', '7.63', '5.61',\n",
       "       '8.20', '8.30', '6.92', '13.19', '7.54', '7.32', '4.76', '8.57',\n",
       "       '5.03', '7.81', '7.98', '4.82', '7.78', '7.48', '16.98', '8.53',\n",
       "       '9.32', '6.28', '5.66', '6.35', '5.62', '8.83', '8.18', '6.45',\n",
       "       '10.45', '14.68', '5.11', '6.41', '6.11', '9.83', '6.63', '6.29',\n",
       "       '5.57', '6.50', '5.07', '5.36', '8.10', '8.50', '5.72', '8.04',\n",
       "       '8.61', '5.77', '8.35', '7.19', '6.21', '6.43', '6.81', '6.65',\n",
       "       '6.67', '9.41', '8.51', '6.76', '24.64', '6.44', '16.78', '7.65',\n",
       "       '7.50', '5.31', '4.13', '8.09', '7.00', '5.51', '9.68', '6.12',\n",
       "       '7.06', '5.84', '6.94', '6.84', '8.76', '10.57', '7.02', '9.00',\n",
       "       '7.86', '9.74', '10.15', '8.44', '8.82', '5.78', '6.73', '8.91',\n",
       "       '8.85', '5.92', '7.74', '6.95', '9.34', '4.38', '18.88', '4.68',\n",
       "       '6.18', '7.14', '11.25', '8.14', '11.19', '6.96', '9.55', '9.69',\n",
       "       '11.67', '5.32', '12.35', '6.86', '8.86', '5.85'], dtype=object)"
      ]
     },
     "execution_count": 3039,
     "metadata": {},
     "output_type": "execute_result"
    }
   ],
   "source": [
    "# Comprobación valores únicos\n",
    "df2['reviews_per_month'].unique()"
   ]
  },
  {
   "cell_type": "markdown",
   "id": "17927d2f-42be-4675-900a-feff0c680b66",
   "metadata": {},
   "source": [
    "### 3.26 listing_url"
   ]
  },
  {
   "cell_type": "code",
   "execution_count": 2794,
   "id": "075345f4-49cd-48a7-b3a1-676712839520",
   "metadata": {},
   "outputs": [],
   "source": [
    "# Eliminación columna porque ya no es necesaria \n",
    "df2 = df2.drop(columns=['listing_url'])"
   ]
  },
  {
   "cell_type": "markdown",
   "id": "3aa033a6-566c-49c5-b78d-126f0fe8466f",
   "metadata": {},
   "source": [
    "### 3.27 instant_bookable"
   ]
  },
  {
   "cell_type": "code",
   "execution_count": 2796,
   "id": "24a207c6-6056-44fc-9f3b-947a7542db87",
   "metadata": {},
   "outputs": [
    {
     "data": {
      "text/plain": [
       "array(['t', 'f'], dtype=object)"
      ]
     },
     "execution_count": 2796,
     "metadata": {},
     "output_type": "execute_result"
    }
   ],
   "source": [
    "# Comprobación valores únicos\n",
    "df2['instant_bookable'].unique()"
   ]
  },
  {
   "cell_type": "code",
   "execution_count": 2797,
   "id": "5aaa5ff5-da16-41c7-a4d2-c14c2a60d819",
   "metadata": {},
   "outputs": [
    {
     "name": "stderr",
     "output_type": "stream",
     "text": [
      "C:\\Users\\fatima\\AppData\\Local\\Temp\\ipykernel_14976\\4192582295.py:2: FutureWarning: Downcasting behavior in `replace` is deprecated and will be removed in a future version. To retain the old behavior, explicitly call `result.infer_objects(copy=False)`. To opt-in to the future behavior, set `pd.set_option('future.no_silent_downcasting', True)`\n",
      "  df2['instant_bookable'] = df2['instant_bookable'].replace({'t': True, 'f': False})\n"
     ]
    }
   ],
   "source": [
    "# Convertir columna a tipo de dato booleano\n",
    "df2['instant_bookable'] = df2['instant_bookable'].replace({'t': True, 'f': False})"
   ]
  },
  {
   "cell_type": "code",
   "execution_count": 3041,
   "id": "2cd22725-2d09-49e9-a457-77ba10462354",
   "metadata": {},
   "outputs": [
    {
     "data": {
      "text/plain": [
       "dtype('bool')"
      ]
     },
     "execution_count": 3041,
     "metadata": {},
     "output_type": "execute_result"
    }
   ],
   "source": [
    "# Comprobación tipo de dato\n",
    "df2['instant_bookable'].dtype"
   ]
  },
  {
   "cell_type": "markdown",
   "id": "76d89fe4-0117-4830-ab0b-e673e65b1c0a",
   "metadata": {},
   "source": [
    "# 4. TRATAMIENTO COLUMNAS DE TEXTO: 'name', 'description' y 'amenities'"
   ]
  },
  {
   "cell_type": "code",
   "execution_count": 2799,
   "id": "16bac135-cfa2-4eb6-bca4-0b300502a991",
   "metadata": {},
   "outputs": [],
   "source": [
    "# Crear una función para limpiar texto, eliminando caracteres no alfabéticos y convirtiendo todo a minúsculas.\n",
    "def limpiar_texto(texto):\n",
    "    if pd.isna(texto):\n",
    "        return ''\n",
    "    texto = texto.lower()\n",
    "    texto = re.sub(r'[^a-z\\s]', '', texto)\n",
    "    return texto "
   ]
  },
  {
   "cell_type": "code",
   "execution_count": 2800,
   "id": "b7e2d9d1-f409-47c5-9f96-d1268ef5056d",
   "metadata": {},
   "outputs": [],
   "source": [
    "df2['name'] = df2['name'].apply(limpiar_texto)\n",
    "df2['description'] = df2['description'].apply(limpiar_texto)\n",
    "df2['amenities'] = df2['amenities'].apply(limpiar_texto)"
   ]
  },
  {
   "cell_type": "code",
   "execution_count": 2801,
   "id": "02ff067e-416d-45b4-b586-4a16064676d9",
   "metadata": {},
   "outputs": [],
   "source": [
    "# Crear función para verificar la presencia de palabras clave \n",
    "def verificar_palabras_filas(row, palabras):\n",
    "    for columna in ['amenities', 'name', 'description']:\n",
    "        if any(palabra in row[columna] for palabra in palabras):\n",
    "            return 1  # TRUE\n",
    "    return 0          # FALSE"
   ]
  },
  {
   "cell_type": "code",
   "execution_count": 2802,
   "id": "b8d3a7a6-5f13-45d0-b7a8-a8834832091a",
   "metadata": {},
   "outputs": [],
   "source": [
    "# Definir palabras clave\n",
    "palabras_a_buscar = ['terrace', 'veranda']\n",
    "palabras_a_buscar2 = ['wifi', 'wireless internet', 'wireless connection']\n",
    "palabras_a_buscar3 = ['pet', 'pet-friendly', 'pets allowed', 'pet accommodation']\n",
    "palabras_a_buscar4 = ['air', 'air conditioning', 'ac (air conditioning)', 'climate control']\n",
    "palabras_a_buscar5 = ['kitchen', 'cooking area', 'culinary space']"
   ]
  },
  {
   "cell_type": "code",
   "execution_count": 2803,
   "id": "fcd16c45-66bf-4fc1-8164-546fd86748dd",
   "metadata": {},
   "outputs": [],
   "source": [
    "# Crear nuevas columnas referentes a las amenities\n",
    "df2['Tiene_terraza'] = df2.apply(verificar_palabras_filas, axis=1, palabras=palabras_a_buscar)\n",
    "df2['Tiene_wifi'] = df2.apply(verificar_palabras_filas, axis=1, palabras=palabras_a_buscar2)\n",
    "df2['Permite_Mascotas'] = df2.apply(verificar_palabras_filas, axis=1, palabras=palabras_a_buscar3)\n",
    "df2['Tiene_aire'] = df2.apply(verificar_palabras_filas, axis=1, palabras=palabras_a_buscar4)\n",
    "df2['Tiene_cocina'] = df2.apply(verificar_palabras_filas, axis=1, palabras=palabras_a_buscar5)"
   ]
  },
  {
   "cell_type": "code",
   "execution_count": 2804,
   "id": "25f5fba1-9629-4dfe-baae-f082e338e6f2",
   "metadata": {},
   "outputs": [
    {
     "name": "stdout",
     "output_type": "stream",
     "text": [
      "Tiene_terraza\n",
      "0    12667\n",
      "1     2522\n",
      "Name: count, dtype: int64\n",
      "Tiene_wifi\n",
      "1    14947\n",
      "0      242\n",
      "Name: count, dtype: int64\n",
      "Permite_Mascotas\n",
      "0    12597\n",
      "1     2592\n",
      "Name: count, dtype: int64\n",
      "Tiene_aire\n",
      "1    13745\n",
      "0     1444\n",
      "Name: count, dtype: int64\n",
      "Tiene_cocina\n",
      "1    14046\n",
      "0     1143\n",
      "Name: count, dtype: int64\n"
     ]
    }
   ],
   "source": [
    "# Conteos\n",
    "conteo1 = df2['Tiene_terraza'].value_counts()\n",
    "print(conteo1)\n",
    "\n",
    "conteo2 = df2['Tiene_wifi'].value_counts()\n",
    "print(conteo2)\n",
    "\n",
    "conteo3 = df2['Permite_Mascotas'].value_counts()\n",
    "print(conteo3)\n",
    "\n",
    "conteo4 = df2['Tiene_aire'].value_counts()\n",
    "print(conteo4)\n",
    "\n",
    "conteo5 = df2['Tiene_cocina'].value_counts()\n",
    "print(conteo5)"
   ]
  },
  {
   "cell_type": "code",
   "execution_count": 2805,
   "id": "7efba4fd-6a09-49d7-92d1-465e5a858407",
   "metadata": {},
   "outputs": [
    {
     "name": "stdout",
     "output_type": "stream",
     "text": [
      "    Tiene_terraza  Tiene_wifi  Permite_Mascotas  Tiene_aire  Tiene_cocina\n",
      "0               0           1                 0           1             1\n",
      "1               0           1                 0           0             1\n",
      "2               0           1                 0           1             1\n",
      "4               1           1                 0           1             1\n",
      "5               0           1                 0           1             1\n",
      "6               0           1                 0           1             1\n",
      "7               0           1                 0           1             1\n",
      "8               0           1                 1           1             1\n",
      "9               0           1                 0           1             1\n",
      "10              0           1                 0           1             1\n"
     ]
    }
   ],
   "source": [
    "print(df2[['Tiene_terraza', 'Tiene_wifi', 'Permite_Mascotas', 'Tiene_aire', 'Tiene_cocina']].head(10))"
   ]
  },
  {
   "cell_type": "code",
   "execution_count": 2806,
   "id": "f09196f6-c15a-482f-9798-95c3d2109c63",
   "metadata": {},
   "outputs": [],
   "source": [
    "# Eliminación columnas 'name', 'description' y 'amenities'\n",
    "df2 = df2.drop(columns=['name', 'description', 'amenities'])"
   ]
  },
  {
   "cell_type": "markdown",
   "id": "c469017f-4bd3-401c-a12f-1117f29e4d1b",
   "metadata": {},
   "source": [
    "# 5. REVISIÓN DF2 DESPUÉS DE LIMPIEZA"
   ]
  },
  {
   "cell_type": "markdown",
   "id": "94b8858e-dff0-4c79-b136-ce2d14f91760",
   "metadata": {},
   "source": [
    "### 4.1 Shape"
   ]
  },
  {
   "cell_type": "code",
   "execution_count": 2809,
   "id": "4e44e410-d324-473c-981d-726dea99fcb0",
   "metadata": {},
   "outputs": [
    {
     "data": {
      "text/plain": [
       "(15189, 37)"
      ]
     },
     "execution_count": 2809,
     "metadata": {},
     "output_type": "execute_result"
    }
   ],
   "source": [
    "df2.shape"
   ]
  },
  {
   "cell_type": "markdown",
   "id": "618220c9-911a-4ea7-add4-8078223673c7",
   "metadata": {},
   "source": [
    "### 4.2 Columnas"
   ]
  },
  {
   "cell_type": "code",
   "execution_count": 2811,
   "id": "de27ea2b-5e72-44b1-ad09-eedf352c0d7b",
   "metadata": {},
   "outputs": [
    {
     "data": {
      "text/plain": [
       "[(0, 'host_since'),\n",
       " (1, 'host_location'),\n",
       " (2, 'host_is_superhost'),\n",
       " (3, 'host_identity_verified'),\n",
       " (4, 'host_has_profile_pic'),\n",
       " (5, 'neighbourhood'),\n",
       " (6, 'latitude'),\n",
       " (7, 'longitude'),\n",
       " (8, 'property_type'),\n",
       " (9, 'room_type'),\n",
       " (10, 'accommodates'),\n",
       " (11, 'bathrooms'),\n",
       " (12, 'bedrooms'),\n",
       " (13, 'beds'),\n",
       " (14, 'price'),\n",
       " (15, 'minimum_nights'),\n",
       " (16, 'maximum_nights'),\n",
       " (17, 'has_availability'),\n",
       " (18, 'availability_30'),\n",
       " (19, 'availability_60'),\n",
       " (20, 'number_of_reviews'),\n",
       " (21, 'last_review'),\n",
       " (22, 'review_scores_rating'),\n",
       " (23, 'review_scores_cleanliness'),\n",
       " (24, 'review_scores_checkin'),\n",
       " (25, 'review_scores_communication'),\n",
       " (26, 'review_scores_location'),\n",
       " (27, 'review_scores_value'),\n",
       " (28, 'reviews_per_month'),\n",
       " (29, 'instant_bookable'),\n",
       " (30, 'type_bathroom'),\n",
       " (31, 'has_license'),\n",
       " (32, 'Tiene_terraza'),\n",
       " (33, 'Tiene_wifi'),\n",
       " (34, 'Permite_Mascotas'),\n",
       " (35, 'Tiene_aire'),\n",
       " (36, 'Tiene_cocina')]"
      ]
     },
     "execution_count": 2811,
     "metadata": {},
     "output_type": "execute_result"
    }
   ],
   "source": [
    "list(enumerate(df2.columns))"
   ]
  },
  {
   "cell_type": "markdown",
   "id": "4ff6197f-97ed-4c44-93b4-dae2e233f629",
   "metadata": {},
   "source": [
    "### 4.3 Información"
   ]
  },
  {
   "cell_type": "code",
   "execution_count": 2813,
   "id": "f8801a73-f040-4d9c-92ad-ddcd2169bdbf",
   "metadata": {},
   "outputs": [
    {
     "name": "stdout",
     "output_type": "stream",
     "text": [
      "<class 'pandas.core.frame.DataFrame'>\n",
      "Index: 15189 entries, 0 to 18924\n",
      "Data columns (total 37 columns):\n",
      " #   Column                       Non-Null Count  Dtype  \n",
      "---  ------                       --------------  -----  \n",
      " 0   host_since                   15189 non-null  int64  \n",
      " 1   host_location                15189 non-null  object \n",
      " 2   host_is_superhost            15189 non-null  bool   \n",
      " 3   host_identity_verified       15189 non-null  bool   \n",
      " 4   host_has_profile_pic         15189 non-null  bool   \n",
      " 5   neighbourhood                15189 non-null  object \n",
      " 6   latitude                     15189 non-null  float64\n",
      " 7   longitude                    15189 non-null  float64\n",
      " 8   property_type                15189 non-null  object \n",
      " 9   room_type                    15189 non-null  object \n",
      " 10  accommodates                 15189 non-null  int64  \n",
      " 11  bathrooms                    15189 non-null  float64\n",
      " 12  bedrooms                     15189 non-null  float64\n",
      " 13  beds                         15189 non-null  float64\n",
      " 14  price                        15189 non-null  object \n",
      " 15  minimum_nights               15189 non-null  float64\n",
      " 16  maximum_nights               15189 non-null  float64\n",
      " 17  has_availability             15189 non-null  bool   \n",
      " 18  availability_30              15189 non-null  int64  \n",
      " 19  availability_60              15189 non-null  int64  \n",
      " 20  number_of_reviews            15189 non-null  int64  \n",
      " 21  last_review                  15189 non-null  float64\n",
      " 22  review_scores_rating         15189 non-null  float64\n",
      " 23  review_scores_cleanliness    15189 non-null  float64\n",
      " 24  review_scores_checkin        15189 non-null  float64\n",
      " 25  review_scores_communication  15189 non-null  float64\n",
      " 26  review_scores_location       15189 non-null  float64\n",
      " 27  review_scores_value          15189 non-null  float64\n",
      " 28  reviews_per_month            15189 non-null  float64\n",
      " 29  instant_bookable             15189 non-null  bool   \n",
      " 30  type_bathroom                15189 non-null  object \n",
      " 31  has_license                  15189 non-null  bool   \n",
      " 32  Tiene_terraza                15189 non-null  int64  \n",
      " 33  Tiene_wifi                   15189 non-null  int64  \n",
      " 34  Permite_Mascotas             15189 non-null  int64  \n",
      " 35  Tiene_aire                   15189 non-null  int64  \n",
      " 36  Tiene_cocina                 15189 non-null  int64  \n",
      "dtypes: bool(6), float64(15), int64(10), object(6)\n",
      "memory usage: 3.8+ MB\n"
     ]
    }
   ],
   "source": [
    "df2.info()"
   ]
  },
  {
   "cell_type": "markdown",
   "id": "c758d4f8-c48a-4afb-aa58-52c2ce4a956d",
   "metadata": {},
   "source": [
    "### 4.4 Valores nulos"
   ]
  },
  {
   "cell_type": "code",
   "execution_count": 2815,
   "id": "6c675414-bc89-4903-aedd-801873c4edac",
   "metadata": {},
   "outputs": [
    {
     "data": {
      "text/plain": [
       "host_since                     0\n",
       "host_location                  0\n",
       "host_is_superhost              0\n",
       "host_identity_verified         0\n",
       "host_has_profile_pic           0\n",
       "neighbourhood                  0\n",
       "latitude                       0\n",
       "longitude                      0\n",
       "property_type                  0\n",
       "room_type                      0\n",
       "accommodates                   0\n",
       "bathrooms                      0\n",
       "bedrooms                       0\n",
       "beds                           0\n",
       "price                          0\n",
       "minimum_nights                 0\n",
       "maximum_nights                 0\n",
       "has_availability               0\n",
       "availability_30                0\n",
       "availability_60                0\n",
       "number_of_reviews              0\n",
       "last_review                    0\n",
       "review_scores_rating           0\n",
       "review_scores_cleanliness      0\n",
       "review_scores_checkin          0\n",
       "review_scores_communication    0\n",
       "review_scores_location         0\n",
       "review_scores_value            0\n",
       "reviews_per_month              0\n",
       "instant_bookable               0\n",
       "type_bathroom                  0\n",
       "has_license                    0\n",
       "Tiene_terraza                  0\n",
       "Tiene_wifi                     0\n",
       "Permite_Mascotas               0\n",
       "Tiene_aire                     0\n",
       "Tiene_cocina                   0\n",
       "dtype: int64"
      ]
     },
     "execution_count": 2815,
     "metadata": {},
     "output_type": "execute_result"
    }
   ],
   "source": [
    "df2.isnull().sum()"
   ]
  },
  {
   "cell_type": "markdown",
   "id": "750fd8be-591b-4a12-a525-6a779a1aabf3",
   "metadata": {},
   "source": [
    "# 6. ANÁLISIS EXPLORATORIO (EDA)"
   ]
  },
  {
   "cell_type": "markdown",
   "id": "877f1882-af90-4ab9-9145-5cf4245ed268",
   "metadata": {},
   "source": [
    "### has_availability"
   ]
  },
  {
   "cell_type": "code",
   "execution_count": 2818,
   "id": "2dfef9f4-4bb0-4789-99e1-ab222a6b7f3d",
   "metadata": {},
   "outputs": [
    {
     "data": {
      "image/png": "[encoded data removed]",
      "text/plain": [
       "<Figure size 640x480 with 1 Axes>"
      ]
     },
     "metadata": {},
     "output_type": "display_data"
    }
   ],
   "source": [
    "sns.histplot(data = df2, x='has_availability')\n",
    "plt.show()"
   ]
  },
  {
   "cell_type": "markdown",
   "id": "2b7e3f25-6fc7-490b-a46e-f6666cf9fb8d",
   "metadata": {},
   "source": [
    "### availability_30"
   ]
  },
  {
   "cell_type": "code",
   "execution_count": 2820,
   "id": "4a806add-7113-4325-b6f1-1f2a132cf70c",
   "metadata": {},
   "outputs": [
    {
     "data": {
      "image/png": "[encoded data removed]",
      "text/plain": [
       "<Figure size 640x480 with 1 Axes>"
      ]
     },
     "metadata": {},
     "output_type": "display_data"
    }
   ],
   "source": [
    "df2.plot(kind='scatter', x='availability_30', y='price', color='darkblue', alpha=0.5)\n",
    "\n",
    "plt.xlabel('Disponibilidad en 30 días')\n",
    "plt.ylabel('Precio')\n",
    "plt.title('Variación del Precio según Disponibilidad en 30 dias')\n",
    "plt.show()"
   ]
  },
  {
   "cell_type": "code",
   "execution_count": 2821,
   "id": "ab9ec01c-670e-4a3d-bf83-336991628e8a",
   "metadata": {},
   "outputs": [
    {
     "data": {
      "image/png": "[encoded data removed]",
      "text/plain": [
       "<Figure size 640x480 with 1 Axes>"
      ]
     },
     "metadata": {},
     "output_type": "display_data"
    }
   ],
   "source": [
    "sns.histplot(data = df2, x='availability_30')\n",
    "plt.show()"
   ]
  },
  {
   "cell_type": "markdown",
   "id": "55397f68-099f-402d-bf94-d2669636120f",
   "metadata": {},
   "source": [
    "### availability_60"
   ]
  },
  {
   "cell_type": "code",
   "execution_count": 2823,
   "id": "7628fdf9-5a46-47aa-97d8-e3c060f7900e",
   "metadata": {},
   "outputs": [
    {
     "data": {
      "image/png": "[encoded data removed]",
      "text/plain": [
       "<Figure size 640x480 with 1 Axes>"
      ]
     },
     "metadata": {},
     "output_type": "display_data"
    }
   ],
   "source": [
    "df2.plot(kind='scatter', x='availability_60', y='price', color='darkblue', alpha=0.5)\n",
    "\n",
    "plt.xlabel('Disponibilidad en 60 días')\n",
    "plt.ylabel('Precio')\n",
    "plt.title('Variación del Precio según Disponibilidad en 60 dias')\n",
    "plt.show()"
   ]
  },
  {
   "cell_type": "code",
   "execution_count": 2824,
   "id": "18e41c4c-520e-46c0-8a60-f8bdcfd406e3",
   "metadata": {},
   "outputs": [
    {
     "data": {
      "image/png": "[encoded data removed]",
      "text/plain": [
       "<Figure size 640x480 with 1 Axes>"
      ]
     },
     "metadata": {},
     "output_type": "display_data"
    }
   ],
   "source": [
    "sns.histplot(data = df2, x='availability_60')\n",
    "plt.show()"
   ]
  },
  {
   "cell_type": "markdown",
   "id": "063ed09b-f3e1-4a13-a484-5161aae92ac1",
   "metadata": {},
   "source": [
    "### number_of_reviews"
   ]
  },
  {
   "cell_type": "code",
   "execution_count": 2826,
   "id": "20c187b6-bac7-4e9a-a7a4-90d057a5fbff",
   "metadata": {},
   "outputs": [
    {
     "data": {
      "image/png": "[encoded data removed]",
      "text/plain": [
       "<Figure size 640x480 with 1 Axes>"
      ]
     },
     "metadata": {},
     "output_type": "display_data"
    }
   ],
   "source": [
    "sns.histplot(data = df2, x='number_of_reviews')\n",
    "plt.show()"
   ]
  },
  {
   "cell_type": "markdown",
   "id": "bd8c68a0-5363-4223-b3b2-a7c6aa641adb",
   "metadata": {},
   "source": [
    "### reviews_score_rating"
   ]
  },
  {
   "cell_type": "code",
   "execution_count": 2828,
   "id": "f1adceab-165f-4816-9435-d578af1d9e99",
   "metadata": {},
   "outputs": [
    {
     "data": {
      "image/png": "[encoded data removed]",
      "text/plain": [
       "<Figure size 640x480 with 1 Axes>"
      ]
     },
     "metadata": {},
     "output_type": "display_data"
    }
   ],
   "source": [
    "sns.histplot(data = df2, x='review_scores_rating')\n",
    "plt.show()"
   ]
  },
  {
   "cell_type": "markdown",
   "id": "2728482e-632d-4c37-bbfa-4d0da3f1c255",
   "metadata": {},
   "source": [
    "### review_scores_cleanliness"
   ]
  },
  {
   "cell_type": "code",
   "execution_count": 2830,
   "id": "087ad64a-118f-47aa-ae05-75c54276e3f9",
   "metadata": {},
   "outputs": [
    {
     "data": {
      "image/png": "[encoded data removed]",
      "text/plain": [
       "<Figure size 640x480 with 1 Axes>"
      ]
     },
     "metadata": {},
     "output_type": "display_data"
    }
   ],
   "source": [
    "sns.histplot(data = df2, x='review_scores_cleanliness')\n",
    "plt.show()"
   ]
  },
  {
   "cell_type": "markdown",
   "id": "5cb13587-0250-4a63-8b1e-394d19b2839f",
   "metadata": {},
   "source": [
    "### review_scores_checkin"
   ]
  },
  {
   "cell_type": "code",
   "execution_count": 2832,
   "id": "be3324d9-f5f2-43ee-b3d2-bf3b825eb5e7",
   "metadata": {},
   "outputs": [
    {
     "data": {
      "image/png": "[encoded data removed]",
      "text/plain": [
       "<Figure size 640x480 with 1 Axes>"
      ]
     },
     "metadata": {},
     "output_type": "display_data"
    }
   ],
   "source": [
    "sns.histplot(data = df2, x='review_scores_checkin')\n",
    "plt.show()"
   ]
  },
  {
   "cell_type": "markdown",
   "id": "a5ae77f9-4c0e-40b2-91ff-1dae2c5f4ad2",
   "metadata": {},
   "source": [
    "### review_scores_communication"
   ]
  },
  {
   "cell_type": "code",
   "execution_count": 2834,
   "id": "e08efce1-5e87-4014-a816-83d7c04b050c",
   "metadata": {},
   "outputs": [
    {
     "data": {
      "image/png": "[encoded data removed]",
      "text/plain": [
       "<Figure size 640x480 with 1 Axes>"
      ]
     },
     "metadata": {},
     "output_type": "display_data"
    }
   ],
   "source": [
    "sns.histplot(data = df2, x='review_scores_communication')\n",
    "plt.show()"
   ]
  },
  {
   "cell_type": "markdown",
   "id": "bccc4a77-a7fb-41e6-842a-0e14ec57f612",
   "metadata": {},
   "source": [
    "### review_scores_location"
   ]
  },
  {
   "cell_type": "code",
   "execution_count": 2836,
   "id": "b8da159d-5242-432c-a67a-6b757b96fc3d",
   "metadata": {},
   "outputs": [
    {
     "data": {
      "image/png": "[encoded data removed]",
      "text/plain": [
       "<Figure size 640x480 with 1 Axes>"
      ]
     },
     "metadata": {},
     "output_type": "display_data"
    }
   ],
   "source": [
    "sns.histplot(data = df2, x='review_scores_location')\n",
    "plt.show()"
   ]
  },
  {
   "cell_type": "markdown",
   "id": "869a9862-46e7-415b-80ef-f668f942196d",
   "metadata": {},
   "source": [
    "### review_scores_value"
   ]
  },
  {
   "cell_type": "code",
   "execution_count": 2838,
   "id": "f6bfc049-3c6a-4452-84c2-80932faab3a7",
   "metadata": {},
   "outputs": [
    {
     "data": {
      "image/png": "[encoded data removed]",
      "text/plain": [
       "<Figure size 640x480 with 1 Axes>"
      ]
     },
     "metadata": {},
     "output_type": "display_data"
    }
   ],
   "source": [
    "sns.histplot(data = df2, x='review_scores_value')\n",
    "plt.show()"
   ]
  },
  {
   "cell_type": "markdown",
   "id": "9046b7b5-d812-4717-a135-04414880db59",
   "metadata": {},
   "source": [
    "### reviews_per_month"
   ]
  },
  {
   "cell_type": "code",
   "execution_count": null,
   "id": "1e5be1b6-80fb-48eb-b7a8-b62e97eee889",
   "metadata": {},
   "outputs": [],
   "source": []
  },
  {
   "cell_type": "code",
   "execution_count": 2840,
   "id": "ec24fde0-e382-45c1-9b5f-b7ba4321e15c",
   "metadata": {},
   "outputs": [
    {
     "data": {
      "image/png": "[encoded data removed]",
      "text/plain": [
       "<Figure size 640x480 with 1 Axes>"
      ]
     },
     "metadata": {},
     "output_type": "display_data"
    }
   ],
   "source": [
    "sns.histplot(data = df2, x='reviews_per_month')\n",
    "plt.show()"
   ]
  },
  {
   "cell_type": "code",
   "execution_count": null,
   "id": "f553e6ab-2685-4120-86c3-668130312bce",
   "metadata": {},
   "outputs": [],
   "source": []
  },
  {
   "cell_type": "code",
   "execution_count": 3051,
   "id": "16c53615-a6b5-40fc-bfdc-d013058e119e",
   "metadata": {},
   "outputs": [
    {
     "name": "stdout",
     "output_type": "stream",
     "text": [
      "Valores únicos en la columna 'host_since':\n",
      "[4646 5312 5263 ... 2760 1203   59]\n",
      "\n",
      "\n",
      "Valores únicos en la columna 'host_location':\n",
      "['spain' 'no_info' 'no_spain']\n",
      "\n",
      "\n",
      "Valores únicos en la columna 'host_is_superhost':\n",
      "[False  True]\n",
      "\n",
      "\n",
      "Valores únicos en la columna 'host_identity_verified':\n",
      "[ True False]\n",
      "\n",
      "\n",
      "Valores únicos en la columna 'host_has_profile_pic':\n",
      "[ True False]\n",
      "\n",
      "\n",
      "Valores únicos en la columna 'neighbourhood':\n",
      "['eixample' 'ciutat_vella' 'sant_marti' 'gracia' 'sarria_sant_gervasi'\n",
      " 'sants_montjuic' 'les_corts' 'horta_guinardo' 'sant_andreu' 'nou_barris']\n",
      "\n",
      "\n",
      "Valores únicos en la columna 'latitude':\n",
      "[41.40181    41.37936    41.40556    ... 41.37759841 41.38947967\n",
      " 41.37972424]\n",
      "\n",
      "\n",
      "Valores únicos en la columna 'longitude':\n",
      "[2.1761     2.17376    2.17262    ... 2.17700595 2.17862121 2.12564   ]\n",
      "\n",
      "\n",
      "Valores únicos en la columna 'property_type':\n",
      "['entire_loft' 'entire_rental_unit' 'entire_condo' 'entire_vacation_home'\n",
      " 'entire_home' 'entire_serviced_apartment' 'private_room_in_rental_unit'\n",
      " 'entire_townhouse' 'private_room_in_condo' 'private_room_in_home'\n",
      " 'entire_guest_suite' 'private_room_in_casa_particular'\n",
      " 'private_room_in_serviced_apartment' 'room_in_serviced_apartment'\n",
      " 'private_room_in_bed_and_breakfast' 'entire_villa'\n",
      " 'private_room_in_guesthouse' 'tiny_home' 'shared_room_in_rental_unit'\n",
      " 'shared_room_in_bed_and_breakfast' 'room_in_aparthotel'\n",
      " 'private_room_in_loft' 'shared_room_in_hostel' 'private_room'\n",
      " 'room_in_boutique_hotel' 'entire_guesthouse'\n",
      " 'private_room_in_guest_suite' 'barn' 'shared_room_in_floor'\n",
      " 'private_room_in_villa' 'private_room_in_townhouse' 'entire_place' 'boat'\n",
      " 'shared_room_in_home' 'private_room_in_hostel' 'room_in_hostel'\n",
      " 'room_in_hotel' 'entire_chalet' 'casa_particular' 'camper/rv'\n",
      " 'private_room_in_dome' 'shared_room_in_hotel' 'earthen_home'\n",
      " 'shared_room_in_serviced_apartment' 'shared_room_in_boutique_hotel'\n",
      " 'private_room_in_vacation_home' 'shared_room_in_condo'\n",
      " 'private_room_in_cottage' 'yurt' 'private_room_in_boat'\n",
      " 'shared_room_in_guesthouse' 'entire_cabin']\n",
      "\n",
      "\n",
      "Valores únicos en la columna 'room_type':\n",
      "['entire_home_apt' 'private_room' 'hotel_room' 'shared_room']\n",
      "\n",
      "\n",
      "Valores únicos en la columna 'accommodates':\n",
      "[ 2  6  8  5  4  9  3  1  7 10 11 16 12 13 14 15]\n",
      "\n",
      "\n",
      "Valores únicos en la columna 'bathrooms':\n",
      "[ 1.   1.5  2.   3.   3.5  2.5  4.   0.5  0.   5.5  7.5  6.   4.5  5.\n",
      "  8.  50.  10.  13.  15. ]\n",
      "\n",
      "\n",
      "Valores únicos en la columna 'bedrooms':\n",
      "[ 1.          4.          3.          2.          5.          7.\n",
      "  0.          6.          8.          9.         12.         11.\n",
      "  1.80436215 10.        ]\n",
      "\n",
      "\n",
      "Valores únicos en la columna 'beds':\n",
      "[ 1.          5.          6.          4.          3.          2.\n",
      "  0.          7.          9.          8.         15.         10.\n",
      " 11.         16.         13.         14.         18.         12.\n",
      "  2.28482397 20.        ]\n",
      "\n",
      "\n",
      "Valores únicos en la columna 'price':\n",
      "[176.0 74.0 257.0 249.0 240.0 126.0 229.0 281.0 393.0 450.0 193.0 175.0\n",
      " 177.0 386.0 160.0 150.0 145.0 140.0 105.0 380.0 350.0 320.0 186.0 201.0\n",
      " 70.0 142.0 371.0 139.0 94.0 21.0 182.0 220.0 93.0 370.0 194.0 251.0 90.0\n",
      " 41.0 47.0 63.0 588.0 516.0 534.0 117.0 196.0 120.0 250.0 219.0 45.0 483.0\n",
      " 18.0 60.0 238.0 490.0 236.0 314.0 433.0 411.0 200.0 671.0 239.0 431.0\n",
      " 133.0 198.0 155.0 223.0 246.0 478.0 225.0 159.0 192.0 43.0 283.0 28.0\n",
      " 73.0 253.0 86.0 95.0 536.0 234.0 800.0 612.0 627.0 499.0 81.0 152.0 179.0\n",
      " 292.0 50.0 419.0 26.0 260.0 227.0 299.0 80.0 110.0 241.0 37.0 421.0 205.0\n",
      " 368.0 294.0 19.0 360.0 35.0 242.0 230.0 156.0 400.0 209.0 331.0 210.0\n",
      " 61.0 341.0 165.0 40.0 288.0 642.0 271.0 535.0 180.0 284.0 92.0 51.0 215.0\n",
      " 191.0 564.0 273.0 100.0 119.0 85.0 62.0 169.0 189.0 39.0 699.0 30.0 529.0\n",
      " 265.0 255.0 326.0 33.0 25.0 144.0 130.0 254.0 56.0 151.0 174.0 75.0 252.0\n",
      " 59.0 364.0 286.0 500.0 511.0 199.0 173.0 318.0 109.0 282.0 359.0 335.0\n",
      " 269.0 166.0 302.0 237.0 78.0 444.0 161.0 137.0 216.0 157.0 52.0 96.0 79.0\n",
      " 247.0 340.0 351.0 355.0 313.0 289.0 57.0 342.0 650.0 206.0 131.0 20.0\n",
      " 168.0 290.0 274.0 357.0 214.0 121.0 197.0 125.0 233.0 116.0 384.0 184.0\n",
      " 550.0 183.0 279.0 268.0 267.0 204.0 132.0 181.0 543.0 124.0 645.0 190.0\n",
      " 224.0 434.0 317.0 363.0 84.0 187.0 291.0 89.0 362.0 164.0 261.0 146.0\n",
      " 76.0 77.0 256.0 1152.0 49.0 277.0 327.0 520.0 228.0 32.0 280.0 714.0 99.0\n",
      " 136.0 285.0 270.0 402.0 167.0 602.0 212.0 507.0 207.0 293.0 403.0 106.0\n",
      " 66.0 1221.0 154.0 38.0 352.0 869.0 276.0 171.0 127.0 87.0 244.0 13714.0\n",
      " 460.0 264.0 533.0 275.0 395.0 315.0 128.0 321.0 377.0 555.0 622.0 107.0\n",
      " 365.0 476.0 599.0 542.0 297.0 579.0 349.0 259.0 385.0 287.0 158.0 17.0\n",
      " 67.0 29.0 307.0 301.0 147.0 148.0 232.0 172.0 430.0 300.0 141.0 323.0\n",
      " 149.0 153.0 129.0 65.0 170.0 356.0 218.0 68.0 392.0 211.0 135.0 143.0\n",
      " 162.0 399.0 272.0 195.0 221.0 188.0 532.0 451.0 208.0 336.0 416.0 58.0\n",
      " 48.0 515.0 913.0 405.0 55.0 53.0 367.0 309.0 231.0 528.0 372.0 22.0 104.0\n",
      " 716.0 322.0 123.0 766.0 258.0 353.0 303.0 262.0 414.0 101.0 217.0 263.0\n",
      " 319.0 348.0 111.0 185.0 103.0 329.0 388.0 42.0 347.0 491.0 226.0 134.0\n",
      " 387.0 118.0 474.0 557.0 540.0 663.0 202.0 71.0 844.0 404.0 608.0 295.0\n",
      " 586.0 44.0 31.0 484.0 867.0 510.0 27.0 369.0 495.0 435.0 486.0 112.0 98.0\n",
      " 248.0 455.0 306.0 310.0 178.0 379.0 203.0 330.0 163.0 64.0 531.0 235.0\n",
      " 378.0 409.0 426.0 36.0 266.0 83.0 82.0 324.0 222.0 1051.0 561.0 23.0\n",
      " 354.0 339.0 375.0 298.0 424.0 502.0 437.0 412.0 401.0 514.0 346.0 338.0\n",
      " 138.0 1185.0 382.0 452.0 573.0 504.0 466.0 463.0 410.0 560.0 328.0 448.0\n",
      " 517.0 464.0 397.0 213.0 554.0 308.0 325.0 712.0 413.0 88.0 296.0 243.0\n",
      " 113.0 802.0 115.0 750.0 312.0 15.0 1089.0 837.0 1047.0 316.0 311.0 408.0\n",
      " 114.0 1763.0 1929.0 964.0 345.0 983.0 358.0 705.0 374.0 556.0 1500.0\n",
      " 2600.0 2000.0 850.0 2500.0 72.0 509.0 69.0 619.0 305.0 334.0 1175.0 333.0\n",
      " 278.0 807.0 614.0 537.0 539.0 611.0 406.0 519.0 91.0 304.0 789.0 985.0\n",
      " 34.0 567.0 54.0 553.0 786.0 634.0 376.0 697.0 551.0 457.0 1286.0 598.0\n",
      " 459.0 643.0 972.0 343.0 2286.0 361.0 629.0 332.0 648.0 597.0 245.0 572.0\n",
      " 398.0 46.0 549.0 493.0 1150.0 1114.0 454.0 734.0 465.0 102.0 582.0 725.0\n",
      " 24.0 518.0 669.0 381.0 1785.0 647.0 488.0 587.0 391.0 422.0 373.0 559.0\n",
      " 428.0 432.0 13.0 566.0 508.0 524.0 594.0 544.0 548.0 415.0 9000.0 396.0\n",
      " 1076.0 473.0 481.0 487.0 429.0 475.0 530.0 581.0 590.0 576.0 461.0 453.0\n",
      " 479.0 1580.0 929.0 1493.0 394.0 470.0 423.0 1679.0 996.0 97.0 449.0 498.0\n",
      " 506.0 636.0 755.0 574.0 390.0 439.0 585.0 595.0 541.0 778.0 1057.0 801.0\n",
      " 600.0 2857.0 992.0 485.0 684.0 675.0 108.0 638.0 682.0 366.0 603.0 583.0\n",
      " 633.0 733.0 653.0 503.0 389.0 1000.0 950.0 418.0 467.0 721.0 751.0 469.0\n",
      " 523.0 616.0 646.0 122.0 447.0 768.0 420.0 589.0 604.0 512.0 914.0 660.0\n",
      " 480.0 458.0 799.0 943.0 436.0 670.0 607.0 442.0 1091.0 698.0 828.0 620.0\n",
      " 704.0 805.0 1156.0 683.0 2109.0 489.0 337.0 976.0 707.0 462.0 456.0 16.0\n",
      " 691.0 906.0 631.0 425.0 1295.0 1310.0 417.0 790.0 1421.0 2582.0 1607.0\n",
      " 2143.0 1071.0 900.0 1123.0 610.0 501.0 438.0 443.0 521.0 505.0 593.0\n",
      " 711.0 826.0 665.0 1149.0 680.0 2289.0 692.0 1213.0 999.0 779.0 407.0\n",
      " 440.0 956.0 1852.0 609.0 1100.0 916.0 601.0 727.0 3528.0 1060.0 632.0\n",
      " 344.0 621.0 617.0 441.0 625.0 700.0 497.0 1143.0 568.0 1207.0 575.0 946.0\n",
      " 538.0 383.0 686.0 651.0 1082.0 12.0 649.0 547.0 618.0 886.0 570.0 773.0\n",
      " 896.0 902.0 477.0 468.0 471.0 562.0 708.0 626.0 446.0 624.0 742.0 808.0\n",
      " 14.0 693.0 1625.0 635.0 973.0 715.0 907.0 10.0 667.0 552.0 728.0 978.0\n",
      " 724.0 1700.0 815.0 1083.0 11999.0 745.0 967.0 1136.0 9999.0 482.0 613.0\n",
      " 1086.0 764.0 1157.0 1164.0 1323.0 831.0 1002.0 558.0 1314.0 945.0 659.0\n",
      " 526.0 513.0 852.0 757.0 1274.0 784.0 1302.0 1200.0 840.0 744.0 1536.0\n",
      " 951.0 1949.0 525.0 1179.0 2006.0 580.0 1369.0 2786.0 737.0 5014.0 743.0\n",
      " 9059.0 889.0 672.0 1628.0 1099.0 1478.0 1600.0 1292.0 1916.0 664.0 774.0\n",
      " 666.0 1674.0 825.0 706.0 630.0 1890.0 689.0 2324.0 1127.0 1230.0 522.0\n",
      " 775.0 2935.0 427.0 2014.0 1749.0 2223.0 1373.0 984.0 842.0 876.0 2121.0\n",
      " 1771.0 5000.0 1751.0 783.0 770.0 927.0 1039.0 1190.0 1187.0 820.0 1202.0\n",
      " 4000.0 1719.0]\n",
      "\n",
      "\n",
      "Valores únicos en la columna 'minimum_nights':\n",
      "[  7.  32.   1.   3.   5.   2.  10.  31.  30.  28.   4.   6. 120.  90.\n",
      "  12.  21. 180.  26.   8.  20.  14.  40.  13.  15.  60.  50.  33. 364.\n",
      " 179.  29.  35.  55. 100.  44. 150.  70. 360.  45. 210.  25.  42.  80.\n",
      "   9.  62.  66. 183.  64.  38.  91. 365.  36.  58. 300.  39.  63. 200.\n",
      "  92.  75. 330.  56.  18.  99.  61. 122.  34. 177.  22.  17.]\n",
      "\n",
      "\n",
      "Valores únicos en la columna 'maximum_nights':\n",
      "['760.00' '1125.00' '32.00' '31.00' '120.00' '365.00' '364.00' '90.00'\n",
      " '730.00' '28.00' '150.00' '1000.00' '330.00' '6.00' '60.00' '30.00'\n",
      " '66.00' '300.00' '210.00' '27.00' '180.00' '10.00' '130.00' '320.00'\n",
      " '350.00' '15.00' '400.00' '45.00' '40.00' '333.00' '360.00' '18.00'\n",
      " '160.00' '91.00' '600.00' '1124.00' '62.00' '17.00' '3.00' '100.00'\n",
      " '35.00' '50.00' '93.00' '450.00' '20.00' '124.00' '500.00' '341.00'\n",
      " '200.00' '21.00' '33.00' '92.00' '1121.00' '1122.00' '340.00' '186.00'\n",
      " '70.00' '630.00' '7.00' '5.00' '125.00' '29.00' '128.00' '250.00' '95.00'\n",
      " '1111.00' '190.00' '199.00' '270.00' '700.00' '14.00' '1100.00' '25.00'\n",
      " '36.00' '4.00' '64.00' '8.00' '1123.00' '355.00' '331.00' '999.00' '9.00'\n",
      " '366.00' '1120.00' '280.00' '13.00' '334.00' '11.00' '335.00' '84.00'\n",
      " '80.00' '26.00' '12.00' '99.00' '240.00' '230.00' '89.00' '145.00'\n",
      " '307.00' '78.00' '22.00' '158.00' '38.00' '176.00' '599.00' '390.00'\n",
      " '370.00' '380.00' '315.00' '175.00' '352.00' '184.00' '310.00' '299.00'\n",
      " '16.00' '1095.00' '63.00' '96.00' '329.00' '183.00' '140.00' '900.00'\n",
      " '112.00' '325.00' '371.00' '41.00' '799.00' '499.00' '660.00' '42.00'\n",
      " '39.00' '369.00' '399.00' '229.00' '81.00' '65.00' '1110.00' '58.00'\n",
      " '368.00' '170.00' '75.00' '304.00' '105.00' '735.00' '122.00' '345.00'\n",
      " '290.00' '168.00' '44.00' '204.00' '356.00' '416.00' '465.00' '182.00'\n",
      " '47.00' '606.00' '260.00' '359.00' '328.00' '255.00' '363.00' '61.00'\n",
      " '126.00' '77.00' '720.00' '67.00' '185.00' '46.00' '332.00' '48.00'\n",
      " '1.00' '97.00' '192.00' '2.00' '344.00' '336.00' '398.00' '327.00'\n",
      " '51.00' '165.00' '367.00' '540.00' '226.00' '55.00' '265.00' '98.00'\n",
      " '220.00' '196.00' '131.00' '225.00' '101.00' '129.00']\n",
      "\n",
      "\n",
      "Valores únicos en la columna 'has_availability':\n",
      "[ True False]\n",
      "\n",
      "\n",
      "Valores únicos en la columna 'availability_30':\n",
      "[ 0 10  4  2 30  6  1  7  8  9 29 16 21 12 14  5 23 15 11 13 22  3 27 26\n",
      " 28 20 18 19 24 17 25]\n",
      "\n",
      "\n",
      "Valores únicos en la columna 'availability_60':\n",
      "[ 0 36 20  6  4 40 13 60 17  7  1 15 29  3 21 59 37 32 18 50 42 44 11 24\n",
      "  2 27  8 31 14 25 16 52 34 35 23 57 41 53  9  5 22 56 58 48 45 12 28 19\n",
      " 55 10 43 26 51 30 33 39 38 54 47 49 46]\n",
      "\n",
      "\n",
      "Valores únicos en la columna 'number_of_reviews':\n",
      "[  90    2   41   78  121  174   13  295  234  138  319   85   83  108\n",
      "  593  323  383   92   19    0    8    1   82  260   10   61  822    7\n",
      "   71   46   54   98   17  126  268   25  375  615  256  282   67  281\n",
      "  125  114   52   60   65  423  133    4    3  135  131   37   22   38\n",
      "   68  110   28   32   58   29  120  417  147   89  116  233  264  151\n",
      "  356  192  434  100   95  491  413  136   26  137  246  606  163    9\n",
      "   73  229   70  273  296  441   31   11   30  290  566   87  109   88\n",
      "  186  191   94  420   86  284  156  380   49   36  190  361   40  231\n",
      "  101  212  152   45  604  342  178  337  309  157   96  145   74  762\n",
      "  202  179  588  533  391   27  140  402  787  293  245  219   50  244\n",
      "  122  373  501  228  134  159  422  393  297  578  431   39  144  210\n",
      "   99  429   24  105  353  222    6   16  106  513  354  327  254   79\n",
      "  286  450  294  262  235  470   48   64  251  204  478  118   63   18\n",
      "  597   33    5  103  528  312  189  164  216  211   53   77  358  170\n",
      "  311  461  168  258  195  389  414  225  180  269   80  291  158  207\n",
      "  443  307  259  217  555   66  349   42  408  132  142  292  471  111\n",
      "  230  411  365  378  166   97  213   76   72  252  183  321  502  394\n",
      "  236  395  208  300  671  182  768  935  303  340  279  545   44  283\n",
      "  221  331  187  247  240   20  565  751  127  119  503  362  601  177\n",
      "  352  139  438  289  363  169  162  130   56  497 1218   14  950  242\n",
      "  285  489  253  372  548   84  351  185  173  332   51  329  306   69\n",
      "  201  148  153   75  454  107  149  552  102  397  407  117  263  248\n",
      "  196  347  490   23   43  400   57  527  405  370  335  418  536   91\n",
      "  274  278  160  415  540  574  368   35  288  104   12  449  341   15\n",
      "  214  485  384   55  172  531  560  237  184  739  218  367  506  299\n",
      "  165  223  463  745  143  568  238  198  316  457  369   47  575  385\n",
      "  572  205  276   59  582  215  721  499  322  563  628  267  526  194\n",
      "   62  146  416  467  302  124  360  514  444  464  480  113  448  541\n",
      "  176  250  387  542  115  544  571  704  811  638  197  206  437  427\n",
      "  129  622  350  530  419  328  731  220  310  359  585  313  227  386\n",
      "  357  559  167  364  265  345  344  456   34  455  612  308  436  562\n",
      "  304  320  484  277  607  403  797  305  161  272  549  155  188  573\n",
      "  193  271  596  426  232  255  469  346  315  355  301  388  239  430\n",
      "  589  446  421  382  171  338  783  679   81   93  794  409  226  181\n",
      "  298  314  442  371  257  481  583  577  336  432  398  150  209  452\n",
      "  203  175  401  647  318  510  325  112  224  390  243  339  412  790\n",
      "  275  404  324  261  487  270  287  141  123  579  424  200  439  326\n",
      "  410  635  433  154  348  280  399  374  460   21  496  619  569  586\n",
      "  876  128  899  333  504  249  592  709  500  742  199  453  771 1153\n",
      " 1212  241  451  584  343  931  624  806 1247  685  915  611  963 2078\n",
      "  836  392  775  396  425  791  376 1129  539  266 1179  435  678 2121\n",
      "  535  691  706  546  702]\n",
      "\n",
      "\n",
      "Valores únicos en la columna 'last_review':\n",
      "[  75. 2914.   95. ...  468.  230.  225.]\n",
      "\n",
      "\n",
      "Valores únicos en la columna 'review_scores_rating':\n",
      "[4.74       4.         4.35       4.79       4.46       4.65\n",
      " 4.2        4.71       4.18       4.53       4.68       4.45\n",
      " 4.32       4.76       4.64       4.59       4.93       4.48\n",
      " 4.59173181 4.88       5.         4.23       4.7        3.88\n",
      " 4.84       4.73       4.33       4.16       4.52       4.44\n",
      " 4.62       4.39       4.72       4.77       4.75       4.81\n",
      " 4.15       4.41       4.17       4.58       4.6        4.63\n",
      " 4.85       4.66       4.9        4.61       4.25       4.55\n",
      " 4.51       4.49       4.69       4.83       4.38       4.95\n",
      " 4.56       4.89       4.57       4.13       4.67       4.36\n",
      " 4.54       3.75       4.47       4.97       4.86       4.29\n",
      " 4.96       4.91       4.8        4.82       4.78       4.94\n",
      " 4.5        4.87       4.26       4.04       4.3        4.37\n",
      " 4.22       4.98       3.67       4.34       4.92       4.24\n",
      " 4.42       4.43       3.86       4.99       4.4        3.93\n",
      " 4.27       4.14       3.92       3.94       3.95       4.1\n",
      " 4.28       3.43       4.06       4.12       4.05       3.7\n",
      " 4.19       4.21       4.09       4.31       3.6        3.64\n",
      " 3.         3.83       4.11       3.98       1.         3.87\n",
      " 3.69       3.4        3.8        3.44       4.02       3.2\n",
      " 3.79       3.9        3.71       3.89       3.56       3.5\n",
      " 3.78       4.07       3.14       4.03       4.08       2.5\n",
      " 3.91       2.         3.81       3.33       3.85       3.68\n",
      " 2.75       3.82       2.67       2.25       3.57       2.6\n",
      " 3.96       3.38       3.13       3.25       2.83       3.27\n",
      " 3.18       3.77       3.76       3.62       2.91       2.93\n",
      " 3.72       3.09       3.61       2.63       2.17       3.99\n",
      " 3.17       3.73       3.65       1.25       3.97       1.5\n",
      " 2.8        1.67       3.29       2.86       2.33      ]\n",
      "\n",
      "\n",
      "Valores únicos en la columna 'review_scores_cleanliness':\n",
      "[4.59       4.5        4.63       4.89       4.39       4.74\n",
      " 4.4        4.7        4.55       4.64       4.82       4.48\n",
      " 4.23       4.75       4.6        4.9        4.44       4.3\n",
      " 4.79       4.61833305 5.         4.47       4.72       3.43\n",
      " 4.92       4.77       4.         4.33       4.69       4.35\n",
      " 4.76       4.85       4.52       4.86       4.21       4.54\n",
      " 3.96       4.34       4.94       4.87       4.67       4.53\n",
      " 4.18       4.51       4.68       4.83       4.56       4.45\n",
      " 4.91       4.61       4.57       4.8        4.24       4.84\n",
      " 4.65       4.08       4.58       4.62       4.16       4.12\n",
      " 4.38       4.49       4.98       4.95       4.73       4.25\n",
      " 4.36       4.81       4.88       4.78       4.71       3.75\n",
      " 4.93       4.31       4.96       4.43       4.2        3.33\n",
      " 4.46       4.66       4.99       4.28       4.41       4.06\n",
      " 3.91       4.97       4.37       3.8        4.27       3.93\n",
      " 4.26       4.11       4.04       4.32       4.14       3.71\n",
      " 4.17       4.29       3.35       4.13       4.42       4.1\n",
      " 3.6        3.5        3.84       4.22       3.89       3.94\n",
      " 3.85       3.55       3.         4.15       3.67       3.86\n",
      " 2.8        3.83       1.         4.03       4.19       3.46\n",
      " 3.95       4.01       3.56       3.9        3.97       3.82\n",
      " 3.29       3.17       3.57       4.05       2.5        3.25\n",
      " 3.87       2.67       3.44       2.         3.88       4.07\n",
      " 3.92       4.09       3.54       3.68       3.58       3.2\n",
      " 3.64       2.75       3.63       3.61       3.78       4.02\n",
      " 1.5        2.33       3.73       3.7        3.36       3.45\n",
      " 3.77       2.73       3.79       3.72       3.65       2.2\n",
      " 3.81       3.14       1.67       3.4        3.1        3.59\n",
      " 2.86       3.22       2.43       3.38      ]\n",
      "\n",
      "\n",
      "Valores únicos en la columna 'review_scores_checkin':\n",
      "[4.83     5.       4.75     4.95     4.88     4.76     4.3      4.78\n",
      " 4.82     4.67     4.86     4.81     4.52     4.92     4.65     4.74\n",
      " 4.719024 4.45     4.62     4.       4.84     4.9      3.96     4.49\n",
      " 4.98     4.91     4.13     4.6      4.63     4.8      4.94     4.69\n",
      " 4.33     4.73     4.89     4.87     4.99     4.77     4.97     4.43\n",
      " 4.48     4.93     4.72     4.54     4.79     4.85     4.61     4.64\n",
      " 4.96     4.47     4.57     4.7      4.5      4.71     4.68     4.58\n",
      " 3.33     4.25     4.56     4.51     3.7      3.69     4.38     4.55\n",
      " 4.32     4.66     4.42     4.12     4.05     4.59     4.28     3.86\n",
      " 4.53     4.17     4.37     3.78     4.14     4.1      4.2      4.39\n",
      " 4.35     4.44     3.44     3.4      4.18     4.11     4.08     3.68\n",
      " 3.83     4.29     3.91     4.36     4.34     4.23     4.31     4.21\n",
      " 2.5      3.89     3.       4.46     4.41     3.8      2.       4.4\n",
      " 3.92     4.27     1.       3.67     3.75     3.5      3.98     4.09\n",
      " 3.58     4.22     4.26     3.71     4.16     3.79     4.24     4.19\n",
      " 3.25     4.02     3.95     3.94     3.88     2.75     3.14     3.49\n",
      " 4.03     4.15     4.01     3.97     3.77     3.81     3.6      3.82\n",
      " 4.04     3.17     3.74     3.46     3.2      3.27     3.76     2.8\n",
      " 3.56     3.73     3.63     4.06     3.59     3.36     2.53     2.67\n",
      " 2.25     3.29     3.85     3.93     3.84     3.24     2.33     3.38\n",
      " 3.99     3.45     3.43     4.07     3.9      1.5     ]\n",
      "\n",
      "\n",
      "Valores únicos en la columna 'review_scores_communication':\n",
      "[4.79       5.         4.68       4.99       4.88       4.81\n",
      " 4.7        4.91       4.83       4.82       4.49       4.94\n",
      " 4.86       4.96       4.77       4.93       4.95       4.72285955\n",
      " 4.63       4.61       4.74       3.86       4.89       4.14\n",
      " 4.56       4.62       4.72       4.92       4.85       4.38\n",
      " 4.6        4.65       4.9        4.98       4.8        4.75\n",
      " 4.53       4.78       4.97       4.59       4.87       4.48\n",
      " 4.67       4.25       4.69       4.73       4.64       4.76\n",
      " 4.71       4.84       4.5        4.66       4.33       4.55\n",
      " 4.58       3.67       4.47       4.         4.45       4.57\n",
      " 4.54       4.43       4.3        4.2        4.21       4.24\n",
      " 4.18       4.27       4.44       4.52       4.36       3.71\n",
      " 4.28       4.31       4.51       4.17       4.41       4.42\n",
      " 4.09       4.4        3.89       4.39       3.84       4.23\n",
      " 3.82       4.15       3.         3.75       4.46       4.32\n",
      " 4.34       1.         4.22       4.07       4.1        3.92\n",
      " 3.2        3.33       3.5        4.29       4.19       3.78\n",
      " 3.63       4.35       4.37       3.58       4.13       2.\n",
      " 3.22       4.05       3.17       1.5        4.02       4.11\n",
      " 4.08       2.5        3.87       3.97       3.95       3.6\n",
      " 3.79       3.91       2.75       2.8        4.26       4.16\n",
      " 3.94       3.83       2.6        2.67       3.4        3.25\n",
      " 4.06       4.03       2.33       3.88       4.12       3.93\n",
      " 3.73       3.13       3.8        3.96       3.38       3.77\n",
      " 3.43       3.85       2.4        4.04       3.9        3.29      ]\n",
      "\n",
      "\n",
      "Valores únicos en la columna 'review_scores_location':\n",
      "[4.81       5.         4.78       4.62       4.87       4.6\n",
      " 4.89       4.73       4.68       4.79       4.88       4.7\n",
      " 4.46       4.94       4.35       4.92       4.63       4.75201535\n",
      " 4.         4.67       4.56       4.84       4.14       4.93\n",
      " 4.8        4.52       4.77       4.83       4.98       4.82\n",
      " 4.45       4.66       4.41       4.86       4.9        4.72\n",
      " 4.75       4.33       4.91       4.58       4.95       4.97\n",
      " 4.76       4.74       4.96       4.48       4.54       4.44\n",
      " 4.69       4.25       4.39       4.85       4.5        4.71\n",
      " 4.51       4.59       4.99       4.64       4.53       4.42\n",
      " 4.28       4.55       4.65       4.19       3.59       4.61\n",
      " 4.57       4.4        3.63       4.32       4.43       4.38\n",
      " 3.83       4.34       4.21       4.36       4.37       4.47\n",
      " 4.11       4.22       4.08       4.18       4.49       3.84\n",
      " 3.97       4.01       4.24       4.2        4.13       2.\n",
      " 4.16       4.17       4.31       4.05       3.         4.27\n",
      " 3.88       3.67       4.3        3.5        4.23       4.15\n",
      " 3.57       3.96       4.03       3.89       4.1        4.29\n",
      " 4.12       3.92       3.14       1.         3.25       3.33\n",
      " 3.4        4.26       3.8        3.71       3.94       4.04\n",
      " 3.6        3.86       3.75       4.06       4.09       3.85\n",
      " 3.91       3.2        3.9        3.17       2.5        3.93\n",
      " 3.38       3.81       2.67       3.78       3.77       3.79\n",
      " 2.8        3.73       3.62       3.95       3.36       3.56\n",
      " 3.3       ]\n",
      "\n",
      "\n",
      "Valores únicos en la columna 'review_scores_value':\n",
      "[4.67       4.5        4.3        4.64       4.56       4.\n",
      " 4.63       4.09       4.43       4.6        4.44       4.25\n",
      " 4.53       4.59       4.57       4.79       4.68       4.45439308\n",
      " 4.88       5.         4.83       4.14       4.62       4.51\n",
      " 3.83       4.66       4.24       4.32       4.47       4.31\n",
      " 4.72       4.71       4.8        4.08       4.38       4.55\n",
      " 4.81       4.58       4.82       4.33       4.52       4.37\n",
      " 4.86       4.34       4.9        4.36       4.75       4.41\n",
      " 4.15       4.69       4.13       4.12       4.87       4.61\n",
      " 3.75       4.92       4.48       4.76       4.39       4.18\n",
      " 4.73       4.84       4.04       4.27       4.65       4.77\n",
      " 3.71       4.49       4.28       4.7        4.54       4.74\n",
      " 4.85       3.5        3.         4.78       4.16       4.1\n",
      " 4.4        4.91       4.17       4.22       4.11       4.2\n",
      " 4.35       4.46       4.45       4.42       4.89       4.05\n",
      " 4.29       3.82       4.96       3.86       4.95       4.23\n",
      " 3.73       3.92       3.88       3.79       4.26       4.07\n",
      " 4.19       3.43       4.21       4.94       4.03       3.17\n",
      " 3.96       4.02       3.64       4.06       3.22       3.6\n",
      " 3.95       4.93       3.7        2.5        3.67       3.4\n",
      " 3.68       3.98       1.         3.47       3.46       3.99\n",
      " 3.94       3.81       3.8        3.93       3.2        3.58\n",
      " 2.         3.72       3.44       4.01       3.87       3.74\n",
      " 3.9        3.69       3.56       4.97       3.78       3.91\n",
      " 3.33       1.5        3.85       3.53       3.57       3.62\n",
      " 3.63       3.25       2.75       1.33       2.67       3.29\n",
      " 3.89       3.84       3.97       3.55       2.2        3.21\n",
      " 2.63       3.77       4.98       3.18       2.6        3.36\n",
      " 3.54       2.64       3.61       3.39       3.45       2.33\n",
      " 2.38       3.65       3.76       2.25       3.38       2.8\n",
      " 3.3        2.88       3.27       1.25       3.59       3.06\n",
      " 3.14       3.13       2.71       2.86       1.67      ]\n",
      "\n",
      "\n",
      "Valores únicos en la columna 'reviews_per_month':\n",
      "['1.15' '0.02' '0.30' '0.48' '0.77' '1.18' '0.08' '1.96' '0.09' '1.40'\n",
      " '0.96' '2.02' '0.58' '0.57' '0.69' '3.94' '2.15' '2.38' '0.13' '1.71'\n",
      " '0.05' '0.01' '0.51' '1.72' '0.06' '0.41' '6.87' '0.47' '0.29' '0.37'\n",
      " '0.65' '0.11' '0.79' '1.81' '0.18' '2.44' '4.11' '1.60' '1.90' '0.44'\n",
      " '1.92' '0.42' '0.78' '0.33' '0.39' '0.53' '2.72' '0.86' '0.04' '0.87'\n",
      " '0.80' '0.34' '0.36' '0.31' '0.46' '0.81' '0.19' '0.22' '0.82' '0.27'\n",
      " '0.12' '2.69' '0.95' '0.67' '1.86' '1.73' '0.98' '2.55' '1.55' '2.98'\n",
      " '1.17' '3.36' '2.77' '0.91' '0.17' '1.67' '0.03' '4.10' '0.93' '1.12'\n",
      " '0.50' '1.83' '1.33' '3.02' '1.02' '1.06' '0.21' '0.07' '0.20' '2.01'\n",
      " '3.82' '0.90' '1.53' '1.75' '2.88' '1.93' '1.07' '2.60' '0.24' '0.25'\n",
      " '1.31' '2.52' '1.57' '0.62' '1.45' '1.05' '4.52' '2.36' '1.36' '2.32'\n",
      " '2.14' '0.94' '1.14' '0.66' '5.22' '1.52' '1.26' '3.70' '2.73' '1.63'\n",
      " '0.97' '1.68' '3.21' '1.94' '5.53' '0.73' '2.06' '1.78' '0.61' '0.35'\n",
      " '0.54' '2.62' '3.45' '1.37' '0.15' '0.14' '2.92' '2.86' '2.67' '3.99'\n",
      " '1.62' '3.13' '1.46' '0.88' '3.07' '3.06' '0.52' '0.28' '0.75' '2.56'\n",
      " '0.10' '1.29' '3.68' '2.57' '0.16' '1.50' '1.82' '0.59' '2.18' '2.12'\n",
      " '3.42' '2.33' '2.87' '3.43' '0.84' '0.49' '0.32' '0.40' '4.22' '0.23'\n",
      " '3.84' '1.38' '1.19' '0.56' '1.24' '2.27' '3.33' '1.44' '1.88' '1.41'\n",
      " '2.83' '2.96' '1.65' '1.64' '1.99' '2.16' '0.63' '3.22' '2.23' '1.39'\n",
      " '1.89' '1.08' '2.00' '1.59' '4.04' '2.63' '1.27' '2.59' '3.46' '0.85'\n",
      " '2.24' '0.99' '0.64' '2.99' '3.05' '0.71' '1.87' '1.35' '0.68' '2.40'\n",
      " '3.76' '2.35' '2.91' '2.94' '0.70' '1.54' '2.21' '3.48' '4.86' '1.32'\n",
      " '5.73' '6.85' '2.47' '2.07' '4.05' '2.34' '2.28' '1.84' '1.79' '4.50'\n",
      " '3.71' '3.31' '0.43' '5.08' '2.76' '1.03' '3.56' '2.49' '4.28' '2.19'\n",
      " '2.75' '1.25' '3.04' '8.94' '7.03' '3.23' '1.43' '2.30' '3.65' '4.07'\n",
      " '1.09' '3.40' '2.61' '2.64' '0.45' '1.76' '3.74' '3.27' '1.77' '3.62'\n",
      " '1.11' '4.57' '0.55' '0.76' '0.72' '1.97' '5.04' '2.65' '3.66' '1.69'\n",
      " '3.93' '2.79' '2.53' '1.49' '2.09' '3.14' '4.31' '4.30' '2.17' '3.91'\n",
      " '3.12' '2.43' '0.83' '1.61' '1.30' '4.03' '4.27' '2.85' '1.42' '5.64'\n",
      " '3.11' '2.22' '2.78' '3.81' '2.29' '3.49' '2.71' '5.70' '2.13' '2.08'\n",
      " '1.21' '4.53' '2.45' '3.61' '3.24' '0.74' '1.85' '0.38' '4.39' '3.03'\n",
      " '4.54' '3.53' '1.66' '2.41' '3.17' '5.54' '4.90' '0.26' '2.48' '2.97'\n",
      " '1.10' '4.42' '2.20' '3.50' '4.17' '1.28' '3.26' '2.95' '3.95' '2.10'\n",
      " '3.78' '1.04' '4.25' '2.89' '3.00' '4.23' '2.70' '4.78' '6.55' '5.09'\n",
      " '3.79' '2.51' '1.91' '3.47' '1.51' '1.74' '4.93' '3.60' '4.29' '3.39'\n",
      " '2.11' '0.92' '1.56' '1.95' '1.70' '5.89' '3.52' '4.65' '2.54' '3.08'\n",
      " '1.23' '2.04' '2.05' '2.03' '2.80' '2.66' '3.19' '3.30' '1.20' '3.69'\n",
      " '2.46' '3.10' '4.62' '3.41' '3.96' '1.48' '4.96' '4.64' '6.56' '2.81'\n",
      " '1.58' '1.01' '2.25' '4.55' '2.50' '0.60' '4.74' '3.80' '0.89' '4.89'\n",
      " '3.89' '2.93' '3.01' '3.57' '3.18' '3.32' '2.84' '6.54' '3.28' '4.75'\n",
      " '3.20' '4.19' '6.70' '1.00' '4.56' '5.12' '4.85' '4.00' '1.16' '4.94'\n",
      " '3.73' '3.97' '1.80' '2.82' '5.68' '5.19' '4.51' '3.55' '1.13' '3.77'\n",
      " '7.05' '3.51' '3.59' '1.22' '2.58' '4.41' '4.45' '1.34' '5.23' '2.26'\n",
      " '3.29' '3.16' '1.98' '3.64' '3.15' '4.20' '2.37' '4.01' '3.88' '3.83'\n",
      " '6.02' '2.31' '3.58' '2.74' '3.98' '4.24' '2.42' '4.16' '3.54' '3.72'\n",
      " '4.40' '4.98' '5.13' '2.39' '4.84' '6.47' '6.17' '2.68' '4.58' '5.65'\n",
      " '6.36' '9.73' '6.82' '3.67' '4.71' '3.87' '10.44' '5.24' '5.96' '3.09'\n",
      " '1.47' '7.52' '2.90' '4.69' '4.77' '6.48' '3.85' '3.35' '9.57' '7.13'\n",
      " '5.82' '3.34' '4.32' '3.44' '5.38' '6.03' '4.92' '4.33' '10.46' '6.38'\n",
      " '15.70' '16.77' '4.43' '5.50' '4.18' '5.76' '5.33' '4.44' '3.38' '9.66'\n",
      " '5.41' '4.91' '6.64' '8.11' '4.12' '3.25' '3.37' '4.06' '4.14' '4.15'\n",
      " '21.02' '4.73' '3.63' '6.19' '12.25' '4.09' '19.08' '5.47' '5.35' '10.80'\n",
      " '6.60' '14.81' '4.70' '9.29' '7.21' '6.72' '5.81' '3.90' '3.92' '6.66'\n",
      " '6.22' '15.82' '8.13' '33.94' '5.45' '4.83' '13.91' '3.86' '6.79' '6.00'\n",
      " '5.43' '5.00' '11.14' '5.01' '6.68' '13.78' '7.95' '5.71' '7.07' '10.09'\n",
      " '7.61' '4.67' '11.76' '9.47' '8.00' '7.72' '4.72' '5.29' '4.59' '5.60'\n",
      " '4.66' '13.46' '16.48' '11.33' '4.34' '6.25' '8.39' '6.80' '5.56' '5.59'\n",
      " '4.47' '9.21' '4.36' '8.47' '12.44' '29.45' '4.80' '6.98' '14.25' '5.14'\n",
      " '5.27' '9.67' '5.28' '7.35' '9.44' '4.79' '6.27' '11.56' '12.09' '9.59'\n",
      " '6.08' '8.63' '37.43' '6.77' '14.36' '15.19' '6.62' '13.00' '13.74'\n",
      " '7.67' '7.97' '13.24' '4.35' '7.30' '13.01' '4.95' '5.17' '21.68' '7.92'\n",
      " '70.47' '11.36' '4.37' '6.37' '16.90' '7.87' '15.88' '10.58' '4.60'\n",
      " '11.53' '7.16' '16.32' '7.08' '5.52' '18.64' '3.75' '24.27' '24.80'\n",
      " '10.95' '11.35' '20.05' '6.32' '7.59' '6.40' '7.55' '4.48' '5.34' '8.49'\n",
      " '5.67' '5.25' '5.95' '6.34' '4.26' '6.46' '7.39' '5.46' '4.81' '7.26'\n",
      " '5.21' '4.99' '5.39' '5.40' '5.86' '4.46' '4.49' '4.88' '8.88' '16.30'\n",
      " '23.16' '5.26' '4.21' '6.90' '7.83' '6.58' '5.37' '5.79' '6.61' '6.30'\n",
      " '5.06' '4.02' '5.48' '5.44' '6.10' '6.06' '8.01' '5.87' '8.33' '9.79'\n",
      " '10.67' '6.75' '4.87' '7.24' '9.58' '7.20' '10.26' '7.12' '4.63' '5.63'\n",
      " '5.93' '6.05' '5.18' '6.89' '52.65' '4.08' '15.25' '6.07' '9.52' '5.02'\n",
      " '5.58' '6.49' '10.88' '7.89' '13.69' '10.85' '9.09' '5.99' '5.05' '6.93'\n",
      " '5.49' '7.63' '5.61' '8.20' '8.30' '6.92' '13.19' '7.54' '7.32' '4.76'\n",
      " '8.57' '5.03' '7.81' '7.98' '4.82' '7.78' '7.48' '16.98' '8.53' '9.32'\n",
      " '6.28' '5.66' '6.35' '5.62' '8.83' '8.18' '6.45' '10.45' '14.68' '5.11'\n",
      " '6.41' '6.11' '9.83' '6.63' '6.29' '5.57' '6.50' '5.07' '5.36' '8.10'\n",
      " '8.50' '5.72' '8.04' '8.61' '5.77' '8.35' '7.19' '6.21' '6.43' '6.81'\n",
      " '6.65' '6.67' '9.41' '8.51' '6.76' '24.64' '6.44' '16.78' '7.65' '7.50'\n",
      " '5.31' '4.13' '8.09' '7.00' '5.51' '9.68' '6.12' '7.06' '5.84' '6.94'\n",
      " '6.84' '8.76' '10.57' '7.02' '9.00' '7.86' '9.74' '10.15' '8.44' '8.82'\n",
      " '5.78' '6.73' '8.91' '8.85' '5.92' '7.74' '6.95' '9.34' '4.38' '18.88'\n",
      " '4.68' '6.18' '7.14' '11.25' '8.14' '11.19' '6.96' '9.55' '9.69' '11.67'\n",
      " '5.32' '12.35' '6.86' '8.86' '5.85']\n",
      "\n",
      "\n",
      "Valores únicos en la columna 'instant_bookable':\n",
      "[ True False]\n",
      "\n",
      "\n",
      "Valores únicos en la columna 'type_bathroom':\n",
      "['private' 'shared']\n",
      "\n",
      "\n",
      "Valores únicos en la columna 'has_license':\n",
      "[ True False]\n",
      "\n",
      "\n",
      "Valores únicos en la columna 'Tiene_terraza':\n",
      "[0 1]\n",
      "\n",
      "\n",
      "Valores únicos en la columna 'Tiene_wifi':\n",
      "[1 0]\n",
      "\n",
      "\n",
      "Valores únicos en la columna 'Permite_Mascotas':\n",
      "[0 1]\n",
      "\n",
      "\n",
      "Valores únicos en la columna 'Tiene_aire':\n",
      "[1 0]\n",
      "\n",
      "\n",
      "Valores únicos en la columna 'Tiene_cocina':\n",
      "[1 0]\n",
      "\n",
      "\n"
     ]
    }
   ],
   "source": [
    "for columna in df2.columns:\n",
    "    # Obtener los valores únicos de la columna\n",
    "    valores_unicos = df2[columna].unique()\n",
    "    \n",
    "    # Imprimir el nombre de la columna y sus valores únicos\n",
    "    print(f\"Valores únicos en la columna '{columna}':\")\n",
    "    print(valores_unicos)\n",
    "    print(\"\\n\")"
   ]
  },
  {
   "cell_type": "code",
   "execution_count": null,
   "id": "55970a9c-38f1-4482-a073-fbfdbfcf3702",
   "metadata": {},
   "outputs": [],
   "source": []
  }
 ],
 "metadata": {
  "kernelspec": {
   "display_name": "Python 3 (ipykernel)",
   "language": "python",
   "name": "python3"
  },
  "language_info": {
   "codemirror_mode": {
    "name": "ipython",
    "version": 3
   },
   "file_extension": ".py",
   "mimetype": "text/x-python",
   "name": "python",
   "nbconvert_exporter": "python",
   "pygments_lexer": "ipython3",
   "version": "3.12.4"
  }
 },
 "nbformat": 4,
 "nbformat_minor": 5
}
