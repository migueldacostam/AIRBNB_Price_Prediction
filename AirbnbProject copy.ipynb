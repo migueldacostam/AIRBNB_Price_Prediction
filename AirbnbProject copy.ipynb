{
 "cells": [
  {
   "cell_type": "code",
   "execution_count": 1,
   "id": "bc492041-242e-45ce-b8d9-60dbe3c27080",
   "metadata": {
    "tags": []
   },
   "outputs": [],
   "source": [
    "import pandas as pd\n",
    "import numpy as np\n",
    "import matplotlib.pyplot as plt\n",
    "import seaborn as sns\n",
    "import re\n",
    "from sklearn.model_selection import train_test_split\n",
    "from sklearn.tree import DecisionTreeClassifier\n",
    "from sklearn import tree\n",
    "from sklearn.metrics import accuracy_score\n",
    "from sklearn.ensemble import RandomForestClassifier"
   ]
  },
  {
   "cell_type": "markdown",
   "id": "f9f8ec9c-7594-4e1e-88b1-0aefdd075d5d",
   "metadata": {},
   "source": [
    "# Importar la Base de Datos"
   ]
  },
  {
   "cell_type": "markdown",
   "id": "b12d929c-0b68-46d7-8226-84dca77581b7",
   "metadata": {
    "tags": []
   },
   "source": [
    "El DataFrame original, se renombrado como df"
   ]
  },
  {
   "cell_type": "code",
   "execution_count": 2,
   "id": "2a72ae27-4527-48f6-9b9e-d010eebcd1c6",
   "metadata": {
    "tags": []
   },
   "outputs": [],
   "source": [
    "df = pd.read_csv(\"listings.csv\")"
   ]
  },
  {
   "cell_type": "markdown",
   "id": "4348f9d3-39e1-49f2-84ce-d0e51c2089d0",
   "metadata": {},
   "source": [
    "# Primera Exploracion del Dataset"
   ]
  },
  {
   "cell_type": "markdown",
   "id": "28938471-1885-4773-9088-2bd28826a545",
   "metadata": {},
   "source": [
    "## Head"
   ]
  },
  {
   "cell_type": "code",
   "execution_count": 3,
   "id": "35d899c0-ac4c-46dd-b9fa-3c48b56ece24",
   "metadata": {
    "tags": []
   },
   "outputs": [
    {
     "data": {
      "text/html": [
       "<div>\n",
       "<style scoped>\n",
       "    .dataframe tbody tr th:only-of-type {\n",
       "        vertical-align: middle;\n",
       "    }\n",
       "\n",
       "    .dataframe tbody tr th {\n",
       "        vertical-align: top;\n",
       "    }\n",
       "\n",
       "    .dataframe thead th {\n",
       "        text-align: right;\n",
       "    }\n",
       "</style>\n",
       "<table border=\"1\" class=\"dataframe\">\n",
       "  <thead>\n",
       "    <tr style=\"text-align: right;\">\n",
       "      <th></th>\n",
       "      <th>id</th>\n",
       "      <th>listing_url</th>\n",
       "      <th>scrape_id</th>\n",
       "      <th>last_scraped</th>\n",
       "      <th>source</th>\n",
       "      <th>name</th>\n",
       "      <th>description</th>\n",
       "      <th>neighborhood_overview</th>\n",
       "      <th>picture_url</th>\n",
       "      <th>host_id</th>\n",
       "      <th>...</th>\n",
       "      <th>review_scores_communication</th>\n",
       "      <th>review_scores_location</th>\n",
       "      <th>review_scores_value</th>\n",
       "      <th>license</th>\n",
       "      <th>instant_bookable</th>\n",
       "      <th>calculated_host_listings_count</th>\n",
       "      <th>calculated_host_listings_count_entire_homes</th>\n",
       "      <th>calculated_host_listings_count_private_rooms</th>\n",
       "      <th>calculated_host_listings_count_shared_rooms</th>\n",
       "      <th>reviews_per_month</th>\n",
       "    </tr>\n",
       "  </thead>\n",
       "  <tbody>\n",
       "    <tr>\n",
       "      <th>0</th>\n",
       "      <td>269467</td>\n",
       "      <td>https://www.airbnb.com/rooms/269467</td>\n",
       "      <td>20240615011618</td>\n",
       "      <td>2024-06-15</td>\n",
       "      <td>city scrape</td>\n",
       "      <td>Sunny and quiet Loft next to Sagrada Familia</td>\n",
       "      <td>The apartment is a cosy open space with 65 m2....</td>\n",
       "      <td>NaN</td>\n",
       "      <td>https://a0.muscache.com/pictures/a6445a90-94eb...</td>\n",
       "      <td>1411775</td>\n",
       "      <td>...</td>\n",
       "      <td>4.79</td>\n",
       "      <td>4.81</td>\n",
       "      <td>4.67</td>\n",
       "      <td>HUTB-001129</td>\n",
       "      <td>t</td>\n",
       "      <td>3</td>\n",
       "      <td>3</td>\n",
       "      <td>0</td>\n",
       "      <td>0</td>\n",
       "      <td>1.15</td>\n",
       "    </tr>\n",
       "    <tr>\n",
       "      <th>1</th>\n",
       "      <td>270197</td>\n",
       "      <td>https://www.airbnb.com/rooms/270197</td>\n",
       "      <td>20240615011618</td>\n",
       "      <td>2024-06-15</td>\n",
       "      <td>city scrape</td>\n",
       "      <td>*monthly stays* 4 Bedroom Apartment near Rambla</td>\n",
       "      <td>Rented only for monthly periods. 4 bedroom apa...</td>\n",
       "      <td>NaN</td>\n",
       "      <td>https://a0.muscache.com/pictures/69907440-d8df...</td>\n",
       "      <td>1414702</td>\n",
       "      <td>...</td>\n",
       "      <td>5.00</td>\n",
       "      <td>5.00</td>\n",
       "      <td>4.50</td>\n",
       "      <td>N/A SOLO ESTANCIAS MENSUALES</td>\n",
       "      <td>f</td>\n",
       "      <td>27</td>\n",
       "      <td>27</td>\n",
       "      <td>0</td>\n",
       "      <td>0</td>\n",
       "      <td>0.02</td>\n",
       "    </tr>\n",
       "    <tr>\n",
       "      <th>2</th>\n",
       "      <td>18674</td>\n",
       "      <td>https://www.airbnb.com/rooms/18674</td>\n",
       "      <td>20240615011618</td>\n",
       "      <td>2024-06-15</td>\n",
       "      <td>city scrape</td>\n",
       "      <td>Huge flat for 8 people close to Sagrada Familia</td>\n",
       "      <td>110m2 apartment to rent in Barcelona. Located ...</td>\n",
       "      <td>Apartment in Barcelona located in the heart of...</td>\n",
       "      <td>https://a0.muscache.com/pictures/13031453/413c...</td>\n",
       "      <td>71615</td>\n",
       "      <td>...</td>\n",
       "      <td>4.68</td>\n",
       "      <td>4.78</td>\n",
       "      <td>4.30</td>\n",
       "      <td>HUTB-002062</td>\n",
       "      <td>t</td>\n",
       "      <td>27</td>\n",
       "      <td>27</td>\n",
       "      <td>0</td>\n",
       "      <td>0</td>\n",
       "      <td>0.30</td>\n",
       "    </tr>\n",
       "    <tr>\n",
       "      <th>3</th>\n",
       "      <td>272282</td>\n",
       "      <td>https://www.airbnb.com/rooms/272282</td>\n",
       "      <td>20240615011618</td>\n",
       "      <td>2024-06-15</td>\n",
       "      <td>previous scrape</td>\n",
       "      <td>CHARMING, VERY SPACIOUS &amp; BEST LOCATED</td>\n",
       "      <td>Very spacious apartment located in a modernist...</td>\n",
       "      <td>Eixample is famous for being home to the major...</td>\n",
       "      <td>https://a0.muscache.com/pictures/monet/Select-...</td>\n",
       "      <td>1425070</td>\n",
       "      <td>...</td>\n",
       "      <td>4.96</td>\n",
       "      <td>4.84</td>\n",
       "      <td>4.80</td>\n",
       "      <td>HUTB003208</td>\n",
       "      <td>f</td>\n",
       "      <td>1</td>\n",
       "      <td>1</td>\n",
       "      <td>0</td>\n",
       "      <td>0</td>\n",
       "      <td>2.84</td>\n",
       "    </tr>\n",
       "    <tr>\n",
       "      <th>4</th>\n",
       "      <td>23197</td>\n",
       "      <td>https://www.airbnb.com/rooms/23197</td>\n",
       "      <td>20240615011618</td>\n",
       "      <td>2024-06-15</td>\n",
       "      <td>city scrape</td>\n",
       "      <td>Forum CCIB DeLuxe, Spacious, Large Balcony, relax</td>\n",
       "      <td>Beautiful spacious apartment, large terrace, 5...</td>\n",
       "      <td>Strategically located in the Parc del Fòrum, a...</td>\n",
       "      <td>https://a0.muscache.com/pictures/miso/Hosting-...</td>\n",
       "      <td>90417</td>\n",
       "      <td>...</td>\n",
       "      <td>4.99</td>\n",
       "      <td>4.62</td>\n",
       "      <td>4.64</td>\n",
       "      <td>HUTB005057</td>\n",
       "      <td>f</td>\n",
       "      <td>1</td>\n",
       "      <td>1</td>\n",
       "      <td>0</td>\n",
       "      <td>0</td>\n",
       "      <td>0.48</td>\n",
       "    </tr>\n",
       "  </tbody>\n",
       "</table>\n",
       "<p>5 rows × 75 columns</p>\n",
       "</div>"
      ],
      "text/plain": [
       "       id                          listing_url       scrape_id last_scraped  \\\n",
       "0  269467  https://www.airbnb.com/rooms/269467  20240615011618   2024-06-15   \n",
       "1  270197  https://www.airbnb.com/rooms/270197  20240615011618   2024-06-15   \n",
       "2   18674   https://www.airbnb.com/rooms/18674  20240615011618   2024-06-15   \n",
       "3  272282  https://www.airbnb.com/rooms/272282  20240615011618   2024-06-15   \n",
       "4   23197   https://www.airbnb.com/rooms/23197  20240615011618   2024-06-15   \n",
       "\n",
       "            source                                               name  \\\n",
       "0      city scrape       Sunny and quiet Loft next to Sagrada Familia   \n",
       "1      city scrape    *monthly stays* 4 Bedroom Apartment near Rambla   \n",
       "2      city scrape    Huge flat for 8 people close to Sagrada Familia   \n",
       "3  previous scrape             CHARMING, VERY SPACIOUS & BEST LOCATED   \n",
       "4      city scrape  Forum CCIB DeLuxe, Spacious, Large Balcony, relax   \n",
       "\n",
       "                                         description  \\\n",
       "0  The apartment is a cosy open space with 65 m2....   \n",
       "1  Rented only for monthly periods. 4 bedroom apa...   \n",
       "2  110m2 apartment to rent in Barcelona. Located ...   \n",
       "3  Very spacious apartment located in a modernist...   \n",
       "4  Beautiful spacious apartment, large terrace, 5...   \n",
       "\n",
       "                               neighborhood_overview  \\\n",
       "0                                                NaN   \n",
       "1                                                NaN   \n",
       "2  Apartment in Barcelona located in the heart of...   \n",
       "3  Eixample is famous for being home to the major...   \n",
       "4  Strategically located in the Parc del Fòrum, a...   \n",
       "\n",
       "                                         picture_url  host_id  ...  \\\n",
       "0  https://a0.muscache.com/pictures/a6445a90-94eb...  1411775  ...   \n",
       "1  https://a0.muscache.com/pictures/69907440-d8df...  1414702  ...   \n",
       "2  https://a0.muscache.com/pictures/13031453/413c...    71615  ...   \n",
       "3  https://a0.muscache.com/pictures/monet/Select-...  1425070  ...   \n",
       "4  https://a0.muscache.com/pictures/miso/Hosting-...    90417  ...   \n",
       "\n",
       "  review_scores_communication review_scores_location review_scores_value  \\\n",
       "0                        4.79                   4.81                4.67   \n",
       "1                        5.00                   5.00                4.50   \n",
       "2                        4.68                   4.78                4.30   \n",
       "3                        4.96                   4.84                4.80   \n",
       "4                        4.99                   4.62                4.64   \n",
       "\n",
       "                        license instant_bookable  \\\n",
       "0                   HUTB-001129                t   \n",
       "1  N/A SOLO ESTANCIAS MENSUALES                f   \n",
       "2                   HUTB-002062                t   \n",
       "3                    HUTB003208                f   \n",
       "4                    HUTB005057                f   \n",
       "\n",
       "  calculated_host_listings_count calculated_host_listings_count_entire_homes  \\\n",
       "0                              3                                           3   \n",
       "1                             27                                          27   \n",
       "2                             27                                          27   \n",
       "3                              1                                           1   \n",
       "4                              1                                           1   \n",
       "\n",
       "  calculated_host_listings_count_private_rooms  \\\n",
       "0                                            0   \n",
       "1                                            0   \n",
       "2                                            0   \n",
       "3                                            0   \n",
       "4                                            0   \n",
       "\n",
       "  calculated_host_listings_count_shared_rooms reviews_per_month  \n",
       "0                                           0              1.15  \n",
       "1                                           0              0.02  \n",
       "2                                           0              0.30  \n",
       "3                                           0              2.84  \n",
       "4                                           0              0.48  \n",
       "\n",
       "[5 rows x 75 columns]"
      ]
     },
     "execution_count": 3,
     "metadata": {},
     "output_type": "execute_result"
    }
   ],
   "source": [
    "df.head()"
   ]
  },
  {
   "cell_type": "markdown",
   "id": "26e1040d-8ecb-4873-be24-ac518dad7fa5",
   "metadata": {},
   "source": [
    "## Shape"
   ]
  },
  {
   "cell_type": "code",
   "execution_count": 4,
   "id": "10554d92-856d-4f03-bf7c-59b9e25053ef",
   "metadata": {
    "tags": []
   },
   "outputs": [
    {
     "data": {
      "text/plain": [
       "(18925, 75)"
      ]
     },
     "execution_count": 4,
     "metadata": {},
     "output_type": "execute_result"
    }
   ],
   "source": [
    "df.shape"
   ]
  },
  {
   "cell_type": "markdown",
   "id": "8008fd7b-62cd-4fca-9436-901760ce79e3",
   "metadata": {
    "tags": []
   },
   "source": [
    "## Info"
   ]
  },
  {
   "cell_type": "code",
   "execution_count": 5,
   "id": "b9a04c94-7e50-4a20-85d6-d9ac2cc7884e",
   "metadata": {
    "tags": []
   },
   "outputs": [
    {
     "name": "stdout",
     "output_type": "stream",
     "text": [
      "<class 'pandas.core.frame.DataFrame'>\n",
      "RangeIndex: 18925 entries, 0 to 18924\n",
      "Data columns (total 75 columns):\n",
      " #   Column                                        Non-Null Count  Dtype  \n",
      "---  ------                                        --------------  -----  \n",
      " 0   id                                            18925 non-null  int64  \n",
      " 1   listing_url                                   18925 non-null  object \n",
      " 2   scrape_id                                     18925 non-null  int64  \n",
      " 3   last_scraped                                  18925 non-null  object \n",
      " 4   source                                        18925 non-null  object \n",
      " 5   name                                          18925 non-null  object \n",
      " 6   description                                   18242 non-null  object \n",
      " 7   neighborhood_overview                         10163 non-null  object \n",
      " 8   picture_url                                   18925 non-null  object \n",
      " 9   host_id                                       18925 non-null  int64  \n",
      " 10  host_url                                      18925 non-null  object \n",
      " 11  host_name                                     18923 non-null  object \n",
      " 12  host_since                                    18923 non-null  object \n",
      " 13  host_location                                 14497 non-null  object \n",
      " 14  host_about                                    11844 non-null  object \n",
      " 15  host_response_time                            16030 non-null  object \n",
      " 16  host_response_rate                            16030 non-null  object \n",
      " 17  host_acceptance_rate                          16183 non-null  object \n",
      " 18  host_is_superhost                             18801 non-null  object \n",
      " 19  host_thumbnail_url                            18923 non-null  object \n",
      " 20  host_picture_url                              18923 non-null  object \n",
      " 21  host_neighbourhood                            9566 non-null   object \n",
      " 22  host_listings_count                           18923 non-null  float64\n",
      " 23  host_total_listings_count                     18923 non-null  float64\n",
      " 24  host_verifications                            18923 non-null  object \n",
      " 25  host_has_profile_pic                          18923 non-null  object \n",
      " 26  host_identity_verified                        18923 non-null  object \n",
      " 27  neighbourhood                                 10163 non-null  object \n",
      " 28  neighbourhood_cleansed                        18925 non-null  object \n",
      " 29  neighbourhood_group_cleansed                  18925 non-null  object \n",
      " 30  latitude                                      18925 non-null  float64\n",
      " 31  longitude                                     18925 non-null  float64\n",
      " 32  property_type                                 18925 non-null  object \n",
      " 33  room_type                                     18925 non-null  object \n",
      " 34  accommodates                                  18925 non-null  int64  \n",
      " 35  bathrooms                                     15182 non-null  float64\n",
      " 36  bathrooms_text                                18902 non-null  object \n",
      " 37  bedrooms                                      17043 non-null  float64\n",
      " 38  beds                                          15087 non-null  float64\n",
      " 39  amenities                                     18925 non-null  object \n",
      " 40  price                                         15189 non-null  object \n",
      " 41  minimum_nights                                18925 non-null  int64  \n",
      " 42  maximum_nights                                18925 non-null  int64  \n",
      " 43  minimum_minimum_nights                        18925 non-null  int64  \n",
      " 44  maximum_minimum_nights                        18925 non-null  int64  \n",
      " 45  minimum_maximum_nights                        18925 non-null  int64  \n",
      " 46  maximum_maximum_nights                        18925 non-null  int64  \n",
      " 47  minimum_nights_avg_ntm                        18925 non-null  float64\n",
      " 48  maximum_nights_avg_ntm                        18925 non-null  float64\n",
      " 49  calendar_updated                              0 non-null      float64\n",
      " 50  has_availability                              17875 non-null  object \n",
      " 51  availability_30                               18925 non-null  int64  \n",
      " 52  availability_60                               18925 non-null  int64  \n",
      " 53  availability_90                               18925 non-null  int64  \n",
      " 54  availability_365                              18925 non-null  int64  \n",
      " 55  calendar_last_scraped                         18925 non-null  object \n",
      " 56  number_of_reviews                             18925 non-null  int64  \n",
      " 57  number_of_reviews_ltm                         18925 non-null  int64  \n",
      " 58  number_of_reviews_l30d                        18925 non-null  int64  \n",
      " 59  first_review                                  14138 non-null  object \n",
      " 60  last_review                                   14138 non-null  object \n",
      " 61  review_scores_rating                          14138 non-null  float64\n",
      " 62  review_scores_accuracy                        14116 non-null  float64\n",
      " 63  review_scores_cleanliness                     14117 non-null  float64\n",
      " 64  review_scores_checkin                         14115 non-null  float64\n",
      " 65  review_scores_communication                   14118 non-null  float64\n",
      " 66  review_scores_location                        14115 non-null  float64\n",
      " 67  review_scores_value                           14116 non-null  float64\n",
      " 68  license                                       12787 non-null  object \n",
      " 69  instant_bookable                              18925 non-null  object \n",
      " 70  calculated_host_listings_count                18925 non-null  int64  \n",
      " 71  calculated_host_listings_count_entire_homes   18925 non-null  int64  \n",
      " 72  calculated_host_listings_count_private_rooms  18925 non-null  int64  \n",
      " 73  calculated_host_listings_count_shared_rooms   18925 non-null  int64  \n",
      " 74  reviews_per_month                             14138 non-null  float64\n",
      "dtypes: float64(18), int64(21), object(36)\n",
      "memory usage: 10.8+ MB\n"
     ]
    }
   ],
   "source": [
    "df.info()"
   ]
  },
  {
   "cell_type": "markdown",
   "id": "5298cce8-dde9-43d2-ab85-c6387674a055",
   "metadata": {
    "tags": []
   },
   "source": [
    "# Seleccion de variables y Copia del Dataframe (df2)"
   ]
  },
  {
   "cell_type": "code",
   "execution_count": 6,
   "id": "f62229af-0358-453b-8cea-b2cc2ab26275",
   "metadata": {
    "tags": []
   },
   "outputs": [],
   "source": [
    "columnas_seleccionadas = [\n",
    "    \"description\",\n",
    "    \"name\",\n",
    "    \"host_since\",\n",
    "    \"host_location\",\n",
    "    \"host_is_superhost\",\n",
    "    \"host_identity_verified\",\n",
    "    \"host_has_profile_pic\",\n",
    "    \"neighbourhood_group_cleansed\",\n",
    "    \"latitude\",\n",
    "    \"longitude\",\n",
    "    \"property_type\",\n",
    "    \"room_type\",\n",
    "    \"accommodates\",\n",
    "    \"bathrooms\",\n",
    "    \"bedrooms\",\n",
    "    \"beds\",\n",
    "    \"amenities\",\n",
    "    \"price\",\n",
    "    \"minimum_nights\",\n",
    "    \"maximum_nights\",\n",
    "    \"has_availability\",\n",
    "    \"availability_30\",\n",
    "    \"availability_60\",\n",
    "    \"number_of_reviews\",\n",
    "    \"last_review\",\n",
    "    \"review_scores_rating\",\n",
    "    \"review_scores_cleanliness\",\n",
    "    \"review_scores_checkin\",\n",
    "    \"review_scores_communication\",\n",
    "    \"review_scores_location\",\n",
    "    \"review_scores_value\",\n",
    "    \"reviews_per_month\",\n",
    "    \"license\",\n",
    "    \"instant_bookable\",\n",
    "    \"listing_url\",\n",
    "    \"bathrooms_text\"\n",
    "]"
   ]
  },
  {
   "cell_type": "code",
   "execution_count": 7,
   "id": "ef470756-59c4-4acc-a604-6c08dda2bdbd",
   "metadata": {
    "tags": []
   },
   "outputs": [],
   "source": [
    "df2 = df[columnas_seleccionadas].copy()"
   ]
  },
  {
   "cell_type": "markdown",
   "id": "4a634145-1f89-434b-93f1-dbbeb3f1e8f5",
   "metadata": {},
   "source": [
    "## Shape"
   ]
  },
  {
   "cell_type": "code",
   "execution_count": 8,
   "id": "94c23775-34e1-4099-b071-0daa1d1a18bc",
   "metadata": {
    "tags": []
   },
   "outputs": [
    {
     "data": {
      "text/plain": [
       "(18925, 36)"
      ]
     },
     "execution_count": 8,
     "metadata": {},
     "output_type": "execute_result"
    }
   ],
   "source": [
    "df2.shape"
   ]
  },
  {
   "cell_type": "markdown",
   "id": "2b24e76c-0f35-4e1e-a454-b6441825f48a",
   "metadata": {},
   "source": [
    "## Info"
   ]
  },
  {
   "cell_type": "code",
   "execution_count": 9,
   "id": "8fdc6df2-0efb-4e4b-997b-4f2ccd0ed430",
   "metadata": {
    "tags": []
   },
   "outputs": [
    {
     "name": "stdout",
     "output_type": "stream",
     "text": [
      "<class 'pandas.core.frame.DataFrame'>\n",
      "RangeIndex: 18925 entries, 0 to 18924\n",
      "Data columns (total 36 columns):\n",
      " #   Column                        Non-Null Count  Dtype  \n",
      "---  ------                        --------------  -----  \n",
      " 0   description                   18242 non-null  object \n",
      " 1   name                          18925 non-null  object \n",
      " 2   host_since                    18923 non-null  object \n",
      " 3   host_location                 14497 non-null  object \n",
      " 4   host_is_superhost             18801 non-null  object \n",
      " 5   host_identity_verified        18923 non-null  object \n",
      " 6   host_has_profile_pic          18923 non-null  object \n",
      " 7   neighbourhood_group_cleansed  18925 non-null  object \n",
      " 8   latitude                      18925 non-null  float64\n",
      " 9   longitude                     18925 non-null  float64\n",
      " 10  property_type                 18925 non-null  object \n",
      " 11  room_type                     18925 non-null  object \n",
      " 12  accommodates                  18925 non-null  int64  \n",
      " 13  bathrooms                     15182 non-null  float64\n",
      " 14  bedrooms                      17043 non-null  float64\n",
      " 15  beds                          15087 non-null  float64\n",
      " 16  amenities                     18925 non-null  object \n",
      " 17  price                         15189 non-null  object \n",
      " 18  minimum_nights                18925 non-null  int64  \n",
      " 19  maximum_nights                18925 non-null  int64  \n",
      " 20  has_availability              17875 non-null  object \n",
      " 21  availability_30               18925 non-null  int64  \n",
      " 22  availability_60               18925 non-null  int64  \n",
      " 23  number_of_reviews             18925 non-null  int64  \n",
      " 24  last_review                   14138 non-null  object \n",
      " 25  review_scores_rating          14138 non-null  float64\n",
      " 26  review_scores_cleanliness     14117 non-null  float64\n",
      " 27  review_scores_checkin         14115 non-null  float64\n",
      " 28  review_scores_communication   14118 non-null  float64\n",
      " 29  review_scores_location        14115 non-null  float64\n",
      " 30  review_scores_value           14116 non-null  float64\n",
      " 31  reviews_per_month             14138 non-null  float64\n",
      " 32  license                       12787 non-null  object \n",
      " 33  instant_bookable              18925 non-null  object \n",
      " 34  listing_url                   18925 non-null  object \n",
      " 35  bathrooms_text                18902 non-null  object \n",
      "dtypes: float64(12), int64(6), object(18)\n",
      "memory usage: 5.2+ MB\n"
     ]
    }
   ],
   "source": [
    "df2.info()"
   ]
  },
  {
   "cell_type": "markdown",
   "id": "c1efd941-1ff2-458e-ae0a-c270f1684daa",
   "metadata": {},
   "source": [
    "# Limpieza de Datos"
   ]
  },
  {
   "cell_type": "markdown",
   "id": "478ea039-ff0d-4cfd-9722-054a4f313fa7",
   "metadata": {},
   "source": [
    "## Valores Nulos "
   ]
  },
  {
   "cell_type": "code",
   "execution_count": 10,
   "id": "64d32fa6-4c40-45a0-88b7-ad110ddb0cdf",
   "metadata": {
    "tags": []
   },
   "outputs": [
    {
     "data": {
      "text/plain": [
       "description                      683\n",
       "name                               0\n",
       "host_since                         2\n",
       "host_location                   4428\n",
       "host_is_superhost                124\n",
       "host_identity_verified             2\n",
       "host_has_profile_pic               2\n",
       "neighbourhood_group_cleansed       0\n",
       "latitude                           0\n",
       "longitude                          0\n",
       "property_type                      0\n",
       "room_type                          0\n",
       "accommodates                       0\n",
       "bathrooms                       3743\n",
       "bedrooms                        1882\n",
       "beds                            3838\n",
       "amenities                          0\n",
       "price                           3736\n",
       "minimum_nights                     0\n",
       "maximum_nights                     0\n",
       "has_availability                1050\n",
       "availability_30                    0\n",
       "availability_60                    0\n",
       "number_of_reviews                  0\n",
       "last_review                     4787\n",
       "review_scores_rating            4787\n",
       "review_scores_cleanliness       4808\n",
       "review_scores_checkin           4810\n",
       "review_scores_communication     4807\n",
       "review_scores_location          4810\n",
       "review_scores_value             4809\n",
       "reviews_per_month               4787\n",
       "license                         6138\n",
       "instant_bookable                   0\n",
       "listing_url                        0\n",
       "bathrooms_text                    23\n",
       "dtype: int64"
      ]
     },
     "execution_count": 10,
     "metadata": {},
     "output_type": "execute_result"
    }
   ],
   "source": [
    "df2.isnull().sum()"
   ]
  },
  {
   "cell_type": "code",
   "execution_count": 11,
   "id": "9488f0a0-4210-4138-975c-d5aef29c6b01",
   "metadata": {
    "tags": []
   },
   "outputs": [
    {
     "data": {
      "text/plain": [
       "description                      3.608983\n",
       "name                             0.000000\n",
       "host_since                       0.010568\n",
       "host_location                   23.397622\n",
       "host_is_superhost                0.655218\n",
       "host_identity_verified           0.010568\n",
       "host_has_profile_pic             0.010568\n",
       "neighbourhood_group_cleansed     0.000000\n",
       "latitude                         0.000000\n",
       "longitude                        0.000000\n",
       "property_type                    0.000000\n",
       "room_type                        0.000000\n",
       "accommodates                     0.000000\n",
       "bathrooms                       19.778071\n",
       "bedrooms                         9.944518\n",
       "beds                            20.280053\n",
       "amenities                        0.000000\n",
       "price                           19.741083\n",
       "minimum_nights                   0.000000\n",
       "maximum_nights                   0.000000\n",
       "has_availability                 5.548217\n",
       "availability_30                  0.000000\n",
       "availability_60                  0.000000\n",
       "number_of_reviews                0.000000\n",
       "last_review                     25.294584\n",
       "review_scores_rating            25.294584\n",
       "review_scores_cleanliness       25.405548\n",
       "review_scores_checkin           25.416116\n",
       "review_scores_communication     25.400264\n",
       "review_scores_location          25.416116\n",
       "review_scores_value             25.410832\n",
       "reviews_per_month               25.294584\n",
       "license                         32.433289\n",
       "instant_bookable                 0.000000\n",
       "listing_url                      0.000000\n",
       "bathrooms_text                   0.121532\n",
       "dtype: float64"
      ]
     },
     "execution_count": 11,
     "metadata": {},
     "output_type": "execute_result"
    }
   ],
   "source": [
    "porcentaje_nulos = df2.isnull().mean() * 100\n",
    "porcentaje_nulos"
   ]
  },
  {
   "cell_type": "markdown",
   "id": "b49ac818-fe0a-4baa-b352-21fd7e8bbe3d",
   "metadata": {},
   "source": [
    "## Tratamiento y Modificacion de Variables"
   ]
  },
  {
   "cell_type": "markdown",
   "id": "30085889-22de-4dd8-9eaa-20a85613a0b5",
   "metadata": {},
   "source": [
    "### 'price'"
   ]
  },
  {
   "cell_type": "markdown",
   "id": "de1fc316-b649-4201-9011-1a63bc5dd69e",
   "metadata": {},
   "source": [
    "Dado que el objetivo principal del modelo es predecir el precio de alquiler de los alojamientos en Airbnb, se ha decidido eliminar un total de 3,736 filas debido a que el valor del precio estaba ausente. La ausencia de estos datos habría dificultado el rendimiento y la precisión del modelo."
   ]
  },
  {
   "cell_type": "code",
   "execution_count": 12,
   "id": "2eedc2e3-2f5b-463d-8379-f9123a941dcb",
   "metadata": {
    "tags": []
   },
   "outputs": [],
   "source": [
    "# Eliminación filas df2 donde \"price\" = nulos\n",
    "df2 = df2.dropna(subset=['price'])"
   ]
  },
  {
   "cell_type": "code",
   "execution_count": 13,
   "id": "604de2b0-f7bf-4548-ba4d-2ded41facdcd",
   "metadata": {
    "tags": []
   },
   "outputs": [
    {
     "data": {
      "text/plain": [
       "0"
      ]
     },
     "execution_count": 13,
     "metadata": {},
     "output_type": "execute_result"
    }
   ],
   "source": [
    "df2['price'].isnull().sum()"
   ]
  },
  {
   "cell_type": "code",
   "execution_count": 14,
   "id": "cf201f6d-1d6a-41dc-95d0-6b5212222f9b",
   "metadata": {
    "tags": []
   },
   "outputs": [],
   "source": [
    "# Eliminar símbolos como el dólar de la columna 'price'\n",
    "df2.loc[:, 'price'] = df2['price'].replace(r'[\\$,]', '', regex=True)"
   ]
  },
  {
   "cell_type": "code",
   "execution_count": 15,
   "id": "87daa274-4cf0-43c9-97ae-8d7ab49e0245",
   "metadata": {
    "tags": []
   },
   "outputs": [],
   "source": [
    "# Convertir la columna 'price' a tipo numérico\n",
    "df2['price'] = df2['price'].astype('float64')"
   ]
  },
  {
   "cell_type": "code",
   "execution_count": 16,
   "id": "d7b22156-b264-48f8-bdb4-c0c9a9b51b27",
   "metadata": {
    "tags": []
   },
   "outputs": [
    {
     "data": {
      "text/plain": [
       "dtype('float64')"
      ]
     },
     "execution_count": 16,
     "metadata": {},
     "output_type": "execute_result"
    }
   ],
   "source": [
    "df2['price'].dtype"
   ]
  },
  {
   "cell_type": "code",
   "execution_count": 17,
   "id": "fba9d9f9-3d17-48dc-bd86-ac8cd1b0d800",
   "metadata": {
    "tags": []
   },
   "outputs": [
    {
     "data": {
      "text/plain": [
       "description                      487\n",
       "name                               0\n",
       "host_since                         0\n",
       "host_location                   3232\n",
       "host_is_superhost                119\n",
       "host_identity_verified             0\n",
       "host_has_profile_pic               0\n",
       "neighbourhood_group_cleansed       0\n",
       "latitude                           0\n",
       "longitude                          0\n",
       "property_type                      0\n",
       "room_type                          0\n",
       "accommodates                       0\n",
       "bathrooms                          7\n",
       "bedrooms                          10\n",
       "beds                             102\n",
       "amenities                          0\n",
       "price                              0\n",
       "minimum_nights                     0\n",
       "maximum_nights                     0\n",
       "has_availability                  89\n",
       "availability_30                    0\n",
       "availability_60                    0\n",
       "number_of_reviews                  0\n",
       "last_review                     3317\n",
       "review_scores_rating            3317\n",
       "review_scores_cleanliness       3335\n",
       "review_scores_checkin           3335\n",
       "review_scores_communication     3334\n",
       "review_scores_location          3335\n",
       "review_scores_value             3334\n",
       "reviews_per_month               3317\n",
       "license                         4163\n",
       "instant_bookable                   0\n",
       "listing_url                        0\n",
       "bathrooms_text                    22\n",
       "dtype: int64"
      ]
     },
     "execution_count": 17,
     "metadata": {},
     "output_type": "execute_result"
    }
   ],
   "source": [
    "df2.isnull().sum()"
   ]
  },
  {
   "cell_type": "markdown",
   "id": "996950b8-0479-4a7e-a36b-33d671cf2ba8",
   "metadata": {},
   "source": [
    "###  'host_since'"
   ]
  },
  {
   "cell_type": "markdown",
   "id": "fdabc685-df54-43d1-8c80-6c2c3d1f2259",
   "metadata": {},
   "source": [
    "En la columna 'host_since', que originalmente muestra la fecha de antigüedad del anfitrión, hemos transformado el formato para reflejar el número de días transcurridos desde que el anfitrión se unió hasta la fecha de descarga del dataset ('2024-08-05')."
   ]
  },
  {
   "cell_type": "code",
   "execution_count": 18,
   "id": "2434c3b5-4541-4037-a16f-733394beef74",
   "metadata": {
    "tags": []
   },
   "outputs": [
    {
     "data": {
      "text/plain": [
       "array(['2011-11-16', '2010-01-19', '2010-03-09', ..., '2017-01-14',\n",
       "       '2021-04-20', '2024-06-07'], dtype=object)"
      ]
     },
     "execution_count": 18,
     "metadata": {},
     "output_type": "execute_result"
    }
   ],
   "source": [
    "# Comprobación valores únicos\n",
    "df2[\"host_since\"].unique()"
   ]
  },
  {
   "cell_type": "code",
   "execution_count": 19,
   "id": "4fbe0002-e56c-4c3a-9f27-383d64a13c41",
   "metadata": {
    "tags": []
   },
   "outputs": [],
   "source": [
    "# Cambiar tipo de dato a fecha \n",
    "df2['host_since'] = pd.to_datetime(df2['host_since'])"
   ]
  },
  {
   "cell_type": "code",
   "execution_count": 20,
   "id": "6f99e961-ba4c-4781-85de-fa46d4aa18c3",
   "metadata": {
    "tags": []
   },
   "outputs": [],
   "source": [
    "# Crear un objeto Timestamp específico\n",
    "fecha_especifica = pd.Timestamp('2024-08-05')"
   ]
  },
  {
   "cell_type": "code",
   "execution_count": 21,
   "id": "377190e1-4d4f-4799-8577-ccef048128c2",
   "metadata": {
    "tags": []
   },
   "outputs": [],
   "source": [
    "# Calcular la diferencia en días entre fecha_especifica y host_since\n",
    "df2['host_since'] = (fecha_especifica - df2['host_since']).dt.days"
   ]
  },
  {
   "cell_type": "code",
   "execution_count": 22,
   "id": "81c2cfe6-b491-419b-8866-73745b7d2a7f",
   "metadata": {
    "tags": []
   },
   "outputs": [
    {
     "data": {
      "text/plain": [
       "array([4646, 5312, 5263, ..., 2760, 1203,   59])"
      ]
     },
     "execution_count": 22,
     "metadata": {},
     "output_type": "execute_result"
    }
   ],
   "source": [
    "# Comprobación valores únicos\n",
    "df2[\"host_since\"].unique()"
   ]
  },
  {
   "cell_type": "code",
   "execution_count": 23,
   "id": "efbaf507-d203-4160-b1f7-2e7d9dbc345b",
   "metadata": {
    "tags": []
   },
   "outputs": [
    {
     "data": {
      "text/html": [
       "<div>\n",
       "<style scoped>\n",
       "    .dataframe tbody tr th:only-of-type {\n",
       "        vertical-align: middle;\n",
       "    }\n",
       "\n",
       "    .dataframe tbody tr th {\n",
       "        vertical-align: top;\n",
       "    }\n",
       "\n",
       "    .dataframe thead th {\n",
       "        text-align: right;\n",
       "    }\n",
       "</style>\n",
       "<table border=\"1\" class=\"dataframe\">\n",
       "  <thead>\n",
       "    <tr style=\"text-align: right;\">\n",
       "      <th></th>\n",
       "      <th>price</th>\n",
       "      <th>host_since</th>\n",
       "    </tr>\n",
       "  </thead>\n",
       "  <tbody>\n",
       "    <tr>\n",
       "      <th>price</th>\n",
       "      <td>1.000000</td>\n",
       "      <td>0.080338</td>\n",
       "    </tr>\n",
       "    <tr>\n",
       "      <th>host_since</th>\n",
       "      <td>0.080338</td>\n",
       "      <td>1.000000</td>\n",
       "    </tr>\n",
       "  </tbody>\n",
       "</table>\n",
       "</div>"
      ],
      "text/plain": [
       "               price  host_since\n",
       "price       1.000000    0.080338\n",
       "host_since  0.080338    1.000000"
      ]
     },
     "execution_count": 23,
     "metadata": {},
     "output_type": "execute_result"
    }
   ],
   "source": [
    "df2[['price', 'host_since']].corr()"
   ]
  },
  {
   "cell_type": "markdown",
   "id": "2195249a-6156-4e3e-95a1-6a7f985ebd68",
   "metadata": {},
   "source": [
    "### 'host_location'"
   ]
  },
  {
   "cell_type": "markdown",
   "id": "1ab1e6e2-b4af-470a-8fe8-109246821b41",
   "metadata": {},
   "source": [
    "La columna 'host_location', que inicialmente contenía 3,232 valores nulos, ha sido actualizada con el valor 'sin información'. Además, dado que la mayoría de los anfitriones están ubicados en España, hemos categorizado los datos en tres grupos: 'Spain', 'Other' y 'No info'."
   ]
  },
  {
   "cell_type": "code",
   "execution_count": 24,
   "id": "06a29877-8b03-4335-97a5-b7cd4bbff138",
   "metadata": {
    "tags": []
   },
   "outputs": [
    {
     "data": {
      "text/plain": [
       "array(['Barcelona, Spain', 'Catalonia, Spain', nan, 'Colon, Panama',\n",
       "       'Callao Salvaje, Spain', \"L'Hospitalet de l'Infant, Spain\",\n",
       "       'Spain', 'Tossa de Mar, Spain', 'Amsterdam, Netherlands',\n",
       "       'Madrid, Spain', 'Sabadell, Spain', 'Paiporta, Spain', 'France',\n",
       "       'Linyola, Spain', 'Hamburg, Germany', 'Teià, Spain',\n",
       "       'Vilanova i la Geltrú, Spain', 'La Garriga, Spain',\n",
       "       'Premià de Dalt, Spain', 'Cabrils, Spain', 'Castelldefels, Spain',\n",
       "       'Viladecans, Spain', 'Tarragona, Spain', 'Sitges, Spain',\n",
       "       'London, United Kingdom', 'Badalona, Spain',\n",
       "       'Hospitalet de Llobregat, Spain', 'Rome, Italy',\n",
       "       'Montesson, France', 'Sant Celoni, Spain', 'Stockholm, Sweden',\n",
       "       'Caldes de Montbui, Spain', 'San Francisco, CA',\n",
       "       'Arenys de Mar, Spain', 'Altafulla, Spain', 'Terrassa, Spain',\n",
       "       'Sant Andreu de Llavaneres, Spain',\n",
       "       'Sant Vicenç de Montalt, Spain', 'Stuttgart, Germany',\n",
       "       'Santiago, Chile', 'Sant Boi de Llobregat, Spain', 'Genoa, Italy',\n",
       "       'Corbera de Llobregat, Spain', 'Calella de Palafrugell, Spain',\n",
       "       'Berkeley, CA', 'El Prat de Llobregat, Spain', 'Berlin, Germany',\n",
       "       'Paris, France', 'Encamp, Andorra', 'Italy', 'Oslo, Norway',\n",
       "       'Tiana, Catalonia, Spain', 'Canary Islands, Spain',\n",
       "       'Balearic Islands, Spain', 'Bologna, Italy', 'El Papiol, Spain',\n",
       "       'El Masnou, Spain', 'Premià de Mar, Spain', 'Cairo, Egypt',\n",
       "       \"L'Ametlla del Vallès, Spain\", 'Montgat, Spain', 'Girona, Spain',\n",
       "       'Salou, Spain', 'Vacarisses, Spain', 'Manila, Philippines',\n",
       "       'Sant Julià de Vilatorta, Spain', 'Torrebusqueta, Spain',\n",
       "       'Miami, FL', 'Manresa, Spain', 'Maspalomas, Spain',\n",
       "       'Vilafranca del Penedès, Spain', 'Navarre, Spain', 'New York, NY',\n",
       "       'Pineda de Mar, Spain', 'Cologne, Germany', 'Lehavim, Israel',\n",
       "       'Andalusia, Spain', 'Sant Cugat del Vallès, Spain',\n",
       "       'Ourense, Spain', 'Eugene, OR', 'Olot, Spain', 'Veneto, Italy',\n",
       "       'Vilassar de Mar, Spain', 'Germany', 'Lima, Peru',\n",
       "       'Mollet del Vallès, Spain', 'Alhendín, Spain', 'Igualada, Spain',\n",
       "       'Tel Aviv-Yafo, Israel', 'Effretikon, Switzerland',\n",
       "       'Boulogne-Billancourt, France', 'Rubí, Spain',\n",
       "       'New York, United States', 'Monaco', 'Boston, MA',\n",
       "       'Valladolid, Spain', 'Timișoara, Romania', 'Panama',\n",
       "       'Turin, Italy', 'La Ciotat, France', 'Palermo, Italy',\n",
       "       'Pärnu, Estonia', 'Argentona, Spain', 'Isla Mujeres, Mexico',\n",
       "       'Oto, Spain', 'Frankfurt, Germany', 'Argentina', 'Andorra, Spain',\n",
       "       'Sant Andreu de la Barca, Spain',\n",
       "       \"L'Hospitalet de Llobregat, Spain\", 'Buenos Aires, Argentina',\n",
       "       'Cerdanyola del Vallès, Spain', 'Milan, Italy', 'Andorra',\n",
       "       'Sant Joan Despí, Spain', 'Besalú, Spain',\n",
       "       'Cornellà de Llobregat, Spain', 'Navarcles, Spain',\n",
       "       'Bruges, Belgium', 'Küsnacht, Switzerland', 'Tulsa, OK',\n",
       "       'Valldoreix, Spain', 'Centelles, Spain', 'Malaga, Spain',\n",
       "       'Rio de Janeiro, Brazil', 'İstanbul, Turkey',\n",
       "       'Zürich, Switzerland', 'China', 'Valencia, Spain',\n",
       "       'Lausanne, Switzerland', 'Santa Perpètua de Mogoda, Spain',\n",
       "       'Farum, Denmark', 'Toronto, Canada', 'Sant Just Desvern, Spain',\n",
       "       'Oakland, CA', 'Istanbul, Turkey', 'Esplugues de Llobregat, Spain',\n",
       "       'Rocklin, CA', 'Palma, Spain', 'Graz, Austria', 'Beirut, Lebanon',\n",
       "       'Bordeaux, France', 'Vielha, Spain', 'Munich, Germany',\n",
       "       'Mechelen, Belgium', 'New Hampshire, United States',\n",
       "       'Kuta Utara, Indonesia', 'Granada, Spain',\n",
       "       'England, United Kingdom', 'Bilbao, Spain',\n",
       "       'Playa del Carmen, Mexico', 'Reus, Spain', \"Platja d'Aro, Spain\",\n",
       "       'Zurich, Switzerland', 'Cambrils, Spain', 'Mooresville, NC',\n",
       "       'Lisbon, Portugal', 'Marganell, Spain', 'Kiel, Germany',\n",
       "       'Calafell, Spain', 'Lloret de Mar, Spain', 'Santa Cruz, CA',\n",
       "       'Galicia, Spain', 'Sonoma, CA', 'Brno, Czechia', 'Escalon, CA',\n",
       "       'Marbella, Spain', 'Sevilla, Spain', 'Guayaquil, Ecuador',\n",
       "       'Marseille, France', 'United States', 'Comporta, Portugal',\n",
       "       'Bogotá, Colombia', 'Washington, DC', 'Palamós, Spain',\n",
       "       'Rosario, Argentina', 'Pitești, Romania', 'Oviedo, Spain',\n",
       "       'Brussels, Belgium', 'Herzliyya, Israel', 'Kyiv, Ukraine',\n",
       "       'Hanover, Germany', 'Kingston upon Thames, United Kingdom',\n",
       "       'Helsinki, Finland', 'Whistler, Canada', 'Poblet, Spain',\n",
       "       'Mataró, Spain', 'Denpasar, Indonesia', 'Montpellier, France',\n",
       "       'Castellbisbal, Spain', 'Bergen, Netherlands',\n",
       "       'Treasure Island, FL', 'Shenley, United Kingdom',\n",
       "       'Bogota, Colombia', 'Santa Coloma de Gramenet, Spain',\n",
       "       'Netherlands', 'Mexico City, Mexico', 'La Vilavella, Spain',\n",
       "       'Mali Losinj, Croatia', 'Sant Feliu de Llobregat, Spain',\n",
       "       'Ghent, Belgium', 'Binz, Germany', 'Blanes, Spain',\n",
       "       'Gelsenkirchen, Germany', 'Bremen, Germany', 'Castellote, Spain',\n",
       "       'Hong Kong', 'Singapore', 'Montevideo, Uruguay', 'Ravenna, Italy',\n",
       "       'Jaén, Spain', 'Montnegre, Spain', 'Oxford, United Kingdom',\n",
       "       'Sant Feliu de Guíxols, Spain', 'Rosh Haayin, Israel',\n",
       "       'United Kingdom', 'Budapest, Hungary', 'Gibraltar',\n",
       "       'Harpenden, United Kingdom', 'A Coruña, Spain', 'Arrós, Spain',\n",
       "       'Kilcar, Ireland', 'Auckland, New Zealand', 'Meudon, France',\n",
       "       'Vancouver, Canada', 'Castellar del Vallès, Spain',\n",
       "       'Salvador, Brazil', 'Ripollet, Spain', 'Torres Torres, Spain',\n",
       "       'Palisades, NY', 'Viña del Mar, Chile', 'Igny, France',\n",
       "       'Ribeirao Preto, Brazil', 'Valldemossa, Spain', 'Ordino, Andorra',\n",
       "       'The Hague, Netherlands', 'Bolsward, Netherlands',\n",
       "       'Venezuela, Venezuela', 'Lleida, Spain', 'Radazul, Spain',\n",
       "       'San Ramon, CA', 'Peru', 'Zug, Switzerland', 'Montreal, Canada',\n",
       "       'Los Angeles, CA', 'Naples, Italy', 'Edinburgh, United Kingdom',\n",
       "       'Andorra la Vella, Andorra', 'Getafe, Spain', 'Salerno, Italy',\n",
       "       'Klaipeda, Lithuania', 'Pacific Grove, CA', 'Houston, TX',\n",
       "       'Vienna, Austria', 'Ibiza, Spain', 'Lugo, Spain', 'Pallejà, Spain',\n",
       "       'Copenhagen, Denmark', 'Helmdange, Luxembourg', 'East Hanover, NJ',\n",
       "       'Garrotxa, Spain', 'Brazil', 'Miami Beach, FL',\n",
       "       'Buenos Aires Province, Argentina', 'Sydney, Australia',\n",
       "       'Egg, Switzerland', 'Newport Beach, CA', 'Trémery, France',\n",
       "       'Brasilito, Costa Rica', 'Yesa, Spain', 'Arbúcies, Spain',\n",
       "       'State of Pernambuco, Brazil', 'Begues, Spain'], dtype=object)"
      ]
     },
     "execution_count": 24,
     "metadata": {},
     "output_type": "execute_result"
    }
   ],
   "source": [
    "# Comrpobación valores únicos\n",
    "df2[\"host_location\"].unique()"
   ]
  },
  {
   "cell_type": "code",
   "execution_count": 25,
   "id": "80844092-a9a1-42fd-b964-03822387a0f9",
   "metadata": {
    "tags": []
   },
   "outputs": [
    {
     "data": {
      "text/plain": [
       "3232"
      ]
     },
     "execution_count": 25,
     "metadata": {},
     "output_type": "execute_result"
    }
   ],
   "source": [
    "# Comprobación valores nulos\n",
    "df2[\"host_location\"].isnull().sum()"
   ]
  },
  {
   "cell_type": "code",
   "execution_count": 26,
   "id": "712f0e08-c4fc-4455-9b40-4da0587179dd",
   "metadata": {
    "tags": []
   },
   "outputs": [],
   "source": [
    "# Transformar el formato a tipo string\n",
    "df2['host_location'] = df2['host_location'].astype('string')"
   ]
  },
  {
   "cell_type": "code",
   "execution_count": 27,
   "id": "6ce7d42e-ff80-4c9c-9979-1655129085d2",
   "metadata": {
    "tags": []
   },
   "outputs": [],
   "source": [
    "# Crear lista con los valores de 'spain'\n",
    "def contains_spain(x):\n",
    "    if pd.isna(x):\n",
    "        return False\n",
    "    return 'spain' in x.lower()"
   ]
  },
  {
   "cell_type": "code",
   "execution_count": 28,
   "id": "2da6affc-c7fe-4520-b5e6-89ea4c9e1a34",
   "metadata": {
    "tags": []
   },
   "outputs": [],
   "source": [
    "# Filtrar el DataFrame y obtener los valores únicos de 'host_location' que contienen 'spain'\n",
    "list_spain = df2[df2['host_location'].apply(contains_spain)]['host_location'].unique()"
   ]
  },
  {
   "cell_type": "code",
   "execution_count": 29,
   "id": "0203006d-5b76-4642-897d-37c311a3df4b",
   "metadata": {
    "tags": []
   },
   "outputs": [],
   "source": [
    "# Reemplazar todos los valores en list_spain por 'spain'\n",
    "df2['host_location'] = df2['host_location'].apply(lambda x: 'spain' if x in list_spain else x)"
   ]
  },
  {
   "cell_type": "code",
   "execution_count": 30,
   "id": "a644f9c6-3f1c-4512-bb11-664998fc362f",
   "metadata": {
    "tags": []
   },
   "outputs": [],
   "source": [
    "# Reemplazar todo lo que no sea 'Spain' por 'other'\n",
    "df2['host_location'] = df2['host_location'].apply(lambda x: 'other' if pd.notna(x) and x != 'spain' else x)"
   ]
  },
  {
   "cell_type": "code",
   "execution_count": 31,
   "id": "7a6333e0-b5ac-4735-9383-fc608a4b5bca",
   "metadata": {
    "tags": []
   },
   "outputs": [],
   "source": [
    "# Completar todos los valores nulos con 'no_info'\n",
    "df2['host_location'] = df2['host_location'].fillna('no_info')"
   ]
  },
  {
   "cell_type": "code",
   "execution_count": 32,
   "id": "fe000af7-2cf1-46a9-a6f4-fc3d3f3a3a3f",
   "metadata": {
    "tags": []
   },
   "outputs": [
    {
     "data": {
      "text/plain": [
       "array(['spain', 'no_info', 'other'], dtype=object)"
      ]
     },
     "execution_count": 32,
     "metadata": {},
     "output_type": "execute_result"
    }
   ],
   "source": [
    "# Comprobación valores únicos \n",
    "df2[\"host_location\"].unique()"
   ]
  },
  {
   "cell_type": "code",
   "execution_count": 33,
   "id": "5fd18e77-5515-44e7-8613-3578a5d70792",
   "metadata": {
    "tags": []
   },
   "outputs": [
    {
     "data": {
      "text/plain": [
       "0"
      ]
     },
     "execution_count": 33,
     "metadata": {},
     "output_type": "execute_result"
    }
   ],
   "source": [
    "# Comprobación valores nulos\n",
    "df2[\"host_location\"].isnull().sum()"
   ]
  },
  {
   "cell_type": "markdown",
   "id": "aa159c0d-63fc-48e9-b8c1-5e231c6e7d76",
   "metadata": {},
   "source": [
    "### 'host_is_superhost'"
   ]
  },
  {
   "cell_type": "markdown",
   "id": "ad5ba76d-b866-4601-8f56-86722427416a",
   "metadata": {},
   "source": [
    "La columna 'host_is_superhost' tenía 119 valores nulos, que hemos rellenado con la moda, False. Esto se debe a que la mayoría de los anfitriones no son superhost, y se considera que esta modificación no afectará significativamente al modelo."
   ]
  },
  {
   "cell_type": "code",
   "execution_count": 34,
   "id": "bb68693f-29a0-48f5-bffd-469de76bc373",
   "metadata": {
    "tags": []
   },
   "outputs": [
    {
     "data": {
      "text/plain": [
       "array(['f', 't', nan], dtype=object)"
      ]
     },
     "execution_count": 34,
     "metadata": {},
     "output_type": "execute_result"
    }
   ],
   "source": [
    "# Comprobación valores únicos\n",
    "df2[\"host_is_superhost\"].unique()"
   ]
  },
  {
   "cell_type": "code",
   "execution_count": 35,
   "id": "2f6d373f-4dec-4ce4-9468-e3448be799a7",
   "metadata": {
    "tags": []
   },
   "outputs": [
    {
     "data": {
      "text/plain": [
       "119"
      ]
     },
     "execution_count": 35,
     "metadata": {},
     "output_type": "execute_result"
    }
   ],
   "source": [
    "# Comprobación valores nulos\n",
    "df2[\"host_is_superhost\"].isnull().sum()"
   ]
  },
  {
   "cell_type": "code",
   "execution_count": 36,
   "id": "75b35000-b3d6-4470-8634-20c73f914552",
   "metadata": {
    "tags": []
   },
   "outputs": [],
   "source": [
    "# Calcular la moda de la columna 'host_is_superhost'\n",
    "moda = df2['host_is_superhost'].mode()[0]"
   ]
  },
  {
   "cell_type": "code",
   "execution_count": 37,
   "id": "d00c489a-eab3-4c25-a740-b2751c6e9169",
   "metadata": {
    "tags": []
   },
   "outputs": [],
   "source": [
    "# Completar todos los valores nulos con la moda ('false')\n",
    "df2['host_is_superhost'] = df2['host_is_superhost'].map({'t': True, 'f': False})\n",
    "df2['host_is_superhost'] = df2['host_is_superhost'].fillna(False)"
   ]
  },
  {
   "cell_type": "code",
   "execution_count": 38,
   "id": "6fef3905-4a75-4022-b5cd-e9e1b342048d",
   "metadata": {
    "tags": []
   },
   "outputs": [
    {
     "data": {
      "text/plain": [
       "array([False,  True])"
      ]
     },
     "execution_count": 38,
     "metadata": {},
     "output_type": "execute_result"
    }
   ],
   "source": [
    "# Comprobación valores únicos\n",
    "df2['host_is_superhost'].unique()"
   ]
  },
  {
   "cell_type": "code",
   "execution_count": 39,
   "id": "44903094-6bd1-4eac-a178-6c242e9ac371",
   "metadata": {
    "tags": []
   },
   "outputs": [
    {
     "data": {
      "text/plain": [
       "0"
      ]
     },
     "execution_count": 39,
     "metadata": {},
     "output_type": "execute_result"
    }
   ],
   "source": [
    "# Comprobación valores nulos\n",
    "df2['host_is_superhost'].isnull().sum()"
   ]
  },
  {
   "cell_type": "code",
   "execution_count": 40,
   "id": "e1b54d72-16ee-4ee1-b12e-f800053be481",
   "metadata": {
    "tags": []
   },
   "outputs": [
    {
     "name": "stdout",
     "output_type": "stream",
     "text": [
      "bool\n"
     ]
    }
   ],
   "source": [
    "# Cambiar a tipo booleano\n",
    "df2['host_is_superhost'] = df2['host_is_superhost'].astype(bool)\n",
    "print(df2['host_is_superhost'].dtype)"
   ]
  },
  {
   "cell_type": "code",
   "execution_count": 41,
   "id": "176ddde9-a132-49aa-a3f6-85a3751a108f",
   "metadata": {
    "tags": []
   },
   "outputs": [
    {
     "data": {
      "text/html": [
       "<div>\n",
       "<style scoped>\n",
       "    .dataframe tbody tr th:only-of-type {\n",
       "        vertical-align: middle;\n",
       "    }\n",
       "\n",
       "    .dataframe tbody tr th {\n",
       "        vertical-align: top;\n",
       "    }\n",
       "\n",
       "    .dataframe thead th {\n",
       "        text-align: right;\n",
       "    }\n",
       "</style>\n",
       "<table border=\"1\" class=\"dataframe\">\n",
       "  <thead>\n",
       "    <tr style=\"text-align: right;\">\n",
       "      <th></th>\n",
       "      <th>price</th>\n",
       "      <th>host_is_superhost</th>\n",
       "    </tr>\n",
       "  </thead>\n",
       "  <tbody>\n",
       "    <tr>\n",
       "      <th>price</th>\n",
       "      <td>1.000000</td>\n",
       "      <td>0.022703</td>\n",
       "    </tr>\n",
       "    <tr>\n",
       "      <th>host_is_superhost</th>\n",
       "      <td>0.022703</td>\n",
       "      <td>1.000000</td>\n",
       "    </tr>\n",
       "  </tbody>\n",
       "</table>\n",
       "</div>"
      ],
      "text/plain": [
       "                      price  host_is_superhost\n",
       "price              1.000000           0.022703\n",
       "host_is_superhost  0.022703           1.000000"
      ]
     },
     "execution_count": 41,
     "metadata": {},
     "output_type": "execute_result"
    }
   ],
   "source": [
    "df2[['price', 'host_is_superhost']].corr()"
   ]
  },
  {
   "cell_type": "markdown",
   "id": "52b7f640-b109-45c1-8f6b-7881179ce9fd",
   "metadata": {},
   "source": [
    "### 'host_identity_verified'"
   ]
  },
  {
   "cell_type": "markdown",
   "id": "899f2c62-dc40-4372-b9c6-163a90421bd2",
   "metadata": {},
   "source": [
    "La columna 'host_identity_verified' indica si la identidad del anfitrión está verificada y no contiene valores nulos. No obstante, hemos decidido convertir su tipo de dato de object a booleano para mejorar la precisión y eficiencia en el análisis de datos. Este ajuste optimiza la manipulación y la interpretación de la columna."
   ]
  },
  {
   "cell_type": "code",
   "execution_count": 42,
   "id": "92f82368-205c-4f1c-96c6-8dd5a0d92cc8",
   "metadata": {
    "tags": []
   },
   "outputs": [
    {
     "data": {
      "text/plain": [
       "array(['t', 'f'], dtype=object)"
      ]
     },
     "execution_count": 42,
     "metadata": {},
     "output_type": "execute_result"
    }
   ],
   "source": [
    "# Comrpobación valores únicos\n",
    "df2[\"host_identity_verified\"].unique()"
   ]
  },
  {
   "cell_type": "code",
   "execution_count": 43,
   "id": "073101c6-b3ad-4135-9385-089a8151cc52",
   "metadata": {
    "tags": []
   },
   "outputs": [
    {
     "data": {
      "text/plain": [
       "0"
      ]
     },
     "execution_count": 43,
     "metadata": {},
     "output_type": "execute_result"
    }
   ],
   "source": [
    "# Comrpobación valores nulos\n",
    "df2[\"host_identity_verified\"].isnull().sum()"
   ]
  },
  {
   "cell_type": "code",
   "execution_count": 44,
   "id": "bfc9893d-1082-4f49-a3f0-f714dbc96a6f",
   "metadata": {
    "tags": []
   },
   "outputs": [],
   "source": [
    "# Cambiar tipo de dato a booleano\n",
    "df2['host_identity_verified'] = df2['host_identity_verified'].map({'t': True, 'f': False})\n",
    "df2['host_identity_verified'] = df2['host_identity_verified'].astype(bool)"
   ]
  },
  {
   "cell_type": "code",
   "execution_count": 45,
   "id": "33c61135-0a9b-4faf-9a9b-675687c9ef7e",
   "metadata": {
    "tags": []
   },
   "outputs": [
    {
     "name": "stdout",
     "output_type": "stream",
     "text": [
      "bool\n",
      "[ True False]\n"
     ]
    }
   ],
   "source": [
    "# Comprobación del cambio \n",
    "print(df2['host_identity_verified'].dtype)\n",
    "print(df2['host_identity_verified'].unique())"
   ]
  },
  {
   "cell_type": "code",
   "execution_count": 46,
   "id": "8eb82516-4d72-49e0-ab19-8cc6be2b4d2b",
   "metadata": {
    "tags": []
   },
   "outputs": [
    {
     "data": {
      "text/html": [
       "<div>\n",
       "<style scoped>\n",
       "    .dataframe tbody tr th:only-of-type {\n",
       "        vertical-align: middle;\n",
       "    }\n",
       "\n",
       "    .dataframe tbody tr th {\n",
       "        vertical-align: top;\n",
       "    }\n",
       "\n",
       "    .dataframe thead th {\n",
       "        text-align: right;\n",
       "    }\n",
       "</style>\n",
       "<table border=\"1\" class=\"dataframe\">\n",
       "  <thead>\n",
       "    <tr style=\"text-align: right;\">\n",
       "      <th></th>\n",
       "      <th>price</th>\n",
       "      <th>host_identity_verified</th>\n",
       "    </tr>\n",
       "  </thead>\n",
       "  <tbody>\n",
       "    <tr>\n",
       "      <th>price</th>\n",
       "      <td>1.00000</td>\n",
       "      <td>-0.01746</td>\n",
       "    </tr>\n",
       "    <tr>\n",
       "      <th>host_identity_verified</th>\n",
       "      <td>-0.01746</td>\n",
       "      <td>1.00000</td>\n",
       "    </tr>\n",
       "  </tbody>\n",
       "</table>\n",
       "</div>"
      ],
      "text/plain": [
       "                          price  host_identity_verified\n",
       "price                   1.00000                -0.01746\n",
       "host_identity_verified -0.01746                 1.00000"
      ]
     },
     "execution_count": 46,
     "metadata": {},
     "output_type": "execute_result"
    }
   ],
   "source": [
    "df2[['price', 'host_identity_verified']].corr()"
   ]
  },
  {
   "cell_type": "markdown",
   "id": "4634c945-306e-46eb-af92-07d4ff73aae5",
   "metadata": {},
   "source": [
    "### 'host_has_profile_pic'"
   ]
  },
  {
   "cell_type": "markdown",
   "id": "dfa3225b-088f-447e-b094-28e629851472",
   "metadata": {},
   "source": [
    "La columna 'host_has_profile_pic' no presenta valores nulos. Hemos optado por convertir su tipo de dato de object a booleano para optimizar la precisión y eficiencia en el análisis de datos. Esta conversión facilita la manipulación y la interpretación de la columna, alinear su formato con el contenido real (presencia o ausencia de una foto de perfil)."
   ]
  },
  {
   "cell_type": "code",
   "execution_count": 47,
   "id": "4bf88ae4-c104-42ae-b867-500ac6d87481",
   "metadata": {
    "tags": []
   },
   "outputs": [
    {
     "data": {
      "text/plain": [
       "array(['t', 'f'], dtype=object)"
      ]
     },
     "execution_count": 47,
     "metadata": {},
     "output_type": "execute_result"
    }
   ],
   "source": [
    "# Comrpobación valores únicos\n",
    "df2[\"host_has_profile_pic\"].unique()"
   ]
  },
  {
   "cell_type": "code",
   "execution_count": 48,
   "id": "e710e9bf-3883-4673-be26-2f43f50d2d67",
   "metadata": {
    "tags": []
   },
   "outputs": [
    {
     "data": {
      "text/plain": [
       "0"
      ]
     },
     "execution_count": 48,
     "metadata": {},
     "output_type": "execute_result"
    }
   ],
   "source": [
    "# Comprobación valores nulos\n",
    "df2['host_has_profile_pic'].isnull().sum()"
   ]
  },
  {
   "cell_type": "code",
   "execution_count": 49,
   "id": "a5717376-33d9-45d9-90e3-2f3793584e15",
   "metadata": {
    "tags": []
   },
   "outputs": [],
   "source": [
    "# Cambiar tipo de dato a booleano\n",
    "df2['host_has_profile_pic'] = df2['host_has_profile_pic'].map({'t': True, 'f': False})\n",
    "df2['host_has_profile_pic'] = df2['host_has_profile_pic'].astype(bool)"
   ]
  },
  {
   "cell_type": "code",
   "execution_count": 50,
   "id": "811664d7-1b91-4123-a4fe-4a99e5c06877",
   "metadata": {
    "tags": []
   },
   "outputs": [
    {
     "name": "stdout",
     "output_type": "stream",
     "text": [
      "bool\n",
      "[ True False]\n"
     ]
    }
   ],
   "source": [
    "# Comprobación del cambio \n",
    "print(df2['host_has_profile_pic'].dtype)\n",
    "print(df2['host_has_profile_pic'].unique())"
   ]
  },
  {
   "cell_type": "code",
   "execution_count": 51,
   "id": "d2fdbe9b-308d-4468-b4b1-19f55923523a",
   "metadata": {
    "tags": []
   },
   "outputs": [
    {
     "data": {
      "text/html": [
       "<div>\n",
       "<style scoped>\n",
       "    .dataframe tbody tr th:only-of-type {\n",
       "        vertical-align: middle;\n",
       "    }\n",
       "\n",
       "    .dataframe tbody tr th {\n",
       "        vertical-align: top;\n",
       "    }\n",
       "\n",
       "    .dataframe thead th {\n",
       "        text-align: right;\n",
       "    }\n",
       "</style>\n",
       "<table border=\"1\" class=\"dataframe\">\n",
       "  <thead>\n",
       "    <tr style=\"text-align: right;\">\n",
       "      <th></th>\n",
       "      <th>price</th>\n",
       "      <th>host_has_profile_pic</th>\n",
       "    </tr>\n",
       "  </thead>\n",
       "  <tbody>\n",
       "    <tr>\n",
       "      <th>price</th>\n",
       "      <td>1.000000</td>\n",
       "      <td>0.015827</td>\n",
       "    </tr>\n",
       "    <tr>\n",
       "      <th>host_has_profile_pic</th>\n",
       "      <td>0.015827</td>\n",
       "      <td>1.000000</td>\n",
       "    </tr>\n",
       "  </tbody>\n",
       "</table>\n",
       "</div>"
      ],
      "text/plain": [
       "                         price  host_has_profile_pic\n",
       "price                 1.000000              0.015827\n",
       "host_has_profile_pic  0.015827              1.000000"
      ]
     },
     "execution_count": 51,
     "metadata": {},
     "output_type": "execute_result"
    }
   ],
   "source": [
    "df2[['price', 'host_has_profile_pic']].corr()"
   ]
  },
  {
   "cell_type": "markdown",
   "id": "022b248c-dbef-41b0-8d91-d95d7b348b10",
   "metadata": {},
   "source": [
    "### 'neighbourhood_group_cleansed'"
   ]
  },
  {
   "cell_type": "markdown",
   "id": "72874036-5c54-4c95-b309-38504e4d89ad",
   "metadata": {},
   "source": [
    "Hemos cambiado el nombre de la columna de neighbourhood_group_cleansed a neighbourhood. Esta columna, que no contiene valores nulos, proporciona información sobre el barrio en el que se encuentra el alojamiento. El nuevo nombre mejora la claridad y la interpretación de la columna, haciendo que sea más intuitivo y fácil de entender en el contexto del análisis de datos."
   ]
  },
  {
   "cell_type": "code",
   "execution_count": 52,
   "id": "2f7670b3-4bf1-414d-a017-37c01530d7cc",
   "metadata": {
    "tags": []
   },
   "outputs": [],
   "source": [
    "# Cambio nombre columna por 'neighbourhood'\n",
    "df2.rename(columns={'neighbourhood_group_cleansed': 'neighbourhood'}, inplace=True)"
   ]
  },
  {
   "cell_type": "code",
   "execution_count": 53,
   "id": "25216e7c-db03-481b-9021-dc5ed8ef58ec",
   "metadata": {
    "tags": []
   },
   "outputs": [],
   "source": [
    "# Transformación de los datos (minúsculas, sin acentos, _....etc)\n",
    "df2['neighbourhood'] = df2['neighbourhood'] \\\n",
    "    .str.lower() \\\n",
    "    .str.replace(' ', '_', regex=False) \\\n",
    "    .str.replace('-', '_', regex=False) \\\n",
    "    .str.normalize('NFKD') \\\n",
    "    .str.encode('ascii', errors='ignore') \\\n",
    "    .str.decode('ascii')"
   ]
  },
  {
   "cell_type": "code",
   "execution_count": 54,
   "id": "6df4b005-8b29-4521-bb5a-1f90bbdc5ba6",
   "metadata": {
    "tags": []
   },
   "outputs": [
    {
     "data": {
      "text/plain": [
       "array(['eixample', 'ciutat_vella', 'sant_marti', 'gracia',\n",
       "       'sarria_sant_gervasi', 'sants_montjuic', 'les_corts',\n",
       "       'horta_guinardo', 'sant_andreu', 'nou_barris'], dtype=object)"
      ]
     },
     "execution_count": 54,
     "metadata": {},
     "output_type": "execute_result"
    }
   ],
   "source": [
    "# Comprobación valores únicos\n",
    "df2['neighbourhood'].unique()"
   ]
  },
  {
   "cell_type": "markdown",
   "id": "085a4e18-c0dc-451f-aa81-2dce27b7838c",
   "metadata": {},
   "source": [
    "### 'latitude'"
   ]
  },
  {
   "cell_type": "markdown",
   "id": "3facffef-233d-4f22-b451-75042a7ccc1d",
   "metadata": {},
   "source": [
    "La columna latitude representa la latitud de la ubicación del alojamiento. No presenta valores nulos y no requiere modificaciones. Esta columna proporciona información precisa sobre la ubicación geográfica del alojamiento, y su integridad y formato actuales son adecuados para el análisis y la modelización de datos."
   ]
  },
  {
   "cell_type": "code",
   "execution_count": 55,
   "id": "9302940d-14e7-4fdf-941c-4fa71aa109d9",
   "metadata": {
    "tags": []
   },
   "outputs": [
    {
     "data": {
      "text/plain": [
       "0"
      ]
     },
     "execution_count": 55,
     "metadata": {},
     "output_type": "execute_result"
    }
   ],
   "source": [
    "df2['latitude'].isnull().sum()"
   ]
  },
  {
   "cell_type": "code",
   "execution_count": 56,
   "id": "339bbbd7-a931-422c-a829-1bf36607169a",
   "metadata": {
    "tags": []
   },
   "outputs": [
    {
     "data": {
      "text/plain": [
       "0        41.401810\n",
       "1        41.379360\n",
       "2        41.405560\n",
       "4        41.412432\n",
       "5        41.405660\n",
       "           ...    \n",
       "18920    41.377598\n",
       "18921    41.389550\n",
       "18922    41.389480\n",
       "18923    41.379724\n",
       "18924    41.379920\n",
       "Name: latitude, Length: 15189, dtype: float64"
      ]
     },
     "execution_count": 56,
     "metadata": {},
     "output_type": "execute_result"
    }
   ],
   "source": [
    "df2['latitude']"
   ]
  },
  {
   "cell_type": "code",
   "execution_count": 57,
   "id": "cb99171f-ce55-4efe-a31c-45ddb93a3f4a",
   "metadata": {
    "tags": []
   },
   "outputs": [
    {
     "data": {
      "text/html": [
       "<div>\n",
       "<style scoped>\n",
       "    .dataframe tbody tr th:only-of-type {\n",
       "        vertical-align: middle;\n",
       "    }\n",
       "\n",
       "    .dataframe tbody tr th {\n",
       "        vertical-align: top;\n",
       "    }\n",
       "\n",
       "    .dataframe thead th {\n",
       "        text-align: right;\n",
       "    }\n",
       "</style>\n",
       "<table border=\"1\" class=\"dataframe\">\n",
       "  <thead>\n",
       "    <tr style=\"text-align: right;\">\n",
       "      <th></th>\n",
       "      <th>price</th>\n",
       "      <th>latitude</th>\n",
       "    </tr>\n",
       "  </thead>\n",
       "  <tbody>\n",
       "    <tr>\n",
       "      <th>price</th>\n",
       "      <td>1.000000</td>\n",
       "      <td>-0.026736</td>\n",
       "    </tr>\n",
       "    <tr>\n",
       "      <th>latitude</th>\n",
       "      <td>-0.026736</td>\n",
       "      <td>1.000000</td>\n",
       "    </tr>\n",
       "  </tbody>\n",
       "</table>\n",
       "</div>"
      ],
      "text/plain": [
       "             price  latitude\n",
       "price     1.000000 -0.026736\n",
       "latitude -0.026736  1.000000"
      ]
     },
     "execution_count": 57,
     "metadata": {},
     "output_type": "execute_result"
    }
   ],
   "source": [
    "df2[['price', 'latitude']].corr()"
   ]
  },
  {
   "cell_type": "markdown",
   "id": "13810ac4-26b0-4bfb-9b92-6e62592aa876",
   "metadata": {},
   "source": [
    "### 'longitude'"
   ]
  },
  {
   "cell_type": "markdown",
   "id": "95d96b7a-05aa-43a5-abd8-b2a23d52b412",
   "metadata": {},
   "source": [
    "La columna longitude representa la longitud de la ubicación del alojamiento. No presenta valores nulos y no requiere modificaciones. Esta columna proporciona información precisa sobre la ubicación geográfica del alojamiento, y su integridad y formato actuales son adecuados para el análisis y la modelización de datos."
   ]
  },
  {
   "cell_type": "code",
   "execution_count": 58,
   "id": "335fd89e-5878-4fdd-8765-61fc1043ea0e",
   "metadata": {
    "tags": []
   },
   "outputs": [
    {
     "data": {
      "text/plain": [
       "0"
      ]
     },
     "execution_count": 58,
     "metadata": {},
     "output_type": "execute_result"
    }
   ],
   "source": [
    "df2['longitude'].isnull().sum()"
   ]
  },
  {
   "cell_type": "code",
   "execution_count": 59,
   "id": "3b2032f6-1e72-48ca-a816-65c054f9f02d",
   "metadata": {
    "tags": []
   },
   "outputs": [
    {
     "data": {
      "text/plain": [
       "0        2.176100\n",
       "1        2.173760\n",
       "2        2.172620\n",
       "4        2.219750\n",
       "5        2.170150\n",
       "           ...   \n",
       "18920    2.188911\n",
       "18921    2.178390\n",
       "18922    2.177006\n",
       "18923    2.178621\n",
       "18924    2.125640\n",
       "Name: longitude, Length: 15189, dtype: float64"
      ]
     },
     "execution_count": 59,
     "metadata": {},
     "output_type": "execute_result"
    }
   ],
   "source": [
    "df2['longitude']"
   ]
  },
  {
   "cell_type": "code",
   "execution_count": 60,
   "id": "938fc466-18ff-4c5b-bc69-d1d00ecce00c",
   "metadata": {
    "tags": []
   },
   "outputs": [
    {
     "data": {
      "text/html": [
       "<div>\n",
       "<style scoped>\n",
       "    .dataframe tbody tr th:only-of-type {\n",
       "        vertical-align: middle;\n",
       "    }\n",
       "\n",
       "    .dataframe tbody tr th {\n",
       "        vertical-align: top;\n",
       "    }\n",
       "\n",
       "    .dataframe thead th {\n",
       "        text-align: right;\n",
       "    }\n",
       "</style>\n",
       "<table border=\"1\" class=\"dataframe\">\n",
       "  <thead>\n",
       "    <tr style=\"text-align: right;\">\n",
       "      <th></th>\n",
       "      <th>price</th>\n",
       "      <th>longitude</th>\n",
       "    </tr>\n",
       "  </thead>\n",
       "  <tbody>\n",
       "    <tr>\n",
       "      <th>price</th>\n",
       "      <td>1.000000</td>\n",
       "      <td>-0.001039</td>\n",
       "    </tr>\n",
       "    <tr>\n",
       "      <th>longitude</th>\n",
       "      <td>-0.001039</td>\n",
       "      <td>1.000000</td>\n",
       "    </tr>\n",
       "  </tbody>\n",
       "</table>\n",
       "</div>"
      ],
      "text/plain": [
       "              price  longitude\n",
       "price      1.000000  -0.001039\n",
       "longitude -0.001039   1.000000"
      ]
     },
     "execution_count": 60,
     "metadata": {},
     "output_type": "execute_result"
    }
   ],
   "source": [
    "df2[['price', 'longitude']].corr()"
   ]
  },
  {
   "cell_type": "markdown",
   "id": "374fa30f-cf3a-48fb-898f-a8f79602c6f3",
   "metadata": {},
   "source": [
    "### 'property_type'"
   ]
  },
  {
   "cell_type": "markdown",
   "id": "c3f1a8a9-cf2b-4ec8-a2f8-6ce213968368",
   "metadata": {},
   "source": [
    "La columna property_type proporciona información detallada sobre el tipo específico de alojamiento, permitiendo identificar las diferentes categorías de propiedades disponibles."
   ]
  },
  {
   "cell_type": "code",
   "execution_count": 61,
   "id": "3a44463a-a5e3-4a05-9e46-ac94a5df8d37",
   "metadata": {
    "tags": []
   },
   "outputs": [],
   "source": [
    "# Transformación de los datos (minúsculas, sin acentos, _....etc)\n",
    "df2['property_type'] = df2['property_type'] \\\n",
    "    .str.lower() \\\n",
    "    .str.replace(' ', '_', regex=False) \\\n",
    "    .str.replace('-', '_', regex=False) \\\n",
    "    .str.replace('/', '_', regex=False) \\\n",
    "    .str.normalize('NFKD') \\\n",
    "    .str.encode('ascii', errors='ignore') \\\n",
    "    .str.decode('ascii')"
   ]
  },
  {
   "cell_type": "code",
   "execution_count": 62,
   "id": "67ded640-123f-41be-86d3-4f46eb794cb0",
   "metadata": {
    "tags": []
   },
   "outputs": [
    {
     "data": {
      "text/plain": [
       "array(['entire_loft', 'entire_rental_unit', 'entire_condo',\n",
       "       'entire_vacation_home', 'entire_home', 'entire_serviced_apartment',\n",
       "       'private_room_in_rental_unit', 'entire_townhouse',\n",
       "       'private_room_in_condo', 'private_room_in_home',\n",
       "       'entire_guest_suite', 'private_room_in_casa_particular',\n",
       "       'private_room_in_serviced_apartment', 'room_in_serviced_apartment',\n",
       "       'private_room_in_bed_and_breakfast', 'entire_villa',\n",
       "       'private_room_in_guesthouse', 'tiny_home',\n",
       "       'shared_room_in_rental_unit', 'shared_room_in_bed_and_breakfast',\n",
       "       'room_in_aparthotel', 'private_room_in_loft',\n",
       "       'shared_room_in_hostel', 'private_room', 'room_in_boutique_hotel',\n",
       "       'entire_guesthouse', 'private_room_in_guest_suite', 'barn',\n",
       "       'shared_room_in_floor', 'private_room_in_villa',\n",
       "       'private_room_in_townhouse', 'entire_place', 'boat',\n",
       "       'shared_room_in_home', 'private_room_in_hostel', 'room_in_hostel',\n",
       "       'room_in_hotel', 'entire_chalet', 'casa_particular', 'camper_rv',\n",
       "       'private_room_in_dome', 'shared_room_in_hotel', 'earthen_home',\n",
       "       'shared_room_in_serviced_apartment',\n",
       "       'shared_room_in_boutique_hotel', 'private_room_in_vacation_home',\n",
       "       'shared_room_in_condo', 'private_room_in_cottage', 'yurt',\n",
       "       'private_room_in_boat', 'shared_room_in_guesthouse',\n",
       "       'entire_cabin'], dtype=object)"
      ]
     },
     "execution_count": 62,
     "metadata": {},
     "output_type": "execute_result"
    }
   ],
   "source": [
    "# Comprobación valores únicos\n",
    "df2['property_type'].unique()"
   ]
  },
  {
   "cell_type": "markdown",
   "id": "e96d225f-f7c1-45ab-b1a6-70e11d49fbb2",
   "metadata": {},
   "source": [
    "### 'room_type'"
   ]
  },
  {
   "cell_type": "markdown",
   "id": "d1eeb328-c71c-488b-a1f3-76ffb6223637",
   "metadata": {},
   "source": [
    "La columna 'room_type' clasifica el tipo de alojamiento en cuatro categorías generales, lo que facilita su interpretación y comprensión al agrupar los tipos de estancia de manera simplificada."
   ]
  },
  {
   "cell_type": "code",
   "execution_count": 63,
   "id": "58de924f-9588-4545-ac55-e23e5c2b6199",
   "metadata": {
    "tags": []
   },
   "outputs": [],
   "source": [
    "# Transformación de los datos (minúsculas, sin acentos, _....etc)\n",
    "df2['room_type'] = df2['room_type'] \\\n",
    "    .str.lower() \\\n",
    "    .str.replace(' ', '_', regex=False) \\\n",
    "    .str.replace('-', '_', regex=False) \\\n",
    "    .str.replace('/', '_', regex=False) \\\n",
    "    .str.normalize('NFKD') \\\n",
    "    .str.encode('ascii', errors='ignore') \\\n",
    "    .str.decode('ascii')"
   ]
  },
  {
   "cell_type": "code",
   "execution_count": 64,
   "id": "f57dd411-854d-419a-a5df-d1a217b828c3",
   "metadata": {
    "tags": []
   },
   "outputs": [
    {
     "data": {
      "text/plain": [
       "array(['entire_home_apt', 'private_room', 'hotel_room', 'shared_room'],\n",
       "      dtype=object)"
      ]
     },
     "execution_count": 64,
     "metadata": {},
     "output_type": "execute_result"
    }
   ],
   "source": [
    "# Comprobación valores únicos\n",
    "df2['room_type'].unique()"
   ]
  },
  {
   "cell_type": "markdown",
   "id": "cefb94c6-e3ec-4af7-b4cf-353d691fb141",
   "metadata": {},
   "source": [
    "#### Cramér's V entre 'property_type' y 'room_type'"
   ]
  },
  {
   "cell_type": "markdown",
   "id": "db756efd-23f9-4423-882c-3ac246fa1842",
   "metadata": {},
   "source": [
    "Hemos realizado un análisis utilizando Cramér's V para evaluar la asociación entre las variables property_type y room_type, con el objetivo de reducir variables y optimizar nuestro modelo. El resultado, (0.93), indica una fuerte asociación entre ambas variables. Debido a esta alta correlación, hemos decidido eliminar la columna property_type para evitar redundancias en el modelo."
   ]
  },
  {
   "cell_type": "code",
   "execution_count": 65,
   "id": "98820262-6c1d-4f40-b9a6-d740d1a99dac",
   "metadata": {
    "tags": []
   },
   "outputs": [
    {
     "name": "stdout",
     "output_type": "stream",
     "text": [
      "Cramér's V entre 'property_type' y 'room_type': 0.9251422047644258\n"
     ]
    }
   ],
   "source": [
    "import scipy.stats as stats\n",
    "\n",
    "\n",
    "# Crear la tabla de contingencia\n",
    "contingency_table = pd.crosstab(df2['room_type'], df2['property_type'])\n",
    "\n",
    "# Calcular el estadístico Chi-cuadrado, el p-valor, y los grados de libertad.\n",
    "chi2, p, dof, expected = stats.chi2_contingency(contingency_table)\n",
    "\n",
    "# Calcular Cramér's V\n",
    "n = contingency_table.sum().sum()  # Número total de observaciones\n",
    "min_dim = min(contingency_table.shape) - 1  # Valor de k-1\n",
    "cramers_v = np.sqrt(chi2 / (n * min_dim))\n",
    "\n",
    "print(f\"Cramér's V entre 'property_type' y 'room_type': {cramers_v}\")"
   ]
  },
  {
   "cell_type": "markdown",
   "id": "b71ff550-1597-4ecd-b83a-ef5aa3cd64ad",
   "metadata": {},
   "source": [
    "#### drop 'property_type'"
   ]
  },
  {
   "cell_type": "code",
   "execution_count": 66,
   "id": "7fd7c5dc-9e2c-42a2-9237-8b7ecfe97adf",
   "metadata": {
    "tags": []
   },
   "outputs": [],
   "source": [
    "# Eliminar la columna 'property_type'\n",
    "df2.drop(columns=['property_type'], inplace=True)"
   ]
  },
  {
   "cell_type": "code",
   "execution_count": 67,
   "id": "e94cdc8d-203c-4786-9c29-abb81e2a68cf",
   "metadata": {
    "tags": []
   },
   "outputs": [
    {
     "data": {
      "text/plain": [
       "['description',\n",
       " 'name',\n",
       " 'host_since',\n",
       " 'host_location',\n",
       " 'host_is_superhost',\n",
       " 'host_identity_verified',\n",
       " 'host_has_profile_pic',\n",
       " 'neighbourhood',\n",
       " 'latitude',\n",
       " 'longitude',\n",
       " 'room_type',\n",
       " 'accommodates',\n",
       " 'bathrooms',\n",
       " 'bedrooms',\n",
       " 'beds',\n",
       " 'amenities',\n",
       " 'price',\n",
       " 'minimum_nights',\n",
       " 'maximum_nights',\n",
       " 'has_availability',\n",
       " 'availability_30',\n",
       " 'availability_60',\n",
       " 'number_of_reviews',\n",
       " 'last_review',\n",
       " 'review_scores_rating',\n",
       " 'review_scores_cleanliness',\n",
       " 'review_scores_checkin',\n",
       " 'review_scores_communication',\n",
       " 'review_scores_location',\n",
       " 'review_scores_value',\n",
       " 'reviews_per_month',\n",
       " 'license',\n",
       " 'instant_bookable',\n",
       " 'listing_url',\n",
       " 'bathrooms_text']"
      ]
     },
     "execution_count": 67,
     "metadata": {},
     "output_type": "execute_result"
    }
   ],
   "source": [
    "# Verificacion de eliminacion\n",
    "list(df2.columns)"
   ]
  },
  {
   "cell_type": "markdown",
   "id": "18eb448c-cb16-46de-9c49-10c2ad9f4879",
   "metadata": {},
   "source": [
    "### 'accommodates'"
   ]
  },
  {
   "cell_type": "markdown",
   "id": "7a7b14e5-3984-4d12-a9c7-16fd32cf2557",
   "metadata": {},
   "source": [
    "La columna accommodates indica la cantidad de ocupantes permitidos en el alojamiento. No presenta valores nulos y su tipo de dato es apropiado para el modelo, por lo que no requiere ninguna modificación."
   ]
  },
  {
   "cell_type": "code",
   "execution_count": 68,
   "id": "30aabf16-f143-413f-82a1-33e850d218df",
   "metadata": {
    "tags": []
   },
   "outputs": [
    {
     "data": {
      "text/plain": [
       "0"
      ]
     },
     "execution_count": 68,
     "metadata": {},
     "output_type": "execute_result"
    }
   ],
   "source": [
    "df2['accommodates'].isnull().sum()"
   ]
  },
  {
   "cell_type": "code",
   "execution_count": 69,
   "id": "219db333-4bfd-4f78-9844-08f2be8fd025",
   "metadata": {
    "tags": []
   },
   "outputs": [
    {
     "name": "stdout",
     "output_type": "stream",
     "text": [
      "<class 'pandas.core.series.Series'>\n",
      "Index: 15189 entries, 0 to 18924\n",
      "Series name: accommodates\n",
      "Non-Null Count  Dtype\n",
      "--------------  -----\n",
      "15189 non-null  int64\n",
      "dtypes: int64(1)\n",
      "memory usage: 237.3 KB\n"
     ]
    }
   ],
   "source": [
    "df2['accommodates'].info()"
   ]
  },
  {
   "cell_type": "markdown",
   "id": "67678614-0b1e-418d-9079-a31d35759bea",
   "metadata": {},
   "source": [
    "### 'bathrooms'"
   ]
  },
  {
   "cell_type": "markdown",
   "id": "b6473d6d-66ba-419e-b6bc-0545e7c80ddc",
   "metadata": {},
   "source": [
    "La columna 'bathrooms' que indica la cantidad de baños en los alojamientos, originalmente contenía 7 valores nulos. Se identificaron manualmente los valores correctos de estos registros a través de la columna listing_url, dado que la cantidad de faltantes era reducida. Los datos han sido completados adecuadamente, y el tipo de dato es correcto, por lo que no se requiere ninguna modificación adicional."
   ]
  },
  {
   "cell_type": "code",
   "execution_count": 70,
   "id": "63b3c7c8-2739-426b-9c8b-a732e6a9abac",
   "metadata": {
    "tags": []
   },
   "outputs": [
    {
     "data": {
      "text/plain": [
       "7"
      ]
     },
     "execution_count": 70,
     "metadata": {},
     "output_type": "execute_result"
    }
   ],
   "source": [
    "# Comprobación valores nulos \n",
    "df2['bathrooms'].isnull().sum()"
   ]
  },
  {
   "cell_type": "code",
   "execution_count": 71,
   "id": "3a5a518a-a8ab-4412-82fe-ae286f7b1ab5",
   "metadata": {
    "tags": []
   },
   "outputs": [
    {
     "name": "stdout",
     "output_type": "stream",
     "text": [
      "       bathrooms                                       listing_url\n",
      "14617        NaN   https://www.airbnb.com/rooms/939973318879363498\n",
      "14949        NaN   https://www.airbnb.com/rooms/964339945010102928\n",
      "15580        NaN  https://www.airbnb.com/rooms/1013268024586260166\n",
      "15904        NaN  https://www.airbnb.com/rooms/1031002061578844729\n",
      "17106        NaN  https://www.airbnb.com/rooms/1101999350577324560\n",
      "18388        NaN  https://www.airbnb.com/rooms/1151404135945744837\n",
      "18601        NaN  https://www.airbnb.com/rooms/1160842594736431325\n"
     ]
    }
   ],
   "source": [
    "# Localización valores nulos de'bathroom' U 'listing_url' en la df original\n",
    "url_bathrooms = df2.loc[df2['bathrooms'].isna(), ['bathrooms', 'listing_url']]\n",
    "\n",
    "print(url_bathrooms)"
   ]
  },
  {
   "cell_type": "code",
   "execution_count": 72,
   "id": "96e75f71-9a7b-4d0a-a5a7-d6c242aa4692",
   "metadata": {
    "tags": []
   },
   "outputs": [],
   "source": [
    "# Completar con 1 toda la columna de nulos en bathrooms\n",
    "df2['bathrooms'] = df2['bathrooms'].fillna(1)"
   ]
  },
  {
   "cell_type": "code",
   "execution_count": 73,
   "id": "f540966f-7df2-4e14-b53a-53accacaebc6",
   "metadata": {
    "tags": []
   },
   "outputs": [
    {
     "data": {
      "text/plain": [
       "0"
      ]
     },
     "execution_count": 73,
     "metadata": {},
     "output_type": "execute_result"
    }
   ],
   "source": [
    "# Comprobación valores nulos 'bathrooms'\n",
    "df2['bathrooms'].isna().sum()"
   ]
  },
  {
   "cell_type": "code",
   "execution_count": 74,
   "id": "4f9c2b0c-38f2-4c9d-a3aa-4a97c29acca2",
   "metadata": {
    "tags": []
   },
   "outputs": [
    {
     "name": "stdout",
     "output_type": "stream",
     "text": [
      "<class 'pandas.core.series.Series'>\n",
      "Index: 15189 entries, 0 to 18924\n",
      "Series name: bathrooms\n",
      "Non-Null Count  Dtype  \n",
      "--------------  -----  \n",
      "15189 non-null  float64\n",
      "dtypes: float64(1)\n",
      "memory usage: 237.3 KB\n"
     ]
    }
   ],
   "source": [
    "df2['bathrooms'].info()"
   ]
  },
  {
   "cell_type": "code",
   "execution_count": 75,
   "id": "c4b79b67-0480-4d64-98a9-e3e7e28efc64",
   "metadata": {
    "tags": []
   },
   "outputs": [
    {
     "data": {
      "text/html": [
       "<div>\n",
       "<style scoped>\n",
       "    .dataframe tbody tr th:only-of-type {\n",
       "        vertical-align: middle;\n",
       "    }\n",
       "\n",
       "    .dataframe tbody tr th {\n",
       "        vertical-align: top;\n",
       "    }\n",
       "\n",
       "    .dataframe thead th {\n",
       "        text-align: right;\n",
       "    }\n",
       "</style>\n",
       "<table border=\"1\" class=\"dataframe\">\n",
       "  <thead>\n",
       "    <tr style=\"text-align: right;\">\n",
       "      <th></th>\n",
       "      <th>price</th>\n",
       "      <th>bathrooms</th>\n",
       "    </tr>\n",
       "  </thead>\n",
       "  <tbody>\n",
       "    <tr>\n",
       "      <th>price</th>\n",
       "      <td>1.000000</td>\n",
       "      <td>0.299193</td>\n",
       "    </tr>\n",
       "    <tr>\n",
       "      <th>bathrooms</th>\n",
       "      <td>0.299193</td>\n",
       "      <td>1.000000</td>\n",
       "    </tr>\n",
       "  </tbody>\n",
       "</table>\n",
       "</div>"
      ],
      "text/plain": [
       "              price  bathrooms\n",
       "price      1.000000   0.299193\n",
       "bathrooms  0.299193   1.000000"
      ]
     },
     "execution_count": 75,
     "metadata": {},
     "output_type": "execute_result"
    }
   ],
   "source": [
    "df2[['price', 'bathrooms']].corr()"
   ]
  },
  {
   "cell_type": "markdown",
   "id": "ba0254ec-df39-48fd-bd3b-759f649a6568",
   "metadata": {},
   "source": [
    "#### drop 'listing_url'"
   ]
  },
  {
   "cell_type": "code",
   "execution_count": 76,
   "id": "67533bee-81c7-4352-9455-2c9db0ea9196",
   "metadata": {
    "tags": []
   },
   "outputs": [],
   "source": [
    "# Eliminación columna, ya se obtuvieron los datos necesarios de esta columna\n",
    "df2 = df2.drop(columns=['listing_url'])"
   ]
  },
  {
   "cell_type": "markdown",
   "id": "9c7a1525-a62f-403f-99df-02a4191a3b26",
   "metadata": {},
   "source": [
    "### 'bathrooms_text'"
   ]
  },
  {
   "cell_type": "markdown",
   "id": "bfa04f6b-2e06-4830-9f8c-30242bcede0f",
   "metadata": {},
   "source": [
    "Esta columna especifica el tipo de baño disponible en el alojamiento. Para simplificar la variable, hemos creado una nueva columna llamada bathroom_type, que clasifica los baños en dos categorías: privado y compartido. Además, hemos codificado esta nueva variable como 0 (compartido) y 1 (privado). Posteriormente, se eliminó la columna original bathroom_text para evitar redundancias."
   ]
  },
  {
   "cell_type": "code",
   "execution_count": 77,
   "id": "ce2e07d4-644f-44fb-9692-d80776875feb",
   "metadata": {
    "tags": []
   },
   "outputs": [
    {
     "data": {
      "text/plain": [
       "array(['1 bath', '1.5 baths', '2 baths', '3 baths', '3.5 baths',\n",
       "       '1 shared bath', '1.5 shared baths', '2.5 baths', '1 private bath',\n",
       "       '4 baths', 'Shared half-bath', '2 shared baths', '0 baths',\n",
       "       '5.5 baths', '7.5 baths', nan, '6 baths', '4.5 baths',\n",
       "       '0 shared baths', '2.5 shared baths', 'Half-bath', '5 baths',\n",
       "       '8 baths', '3 shared baths', '8 shared baths', 'Private half-bath',\n",
       "       '4 shared baths', '50 baths', '3.5 shared baths', '6 shared baths',\n",
       "       '5 shared baths', '10 baths', '4.5 shared baths', '13 baths',\n",
       "       '15 baths'], dtype=object)"
      ]
     },
     "execution_count": 77,
     "metadata": {},
     "output_type": "execute_result"
    }
   ],
   "source": [
    "# Comprobación valores únicos\n",
    "df2[\"bathrooms_text\"].unique()"
   ]
  },
  {
   "cell_type": "code",
   "execution_count": 78,
   "id": "c61c4c6e-2e1a-43d9-aaee-ace0c50ba394",
   "metadata": {
    "tags": []
   },
   "outputs": [],
   "source": [
    "# Creación de nueva variable llamada 'bathroom_type' que refleje en función de la columna 'bathrooms_text' si es privado o compartido\n",
    "df2['bathroom_type'] = df2['bathrooms_text'].apply(lambda x: 'shared' if 'shared' in str(x).lower() else 'private')"
   ]
  },
  {
   "cell_type": "code",
   "execution_count": 79,
   "id": "a92f9dd4-7a7b-4c03-a6b3-3bc658764595",
   "metadata": {
    "tags": []
   },
   "outputs": [
    {
     "data": {
      "text/plain": [
       "array(['private', 'shared'], dtype=object)"
      ]
     },
     "execution_count": 79,
     "metadata": {},
     "output_type": "execute_result"
    }
   ],
   "source": [
    "# Comrpobación de la nueva columna type_bathroom\n",
    "df2[\"bathroom_type\"].unique()"
   ]
  },
  {
   "cell_type": "markdown",
   "id": "645d9671-aa6a-4357-9e38-be9847a56ab4",
   "metadata": {},
   "source": [
    "#### drop 'bathrooms_text'"
   ]
  },
  {
   "cell_type": "code",
   "execution_count": 80,
   "id": "8e31abc4-8651-4615-a9dd-24972dbc130f",
   "metadata": {
    "tags": []
   },
   "outputs": [],
   "source": [
    "#Eliminación de la columna bathroom_text\n",
    "df2.drop('bathrooms_text', axis=1, inplace=True)"
   ]
  },
  {
   "cell_type": "code",
   "execution_count": 81,
   "id": "b529028e-b0d0-466f-9f03-8044d0c36616",
   "metadata": {
    "tags": []
   },
   "outputs": [
    {
     "data": {
      "text/plain": [
       "['description',\n",
       " 'name',\n",
       " 'host_since',\n",
       " 'host_location',\n",
       " 'host_is_superhost',\n",
       " 'host_identity_verified',\n",
       " 'host_has_profile_pic',\n",
       " 'neighbourhood',\n",
       " 'latitude',\n",
       " 'longitude',\n",
       " 'room_type',\n",
       " 'accommodates',\n",
       " 'bathrooms',\n",
       " 'bedrooms',\n",
       " 'beds',\n",
       " 'amenities',\n",
       " 'price',\n",
       " 'minimum_nights',\n",
       " 'maximum_nights',\n",
       " 'has_availability',\n",
       " 'availability_30',\n",
       " 'availability_60',\n",
       " 'number_of_reviews',\n",
       " 'last_review',\n",
       " 'review_scores_rating',\n",
       " 'review_scores_cleanliness',\n",
       " 'review_scores_checkin',\n",
       " 'review_scores_communication',\n",
       " 'review_scores_location',\n",
       " 'review_scores_value',\n",
       " 'reviews_per_month',\n",
       " 'license',\n",
       " 'instant_bookable',\n",
       " 'bathroom_type']"
      ]
     },
     "execution_count": 81,
     "metadata": {},
     "output_type": "execute_result"
    }
   ],
   "source": [
    "# Verificacion de eliminacion\n",
    "list(df2.columns)"
   ]
  },
  {
   "cell_type": "markdown",
   "id": "a385c551-3bf2-4f5a-996e-94717b0002c5",
   "metadata": {
    "tags": []
   },
   "source": [
    "### 'bathroom_type'"
   ]
  },
  {
   "cell_type": "markdown",
   "id": "1525f9ea-8aec-4fda-8cdd-20f11432d50b",
   "metadata": {},
   "source": [
    "Esta es la columna optimizada y simplificada que sutituye la columna 'bathroom_text'."
   ]
  },
  {
   "cell_type": "code",
   "execution_count": 82,
   "id": "9b1b973d-3e03-4474-a412-5d5c93d39c28",
   "metadata": {
    "tags": []
   },
   "outputs": [
    {
     "data": {
      "text/plain": [
       "array(['private', 'shared'], dtype=object)"
      ]
     },
     "execution_count": 82,
     "metadata": {},
     "output_type": "execute_result"
    }
   ],
   "source": [
    "df2[\"bathroom_type\"].unique()"
   ]
  },
  {
   "cell_type": "code",
   "execution_count": 83,
   "id": "3d90dd34-f0ac-4bdb-ac94-b0e29d85f8e9",
   "metadata": {
    "tags": []
   },
   "outputs": [
    {
     "data": {
      "text/plain": [
       "0"
      ]
     },
     "execution_count": 83,
     "metadata": {},
     "output_type": "execute_result"
    }
   ],
   "source": [
    "df2[\"bathroom_type\"].isnull().sum()"
   ]
  },
  {
   "cell_type": "code",
   "execution_count": 84,
   "id": "89cd4f27-842a-4ad6-8186-8f9ff3888e0b",
   "metadata": {
    "tags": []
   },
   "outputs": [
    {
     "name": "stdout",
     "output_type": "stream",
     "text": [
      "<class 'pandas.core.series.Series'>\n",
      "Index: 15189 entries, 0 to 18924\n",
      "Series name: bathroom_type\n",
      "Non-Null Count  Dtype \n",
      "--------------  ----- \n",
      "15189 non-null  object\n",
      "dtypes: object(1)\n",
      "memory usage: 237.3+ KB\n"
     ]
    }
   ],
   "source": [
    "df2[\"bathroom_type\"].info()"
   ]
  },
  {
   "cell_type": "code",
   "execution_count": 85,
   "id": "d403caad-ebaf-49dc-9ee8-495d5fc96779",
   "metadata": {
    "tags": []
   },
   "outputs": [],
   "source": [
    "# Codificar los valores de 'bathroom_type' a 0 y 1\n",
    "df2['bathroom_type'] = df2['bathroom_type'].replace({'private': 1, 'shared': 0})"
   ]
  },
  {
   "cell_type": "code",
   "execution_count": 86,
   "id": "adb473d6-712b-4232-836f-856ddb91f90a",
   "metadata": {
    "tags": []
   },
   "outputs": [
    {
     "data": {
      "text/html": [
       "<div>\n",
       "<style scoped>\n",
       "    .dataframe tbody tr th:only-of-type {\n",
       "        vertical-align: middle;\n",
       "    }\n",
       "\n",
       "    .dataframe tbody tr th {\n",
       "        vertical-align: top;\n",
       "    }\n",
       "\n",
       "    .dataframe thead th {\n",
       "        text-align: right;\n",
       "    }\n",
       "</style>\n",
       "<table border=\"1\" class=\"dataframe\">\n",
       "  <thead>\n",
       "    <tr style=\"text-align: right;\">\n",
       "      <th></th>\n",
       "      <th>price</th>\n",
       "      <th>bathroom_type</th>\n",
       "    </tr>\n",
       "  </thead>\n",
       "  <tbody>\n",
       "    <tr>\n",
       "      <th>price</th>\n",
       "      <td>1.000000</td>\n",
       "      <td>0.154463</td>\n",
       "    </tr>\n",
       "    <tr>\n",
       "      <th>bathroom_type</th>\n",
       "      <td>0.154463</td>\n",
       "      <td>1.000000</td>\n",
       "    </tr>\n",
       "  </tbody>\n",
       "</table>\n",
       "</div>"
      ],
      "text/plain": [
       "                  price  bathroom_type\n",
       "price          1.000000       0.154463\n",
       "bathroom_type  0.154463       1.000000"
      ]
     },
     "execution_count": 86,
     "metadata": {},
     "output_type": "execute_result"
    }
   ],
   "source": [
    "df2[['price', 'bathroom_type']].corr()"
   ]
  },
  {
   "cell_type": "markdown",
   "id": "dfea8739-2a60-4482-9af0-ff55f1a15991",
   "metadata": {},
   "source": [
    "### 'bedrooms'"
   ]
  },
  {
   "cell_type": "markdown",
   "id": "0456a544-d7bb-4bcf-93ae-41175f64aa54",
   "metadata": {},
   "source": [
    "Esta columna muestra el número de habitaciones en el alojamiento y, originalmente, contenía 10 valores nulos. Debido a que la relación entre bedrooms y price es demasiado débil para justificar métodos de imputación basados en regresión, se ha optado por reemplazar los valores faltantes con la moda de la columna."
   ]
  },
  {
   "cell_type": "code",
   "execution_count": 87,
   "id": "c22df87b-4fdf-4847-a081-4168bfa0a8fb",
   "metadata": {
    "tags": []
   },
   "outputs": [
    {
     "data": {
      "image/png": "[encoded data removed]",
      "text/plain": [
       "<Figure size 500x300 with 1 Axes>"
      ]
     },
     "metadata": {},
     "output_type": "display_data"
    }
   ],
   "source": [
    "plt.figure(figsize = (5,3))\n",
    "sns.countplot(data = df2, x = \"bedrooms\")\n",
    "plt.xticks(rotation = 45)\n",
    "plt.show()"
   ]
  },
  {
   "cell_type": "code",
   "execution_count": 88,
   "id": "d60627e6-f8b1-4280-b5b2-3077806bbf00",
   "metadata": {
    "tags": []
   },
   "outputs": [
    {
     "data": {
      "text/plain": [
       "10"
      ]
     },
     "execution_count": 88,
     "metadata": {},
     "output_type": "execute_result"
    }
   ],
   "source": [
    "# Comprobación valores nulos\n",
    "df2['bedrooms'].isnull().sum()"
   ]
  },
  {
   "cell_type": "code",
   "execution_count": 89,
   "id": "08a477dc-bb8c-47d7-91c7-a6e972d843ef",
   "metadata": {
    "tags": []
   },
   "outputs": [
    {
     "data": {
      "text/plain": [
       "count    15179.000000\n",
       "mean         1.809671\n",
       "std          1.243169\n",
       "min          0.000000\n",
       "25%          1.000000\n",
       "50%          1.000000\n",
       "75%          2.000000\n",
       "max         50.000000\n",
       "Name: bedrooms, dtype: float64"
      ]
     },
     "execution_count": 89,
     "metadata": {},
     "output_type": "execute_result"
    }
   ],
   "source": [
    "df2['bedrooms'].describe()"
   ]
  },
  {
   "cell_type": "code",
   "execution_count": 90,
   "id": "0571894b-3128-4195-968e-e134b6fc9dfc",
   "metadata": {
    "tags": []
   },
   "outputs": [
    {
     "data": {
      "text/html": [
       "<div>\n",
       "<style scoped>\n",
       "    .dataframe tbody tr th:only-of-type {\n",
       "        vertical-align: middle;\n",
       "    }\n",
       "\n",
       "    .dataframe tbody tr th {\n",
       "        vertical-align: top;\n",
       "    }\n",
       "\n",
       "    .dataframe thead th {\n",
       "        text-align: right;\n",
       "    }\n",
       "</style>\n",
       "<table border=\"1\" class=\"dataframe\">\n",
       "  <thead>\n",
       "    <tr style=\"text-align: right;\">\n",
       "      <th></th>\n",
       "      <th>price</th>\n",
       "      <th>bedrooms</th>\n",
       "    </tr>\n",
       "  </thead>\n",
       "  <tbody>\n",
       "    <tr>\n",
       "      <th>price</th>\n",
       "      <td>1.00000</td>\n",
       "      <td>0.36035</td>\n",
       "    </tr>\n",
       "    <tr>\n",
       "      <th>bedrooms</th>\n",
       "      <td>0.36035</td>\n",
       "      <td>1.00000</td>\n",
       "    </tr>\n",
       "  </tbody>\n",
       "</table>\n",
       "</div>"
      ],
      "text/plain": [
       "            price  bedrooms\n",
       "price     1.00000   0.36035\n",
       "bedrooms  0.36035   1.00000"
      ]
     },
     "execution_count": 90,
     "metadata": {},
     "output_type": "execute_result"
    }
   ],
   "source": [
    "df2[['price', 'bedrooms']].corr()"
   ]
  },
  {
   "cell_type": "code",
   "execution_count": 91,
   "id": "a997d71c-9392-4894-8f42-96254ae7d8fe",
   "metadata": {
    "tags": []
   },
   "outputs": [],
   "source": [
    "# Convertir los valores mayores a 12 en NaN\n",
    "df2.loc[df2['bedrooms'] > 12, 'bedrooms'] = np.nan"
   ]
  },
  {
   "cell_type": "code",
   "execution_count": 92,
   "id": "d75f1464-313a-4d1a-9583-20383d128ffa",
   "metadata": {
    "tags": []
   },
   "outputs": [
    {
     "data": {
      "text/plain": [
       "1.0"
      ]
     },
     "execution_count": 92,
     "metadata": {},
     "output_type": "execute_result"
    }
   ],
   "source": [
    "# Calcular el promedio de la columna 'bedrooms'\n",
    "mode_value = df2['bedrooms'].mode()[0]\n",
    "mode_value"
   ]
  },
  {
   "cell_type": "code",
   "execution_count": 93,
   "id": "a0307582-cde6-4f83-9c28-e1e448092974",
   "metadata": {
    "tags": []
   },
   "outputs": [],
   "source": [
    "# Sustituir los valores nulos por el promedio\n",
    "df2['bedrooms'] = df2['bedrooms'].fillna(mode_value)"
   ]
  },
  {
   "cell_type": "code",
   "execution_count": 94,
   "id": "e9c33a59-6331-4446-921b-97db37ad4cae",
   "metadata": {
    "tags": []
   },
   "outputs": [
    {
     "data": {
      "text/plain": [
       "0"
      ]
     },
     "execution_count": 94,
     "metadata": {},
     "output_type": "execute_result"
    }
   ],
   "source": [
    "# Comprobación valores nulos \n",
    "df2['bedrooms'].isnull().sum()"
   ]
  },
  {
   "cell_type": "markdown",
   "id": "23ebfff8-d13b-4e84-af84-a9db1b0f0e9a",
   "metadata": {},
   "source": [
    "### 'beds'"
   ]
  },
  {
   "cell_type": "markdown",
   "id": "433c95bc-c915-4464-b43e-da44755b2f00",
   "metadata": {},
   "source": [
    "Esta variable indica el número de camas en el alojamiento. Se ha decidido reemplazar los 102 valores nulos iniciales con  la moda de la columna, dado que la relación entre el número de camas y el precio es débil y no afectará significativamente al modelo, su tipo de dato es correcto."
   ]
  },
  {
   "cell_type": "code",
   "execution_count": 95,
   "id": "7c239539-4fb9-4072-a8cb-979d4f85e3a7",
   "metadata": {
    "tags": []
   },
   "outputs": [
    {
     "data": {
      "image/png": "[encoded data removed]",
      "text/plain": [
       "<Figure size 500x300 with 1 Axes>"
      ]
     },
     "metadata": {},
     "output_type": "display_data"
    }
   ],
   "source": [
    "plt.figure(figsize = (5,3))\n",
    "sns.countplot(data = df2, x = \"beds\")\n",
    "plt.xticks(rotation = 90)\n",
    "plt.show()"
   ]
  },
  {
   "cell_type": "code",
   "execution_count": 96,
   "id": "4f31c891-8629-476f-83b7-bd76cfb477ef",
   "metadata": {
    "tags": []
   },
   "outputs": [
    {
     "data": {
      "text/plain": [
       "102"
      ]
     },
     "execution_count": 96,
     "metadata": {},
     "output_type": "execute_result"
    }
   ],
   "source": [
    "# Comprobación valores nulos \n",
    "df2['beds'].isnull().sum()"
   ]
  },
  {
   "cell_type": "code",
   "execution_count": 97,
   "id": "b47e8653-4543-4f8d-9c72-459b69d40565",
   "metadata": {
    "tags": []
   },
   "outputs": [
    {
     "data": {
      "text/plain": [
       "count    15087.000000\n",
       "mean         2.299596\n",
       "std          2.234019\n",
       "min          0.000000\n",
       "25%          1.000000\n",
       "50%          2.000000\n",
       "75%          3.000000\n",
       "max        127.000000\n",
       "Name: beds, dtype: float64"
      ]
     },
     "execution_count": 97,
     "metadata": {},
     "output_type": "execute_result"
    }
   ],
   "source": [
    "df2['beds'].describe()"
   ]
  },
  {
   "cell_type": "code",
   "execution_count": 98,
   "id": "4cd733d7-1cdf-4192-a3fb-0f77c3e4e8a9",
   "metadata": {
    "tags": []
   },
   "outputs": [
    {
     "data": {
      "text/html": [
       "<div>\n",
       "<style scoped>\n",
       "    .dataframe tbody tr th:only-of-type {\n",
       "        vertical-align: middle;\n",
       "    }\n",
       "\n",
       "    .dataframe tbody tr th {\n",
       "        vertical-align: top;\n",
       "    }\n",
       "\n",
       "    .dataframe thead th {\n",
       "        text-align: right;\n",
       "    }\n",
       "</style>\n",
       "<table border=\"1\" class=\"dataframe\">\n",
       "  <thead>\n",
       "    <tr style=\"text-align: right;\">\n",
       "      <th></th>\n",
       "      <th>price</th>\n",
       "      <th>beds</th>\n",
       "    </tr>\n",
       "  </thead>\n",
       "  <tbody>\n",
       "    <tr>\n",
       "      <th>price</th>\n",
       "      <td>1.000000</td>\n",
       "      <td>0.306516</td>\n",
       "    </tr>\n",
       "    <tr>\n",
       "      <th>beds</th>\n",
       "      <td>0.306516</td>\n",
       "      <td>1.000000</td>\n",
       "    </tr>\n",
       "  </tbody>\n",
       "</table>\n",
       "</div>"
      ],
      "text/plain": [
       "          price      beds\n",
       "price  1.000000  0.306516\n",
       "beds   0.306516  1.000000"
      ]
     },
     "execution_count": 98,
     "metadata": {},
     "output_type": "execute_result"
    }
   ],
   "source": [
    "df2[['price', 'beds']].corr()"
   ]
  },
  {
   "cell_type": "code",
   "execution_count": 99,
   "id": "60c724e6-ec0e-419b-8cd9-4ae18197d1bf",
   "metadata": {
    "tags": []
   },
   "outputs": [],
   "source": [
    "# Convertir los valores mayores a 20 en NaN\n",
    "df2.loc[df2['beds'] > 20, 'beds'] = np.nan"
   ]
  },
  {
   "cell_type": "code",
   "execution_count": 100,
   "id": "ef08edbc-41a9-489f-a63c-7ac5f7f42432",
   "metadata": {
    "tags": []
   },
   "outputs": [],
   "source": [
    "# Calcular el promedio de la columna 'beds'\n",
    "mean_value1 = df2['beds'].mean()"
   ]
  },
  {
   "cell_type": "code",
   "execution_count": 101,
   "id": "0fe0155e-1ca3-4052-afdf-974fee586dea",
   "metadata": {
    "tags": []
   },
   "outputs": [],
   "source": [
    "# Sustituir los valores nulos por el promedio\n",
    "df2['beds'] = df2['beds'].fillna(mean_value1)"
   ]
  },
  {
   "cell_type": "code",
   "execution_count": 102,
   "id": "0e2dcc1b-8281-471e-9fea-7a7973668d5f",
   "metadata": {
    "tags": []
   },
   "outputs": [
    {
     "data": {
      "text/plain": [
       "0"
      ]
     },
     "execution_count": 102,
     "metadata": {},
     "output_type": "execute_result"
    }
   ],
   "source": [
    "# Comprobación valores nulos \n",
    "df2['beds'].isnull().sum()"
   ]
  },
  {
   "cell_type": "markdown",
   "id": "6e9d4219-6e90-4636-8ed5-300793a2c1c5",
   "metadata": {},
   "source": [
    "### 'minimum_nights'"
   ]
  },
  {
   "cell_type": "markdown",
   "id": "781d424c-14b4-4982-93da-139b6bbaf37b",
   "metadata": {},
   "source": [
    "Aunque esta columna originalmente no contiene valores nulos, se han identificado algunos valores atípicos que podrían afectar negativamente el rendimiento del modelo. Por lo tanto, se ha decidido convertir los valores superiores a 400 noches en NaN y luego reemplazarlos con la mediana de la columna para mitigar el impacto de estos valores atípicos."
   ]
  },
  {
   "cell_type": "code",
   "execution_count": 103,
   "id": "fccd9856-c9a0-4a90-8708-96d7324a3d5f",
   "metadata": {
    "tags": []
   },
   "outputs": [
    {
     "data": {
      "image/png": "[encoded data removed]",
      "text/plain": [
       "<Figure size 640x480 with 1 Axes>"
      ]
     },
     "metadata": {},
     "output_type": "display_data"
    }
   ],
   "source": [
    "sns.boxplot(y=df['minimum_nights'], color='lightblue')\n",
    "\n",
    "# Añadir etiquetas y título\n",
    "plt.ylabel('Noches')\n",
    "plt.title('Diagrama de Caja de noches minimas')\n",
    "\n",
    "# Mostrar la gráfica\n",
    "plt.show()"
   ]
  },
  {
   "cell_type": "code",
   "execution_count": 104,
   "id": "ed99c673-7edb-4614-b17d-6a7f0c7ac26f",
   "metadata": {
    "tags": []
   },
   "outputs": [
    {
     "data": {
      "text/plain": [
       "0"
      ]
     },
     "execution_count": 104,
     "metadata": {},
     "output_type": "execute_result"
    }
   ],
   "source": [
    "# Comprobación valores nulos \n",
    "df2['minimum_nights'].isnull().sum()"
   ]
  },
  {
   "cell_type": "code",
   "execution_count": 105,
   "id": "cf3bad1b-f857-47f8-8733-6243aaef3a5e",
   "metadata": {
    "tags": []
   },
   "outputs": [],
   "source": [
    "# Convertir los valores mayores a 400 en NaN\n",
    "df2.loc[df2['minimum_nights'] > 400, 'minimum_nights'] = np.nan"
   ]
  },
  {
   "cell_type": "code",
   "execution_count": 106,
   "id": "93dff710-61d3-40ad-919b-e7ca2481717f",
   "metadata": {
    "tags": []
   },
   "outputs": [],
   "source": [
    "# Calcular la mediana de la columna 'minimum_nights'\n",
    "median_value = df2['minimum_nights'].median()"
   ]
  },
  {
   "cell_type": "code",
   "execution_count": 107,
   "id": "4fe5f152-1713-4e92-8cec-64a5c1d21cce",
   "metadata": {
    "tags": []
   },
   "outputs": [],
   "source": [
    "#Sustituir nulos por la mediana\n",
    "df2['minimum_nights'] = df2['minimum_nights'].fillna(median_value)"
   ]
  },
  {
   "cell_type": "code",
   "execution_count": 108,
   "id": "950bfb6f-735c-4fa7-907c-382f822f50ae",
   "metadata": {
    "tags": []
   },
   "outputs": [
    {
     "data": {
      "text/html": [
       "<div>\n",
       "<style scoped>\n",
       "    .dataframe tbody tr th:only-of-type {\n",
       "        vertical-align: middle;\n",
       "    }\n",
       "\n",
       "    .dataframe tbody tr th {\n",
       "        vertical-align: top;\n",
       "    }\n",
       "\n",
       "    .dataframe thead th {\n",
       "        text-align: right;\n",
       "    }\n",
       "</style>\n",
       "<table border=\"1\" class=\"dataframe\">\n",
       "  <thead>\n",
       "    <tr style=\"text-align: right;\">\n",
       "      <th></th>\n",
       "      <th>price</th>\n",
       "      <th>minimum_nights</th>\n",
       "    </tr>\n",
       "  </thead>\n",
       "  <tbody>\n",
       "    <tr>\n",
       "      <th>price</th>\n",
       "      <td>1.000000</td>\n",
       "      <td>-0.203179</td>\n",
       "    </tr>\n",
       "    <tr>\n",
       "      <th>minimum_nights</th>\n",
       "      <td>-0.203179</td>\n",
       "      <td>1.000000</td>\n",
       "    </tr>\n",
       "  </tbody>\n",
       "</table>\n",
       "</div>"
      ],
      "text/plain": [
       "                   price  minimum_nights\n",
       "price           1.000000       -0.203179\n",
       "minimum_nights -0.203179        1.000000"
      ]
     },
     "execution_count": 108,
     "metadata": {},
     "output_type": "execute_result"
    }
   ],
   "source": [
    "df2[['price', 'minimum_nights']].corr()"
   ]
  },
  {
   "cell_type": "markdown",
   "id": "36d7eac9-d046-4d92-a929-2dc6f8a2f38d",
   "metadata": {},
   "source": [
    "### 'maximum_nights'"
   ]
  },
  {
   "cell_type": "markdown",
   "id": "8709daa8-3a2b-4fad-84db-9b4df676b01c",
   "metadata": {},
   "source": [
    "Aunque la columna maximum_nights originalmente no contiene valores nulos, se han identificado valores atípicos que podrían afectar negativamente el rendimiento del modelo. Por lo tanto, se ha decidido convertir los valores superiores a 400 noches en NaN y luego reemplazarlos con la mediana de la columna para mitigar el impacto de estos valores atípicos. Se ha aplicado el mismo criterio que en la columna anterior."
   ]
  },
  {
   "cell_type": "code",
   "execution_count": 109,
   "id": "825ac010-6692-4918-b247-d0077e340ad7",
   "metadata": {
    "tags": []
   },
   "outputs": [
    {
     "data": {
      "image/png": "[encoded data removed]",
      "text/plain": [
       "<Figure size 640x480 with 1 Axes>"
      ]
     },
     "metadata": {},
     "output_type": "display_data"
    }
   ],
   "source": [
    "sns.boxplot(y=df['maximum_nights'], color='lightblue')\n",
    "\n",
    "# Añadir etiquetas y título\n",
    "plt.ylabel('Noches')\n",
    "plt.title('Diagrama de Caja de noches maximas')\n",
    "\n",
    "# Mostrar la gráfica\n",
    "plt.show()"
   ]
  },
  {
   "cell_type": "code",
   "execution_count": 110,
   "id": "bd9a2da1-f36c-42c3-b145-45b8d516ffc3",
   "metadata": {
    "tags": []
   },
   "outputs": [
    {
     "data": {
      "text/plain": [
       "0"
      ]
     },
     "execution_count": 110,
     "metadata": {},
     "output_type": "execute_result"
    }
   ],
   "source": [
    "# Comprobación valores nulos \n",
    "df2['maximum_nights'].isnull().sum()"
   ]
  },
  {
   "cell_type": "code",
   "execution_count": 111,
   "id": "5374b7d5-fb58-44be-8571-68680cd58e65",
   "metadata": {
    "tags": []
   },
   "outputs": [],
   "source": [
    "# Convertir los valores mayores a 400 en NaN\n",
    "df2.loc[df2['maximum_nights'] > 1500, 'maximum_nights'] = np.nan"
   ]
  },
  {
   "cell_type": "code",
   "execution_count": 112,
   "id": "4cb72e57-c585-4e4d-870e-626107582593",
   "metadata": {
    "tags": []
   },
   "outputs": [
    {
     "data": {
      "text/plain": [
       "365.0"
      ]
     },
     "execution_count": 112,
     "metadata": {},
     "output_type": "execute_result"
    }
   ],
   "source": [
    "# Calcular la mediana de la columna 'maximum_nights'\n",
    "median_value = df2['maximum_nights'].median()\n",
    "median_value"
   ]
  },
  {
   "cell_type": "code",
   "execution_count": 113,
   "id": "6369abd9-c595-4ac7-be9e-43dff52a1d45",
   "metadata": {
    "tags": []
   },
   "outputs": [],
   "source": [
    "# Sustituir nulos por la mediana\n",
    "df2['maximum_nights'] = df2['maximum_nights'].fillna(median_value)"
   ]
  },
  {
   "cell_type": "code",
   "execution_count": 114,
   "id": "086ad9d8-9c4a-480b-9c0e-804c3db4c080",
   "metadata": {
    "tags": []
   },
   "outputs": [
    {
     "data": {
      "text/html": [
       "<div>\n",
       "<style scoped>\n",
       "    .dataframe tbody tr th:only-of-type {\n",
       "        vertical-align: middle;\n",
       "    }\n",
       "\n",
       "    .dataframe tbody tr th {\n",
       "        vertical-align: top;\n",
       "    }\n",
       "\n",
       "    .dataframe thead th {\n",
       "        text-align: right;\n",
       "    }\n",
       "</style>\n",
       "<table border=\"1\" class=\"dataframe\">\n",
       "  <thead>\n",
       "    <tr style=\"text-align: right;\">\n",
       "      <th></th>\n",
       "      <th>price</th>\n",
       "      <th>maximum_nights</th>\n",
       "    </tr>\n",
       "  </thead>\n",
       "  <tbody>\n",
       "    <tr>\n",
       "      <th>price</th>\n",
       "      <td>1.00000</td>\n",
       "      <td>0.06068</td>\n",
       "    </tr>\n",
       "    <tr>\n",
       "      <th>maximum_nights</th>\n",
       "      <td>0.06068</td>\n",
       "      <td>1.00000</td>\n",
       "    </tr>\n",
       "  </tbody>\n",
       "</table>\n",
       "</div>"
      ],
      "text/plain": [
       "                  price  maximum_nights\n",
       "price           1.00000         0.06068\n",
       "maximum_nights  0.06068         1.00000"
      ]
     },
     "execution_count": 114,
     "metadata": {},
     "output_type": "execute_result"
    }
   ],
   "source": [
    "df2[['price', 'maximum_nights']].corr()"
   ]
  },
  {
   "cell_type": "markdown",
   "id": "80b83005-0e94-4efd-a519-65c15d198481",
   "metadata": {},
   "source": [
    "### 'has_availability'"
   ]
  },
  {
   "cell_type": "markdown",
   "id": "bfd4bc6e-2f9b-4f1f-adb7-cc58275777b8",
   "metadata": {},
   "source": [
    "Esta columna indica la disponibilidad del Airbnb y originalmente contenía 89 valores nulos. Estos valores han sido reemplazados por la moda, y la columna se ha convertido a un formato booleano, donde los valores nulos se interpretan como True."
   ]
  },
  {
   "cell_type": "code",
   "execution_count": 115,
   "id": "08b6a0a1-40b1-4cd4-b68f-a4e9b3b6fbbd",
   "metadata": {
    "tags": []
   },
   "outputs": [
    {
     "data": {
      "text/plain": [
       "array(['t', 'f', nan], dtype=object)"
      ]
     },
     "execution_count": 115,
     "metadata": {},
     "output_type": "execute_result"
    }
   ],
   "source": [
    "df2[\"has_availability\"].unique()"
   ]
  },
  {
   "cell_type": "code",
   "execution_count": 116,
   "id": "e91966ab-393d-489d-b0f7-816ed2f545bf",
   "metadata": {
    "tags": []
   },
   "outputs": [
    {
     "data": {
      "text/plain": [
       "89"
      ]
     },
     "execution_count": 116,
     "metadata": {},
     "output_type": "execute_result"
    }
   ],
   "source": [
    "# Comprobación valores nulos \n",
    "df2[\"has_availability\"].isnull().sum()"
   ]
  },
  {
   "cell_type": "code",
   "execution_count": 117,
   "id": "c3fec04b-9ef5-4270-a533-ee42b2bc1ecf",
   "metadata": {
    "tags": []
   },
   "outputs": [
    {
     "data": {
      "text/plain": [
       "count     15100\n",
       "unique        2\n",
       "top           t\n",
       "freq      15079\n",
       "Name: has_availability, dtype: object"
      ]
     },
     "execution_count": 117,
     "metadata": {},
     "output_type": "execute_result"
    }
   ],
   "source": [
    "df2['has_availability'].describe()"
   ]
  },
  {
   "cell_type": "code",
   "execution_count": 118,
   "id": "f2e8c332-6802-4660-9e55-05dabf5aac15",
   "metadata": {
    "tags": []
   },
   "outputs": [
    {
     "name": "stderr",
     "output_type": "stream",
     "text": [
      "/opt/anaconda3/lib/python3.11/site-packages/seaborn/_oldcore.py:1119: FutureWarning: use_inf_as_na option is deprecated and will be removed in a future version. Convert inf values to NaN before operating instead.\n",
      "  with pd.option_context('mode.use_inf_as_na', True):\n"
     ]
    },
    {
     "data": {
      "image/png": "[encoded data removed]",
      "text/plain": [
       "<Figure size 640x480 with 1 Axes>"
      ]
     },
     "metadata": {},
     "output_type": "display_data"
    }
   ],
   "source": [
    "sns.histplot(data = df2, x='has_availability')\n",
    "plt.show()"
   ]
  },
  {
   "cell_type": "code",
   "execution_count": 119,
   "id": "999be119-2b47-46e9-a9b3-1fa8441871e3",
   "metadata": {
    "tags": []
   },
   "outputs": [],
   "source": [
    "# Completar celdas vacias con True (Moda)\n",
    "df2['has_availability'] = df2['has_availability'].map({'t': True, 'f': False}).fillna(True)"
   ]
  },
  {
   "cell_type": "code",
   "execution_count": 120,
   "id": "bd0e29f7-dd31-4f18-a4f4-f37f930fec83",
   "metadata": {
    "tags": []
   },
   "outputs": [],
   "source": [
    "# Convertir columna a tipo booleano\n",
    "df2['has_availability'] = df2['has_availability'].astype(bool)"
   ]
  },
  {
   "cell_type": "code",
   "execution_count": 121,
   "id": "04c29802-e5db-47e9-bf13-fc736dbb0a4d",
   "metadata": {
    "tags": []
   },
   "outputs": [
    {
     "data": {
      "text/plain": [
       "0"
      ]
     },
     "execution_count": 121,
     "metadata": {},
     "output_type": "execute_result"
    }
   ],
   "source": [
    "# Comprobación valores nulos\n",
    "df2[\"has_availability\"].isnull().sum()"
   ]
  },
  {
   "cell_type": "code",
   "execution_count": 122,
   "id": "a94e913d-da84-420b-baf2-f2b4f06f6540",
   "metadata": {
    "tags": []
   },
   "outputs": [
    {
     "data": {
      "text/plain": [
       "array([ True, False])"
      ]
     },
     "execution_count": 122,
     "metadata": {},
     "output_type": "execute_result"
    }
   ],
   "source": [
    "# Comprobación valores únicos\n",
    "df2['has_availability'].unique()"
   ]
  },
  {
   "cell_type": "code",
   "execution_count": 123,
   "id": "2c9289a3-9f76-4271-9743-c34179014985",
   "metadata": {
    "tags": []
   },
   "outputs": [
    {
     "data": {
      "text/html": [
       "<div>\n",
       "<style scoped>\n",
       "    .dataframe tbody tr th:only-of-type {\n",
       "        vertical-align: middle;\n",
       "    }\n",
       "\n",
       "    .dataframe tbody tr th {\n",
       "        vertical-align: top;\n",
       "    }\n",
       "\n",
       "    .dataframe thead th {\n",
       "        text-align: right;\n",
       "    }\n",
       "</style>\n",
       "<table border=\"1\" class=\"dataframe\">\n",
       "  <thead>\n",
       "    <tr style=\"text-align: right;\">\n",
       "      <th></th>\n",
       "      <th>price</th>\n",
       "      <th>has_availability</th>\n",
       "    </tr>\n",
       "  </thead>\n",
       "  <tbody>\n",
       "    <tr>\n",
       "      <th>price</th>\n",
       "      <td>1.000000</td>\n",
       "      <td>0.010551</td>\n",
       "    </tr>\n",
       "    <tr>\n",
       "      <th>has_availability</th>\n",
       "      <td>0.010551</td>\n",
       "      <td>1.000000</td>\n",
       "    </tr>\n",
       "  </tbody>\n",
       "</table>\n",
       "</div>"
      ],
      "text/plain": [
       "                     price  has_availability\n",
       "price             1.000000          0.010551\n",
       "has_availability  0.010551          1.000000"
      ]
     },
     "execution_count": 123,
     "metadata": {},
     "output_type": "execute_result"
    }
   ],
   "source": [
    "df2[['price', 'has_availability']].corr()"
   ]
  },
  {
   "cell_type": "markdown",
   "id": "62d1adaf-bac3-4df3-88d5-e850573fde93",
   "metadata": {},
   "source": [
    "### 'availability_30'"
   ]
  },
  {
   "cell_type": "markdown",
   "id": "76a17078-bdd8-4a30-a900-937f4dc947a6",
   "metadata": {},
   "source": [
    "La variable availability_30 indica el número de días en los próximos 30 días en que el alojamiento está disponible. No presenta valores nulos y su tipo de dato es adecuado para el análisis."
   ]
  },
  {
   "cell_type": "code",
   "execution_count": 124,
   "id": "04c4007f-a867-4625-8ff9-d68692952316",
   "metadata": {
    "tags": []
   },
   "outputs": [
    {
     "data": {
      "text/plain": [
       "count    15189.000000\n",
       "mean         9.009481\n",
       "std          9.287413\n",
       "min          0.000000\n",
       "25%          1.000000\n",
       "50%          6.000000\n",
       "75%         15.000000\n",
       "max         30.000000\n",
       "Name: availability_30, dtype: float64"
      ]
     },
     "execution_count": 124,
     "metadata": {},
     "output_type": "execute_result"
    }
   ],
   "source": [
    "df2['availability_30'].describe()"
   ]
  },
  {
   "cell_type": "code",
   "execution_count": 125,
   "id": "0881a722-e0fd-43a6-a650-742726175392",
   "metadata": {
    "tags": []
   },
   "outputs": [
    {
     "data": {
      "text/plain": [
       "0"
      ]
     },
     "execution_count": 125,
     "metadata": {},
     "output_type": "execute_result"
    }
   ],
   "source": [
    "df2['availability_30'].isnull().sum()"
   ]
  },
  {
   "cell_type": "code",
   "execution_count": 126,
   "id": "f016e3cb-fbf2-4a6c-95c3-1788abe8d8bd",
   "metadata": {
    "tags": []
   },
   "outputs": [
    {
     "data": {
      "text/html": [
       "<div>\n",
       "<style scoped>\n",
       "    .dataframe tbody tr th:only-of-type {\n",
       "        vertical-align: middle;\n",
       "    }\n",
       "\n",
       "    .dataframe tbody tr th {\n",
       "        vertical-align: top;\n",
       "    }\n",
       "\n",
       "    .dataframe thead th {\n",
       "        text-align: right;\n",
       "    }\n",
       "</style>\n",
       "<table border=\"1\" class=\"dataframe\">\n",
       "  <thead>\n",
       "    <tr style=\"text-align: right;\">\n",
       "      <th></th>\n",
       "      <th>price</th>\n",
       "      <th>availability_30</th>\n",
       "    </tr>\n",
       "  </thead>\n",
       "  <tbody>\n",
       "    <tr>\n",
       "      <th>price</th>\n",
       "      <td>1.000000</td>\n",
       "      <td>0.099842</td>\n",
       "    </tr>\n",
       "    <tr>\n",
       "      <th>availability_30</th>\n",
       "      <td>0.099842</td>\n",
       "      <td>1.000000</td>\n",
       "    </tr>\n",
       "  </tbody>\n",
       "</table>\n",
       "</div>"
      ],
      "text/plain": [
       "                    price  availability_30\n",
       "price            1.000000         0.099842\n",
       "availability_30  0.099842         1.000000"
      ]
     },
     "execution_count": 126,
     "metadata": {},
     "output_type": "execute_result"
    }
   ],
   "source": [
    "df2[['price', 'availability_30']].corr()"
   ]
  },
  {
   "cell_type": "markdown",
   "id": "fdc77e76-4138-4c51-bba5-35ea9c9361d2",
   "metadata": {},
   "source": [
    "### 'availability_60'"
   ]
  },
  {
   "cell_type": "markdown",
   "id": "6090a958-952f-45ad-b3df-f27f343e47f0",
   "metadata": {},
   "source": [
    "La variable availability_60 indica el número de días en los próximos 60 días en que el alojamiento está disponible. No presenta valores nulos y su tipo de dato es adecuado para el análisis."
   ]
  },
  {
   "cell_type": "code",
   "execution_count": 127,
   "id": "29b8f3d3-dd04-4663-b354-b9d45d084540",
   "metadata": {
    "tags": []
   },
   "outputs": [
    {
     "data": {
      "text/plain": [
       "count    15189.000000\n",
       "mean        23.666930\n",
       "std         19.204731\n",
       "min          0.000000\n",
       "25%          7.000000\n",
       "50%         19.000000\n",
       "75%         40.000000\n",
       "max         60.000000\n",
       "Name: availability_60, dtype: float64"
      ]
     },
     "execution_count": 127,
     "metadata": {},
     "output_type": "execute_result"
    }
   ],
   "source": [
    "df2['availability_60'].describe()"
   ]
  },
  {
   "cell_type": "code",
   "execution_count": 128,
   "id": "69a7d1dc-572d-4bec-9595-37d6f0b3dab9",
   "metadata": {
    "tags": []
   },
   "outputs": [
    {
     "data": {
      "text/plain": [
       "0"
      ]
     },
     "execution_count": 128,
     "metadata": {},
     "output_type": "execute_result"
    }
   ],
   "source": [
    "df2['availability_60'].isnull().sum()"
   ]
  },
  {
   "cell_type": "code",
   "execution_count": 129,
   "id": "acb0abf7-492c-4d3a-9c78-52cb59d9a367",
   "metadata": {
    "tags": []
   },
   "outputs": [
    {
     "data": {
      "text/html": [
       "<div>\n",
       "<style scoped>\n",
       "    .dataframe tbody tr th:only-of-type {\n",
       "        vertical-align: middle;\n",
       "    }\n",
       "\n",
       "    .dataframe tbody tr th {\n",
       "        vertical-align: top;\n",
       "    }\n",
       "\n",
       "    .dataframe thead th {\n",
       "        text-align: right;\n",
       "    }\n",
       "</style>\n",
       "<table border=\"1\" class=\"dataframe\">\n",
       "  <thead>\n",
       "    <tr style=\"text-align: right;\">\n",
       "      <th></th>\n",
       "      <th>price</th>\n",
       "      <th>availability_60</th>\n",
       "    </tr>\n",
       "  </thead>\n",
       "  <tbody>\n",
       "    <tr>\n",
       "      <th>price</th>\n",
       "      <td>1.000000</td>\n",
       "      <td>0.085193</td>\n",
       "    </tr>\n",
       "    <tr>\n",
       "      <th>availability_60</th>\n",
       "      <td>0.085193</td>\n",
       "      <td>1.000000</td>\n",
       "    </tr>\n",
       "  </tbody>\n",
       "</table>\n",
       "</div>"
      ],
      "text/plain": [
       "                    price  availability_60\n",
       "price            1.000000         0.085193\n",
       "availability_60  0.085193         1.000000"
      ]
     },
     "execution_count": 129,
     "metadata": {},
     "output_type": "execute_result"
    }
   ],
   "source": [
    "df2[['price', 'availability_60']].corr()"
   ]
  },
  {
   "cell_type": "markdown",
   "id": "51c6a9ba-1535-4c4b-9fa0-c9fba133a6a8",
   "metadata": {},
   "source": [
    "### 'last_review'"
   ]
  },
  {
   "cell_type": "markdown",
   "id": "7a3b9e93-4055-47d3-968b-71e3fdbebd7d",
   "metadata": {},
   "source": [
    "La variable 'last_review' tenía originalmente 3,317 valores nulos, los cuales se han reemplazado con el promedio de días transcurridos desde la última review del alojamiento hasta una fecha específica, en este caso, la fecha de descarga del dataset. El tipo de dato es adecuado para el modelo."
   ]
  },
  {
   "cell_type": "code",
   "execution_count": 130,
   "id": "9aaf5236-2838-473f-9d72-6dd2c252b072",
   "metadata": {
    "tags": []
   },
   "outputs": [
    {
     "data": {
      "text/plain": [
       "count          11872\n",
       "unique          1023\n",
       "top       2024-06-09\n",
       "freq             393\n",
       "Name: last_review, dtype: object"
      ]
     },
     "execution_count": 130,
     "metadata": {},
     "output_type": "execute_result"
    }
   ],
   "source": [
    "df2[\"last_review\"].describe()"
   ]
  },
  {
   "cell_type": "code",
   "execution_count": 131,
   "id": "ab32914c-c67d-4d1f-8445-bb85ec4992f0",
   "metadata": {
    "tags": []
   },
   "outputs": [
    {
     "data": {
      "text/plain": [
       "3317"
      ]
     },
     "execution_count": 131,
     "metadata": {},
     "output_type": "execute_result"
    }
   ],
   "source": [
    "# Comprobación nulos \n",
    "df2[\"last_review\"].isnull().sum()"
   ]
  },
  {
   "cell_type": "code",
   "execution_count": 132,
   "id": "8d5e7210-2ae4-4680-91af-ee17481d0fee",
   "metadata": {
    "tags": []
   },
   "outputs": [],
   "source": [
    "# Convertir la columna last_review a formato datetime\n",
    "df2['last_review'] = pd.to_datetime(df2['last_review'])"
   ]
  },
  {
   "cell_type": "code",
   "execution_count": 133,
   "id": "bb7cfa69-d5a4-491f-889c-beccbea9e279",
   "metadata": {
    "tags": []
   },
   "outputs": [],
   "source": [
    "# Crear un objeto Timestamp específico (fecha de descarga del DataSet)\n",
    "fecha_especifica = pd.Timestamp('2024-08-05')"
   ]
  },
  {
   "cell_type": "code",
   "execution_count": 134,
   "id": "13a8253c-ee09-46ee-a5df-615a06dae234",
   "metadata": {
    "tags": []
   },
   "outputs": [],
   "source": [
    "# Calcular la diferencia en días entre fecha_especifica y last_review\n",
    "df2['last_review'] = (fecha_especifica - df2['last_review']).dt.days"
   ]
  },
  {
   "cell_type": "code",
   "execution_count": 135,
   "id": "9d895a18-27f8-4e7c-a705-6ef62cf0420c",
   "metadata": {
    "tags": []
   },
   "outputs": [
    {
     "data": {
      "text/plain": [
       "count    11872.000000\n",
       "mean       193.116240\n",
       "std        344.626397\n",
       "min         52.000000\n",
       "25%         63.000000\n",
       "50%         75.000000\n",
       "75%        156.000000\n",
       "max       4792.000000\n",
       "Name: last_review, dtype: float64"
      ]
     },
     "execution_count": 135,
     "metadata": {},
     "output_type": "execute_result"
    }
   ],
   "source": [
    "df2['last_review'].describe()"
   ]
  },
  {
   "cell_type": "code",
   "execution_count": 136,
   "id": "715738cb-b1c4-42b0-94c5-e523e5ab69a8",
   "metadata": {
    "tags": []
   },
   "outputs": [],
   "source": [
    "# Calcular el promedio de los días en la columna 'last_review' del DataFrame df2\n",
    "promedio_dias = df2['last_review'].mean()"
   ]
  },
  {
   "cell_type": "code",
   "execution_count": 137,
   "id": "c190fbbe-0c14-460b-8bf7-6aa28f9252c7",
   "metadata": {
    "tags": []
   },
   "outputs": [],
   "source": [
    "# Reemplazar valores NaN en 'last_review' con el promedio calculado\n",
    "df2['last_review'] = df2['last_review'].fillna(promedio_dias)"
   ]
  },
  {
   "cell_type": "code",
   "execution_count": 138,
   "id": "2e9da444-ff63-46d6-8653-403da684ce74",
   "metadata": {
    "tags": []
   },
   "outputs": [
    {
     "data": {
      "text/plain": [
       "0"
      ]
     },
     "execution_count": 138,
     "metadata": {},
     "output_type": "execute_result"
    }
   ],
   "source": [
    "# Comprobación valores nulos \n",
    "df2[\"last_review\"].isnull().sum()"
   ]
  },
  {
   "cell_type": "code",
   "execution_count": 139,
   "id": "3d0eed79-7006-4993-805a-cdc1b700a4ef",
   "metadata": {
    "tags": []
   },
   "outputs": [
    {
     "data": {
      "text/html": [
       "<div>\n",
       "<style scoped>\n",
       "    .dataframe tbody tr th:only-of-type {\n",
       "        vertical-align: middle;\n",
       "    }\n",
       "\n",
       "    .dataframe tbody tr th {\n",
       "        vertical-align: top;\n",
       "    }\n",
       "\n",
       "    .dataframe thead th {\n",
       "        text-align: right;\n",
       "    }\n",
       "</style>\n",
       "<table border=\"1\" class=\"dataframe\">\n",
       "  <thead>\n",
       "    <tr style=\"text-align: right;\">\n",
       "      <th></th>\n",
       "      <th>price</th>\n",
       "      <th>last_review</th>\n",
       "    </tr>\n",
       "  </thead>\n",
       "  <tbody>\n",
       "    <tr>\n",
       "      <th>price</th>\n",
       "      <td>1.00000</td>\n",
       "      <td>-0.01265</td>\n",
       "    </tr>\n",
       "    <tr>\n",
       "      <th>last_review</th>\n",
       "      <td>-0.01265</td>\n",
       "      <td>1.00000</td>\n",
       "    </tr>\n",
       "  </tbody>\n",
       "</table>\n",
       "</div>"
      ],
      "text/plain": [
       "               price  last_review\n",
       "price        1.00000     -0.01265\n",
       "last_review -0.01265      1.00000"
      ]
     },
     "execution_count": 139,
     "metadata": {},
     "output_type": "execute_result"
    }
   ],
   "source": [
    "df2[['price', 'last_review']].corr()"
   ]
  },
  {
   "cell_type": "markdown",
   "id": "1749bc63-7ded-4685-bb38-1d935e7a9380",
   "metadata": {},
   "source": [
    "### 'review_scores_rating'"
   ]
  },
  {
   "cell_type": "markdown",
   "id": "bc412a47-cf8c-4514-839a-3e86656e0ac4",
   "metadata": {},
   "source": [
    "La variable review_scores_rating contenía originalmente 3,317 valores nulos. Se ha identificado que el promedio de las valoraciones es de 4.59, donde se concentra la mayoría de los ratings. Por lo tanto, se ha decidido reemplazar los valores nulos con este promedio. El tipo de dato es adecuado para el modelo. (Valoracion general del alojamiento)"
   ]
  },
  {
   "cell_type": "code",
   "execution_count": 140,
   "id": "8b72b134-f3c2-41b3-ae42-922714fac43e",
   "metadata": {
    "tags": []
   },
   "outputs": [
    {
     "data": {
      "text/plain": [
       "3317"
      ]
     },
     "execution_count": 140,
     "metadata": {},
     "output_type": "execute_result"
    }
   ],
   "source": [
    "df2['review_scores_rating'].isnull().sum()"
   ]
  },
  {
   "cell_type": "code",
   "execution_count": 141,
   "id": "a0c2998d-5bd1-4f98-a436-f1085f20c044",
   "metadata": {
    "tags": []
   },
   "outputs": [
    {
     "data": {
      "text/plain": [
       "count    11872.000000\n",
       "mean         4.591732\n",
       "std          0.480347\n",
       "min          1.000000\n",
       "25%          4.460000\n",
       "50%          4.700000\n",
       "75%          4.890000\n",
       "max          5.000000\n",
       "Name: review_scores_rating, dtype: float64"
      ]
     },
     "execution_count": 141,
     "metadata": {},
     "output_type": "execute_result"
    }
   ],
   "source": [
    "df2['review_scores_rating'].describe()"
   ]
  },
  {
   "cell_type": "code",
   "execution_count": 142,
   "id": "1ca8001f-e363-4744-ab1b-edc980dedcd4",
   "metadata": {
    "tags": []
   },
   "outputs": [
    {
     "name": "stderr",
     "output_type": "stream",
     "text": [
      "/opt/anaconda3/lib/python3.11/site-packages/seaborn/_oldcore.py:1119: FutureWarning: use_inf_as_na option is deprecated and will be removed in a future version. Convert inf values to NaN before operating instead.\n",
      "  with pd.option_context('mode.use_inf_as_na', True):\n"
     ]
    },
    {
     "data": {
      "image/png": "[encoded data removed]",
      "text/plain": [
       "<Figure size 640x480 with 1 Axes>"
      ]
     },
     "metadata": {},
     "output_type": "display_data"
    }
   ],
   "source": [
    "sns.histplot(data = df2, x='review_scores_rating')\n",
    "plt.show()"
   ]
  },
  {
   "cell_type": "code",
   "execution_count": 143,
   "id": "9ba52612-34d3-46e9-981d-89c632ea1e6c",
   "metadata": {
    "tags": []
   },
   "outputs": [],
   "source": [
    "# Reemplazar valores faltantes por media\n",
    "df2['review_scores_rating'] = df2['review_scores_rating'].fillna(df2['review_scores_rating'].mean())"
   ]
  },
  {
   "cell_type": "code",
   "execution_count": 144,
   "id": "17c18ef0-ae0c-4d5c-8362-1652ab601c6d",
   "metadata": {
    "tags": []
   },
   "outputs": [
    {
     "data": {
      "text/plain": [
       "0"
      ]
     },
     "execution_count": 144,
     "metadata": {},
     "output_type": "execute_result"
    }
   ],
   "source": [
    "# Comprobación valores nulos \n",
    "df2[\"review_scores_rating\"].isnull().sum()"
   ]
  },
  {
   "cell_type": "code",
   "execution_count": 145,
   "id": "c05b190b-82a9-4b53-9689-8d239aa06554",
   "metadata": {
    "tags": []
   },
   "outputs": [
    {
     "data": {
      "text/html": [
       "<div>\n",
       "<style scoped>\n",
       "    .dataframe tbody tr th:only-of-type {\n",
       "        vertical-align: middle;\n",
       "    }\n",
       "\n",
       "    .dataframe tbody tr th {\n",
       "        vertical-align: top;\n",
       "    }\n",
       "\n",
       "    .dataframe thead th {\n",
       "        text-align: right;\n",
       "    }\n",
       "</style>\n",
       "<table border=\"1\" class=\"dataframe\">\n",
       "  <thead>\n",
       "    <tr style=\"text-align: right;\">\n",
       "      <th></th>\n",
       "      <th>price</th>\n",
       "      <th>review_scores_rating</th>\n",
       "    </tr>\n",
       "  </thead>\n",
       "  <tbody>\n",
       "    <tr>\n",
       "      <th>price</th>\n",
       "      <td>1.000000</td>\n",
       "      <td>0.018213</td>\n",
       "    </tr>\n",
       "    <tr>\n",
       "      <th>review_scores_rating</th>\n",
       "      <td>0.018213</td>\n",
       "      <td>1.000000</td>\n",
       "    </tr>\n",
       "  </tbody>\n",
       "</table>\n",
       "</div>"
      ],
      "text/plain": [
       "                         price  review_scores_rating\n",
       "price                 1.000000              0.018213\n",
       "review_scores_rating  0.018213              1.000000"
      ]
     },
     "execution_count": 145,
     "metadata": {},
     "output_type": "execute_result"
    }
   ],
   "source": [
    "df2[['price', 'review_scores_rating']].corr()"
   ]
  },
  {
   "cell_type": "markdown",
   "id": "7fbaeacb-086a-4ab2-ad07-f8970d33d1e4",
   "metadata": {},
   "source": [
    "### 'review_scores_cleanliness'"
   ]
  },
  {
   "cell_type": "markdown",
   "id": "59d0e549-9ccc-41f0-9c5f-2c1f3c1b8920",
   "metadata": {},
   "source": [
    "La variable review_scores_cleanliness contenía originalmente 3,335 valores nulos. El promedio de las valoraciones es de 4.62, que refleja la mayoría de los ratings. Por lo tanto, se ha decidido reemplazar los valores nulos con este promedio. El tipo de dato es adecuado para el modelo. (Valoracion de la limpieza del alojamiento)"
   ]
  },
  {
   "cell_type": "code",
   "execution_count": 146,
   "id": "d3e33911-6878-494c-8fe3-cafc0eefec80",
   "metadata": {
    "tags": []
   },
   "outputs": [
    {
     "data": {
      "text/plain": [
       "3335"
      ]
     },
     "execution_count": 146,
     "metadata": {},
     "output_type": "execute_result"
    }
   ],
   "source": [
    "df2[\"review_scores_cleanliness\"].isnull().sum()"
   ]
  },
  {
   "cell_type": "code",
   "execution_count": 147,
   "id": "d297e4ae-6c33-4ba9-bff2-bc253eb7ca26",
   "metadata": {
    "tags": []
   },
   "outputs": [
    {
     "data": {
      "text/plain": [
       "count    11854.000000\n",
       "mean         4.618333\n",
       "std          0.461061\n",
       "min          1.000000\n",
       "25%          4.500000\n",
       "50%          4.740000\n",
       "75%          4.910000\n",
       "max          5.000000\n",
       "Name: review_scores_cleanliness, dtype: float64"
      ]
     },
     "execution_count": 147,
     "metadata": {},
     "output_type": "execute_result"
    }
   ],
   "source": [
    "df2[\"review_scores_cleanliness\"].describe()"
   ]
  },
  {
   "cell_type": "code",
   "execution_count": 148,
   "id": "79ba11ca-e904-45ef-9fc1-c4652642dc22",
   "metadata": {
    "tags": []
   },
   "outputs": [
    {
     "name": "stderr",
     "output_type": "stream",
     "text": [
      "/opt/anaconda3/lib/python3.11/site-packages/seaborn/_oldcore.py:1119: FutureWarning: use_inf_as_na option is deprecated and will be removed in a future version. Convert inf values to NaN before operating instead.\n",
      "  with pd.option_context('mode.use_inf_as_na', True):\n"
     ]
    },
    {
     "data": {
      "image/png": "[encoded data removed]",
      "text/plain": [
       "<Figure size 640x480 with 1 Axes>"
      ]
     },
     "metadata": {},
     "output_type": "display_data"
    }
   ],
   "source": [
    "sns.histplot(data = df2, x='review_scores_cleanliness')\n",
    "plt.show()"
   ]
  },
  {
   "cell_type": "code",
   "execution_count": 149,
   "id": "bc9a337c-21a8-4f20-adf9-a25553fbf5cd",
   "metadata": {
    "tags": []
   },
   "outputs": [],
   "source": [
    "# Reemplazar valores faltantes por media\n",
    "df2['review_scores_cleanliness'] = df2['review_scores_cleanliness'].fillna(df2['review_scores_cleanliness'].mean())"
   ]
  },
  {
   "cell_type": "code",
   "execution_count": 150,
   "id": "cfd22d55-e7fe-4fe9-8754-3203cce7a941",
   "metadata": {
    "tags": []
   },
   "outputs": [
    {
     "data": {
      "text/plain": [
       "0"
      ]
     },
     "execution_count": 150,
     "metadata": {},
     "output_type": "execute_result"
    }
   ],
   "source": [
    "# Comprobación valores nulos \n",
    "df2[\"review_scores_cleanliness\"].isnull().sum()"
   ]
  },
  {
   "cell_type": "code",
   "execution_count": 151,
   "id": "722bddeb-b0c0-4d2b-bf27-6317c240f02d",
   "metadata": {
    "tags": []
   },
   "outputs": [
    {
     "data": {
      "text/html": [
       "<div>\n",
       "<style scoped>\n",
       "    .dataframe tbody tr th:only-of-type {\n",
       "        vertical-align: middle;\n",
       "    }\n",
       "\n",
       "    .dataframe tbody tr th {\n",
       "        vertical-align: top;\n",
       "    }\n",
       "\n",
       "    .dataframe thead th {\n",
       "        text-align: right;\n",
       "    }\n",
       "</style>\n",
       "<table border=\"1\" class=\"dataframe\">\n",
       "  <thead>\n",
       "    <tr style=\"text-align: right;\">\n",
       "      <th></th>\n",
       "      <th>price</th>\n",
       "      <th>review_scores_cleanliness</th>\n",
       "    </tr>\n",
       "  </thead>\n",
       "  <tbody>\n",
       "    <tr>\n",
       "      <th>price</th>\n",
       "      <td>1.00000</td>\n",
       "      <td>0.04443</td>\n",
       "    </tr>\n",
       "    <tr>\n",
       "      <th>review_scores_cleanliness</th>\n",
       "      <td>0.04443</td>\n",
       "      <td>1.00000</td>\n",
       "    </tr>\n",
       "  </tbody>\n",
       "</table>\n",
       "</div>"
      ],
      "text/plain": [
       "                             price  review_scores_cleanliness\n",
       "price                      1.00000                    0.04443\n",
       "review_scores_cleanliness  0.04443                    1.00000"
      ]
     },
     "execution_count": 151,
     "metadata": {},
     "output_type": "execute_result"
    }
   ],
   "source": [
    "df2[['price', 'review_scores_cleanliness']].corr()"
   ]
  },
  {
   "cell_type": "markdown",
   "id": "6257b72b-05db-4d17-9c61-29ff5238dc16",
   "metadata": {},
   "source": [
    "### 'review_scores_checkin'"
   ]
  },
  {
   "cell_type": "markdown",
   "id": "f440c658-283b-498f-908c-742e73edcd03",
   "metadata": {},
   "source": [
    "La variable review_scores_checkin contenía originalmente 3,335 valores nulos. El promedio de las valoraciones es de 4.72, que representa la tendencia principal de los ratings. Por lo tanto, se ha decidido reemplazar los valores nulos con este promedio. El tipo de dato es adecuado para el modelo.(Valoracion del checkin del alojamiento)"
   ]
  },
  {
   "cell_type": "code",
   "execution_count": 152,
   "id": "1fa126c0-50ef-4430-8474-3a9971188fa1",
   "metadata": {
    "tags": []
   },
   "outputs": [
    {
     "data": {
      "text/plain": [
       "3335"
      ]
     },
     "execution_count": 152,
     "metadata": {},
     "output_type": "execute_result"
    }
   ],
   "source": [
    "df2.review_scores_checkin.isnull().sum()"
   ]
  },
  {
   "cell_type": "code",
   "execution_count": 153,
   "id": "c119e274-e29f-42e6-8274-f1eba7648c95",
   "metadata": {
    "tags": []
   },
   "outputs": [
    {
     "data": {
      "text/plain": [
       "count    11854.000000\n",
       "mean         4.719024\n",
       "std          0.431020\n",
       "min          1.000000\n",
       "25%          4.660000\n",
       "50%          4.840000\n",
       "75%          4.990000\n",
       "max          5.000000\n",
       "Name: review_scores_checkin, dtype: float64"
      ]
     },
     "execution_count": 153,
     "metadata": {},
     "output_type": "execute_result"
    }
   ],
   "source": [
    "df2.review_scores_checkin.describe()"
   ]
  },
  {
   "cell_type": "code",
   "execution_count": 154,
   "id": "77ace98e-4a81-49f1-9a70-77b55dc827aa",
   "metadata": {
    "tags": []
   },
   "outputs": [
    {
     "name": "stderr",
     "output_type": "stream",
     "text": [
      "/opt/anaconda3/lib/python3.11/site-packages/seaborn/_oldcore.py:1119: FutureWarning: use_inf_as_na option is deprecated and will be removed in a future version. Convert inf values to NaN before operating instead.\n",
      "  with pd.option_context('mode.use_inf_as_na', True):\n"
     ]
    },
    {
     "data": {
      "image/png": "[encoded data removed]",
      "text/plain": [
       "<Figure size 640x480 with 1 Axes>"
      ]
     },
     "metadata": {},
     "output_type": "display_data"
    }
   ],
   "source": [
    "sns.histplot(data = df2, x='review_scores_checkin')\n",
    "plt.show()"
   ]
  },
  {
   "cell_type": "code",
   "execution_count": 155,
   "id": "0de23864-2db8-4350-ae75-3f8f61b42821",
   "metadata": {
    "tags": []
   },
   "outputs": [],
   "source": [
    "# Completar valor nulos con la media\n",
    "media_checkin =  round(df2['review_scores_checkin'].mean(), 6)\n",
    "\n",
    "df2['review_scores_checkin'] = df2['review_scores_checkin'].fillna(media_checkin)"
   ]
  },
  {
   "cell_type": "code",
   "execution_count": 156,
   "id": "affbfe90-5e0b-4f65-a82e-2a76db9f9279",
   "metadata": {
    "tags": []
   },
   "outputs": [
    {
     "data": {
      "text/plain": [
       "0"
      ]
     },
     "execution_count": 156,
     "metadata": {},
     "output_type": "execute_result"
    }
   ],
   "source": [
    "# Comprobación valores nulos\n",
    "df2.review_scores_checkin.isnull().sum()"
   ]
  },
  {
   "cell_type": "code",
   "execution_count": 157,
   "id": "1c5a680f-3e9f-4ff5-945d-3bb72d962fbf",
   "metadata": {
    "tags": []
   },
   "outputs": [
    {
     "data": {
      "text/html": [
       "<div>\n",
       "<style scoped>\n",
       "    .dataframe tbody tr th:only-of-type {\n",
       "        vertical-align: middle;\n",
       "    }\n",
       "\n",
       "    .dataframe tbody tr th {\n",
       "        vertical-align: top;\n",
       "    }\n",
       "\n",
       "    .dataframe thead th {\n",
       "        text-align: right;\n",
       "    }\n",
       "</style>\n",
       "<table border=\"1\" class=\"dataframe\">\n",
       "  <thead>\n",
       "    <tr style=\"text-align: right;\">\n",
       "      <th></th>\n",
       "      <th>price</th>\n",
       "      <th>review_scores_cleanliness</th>\n",
       "    </tr>\n",
       "  </thead>\n",
       "  <tbody>\n",
       "    <tr>\n",
       "      <th>price</th>\n",
       "      <td>1.00000</td>\n",
       "      <td>0.04443</td>\n",
       "    </tr>\n",
       "    <tr>\n",
       "      <th>review_scores_cleanliness</th>\n",
       "      <td>0.04443</td>\n",
       "      <td>1.00000</td>\n",
       "    </tr>\n",
       "  </tbody>\n",
       "</table>\n",
       "</div>"
      ],
      "text/plain": [
       "                             price  review_scores_cleanliness\n",
       "price                      1.00000                    0.04443\n",
       "review_scores_cleanliness  0.04443                    1.00000"
      ]
     },
     "execution_count": 157,
     "metadata": {},
     "output_type": "execute_result"
    }
   ],
   "source": [
    "df2[['price', 'review_scores_cleanliness']].corr()"
   ]
  },
  {
   "cell_type": "markdown",
   "id": "7ac82c12-c0e7-4c62-b385-363a6743070e",
   "metadata": {},
   "source": [
    "### 'review_scores_communication'"
   ]
  },
  {
   "cell_type": "markdown",
   "id": "1df6fc8a-3bd2-401b-a978-6a5da399951e",
   "metadata": {},
   "source": [
    "La variable review_scores_communication contenía originalmente 3,334 valores nulos. Dado que el promedio de las valoraciones es de 4.72, que refleja la tendencia general de los ratings, se ha decidido reemplazar los valores nulos con este promedio. El tipo de dato es adecuado para el modelo.(Valoracion de la comunicacion del alojamiento)"
   ]
  },
  {
   "cell_type": "code",
   "execution_count": 158,
   "id": "daf34df5-2e50-4ef9-b698-a3c068e04fd2",
   "metadata": {
    "tags": []
   },
   "outputs": [
    {
     "data": {
      "text/plain": [
       "3334"
      ]
     },
     "execution_count": 158,
     "metadata": {},
     "output_type": "execute_result"
    }
   ],
   "source": [
    "df2.review_scores_communication.isnull().sum()"
   ]
  },
  {
   "cell_type": "code",
   "execution_count": 159,
   "id": "69f5b185-58cc-4135-a831-14aeba77e0fd",
   "metadata": {
    "tags": []
   },
   "outputs": [
    {
     "data": {
      "text/plain": [
       "count    11855.000000\n",
       "mean         4.722860\n",
       "std          0.438973\n",
       "min          1.000000\n",
       "25%          4.660000\n",
       "50%          4.850000\n",
       "75%          4.990000\n",
       "max          5.000000\n",
       "Name: review_scores_communication, dtype: float64"
      ]
     },
     "execution_count": 159,
     "metadata": {},
     "output_type": "execute_result"
    }
   ],
   "source": [
    "df2.review_scores_communication.describe()"
   ]
  },
  {
   "cell_type": "code",
   "execution_count": 160,
   "id": "bf6ab2db-2baf-484e-9cf5-6e7b9208a87b",
   "metadata": {
    "tags": []
   },
   "outputs": [
    {
     "name": "stderr",
     "output_type": "stream",
     "text": [
      "/opt/anaconda3/lib/python3.11/site-packages/seaborn/_oldcore.py:1119: FutureWarning: use_inf_as_na option is deprecated and will be removed in a future version. Convert inf values to NaN before operating instead.\n",
      "  with pd.option_context('mode.use_inf_as_na', True):\n"
     ]
    },
    {
     "data": {
      "image/png": "[encoded data removed]",
      "text/plain": [
       "<Figure size 640x480 with 1 Axes>"
      ]
     },
     "metadata": {},
     "output_type": "display_data"
    }
   ],
   "source": [
    "sns.histplot(data = df2, x='review_scores_communication')\n",
    "plt.show()"
   ]
  },
  {
   "cell_type": "code",
   "execution_count": 161,
   "id": "b7565996-3bbd-40f8-92fa-199a61dcd391",
   "metadata": {
    "tags": []
   },
   "outputs": [],
   "source": [
    "# Completar valor nulos con la media\n",
    "media_communication = df2['review_scores_communication'].mean()\n",
    "\n",
    "df2['review_scores_communication'] = df2['review_scores_communication'].fillna(media_communication)"
   ]
  },
  {
   "cell_type": "code",
   "execution_count": 162,
   "id": "d5b30753-cfb6-469f-9d23-966ee390c804",
   "metadata": {
    "tags": []
   },
   "outputs": [
    {
     "data": {
      "text/plain": [
       "0"
      ]
     },
     "execution_count": 162,
     "metadata": {},
     "output_type": "execute_result"
    }
   ],
   "source": [
    "# Comprobación valores nulos\n",
    "df2.review_scores_communication.isnull().sum()"
   ]
  },
  {
   "cell_type": "code",
   "execution_count": 163,
   "id": "1c9471c2-9814-43de-810c-a0b6ce053140",
   "metadata": {
    "tags": []
   },
   "outputs": [
    {
     "data": {
      "text/html": [
       "<div>\n",
       "<style scoped>\n",
       "    .dataframe tbody tr th:only-of-type {\n",
       "        vertical-align: middle;\n",
       "    }\n",
       "\n",
       "    .dataframe tbody tr th {\n",
       "        vertical-align: top;\n",
       "    }\n",
       "\n",
       "    .dataframe thead th {\n",
       "        text-align: right;\n",
       "    }\n",
       "</style>\n",
       "<table border=\"1\" class=\"dataframe\">\n",
       "  <thead>\n",
       "    <tr style=\"text-align: right;\">\n",
       "      <th></th>\n",
       "      <th>price</th>\n",
       "      <th>review_scores_communication</th>\n",
       "    </tr>\n",
       "  </thead>\n",
       "  <tbody>\n",
       "    <tr>\n",
       "      <th>price</th>\n",
       "      <td>1.000000</td>\n",
       "      <td>0.018429</td>\n",
       "    </tr>\n",
       "    <tr>\n",
       "      <th>review_scores_communication</th>\n",
       "      <td>0.018429</td>\n",
       "      <td>1.000000</td>\n",
       "    </tr>\n",
       "  </tbody>\n",
       "</table>\n",
       "</div>"
      ],
      "text/plain": [
       "                                price  review_scores_communication\n",
       "price                        1.000000                     0.018429\n",
       "review_scores_communication  0.018429                     1.000000"
      ]
     },
     "execution_count": 163,
     "metadata": {},
     "output_type": "execute_result"
    }
   ],
   "source": [
    "df2[['price', 'review_scores_communication']].corr()"
   ]
  },
  {
   "cell_type": "markdown",
   "id": "70cf11e2-25d8-4220-a528-b8fd5974ed8d",
   "metadata": {},
   "source": [
    "### 'review_scores_location'"
   ]
  },
  {
   "cell_type": "markdown",
   "id": "384d8a29-238d-460d-b6f4-698b84ea0468",
   "metadata": {},
   "source": [
    "La variable review_scores_location contenía originalmente 3,335 valores nulos. Con un promedio de valoraciones de 4.75, que refleja la tendencia predominante de los ratings, se ha optado por reemplazar los valores nulos con este promedio. El tipo de dato es adecuado para el modelo. (Valoracion de la ubicacion del alojamiento)"
   ]
  },
  {
   "cell_type": "code",
   "execution_count": 164,
   "id": "b604df77-0f4b-4b6e-8e64-d96bf6f11272",
   "metadata": {
    "tags": []
   },
   "outputs": [
    {
     "data": {
      "text/plain": [
       "3335"
      ]
     },
     "execution_count": 164,
     "metadata": {},
     "output_type": "execute_result"
    }
   ],
   "source": [
    "df2.review_scores_location.isnull().sum()"
   ]
  },
  {
   "cell_type": "code",
   "execution_count": 165,
   "id": "ceaf39fa-d1c6-4dbb-b4f6-3d4551307313",
   "metadata": {
    "tags": []
   },
   "outputs": [
    {
     "data": {
      "text/plain": [
       "count    11854.000000\n",
       "mean         4.752015\n",
       "std          0.351692\n",
       "min          1.000000\n",
       "25%          4.680000\n",
       "50%          4.840000\n",
       "75%          4.970000\n",
       "max          5.000000\n",
       "Name: review_scores_location, dtype: float64"
      ]
     },
     "execution_count": 165,
     "metadata": {},
     "output_type": "execute_result"
    }
   ],
   "source": [
    "df2.review_scores_location.describe()"
   ]
  },
  {
   "cell_type": "code",
   "execution_count": 166,
   "id": "4f285b49-bd8e-4599-a017-0ff76dd8612c",
   "metadata": {
    "tags": []
   },
   "outputs": [],
   "source": [
    "# Completar valor nulos con la media\n",
    "media_location = df2['review_scores_location'].mean()\n",
    "\n",
    "df2['review_scores_location'] = df2['review_scores_location'].fillna(media_location)"
   ]
  },
  {
   "cell_type": "code",
   "execution_count": 167,
   "id": "edc6b82d-7c82-4515-9fd1-6fbb08cc9fb5",
   "metadata": {
    "tags": []
   },
   "outputs": [
    {
     "data": {
      "text/plain": [
       "0"
      ]
     },
     "execution_count": 167,
     "metadata": {},
     "output_type": "execute_result"
    }
   ],
   "source": [
    "# Comprobación valores nulos\n",
    "df2.review_scores_location.isnull().sum()"
   ]
  },
  {
   "cell_type": "code",
   "execution_count": 168,
   "id": "f3b861c3-53df-4aba-9d08-c6fe9e52f069",
   "metadata": {
    "tags": []
   },
   "outputs": [
    {
     "data": {
      "text/html": [
       "<div>\n",
       "<style scoped>\n",
       "    .dataframe tbody tr th:only-of-type {\n",
       "        vertical-align: middle;\n",
       "    }\n",
       "\n",
       "    .dataframe tbody tr th {\n",
       "        vertical-align: top;\n",
       "    }\n",
       "\n",
       "    .dataframe thead th {\n",
       "        text-align: right;\n",
       "    }\n",
       "</style>\n",
       "<table border=\"1\" class=\"dataframe\">\n",
       "  <thead>\n",
       "    <tr style=\"text-align: right;\">\n",
       "      <th></th>\n",
       "      <th>price</th>\n",
       "      <th>review_scores_location</th>\n",
       "    </tr>\n",
       "  </thead>\n",
       "  <tbody>\n",
       "    <tr>\n",
       "      <th>price</th>\n",
       "      <td>1.000000</td>\n",
       "      <td>0.038847</td>\n",
       "    </tr>\n",
       "    <tr>\n",
       "      <th>review_scores_location</th>\n",
       "      <td>0.038847</td>\n",
       "      <td>1.000000</td>\n",
       "    </tr>\n",
       "  </tbody>\n",
       "</table>\n",
       "</div>"
      ],
      "text/plain": [
       "                           price  review_scores_location\n",
       "price                   1.000000                0.038847\n",
       "review_scores_location  0.038847                1.000000"
      ]
     },
     "execution_count": 168,
     "metadata": {},
     "output_type": "execute_result"
    }
   ],
   "source": [
    "df2[['price', 'review_scores_location']].corr()"
   ]
  },
  {
   "cell_type": "markdown",
   "id": "8af3ba56-5313-4875-8939-b66024ea21b7",
   "metadata": {},
   "source": [
    "### 'review_scores_value'"
   ]
  },
  {
   "cell_type": "markdown",
   "id": "7181ed4e-4755-46b2-a923-f50f99168463",
   "metadata": {},
   "source": [
    "La variable review_scores_value contenía originalmente 3,334 valores nulos. Con un promedio de valoraciones de 4.45, que refleja la tendencia general de los ratings, se ha decidido reemplazar los valores nulos con este promedio. Esta variable mide cómo los huéspedes perciben la relación calidad-precio del alojamiento, y el tipo de dato es adecuado para el modelo."
   ]
  },
  {
   "cell_type": "code",
   "execution_count": 169,
   "id": "28a927ca-ed97-4a4e-8022-05090acca275",
   "metadata": {
    "tags": []
   },
   "outputs": [
    {
     "data": {
      "text/plain": [
       "3334"
      ]
     },
     "execution_count": 169,
     "metadata": {},
     "output_type": "execute_result"
    }
   ],
   "source": [
    "df2.review_scores_value.isnull().sum()"
   ]
  },
  {
   "cell_type": "code",
   "execution_count": 170,
   "id": "7f8a10ea-b5ef-46cd-b482-94dd28acffdf",
   "metadata": {
    "tags": []
   },
   "outputs": [
    {
     "data": {
      "text/plain": [
       "count    11855.000000\n",
       "mean         4.454393\n",
       "std          0.523985\n",
       "min          1.000000\n",
       "25%          4.300000\n",
       "50%          4.560000\n",
       "75%          4.750000\n",
       "max          5.000000\n",
       "Name: review_scores_value, dtype: float64"
      ]
     },
     "execution_count": 170,
     "metadata": {},
     "output_type": "execute_result"
    }
   ],
   "source": [
    "df2.review_scores_value.describe()"
   ]
  },
  {
   "cell_type": "code",
   "execution_count": 171,
   "id": "4e3d4827-4765-4a40-8085-df979735d680",
   "metadata": {
    "tags": []
   },
   "outputs": [
    {
     "name": "stderr",
     "output_type": "stream",
     "text": [
      "/opt/anaconda3/lib/python3.11/site-packages/seaborn/_oldcore.py:1119: FutureWarning: use_inf_as_na option is deprecated and will be removed in a future version. Convert inf values to NaN before operating instead.\n",
      "  with pd.option_context('mode.use_inf_as_na', True):\n"
     ]
    },
    {
     "data": {
      "image/png": "[encoded data removed]",
      "text/plain": [
       "<Figure size 640x480 with 1 Axes>"
      ]
     },
     "metadata": {},
     "output_type": "display_data"
    }
   ],
   "source": [
    "sns.histplot(data = df2, x='review_scores_value')\n",
    "plt.show()"
   ]
  },
  {
   "cell_type": "code",
   "execution_count": 172,
   "id": "40ec6c43-0d6e-4444-bc67-31ad7aa2abe1",
   "metadata": {
    "tags": []
   },
   "outputs": [],
   "source": [
    "# Completar valor nulos con la media\n",
    "media_value = df2['review_scores_value'].mean()\n",
    "\n",
    "df2['review_scores_value'] = df2['review_scores_value'].fillna(media_value)"
   ]
  },
  {
   "cell_type": "code",
   "execution_count": 173,
   "id": "986eb769-197a-40b8-8242-e07eda912fa3",
   "metadata": {
    "tags": []
   },
   "outputs": [
    {
     "data": {
      "text/plain": [
       "0"
      ]
     },
     "execution_count": 173,
     "metadata": {},
     "output_type": "execute_result"
    }
   ],
   "source": [
    "# Comprobación valores nulos\n",
    "df2.review_scores_value.isnull().sum()"
   ]
  },
  {
   "cell_type": "code",
   "execution_count": 174,
   "id": "c0823e3e-4179-412b-b0b8-4672cf418efa",
   "metadata": {
    "tags": []
   },
   "outputs": [
    {
     "data": {
      "text/html": [
       "<div>\n",
       "<style scoped>\n",
       "    .dataframe tbody tr th:only-of-type {\n",
       "        vertical-align: middle;\n",
       "    }\n",
       "\n",
       "    .dataframe tbody tr th {\n",
       "        vertical-align: top;\n",
       "    }\n",
       "\n",
       "    .dataframe thead th {\n",
       "        text-align: right;\n",
       "    }\n",
       "</style>\n",
       "<table border=\"1\" class=\"dataframe\">\n",
       "  <thead>\n",
       "    <tr style=\"text-align: right;\">\n",
       "      <th></th>\n",
       "      <th>price</th>\n",
       "      <th>review_scores_value</th>\n",
       "    </tr>\n",
       "  </thead>\n",
       "  <tbody>\n",
       "    <tr>\n",
       "      <th>price</th>\n",
       "      <td>1.000000</td>\n",
       "      <td>0.025752</td>\n",
       "    </tr>\n",
       "    <tr>\n",
       "      <th>review_scores_value</th>\n",
       "      <td>0.025752</td>\n",
       "      <td>1.000000</td>\n",
       "    </tr>\n",
       "  </tbody>\n",
       "</table>\n",
       "</div>"
      ],
      "text/plain": [
       "                        price  review_scores_value\n",
       "price                1.000000             0.025752\n",
       "review_scores_value  0.025752             1.000000"
      ]
     },
     "execution_count": 174,
     "metadata": {},
     "output_type": "execute_result"
    }
   ],
   "source": [
    "df2[['price', 'review_scores_value']].corr()"
   ]
  },
  {
   "cell_type": "markdown",
   "id": "50179735-c441-461e-9d1c-e2f779906691",
   "metadata": {},
   "source": [
    "### 'reviews_per_month'"
   ]
  },
  {
   "cell_type": "markdown",
   "id": "80fea649-5acb-46bd-8a6f-5b7eab47bedc",
   "metadata": {},
   "source": [
    "La variable reviews_per_month contenía originalmente 3,317 valores nulos. Dado que el promedio de reseñas es de 1.71, que refleja la tendencia general, se ha decidido reemplazar los valores nulos con este promedio. Esta variable mide la frecuencia con la que se reciben reseñas del alojamiento cada mes, proporcionando una indicación de la actividad y popularidad del alojamiento. El tipo de dato es adecuado para el modelo."
   ]
  },
  {
   "cell_type": "code",
   "execution_count": 175,
   "id": "de6cda21-b5f8-4973-b654-c027905e20a6",
   "metadata": {
    "tags": []
   },
   "outputs": [
    {
     "data": {
      "text/plain": [
       "3317"
      ]
     },
     "execution_count": 175,
     "metadata": {},
     "output_type": "execute_result"
    }
   ],
   "source": [
    "df2.reviews_per_month.isnull().sum()"
   ]
  },
  {
   "cell_type": "code",
   "execution_count": 176,
   "id": "2488a276-ea27-4f5f-ba4b-0643ef82ef3f",
   "metadata": {
    "tags": []
   },
   "outputs": [
    {
     "data": {
      "text/plain": [
       "count    11872.000000\n",
       "mean         1.713690\n",
       "std          2.115342\n",
       "min          0.010000\n",
       "25%          0.320000\n",
       "50%          1.080000\n",
       "75%          2.520000\n",
       "max         70.470000\n",
       "Name: reviews_per_month, dtype: float64"
      ]
     },
     "execution_count": 176,
     "metadata": {},
     "output_type": "execute_result"
    }
   ],
   "source": [
    "df2.reviews_per_month.describe()"
   ]
  },
  {
   "cell_type": "code",
   "execution_count": 177,
   "id": "547588c3-0462-4b72-80a5-72b77b8e646c",
   "metadata": {
    "tags": []
   },
   "outputs": [
    {
     "name": "stderr",
     "output_type": "stream",
     "text": [
      "/opt/anaconda3/lib/python3.11/site-packages/seaborn/_oldcore.py:1119: FutureWarning: use_inf_as_na option is deprecated and will be removed in a future version. Convert inf values to NaN before operating instead.\n",
      "  with pd.option_context('mode.use_inf_as_na', True):\n"
     ]
    },
    {
     "data": {
      "image/png": "[encoded data removed]",
      "text/plain": [
       "<Figure size 640x480 with 1 Axes>"
      ]
     },
     "metadata": {},
     "output_type": "display_data"
    }
   ],
   "source": [
    "sns.histplot(data = df2, x='reviews_per_month')\n",
    "plt.show()"
   ]
  },
  {
   "cell_type": "code",
   "execution_count": 178,
   "id": "c6a5ae2d-94c7-4eca-8518-4d00b7d36ab7",
   "metadata": {
    "tags": []
   },
   "outputs": [],
   "source": [
    "# Completar valor nulos con la media\n",
    "media_reviews_per_month = df2['reviews_per_month'].mean()\n",
    "\n",
    "df2['reviews_per_month'] = df2['reviews_per_month'].fillna(media_reviews_per_month)"
   ]
  },
  {
   "cell_type": "code",
   "execution_count": 179,
   "id": "05d396db-40c4-43b3-ab7e-778ab3afc577",
   "metadata": {
    "tags": []
   },
   "outputs": [
    {
     "data": {
      "text/plain": [
       "0"
      ]
     },
     "execution_count": 179,
     "metadata": {},
     "output_type": "execute_result"
    }
   ],
   "source": [
    "# Comprobación nulos\n",
    "df2.reviews_per_month.isnull().sum()"
   ]
  },
  {
   "cell_type": "code",
   "execution_count": 180,
   "id": "1b5b86bb-8d14-46ad-b5ea-b9ae1a57890d",
   "metadata": {
    "tags": []
   },
   "outputs": [
    {
     "data": {
      "text/html": [
       "<div>\n",
       "<style scoped>\n",
       "    .dataframe tbody tr th:only-of-type {\n",
       "        vertical-align: middle;\n",
       "    }\n",
       "\n",
       "    .dataframe tbody tr th {\n",
       "        vertical-align: top;\n",
       "    }\n",
       "\n",
       "    .dataframe thead th {\n",
       "        text-align: right;\n",
       "    }\n",
       "</style>\n",
       "<table border=\"1\" class=\"dataframe\">\n",
       "  <thead>\n",
       "    <tr style=\"text-align: right;\">\n",
       "      <th></th>\n",
       "      <th>price</th>\n",
       "      <th>reviews_per_month</th>\n",
       "    </tr>\n",
       "  </thead>\n",
       "  <tbody>\n",
       "    <tr>\n",
       "      <th>price</th>\n",
       "      <td>1.000000</td>\n",
       "      <td>0.019012</td>\n",
       "    </tr>\n",
       "    <tr>\n",
       "      <th>reviews_per_month</th>\n",
       "      <td>0.019012</td>\n",
       "      <td>1.000000</td>\n",
       "    </tr>\n",
       "  </tbody>\n",
       "</table>\n",
       "</div>"
      ],
      "text/plain": [
       "                      price  reviews_per_month\n",
       "price              1.000000           0.019012\n",
       "reviews_per_month  0.019012           1.000000"
      ]
     },
     "execution_count": 180,
     "metadata": {},
     "output_type": "execute_result"
    }
   ],
   "source": [
    "df2[['price', 'reviews_per_month']].corr()"
   ]
  },
  {
   "cell_type": "markdown",
   "id": "eba8b4b4-eaa1-4b59-9433-240f16ccff53",
   "metadata": {},
   "source": [
    "### 'license'"
   ]
  },
  {
   "cell_type": "markdown",
   "id": "bb0308ba-897f-4f29-9c93-014cb8300a5b",
   "metadata": {},
   "source": [
    "La variable license contenía originalmente 4,163 valores nulos. A partir de esta columna, hemos creado una nueva columna llamada has_license, que indica True si la columna license contiene información y False si el dato está vacío, lo que indica la ausencia de licencia. Posteriormente, se ha convertido la columna has_license a un tipo de dato booleano."
   ]
  },
  {
   "cell_type": "code",
   "execution_count": 181,
   "id": "3896e750-3d99-40ce-b473-0d4b741269a1",
   "metadata": {
    "tags": []
   },
   "outputs": [
    {
     "data": {
      "text/plain": [
       "4163"
      ]
     },
     "execution_count": 181,
     "metadata": {},
     "output_type": "execute_result"
    }
   ],
   "source": [
    "df2['license'].isnull().sum()"
   ]
  },
  {
   "cell_type": "code",
   "execution_count": 182,
   "id": "3a657bdb-0c2d-4b64-af75-1e6408ca50fc",
   "metadata": {
    "tags": []
   },
   "outputs": [],
   "source": [
    "# A partir de esta columna, creamos otra llamada 'has_license' que indique True si la columna tiene info, else false\n",
    "df2['has_license'] = df2['license'].notna()"
   ]
  },
  {
   "cell_type": "code",
   "execution_count": 183,
   "id": "1dfa907a-ab3f-48b4-a5d2-42edffa049c4",
   "metadata": {
    "tags": []
   },
   "outputs": [
    {
     "data": {
      "text/html": [
       "<div>\n",
       "<style scoped>\n",
       "    .dataframe tbody tr th:only-of-type {\n",
       "        vertical-align: middle;\n",
       "    }\n",
       "\n",
       "    .dataframe tbody tr th {\n",
       "        vertical-align: top;\n",
       "    }\n",
       "\n",
       "    .dataframe thead th {\n",
       "        text-align: right;\n",
       "    }\n",
       "</style>\n",
       "<table border=\"1\" class=\"dataframe\">\n",
       "  <thead>\n",
       "    <tr style=\"text-align: right;\">\n",
       "      <th></th>\n",
       "      <th>description</th>\n",
       "      <th>name</th>\n",
       "      <th>host_since</th>\n",
       "      <th>host_location</th>\n",
       "      <th>host_is_superhost</th>\n",
       "      <th>host_identity_verified</th>\n",
       "      <th>host_has_profile_pic</th>\n",
       "      <th>neighbourhood</th>\n",
       "      <th>latitude</th>\n",
       "      <th>longitude</th>\n",
       "      <th>...</th>\n",
       "      <th>review_scores_rating</th>\n",
       "      <th>review_scores_cleanliness</th>\n",
       "      <th>review_scores_checkin</th>\n",
       "      <th>review_scores_communication</th>\n",
       "      <th>review_scores_location</th>\n",
       "      <th>review_scores_value</th>\n",
       "      <th>reviews_per_month</th>\n",
       "      <th>license</th>\n",
       "      <th>instant_bookable</th>\n",
       "      <th>bathroom_type</th>\n",
       "    </tr>\n",
       "    <tr>\n",
       "      <th>has_license</th>\n",
       "      <th></th>\n",
       "      <th></th>\n",
       "      <th></th>\n",
       "      <th></th>\n",
       "      <th></th>\n",
       "      <th></th>\n",
       "      <th></th>\n",
       "      <th></th>\n",
       "      <th></th>\n",
       "      <th></th>\n",
       "      <th></th>\n",
       "      <th></th>\n",
       "      <th></th>\n",
       "      <th></th>\n",
       "      <th></th>\n",
       "      <th></th>\n",
       "      <th></th>\n",
       "      <th></th>\n",
       "      <th></th>\n",
       "      <th></th>\n",
       "      <th></th>\n",
       "    </tr>\n",
       "  </thead>\n",
       "  <tbody>\n",
       "    <tr>\n",
       "      <th>False</th>\n",
       "      <td>3992</td>\n",
       "      <td>4163</td>\n",
       "      <td>4163</td>\n",
       "      <td>4163</td>\n",
       "      <td>4163</td>\n",
       "      <td>4163</td>\n",
       "      <td>4163</td>\n",
       "      <td>4163</td>\n",
       "      <td>4163</td>\n",
       "      <td>4163</td>\n",
       "      <td>...</td>\n",
       "      <td>4163</td>\n",
       "      <td>4163</td>\n",
       "      <td>4163</td>\n",
       "      <td>4163</td>\n",
       "      <td>4163</td>\n",
       "      <td>4163</td>\n",
       "      <td>4163</td>\n",
       "      <td>0</td>\n",
       "      <td>4163</td>\n",
       "      <td>4163</td>\n",
       "    </tr>\n",
       "    <tr>\n",
       "      <th>True</th>\n",
       "      <td>10710</td>\n",
       "      <td>11026</td>\n",
       "      <td>11026</td>\n",
       "      <td>11026</td>\n",
       "      <td>11026</td>\n",
       "      <td>11026</td>\n",
       "      <td>11026</td>\n",
       "      <td>11026</td>\n",
       "      <td>11026</td>\n",
       "      <td>11026</td>\n",
       "      <td>...</td>\n",
       "      <td>11026</td>\n",
       "      <td>11026</td>\n",
       "      <td>11026</td>\n",
       "      <td>11026</td>\n",
       "      <td>11026</td>\n",
       "      <td>11026</td>\n",
       "      <td>11026</td>\n",
       "      <td>11026</td>\n",
       "      <td>11026</td>\n",
       "      <td>11026</td>\n",
       "    </tr>\n",
       "  </tbody>\n",
       "</table>\n",
       "<p>2 rows × 34 columns</p>\n",
       "</div>"
      ],
      "text/plain": [
       "             description   name  host_since  host_location  host_is_superhost  \\\n",
       "has_license                                                                     \n",
       "False               3992   4163        4163           4163               4163   \n",
       "True               10710  11026       11026          11026              11026   \n",
       "\n",
       "             host_identity_verified  host_has_profile_pic  neighbourhood  \\\n",
       "has_license                                                                \n",
       "False                          4163                  4163           4163   \n",
       "True                          11026                 11026          11026   \n",
       "\n",
       "             latitude  longitude  ...  review_scores_rating  \\\n",
       "has_license                       ...                         \n",
       "False            4163       4163  ...                  4163   \n",
       "True            11026      11026  ...                 11026   \n",
       "\n",
       "             review_scores_cleanliness  review_scores_checkin  \\\n",
       "has_license                                                     \n",
       "False                             4163                   4163   \n",
       "True                             11026                  11026   \n",
       "\n",
       "             review_scores_communication  review_scores_location  \\\n",
       "has_license                                                        \n",
       "False                               4163                    4163   \n",
       "True                               11026                   11026   \n",
       "\n",
       "             review_scores_value  reviews_per_month  license  \\\n",
       "has_license                                                    \n",
       "False                       4163               4163        0   \n",
       "True                       11026              11026    11026   \n",
       "\n",
       "             instant_bookable  bathroom_type  \n",
       "has_license                                   \n",
       "False                    4163           4163  \n",
       "True                    11026          11026  \n",
       "\n",
       "[2 rows x 34 columns]"
      ]
     },
     "execution_count": 183,
     "metadata": {},
     "output_type": "execute_result"
    }
   ],
   "source": [
    "# Contamos los TRUE y FALSE\n",
    "df2.groupby('has_license').count()"
   ]
  },
  {
   "cell_type": "code",
   "execution_count": 184,
   "id": "a172694a-924e-4c22-bbab-800819f9ee80",
   "metadata": {
    "tags": []
   },
   "outputs": [],
   "source": [
    "# Convertir columna a tipo de dato booleano\n",
    "df2['has_license'] = df2['has_license'].astype(bool)"
   ]
  },
  {
   "cell_type": "code",
   "execution_count": 185,
   "id": "bc3d65b1-1f97-42cc-ab6e-d002793ef3aa",
   "metadata": {
    "tags": []
   },
   "outputs": [
    {
     "data": {
      "text/plain": [
       "array([ True, False])"
      ]
     },
     "execution_count": 185,
     "metadata": {},
     "output_type": "execute_result"
    }
   ],
   "source": [
    "# Comprobación valores únicos\n",
    "df2['has_license'].unique()"
   ]
  },
  {
   "cell_type": "markdown",
   "id": "7364fcb0-ee43-469b-934f-3b64fdc9ce6d",
   "metadata": {},
   "source": [
    "#### drop 'license'"
   ]
  },
  {
   "cell_type": "code",
   "execution_count": 186,
   "id": "01f69497-e295-4538-bf6f-b2998009e1e0",
   "metadata": {
    "tags": []
   },
   "outputs": [],
   "source": [
    "# Eliminación columna license\n",
    "df2.drop('license', axis=1, inplace=True)"
   ]
  },
  {
   "cell_type": "markdown",
   "id": "e55be7ec-68c6-4df4-b01c-871a4d40a14e",
   "metadata": {},
   "source": [
    "### 'has_license'"
   ]
  },
  {
   "cell_type": "markdown",
   "id": "4efa1e2a-3edd-4514-89a3-7bfc215c6c2f",
   "metadata": {},
   "source": [
    "Esta variable se ha creado a partir de la columna license y permite identificar si un alojamiento posee una licencia de Airbnb o no."
   ]
  },
  {
   "cell_type": "code",
   "execution_count": 187,
   "id": "0bd83b61-13c7-4570-8902-71b1b72daa95",
   "metadata": {
    "tags": []
   },
   "outputs": [
    {
     "data": {
      "text/plain": [
       "0"
      ]
     },
     "execution_count": 187,
     "metadata": {},
     "output_type": "execute_result"
    }
   ],
   "source": [
    "df2['has_license'].isnull().sum()"
   ]
  },
  {
   "cell_type": "code",
   "execution_count": 188,
   "id": "76d350ad-d331-4920-bcc4-7cbf25c91b9e",
   "metadata": {
    "tags": []
   },
   "outputs": [
    {
     "data": {
      "text/plain": [
       "count     15189\n",
       "unique        2\n",
       "top        True\n",
       "freq      11026\n",
       "Name: has_license, dtype: object"
      ]
     },
     "execution_count": 188,
     "metadata": {},
     "output_type": "execute_result"
    }
   ],
   "source": [
    "df2['has_license'].describe()"
   ]
  },
  {
   "cell_type": "code",
   "execution_count": 189,
   "id": "b8344a29-671b-4139-846b-0b81c082ff35",
   "metadata": {
    "tags": []
   },
   "outputs": [
    {
     "data": {
      "text/html": [
       "<div>\n",
       "<style scoped>\n",
       "    .dataframe tbody tr th:only-of-type {\n",
       "        vertical-align: middle;\n",
       "    }\n",
       "\n",
       "    .dataframe tbody tr th {\n",
       "        vertical-align: top;\n",
       "    }\n",
       "\n",
       "    .dataframe thead th {\n",
       "        text-align: right;\n",
       "    }\n",
       "</style>\n",
       "<table border=\"1\" class=\"dataframe\">\n",
       "  <thead>\n",
       "    <tr style=\"text-align: right;\">\n",
       "      <th></th>\n",
       "      <th>price</th>\n",
       "      <th>has_license</th>\n",
       "    </tr>\n",
       "  </thead>\n",
       "  <tbody>\n",
       "    <tr>\n",
       "      <th>price</th>\n",
       "      <td>1.000000</td>\n",
       "      <td>0.175095</td>\n",
       "    </tr>\n",
       "    <tr>\n",
       "      <th>has_license</th>\n",
       "      <td>0.175095</td>\n",
       "      <td>1.000000</td>\n",
       "    </tr>\n",
       "  </tbody>\n",
       "</table>\n",
       "</div>"
      ],
      "text/plain": [
       "                price  has_license\n",
       "price        1.000000     0.175095\n",
       "has_license  0.175095     1.000000"
      ]
     },
     "execution_count": 189,
     "metadata": {},
     "output_type": "execute_result"
    }
   ],
   "source": [
    "df2[['price', 'has_license']].corr()"
   ]
  },
  {
   "cell_type": "markdown",
   "id": "64af202d-ad64-4b6e-91e6-fdf7e3e9cd28",
   "metadata": {},
   "source": [
    "### 'instant_bookable'"
   ]
  },
  {
   "cell_type": "markdown",
   "id": "801d4243-5d8d-40d0-b296-44a72a6954d9",
   "metadata": {},
   "source": [
    "La columna instant_bookable indica si el alojamiento puede ser reservado de forma instantánea sin necesidad de aprobación del anfitrión. No contiene valores nulos, y solo se ha modificado su tipo de dato a booleano."
   ]
  },
  {
   "cell_type": "code",
   "execution_count": 190,
   "id": "8679fb2f-d506-42cf-8854-540a527c8239",
   "metadata": {
    "tags": []
   },
   "outputs": [
    {
     "data": {
      "text/plain": [
       "array(['t', 'f'], dtype=object)"
      ]
     },
     "execution_count": 190,
     "metadata": {},
     "output_type": "execute_result"
    }
   ],
   "source": [
    "# Comprobación valores únicos\n",
    "df2['instant_bookable'].unique()"
   ]
  },
  {
   "cell_type": "code",
   "execution_count": 191,
   "id": "396e3854-ce46-479f-8154-f39e74f4f975",
   "metadata": {
    "tags": []
   },
   "outputs": [],
   "source": [
    "# Convertir columna a tipo de dato booleano\n",
    "df2['instant_bookable'] = df2['instant_bookable'].replace({'t': True, 'f': False})"
   ]
  },
  {
   "cell_type": "code",
   "execution_count": 192,
   "id": "3d971ffc-5dd6-4f19-9f65-f9b1b23f0c82",
   "metadata": {
    "tags": []
   },
   "outputs": [
    {
     "data": {
      "text/plain": [
       "dtype('bool')"
      ]
     },
     "execution_count": 192,
     "metadata": {},
     "output_type": "execute_result"
    }
   ],
   "source": [
    "# Comprobación tipo de dato\n",
    "df2['instant_bookable'].dtype"
   ]
  },
  {
   "cell_type": "markdown",
   "id": "ba4062cc-df57-48b0-8e57-fc29e72ce3f7",
   "metadata": {},
   "source": [
    "### 'name', 'description' y 'amenities'"
   ]
  },
  {
   "cell_type": "markdown",
   "id": "af7b8ea2-481d-49dd-a032-6bca6fc0dca9",
   "metadata": {},
   "source": [
    "A partir de las variables de texto libre name, description y amenities, hemos creado cinco variables booleanas que proporcionarán información valiosa para nuestro modelo. Estas variables representan las cinco comodidades más demandadas en las búsquedas de Airbnb en Barcelona, y devuelven True o False según si el alojamiento dispone o no de cada comodidad. Las nuevas variables son: 'has_terrace', 'has_wifi', 'pet_allowed', 'has_AC' y 'has_kitchen'."
   ]
  },
  {
   "cell_type": "code",
   "execution_count": 193,
   "id": "d087b592-5ddf-4366-9329-4074738bd2fc",
   "metadata": {
    "tags": []
   },
   "outputs": [],
   "source": [
    "# Crear una función para limpiar texto, eliminando caracteres no alfabéticos y convirtiendo todo a minúsculas.\n",
    "def limpiar_texto(texto):\n",
    "    if pd.isna(texto):\n",
    "        return ''\n",
    "    texto = texto.lower()\n",
    "    texto = re.sub(r'[^a-z\\s]', '', texto)\n",
    "    return texto "
   ]
  },
  {
   "cell_type": "code",
   "execution_count": 194,
   "id": "d91919bc-bb0b-4ed0-8bc5-6be43c87f047",
   "metadata": {
    "tags": []
   },
   "outputs": [],
   "source": [
    "df2['name'] = df2['name'].apply(limpiar_texto)\n",
    "df2['description'] = df2['description'].apply(limpiar_texto)\n",
    "df2['amenities'] = df2['amenities'].apply(limpiar_texto)"
   ]
  },
  {
   "cell_type": "code",
   "execution_count": 195,
   "id": "7cfa2fe4-eecb-4b9d-8f06-a37fda9000b7",
   "metadata": {
    "tags": []
   },
   "outputs": [],
   "source": [
    "# Crear función para verificar la presencia de palabras clave \n",
    "def verificar_palabras_filas(row, palabras):\n",
    "    for columna in ['amenities', 'name', 'description']:\n",
    "        if any(palabra in row[columna] for palabra in palabras):\n",
    "            return 1  # TRUE\n",
    "    return 0          # FALSE"
   ]
  },
  {
   "cell_type": "code",
   "execution_count": 196,
   "id": "d6a7091d-f5cd-4d2b-a73f-9a7cb5164a10",
   "metadata": {
    "tags": []
   },
   "outputs": [],
   "source": [
    "# Definir palabras clave\n",
    "palabras_a_buscar = ['terrace', 'veranda', 'balcony']\n",
    "palabras_a_buscar2 = ['wifi', 'wireless internet', 'wireless connection']\n",
    "palabras_a_buscar3 = ['pet', 'pet-friendly', 'pets allowed', 'pet accommodation']\n",
    "palabras_a_buscar4 = ['air', 'air conditioning', 'ac (air conditioning)', 'climate control']\n",
    "palabras_a_buscar5 = ['kitchen', 'cooking area', 'culinary space']"
   ]
  },
  {
   "cell_type": "code",
   "execution_count": 197,
   "id": "8d003fda-058a-4a42-9246-a48ef380d354",
   "metadata": {
    "tags": []
   },
   "outputs": [],
   "source": [
    "# Crear nuevas columnas referentes a las amenities\n",
    "df2['has_terrace'] = df2.apply(verificar_palabras_filas, axis=1, palabras=palabras_a_buscar)\n",
    "df2['has_wifi'] = df2.apply(verificar_palabras_filas, axis=1, palabras=palabras_a_buscar2)\n",
    "df2['pet_allowed'] = df2.apply(verificar_palabras_filas, axis=1, palabras=palabras_a_buscar3)\n",
    "df2['has_AC'] = df2.apply(verificar_palabras_filas, axis=1, palabras=palabras_a_buscar4)\n",
    "df2['has_kitchen'] = df2.apply(verificar_palabras_filas, axis=1, palabras=palabras_a_buscar5)"
   ]
  },
  {
   "cell_type": "code",
   "execution_count": 198,
   "id": "ef7f9f64-f739-4abb-b48a-eaa78703f1c4",
   "metadata": {
    "tags": []
   },
   "outputs": [
    {
     "name": "stdout",
     "output_type": "stream",
     "text": [
      "has_terrace\n",
      "1    8145\n",
      "0    7044\n",
      "Name: count, dtype: int64\n",
      "has_wifi\n",
      "1    14947\n",
      "0      242\n",
      "Name: count, dtype: int64\n",
      "pet_allowed\n",
      "0    12597\n",
      "1     2592\n",
      "Name: count, dtype: int64\n",
      "has_AC\n",
      "1    13745\n",
      "0     1444\n",
      "Name: count, dtype: int64\n",
      "has_kitchen\n",
      "1    14046\n",
      "0     1143\n",
      "Name: count, dtype: int64\n"
     ]
    }
   ],
   "source": [
    "# Conteos\n",
    "conteo1 = df2['has_terrace'].value_counts()\n",
    "print(conteo1)\n",
    "\n",
    "conteo2 = df2['has_wifi'].value_counts()\n",
    "print(conteo2)\n",
    "\n",
    "conteo3 = df2['pet_allowed'].value_counts()\n",
    "print(conteo3)\n",
    "\n",
    "conteo4 = df2['has_AC'].value_counts()\n",
    "print(conteo4)\n",
    "\n",
    "conteo5 = df2['has_kitchen'].value_counts()\n",
    "print(conteo5)"
   ]
  },
  {
   "cell_type": "code",
   "execution_count": 199,
   "id": "8ae1a6bd-c0ed-4317-ae15-3d1f9c2e20f2",
   "metadata": {
    "tags": []
   },
   "outputs": [
    {
     "name": "stdout",
     "output_type": "stream",
     "text": [
      "   has_terrace  has_wifi  pet_allowed  has_AC  has_kitchen\n",
      "0            1         1            0       1            1\n",
      "1            0         1            0       0            1\n",
      "2            1         1            0       1            1\n",
      "4            1         1            0       1            1\n",
      "5            1         1            0       1            1\n"
     ]
    }
   ],
   "source": [
    "print(df2[['has_terrace', 'has_wifi', 'pet_allowed', 'has_AC', 'has_kitchen']].head())"
   ]
  },
  {
   "cell_type": "markdown",
   "id": "bde0d740-1095-4610-b172-bfe2ea39b9d4",
   "metadata": {},
   "source": [
    "#### drop 'name', 'description', 'amenities'"
   ]
  },
  {
   "cell_type": "code",
   "execution_count": 200,
   "id": "a899d639-2ac5-44f6-8df9-95972f7a14e5",
   "metadata": {
    "tags": []
   },
   "outputs": [],
   "source": [
    "# Eliminación columnas 'name', 'description' y 'amenities'\n",
    "df2 = df2.drop(columns=['name', 'description', 'amenities'])"
   ]
  },
  {
   "cell_type": "markdown",
   "id": "779c106b-28dc-413a-be4f-5056d917218b",
   "metadata": {},
   "source": [
    "### 'has_terrace'"
   ]
  },
  {
   "cell_type": "markdown",
   "id": "78fb05f3-cae3-41d9-b26f-7b70114017f1",
   "metadata": {},
   "source": [
    "La variable has_terrace se creó tras identificar las comodidades más demandadas en las búsquedas de alojamiento en Airbnb en Barcelona. Indica si un alojamiento dispone de terraza o balcón, asignando True a aquellos que cuentan con esta característica y False a los que no, ya que ha sido convertida a una variable booleana."
   ]
  },
  {
   "cell_type": "code",
   "execution_count": 201,
   "id": "396ba847-d7bd-4dbe-835c-4fe85fe2d728",
   "metadata": {
    "tags": []
   },
   "outputs": [
    {
     "data": {
      "text/plain": [
       "array([1, 0])"
      ]
     },
     "execution_count": 201,
     "metadata": {},
     "output_type": "execute_result"
    }
   ],
   "source": [
    "df2['has_terrace'].unique()"
   ]
  },
  {
   "cell_type": "code",
   "execution_count": 202,
   "id": "565752e0-513f-4cf6-bbd9-318ef6d861e8",
   "metadata": {
    "tags": []
   },
   "outputs": [],
   "source": [
    "df2['has_terrace'] = df2['has_terrace'].astype('bool')"
   ]
  },
  {
   "cell_type": "code",
   "execution_count": 203,
   "id": "74d2f2f2-6dc2-49ef-8940-8ac6fd5a768e",
   "metadata": {
    "tags": []
   },
   "outputs": [
    {
     "data": {
      "text/plain": [
       "array([ True, False])"
      ]
     },
     "execution_count": 203,
     "metadata": {},
     "output_type": "execute_result"
    }
   ],
   "source": [
    "df2['has_terrace'].unique()"
   ]
  },
  {
   "cell_type": "markdown",
   "id": "78b931e1-5ee8-4c0f-96d2-9499269545ec",
   "metadata": {},
   "source": [
    "### 'has_wifi'"
   ]
  },
  {
   "cell_type": "markdown",
   "id": "5f8ac225-6f33-40dd-8eba-89360074dcd3",
   "metadata": {},
   "source": [
    "La variable has_wifi se creó tras identificar las comodidades más solicitadas en las búsquedas de alojamiento en Airbnb en Barcelona. Esta variable indica si un alojamiento ofrece conexión inalámbrica a internet (wifi), asignando True a aquellos que disponen de este servicio y False a los que no, ya que ha sido convertida en una variable booleana."
   ]
  },
  {
   "cell_type": "code",
   "execution_count": 204,
   "id": "d64862b0-c9c3-4e58-aee2-b6e49cc22dce",
   "metadata": {
    "tags": []
   },
   "outputs": [
    {
     "data": {
      "text/plain": [
       "array([1, 0])"
      ]
     },
     "execution_count": 204,
     "metadata": {},
     "output_type": "execute_result"
    }
   ],
   "source": [
    "df2['has_wifi'].unique()"
   ]
  },
  {
   "cell_type": "code",
   "execution_count": 205,
   "id": "9d1ca41e-c1d4-4825-b4f6-16ffeec7c9ef",
   "metadata": {
    "tags": []
   },
   "outputs": [],
   "source": [
    "df2['has_wifi'] = df2['has_wifi'].astype('bool')"
   ]
  },
  {
   "cell_type": "code",
   "execution_count": 206,
   "id": "caa8f6ea-9138-477d-b13c-1fab5dc53212",
   "metadata": {
    "tags": []
   },
   "outputs": [
    {
     "data": {
      "text/plain": [
       "array([ True, False])"
      ]
     },
     "execution_count": 206,
     "metadata": {},
     "output_type": "execute_result"
    }
   ],
   "source": [
    "df2['has_wifi'].unique()"
   ]
  },
  {
   "cell_type": "markdown",
   "id": "13e64a41-5741-4531-915a-a4805a1436ef",
   "metadata": {},
   "source": [
    "### 'pet_allowed'"
   ]
  },
  {
   "cell_type": "markdown",
   "id": "e3a1b1f7-4a62-45f9-9fbb-1b5e1b43a6ec",
   "metadata": {},
   "source": [
    "La variable pet_allowed se creó tras identificar las comodidades más demandadas en las búsquedas de alojamiento en Airbnb en Barcelona. Esta variable indica si un alojamiento permite mascotas, asignando True a los que aceptan mascotas y False a los que no, ya que ha sido convertida en una variable booleana."
   ]
  },
  {
   "cell_type": "code",
   "execution_count": 207,
   "id": "3516e90a-b066-4a9f-be65-e9cbeb5f75b9",
   "metadata": {
    "tags": []
   },
   "outputs": [
    {
     "data": {
      "text/plain": [
       "array([0, 1])"
      ]
     },
     "execution_count": 207,
     "metadata": {},
     "output_type": "execute_result"
    }
   ],
   "source": [
    "df2['pet_allowed'].unique()"
   ]
  },
  {
   "cell_type": "code",
   "execution_count": 208,
   "id": "f8e33fcd-4505-447c-bbc9-0c49394390d5",
   "metadata": {
    "tags": []
   },
   "outputs": [],
   "source": [
    "df2['pet_allowed'] = df2['pet_allowed'].astype('bool')"
   ]
  },
  {
   "cell_type": "code",
   "execution_count": 209,
   "id": "05313a20-b3dc-439f-96b4-edb66d464410",
   "metadata": {
    "tags": []
   },
   "outputs": [
    {
     "data": {
      "text/plain": [
       "array([False,  True])"
      ]
     },
     "execution_count": 209,
     "metadata": {},
     "output_type": "execute_result"
    }
   ],
   "source": [
    "df2['pet_allowed'].unique()"
   ]
  },
  {
   "cell_type": "markdown",
   "id": "55e0d263-e9fa-46af-9062-2a582956d682",
   "metadata": {},
   "source": [
    "### 'has_AC'"
   ]
  },
  {
   "cell_type": "markdown",
   "id": "e47f857e-5d76-4801-b894-9bb6f56fd760",
   "metadata": {},
   "source": [
    "La variable has_AC se creó tras identificar las comodidades más demandadas en las búsquedas de alojamiento en Airbnb en Barcelona. Esta variable indica si un alojamiento dispone de aire acondicionado, asignando True a los que lo tienen y False a los que no, ya que ha sido convertida en una variable booleana."
   ]
  },
  {
   "cell_type": "code",
   "execution_count": 210,
   "id": "d65f6bd8-01d0-4c43-8ddb-f1303dbacb42",
   "metadata": {
    "tags": []
   },
   "outputs": [
    {
     "data": {
      "text/plain": [
       "array([1, 0])"
      ]
     },
     "execution_count": 210,
     "metadata": {},
     "output_type": "execute_result"
    }
   ],
   "source": [
    "df2['has_AC'].unique()"
   ]
  },
  {
   "cell_type": "code",
   "execution_count": 211,
   "id": "e9c08188-2f97-4dbc-82ab-831c9298ab1c",
   "metadata": {
    "tags": []
   },
   "outputs": [],
   "source": [
    "df2['has_AC'] = df2['has_AC'].astype('bool')"
   ]
  },
  {
   "cell_type": "code",
   "execution_count": 212,
   "id": "025abfda-9e6b-4bdc-8195-be2fcbc6d5a4",
   "metadata": {
    "tags": []
   },
   "outputs": [
    {
     "data": {
      "text/plain": [
       "array([ True, False])"
      ]
     },
     "execution_count": 212,
     "metadata": {},
     "output_type": "execute_result"
    }
   ],
   "source": [
    "df2['has_AC'].unique()"
   ]
  },
  {
   "cell_type": "markdown",
   "id": "1853d607-b455-4fc2-8648-b947738c5be0",
   "metadata": {},
   "source": [
    "###  'has_kitchen'"
   ]
  },
  {
   "cell_type": "markdown",
   "id": "4e938bfb-d65b-44cc-9e73-841acd0ab18d",
   "metadata": {},
   "source": [
    "La variable has_kitchen se creó a partir de la identificación de las comodidades más solicitadas en las búsquedas de alojamiento en Airbnb en Barcelona. Esta variable indica si un alojamiento dispone de cocina, asignando True a aquellos que cuentan con esta característica y False a los que no, ya que ha sido convertida en una variable booleana."
   ]
  },
  {
   "cell_type": "code",
   "execution_count": 213,
   "id": "bcab6735-948d-4832-8d6b-a48be8dec1bc",
   "metadata": {
    "tags": []
   },
   "outputs": [
    {
     "data": {
      "text/plain": [
       "array([1, 0])"
      ]
     },
     "execution_count": 213,
     "metadata": {},
     "output_type": "execute_result"
    }
   ],
   "source": [
    "df2['has_kitchen'].unique()"
   ]
  },
  {
   "cell_type": "code",
   "execution_count": 214,
   "id": "10febcf4-828b-440a-8a1c-1f833f1c7bc7",
   "metadata": {
    "tags": []
   },
   "outputs": [],
   "source": [
    "df2['has_kitchen'] = df2['has_kitchen'].astype('bool')"
   ]
  },
  {
   "cell_type": "code",
   "execution_count": 215,
   "id": "5cef4796-59e8-41b9-a82d-d43827b395d0",
   "metadata": {
    "tags": []
   },
   "outputs": [
    {
     "data": {
      "text/plain": [
       "array([ True, False])"
      ]
     },
     "execution_count": 215,
     "metadata": {},
     "output_type": "execute_result"
    }
   ],
   "source": [
    "df2['has_kitchen'].unique()"
   ]
  },
  {
   "cell_type": "markdown",
   "id": "5955cebf-f7bf-4175-a94c-d993c2349973",
   "metadata": {
    "tags": []
   },
   "source": [
    "# Verificacion de df2 (limpio)"
   ]
  },
  {
   "cell_type": "markdown",
   "id": "62dd7863-6c87-4563-a54e-dfe60cbc962e",
   "metadata": {},
   "source": [
    "## Verificacion nulos df2"
   ]
  },
  {
   "cell_type": "code",
   "execution_count": 216,
   "id": "448894ce-47aa-4f2f-92a9-a7eff5cf0b7b",
   "metadata": {
    "tags": []
   },
   "outputs": [
    {
     "data": {
      "text/plain": [
       "host_since                     0\n",
       "host_location                  0\n",
       "host_is_superhost              0\n",
       "host_identity_verified         0\n",
       "host_has_profile_pic           0\n",
       "neighbourhood                  0\n",
       "latitude                       0\n",
       "longitude                      0\n",
       "room_type                      0\n",
       "accommodates                   0\n",
       "bathrooms                      0\n",
       "bedrooms                       0\n",
       "beds                           0\n",
       "price                          0\n",
       "minimum_nights                 0\n",
       "maximum_nights                 0\n",
       "has_availability               0\n",
       "availability_30                0\n",
       "availability_60                0\n",
       "number_of_reviews              0\n",
       "last_review                    0\n",
       "review_scores_rating           0\n",
       "review_scores_cleanliness      0\n",
       "review_scores_checkin          0\n",
       "review_scores_communication    0\n",
       "review_scores_location         0\n",
       "review_scores_value            0\n",
       "reviews_per_month              0\n",
       "instant_bookable               0\n",
       "bathroom_type                  0\n",
       "has_license                    0\n",
       "has_terrace                    0\n",
       "has_wifi                       0\n",
       "pet_allowed                    0\n",
       "has_AC                         0\n",
       "has_kitchen                    0\n",
       "dtype: int64"
      ]
     },
     "execution_count": 216,
     "metadata": {},
     "output_type": "execute_result"
    }
   ],
   "source": [
    "df2.isnull().sum()"
   ]
  },
  {
   "cell_type": "markdown",
   "id": "5eb43d22-1979-4cba-94a5-401cf9acad95",
   "metadata": {},
   "source": [
    "## Informacion df2"
   ]
  },
  {
   "cell_type": "code",
   "execution_count": 217,
   "id": "d85c501c-986f-46b5-a084-fef5be16981e",
   "metadata": {
    "tags": []
   },
   "outputs": [
    {
     "name": "stdout",
     "output_type": "stream",
     "text": [
      "<class 'pandas.core.frame.DataFrame'>\n",
      "Index: 15189 entries, 0 to 18924\n",
      "Data columns (total 36 columns):\n",
      " #   Column                       Non-Null Count  Dtype  \n",
      "---  ------                       --------------  -----  \n",
      " 0   host_since                   15189 non-null  int64  \n",
      " 1   host_location                15189 non-null  object \n",
      " 2   host_is_superhost            15189 non-null  bool   \n",
      " 3   host_identity_verified       15189 non-null  bool   \n",
      " 4   host_has_profile_pic         15189 non-null  bool   \n",
      " 5   neighbourhood                15189 non-null  object \n",
      " 6   latitude                     15189 non-null  float64\n",
      " 7   longitude                    15189 non-null  float64\n",
      " 8   room_type                    15189 non-null  object \n",
      " 9   accommodates                 15189 non-null  int64  \n",
      " 10  bathrooms                    15189 non-null  float64\n",
      " 11  bedrooms                     15189 non-null  float64\n",
      " 12  beds                         15189 non-null  float64\n",
      " 13  price                        15189 non-null  float64\n",
      " 14  minimum_nights               15189 non-null  float64\n",
      " 15  maximum_nights               15189 non-null  float64\n",
      " 16  has_availability             15189 non-null  bool   \n",
      " 17  availability_30              15189 non-null  int64  \n",
      " 18  availability_60              15189 non-null  int64  \n",
      " 19  number_of_reviews            15189 non-null  int64  \n",
      " 20  last_review                  15189 non-null  float64\n",
      " 21  review_scores_rating         15189 non-null  float64\n",
      " 22  review_scores_cleanliness    15189 non-null  float64\n",
      " 23  review_scores_checkin        15189 non-null  float64\n",
      " 24  review_scores_communication  15189 non-null  float64\n",
      " 25  review_scores_location       15189 non-null  float64\n",
      " 26  review_scores_value          15189 non-null  float64\n",
      " 27  reviews_per_month            15189 non-null  float64\n",
      " 28  instant_bookable             15189 non-null  bool   \n",
      " 29  bathroom_type                15189 non-null  int64  \n",
      " 30  has_license                  15189 non-null  bool   \n",
      " 31  has_terrace                  15189 non-null  bool   \n",
      " 32  has_wifi                     15189 non-null  bool   \n",
      " 33  pet_allowed                  15189 non-null  bool   \n",
      " 34  has_AC                       15189 non-null  bool   \n",
      " 35  has_kitchen                  15189 non-null  bool   \n",
      "dtypes: bool(11), float64(16), int64(6), object(3)\n",
      "memory usage: 3.2+ MB\n"
     ]
    }
   ],
   "source": [
    "df2.info()"
   ]
  },
  {
   "cell_type": "markdown",
   "id": "72ea24a2-a3f6-4fb6-bd8c-3e5ba22679f7",
   "metadata": {},
   "source": [
    "## Shape df2"
   ]
  },
  {
   "cell_type": "code",
   "execution_count": 218,
   "id": "7bece2f3-ad77-4814-96f0-fbe9d6da5e3a",
   "metadata": {
    "tags": []
   },
   "outputs": [
    {
     "data": {
      "text/plain": [
       "(15189, 36)"
      ]
     },
     "execution_count": 218,
     "metadata": {},
     "output_type": "execute_result"
    }
   ],
   "source": [
    "df2.shape"
   ]
  },
  {
   "cell_type": "markdown",
   "id": "81da044e-55ce-41e8-a076-ac113abe2db6",
   "metadata": {},
   "source": [
    "## Columnas df2"
   ]
  },
  {
   "cell_type": "code",
   "execution_count": 219,
   "id": "90eb04b0-390d-485a-934c-5c05838259a1",
   "metadata": {
    "tags": []
   },
   "outputs": [
    {
     "data": {
      "text/plain": [
       "[(0, 'host_since'),\n",
       " (1, 'host_location'),\n",
       " (2, 'host_is_superhost'),\n",
       " (3, 'host_identity_verified'),\n",
       " (4, 'host_has_profile_pic'),\n",
       " (5, 'neighbourhood'),\n",
       " (6, 'latitude'),\n",
       " (7, 'longitude'),\n",
       " (8, 'room_type'),\n",
       " (9, 'accommodates'),\n",
       " (10, 'bathrooms'),\n",
       " (11, 'bedrooms'),\n",
       " (12, 'beds'),\n",
       " (13, 'price'),\n",
       " (14, 'minimum_nights'),\n",
       " (15, 'maximum_nights'),\n",
       " (16, 'has_availability'),\n",
       " (17, 'availability_30'),\n",
       " (18, 'availability_60'),\n",
       " (19, 'number_of_reviews'),\n",
       " (20, 'last_review'),\n",
       " (21, 'review_scores_rating'),\n",
       " (22, 'review_scores_cleanliness'),\n",
       " (23, 'review_scores_checkin'),\n",
       " (24, 'review_scores_communication'),\n",
       " (25, 'review_scores_location'),\n",
       " (26, 'review_scores_value'),\n",
       " (27, 'reviews_per_month'),\n",
       " (28, 'instant_bookable'),\n",
       " (29, 'bathroom_type'),\n",
       " (30, 'has_license'),\n",
       " (31, 'has_terrace'),\n",
       " (32, 'has_wifi'),\n",
       " (33, 'pet_allowed'),\n",
       " (34, 'has_AC'),\n",
       " (35, 'has_kitchen')]"
      ]
     },
     "execution_count": 219,
     "metadata": {},
     "output_type": "execute_result"
    }
   ],
   "source": [
    "list(enumerate(df2.columns))"
   ]
  },
  {
   "cell_type": "markdown",
   "id": "d8dae645-ecc5-48a2-b3d8-c0238baa2c59",
   "metadata": {},
   "source": [
    "# Distribucion variable objetivo ('price')"
   ]
  },
  {
   "cell_type": "code",
   "execution_count": 220,
   "id": "b91a1b9f-111e-4f4e-9cba-eaca7ee7c5bb",
   "metadata": {
    "tags": []
   },
   "outputs": [
    {
     "name": "stderr",
     "output_type": "stream",
     "text": [
      "/opt/anaconda3/lib/python3.11/site-packages/seaborn/_oldcore.py:1119: FutureWarning: use_inf_as_na option is deprecated and will be removed in a future version. Convert inf values to NaN before operating instead.\n",
      "  with pd.option_context('mode.use_inf_as_na', True):\n"
     ]
    },
    {
     "data": {
      "image/png": "[encoded data removed]",
      "text/plain": [
       "<Figure size 1000x600 with 1 Axes>"
      ]
     },
     "metadata": {},
     "output_type": "display_data"
    }
   ],
   "source": [
    "plt.figure(figsize=(10, 6))\n",
    "sns.histplot(df2['price'], bins=50, kde=True)\n",
    "plt.title('Distribución de precios por noche')\n",
    "plt.show()"
   ]
  },
  {
   "cell_type": "markdown",
   "id": "6aff5a8e-63a9-4533-aa48-6000ad129ff4",
   "metadata": {},
   "source": [
    "Este gráfico muestra una distribución de precios sesgada hacia la izquierda, donde la mayoría de los precios se concentran en valores bajos, probablemente por debajo de los 1000. Esto sugiere que la mayoría de las propiedades analizadas tienen precios accesibles, lo que podría apuntar a una oferta abundante de opciones económicas. Sin embargo, también se observa una larga cola que se extiende hacia valores altos, indicando la existencia de algunos precios significativamente más elevados que el promedio, posiblemente representando propiedades de lujo. La distribución asimétrica refleja que los precios altos son raros, mientras que los bajos son mucho más comunes, lo que podría indicar un mercado dominado por la accesibilidad con algunas excepciones de mayor costo."
   ]
  },
  {
   "cell_type": "markdown",
   "id": "6dea12ea-252e-4bf9-9378-37eacc836df1",
   "metadata": {},
   "source": [
    "# Relación de las variables categóricas con 'price'"
   ]
  },
  {
   "cell_type": "markdown",
   "id": "12b88e00-de51-4b75-8f52-91b252d7c680",
   "metadata": {},
   "source": [
    "## 'neighbourhood'"
   ]
  },
  {
   "cell_type": "code",
   "execution_count": 221,
   "id": "9fd14e73-a446-4e6b-9580-96fc08e7a4fa",
   "metadata": {
    "tags": []
   },
   "outputs": [
    {
     "data": {
      "text/plain": [
       "(array([0, 1, 2, 3, 4, 5, 6, 7, 8, 9]),\n",
       " [Text(0, 0, 'eixample'),\n",
       "  Text(1, 0, 'ciutat_vella'),\n",
       "  Text(2, 0, 'sant_marti'),\n",
       "  Text(3, 0, 'gracia'),\n",
       "  Text(4, 0, 'sarria_sant_gervasi'),\n",
       "  Text(5, 0, 'sants_montjuic'),\n",
       "  Text(6, 0, 'les_corts'),\n",
       "  Text(7, 0, 'horta_guinardo'),\n",
       "  Text(8, 0, 'sant_andreu'),\n",
       "  Text(9, 0, 'nou_barris')])"
      ]
     },
     "execution_count": 221,
     "metadata": {},
     "output_type": "execute_result"
    },
    {
     "data": {
      "image/png": "[encoded data removed]",
      "text/plain": [
       "<Figure size 640x480 with 1 Axes>"
      ]
     },
     "metadata": {},
     "output_type": "display_data"
    }
   ],
   "source": [
    "sns.boxplot(x='neighbourhood', y='price', data=df2)\n",
    "plt.xticks(rotation=45)"
   ]
  },
  {
   "cell_type": "markdown",
   "id": "242c4b24-24ea-409d-bd29-f5e1e1bdaecb",
   "metadata": {},
   "source": [
    "Este gráfico muestra la distribución de precios por diferentes barrios, con una gran concentración de precios bajos en la mayoría de los vecindarios. Sin embargo, hay algunos valores atípicos que destacan con precios significativamente más altos, especialmente en los barrios como Eixample y Ciutat Vella, donde se observan los precios más extremos, llegando hasta los 14,000. Estos barrios parecen tener una mayor variabilidad de precios en comparación con otros como Nou Barris o Sant Andreu, que tienen precios más consistentes y menos dispersos. Esto podría indicar que áreas como Eixample y Ciutat Vella tienen una mayor oferta de propiedades de lujo, mientras que en barrios más periféricos, los precios tienden a ser más estables y accesibles."
   ]
  },
  {
   "cell_type": "markdown",
   "id": "d2732d8e-8c63-467d-9e26-2210e25add42",
   "metadata": {},
   "source": [
    "## 'host_location'"
   ]
  },
  {
   "cell_type": "code",
   "execution_count": 222,
   "id": "427c7412-442a-48ef-afa8-4a6046716831",
   "metadata": {
    "tags": []
   },
   "outputs": [
    {
     "data": {
      "text/plain": [
       "(array([0, 1, 2]),\n",
       " [Text(0, 0, 'spain'), Text(1, 0, 'no_info'), Text(2, 0, 'other')])"
      ]
     },
     "execution_count": 222,
     "metadata": {},
     "output_type": "execute_result"
    },
    {
     "data": {
      "image/png": "[encoded data removed]",
      "text/plain": [
       "<Figure size 640x480 with 1 Axes>"
      ]
     },
     "metadata": {},
     "output_type": "display_data"
    }
   ],
   "source": [
    "sns.boxplot(x='host_location', y='price', data=df2)\n",
    "plt.xticks(rotation=45)"
   ]
  },
  {
   "cell_type": "markdown",
   "id": "6b645523-4c63-48db-a2a6-bebae28c97d7",
   "metadata": {},
   "source": [
    "Este gráfico muestra la relación entre la ubicación del anfitrión y los precios de los alojamientos. Algunos patrones observados:\n",
    "\n",
    "España (Spain): Los anfitriones ubicados en España presentan una mayor dispersión de precios, con varios valores atípicos que alcanzan hasta los 14,000. Esto sugiere que los anfitriones locales pueden tener una mayor oferta de propiedades de lujo o con precios más altos.\n",
    "\n",
    "Sin información (no_info): Los precios de los anfitriones sin ubicación clara tienen menos variabilidad en comparación con los anfitriones en España, aunque todavía hay algunos precios altos que superan los 4,000.\n",
    "\n",
    "Fuera de España (no_spain): Los anfitriones ubicados fuera de España parecen tener los precios más bajos y más consistentes, con menos valores extremos, lo que sugiere una oferta de alojamientos más accesibles.\n",
    "\n",
    "En general, los anfitriones en España tienden a ofrecer una mayor variedad de precios, incluyendo opciones más caras, en comparación con los de fuera del país o sin información."
   ]
  },
  {
   "cell_type": "markdown",
   "id": "cbfc1479-1e20-4236-ba5e-cd7df4dab9aa",
   "metadata": {},
   "source": [
    "## 'room_type'"
   ]
  },
  {
   "cell_type": "code",
   "execution_count": 223,
   "id": "96a86fe2-7b76-48ce-8973-6eec8bb2e361",
   "metadata": {
    "tags": []
   },
   "outputs": [
    {
     "data": {
      "text/plain": [
       "(array([0, 1, 2, 3]),\n",
       " [Text(0, 0, 'entire_home_apt'),\n",
       "  Text(1, 0, 'private_room'),\n",
       "  Text(2, 0, 'hotel_room'),\n",
       "  Text(3, 0, 'shared_room')])"
      ]
     },
     "execution_count": 223,
     "metadata": {},
     "output_type": "execute_result"
    },
    {
     "data": {
      "image/png": "[encoded data removed]",
      "text/plain": [
       "<Figure size 640x480 with 1 Axes>"
      ]
     },
     "metadata": {},
     "output_type": "display_data"
    }
   ],
   "source": [
    "sns.boxplot(x='room_type', y='price', data=df2)\n",
    "plt.xticks(rotation=45)"
   ]
  },
  {
   "cell_type": "markdown",
   "id": "7ec1bccb-3b8a-41a9-ba07-66f7fc44a63e",
   "metadata": {},
   "source": [
    "El gráfico muestra un boxplot de precios segmentados por tipo de alojamiento (room_type). Las categorías incluyen: entire_home_apt, private_room, hotel_room, y shared_room.\n",
    "\n",
    "Variabilidad y precio máximo: La categoría entire_home_apt tiene la mayor variabilidad en precios y presenta varios outliers que superan los 10,000 unidades monetarias, lo que indica la posibilidad de propiedades de lujo o exclusivas.\n",
    "\n",
    "Precios moderados: Las otras categorías (private_room, hotel_room, shared_room) tienen precios significativamente más bajos y menos dispersión. Aunque hay algunos outliers, estos son mucho menos extremos comparados con los de entire_home_apt.\n",
    "\n",
    "Comparación general: En términos generales, entire_home_apt tiende a ser más costoso, mientras que las otras opciones ofrecen alojamientos más asequibles.\n",
    "\n",
    "Conclusión: entire_home_apt es la opción más cara y variable, posiblemente reflejando una mayor diversidad en las propiedades y servicios ofrecidos. Las otras categorías son más consistentes y accesibles en precio."
   ]
  },
  {
   "cell_type": "markdown",
   "id": "af8b751f-56c4-4b24-9bfd-9089a793ac6a",
   "metadata": {},
   "source": [
    "# Convertir variables categóricas a variables dummy"
   ]
  },
  {
   "cell_type": "code",
   "execution_count": 224,
   "id": "e3810a0d-df87-4fbb-b7de-3a8af270e0fd",
   "metadata": {
    "tags": []
   },
   "outputs": [],
   "source": [
    "df2 = pd.get_dummies(\n",
    "    df2, \n",
    "    columns=['neighbourhood', 'host_location', 'room_type'], \n",
    "    drop_first=True\n",
    ")"
   ]
  },
  {
   "cell_type": "code",
   "execution_count": 225,
   "id": "390b7433-da7c-4593-9c94-bdd551bf36a6",
   "metadata": {
    "tags": []
   },
   "outputs": [
    {
     "name": "stdout",
     "output_type": "stream",
     "text": [
      "<class 'pandas.core.frame.DataFrame'>\n",
      "Index: 15189 entries, 0 to 18924\n",
      "Data columns (total 47 columns):\n",
      " #   Column                             Non-Null Count  Dtype  \n",
      "---  ------                             --------------  -----  \n",
      " 0   host_since                         15189 non-null  int64  \n",
      " 1   host_is_superhost                  15189 non-null  bool   \n",
      " 2   host_identity_verified             15189 non-null  bool   \n",
      " 3   host_has_profile_pic               15189 non-null  bool   \n",
      " 4   latitude                           15189 non-null  float64\n",
      " 5   longitude                          15189 non-null  float64\n",
      " 6   accommodates                       15189 non-null  int64  \n",
      " 7   bathrooms                          15189 non-null  float64\n",
      " 8   bedrooms                           15189 non-null  float64\n",
      " 9   beds                               15189 non-null  float64\n",
      " 10  price                              15189 non-null  float64\n",
      " 11  minimum_nights                     15189 non-null  float64\n",
      " 12  maximum_nights                     15189 non-null  float64\n",
      " 13  has_availability                   15189 non-null  bool   \n",
      " 14  availability_30                    15189 non-null  int64  \n",
      " 15  availability_60                    15189 non-null  int64  \n",
      " 16  number_of_reviews                  15189 non-null  int64  \n",
      " 17  last_review                        15189 non-null  float64\n",
      " 18  review_scores_rating               15189 non-null  float64\n",
      " 19  review_scores_cleanliness          15189 non-null  float64\n",
      " 20  review_scores_checkin              15189 non-null  float64\n",
      " 21  review_scores_communication        15189 non-null  float64\n",
      " 22  review_scores_location             15189 non-null  float64\n",
      " 23  review_scores_value                15189 non-null  float64\n",
      " 24  reviews_per_month                  15189 non-null  float64\n",
      " 25  instant_bookable                   15189 non-null  bool   \n",
      " 26  bathroom_type                      15189 non-null  int64  \n",
      " 27  has_license                        15189 non-null  bool   \n",
      " 28  has_terrace                        15189 non-null  bool   \n",
      " 29  has_wifi                           15189 non-null  bool   \n",
      " 30  pet_allowed                        15189 non-null  bool   \n",
      " 31  has_AC                             15189 non-null  bool   \n",
      " 32  has_kitchen                        15189 non-null  bool   \n",
      " 33  neighbourhood_eixample             15189 non-null  bool   \n",
      " 34  neighbourhood_gracia               15189 non-null  bool   \n",
      " 35  neighbourhood_horta_guinardo       15189 non-null  bool   \n",
      " 36  neighbourhood_les_corts            15189 non-null  bool   \n",
      " 37  neighbourhood_nou_barris           15189 non-null  bool   \n",
      " 38  neighbourhood_sant_andreu          15189 non-null  bool   \n",
      " 39  neighbourhood_sant_marti           15189 non-null  bool   \n",
      " 40  neighbourhood_sants_montjuic       15189 non-null  bool   \n",
      " 41  neighbourhood_sarria_sant_gervasi  15189 non-null  bool   \n",
      " 42  host_location_other                15189 non-null  bool   \n",
      " 43  host_location_spain                15189 non-null  bool   \n",
      " 44  room_type_hotel_room               15189 non-null  bool   \n",
      " 45  room_type_private_room             15189 non-null  bool   \n",
      " 46  room_type_shared_room              15189 non-null  bool   \n",
      "dtypes: bool(25), float64(16), int64(6)\n",
      "memory usage: 3.0 MB\n"
     ]
    }
   ],
   "source": [
    "df2.info()"
   ]
  },
  {
   "cell_type": "markdown",
   "id": "45c18898-32bb-45ac-89d0-9607eb445c82",
   "metadata": {},
   "source": [
    "# Matriz de Correlacion"
   ]
  },
  {
   "cell_type": "code",
   "execution_count": 226,
   "id": "6e98f5e1-70d2-4306-841e-62f3c57d74db",
   "metadata": {
    "tags": []
   },
   "outputs": [
    {
     "data": {
      "image/png": "[encoded data removed]",
      "text/plain": [
       "<Figure size 1000x800 with 2 Axes>"
      ]
     },
     "metadata": {},
     "output_type": "display_data"
    }
   ],
   "source": [
    "# Matriz de correlación para las variables numéricas\n",
    "correlacion = df2.corr()\n",
    "\n",
    "plt.figure(figsize=(10, 8))\n",
    "sns.heatmap(correlacion, annot=True, cmap='coolwarm')\n",
    "plt.title('Matriz de correlación')\n",
    "plt.show()"
   ]
  },
  {
   "cell_type": "code",
   "execution_count": 240,
   "id": "2b6f5572-c589-48cf-a65d-66c13c115612",
   "metadata": {
    "tags": []
   },
   "outputs": [
    {
     "data": {
      "text/plain": [
       "host_since                           0.080338\n",
       "host_is_superhost                    0.022703\n",
       "host_identity_verified              -0.017460\n",
       "host_has_profile_pic                 0.015827\n",
       "latitude                            -0.026736\n",
       "longitude                           -0.001039\n",
       "accommodates                         0.406440\n",
       "bathrooms                            0.299193\n",
       "bedrooms                             0.296159\n",
       "beds                                 0.306178\n",
       "price                                1.000000\n",
       "minimum_nights                      -0.203179\n",
       "maximum_nights                       0.060680\n",
       "has_availability                     0.010551\n",
       "availability_30                      0.099842\n",
       "availability_60                      0.085193\n",
       "number_of_reviews                    0.066694\n",
       "last_review                         -0.012650\n",
       "review_scores_rating                 0.018213\n",
       "review_scores_cleanliness            0.044430\n",
       "review_scores_checkin                0.004252\n",
       "review_scores_communication          0.018429\n",
       "review_scores_location               0.038847\n",
       "review_scores_value                  0.025752\n",
       "reviews_per_month                    0.019012\n",
       "instant_bookable                     0.102667\n",
       "bathroom_type                        0.154463\n",
       "has_license                          0.175095\n",
       "has_terrace                          0.052076\n",
       "has_wifi                             0.005922\n",
       "pet_allowed                          0.027938\n",
       "has_AC                               0.114250\n",
       "has_kitchen                          0.013612\n",
       "neighbourhood_eixample               0.098832\n",
       "neighbourhood_gracia                -0.002070\n",
       "neighbourhood_horta_guinardo        -0.039902\n",
       "neighbourhood_les_corts             -0.018071\n",
       "neighbourhood_nou_barris            -0.036139\n",
       "neighbourhood_sant_andreu           -0.039718\n",
       "neighbourhood_sant_marti            -0.002951\n",
       "neighbourhood_sants_montjuic        -0.007995\n",
       "neighbourhood_sarria_sant_gervasi   -0.023537\n",
       "host_location_other                 -0.037233\n",
       "host_location_spain                  0.023791\n",
       "room_type_hotel_room                 0.015107\n",
       "room_type_private_room              -0.210663\n",
       "room_type_shared_room               -0.027025\n",
       "Name: price, dtype: float64"
      ]
     },
     "execution_count": 240,
     "metadata": {},
     "output_type": "execute_result"
    }
   ],
   "source": [
    "correlacion[\"price\"]"
   ]
  },
  {
   "cell_type": "markdown",
   "id": "01ccebca-1ca7-44d2-ab3b-5e6edac3bc1c",
   "metadata": {},
   "source": [
    "# Identificación de variables influyentes"
   ]
  },
  {
   "cell_type": "markdown",
   "id": "7db63b3a-cc53-4b8c-8247-e72555103932",
   "metadata": {},
   "source": [
    "## Division datos X,y"
   ]
  },
  {
   "cell_type": "code",
   "execution_count": 228,
   "id": "b78e443f-4de9-4426-a23c-9e7a650bdb6c",
   "metadata": {
    "tags": []
   },
   "outputs": [],
   "source": [
    "X = df2.drop('price', axis=1)  # Variables predictoras\n",
    "y = df2['price']               # Variable objetivo"
   ]
  },
  {
   "cell_type": "code",
   "execution_count": 229,
   "id": "68b3969a-0e53-4250-a196-cc8c530ad44c",
   "metadata": {
    "tags": []
   },
   "outputs": [],
   "source": [
    "from sklearn.model_selection import train_test_split\n",
    "\n",
    "X_train, X_test, y_train, y_test = train_test_split(X, y, test_size=0.2, random_state=42)"
   ]
  },
  {
   "cell_type": "markdown",
   "id": "2bf93aec-f6f5-48a7-85d1-8775635e66ac",
   "metadata": {},
   "source": [
    "## Generar modelo"
   ]
  },
  {
   "cell_type": "code",
   "execution_count": 230,
   "id": "1437a591-3ac1-44e3-96e5-69d5c4b72ce1",
   "metadata": {
    "tags": []
   },
   "outputs": [
    {
     "name": "stdout",
     "output_type": "stream",
     "text": [
      "Mejores hiperparámetros:  {'max_depth': None, 'min_samples_leaf': 1, 'min_samples_split': 2, 'n_estimators': 100}\n"
     ]
    }
   ],
   "source": [
    "from sklearn.ensemble import RandomForestRegressor\n",
    "from sklearn.model_selection import GridSearchCV\n",
    "\n",
    "# Definir el modelo\n",
    "rf_model = RandomForestRegressor(random_state=42)\n",
    "\n",
    "# Definir la rejilla de hiperparámetros para GridSearch\n",
    "param_grid = {\n",
    "    'n_estimators': [100, 200],\n",
    "    'max_depth': [None, 10],\n",
    "    'min_samples_split': [2],\n",
    "    'min_samples_leaf': [1],\n",
    "}\n",
    "\n",
    "# Búsqueda de los mejores hiperparámetros\n",
    "grid_search = GridSearchCV(estimator=rf_model, param_grid=param_grid, cv=5, n_jobs=-1)\n",
    "grid_search.fit(X_train, y_train)\n",
    "\n",
    "# Resultados\n",
    "print(\"Mejores hiperparámetros: \", grid_search.best_params_)"
   ]
  },
  {
   "cell_type": "markdown",
   "id": "824c9f97-38d6-4356-be34-b8886f060a67",
   "metadata": {},
   "source": [
    "## Entrenar el modelo con los mejores parámetros"
   ]
  },
  {
   "cell_type": "code",
   "execution_count": 231,
   "id": "a66923d6-7cc0-4504-8196-23e6286f9610",
   "metadata": {
    "tags": []
   },
   "outputs": [
    {
     "data": {
      "text/html": [
       "<style>#sk-container-id-1 {color: black;background-color: white;}#sk-container-id-1 pre{padding: 0;}#sk-container-id-1 div.sk-toggleable {background-color: white;}#sk-container-id-1 label.sk-toggleable__label {cursor: pointer;display: block;width: 100%;margin-bottom: 0;padding: 0.3em;box-sizing: border-box;text-align: center;}#sk-container-id-1 label.sk-toggleable__label-arrow:before {content: \"▸\";float: left;margin-right: 0.25em;color: #696969;}#sk-container-id-1 label.sk-toggleable__label-arrow:hover:before {color: black;}#sk-container-id-1 div.sk-estimator:hover label.sk-toggleable__label-arrow:before {color: black;}#sk-container-id-1 div.sk-toggleable__content {max-height: 0;max-width: 0;overflow: hidden;text-align: left;background-color: #f0f8ff;}#sk-container-id-1 div.sk-toggleable__content pre {margin: 0.2em;color: black;border-radius: 0.25em;background-color: #f0f8ff;}#sk-container-id-1 input.sk-toggleable__control:checked~div.sk-toggleable__content {max-height: 200px;max-width: 100%;overflow: auto;}#sk-container-id-1 input.sk-toggleable__control:checked~label.sk-toggleable__label-arrow:before {content: \"▾\";}#sk-container-id-1 div.sk-estimator input.sk-toggleable__control:checked~label.sk-toggleable__label {background-color: #d4ebff;}#sk-container-id-1 div.sk-label input.sk-toggleable__control:checked~label.sk-toggleable__label {background-color: #d4ebff;}#sk-container-id-1 input.sk-hidden--visually {border: 0;clip: rect(1px 1px 1px 1px);clip: rect(1px, 1px, 1px, 1px);height: 1px;margin: -1px;overflow: hidden;padding: 0;position: absolute;width: 1px;}#sk-container-id-1 div.sk-estimator {font-family: monospace;background-color: #f0f8ff;border: 1px dotted black;border-radius: 0.25em;box-sizing: border-box;margin-bottom: 0.5em;}#sk-container-id-1 div.sk-estimator:hover {background-color: #d4ebff;}#sk-container-id-1 div.sk-parallel-item::after {content: \"\";width: 100%;border-bottom: 1px solid gray;flex-grow: 1;}#sk-container-id-1 div.sk-label:hover label.sk-toggleable__label {background-color: #d4ebff;}#sk-container-id-1 div.sk-serial::before {content: \"\";position: absolute;border-left: 1px solid gray;box-sizing: border-box;top: 0;bottom: 0;left: 50%;z-index: 0;}#sk-container-id-1 div.sk-serial {display: flex;flex-direction: column;align-items: center;background-color: white;padding-right: 0.2em;padding-left: 0.2em;position: relative;}#sk-container-id-1 div.sk-item {position: relative;z-index: 1;}#sk-container-id-1 div.sk-parallel {display: flex;align-items: stretch;justify-content: center;background-color: white;position: relative;}#sk-container-id-1 div.sk-item::before, #sk-container-id-1 div.sk-parallel-item::before {content: \"\";position: absolute;border-left: 1px solid gray;box-sizing: border-box;top: 0;bottom: 0;left: 50%;z-index: -1;}#sk-container-id-1 div.sk-parallel-item {display: flex;flex-direction: column;z-index: 1;position: relative;background-color: white;}#sk-container-id-1 div.sk-parallel-item:first-child::after {align-self: flex-end;width: 50%;}#sk-container-id-1 div.sk-parallel-item:last-child::after {align-self: flex-start;width: 50%;}#sk-container-id-1 div.sk-parallel-item:only-child::after {width: 0;}#sk-container-id-1 div.sk-dashed-wrapped {border: 1px dashed gray;margin: 0 0.4em 0.5em 0.4em;box-sizing: border-box;padding-bottom: 0.4em;background-color: white;}#sk-container-id-1 div.sk-label label {font-family: monospace;font-weight: bold;display: inline-block;line-height: 1.2em;}#sk-container-id-1 div.sk-label-container {text-align: center;}#sk-container-id-1 div.sk-container {/* jupyter's `normalize.less` sets `[hidden] { display: none; }` but bootstrap.min.css set `[hidden] { display: none !important; }` so we also need the `!important` here to be able to override the default hidden behavior on the sphinx rendered scikit-learn.org. See: https://github.com/scikit-learn/scikit-learn/issues/21755 */display: inline-block !important;position: relative;}#sk-container-id-1 div.sk-text-repr-fallback {display: none;}</style><div id=\"sk-container-id-1\" class=\"sk-top-container\"><div class=\"sk-text-repr-fallback\"><pre>RandomForestRegressor(random_state=42)</pre><b>In a Jupyter environment, please rerun this cell to show the HTML representation or trust the notebook. <br />On GitHub, the HTML representation is unable to render, please try loading this page with nbviewer.org.</b></div><div class=\"sk-container\" hidden><div class=\"sk-item\"><div class=\"sk-estimator sk-toggleable\"><input class=\"sk-toggleable__control sk-hidden--visually\" id=\"sk-estimator-id-1\" type=\"checkbox\" checked><label for=\"sk-estimator-id-1\" class=\"sk-toggleable__label sk-toggleable__label-arrow\">RandomForestRegressor</label><div class=\"sk-toggleable__content\"><pre>RandomForestRegressor(random_state=42)</pre></div></div></div></div></div>"
      ],
      "text/plain": [
       "RandomForestRegressor(random_state=42)"
      ]
     },
     "execution_count": 231,
     "metadata": {},
     "output_type": "execute_result"
    }
   ],
   "source": [
    "best_rf_model = grid_search.best_estimator_\n",
    "best_rf_model.fit(X_train, y_train)"
   ]
  },
  {
   "cell_type": "markdown",
   "id": "63a35b38-fff4-493e-9b46-fb399f5a5e74",
   "metadata": {},
   "source": [
    "## Evaluación del modelo"
   ]
  },
  {
   "cell_type": "code",
   "execution_count": 233,
   "id": "d8fa45ec-a65c-4ffa-841e-22ea5c205bea",
   "metadata": {
    "tags": []
   },
   "outputs": [
    {
     "name": "stdout",
     "output_type": "stream",
     "text": [
      "MAE: 66.08631029969592\n",
      "RMSE: 237.60041480320717\n",
      "R2 Score: 0.5611545896375385\n"
     ]
    }
   ],
   "source": [
    "from sklearn.metrics import mean_squared_error, mean_absolute_error, r2_score\n",
    "\n",
    "# Predicciones\n",
    "y_pred = best_rf_model.predict(X_test)\n",
    "\n",
    "# Métricas\n",
    "mae = mean_absolute_error(y_test, y_pred)\n",
    "rmse = mean_squared_error(y_test, y_pred, squared=False)\n",
    "r2 = r2_score(y_test, y_pred)\n",
    "\n",
    "print(f\"MAE: {mae}\")\n",
    "print(f\"RMSE: {rmse}\")\n",
    "print(f\"R2 Score: {r2}\")"
   ]
  },
  {
   "cell_type": "code",
   "execution_count": 238,
   "id": "79515338-0cff-496b-8e36-1c745e9dc05c",
   "metadata": {
    "tags": []
   },
   "outputs": [
    {
     "data": {
      "image/png": "[encoded data removed]",
      "text/plain": [
       "<Figure size 1000x600 with 1 Axes>"
      ]
     },
     "metadata": {},
     "output_type": "display_data"
    }
   ],
   "source": [
    "importances = best_rf_model.feature_importances_\n",
    "feature_names = X.columns\n",
    "\n",
    "# Crear un DataFrame con las importancias\n",
    "feature_importances = pd.DataFrame({'variables': feature_names, 'importancia': importances})\n",
    "feature_importances = feature_importances.sort_values(by='importancia', ascending=False)\n",
    "\n",
    "# Visualización de las importancias\n",
    "plt.figure(figsize=(10, 6))\n",
    "sns.barplot(x='importancia', y='variables', data=feature_importances)\n",
    "plt.title('Importancia de las variables en el modelo de Random Forest')\n",
    "plt.show()"
   ]
  },
  {
   "cell_type": "markdown",
   "id": "1e1e180e-8ef7-4338-84d7-b98d8960eb28",
   "metadata": {},
   "source": [
    "## Creacion de DF con las 10 variables mas influyentes."
   ]
  },
  {
   "cell_type": "code",
   "execution_count": 235,
   "id": "ce9212ff-1827-47af-a291-646a7da077ba",
   "metadata": {
    "tags": []
   },
   "outputs": [
    {
     "data": {
      "text/html": [
       "<div>\n",
       "<style scoped>\n",
       "    .dataframe tbody tr th:only-of-type {\n",
       "        vertical-align: middle;\n",
       "    }\n",
       "\n",
       "    .dataframe tbody tr th {\n",
       "        vertical-align: top;\n",
       "    }\n",
       "\n",
       "    .dataframe thead th {\n",
       "        text-align: right;\n",
       "    }\n",
       "</style>\n",
       "<table border=\"1\" class=\"dataframe\">\n",
       "  <thead>\n",
       "    <tr style=\"text-align: right;\">\n",
       "      <th></th>\n",
       "      <th>price</th>\n",
       "      <th>accommodates</th>\n",
       "      <th>latitude</th>\n",
       "      <th>bathrooms</th>\n",
       "      <th>longitude</th>\n",
       "      <th>availability_60</th>\n",
       "      <th>minimum_nights</th>\n",
       "      <th>host_is_superhost</th>\n",
       "      <th>bedrooms</th>\n",
       "      <th>availability_30</th>\n",
       "      <th>review_scores_value</th>\n",
       "    </tr>\n",
       "  </thead>\n",
       "  <tbody>\n",
       "    <tr>\n",
       "      <th>0</th>\n",
       "      <td>176.0</td>\n",
       "      <td>2</td>\n",
       "      <td>41.401810</td>\n",
       "      <td>1.0</td>\n",
       "      <td>2.17610</td>\n",
       "      <td>0</td>\n",
       "      <td>7.0</td>\n",
       "      <td>False</td>\n",
       "      <td>1.0</td>\n",
       "      <td>0</td>\n",
       "      <td>4.67</td>\n",
       "    </tr>\n",
       "    <tr>\n",
       "      <th>1</th>\n",
       "      <td>74.0</td>\n",
       "      <td>6</td>\n",
       "      <td>41.379360</td>\n",
       "      <td>1.5</td>\n",
       "      <td>2.17376</td>\n",
       "      <td>0</td>\n",
       "      <td>32.0</td>\n",
       "      <td>False</td>\n",
       "      <td>4.0</td>\n",
       "      <td>0</td>\n",
       "      <td>4.50</td>\n",
       "    </tr>\n",
       "    <tr>\n",
       "      <th>2</th>\n",
       "      <td>257.0</td>\n",
       "      <td>8</td>\n",
       "      <td>41.405560</td>\n",
       "      <td>2.0</td>\n",
       "      <td>2.17262</td>\n",
       "      <td>36</td>\n",
       "      <td>1.0</td>\n",
       "      <td>False</td>\n",
       "      <td>3.0</td>\n",
       "      <td>10</td>\n",
       "      <td>4.30</td>\n",
       "    </tr>\n",
       "    <tr>\n",
       "      <th>4</th>\n",
       "      <td>249.0</td>\n",
       "      <td>5</td>\n",
       "      <td>41.412432</td>\n",
       "      <td>2.0</td>\n",
       "      <td>2.21975</td>\n",
       "      <td>20</td>\n",
       "      <td>3.0</td>\n",
       "      <td>False</td>\n",
       "      <td>3.0</td>\n",
       "      <td>10</td>\n",
       "      <td>4.64</td>\n",
       "    </tr>\n",
       "    <tr>\n",
       "      <th>5</th>\n",
       "      <td>240.0</td>\n",
       "      <td>6</td>\n",
       "      <td>41.405660</td>\n",
       "      <td>1.5</td>\n",
       "      <td>2.17015</td>\n",
       "      <td>6</td>\n",
       "      <td>1.0</td>\n",
       "      <td>False</td>\n",
       "      <td>2.0</td>\n",
       "      <td>4</td>\n",
       "      <td>4.50</td>\n",
       "    </tr>\n",
       "  </tbody>\n",
       "</table>\n",
       "</div>"
      ],
      "text/plain": [
       "   price  accommodates   latitude  bathrooms  longitude  availability_60  \\\n",
       "0  176.0             2  41.401810        1.0    2.17610                0   \n",
       "1   74.0             6  41.379360        1.5    2.17376                0   \n",
       "2  257.0             8  41.405560        2.0    2.17262               36   \n",
       "4  249.0             5  41.412432        2.0    2.21975               20   \n",
       "5  240.0             6  41.405660        1.5    2.17015                6   \n",
       "\n",
       "   minimum_nights  host_is_superhost  bedrooms  availability_30  \\\n",
       "0             7.0              False       1.0                0   \n",
       "1            32.0              False       4.0                0   \n",
       "2             1.0              False       3.0               10   \n",
       "4             3.0              False       3.0               10   \n",
       "5             1.0              False       2.0                4   \n",
       "\n",
       "   review_scores_value  \n",
       "0                 4.67  \n",
       "1                 4.50  \n",
       "2                 4.30  \n",
       "4                 4.64  \n",
       "5                 4.50  "
      ]
     },
     "execution_count": 235,
     "metadata": {},
     "output_type": "execute_result"
    }
   ],
   "source": [
    "df3 = df2[['price','accommodates', 'latitude', 'bathrooms', 'longitude','availability_60',\n",
    "           'minimum_nights','host_is_superhost','bedrooms','availability_30','review_scores_value']].copy()\n",
    "\n",
    "# Verificar la nueva copia\n",
    "df3.head()"
   ]
  },
  {
   "cell_type": "code",
   "execution_count": null,
   "id": "dc2ad64a-f7b7-4335-97e0-efe97f006c48",
   "metadata": {},
   "outputs": [],
   "source": []
  }
 ],
 "metadata": {
  "kernelspec": {
   "display_name": "Python 3 (ipykernel)",
   "language": "python",
   "name": "python3"
  },
  "language_info": {
   "codemirror_mode": {
    "name": "ipython",
    "version": 3
   },
   "file_extension": ".py",
   "mimetype": "text/x-python",
   "name": "python",
   "nbconvert_exporter": "python",
   "pygments_lexer": "ipython3",
   "version": "3.11.7"
  }
 },
 "nbformat": 4,
 "nbformat_minor": 5
}
