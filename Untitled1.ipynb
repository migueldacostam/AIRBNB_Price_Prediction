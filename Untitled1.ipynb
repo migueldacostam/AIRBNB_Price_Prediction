{
 "cells": [
  {
   "cell_type": "code",
   "execution_count": 1,
   "id": "9013dd39-528a-4e64-922e-0c33bb7b2f61",
   "metadata": {
    "tags": []
   },
   "outputs": [],
   "source": [
    "import pandas as pd\n",
    "import numpy as np\n",
    "import matplotlib.pyplot as plt\n",
    "import statsmodels.formula.api as smf\n",
    "import seaborn as sns"
   ]
  },
  {
   "cell_type": "markdown",
   "id": "1c498b73-43aa-47e8-89a4-f79237abbefb",
   "metadata": {},
   "source": [
    "# Importo la Data"
   ]
  },
  {
   "cell_type": "code",
   "execution_count": 2,
   "id": "31119eec-02ad-4dc9-b13f-a15b92bc795e",
   "metadata": {
    "tags": []
   },
   "outputs": [],
   "source": [
    "df = pd.read_csv(\"ProjectClean2.csv\")"
   ]
  },
  {
   "cell_type": "markdown",
   "id": "cd06c580-2b5a-47cd-8f8f-3aeda1a7debe",
   "metadata": {},
   "source": [
    "## Para evitar redundancia en el modelo, hemos decidido eliminar las columnas latitud y longitud."
   ]
  },
  {
   "cell_type": "code",
   "execution_count": 5,
   "id": "5a9b6f9d-e224-4f94-a392-e6049753f8c3",
   "metadata": {
    "tags": []
   },
   "outputs": [],
   "source": [
    "# Eliminar las columnas 'latitud' y 'longitud' \n",
    "df.drop('latitude', axis=1, inplace=True)\n",
    "df.drop('longitude', axis=1, inplace=True)"
   ]
  },
  {
   "cell_type": "code",
   "execution_count": 7,
   "id": "bf9ac8e3-0d5b-458f-bcb2-9f2a0d84e0e2",
   "metadata": {
    "tags": []
   },
   "outputs": [],
   "source": [
    "from sklearn.model_selection import train_test_split\n",
    "\n",
    "X = df.loc[:, df.columns != \"price\"]\n",
    "y = df.loc[:, \"price\"]"
   ]
  },
  {
   "cell_type": "code",
   "execution_count": 8,
   "id": "1496171e-ac37-4143-96ec-df64e8deb475",
   "metadata": {
    "tags": []
   },
   "outputs": [],
   "source": [
    "X_train, X_test, y_train, y_test = train_test_split(\n",
    "    X, y,\n",
    "    train_size = 0.75,\n",
    "    test_size = 0.25\n",
    ")"
   ]
  },
  {
   "cell_type": "code",
   "execution_count": 9,
   "id": "616121ae-33e1-43c1-8148-1671ee07b99c",
   "metadata": {
    "tags": []
   },
   "outputs": [
    {
     "data": {
      "text/plain": [
       "((11391, 33), (3798, 33))"
      ]
     },
     "execution_count": 9,
     "metadata": {},
     "output_type": "execute_result"
    }
   ],
   "source": [
    "X_train.shape, X_test.shape"
   ]
  },
  {
   "cell_type": "code",
   "execution_count": 10,
   "id": "05d1c861-01e5-4c86-adc8-ddaa7babf5a0",
   "metadata": {
    "tags": []
   },
   "outputs": [
    {
     "data": {
      "text/plain": [
       "((3798,), (11391,))"
      ]
     },
     "execution_count": 10,
     "metadata": {},
     "output_type": "execute_result"
    }
   ],
   "source": [
    "y_test.shape, y_train.shape"
   ]
  },
  {
   "cell_type": "code",
   "execution_count": 23,
   "id": "383f08e0-5cd1-4140-a493-dc7c2de267fa",
   "metadata": {
    "tags": []
   },
   "outputs": [],
   "source": [
    "independent_vars = [\n",
    "    'host_since', 'host_location', 'host_is_superhost',\n",
    "    'host_identity_verified', 'host_has_profile_pic', 'neighbourhood',\n",
    "    'room_type', 'accommodates', 'bathrooms',\n",
    "    'bedrooms', 'beds', 'minimum_nights', 'maximum_nights',\n",
    "    'has_availability', 'availability_30', 'availability_60',\n",
    "    'number_of_reviews', 'last_review', 'review_scores_rating',\n",
    "    'review_scores_cleanliness', 'review_scores_checkin',\n",
    "    'review_scores_communication', 'review_scores_location',\n",
    "    'review_scores_value', 'reviews_per_month', 'instant_bookable',\n",
    "    'bathroom_type', 'has_license', 'has_terrace', 'has_wifi',\n",
    "    'pet_allowed', 'has_AC', 'has_kitchen'\n",
    "]"
   ]
  },
  {
   "cell_type": "code",
   "execution_count": 24,
   "id": "22d6b316-1996-4842-89bd-16d0d12305f4",
   "metadata": {
    "tags": []
   },
   "outputs": [],
   "source": [
    "#Creo el modelo\n",
    "modelo = smf.ols(\n",
    "    formula = 'price ~ ' + ' + '.join(independent_vars),\n",
    "    data = df\n",
    ").fit()\n",
    "\n",
    "p_valores = modelo.pvalues\n",
    "variables_significativas = p_valores<0.05"
   ]
  },
  {
   "cell_type": "code",
   "execution_count": 25,
   "id": "258b053f-a572-4c56-a3f7-131bdb3eec91",
   "metadata": {
    "tags": []
   },
   "outputs": [
    {
     "data": {
      "text/plain": [
       "Intercept                                1.336092e-03\n",
       "host_location[T.other]                   1.969965e-03\n",
       "host_location[T.spain]                   1.008554e-03\n",
       "neighbourhood[T.horta_guinardo]          1.806823e-02\n",
       "neighbourhood[T.les_corts]               9.775952e-04\n",
       "neighbourhood[T.sant_andreu]             2.780279e-03\n",
       "neighbourhood[T.sarria_sant_gervasi]     7.787784e-05\n",
       "room_type[T.private_room]                1.365762e-07\n",
       "room_type[T.shared_room]                 9.514617e-04\n",
       "instant_bookable[T.True]                 4.725528e-05\n",
       "has_license[T.True]                      5.692489e-11\n",
       "pet_allowed[T.True]                      2.161577e-02\n",
       "has_AC[T.True]                           3.696982e-03\n",
       "has_kitchen[T.True]                      5.839830e-06\n",
       "accommodates                             1.650411e-70\n",
       "bathrooms                               1.553889e-130\n",
       "minimum_nights                           2.718831e-29\n",
       "availability_30                          3.178370e-06\n",
       "availability_60                          3.094384e-02\n",
       "last_review                              7.071280e-05\n",
       "review_scores_cleanliness                2.404910e-03\n",
       "dtype: float64"
      ]
     },
     "execution_count": 25,
     "metadata": {},
     "output_type": "execute_result"
    }
   ],
   "source": [
    "variables_significativas = p_valores[p_valores < 0.05]\n",
    "variables_significativas"
   ]
  },
  {
   "cell_type": "code",
   "execution_count": 26,
   "id": "8f3f4a25-663d-43b1-83bc-0018aec2bd70",
   "metadata": {
    "tags": []
   },
   "outputs": [
    {
     "data": {
      "text/plain": [
       "host_is_superhost[T.True]          0.087680\n",
       "host_identity_verified[T.True]     0.953735\n",
       "host_has_profile_pic[T.True]       0.319583\n",
       "neighbourhood[T.eixample]          0.409411\n",
       "neighbourhood[T.gracia]            0.182987\n",
       "neighbourhood[T.nou_barris]        0.299850\n",
       "neighbourhood[T.sant_marti]        0.099752\n",
       "neighbourhood[T.sants_montjuic]    0.707648\n",
       "room_type[T.hotel_room]            0.438115\n",
       "has_availability[T.True]           0.775000\n",
       "has_terrace[T.True]                0.195809\n",
       "has_wifi[T.True]                   0.142826\n",
       "host_since                         0.424264\n",
       "bedrooms                           0.162327\n",
       "beds                               0.628190\n",
       "maximum_nights                     0.576935\n",
       "number_of_reviews                  0.168614\n",
       "review_scores_rating               0.678148\n",
       "review_scores_checkin              0.696127\n",
       "review_scores_communication        0.964076\n",
       "review_scores_location             0.116928\n",
       "review_scores_value                0.755656\n",
       "reviews_per_month                  0.359229\n",
       "bathroom_type                      0.075940\n",
       "dtype: float64"
      ]
     },
     "execution_count": 26,
     "metadata": {},
     "output_type": "execute_result"
    }
   ],
   "source": [
    "variables_no_significativas = p_valores[p_valores >= 0.05]\n",
    "variables_no_significativas"
   ]
  },
  {
   "cell_type": "code",
   "execution_count": null,
   "id": "eddbd8ea-b68c-4457-ac6f-54b58122f275",
   "metadata": {
    "tags": []
   },
   "outputs": [],
   "source": [
    "col_relevantes.index"
   ]
  },
  {
   "cell_type": "code",
   "execution_count": null,
   "id": "3df9d661-e37c-41d9-a499-4e3286752e67",
   "metadata": {
    "tags": []
   },
   "outputs": [],
   "source": [
    "col_relevantes.dtype"
   ]
  },
  {
   "cell_type": "code",
   "execution_count": null,
   "id": "b9539da3-a1cc-44ae-a579-9d70b6d16bf6",
   "metadata": {
    "tags": []
   },
   "outputs": [],
   "source": [
    "columnas = col_relevantes.index"
   ]
  },
  {
   "cell_type": "code",
   "execution_count": null,
   "id": "07a5b439-5470-442a-bc26-e72b46f8c4ca",
   "metadata": {
    "tags": []
   },
   "outputs": [],
   "source": [
    "from sklearn.linear_model import LinearRegression\n",
    "from statsmodels.stats.outliers_influence import variance_inflation_factor"
   ]
  },
  {
   "cell_type": "code",
   "execution_count": null,
   "id": "90161ff2-6fc7-48a6-bef4-cd57ac6a3775",
   "metadata": {
    "tags": []
   },
   "outputs": [],
   "source": [
    "for i in columnas:\n",
    "\n",
    "    x = X_train.loc[:,X_train.columns != i]\n",
    "    y = X_train.loc[:,i]\n",
    "\n",
    "    lm = LinearRegression()\n",
    "    lm.fit(x, y)\n",
    "    r2 = lm.score(x, y)\n",
    "\n",
    "    vif = (1/(1-r2))\n",
    "    vif_acum[i] = vif\n",
    "\n",
    "vif_acum"
   ]
  },
  {
   "cell_type": "code",
   "execution_count": null,
   "id": "38d4ea5c-c502-409d-8ae0-4f52b3a8c7ca",
   "metadata": {
    "tags": []
   },
   "outputs": [],
   "source": [
    "from sklearn.feature_selection import RFE\n",
    "from sklearn.svm import SVR\n",
    "\n",
    "estimator = SVR(kernel=\"linear\")\n",
    "selector = RFE(estimator, n_features_to_select=4) # backward selection (recursivo)\n",
    "selector = selector.fit(X_train,y_train)"
   ]
  },
  {
   "cell_type": "code",
   "execution_count": null,
   "id": "53d7e084-eb49-4f34-bba5-53e1e7390fa2",
   "metadata": {
    "tags": []
   },
   "outputs": [],
   "source": [
    "selector.support_\n",
    "X_train_final = X_train.loc[:,selector.support_]\n",
    "print(X_train_final.columns)\n",
    "lm = LinearRegression()\n",
    "lm.fit(X_train_final, y_train)\n",
    "lm.score(X_test.loc[:,X_train_final.columns], y_test)"
   ]
  },
  {
   "cell_type": "code",
   "execution_count": null,
   "id": "7b2ee4f9-f59a-42de-ac71-65bf867af3b6",
   "metadata": {
    "tags": []
   },
   "outputs": [],
   "source": [
    "X_train_final = X_train.loc[:,['accommodates', 'bedrooms', 'beds', 'minimum_nights','room_type_private_room']]\n",
    "print(X_train_final.columns)\n",
    "lm = LinearRegression()\n",
    "lm.fit(X_train_final, y_train)\n",
    "lm.score(X_test.loc[:,X_train_final.columns], y_test)"
   ]
  },
  {
   "cell_type": "code",
   "execution_count": null,
   "id": "438fa899-4cc1-44a3-8e35-04988fd67ed7",
   "metadata": {},
   "outputs": [],
   "source": []
  }
 ],
 "metadata": {
  "kernelspec": {
   "display_name": "Python 3 (ipykernel)",
   "language": "python",
   "name": "python3"
  },
  "language_info": {
   "codemirror_mode": {
    "name": "ipython",
    "version": 3
   },
   "file_extension": ".py",
   "mimetype": "text/x-python",
   "name": "python",
   "nbconvert_exporter": "python",
   "pygments_lexer": "ipython3",
   "version": "3.11.7"
  }
 },
 "nbformat": 4,
 "nbformat_minor": 5
}
